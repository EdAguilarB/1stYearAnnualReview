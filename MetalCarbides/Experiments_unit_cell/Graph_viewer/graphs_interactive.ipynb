{
 "cells": [
  {
   "cell_type": "code",
   "execution_count": 1,
   "metadata": {},
   "outputs": [],
   "source": [
    "import pandas as pd\n",
    "import numpy as np\n",
    "import torch\n",
    "import os.path as osp\n",
    "import plotly.express as px\n",
    "import plotly.graph_objects as go"
   ]
  },
  {
   "cell_type": "code",
   "execution_count": 2,
   "metadata": {},
   "outputs": [],
   "source": [
    "path = '../Data/coords_direction/processed'\n",
    "file = '152'\n",
    "max_n = 26\n",
    "max_d = 3.2"
   ]
  },
  {
   "cell_type": "code",
   "execution_count": 3,
   "metadata": {},
   "outputs": [],
   "source": [
    "graph = torch.load(osp.join(path, f'processed_{file}_mn_{max_n}_md_{max_d}.pt'))"
   ]
  },
  {
   "cell_type": "code",
   "execution_count": 4,
   "metadata": {},
   "outputs": [
    {
     "data": {
      "text/html": [
       "<div>\n",
       "<style scoped>\n",
       "    .dataframe tbody tr th:only-of-type {\n",
       "        vertical-align: middle;\n",
       "    }\n",
       "\n",
       "    .dataframe tbody tr th {\n",
       "        vertical-align: top;\n",
       "    }\n",
       "\n",
       "    .dataframe thead th {\n",
       "        text-align: right;\n",
       "    }\n",
       "</style>\n",
       "<table border=\"1\" class=\"dataframe\">\n",
       "  <thead>\n",
       "    <tr style=\"text-align: right;\">\n",
       "      <th></th>\n",
       "      <th>Mo</th>\n",
       "      <th>C</th>\n",
       "      <th>x</th>\n",
       "      <th>y</th>\n",
       "      <th>z</th>\n",
       "      <th>Atom</th>\n",
       "      <th>Num.Atom</th>\n",
       "    </tr>\n",
       "  </thead>\n",
       "  <tbody>\n",
       "    <tr>\n",
       "      <th>0</th>\n",
       "      <td>1.0</td>\n",
       "      <td>0.0</td>\n",
       "      <td>-0.000893</td>\n",
       "      <td>0.004587</td>\n",
       "      <td>-0.001516</td>\n",
       "      <td>Mo</td>\n",
       "      <td>0</td>\n",
       "    </tr>\n",
       "    <tr>\n",
       "      <th>1</th>\n",
       "      <td>1.0</td>\n",
       "      <td>0.0</td>\n",
       "      <td>-0.001854</td>\n",
       "      <td>-0.005215</td>\n",
       "      <td>4.285536</td>\n",
       "      <td>Mo</td>\n",
       "      <td>1</td>\n",
       "    </tr>\n",
       "    <tr>\n",
       "      <th>2</th>\n",
       "      <td>1.0</td>\n",
       "      <td>0.0</td>\n",
       "      <td>0.000893</td>\n",
       "      <td>4.265413</td>\n",
       "      <td>0.001516</td>\n",
       "      <td>Mo</td>\n",
       "      <td>2</td>\n",
       "    </tr>\n",
       "    <tr>\n",
       "      <th>3</th>\n",
       "      <td>1.0</td>\n",
       "      <td>0.0</td>\n",
       "      <td>0.001854</td>\n",
       "      <td>4.275215</td>\n",
       "      <td>4.254464</td>\n",
       "      <td>Mo</td>\n",
       "      <td>3</td>\n",
       "    </tr>\n",
       "    <tr>\n",
       "      <th>4</th>\n",
       "      <td>1.0</td>\n",
       "      <td>0.0</td>\n",
       "      <td>4.269418</td>\n",
       "      <td>-0.043738</td>\n",
       "      <td>-0.008808</td>\n",
       "      <td>Mo</td>\n",
       "      <td>4</td>\n",
       "    </tr>\n",
       "  </tbody>\n",
       "</table>\n",
       "</div>"
      ],
      "text/plain": [
       "    Mo    C         x         y         z Atom  Num.Atom\n",
       "0  1.0  0.0 -0.000893  0.004587 -0.001516   Mo         0\n",
       "1  1.0  0.0 -0.001854 -0.005215  4.285536   Mo         1\n",
       "2  1.0  0.0  0.000893  4.265413  0.001516   Mo         2\n",
       "3  1.0  0.0  0.001854  4.275215  4.254464   Mo         3\n",
       "4  1.0  0.0  4.269418 -0.043738 -0.008808   Mo         4"
      ]
     },
     "execution_count": 4,
     "metadata": {},
     "output_type": "execute_result"
    }
   ],
   "source": [
    "data = pd.DataFrame(graph.x, columns=['Mo', 'C', 'x', 'y', 'z'])\n",
    "data['Atom'] = np.where(data['Mo'] == 1, 'Mo', 'C')\n",
    "data['Num.Atom'] = data.index\n",
    "data.head()"
   ]
  },
  {
   "cell_type": "code",
   "execution_count": 5,
   "metadata": {},
   "outputs": [],
   "source": [
    "Mo = data.loc[data['Mo'] == 1]\n",
    "C = data.loc[data['Mo'] != 1]"
   ]
  },
  {
   "cell_type": "code",
   "execution_count": 6,
   "metadata": {},
   "outputs": [],
   "source": [
    "row = graph.edge_index[0]\n",
    "col = graph.edge_index[1]"
   ]
  },
  {
   "cell_type": "code",
   "execution_count": 7,
   "metadata": {},
   "outputs": [
    {
     "data": {
      "application/vnd.plotly.v1+json": {
       "config": {
        "plotlyServerURL": "https://plot.ly"
       },
       "data": [
        {
         "marker": {
          "color": "rgb(128, 128, 128)",
          "size": 15
         },
         "mode": "markers",
         "name": "Mo",
         "text": [
          0,
          1,
          2,
          3,
          4,
          5,
          6,
          7,
          8,
          9,
          10,
          11,
          12,
          13,
          14,
          15,
          16,
          17,
          18,
          19,
          20,
          21,
          22,
          23,
          24,
          25,
          26,
          27,
          28,
          29,
          30,
          31
         ],
         "type": "scatter3d",
         "x": [
          -0.00089258,
          -0.00185382,
          0.00089258,
          0.00185382,
          4.26941769,
          4.26946594,
          4.27058231,
          4.27053406,
          -0.03052547,
          0.03052547,
          -0.04148446,
          0.04148446,
          4.29973149,
          4.24026851,
          4.31443713,
          4.22556287,
          2.20374438,
          2.18709054,
          2.19952367,
          2.17885181,
          6.36114819,
          6.34047633,
          6.35290946,
          6.33625562,
          2.12264875,
          2.14112601,
          2.16167677,
          2.12225487,
          6.41735125,
          6.39887399,
          6.37832323,
          6.41774512
         ],
         "y": [
          0.00458667,
          -0.00521454,
          4.26541333,
          4.27521454,
          -0.04373791,
          0.04133225,
          4.31373791,
          4.22866775,
          2.17474091,
          2.09525909,
          6.36177301,
          6.44822699,
          2.15239231,
          2.11760769,
          6.37110187,
          6.43889813,
          -0.00507179,
          0.0423479,
          4.27961057,
          4.23667188,
          0.03332811,
          -0.00961057,
          4.22765209,
          4.27507179,
          2.1341565,
          2.12511092,
          6.40726539,
          6.41029029,
          2.1358435,
          2.14488908,
          6.40273461,
          6.39970971
         ],
         "z": [
          -0.00151635,
          4.28553627,
          0.00151635,
          4.25446373,
          -0.00880816,
          4.26898936,
          0.00880816,
          4.27101064,
          2.13694045,
          6.40305955,
          2.19740262,
          6.34259738,
          2.11375889,
          6.42624111,
          2.08292722,
          6.45707278,
          2.13060935,
          6.40700415,
          2.13144282,
          6.40381311,
          2.13618689,
          6.40855719,
          2.13299585,
          6.40939065,
          -0.01657353,
          4.2711933,
          -0.00695689,
          4.27519452,
          0.01657353,
          4.2688067,
          0.00695689,
          4.26480548
         ]
        },
        {
         "marker": {
          "color": "blue",
          "size": 5
         },
         "mode": "markers",
         "name": "C",
         "text": [
          32,
          33,
          34,
          35,
          36,
          37,
          38,
          39,
          40,
          41,
          42,
          43,
          44,
          45,
          46,
          47
         ],
         "type": "scatter3d",
         "x": [
          2.17763286,
          2.15615506,
          2.18030649,
          2.1595698,
          6.35969351,
          6.3804302,
          6.36236714,
          6.38384494,
          0,
          0,
          0,
          4.27,
          -0.01130404,
          0.01130404,
          2.17340202,
          6.36659798
         ],
         "y": [
          0.01391451,
          -0.01884033,
          4.25471285,
          4.28300414,
          0.01528715,
          -0.01300414,
          4.25608549,
          4.28884033,
          2.135,
          2.135,
          6.405,
          2.135,
          0.0002729,
          4.2697271,
          6.39176383,
          6.41823617
         ],
         "z": [
          -0.02179081,
          4.29354207,
          0.00032304,
          4.27151083,
          -0.00032304,
          4.26848918,
          0.02179081,
          4.24645793,
          0,
          4.27,
          0,
          4.27,
          2.14818918,
          6.39181082,
          2.14320723,
          6.39679277
         ]
        },
        {
         "line": {
          "color": "black",
          "width": 1
         },
         "mode": "lines",
         "name": "atom0-atom8",
         "text": "tensor(0.)",
         "type": "scatter3d",
         "x": [
          -0.00089258,
          -0.03052547
         ],
         "y": [
          0.00458667,
          2.17474091
         ],
         "z": [
          -0.00151635,
          2.13694045
         ]
        },
        {
         "line": {
          "color": "black",
          "width": 1
         },
         "mode": "lines",
         "name": "atom0-atom16",
         "text": "tensor(0.)",
         "type": "scatter3d",
         "x": [
          -0.00089258,
          2.20374438
         ],
         "y": [
          0.00458667,
          -0.00507179
         ],
         "z": [
          -0.00151635,
          2.13060935
         ]
        },
        {
         "line": {
          "color": "black",
          "width": 1
         },
         "mode": "lines",
         "name": "atom0-atom24",
         "text": "tensor(0.)",
         "type": "scatter3d",
         "x": [
          -0.00089258,
          2.12264875
         ],
         "y": [
          0.00458667,
          2.1341565
         ],
         "z": [
          -0.00151635,
          -0.01657353
         ]
        },
        {
         "line": {
          "color": "black",
          "width": 1
         },
         "mode": "lines",
         "name": "atom0-atom32",
         "text": "tensor(0.)",
         "type": "scatter3d",
         "x": [
          -0.00089258,
          2.17763286
         ],
         "y": [
          0.00458667,
          0.01391451
         ],
         "z": [
          -0.00151635,
          -0.02179081
         ]
        },
        {
         "line": {
          "color": "black",
          "width": 1
         },
         "mode": "lines",
         "name": "atom0-atom40",
         "text": "tensor(0.)",
         "type": "scatter3d",
         "x": [
          -0.00089258,
          0
         ],
         "y": [
          0.00458667,
          2.135
         ],
         "z": [
          -0.00151635,
          0
         ]
        },
        {
         "line": {
          "color": "black",
          "width": 1
         },
         "mode": "lines",
         "name": "atom0-atom44",
         "text": "tensor(0.)",
         "type": "scatter3d",
         "x": [
          -0.00089258,
          -0.01130404
         ],
         "y": [
          0.00458667,
          0.0002729
         ],
         "z": [
          -0.00151635,
          2.14818918
         ]
        },
        {
         "line": {
          "color": "black",
          "width": 1
         },
         "mode": "lines",
         "name": "atom1-atom8",
         "text": "tensor(0.)",
         "type": "scatter3d",
         "x": [
          -0.00185382,
          -0.03052547
         ],
         "y": [
          -0.00521454,
          2.17474091
         ],
         "z": [
          4.28553627,
          2.13694045
         ]
        },
        {
         "line": {
          "color": "black",
          "width": 1
         },
         "mode": "lines",
         "name": "atom1-atom9",
         "text": "tensor(0.)",
         "type": "scatter3d",
         "x": [
          -0.00185382,
          0.03052547
         ],
         "y": [
          -0.00521454,
          2.09525909
         ],
         "z": [
          4.28553627,
          6.40305955
         ]
        },
        {
         "line": {
          "color": "black",
          "width": 1
         },
         "mode": "lines",
         "name": "atom1-atom16",
         "text": "tensor(0.)",
         "type": "scatter3d",
         "x": [
          -0.00185382,
          2.20374438
         ],
         "y": [
          -0.00521454,
          -0.00507179
         ],
         "z": [
          4.28553627,
          2.13060935
         ]
        },
        {
         "line": {
          "color": "black",
          "width": 1
         },
         "mode": "lines",
         "name": "atom1-atom17",
         "text": "tensor(0.)",
         "type": "scatter3d",
         "x": [
          -0.00185382,
          2.18709054
         ],
         "y": [
          -0.00521454,
          0.0423479
         ],
         "z": [
          4.28553627,
          6.40700415
         ]
        },
        {
         "line": {
          "color": "black",
          "width": 1
         },
         "mode": "lines",
         "name": "atom1-atom25",
         "text": "tensor(0.)",
         "type": "scatter3d",
         "x": [
          -0.00185382,
          2.14112601
         ],
         "y": [
          -0.00521454,
          2.12511092
         ],
         "z": [
          4.28553627,
          4.2711933
         ]
        },
        {
         "line": {
          "color": "black",
          "width": 1
         },
         "mode": "lines",
         "name": "atom1-atom33",
         "text": "tensor(0.)",
         "type": "scatter3d",
         "x": [
          -0.00185382,
          2.15615506
         ],
         "y": [
          -0.00521454,
          -0.01884033
         ],
         "z": [
          4.28553627,
          4.29354207
         ]
        },
        {
         "line": {
          "color": "black",
          "width": 1
         },
         "mode": "lines",
         "name": "atom1-atom41",
         "text": "tensor(0.)",
         "type": "scatter3d",
         "x": [
          -0.00185382,
          0
         ],
         "y": [
          -0.00521454,
          2.135
         ],
         "z": [
          4.28553627,
          4.27
         ]
        },
        {
         "line": {
          "color": "black",
          "width": 1
         },
         "mode": "lines",
         "name": "atom1-atom44",
         "text": "tensor(0.)",
         "type": "scatter3d",
         "x": [
          -0.00185382,
          -0.01130404
         ],
         "y": [
          -0.00521454,
          0.0002729
         ],
         "z": [
          4.28553627,
          2.14818918
         ]
        },
        {
         "line": {
          "color": "black",
          "width": 1
         },
         "mode": "lines",
         "name": "atom2-atom8",
         "text": "tensor(0.)",
         "type": "scatter3d",
         "x": [
          0.00089258,
          -0.03052547
         ],
         "y": [
          4.26541333,
          2.17474091
         ],
         "z": [
          0.00151635,
          2.13694045
         ]
        },
        {
         "line": {
          "color": "black",
          "width": 1
         },
         "mode": "lines",
         "name": "atom2-atom10",
         "text": "tensor(0.)",
         "type": "scatter3d",
         "x": [
          0.00089258,
          -0.04148446
         ],
         "y": [
          4.26541333,
          6.36177301
         ],
         "z": [
          0.00151635,
          2.19740262
         ]
        },
        {
         "line": {
          "color": "black",
          "width": 1
         },
         "mode": "lines",
         "name": "atom2-atom18",
         "text": "tensor(0.)",
         "type": "scatter3d",
         "x": [
          0.00089258,
          2.19952367
         ],
         "y": [
          4.26541333,
          4.27961057
         ],
         "z": [
          0.00151635,
          2.13144282
         ]
        },
        {
         "line": {
          "color": "black",
          "width": 1
         },
         "mode": "lines",
         "name": "atom2-atom24",
         "text": "tensor(0.)",
         "type": "scatter3d",
         "x": [
          0.00089258,
          2.12264875
         ],
         "y": [
          4.26541333,
          2.1341565
         ],
         "z": [
          0.00151635,
          -0.01657353
         ]
        },
        {
         "line": {
          "color": "black",
          "width": 1
         },
         "mode": "lines",
         "name": "atom2-atom26",
         "text": "tensor(0.)",
         "type": "scatter3d",
         "x": [
          0.00089258,
          2.16167677
         ],
         "y": [
          4.26541333,
          6.40726539
         ],
         "z": [
          0.00151635,
          -0.00695689
         ]
        },
        {
         "line": {
          "color": "black",
          "width": 1
         },
         "mode": "lines",
         "name": "atom2-atom34",
         "text": "tensor(0.)",
         "type": "scatter3d",
         "x": [
          0.00089258,
          2.18030649
         ],
         "y": [
          4.26541333,
          4.25471285
         ],
         "z": [
          0.00151635,
          0.00032304
         ]
        },
        {
         "line": {
          "color": "black",
          "width": 1
         },
         "mode": "lines",
         "name": "atom2-atom40",
         "text": "tensor(0.)",
         "type": "scatter3d",
         "x": [
          0.00089258,
          0
         ],
         "y": [
          4.26541333,
          2.135
         ],
         "z": [
          0.00151635,
          0
         ]
        },
        {
         "line": {
          "color": "black",
          "width": 1
         },
         "mode": "lines",
         "name": "atom2-atom42",
         "text": "tensor(0.)",
         "type": "scatter3d",
         "x": [
          0.00089258,
          0
         ],
         "y": [
          4.26541333,
          6.405
         ],
         "z": [
          0.00151635,
          0
         ]
        },
        {
         "line": {
          "color": "black",
          "width": 1
         },
         "mode": "lines",
         "name": "atom3-atom8",
         "text": "tensor(0.)",
         "type": "scatter3d",
         "x": [
          0.00185382,
          -0.03052547
         ],
         "y": [
          4.27521454,
          2.17474091
         ],
         "z": [
          4.25446373,
          2.13694045
         ]
        },
        {
         "line": {
          "color": "black",
          "width": 1
         },
         "mode": "lines",
         "name": "atom3-atom9",
         "text": "tensor(0.)",
         "type": "scatter3d",
         "x": [
          0.00185382,
          0.03052547
         ],
         "y": [
          4.27521454,
          2.09525909
         ],
         "z": [
          4.25446373,
          6.40305955
         ]
        },
        {
         "line": {
          "color": "black",
          "width": 1
         },
         "mode": "lines",
         "name": "atom3-atom10",
         "text": "tensor(0.)",
         "type": "scatter3d",
         "x": [
          0.00185382,
          -0.04148446
         ],
         "y": [
          4.27521454,
          6.36177301
         ],
         "z": [
          4.25446373,
          2.19740262
         ]
        },
        {
         "line": {
          "color": "black",
          "width": 1
         },
         "mode": "lines",
         "name": "atom3-atom11",
         "text": "tensor(0.)",
         "type": "scatter3d",
         "x": [
          0.00185382,
          0.04148446
         ],
         "y": [
          4.27521454,
          6.44822699
         ],
         "z": [
          4.25446373,
          6.34259738
         ]
        },
        {
         "line": {
          "color": "black",
          "width": 1
         },
         "mode": "lines",
         "name": "atom3-atom18",
         "text": "tensor(0.)",
         "type": "scatter3d",
         "x": [
          0.00185382,
          2.19952367
         ],
         "y": [
          4.27521454,
          4.27961057
         ],
         "z": [
          4.25446373,
          2.13144282
         ]
        },
        {
         "line": {
          "color": "black",
          "width": 1
         },
         "mode": "lines",
         "name": "atom3-atom19",
         "text": "tensor(0.)",
         "type": "scatter3d",
         "x": [
          0.00185382,
          2.17885181
         ],
         "y": [
          4.27521454,
          4.23667188
         ],
         "z": [
          4.25446373,
          6.40381311
         ]
        },
        {
         "line": {
          "color": "black",
          "width": 1
         },
         "mode": "lines",
         "name": "atom3-atom25",
         "text": "tensor(0.)",
         "type": "scatter3d",
         "x": [
          0.00185382,
          2.14112601
         ],
         "y": [
          4.27521454,
          2.12511092
         ],
         "z": [
          4.25446373,
          4.2711933
         ]
        },
        {
         "line": {
          "color": "black",
          "width": 1
         },
         "mode": "lines",
         "name": "atom3-atom27",
         "text": "tensor(0.)",
         "type": "scatter3d",
         "x": [
          0.00185382,
          2.12225487
         ],
         "y": [
          4.27521454,
          6.41029029
         ],
         "z": [
          4.25446373,
          4.27519452
         ]
        },
        {
         "line": {
          "color": "black",
          "width": 1
         },
         "mode": "lines",
         "name": "atom3-atom35",
         "text": "tensor(0.)",
         "type": "scatter3d",
         "x": [
          0.00185382,
          2.1595698
         ],
         "y": [
          4.27521454,
          4.28300414
         ],
         "z": [
          4.25446373,
          4.27151083
         ]
        },
        {
         "line": {
          "color": "black",
          "width": 1
         },
         "mode": "lines",
         "name": "atom3-atom41",
         "text": "tensor(0.)",
         "type": "scatter3d",
         "x": [
          0.00185382,
          0
         ],
         "y": [
          4.27521454,
          2.135
         ],
         "z": [
          4.25446373,
          4.27
         ]
        },
        {
         "line": {
          "color": "black",
          "width": 1
         },
         "mode": "lines",
         "name": "atom3-atom45",
         "text": "tensor(0.)",
         "type": "scatter3d",
         "x": [
          0.00185382,
          0.01130404
         ],
         "y": [
          4.27521454,
          4.2697271
         ],
         "z": [
          4.25446373,
          6.39181082
         ]
        },
        {
         "line": {
          "color": "black",
          "width": 1
         },
         "mode": "lines",
         "name": "atom4-atom12",
         "text": "tensor(0.)",
         "type": "scatter3d",
         "x": [
          4.26941769,
          4.29973149
         ],
         "y": [
          -0.04373791,
          2.15239231
         ],
         "z": [
          -0.00880816,
          2.11375889
         ]
        },
        {
         "line": {
          "color": "black",
          "width": 1
         },
         "mode": "lines",
         "name": "atom4-atom16",
         "text": "tensor(0.)",
         "type": "scatter3d",
         "x": [
          4.26941769,
          2.20374438
         ],
         "y": [
          -0.04373791,
          -0.00507179
         ],
         "z": [
          -0.00880816,
          2.13060935
         ]
        },
        {
         "line": {
          "color": "black",
          "width": 1
         },
         "mode": "lines",
         "name": "atom4-atom20",
         "text": "tensor(0.)",
         "type": "scatter3d",
         "x": [
          4.26941769,
          6.36114819
         ],
         "y": [
          -0.04373791,
          0.03332811
         ],
         "z": [
          -0.00880816,
          2.13618689
         ]
        },
        {
         "line": {
          "color": "black",
          "width": 1
         },
         "mode": "lines",
         "name": "atom4-atom24",
         "text": "tensor(0.)",
         "type": "scatter3d",
         "x": [
          4.26941769,
          2.12264875
         ],
         "y": [
          -0.04373791,
          2.1341565
         ],
         "z": [
          -0.00880816,
          -0.01657353
         ]
        },
        {
         "line": {
          "color": "black",
          "width": 1
         },
         "mode": "lines",
         "name": "atom4-atom28",
         "text": "tensor(0.)",
         "type": "scatter3d",
         "x": [
          4.26941769,
          6.41735125
         ],
         "y": [
          -0.04373791,
          2.1358435
         ],
         "z": [
          -0.00880816,
          0.01657353
         ]
        },
        {
         "line": {
          "color": "black",
          "width": 1
         },
         "mode": "lines",
         "name": "atom4-atom32",
         "text": "tensor(0.)",
         "type": "scatter3d",
         "x": [
          4.26941769,
          2.17763286
         ],
         "y": [
          -0.04373791,
          0.01391451
         ],
         "z": [
          -0.00880816,
          -0.02179081
         ]
        },
        {
         "line": {
          "color": "black",
          "width": 1
         },
         "mode": "lines",
         "name": "atom4-atom36",
         "text": "tensor(0.)",
         "type": "scatter3d",
         "x": [
          4.26941769,
          6.35969351
         ],
         "y": [
          -0.04373791,
          0.01528715
         ],
         "z": [
          -0.00880816,
          -0.00032304
         ]
        },
        {
         "line": {
          "color": "black",
          "width": 1
         },
         "mode": "lines",
         "name": "atom5-atom12",
         "text": "tensor(0.)",
         "type": "scatter3d",
         "x": [
          4.26946594,
          4.29973149
         ],
         "y": [
          0.04133225,
          2.15239231
         ],
         "z": [
          4.26898936,
          2.11375889
         ]
        },
        {
         "line": {
          "color": "black",
          "width": 1
         },
         "mode": "lines",
         "name": "atom5-atom13",
         "text": "tensor(0.)",
         "type": "scatter3d",
         "x": [
          4.26946594,
          4.24026851
         ],
         "y": [
          0.04133225,
          2.11760769
         ],
         "z": [
          4.26898936,
          6.42624111
         ]
        },
        {
         "line": {
          "color": "black",
          "width": 1
         },
         "mode": "lines",
         "name": "atom5-atom16",
         "text": "tensor(0.)",
         "type": "scatter3d",
         "x": [
          4.26946594,
          2.20374438
         ],
         "y": [
          0.04133225,
          -0.00507179
         ],
         "z": [
          4.26898936,
          2.13060935
         ]
        },
        {
         "line": {
          "color": "black",
          "width": 1
         },
         "mode": "lines",
         "name": "atom5-atom17",
         "text": "tensor(0.)",
         "type": "scatter3d",
         "x": [
          4.26946594,
          2.18709054
         ],
         "y": [
          0.04133225,
          0.0423479
         ],
         "z": [
          4.26898936,
          6.40700415
         ]
        },
        {
         "line": {
          "color": "black",
          "width": 1
         },
         "mode": "lines",
         "name": "atom5-atom20",
         "text": "tensor(0.)",
         "type": "scatter3d",
         "x": [
          4.26946594,
          6.36114819
         ],
         "y": [
          0.04133225,
          0.03332811
         ],
         "z": [
          4.26898936,
          2.13618689
         ]
        },
        {
         "line": {
          "color": "black",
          "width": 1
         },
         "mode": "lines",
         "name": "atom5-atom21",
         "text": "tensor(0.)",
         "type": "scatter3d",
         "x": [
          4.26946594,
          6.34047633
         ],
         "y": [
          0.04133225,
          -0.00961057
         ],
         "z": [
          4.26898936,
          6.40855719
         ]
        },
        {
         "line": {
          "color": "black",
          "width": 1
         },
         "mode": "lines",
         "name": "atom5-atom25",
         "text": "tensor(0.)",
         "type": "scatter3d",
         "x": [
          4.26946594,
          2.14112601
         ],
         "y": [
          0.04133225,
          2.12511092
         ],
         "z": [
          4.26898936,
          4.2711933
         ]
        },
        {
         "line": {
          "color": "black",
          "width": 1
         },
         "mode": "lines",
         "name": "atom5-atom29",
         "text": "tensor(0.)",
         "type": "scatter3d",
         "x": [
          4.26946594,
          6.39887399
         ],
         "y": [
          0.04133225,
          2.14488908
         ],
         "z": [
          4.26898936,
          4.2688067
         ]
        },
        {
         "line": {
          "color": "black",
          "width": 1
         },
         "mode": "lines",
         "name": "atom5-atom33",
         "text": "tensor(0.)",
         "type": "scatter3d",
         "x": [
          4.26946594,
          2.15615506
         ],
         "y": [
          0.04133225,
          -0.01884033
         ],
         "z": [
          4.26898936,
          4.29354207
         ]
        },
        {
         "line": {
          "color": "black",
          "width": 1
         },
         "mode": "lines",
         "name": "atom5-atom37",
         "text": "tensor(0.)",
         "type": "scatter3d",
         "x": [
          4.26946594,
          6.3804302
         ],
         "y": [
          0.04133225,
          -0.01300414
         ],
         "z": [
          4.26898936,
          4.26848918
         ]
        },
        {
         "line": {
          "color": "black",
          "width": 1
         },
         "mode": "lines",
         "name": "atom5-atom43",
         "text": "tensor(0.)",
         "type": "scatter3d",
         "x": [
          4.26946594,
          4.27
         ],
         "y": [
          0.04133225,
          2.135
         ],
         "z": [
          4.26898936,
          4.27
         ]
        },
        {
         "line": {
          "color": "black",
          "width": 1
         },
         "mode": "lines",
         "name": "atom6-atom12",
         "text": "tensor(0.)",
         "type": "scatter3d",
         "x": [
          4.27058231,
          4.29973149
         ],
         "y": [
          4.31373791,
          2.15239231
         ],
         "z": [
          0.00880816,
          2.11375889
         ]
        },
        {
         "line": {
          "color": "black",
          "width": 1
         },
         "mode": "lines",
         "name": "atom6-atom14",
         "text": "tensor(0.)",
         "type": "scatter3d",
         "x": [
          4.27058231,
          4.31443713
         ],
         "y": [
          4.31373791,
          6.37110187
         ],
         "z": [
          0.00880816,
          2.08292722
         ]
        },
        {
         "line": {
          "color": "black",
          "width": 1
         },
         "mode": "lines",
         "name": "atom6-atom18",
         "text": "tensor(0.)",
         "type": "scatter3d",
         "x": [
          4.27058231,
          2.19952367
         ],
         "y": [
          4.31373791,
          4.27961057
         ],
         "z": [
          0.00880816,
          2.13144282
         ]
        },
        {
         "line": {
          "color": "black",
          "width": 1
         },
         "mode": "lines",
         "name": "atom6-atom22",
         "text": "tensor(0.)",
         "type": "scatter3d",
         "x": [
          4.27058231,
          6.35290946
         ],
         "y": [
          4.31373791,
          4.22765209
         ],
         "z": [
          0.00880816,
          2.13299585
         ]
        },
        {
         "line": {
          "color": "black",
          "width": 1
         },
         "mode": "lines",
         "name": "atom6-atom24",
         "text": "tensor(0.)",
         "type": "scatter3d",
         "x": [
          4.27058231,
          2.12264875
         ],
         "y": [
          4.31373791,
          2.1341565
         ],
         "z": [
          0.00880816,
          -0.01657353
         ]
        },
        {
         "line": {
          "color": "black",
          "width": 1
         },
         "mode": "lines",
         "name": "atom6-atom26",
         "text": "tensor(0.)",
         "type": "scatter3d",
         "x": [
          4.27058231,
          2.16167677
         ],
         "y": [
          4.31373791,
          6.40726539
         ],
         "z": [
          0.00880816,
          -0.00695689
         ]
        },
        {
         "line": {
          "color": "black",
          "width": 1
         },
         "mode": "lines",
         "name": "atom6-atom28",
         "text": "tensor(0.)",
         "type": "scatter3d",
         "x": [
          4.27058231,
          6.41735125
         ],
         "y": [
          4.31373791,
          2.1358435
         ],
         "z": [
          0.00880816,
          0.01657353
         ]
        },
        {
         "line": {
          "color": "black",
          "width": 1
         },
         "mode": "lines",
         "name": "atom6-atom30",
         "text": "tensor(0.)",
         "type": "scatter3d",
         "x": [
          4.27058231,
          6.37832323
         ],
         "y": [
          4.31373791,
          6.40273461
         ],
         "z": [
          0.00880816,
          0.00695689
         ]
        },
        {
         "line": {
          "color": "black",
          "width": 1
         },
         "mode": "lines",
         "name": "atom6-atom34",
         "text": "tensor(0.)",
         "type": "scatter3d",
         "x": [
          4.27058231,
          2.18030649
         ],
         "y": [
          4.31373791,
          4.25471285
         ],
         "z": [
          0.00880816,
          0.00032304
         ]
        },
        {
         "line": {
          "color": "black",
          "width": 1
         },
         "mode": "lines",
         "name": "atom6-atom38",
         "text": "tensor(0.)",
         "type": "scatter3d",
         "x": [
          4.27058231,
          6.36236714
         ],
         "y": [
          4.31373791,
          4.25608549
         ],
         "z": [
          0.00880816,
          0.02179081
         ]
        },
        {
         "line": {
          "color": "black",
          "width": 1
         },
         "mode": "lines",
         "name": "atom7-atom12",
         "text": "tensor(0.)",
         "type": "scatter3d",
         "x": [
          4.27053406,
          4.29973149
         ],
         "y": [
          4.22866775,
          2.15239231
         ],
         "z": [
          4.27101064,
          2.11375889
         ]
        },
        {
         "line": {
          "color": "black",
          "width": 1
         },
         "mode": "lines",
         "name": "atom7-atom13",
         "text": "tensor(0.)",
         "type": "scatter3d",
         "x": [
          4.27053406,
          4.24026851
         ],
         "y": [
          4.22866775,
          2.11760769
         ],
         "z": [
          4.27101064,
          6.42624111
         ]
        },
        {
         "line": {
          "color": "black",
          "width": 1
         },
         "mode": "lines",
         "name": "atom7-atom14",
         "text": "tensor(0.)",
         "type": "scatter3d",
         "x": [
          4.27053406,
          4.31443713
         ],
         "y": [
          4.22866775,
          6.37110187
         ],
         "z": [
          4.27101064,
          2.08292722
         ]
        },
        {
         "line": {
          "color": "black",
          "width": 1
         },
         "mode": "lines",
         "name": "atom7-atom15",
         "text": "tensor(0.)",
         "type": "scatter3d",
         "x": [
          4.27053406,
          4.22556287
         ],
         "y": [
          4.22866775,
          6.43889813
         ],
         "z": [
          4.27101064,
          6.45707278
         ]
        },
        {
         "line": {
          "color": "black",
          "width": 1
         },
         "mode": "lines",
         "name": "atom7-atom18",
         "text": "tensor(0.)",
         "type": "scatter3d",
         "x": [
          4.27053406,
          2.19952367
         ],
         "y": [
          4.22866775,
          4.27961057
         ],
         "z": [
          4.27101064,
          2.13144282
         ]
        },
        {
         "line": {
          "color": "black",
          "width": 1
         },
         "mode": "lines",
         "name": "atom7-atom19",
         "text": "tensor(0.)",
         "type": "scatter3d",
         "x": [
          4.27053406,
          2.17885181
         ],
         "y": [
          4.22866775,
          4.23667188
         ],
         "z": [
          4.27101064,
          6.40381311
         ]
        },
        {
         "line": {
          "color": "black",
          "width": 1
         },
         "mode": "lines",
         "name": "atom7-atom22",
         "text": "tensor(0.)",
         "type": "scatter3d",
         "x": [
          4.27053406,
          6.35290946
         ],
         "y": [
          4.22866775,
          4.22765209
         ],
         "z": [
          4.27101064,
          2.13299585
         ]
        },
        {
         "line": {
          "color": "black",
          "width": 1
         },
         "mode": "lines",
         "name": "atom7-atom23",
         "text": "tensor(0.)",
         "type": "scatter3d",
         "x": [
          4.27053406,
          6.33625562
         ],
         "y": [
          4.22866775,
          4.27507179
         ],
         "z": [
          4.27101064,
          6.40939065
         ]
        },
        {
         "line": {
          "color": "black",
          "width": 1
         },
         "mode": "lines",
         "name": "atom7-atom25",
         "text": "tensor(0.)",
         "type": "scatter3d",
         "x": [
          4.27053406,
          2.14112601
         ],
         "y": [
          4.22866775,
          2.12511092
         ],
         "z": [
          4.27101064,
          4.2711933
         ]
        },
        {
         "line": {
          "color": "black",
          "width": 1
         },
         "mode": "lines",
         "name": "atom7-atom27",
         "text": "tensor(0.)",
         "type": "scatter3d",
         "x": [
          4.27053406,
          2.12225487
         ],
         "y": [
          4.22866775,
          6.41029029
         ],
         "z": [
          4.27101064,
          4.27519452
         ]
        },
        {
         "line": {
          "color": "black",
          "width": 1
         },
         "mode": "lines",
         "name": "atom7-atom29",
         "text": "tensor(0.)",
         "type": "scatter3d",
         "x": [
          4.27053406,
          6.39887399
         ],
         "y": [
          4.22866775,
          2.14488908
         ],
         "z": [
          4.27101064,
          4.2688067
         ]
        },
        {
         "line": {
          "color": "black",
          "width": 1
         },
         "mode": "lines",
         "name": "atom7-atom31",
         "text": "tensor(0.)",
         "type": "scatter3d",
         "x": [
          4.27053406,
          6.41774512
         ],
         "y": [
          4.22866775,
          6.39970971
         ],
         "z": [
          4.27101064,
          4.26480548
         ]
        },
        {
         "line": {
          "color": "black",
          "width": 1
         },
         "mode": "lines",
         "name": "atom7-atom35",
         "text": "tensor(0.)",
         "type": "scatter3d",
         "x": [
          4.27053406,
          2.1595698
         ],
         "y": [
          4.22866775,
          4.28300414
         ],
         "z": [
          4.27101064,
          4.27151083
         ]
        },
        {
         "line": {
          "color": "black",
          "width": 1
         },
         "mode": "lines",
         "name": "atom7-atom39",
         "text": "tensor(0.)",
         "type": "scatter3d",
         "x": [
          4.27053406,
          6.38384494
         ],
         "y": [
          4.22866775,
          4.28884033
         ],
         "z": [
          4.27101064,
          4.24645793
         ]
        },
        {
         "line": {
          "color": "black",
          "width": 1
         },
         "mode": "lines",
         "name": "atom7-atom43",
         "text": "tensor(0.)",
         "type": "scatter3d",
         "x": [
          4.27053406,
          4.27
         ],
         "y": [
          4.22866775,
          2.135
         ],
         "z": [
          4.27101064,
          4.27
         ]
        },
        {
         "line": {
          "color": "black",
          "width": 1
         },
         "mode": "lines",
         "name": "atom8-atom0",
         "text": "tensor(0.)",
         "type": "scatter3d",
         "x": [
          -0.03052547,
          -0.00089258
         ],
         "y": [
          2.17474091,
          0.00458667
         ],
         "z": [
          2.13694045,
          -0.00151635
         ]
        },
        {
         "line": {
          "color": "black",
          "width": 1
         },
         "mode": "lines",
         "name": "atom8-atom1",
         "text": "tensor(0.)",
         "type": "scatter3d",
         "x": [
          -0.03052547,
          -0.00185382
         ],
         "y": [
          2.17474091,
          -0.00521454
         ],
         "z": [
          2.13694045,
          4.28553627
         ]
        },
        {
         "line": {
          "color": "black",
          "width": 1
         },
         "mode": "lines",
         "name": "atom8-atom2",
         "text": "tensor(0.)",
         "type": "scatter3d",
         "x": [
          -0.03052547,
          0.00089258
         ],
         "y": [
          2.17474091,
          4.26541333
         ],
         "z": [
          2.13694045,
          0.00151635
         ]
        },
        {
         "line": {
          "color": "black",
          "width": 1
         },
         "mode": "lines",
         "name": "atom8-atom3",
         "text": "tensor(0.)",
         "type": "scatter3d",
         "x": [
          -0.03052547,
          0.00185382
         ],
         "y": [
          2.17474091,
          4.27521454
         ],
         "z": [
          2.13694045,
          4.25446373
         ]
        },
        {
         "line": {
          "color": "black",
          "width": 1
         },
         "mode": "lines",
         "name": "atom8-atom16",
         "text": "tensor(0.)",
         "type": "scatter3d",
         "x": [
          -0.03052547,
          2.20374438
         ],
         "y": [
          2.17474091,
          -0.00507179
         ],
         "z": [
          2.13694045,
          2.13060935
         ]
        },
        {
         "line": {
          "color": "black",
          "width": 1
         },
         "mode": "lines",
         "name": "atom8-atom18",
         "text": "tensor(0.)",
         "type": "scatter3d",
         "x": [
          -0.03052547,
          2.19952367
         ],
         "y": [
          2.17474091,
          4.27961057
         ],
         "z": [
          2.13694045,
          2.13144282
         ]
        },
        {
         "line": {
          "color": "black",
          "width": 1
         },
         "mode": "lines",
         "name": "atom8-atom24",
         "text": "tensor(0.)",
         "type": "scatter3d",
         "x": [
          -0.03052547,
          2.12264875
         ],
         "y": [
          2.17474091,
          2.1341565
         ],
         "z": [
          2.13694045,
          -0.01657353
         ]
        },
        {
         "line": {
          "color": "black",
          "width": 1
         },
         "mode": "lines",
         "name": "atom8-atom25",
         "text": "tensor(0.)",
         "type": "scatter3d",
         "x": [
          -0.03052547,
          2.14112601
         ],
         "y": [
          2.17474091,
          2.12511092
         ],
         "z": [
          2.13694045,
          4.2711933
         ]
        },
        {
         "line": {
          "color": "black",
          "width": 1
         },
         "mode": "lines",
         "name": "atom8-atom40",
         "text": "tensor(0.)",
         "type": "scatter3d",
         "x": [
          -0.03052547,
          0
         ],
         "y": [
          2.17474091,
          2.135
         ],
         "z": [
          2.13694045,
          0
         ]
        },
        {
         "line": {
          "color": "black",
          "width": 1
         },
         "mode": "lines",
         "name": "atom8-atom41",
         "text": "tensor(0.)",
         "type": "scatter3d",
         "x": [
          -0.03052547,
          0
         ],
         "y": [
          2.17474091,
          2.135
         ],
         "z": [
          2.13694045,
          4.27
         ]
        },
        {
         "line": {
          "color": "black",
          "width": 1
         },
         "mode": "lines",
         "name": "atom8-atom44",
         "text": "tensor(0.)",
         "type": "scatter3d",
         "x": [
          -0.03052547,
          -0.01130404
         ],
         "y": [
          2.17474091,
          0.0002729
         ],
         "z": [
          2.13694045,
          2.14818918
         ]
        },
        {
         "line": {
          "color": "black",
          "width": 1
         },
         "mode": "lines",
         "name": "atom9-atom1",
         "text": "tensor(0.)",
         "type": "scatter3d",
         "x": [
          0.03052547,
          -0.00185382
         ],
         "y": [
          2.09525909,
          -0.00521454
         ],
         "z": [
          6.40305955,
          4.28553627
         ]
        },
        {
         "line": {
          "color": "black",
          "width": 1
         },
         "mode": "lines",
         "name": "atom9-atom3",
         "text": "tensor(0.)",
         "type": "scatter3d",
         "x": [
          0.03052547,
          0.00185382
         ],
         "y": [
          2.09525909,
          4.27521454
         ],
         "z": [
          6.40305955,
          4.25446373
         ]
        },
        {
         "line": {
          "color": "black",
          "width": 1
         },
         "mode": "lines",
         "name": "atom9-atom17",
         "text": "tensor(0.)",
         "type": "scatter3d",
         "x": [
          0.03052547,
          2.18709054
         ],
         "y": [
          2.09525909,
          0.0423479
         ],
         "z": [
          6.40305955,
          6.40700415
         ]
        },
        {
         "line": {
          "color": "black",
          "width": 1
         },
         "mode": "lines",
         "name": "atom9-atom19",
         "text": "tensor(0.)",
         "type": "scatter3d",
         "x": [
          0.03052547,
          2.17885181
         ],
         "y": [
          2.09525909,
          4.23667188
         ],
         "z": [
          6.40305955,
          6.40381311
         ]
        },
        {
         "line": {
          "color": "black",
          "width": 1
         },
         "mode": "lines",
         "name": "atom9-atom25",
         "text": "tensor(0.)",
         "type": "scatter3d",
         "x": [
          0.03052547,
          2.14112601
         ],
         "y": [
          2.09525909,
          2.12511092
         ],
         "z": [
          6.40305955,
          4.2711933
         ]
        },
        {
         "line": {
          "color": "black",
          "width": 1
         },
         "mode": "lines",
         "name": "atom9-atom41",
         "text": "tensor(0.)",
         "type": "scatter3d",
         "x": [
          0.03052547,
          0
         ],
         "y": [
          2.09525909,
          2.135
         ],
         "z": [
          6.40305955,
          4.27
         ]
        },
        {
         "line": {
          "color": "black",
          "width": 1
         },
         "mode": "lines",
         "name": "atom9-atom45",
         "text": "tensor(0.)",
         "type": "scatter3d",
         "x": [
          0.03052547,
          0.01130404
         ],
         "y": [
          2.09525909,
          4.2697271
         ],
         "z": [
          6.40305955,
          6.39181082
         ]
        },
        {
         "line": {
          "color": "black",
          "width": 1
         },
         "mode": "lines",
         "name": "atom10-atom2",
         "text": "tensor(0.)",
         "type": "scatter3d",
         "x": [
          -0.04148446,
          0.00089258
         ],
         "y": [
          6.36177301,
          4.26541333
         ],
         "z": [
          2.19740262,
          0.00151635
         ]
        },
        {
         "line": {
          "color": "black",
          "width": 1
         },
         "mode": "lines",
         "name": "atom10-atom3",
         "text": "tensor(0.)",
         "type": "scatter3d",
         "x": [
          -0.04148446,
          0.00185382
         ],
         "y": [
          6.36177301,
          4.27521454
         ],
         "z": [
          2.19740262,
          4.25446373
         ]
        },
        {
         "line": {
          "color": "black",
          "width": 1
         },
         "mode": "lines",
         "name": "atom10-atom18",
         "text": "tensor(0.)",
         "type": "scatter3d",
         "x": [
          -0.04148446,
          2.19952367
         ],
         "y": [
          6.36177301,
          4.27961057
         ],
         "z": [
          2.19740262,
          2.13144282
         ]
        },
        {
         "line": {
          "color": "black",
          "width": 1
         },
         "mode": "lines",
         "name": "atom10-atom26",
         "text": "tensor(0.)",
         "type": "scatter3d",
         "x": [
          -0.04148446,
          2.16167677
         ],
         "y": [
          6.36177301,
          6.40726539
         ],
         "z": [
          2.19740262,
          -0.00695689
         ]
        },
        {
         "line": {
          "color": "black",
          "width": 1
         },
         "mode": "lines",
         "name": "atom10-atom27",
         "text": "tensor(0.)",
         "type": "scatter3d",
         "x": [
          -0.04148446,
          2.12225487
         ],
         "y": [
          6.36177301,
          6.41029029
         ],
         "z": [
          2.19740262,
          4.27519452
         ]
        },
        {
         "line": {
          "color": "black",
          "width": 1
         },
         "mode": "lines",
         "name": "atom10-atom42",
         "text": "tensor(0.)",
         "type": "scatter3d",
         "x": [
          -0.04148446,
          0
         ],
         "y": [
          6.36177301,
          6.405
         ],
         "z": [
          2.19740262,
          0
         ]
        },
        {
         "line": {
          "color": "black",
          "width": 1
         },
         "mode": "lines",
         "name": "atom10-atom46",
         "text": "tensor(0.)",
         "type": "scatter3d",
         "x": [
          -0.04148446,
          2.17340202
         ],
         "y": [
          6.36177301,
          6.39176383
         ],
         "z": [
          2.19740262,
          2.14320723
         ]
        },
        {
         "line": {
          "color": "black",
          "width": 1
         },
         "mode": "lines",
         "name": "atom11-atom3",
         "text": "tensor(0.)",
         "type": "scatter3d",
         "x": [
          0.04148446,
          0.00185382
         ],
         "y": [
          6.44822699,
          4.27521454
         ],
         "z": [
          6.34259738,
          4.25446373
         ]
        },
        {
         "line": {
          "color": "black",
          "width": 1
         },
         "mode": "lines",
         "name": "atom11-atom19",
         "text": "tensor(0.)",
         "type": "scatter3d",
         "x": [
          0.04148446,
          2.17885181
         ],
         "y": [
          6.44822699,
          4.23667188
         ],
         "z": [
          6.34259738,
          6.40381311
         ]
        },
        {
         "line": {
          "color": "black",
          "width": 1
         },
         "mode": "lines",
         "name": "atom11-atom27",
         "text": "tensor(0.)",
         "type": "scatter3d",
         "x": [
          0.04148446,
          2.12225487
         ],
         "y": [
          6.44822699,
          6.41029029
         ],
         "z": [
          6.34259738,
          4.27519452
         ]
        },
        {
         "line": {
          "color": "black",
          "width": 1
         },
         "mode": "lines",
         "name": "atom11-atom45",
         "text": "tensor(0.)",
         "type": "scatter3d",
         "x": [
          0.04148446,
          0.01130404
         ],
         "y": [
          6.44822699,
          4.2697271
         ],
         "z": [
          6.34259738,
          6.39181082
         ]
        },
        {
         "line": {
          "color": "black",
          "width": 1
         },
         "mode": "lines",
         "name": "atom12-atom4",
         "text": "tensor(0.)",
         "type": "scatter3d",
         "x": [
          4.29973149,
          4.26941769
         ],
         "y": [
          2.15239231,
          -0.04373791
         ],
         "z": [
          2.11375889,
          -0.00880816
         ]
        },
        {
         "line": {
          "color": "black",
          "width": 1
         },
         "mode": "lines",
         "name": "atom12-atom5",
         "text": "tensor(0.)",
         "type": "scatter3d",
         "x": [
          4.29973149,
          4.26946594
         ],
         "y": [
          2.15239231,
          0.04133225
         ],
         "z": [
          2.11375889,
          4.26898936
         ]
        },
        {
         "line": {
          "color": "black",
          "width": 1
         },
         "mode": "lines",
         "name": "atom12-atom6",
         "text": "tensor(0.)",
         "type": "scatter3d",
         "x": [
          4.29973149,
          4.27058231
         ],
         "y": [
          2.15239231,
          4.31373791
         ],
         "z": [
          2.11375889,
          0.00880816
         ]
        },
        {
         "line": {
          "color": "black",
          "width": 1
         },
         "mode": "lines",
         "name": "atom12-atom7",
         "text": "tensor(0.)",
         "type": "scatter3d",
         "x": [
          4.29973149,
          4.27053406
         ],
         "y": [
          2.15239231,
          4.22866775
         ],
         "z": [
          2.11375889,
          4.27101064
         ]
        },
        {
         "line": {
          "color": "black",
          "width": 1
         },
         "mode": "lines",
         "name": "atom12-atom16",
         "text": "tensor(0.)",
         "type": "scatter3d",
         "x": [
          4.29973149,
          2.20374438
         ],
         "y": [
          2.15239231,
          -0.00507179
         ],
         "z": [
          2.11375889,
          2.13060935
         ]
        },
        {
         "line": {
          "color": "black",
          "width": 1
         },
         "mode": "lines",
         "name": "atom12-atom18",
         "text": "tensor(0.)",
         "type": "scatter3d",
         "x": [
          4.29973149,
          2.19952367
         ],
         "y": [
          2.15239231,
          4.27961057
         ],
         "z": [
          2.11375889,
          2.13144282
         ]
        },
        {
         "line": {
          "color": "black",
          "width": 1
         },
         "mode": "lines",
         "name": "atom12-atom20",
         "text": "tensor(0.)",
         "type": "scatter3d",
         "x": [
          4.29973149,
          6.36114819
         ],
         "y": [
          2.15239231,
          0.03332811
         ],
         "z": [
          2.11375889,
          2.13618689
         ]
        },
        {
         "line": {
          "color": "black",
          "width": 1
         },
         "mode": "lines",
         "name": "atom12-atom22",
         "text": "tensor(0.)",
         "type": "scatter3d",
         "x": [
          4.29973149,
          6.35290946
         ],
         "y": [
          2.15239231,
          4.22765209
         ],
         "z": [
          2.11375889,
          2.13299585
         ]
        },
        {
         "line": {
          "color": "black",
          "width": 1
         },
         "mode": "lines",
         "name": "atom12-atom24",
         "text": "tensor(0.)",
         "type": "scatter3d",
         "x": [
          4.29973149,
          2.12264875
         ],
         "y": [
          2.15239231,
          2.1341565
         ],
         "z": [
          2.11375889,
          -0.01657353
         ]
        },
        {
         "line": {
          "color": "black",
          "width": 1
         },
         "mode": "lines",
         "name": "atom12-atom25",
         "text": "tensor(0.)",
         "type": "scatter3d",
         "x": [
          4.29973149,
          2.14112601
         ],
         "y": [
          2.15239231,
          2.12511092
         ],
         "z": [
          2.11375889,
          4.2711933
         ]
        },
        {
         "line": {
          "color": "black",
          "width": 1
         },
         "mode": "lines",
         "name": "atom12-atom28",
         "text": "tensor(0.)",
         "type": "scatter3d",
         "x": [
          4.29973149,
          6.41735125
         ],
         "y": [
          2.15239231,
          2.1358435
         ],
         "z": [
          2.11375889,
          0.01657353
         ]
        },
        {
         "line": {
          "color": "black",
          "width": 1
         },
         "mode": "lines",
         "name": "atom12-atom29",
         "text": "tensor(0.)",
         "type": "scatter3d",
         "x": [
          4.29973149,
          6.39887399
         ],
         "y": [
          2.15239231,
          2.14488908
         ],
         "z": [
          2.11375889,
          4.2688067
         ]
        },
        {
         "line": {
          "color": "black",
          "width": 1
         },
         "mode": "lines",
         "name": "atom12-atom43",
         "text": "tensor(0.)",
         "type": "scatter3d",
         "x": [
          4.29973149,
          4.27
         ],
         "y": [
          2.15239231,
          2.135
         ],
         "z": [
          2.11375889,
          4.27
         ]
        },
        {
         "line": {
          "color": "black",
          "width": 1
         },
         "mode": "lines",
         "name": "atom13-atom5",
         "text": "tensor(0.)",
         "type": "scatter3d",
         "x": [
          4.24026851,
          4.26946594
         ],
         "y": [
          2.11760769,
          0.04133225
         ],
         "z": [
          6.42624111,
          4.26898936
         ]
        },
        {
         "line": {
          "color": "black",
          "width": 1
         },
         "mode": "lines",
         "name": "atom13-atom7",
         "text": "tensor(0.)",
         "type": "scatter3d",
         "x": [
          4.24026851,
          4.27053406
         ],
         "y": [
          2.11760769,
          4.22866775
         ],
         "z": [
          6.42624111,
          4.27101064
         ]
        },
        {
         "line": {
          "color": "black",
          "width": 1
         },
         "mode": "lines",
         "name": "atom13-atom17",
         "text": "tensor(0.)",
         "type": "scatter3d",
         "x": [
          4.24026851,
          2.18709054
         ],
         "y": [
          2.11760769,
          0.0423479
         ],
         "z": [
          6.42624111,
          6.40700415
         ]
        },
        {
         "line": {
          "color": "black",
          "width": 1
         },
         "mode": "lines",
         "name": "atom13-atom19",
         "text": "tensor(0.)",
         "type": "scatter3d",
         "x": [
          4.24026851,
          2.17885181
         ],
         "y": [
          2.11760769,
          4.23667188
         ],
         "z": [
          6.42624111,
          6.40381311
         ]
        },
        {
         "line": {
          "color": "black",
          "width": 1
         },
         "mode": "lines",
         "name": "atom13-atom21",
         "text": "tensor(0.)",
         "type": "scatter3d",
         "x": [
          4.24026851,
          6.34047633
         ],
         "y": [
          2.11760769,
          -0.00961057
         ],
         "z": [
          6.42624111,
          6.40855719
         ]
        },
        {
         "line": {
          "color": "black",
          "width": 1
         },
         "mode": "lines",
         "name": "atom13-atom23",
         "text": "tensor(0.)",
         "type": "scatter3d",
         "x": [
          4.24026851,
          6.33625562
         ],
         "y": [
          2.11760769,
          4.27507179
         ],
         "z": [
          6.42624111,
          6.40939065
         ]
        },
        {
         "line": {
          "color": "black",
          "width": 1
         },
         "mode": "lines",
         "name": "atom13-atom25",
         "text": "tensor(0.)",
         "type": "scatter3d",
         "x": [
          4.24026851,
          2.14112601
         ],
         "y": [
          2.11760769,
          2.12511092
         ],
         "z": [
          6.42624111,
          4.2711933
         ]
        },
        {
         "line": {
          "color": "black",
          "width": 1
         },
         "mode": "lines",
         "name": "atom13-atom29",
         "text": "tensor(0.)",
         "type": "scatter3d",
         "x": [
          4.24026851,
          6.39887399
         ],
         "y": [
          2.11760769,
          2.14488908
         ],
         "z": [
          6.42624111,
          4.2688067
         ]
        },
        {
         "line": {
          "color": "black",
          "width": 1
         },
         "mode": "lines",
         "name": "atom13-atom43",
         "text": "tensor(0.)",
         "type": "scatter3d",
         "x": [
          4.24026851,
          4.27
         ],
         "y": [
          2.11760769,
          2.135
         ],
         "z": [
          6.42624111,
          4.27
         ]
        },
        {
         "line": {
          "color": "black",
          "width": 1
         },
         "mode": "lines",
         "name": "atom14-atom6",
         "text": "tensor(0.)",
         "type": "scatter3d",
         "x": [
          4.31443713,
          4.27058231
         ],
         "y": [
          6.37110187,
          4.31373791
         ],
         "z": [
          2.08292722,
          0.00880816
         ]
        },
        {
         "line": {
          "color": "black",
          "width": 1
         },
         "mode": "lines",
         "name": "atom14-atom7",
         "text": "tensor(0.)",
         "type": "scatter3d",
         "x": [
          4.31443713,
          4.27053406
         ],
         "y": [
          6.37110187,
          4.22866775
         ],
         "z": [
          2.08292722,
          4.27101064
         ]
        },
        {
         "line": {
          "color": "black",
          "width": 1
         },
         "mode": "lines",
         "name": "atom14-atom18",
         "text": "tensor(0.)",
         "type": "scatter3d",
         "x": [
          4.31443713,
          2.19952367
         ],
         "y": [
          6.37110187,
          4.27961057
         ],
         "z": [
          2.08292722,
          2.13144282
         ]
        },
        {
         "line": {
          "color": "black",
          "width": 1
         },
         "mode": "lines",
         "name": "atom14-atom22",
         "text": "tensor(0.)",
         "type": "scatter3d",
         "x": [
          4.31443713,
          6.35290946
         ],
         "y": [
          6.37110187,
          4.22765209
         ],
         "z": [
          2.08292722,
          2.13299585
         ]
        },
        {
         "line": {
          "color": "black",
          "width": 1
         },
         "mode": "lines",
         "name": "atom14-atom26",
         "text": "tensor(0.)",
         "type": "scatter3d",
         "x": [
          4.31443713,
          2.16167677
         ],
         "y": [
          6.37110187,
          6.40726539
         ],
         "z": [
          2.08292722,
          -0.00695689
         ]
        },
        {
         "line": {
          "color": "black",
          "width": 1
         },
         "mode": "lines",
         "name": "atom14-atom27",
         "text": "tensor(0.)",
         "type": "scatter3d",
         "x": [
          4.31443713,
          2.12225487
         ],
         "y": [
          6.37110187,
          6.41029029
         ],
         "z": [
          2.08292722,
          4.27519452
         ]
        },
        {
         "line": {
          "color": "black",
          "width": 1
         },
         "mode": "lines",
         "name": "atom14-atom30",
         "text": "tensor(0.)",
         "type": "scatter3d",
         "x": [
          4.31443713,
          6.37832323
         ],
         "y": [
          6.37110187,
          6.40273461
         ],
         "z": [
          2.08292722,
          0.00695689
         ]
        },
        {
         "line": {
          "color": "black",
          "width": 1
         },
         "mode": "lines",
         "name": "atom14-atom31",
         "text": "tensor(0.)",
         "type": "scatter3d",
         "x": [
          4.31443713,
          6.41774512
         ],
         "y": [
          6.37110187,
          6.39970971
         ],
         "z": [
          2.08292722,
          4.26480548
         ]
        },
        {
         "line": {
          "color": "black",
          "width": 1
         },
         "mode": "lines",
         "name": "atom14-atom46",
         "text": "tensor(0.)",
         "type": "scatter3d",
         "x": [
          4.31443713,
          2.17340202
         ],
         "y": [
          6.37110187,
          6.39176383
         ],
         "z": [
          2.08292722,
          2.14320723
         ]
        },
        {
         "line": {
          "color": "black",
          "width": 1
         },
         "mode": "lines",
         "name": "atom15-atom7",
         "text": "tensor(0.)",
         "type": "scatter3d",
         "x": [
          4.22556287,
          4.27053406
         ],
         "y": [
          6.43889813,
          4.22866775
         ],
         "z": [
          6.45707278,
          4.27101064
         ]
        },
        {
         "line": {
          "color": "black",
          "width": 1
         },
         "mode": "lines",
         "name": "atom15-atom19",
         "text": "tensor(0.)",
         "type": "scatter3d",
         "x": [
          4.22556287,
          2.17885181
         ],
         "y": [
          6.43889813,
          4.23667188
         ],
         "z": [
          6.45707278,
          6.40381311
         ]
        },
        {
         "line": {
          "color": "black",
          "width": 1
         },
         "mode": "lines",
         "name": "atom15-atom23",
         "text": "tensor(0.)",
         "type": "scatter3d",
         "x": [
          4.22556287,
          6.33625562
         ],
         "y": [
          6.43889813,
          4.27507179
         ],
         "z": [
          6.45707278,
          6.40939065
         ]
        },
        {
         "line": {
          "color": "black",
          "width": 1
         },
         "mode": "lines",
         "name": "atom15-atom27",
         "text": "tensor(0.)",
         "type": "scatter3d",
         "x": [
          4.22556287,
          2.12225487
         ],
         "y": [
          6.43889813,
          6.41029029
         ],
         "z": [
          6.45707278,
          4.27519452
         ]
        },
        {
         "line": {
          "color": "black",
          "width": 1
         },
         "mode": "lines",
         "name": "atom15-atom31",
         "text": "tensor(0.)",
         "type": "scatter3d",
         "x": [
          4.22556287,
          6.41774512
         ],
         "y": [
          6.43889813,
          6.39970971
         ],
         "z": [
          6.45707278,
          4.26480548
         ]
        },
        {
         "line": {
          "color": "black",
          "width": 1
         },
         "mode": "lines",
         "name": "atom15-atom47",
         "text": "tensor(0.)",
         "type": "scatter3d",
         "x": [
          4.22556287,
          6.36659798
         ],
         "y": [
          6.43889813,
          6.41823617
         ],
         "z": [
          6.45707278,
          6.39679277
         ]
        },
        {
         "line": {
          "color": "black",
          "width": 1
         },
         "mode": "lines",
         "name": "atom16-atom0",
         "text": "tensor(0.)",
         "type": "scatter3d",
         "x": [
          2.20374438,
          -0.00089258
         ],
         "y": [
          -0.00507179,
          0.00458667
         ],
         "z": [
          2.13060935,
          -0.00151635
         ]
        },
        {
         "line": {
          "color": "black",
          "width": 1
         },
         "mode": "lines",
         "name": "atom16-atom1",
         "text": "tensor(0.)",
         "type": "scatter3d",
         "x": [
          2.20374438,
          -0.00185382
         ],
         "y": [
          -0.00507179,
          -0.00521454
         ],
         "z": [
          2.13060935,
          4.28553627
         ]
        },
        {
         "line": {
          "color": "black",
          "width": 1
         },
         "mode": "lines",
         "name": "atom16-atom4",
         "text": "tensor(0.)",
         "type": "scatter3d",
         "x": [
          2.20374438,
          4.26941769
         ],
         "y": [
          -0.00507179,
          -0.04373791
         ],
         "z": [
          2.13060935,
          -0.00880816
         ]
        },
        {
         "line": {
          "color": "black",
          "width": 1
         },
         "mode": "lines",
         "name": "atom16-atom5",
         "text": "tensor(0.)",
         "type": "scatter3d",
         "x": [
          2.20374438,
          4.26946594
         ],
         "y": [
          -0.00507179,
          0.04133225
         ],
         "z": [
          2.13060935,
          4.26898936
         ]
        },
        {
         "line": {
          "color": "black",
          "width": 1
         },
         "mode": "lines",
         "name": "atom16-atom8",
         "text": "tensor(0.)",
         "type": "scatter3d",
         "x": [
          2.20374438,
          -0.03052547
         ],
         "y": [
          -0.00507179,
          2.17474091
         ],
         "z": [
          2.13060935,
          2.13694045
         ]
        },
        {
         "line": {
          "color": "black",
          "width": 1
         },
         "mode": "lines",
         "name": "atom16-atom12",
         "text": "tensor(0.)",
         "type": "scatter3d",
         "x": [
          2.20374438,
          4.29973149
         ],
         "y": [
          -0.00507179,
          2.15239231
         ],
         "z": [
          2.13060935,
          2.11375889
         ]
        },
        {
         "line": {
          "color": "black",
          "width": 1
         },
         "mode": "lines",
         "name": "atom16-atom24",
         "text": "tensor(0.)",
         "type": "scatter3d",
         "x": [
          2.20374438,
          2.12264875
         ],
         "y": [
          -0.00507179,
          2.1341565
         ],
         "z": [
          2.13060935,
          -0.01657353
         ]
        },
        {
         "line": {
          "color": "black",
          "width": 1
         },
         "mode": "lines",
         "name": "atom16-atom25",
         "text": "tensor(0.)",
         "type": "scatter3d",
         "x": [
          2.20374438,
          2.14112601
         ],
         "y": [
          -0.00507179,
          2.12511092
         ],
         "z": [
          2.13060935,
          4.2711933
         ]
        },
        {
         "line": {
          "color": "black",
          "width": 1
         },
         "mode": "lines",
         "name": "atom16-atom32",
         "text": "tensor(0.)",
         "type": "scatter3d",
         "x": [
          2.20374438,
          2.17763286
         ],
         "y": [
          -0.00507179,
          0.01391451
         ],
         "z": [
          2.13060935,
          -0.02179081
         ]
        },
        {
         "line": {
          "color": "black",
          "width": 1
         },
         "mode": "lines",
         "name": "atom16-atom33",
         "text": "tensor(0.)",
         "type": "scatter3d",
         "x": [
          2.20374438,
          2.15615506
         ],
         "y": [
          -0.00507179,
          -0.01884033
         ],
         "z": [
          2.13060935,
          4.29354207
         ]
        },
        {
         "line": {
          "color": "black",
          "width": 1
         },
         "mode": "lines",
         "name": "atom16-atom44",
         "text": "tensor(0.)",
         "type": "scatter3d",
         "x": [
          2.20374438,
          -0.01130404
         ],
         "y": [
          -0.00507179,
          0.0002729
         ],
         "z": [
          2.13060935,
          2.14818918
         ]
        },
        {
         "line": {
          "color": "black",
          "width": 1
         },
         "mode": "lines",
         "name": "atom17-atom1",
         "text": "tensor(0.)",
         "type": "scatter3d",
         "x": [
          2.18709054,
          -0.00185382
         ],
         "y": [
          0.0423479,
          -0.00521454
         ],
         "z": [
          6.40700415,
          4.28553627
         ]
        },
        {
         "line": {
          "color": "black",
          "width": 1
         },
         "mode": "lines",
         "name": "atom17-atom5",
         "text": "tensor(0.)",
         "type": "scatter3d",
         "x": [
          2.18709054,
          4.26946594
         ],
         "y": [
          0.0423479,
          0.04133225
         ],
         "z": [
          6.40700415,
          4.26898936
         ]
        },
        {
         "line": {
          "color": "black",
          "width": 1
         },
         "mode": "lines",
         "name": "atom17-atom9",
         "text": "tensor(0.)",
         "type": "scatter3d",
         "x": [
          2.18709054,
          0.03052547
         ],
         "y": [
          0.0423479,
          2.09525909
         ],
         "z": [
          6.40700415,
          6.40305955
         ]
        },
        {
         "line": {
          "color": "black",
          "width": 1
         },
         "mode": "lines",
         "name": "atom17-atom13",
         "text": "tensor(0.)",
         "type": "scatter3d",
         "x": [
          2.18709054,
          4.24026851
         ],
         "y": [
          0.0423479,
          2.11760769
         ],
         "z": [
          6.40700415,
          6.42624111
         ]
        },
        {
         "line": {
          "color": "black",
          "width": 1
         },
         "mode": "lines",
         "name": "atom17-atom25",
         "text": "tensor(0.)",
         "type": "scatter3d",
         "x": [
          2.18709054,
          2.14112601
         ],
         "y": [
          0.0423479,
          2.12511092
         ],
         "z": [
          6.40700415,
          4.2711933
         ]
        },
        {
         "line": {
          "color": "black",
          "width": 1
         },
         "mode": "lines",
         "name": "atom17-atom33",
         "text": "tensor(0.)",
         "type": "scatter3d",
         "x": [
          2.18709054,
          2.15615506
         ],
         "y": [
          0.0423479,
          -0.01884033
         ],
         "z": [
          6.40700415,
          4.29354207
         ]
        },
        {
         "line": {
          "color": "black",
          "width": 1
         },
         "mode": "lines",
         "name": "atom18-atom2",
         "text": "tensor(0.)",
         "type": "scatter3d",
         "x": [
          2.19952367,
          0.00089258
         ],
         "y": [
          4.27961057,
          4.26541333
         ],
         "z": [
          2.13144282,
          0.00151635
         ]
        },
        {
         "line": {
          "color": "black",
          "width": 1
         },
         "mode": "lines",
         "name": "atom18-atom3",
         "text": "tensor(0.)",
         "type": "scatter3d",
         "x": [
          2.19952367,
          0.00185382
         ],
         "y": [
          4.27961057,
          4.27521454
         ],
         "z": [
          2.13144282,
          4.25446373
         ]
        },
        {
         "line": {
          "color": "black",
          "width": 1
         },
         "mode": "lines",
         "name": "atom18-atom6",
         "text": "tensor(0.)",
         "type": "scatter3d",
         "x": [
          2.19952367,
          4.27058231
         ],
         "y": [
          4.27961057,
          4.31373791
         ],
         "z": [
          2.13144282,
          0.00880816
         ]
        },
        {
         "line": {
          "color": "black",
          "width": 1
         },
         "mode": "lines",
         "name": "atom18-atom7",
         "text": "tensor(0.)",
         "type": "scatter3d",
         "x": [
          2.19952367,
          4.27053406
         ],
         "y": [
          4.27961057,
          4.22866775
         ],
         "z": [
          2.13144282,
          4.27101064
         ]
        },
        {
         "line": {
          "color": "black",
          "width": 1
         },
         "mode": "lines",
         "name": "atom18-atom8",
         "text": "tensor(0.)",
         "type": "scatter3d",
         "x": [
          2.19952367,
          -0.03052547
         ],
         "y": [
          4.27961057,
          2.17474091
         ],
         "z": [
          2.13144282,
          2.13694045
         ]
        },
        {
         "line": {
          "color": "black",
          "width": 1
         },
         "mode": "lines",
         "name": "atom18-atom10",
         "text": "tensor(0.)",
         "type": "scatter3d",
         "x": [
          2.19952367,
          -0.04148446
         ],
         "y": [
          4.27961057,
          6.36177301
         ],
         "z": [
          2.13144282,
          2.19740262
         ]
        },
        {
         "line": {
          "color": "black",
          "width": 1
         },
         "mode": "lines",
         "name": "atom18-atom12",
         "text": "tensor(0.)",
         "type": "scatter3d",
         "x": [
          2.19952367,
          4.29973149
         ],
         "y": [
          4.27961057,
          2.15239231
         ],
         "z": [
          2.13144282,
          2.11375889
         ]
        },
        {
         "line": {
          "color": "black",
          "width": 1
         },
         "mode": "lines",
         "name": "atom18-atom14",
         "text": "tensor(0.)",
         "type": "scatter3d",
         "x": [
          2.19952367,
          4.31443713
         ],
         "y": [
          4.27961057,
          6.37110187
         ],
         "z": [
          2.13144282,
          2.08292722
         ]
        },
        {
         "line": {
          "color": "black",
          "width": 1
         },
         "mode": "lines",
         "name": "atom18-atom24",
         "text": "tensor(0.)",
         "type": "scatter3d",
         "x": [
          2.19952367,
          2.12264875
         ],
         "y": [
          4.27961057,
          2.1341565
         ],
         "z": [
          2.13144282,
          -0.01657353
         ]
        },
        {
         "line": {
          "color": "black",
          "width": 1
         },
         "mode": "lines",
         "name": "atom18-atom25",
         "text": "tensor(0.)",
         "type": "scatter3d",
         "x": [
          2.19952367,
          2.14112601
         ],
         "y": [
          4.27961057,
          2.12511092
         ],
         "z": [
          2.13144282,
          4.2711933
         ]
        },
        {
         "line": {
          "color": "black",
          "width": 1
         },
         "mode": "lines",
         "name": "atom18-atom26",
         "text": "tensor(0.)",
         "type": "scatter3d",
         "x": [
          2.19952367,
          2.16167677
         ],
         "y": [
          4.27961057,
          6.40726539
         ],
         "z": [
          2.13144282,
          -0.00695689
         ]
        },
        {
         "line": {
          "color": "black",
          "width": 1
         },
         "mode": "lines",
         "name": "atom18-atom27",
         "text": "tensor(0.)",
         "type": "scatter3d",
         "x": [
          2.19952367,
          2.12225487
         ],
         "y": [
          4.27961057,
          6.41029029
         ],
         "z": [
          2.13144282,
          4.27519452
         ]
        },
        {
         "line": {
          "color": "black",
          "width": 1
         },
         "mode": "lines",
         "name": "atom18-atom34",
         "text": "tensor(0.)",
         "type": "scatter3d",
         "x": [
          2.19952367,
          2.18030649
         ],
         "y": [
          4.27961057,
          4.25471285
         ],
         "z": [
          2.13144282,
          0.00032304
         ]
        },
        {
         "line": {
          "color": "black",
          "width": 1
         },
         "mode": "lines",
         "name": "atom18-atom35",
         "text": "tensor(0.)",
         "type": "scatter3d",
         "x": [
          2.19952367,
          2.1595698
         ],
         "y": [
          4.27961057,
          4.28300414
         ],
         "z": [
          2.13144282,
          4.27151083
         ]
        },
        {
         "line": {
          "color": "black",
          "width": 1
         },
         "mode": "lines",
         "name": "atom18-atom46",
         "text": "tensor(0.)",
         "type": "scatter3d",
         "x": [
          2.19952367,
          2.17340202
         ],
         "y": [
          4.27961057,
          6.39176383
         ],
         "z": [
          2.13144282,
          2.14320723
         ]
        },
        {
         "line": {
          "color": "black",
          "width": 1
         },
         "mode": "lines",
         "name": "atom19-atom3",
         "text": "tensor(0.)",
         "type": "scatter3d",
         "x": [
          2.17885181,
          0.00185382
         ],
         "y": [
          4.23667188,
          4.27521454
         ],
         "z": [
          6.40381311,
          4.25446373
         ]
        },
        {
         "line": {
          "color": "black",
          "width": 1
         },
         "mode": "lines",
         "name": "atom19-atom7",
         "text": "tensor(0.)",
         "type": "scatter3d",
         "x": [
          2.17885181,
          4.27053406
         ],
         "y": [
          4.23667188,
          4.22866775
         ],
         "z": [
          6.40381311,
          4.27101064
         ]
        },
        {
         "line": {
          "color": "black",
          "width": 1
         },
         "mode": "lines",
         "name": "atom19-atom9",
         "text": "tensor(0.)",
         "type": "scatter3d",
         "x": [
          2.17885181,
          0.03052547
         ],
         "y": [
          4.23667188,
          2.09525909
         ],
         "z": [
          6.40381311,
          6.40305955
         ]
        },
        {
         "line": {
          "color": "black",
          "width": 1
         },
         "mode": "lines",
         "name": "atom19-atom11",
         "text": "tensor(0.)",
         "type": "scatter3d",
         "x": [
          2.17885181,
          0.04148446
         ],
         "y": [
          4.23667188,
          6.44822699
         ],
         "z": [
          6.40381311,
          6.34259738
         ]
        },
        {
         "line": {
          "color": "black",
          "width": 1
         },
         "mode": "lines",
         "name": "atom19-atom13",
         "text": "tensor(0.)",
         "type": "scatter3d",
         "x": [
          2.17885181,
          4.24026851
         ],
         "y": [
          4.23667188,
          2.11760769
         ],
         "z": [
          6.40381311,
          6.42624111
         ]
        },
        {
         "line": {
          "color": "black",
          "width": 1
         },
         "mode": "lines",
         "name": "atom19-atom15",
         "text": "tensor(0.)",
         "type": "scatter3d",
         "x": [
          2.17885181,
          4.22556287
         ],
         "y": [
          4.23667188,
          6.43889813
         ],
         "z": [
          6.40381311,
          6.45707278
         ]
        },
        {
         "line": {
          "color": "black",
          "width": 1
         },
         "mode": "lines",
         "name": "atom19-atom25",
         "text": "tensor(0.)",
         "type": "scatter3d",
         "x": [
          2.17885181,
          2.14112601
         ],
         "y": [
          4.23667188,
          2.12511092
         ],
         "z": [
          6.40381311,
          4.2711933
         ]
        },
        {
         "line": {
          "color": "black",
          "width": 1
         },
         "mode": "lines",
         "name": "atom19-atom27",
         "text": "tensor(0.)",
         "type": "scatter3d",
         "x": [
          2.17885181,
          2.12225487
         ],
         "y": [
          4.23667188,
          6.41029029
         ],
         "z": [
          6.40381311,
          4.27519452
         ]
        },
        {
         "line": {
          "color": "black",
          "width": 1
         },
         "mode": "lines",
         "name": "atom19-atom35",
         "text": "tensor(0.)",
         "type": "scatter3d",
         "x": [
          2.17885181,
          2.1595698
         ],
         "y": [
          4.23667188,
          4.28300414
         ],
         "z": [
          6.40381311,
          4.27151083
         ]
        },
        {
         "line": {
          "color": "black",
          "width": 1
         },
         "mode": "lines",
         "name": "atom19-atom45",
         "text": "tensor(0.)",
         "type": "scatter3d",
         "x": [
          2.17885181,
          0.01130404
         ],
         "y": [
          4.23667188,
          4.2697271
         ],
         "z": [
          6.40381311,
          6.39181082
         ]
        },
        {
         "line": {
          "color": "black",
          "width": 1
         },
         "mode": "lines",
         "name": "atom20-atom4",
         "text": "tensor(0.)",
         "type": "scatter3d",
         "x": [
          6.36114819,
          4.26941769
         ],
         "y": [
          0.03332811,
          -0.04373791
         ],
         "z": [
          2.13618689,
          -0.00880816
         ]
        },
        {
         "line": {
          "color": "black",
          "width": 1
         },
         "mode": "lines",
         "name": "atom20-atom5",
         "text": "tensor(0.)",
         "type": "scatter3d",
         "x": [
          6.36114819,
          4.26946594
         ],
         "y": [
          0.03332811,
          0.04133225
         ],
         "z": [
          2.13618689,
          4.26898936
         ]
        },
        {
         "line": {
          "color": "black",
          "width": 1
         },
         "mode": "lines",
         "name": "atom20-atom12",
         "text": "tensor(0.)",
         "type": "scatter3d",
         "x": [
          6.36114819,
          4.29973149
         ],
         "y": [
          0.03332811,
          2.15239231
         ],
         "z": [
          2.13618689,
          2.11375889
         ]
        },
        {
         "line": {
          "color": "black",
          "width": 1
         },
         "mode": "lines",
         "name": "atom20-atom28",
         "text": "tensor(0.)",
         "type": "scatter3d",
         "x": [
          6.36114819,
          6.41735125
         ],
         "y": [
          0.03332811,
          2.1358435
         ],
         "z": [
          2.13618689,
          0.01657353
         ]
        },
        {
         "line": {
          "color": "black",
          "width": 1
         },
         "mode": "lines",
         "name": "atom20-atom29",
         "text": "tensor(0.)",
         "type": "scatter3d",
         "x": [
          6.36114819,
          6.39887399
         ],
         "y": [
          0.03332811,
          2.14488908
         ],
         "z": [
          2.13618689,
          4.2688067
         ]
        },
        {
         "line": {
          "color": "black",
          "width": 1
         },
         "mode": "lines",
         "name": "atom20-atom36",
         "text": "tensor(0.)",
         "type": "scatter3d",
         "x": [
          6.36114819,
          6.35969351
         ],
         "y": [
          0.03332811,
          0.01528715
         ],
         "z": [
          2.13618689,
          -0.00032304
         ]
        },
        {
         "line": {
          "color": "black",
          "width": 1
         },
         "mode": "lines",
         "name": "atom20-atom37",
         "text": "tensor(0.)",
         "type": "scatter3d",
         "x": [
          6.36114819,
          6.3804302
         ],
         "y": [
          0.03332811,
          -0.01300414
         ],
         "z": [
          2.13618689,
          4.26848918
         ]
        },
        {
         "line": {
          "color": "black",
          "width": 1
         },
         "mode": "lines",
         "name": "atom21-atom5",
         "text": "tensor(0.)",
         "type": "scatter3d",
         "x": [
          6.34047633,
          4.26946594
         ],
         "y": [
          -0.00961057,
          0.04133225
         ],
         "z": [
          6.40855719,
          4.26898936
         ]
        },
        {
         "line": {
          "color": "black",
          "width": 1
         },
         "mode": "lines",
         "name": "atom21-atom13",
         "text": "tensor(0.)",
         "type": "scatter3d",
         "x": [
          6.34047633,
          4.24026851
         ],
         "y": [
          -0.00961057,
          2.11760769
         ],
         "z": [
          6.40855719,
          6.42624111
         ]
        },
        {
         "line": {
          "color": "black",
          "width": 1
         },
         "mode": "lines",
         "name": "atom21-atom29",
         "text": "tensor(0.)",
         "type": "scatter3d",
         "x": [
          6.34047633,
          6.39887399
         ],
         "y": [
          -0.00961057,
          2.14488908
         ],
         "z": [
          6.40855719,
          4.2688067
         ]
        },
        {
         "line": {
          "color": "black",
          "width": 1
         },
         "mode": "lines",
         "name": "atom21-atom37",
         "text": "tensor(0.)",
         "type": "scatter3d",
         "x": [
          6.34047633,
          6.3804302
         ],
         "y": [
          -0.00961057,
          -0.01300414
         ],
         "z": [
          6.40855719,
          4.26848918
         ]
        },
        {
         "line": {
          "color": "black",
          "width": 1
         },
         "mode": "lines",
         "name": "atom22-atom6",
         "text": "tensor(0.)",
         "type": "scatter3d",
         "x": [
          6.35290946,
          4.27058231
         ],
         "y": [
          4.22765209,
          4.31373791
         ],
         "z": [
          2.13299585,
          0.00880816
         ]
        },
        {
         "line": {
          "color": "black",
          "width": 1
         },
         "mode": "lines",
         "name": "atom22-atom7",
         "text": "tensor(0.)",
         "type": "scatter3d",
         "x": [
          6.35290946,
          4.27053406
         ],
         "y": [
          4.22765209,
          4.22866775
         ],
         "z": [
          2.13299585,
          4.27101064
         ]
        },
        {
         "line": {
          "color": "black",
          "width": 1
         },
         "mode": "lines",
         "name": "atom22-atom12",
         "text": "tensor(0.)",
         "type": "scatter3d",
         "x": [
          6.35290946,
          4.29973149
         ],
         "y": [
          4.22765209,
          2.15239231
         ],
         "z": [
          2.13299585,
          2.11375889
         ]
        },
        {
         "line": {
          "color": "black",
          "width": 1
         },
         "mode": "lines",
         "name": "atom22-atom14",
         "text": "tensor(0.)",
         "type": "scatter3d",
         "x": [
          6.35290946,
          4.31443713
         ],
         "y": [
          4.22765209,
          6.37110187
         ],
         "z": [
          2.13299585,
          2.08292722
         ]
        },
        {
         "line": {
          "color": "black",
          "width": 1
         },
         "mode": "lines",
         "name": "atom22-atom28",
         "text": "tensor(0.)",
         "type": "scatter3d",
         "x": [
          6.35290946,
          6.41735125
         ],
         "y": [
          4.22765209,
          2.1358435
         ],
         "z": [
          2.13299585,
          0.01657353
         ]
        },
        {
         "line": {
          "color": "black",
          "width": 1
         },
         "mode": "lines",
         "name": "atom22-atom29",
         "text": "tensor(0.)",
         "type": "scatter3d",
         "x": [
          6.35290946,
          6.39887399
         ],
         "y": [
          4.22765209,
          2.14488908
         ],
         "z": [
          2.13299585,
          4.2688067
         ]
        },
        {
         "line": {
          "color": "black",
          "width": 1
         },
         "mode": "lines",
         "name": "atom22-atom30",
         "text": "tensor(0.)",
         "type": "scatter3d",
         "x": [
          6.35290946,
          6.37832323
         ],
         "y": [
          4.22765209,
          6.40273461
         ],
         "z": [
          2.13299585,
          0.00695689
         ]
        },
        {
         "line": {
          "color": "black",
          "width": 1
         },
         "mode": "lines",
         "name": "atom22-atom31",
         "text": "tensor(0.)",
         "type": "scatter3d",
         "x": [
          6.35290946,
          6.41774512
         ],
         "y": [
          4.22765209,
          6.39970971
         ],
         "z": [
          2.13299585,
          4.26480548
         ]
        },
        {
         "line": {
          "color": "black",
          "width": 1
         },
         "mode": "lines",
         "name": "atom22-atom38",
         "text": "tensor(0.)",
         "type": "scatter3d",
         "x": [
          6.35290946,
          6.36236714
         ],
         "y": [
          4.22765209,
          4.25608549
         ],
         "z": [
          2.13299585,
          0.02179081
         ]
        },
        {
         "line": {
          "color": "black",
          "width": 1
         },
         "mode": "lines",
         "name": "atom22-atom39",
         "text": "tensor(0.)",
         "type": "scatter3d",
         "x": [
          6.35290946,
          6.38384494
         ],
         "y": [
          4.22765209,
          4.28884033
         ],
         "z": [
          2.13299585,
          4.24645793
         ]
        },
        {
         "line": {
          "color": "black",
          "width": 1
         },
         "mode": "lines",
         "name": "atom23-atom7",
         "text": "tensor(0.)",
         "type": "scatter3d",
         "x": [
          6.33625562,
          4.27053406
         ],
         "y": [
          4.27507179,
          4.22866775
         ],
         "z": [
          6.40939065,
          4.27101064
         ]
        },
        {
         "line": {
          "color": "black",
          "width": 1
         },
         "mode": "lines",
         "name": "atom23-atom13",
         "text": "tensor(0.)",
         "type": "scatter3d",
         "x": [
          6.33625562,
          4.24026851
         ],
         "y": [
          4.27507179,
          2.11760769
         ],
         "z": [
          6.40939065,
          6.42624111
         ]
        },
        {
         "line": {
          "color": "black",
          "width": 1
         },
         "mode": "lines",
         "name": "atom23-atom15",
         "text": "tensor(0.)",
         "type": "scatter3d",
         "x": [
          6.33625562,
          4.22556287
         ],
         "y": [
          4.27507179,
          6.43889813
         ],
         "z": [
          6.40939065,
          6.45707278
         ]
        },
        {
         "line": {
          "color": "black",
          "width": 1
         },
         "mode": "lines",
         "name": "atom23-atom29",
         "text": "tensor(0.)",
         "type": "scatter3d",
         "x": [
          6.33625562,
          6.39887399
         ],
         "y": [
          4.27507179,
          2.14488908
         ],
         "z": [
          6.40939065,
          4.2688067
         ]
        },
        {
         "line": {
          "color": "black",
          "width": 1
         },
         "mode": "lines",
         "name": "atom23-atom31",
         "text": "tensor(0.)",
         "type": "scatter3d",
         "x": [
          6.33625562,
          6.41774512
         ],
         "y": [
          4.27507179,
          6.39970971
         ],
         "z": [
          6.40939065,
          4.26480548
         ]
        },
        {
         "line": {
          "color": "black",
          "width": 1
         },
         "mode": "lines",
         "name": "atom23-atom39",
         "text": "tensor(0.)",
         "type": "scatter3d",
         "x": [
          6.33625562,
          6.38384494
         ],
         "y": [
          4.27507179,
          4.28884033
         ],
         "z": [
          6.40939065,
          4.24645793
         ]
        },
        {
         "line": {
          "color": "black",
          "width": 1
         },
         "mode": "lines",
         "name": "atom23-atom47",
         "text": "tensor(0.)",
         "type": "scatter3d",
         "x": [
          6.33625562,
          6.36659798
         ],
         "y": [
          4.27507179,
          6.41823617
         ],
         "z": [
          6.40939065,
          6.39679277
         ]
        },
        {
         "line": {
          "color": "black",
          "width": 1
         },
         "mode": "lines",
         "name": "atom24-atom0",
         "text": "tensor(0.)",
         "type": "scatter3d",
         "x": [
          2.12264875,
          -0.00089258
         ],
         "y": [
          2.1341565,
          0.00458667
         ],
         "z": [
          -0.01657353,
          -0.00151635
         ]
        },
        {
         "line": {
          "color": "black",
          "width": 1
         },
         "mode": "lines",
         "name": "atom24-atom2",
         "text": "tensor(0.)",
         "type": "scatter3d",
         "x": [
          2.12264875,
          0.00089258
         ],
         "y": [
          2.1341565,
          4.26541333
         ],
         "z": [
          -0.01657353,
          0.00151635
         ]
        },
        {
         "line": {
          "color": "black",
          "width": 1
         },
         "mode": "lines",
         "name": "atom24-atom4",
         "text": "tensor(0.)",
         "type": "scatter3d",
         "x": [
          2.12264875,
          4.26941769
         ],
         "y": [
          2.1341565,
          -0.04373791
         ],
         "z": [
          -0.01657353,
          -0.00880816
         ]
        },
        {
         "line": {
          "color": "black",
          "width": 1
         },
         "mode": "lines",
         "name": "atom24-atom6",
         "text": "tensor(0.)",
         "type": "scatter3d",
         "x": [
          2.12264875,
          4.27058231
         ],
         "y": [
          2.1341565,
          4.31373791
         ],
         "z": [
          -0.01657353,
          0.00880816
         ]
        },
        {
         "line": {
          "color": "black",
          "width": 1
         },
         "mode": "lines",
         "name": "atom24-atom8",
         "text": "tensor(0.)",
         "type": "scatter3d",
         "x": [
          2.12264875,
          -0.03052547
         ],
         "y": [
          2.1341565,
          2.17474091
         ],
         "z": [
          -0.01657353,
          2.13694045
         ]
        },
        {
         "line": {
          "color": "black",
          "width": 1
         },
         "mode": "lines",
         "name": "atom24-atom12",
         "text": "tensor(0.)",
         "type": "scatter3d",
         "x": [
          2.12264875,
          4.29973149
         ],
         "y": [
          2.1341565,
          2.15239231
         ],
         "z": [
          -0.01657353,
          2.11375889
         ]
        },
        {
         "line": {
          "color": "black",
          "width": 1
         },
         "mode": "lines",
         "name": "atom24-atom16",
         "text": "tensor(0.)",
         "type": "scatter3d",
         "x": [
          2.12264875,
          2.20374438
         ],
         "y": [
          2.1341565,
          -0.00507179
         ],
         "z": [
          -0.01657353,
          2.13060935
         ]
        },
        {
         "line": {
          "color": "black",
          "width": 1
         },
         "mode": "lines",
         "name": "atom24-atom18",
         "text": "tensor(0.)",
         "type": "scatter3d",
         "x": [
          2.12264875,
          2.19952367
         ],
         "y": [
          2.1341565,
          4.27961057
         ],
         "z": [
          -0.01657353,
          2.13144282
         ]
        },
        {
         "line": {
          "color": "black",
          "width": 1
         },
         "mode": "lines",
         "name": "atom24-atom32",
         "text": "tensor(0.)",
         "type": "scatter3d",
         "x": [
          2.12264875,
          2.17763286
         ],
         "y": [
          2.1341565,
          0.01391451
         ],
         "z": [
          -0.01657353,
          -0.02179081
         ]
        },
        {
         "line": {
          "color": "black",
          "width": 1
         },
         "mode": "lines",
         "name": "atom24-atom34",
         "text": "tensor(0.)",
         "type": "scatter3d",
         "x": [
          2.12264875,
          2.18030649
         ],
         "y": [
          2.1341565,
          4.25471285
         ],
         "z": [
          -0.01657353,
          0.00032304
         ]
        },
        {
         "line": {
          "color": "black",
          "width": 1
         },
         "mode": "lines",
         "name": "atom24-atom40",
         "text": "tensor(0.)",
         "type": "scatter3d",
         "x": [
          2.12264875,
          0
         ],
         "y": [
          2.1341565,
          2.135
         ],
         "z": [
          -0.01657353,
          0
         ]
        },
        {
         "line": {
          "color": "black",
          "width": 1
         },
         "mode": "lines",
         "name": "atom25-atom1",
         "text": "tensor(0.)",
         "type": "scatter3d",
         "x": [
          2.14112601,
          -0.00185382
         ],
         "y": [
          2.12511092,
          -0.00521454
         ],
         "z": [
          4.2711933,
          4.28553627
         ]
        },
        {
         "line": {
          "color": "black",
          "width": 1
         },
         "mode": "lines",
         "name": "atom25-atom3",
         "text": "tensor(0.)",
         "type": "scatter3d",
         "x": [
          2.14112601,
          0.00185382
         ],
         "y": [
          2.12511092,
          4.27521454
         ],
         "z": [
          4.2711933,
          4.25446373
         ]
        },
        {
         "line": {
          "color": "black",
          "width": 1
         },
         "mode": "lines",
         "name": "atom25-atom5",
         "text": "tensor(0.)",
         "type": "scatter3d",
         "x": [
          2.14112601,
          4.26946594
         ],
         "y": [
          2.12511092,
          0.04133225
         ],
         "z": [
          4.2711933,
          4.26898936
         ]
        },
        {
         "line": {
          "color": "black",
          "width": 1
         },
         "mode": "lines",
         "name": "atom25-atom7",
         "text": "tensor(0.)",
         "type": "scatter3d",
         "x": [
          2.14112601,
          4.27053406
         ],
         "y": [
          2.12511092,
          4.22866775
         ],
         "z": [
          4.2711933,
          4.27101064
         ]
        },
        {
         "line": {
          "color": "black",
          "width": 1
         },
         "mode": "lines",
         "name": "atom25-atom8",
         "text": "tensor(0.)",
         "type": "scatter3d",
         "x": [
          2.14112601,
          -0.03052547
         ],
         "y": [
          2.12511092,
          2.17474091
         ],
         "z": [
          4.2711933,
          2.13694045
         ]
        },
        {
         "line": {
          "color": "black",
          "width": 1
         },
         "mode": "lines",
         "name": "atom25-atom9",
         "text": "tensor(0.)",
         "type": "scatter3d",
         "x": [
          2.14112601,
          0.03052547
         ],
         "y": [
          2.12511092,
          2.09525909
         ],
         "z": [
          4.2711933,
          6.40305955
         ]
        },
        {
         "line": {
          "color": "black",
          "width": 1
         },
         "mode": "lines",
         "name": "atom25-atom12",
         "text": "tensor(0.)",
         "type": "scatter3d",
         "x": [
          2.14112601,
          4.29973149
         ],
         "y": [
          2.12511092,
          2.15239231
         ],
         "z": [
          4.2711933,
          2.11375889
         ]
        },
        {
         "line": {
          "color": "black",
          "width": 1
         },
         "mode": "lines",
         "name": "atom25-atom13",
         "text": "tensor(0.)",
         "type": "scatter3d",
         "x": [
          2.14112601,
          4.24026851
         ],
         "y": [
          2.12511092,
          2.11760769
         ],
         "z": [
          4.2711933,
          6.42624111
         ]
        },
        {
         "line": {
          "color": "black",
          "width": 1
         },
         "mode": "lines",
         "name": "atom25-atom16",
         "text": "tensor(0.)",
         "type": "scatter3d",
         "x": [
          2.14112601,
          2.20374438
         ],
         "y": [
          2.12511092,
          -0.00507179
         ],
         "z": [
          4.2711933,
          2.13060935
         ]
        },
        {
         "line": {
          "color": "black",
          "width": 1
         },
         "mode": "lines",
         "name": "atom25-atom17",
         "text": "tensor(0.)",
         "type": "scatter3d",
         "x": [
          2.14112601,
          2.18709054
         ],
         "y": [
          2.12511092,
          0.0423479
         ],
         "z": [
          4.2711933,
          6.40700415
         ]
        },
        {
         "line": {
          "color": "black",
          "width": 1
         },
         "mode": "lines",
         "name": "atom25-atom18",
         "text": "tensor(0.)",
         "type": "scatter3d",
         "x": [
          2.14112601,
          2.19952367
         ],
         "y": [
          2.12511092,
          4.27961057
         ],
         "z": [
          4.2711933,
          2.13144282
         ]
        },
        {
         "line": {
          "color": "black",
          "width": 1
         },
         "mode": "lines",
         "name": "atom25-atom19",
         "text": "tensor(0.)",
         "type": "scatter3d",
         "x": [
          2.14112601,
          2.17885181
         ],
         "y": [
          2.12511092,
          4.23667188
         ],
         "z": [
          4.2711933,
          6.40381311
         ]
        },
        {
         "line": {
          "color": "black",
          "width": 1
         },
         "mode": "lines",
         "name": "atom25-atom33",
         "text": "tensor(0.)",
         "type": "scatter3d",
         "x": [
          2.14112601,
          2.15615506
         ],
         "y": [
          2.12511092,
          -0.01884033
         ],
         "z": [
          4.2711933,
          4.29354207
         ]
        },
        {
         "line": {
          "color": "black",
          "width": 1
         },
         "mode": "lines",
         "name": "atom25-atom35",
         "text": "tensor(0.)",
         "type": "scatter3d",
         "x": [
          2.14112601,
          2.1595698
         ],
         "y": [
          2.12511092,
          4.28300414
         ],
         "z": [
          4.2711933,
          4.27151083
         ]
        },
        {
         "line": {
          "color": "black",
          "width": 1
         },
         "mode": "lines",
         "name": "atom25-atom41",
         "text": "tensor(0.)",
         "type": "scatter3d",
         "x": [
          2.14112601,
          0
         ],
         "y": [
          2.12511092,
          2.135
         ],
         "z": [
          4.2711933,
          4.27
         ]
        },
        {
         "line": {
          "color": "black",
          "width": 1
         },
         "mode": "lines",
         "name": "atom25-atom43",
         "text": "tensor(0.)",
         "type": "scatter3d",
         "x": [
          2.14112601,
          4.27
         ],
         "y": [
          2.12511092,
          2.135
         ],
         "z": [
          4.2711933,
          4.27
         ]
        },
        {
         "line": {
          "color": "black",
          "width": 1
         },
         "mode": "lines",
         "name": "atom26-atom2",
         "text": "tensor(0.)",
         "type": "scatter3d",
         "x": [
          2.16167677,
          0.00089258
         ],
         "y": [
          6.40726539,
          4.26541333
         ],
         "z": [
          -0.00695689,
          0.00151635
         ]
        },
        {
         "line": {
          "color": "black",
          "width": 1
         },
         "mode": "lines",
         "name": "atom26-atom6",
         "text": "tensor(0.)",
         "type": "scatter3d",
         "x": [
          2.16167677,
          4.27058231
         ],
         "y": [
          6.40726539,
          4.31373791
         ],
         "z": [
          -0.00695689,
          0.00880816
         ]
        },
        {
         "line": {
          "color": "black",
          "width": 1
         },
         "mode": "lines",
         "name": "atom26-atom10",
         "text": "tensor(0.)",
         "type": "scatter3d",
         "x": [
          2.16167677,
          -0.04148446
         ],
         "y": [
          6.40726539,
          6.36177301
         ],
         "z": [
          -0.00695689,
          2.19740262
         ]
        },
        {
         "line": {
          "color": "black",
          "width": 1
         },
         "mode": "lines",
         "name": "atom26-atom14",
         "text": "tensor(0.)",
         "type": "scatter3d",
         "x": [
          2.16167677,
          4.31443713
         ],
         "y": [
          6.40726539,
          6.37110187
         ],
         "z": [
          -0.00695689,
          2.08292722
         ]
        },
        {
         "line": {
          "color": "black",
          "width": 1
         },
         "mode": "lines",
         "name": "atom26-atom18",
         "text": "tensor(0.)",
         "type": "scatter3d",
         "x": [
          2.16167677,
          2.19952367
         ],
         "y": [
          6.40726539,
          4.27961057
         ],
         "z": [
          -0.00695689,
          2.13144282
         ]
        },
        {
         "line": {
          "color": "black",
          "width": 1
         },
         "mode": "lines",
         "name": "atom26-atom34",
         "text": "tensor(0.)",
         "type": "scatter3d",
         "x": [
          2.16167677,
          2.18030649
         ],
         "y": [
          6.40726539,
          4.25471285
         ],
         "z": [
          -0.00695689,
          0.00032304
         ]
        },
        {
         "line": {
          "color": "black",
          "width": 1
         },
         "mode": "lines",
         "name": "atom26-atom42",
         "text": "tensor(0.)",
         "type": "scatter3d",
         "x": [
          2.16167677,
          0
         ],
         "y": [
          6.40726539,
          6.405
         ],
         "z": [
          -0.00695689,
          0
         ]
        },
        {
         "line": {
          "color": "black",
          "width": 1
         },
         "mode": "lines",
         "name": "atom26-atom46",
         "text": "tensor(0.)",
         "type": "scatter3d",
         "x": [
          2.16167677,
          2.17340202
         ],
         "y": [
          6.40726539,
          6.39176383
         ],
         "z": [
          -0.00695689,
          2.14320723
         ]
        },
        {
         "line": {
          "color": "black",
          "width": 1
         },
         "mode": "lines",
         "name": "atom27-atom3",
         "text": "tensor(0.)",
         "type": "scatter3d",
         "x": [
          2.12225487,
          0.00185382
         ],
         "y": [
          6.41029029,
          4.27521454
         ],
         "z": [
          4.27519452,
          4.25446373
         ]
        },
        {
         "line": {
          "color": "black",
          "width": 1
         },
         "mode": "lines",
         "name": "atom27-atom7",
         "text": "tensor(0.)",
         "type": "scatter3d",
         "x": [
          2.12225487,
          4.27053406
         ],
         "y": [
          6.41029029,
          4.22866775
         ],
         "z": [
          4.27519452,
          4.27101064
         ]
        },
        {
         "line": {
          "color": "black",
          "width": 1
         },
         "mode": "lines",
         "name": "atom27-atom10",
         "text": "tensor(0.)",
         "type": "scatter3d",
         "x": [
          2.12225487,
          -0.04148446
         ],
         "y": [
          6.41029029,
          6.36177301
         ],
         "z": [
          4.27519452,
          2.19740262
         ]
        },
        {
         "line": {
          "color": "black",
          "width": 1
         },
         "mode": "lines",
         "name": "atom27-atom11",
         "text": "tensor(0.)",
         "type": "scatter3d",
         "x": [
          2.12225487,
          0.04148446
         ],
         "y": [
          6.41029029,
          6.44822699
         ],
         "z": [
          4.27519452,
          6.34259738
         ]
        },
        {
         "line": {
          "color": "black",
          "width": 1
         },
         "mode": "lines",
         "name": "atom27-atom14",
         "text": "tensor(0.)",
         "type": "scatter3d",
         "x": [
          2.12225487,
          4.31443713
         ],
         "y": [
          6.41029029,
          6.37110187
         ],
         "z": [
          4.27519452,
          2.08292722
         ]
        },
        {
         "line": {
          "color": "black",
          "width": 1
         },
         "mode": "lines",
         "name": "atom27-atom15",
         "text": "tensor(0.)",
         "type": "scatter3d",
         "x": [
          2.12225487,
          4.22556287
         ],
         "y": [
          6.41029029,
          6.43889813
         ],
         "z": [
          4.27519452,
          6.45707278
         ]
        },
        {
         "line": {
          "color": "black",
          "width": 1
         },
         "mode": "lines",
         "name": "atom27-atom18",
         "text": "tensor(0.)",
         "type": "scatter3d",
         "x": [
          2.12225487,
          2.19952367
         ],
         "y": [
          6.41029029,
          4.27961057
         ],
         "z": [
          4.27519452,
          2.13144282
         ]
        },
        {
         "line": {
          "color": "black",
          "width": 1
         },
         "mode": "lines",
         "name": "atom27-atom19",
         "text": "tensor(0.)",
         "type": "scatter3d",
         "x": [
          2.12225487,
          2.17885181
         ],
         "y": [
          6.41029029,
          4.23667188
         ],
         "z": [
          4.27519452,
          6.40381311
         ]
        },
        {
         "line": {
          "color": "black",
          "width": 1
         },
         "mode": "lines",
         "name": "atom27-atom35",
         "text": "tensor(0.)",
         "type": "scatter3d",
         "x": [
          2.12225487,
          2.1595698
         ],
         "y": [
          6.41029029,
          4.28300414
         ],
         "z": [
          4.27519452,
          4.27151083
         ]
        },
        {
         "line": {
          "color": "black",
          "width": 1
         },
         "mode": "lines",
         "name": "atom27-atom46",
         "text": "tensor(0.)",
         "type": "scatter3d",
         "x": [
          2.12225487,
          2.17340202
         ],
         "y": [
          6.41029029,
          6.39176383
         ],
         "z": [
          4.27519452,
          2.14320723
         ]
        },
        {
         "line": {
          "color": "black",
          "width": 1
         },
         "mode": "lines",
         "name": "atom28-atom4",
         "text": "tensor(0.)",
         "type": "scatter3d",
         "x": [
          6.41735125,
          4.26941769
         ],
         "y": [
          2.1358435,
          -0.04373791
         ],
         "z": [
          0.01657353,
          -0.00880816
         ]
        },
        {
         "line": {
          "color": "black",
          "width": 1
         },
         "mode": "lines",
         "name": "atom28-atom6",
         "text": "tensor(0.)",
         "type": "scatter3d",
         "x": [
          6.41735125,
          4.27058231
         ],
         "y": [
          2.1358435,
          4.31373791
         ],
         "z": [
          0.01657353,
          0.00880816
         ]
        },
        {
         "line": {
          "color": "black",
          "width": 1
         },
         "mode": "lines",
         "name": "atom28-atom12",
         "text": "tensor(0.)",
         "type": "scatter3d",
         "x": [
          6.41735125,
          4.29973149
         ],
         "y": [
          2.1358435,
          2.15239231
         ],
         "z": [
          0.01657353,
          2.11375889
         ]
        },
        {
         "line": {
          "color": "black",
          "width": 1
         },
         "mode": "lines",
         "name": "atom28-atom20",
         "text": "tensor(0.)",
         "type": "scatter3d",
         "x": [
          6.41735125,
          6.36114819
         ],
         "y": [
          2.1358435,
          0.03332811
         ],
         "z": [
          0.01657353,
          2.13618689
         ]
        },
        {
         "line": {
          "color": "black",
          "width": 1
         },
         "mode": "lines",
         "name": "atom28-atom22",
         "text": "tensor(0.)",
         "type": "scatter3d",
         "x": [
          6.41735125,
          6.35290946
         ],
         "y": [
          2.1358435,
          4.22765209
         ],
         "z": [
          0.01657353,
          2.13299585
         ]
        },
        {
         "line": {
          "color": "black",
          "width": 1
         },
         "mode": "lines",
         "name": "atom28-atom36",
         "text": "tensor(0.)",
         "type": "scatter3d",
         "x": [
          6.41735125,
          6.35969351
         ],
         "y": [
          2.1358435,
          0.01528715
         ],
         "z": [
          0.01657353,
          -0.00032304
         ]
        },
        {
         "line": {
          "color": "black",
          "width": 1
         },
         "mode": "lines",
         "name": "atom28-atom38",
         "text": "tensor(0.)",
         "type": "scatter3d",
         "x": [
          6.41735125,
          6.36236714
         ],
         "y": [
          2.1358435,
          4.25608549
         ],
         "z": [
          0.01657353,
          0.02179081
         ]
        },
        {
         "line": {
          "color": "black",
          "width": 1
         },
         "mode": "lines",
         "name": "atom29-atom5",
         "text": "tensor(0.)",
         "type": "scatter3d",
         "x": [
          6.39887399,
          4.26946594
         ],
         "y": [
          2.14488908,
          0.04133225
         ],
         "z": [
          4.2688067,
          4.26898936
         ]
        },
        {
         "line": {
          "color": "black",
          "width": 1
         },
         "mode": "lines",
         "name": "atom29-atom7",
         "text": "tensor(0.)",
         "type": "scatter3d",
         "x": [
          6.39887399,
          4.27053406
         ],
         "y": [
          2.14488908,
          4.22866775
         ],
         "z": [
          4.2688067,
          4.27101064
         ]
        },
        {
         "line": {
          "color": "black",
          "width": 1
         },
         "mode": "lines",
         "name": "atom29-atom12",
         "text": "tensor(0.)",
         "type": "scatter3d",
         "x": [
          6.39887399,
          4.29973149
         ],
         "y": [
          2.14488908,
          2.15239231
         ],
         "z": [
          4.2688067,
          2.11375889
         ]
        },
        {
         "line": {
          "color": "black",
          "width": 1
         },
         "mode": "lines",
         "name": "atom29-atom13",
         "text": "tensor(0.)",
         "type": "scatter3d",
         "x": [
          6.39887399,
          4.24026851
         ],
         "y": [
          2.14488908,
          2.11760769
         ],
         "z": [
          4.2688067,
          6.42624111
         ]
        },
        {
         "line": {
          "color": "black",
          "width": 1
         },
         "mode": "lines",
         "name": "atom29-atom20",
         "text": "tensor(0.)",
         "type": "scatter3d",
         "x": [
          6.39887399,
          6.36114819
         ],
         "y": [
          2.14488908,
          0.03332811
         ],
         "z": [
          4.2688067,
          2.13618689
         ]
        },
        {
         "line": {
          "color": "black",
          "width": 1
         },
         "mode": "lines",
         "name": "atom29-atom21",
         "text": "tensor(0.)",
         "type": "scatter3d",
         "x": [
          6.39887399,
          6.34047633
         ],
         "y": [
          2.14488908,
          -0.00961057
         ],
         "z": [
          4.2688067,
          6.40855719
         ]
        },
        {
         "line": {
          "color": "black",
          "width": 1
         },
         "mode": "lines",
         "name": "atom29-atom22",
         "text": "tensor(0.)",
         "type": "scatter3d",
         "x": [
          6.39887399,
          6.35290946
         ],
         "y": [
          2.14488908,
          4.22765209
         ],
         "z": [
          4.2688067,
          2.13299585
         ]
        },
        {
         "line": {
          "color": "black",
          "width": 1
         },
         "mode": "lines",
         "name": "atom29-atom23",
         "text": "tensor(0.)",
         "type": "scatter3d",
         "x": [
          6.39887399,
          6.33625562
         ],
         "y": [
          2.14488908,
          4.27507179
         ],
         "z": [
          4.2688067,
          6.40939065
         ]
        },
        {
         "line": {
          "color": "black",
          "width": 1
         },
         "mode": "lines",
         "name": "atom29-atom37",
         "text": "tensor(0.)",
         "type": "scatter3d",
         "x": [
          6.39887399,
          6.3804302
         ],
         "y": [
          2.14488908,
          -0.01300414
         ],
         "z": [
          4.2688067,
          4.26848918
         ]
        },
        {
         "line": {
          "color": "black",
          "width": 1
         },
         "mode": "lines",
         "name": "atom29-atom39",
         "text": "tensor(0.)",
         "type": "scatter3d",
         "x": [
          6.39887399,
          6.38384494
         ],
         "y": [
          2.14488908,
          4.28884033
         ],
         "z": [
          4.2688067,
          4.24645793
         ]
        },
        {
         "line": {
          "color": "black",
          "width": 1
         },
         "mode": "lines",
         "name": "atom29-atom43",
         "text": "tensor(0.)",
         "type": "scatter3d",
         "x": [
          6.39887399,
          4.27
         ],
         "y": [
          2.14488908,
          2.135
         ],
         "z": [
          4.2688067,
          4.27
         ]
        },
        {
         "line": {
          "color": "black",
          "width": 1
         },
         "mode": "lines",
         "name": "atom30-atom6",
         "text": "tensor(0.)",
         "type": "scatter3d",
         "x": [
          6.37832323,
          4.27058231
         ],
         "y": [
          6.40273461,
          4.31373791
         ],
         "z": [
          0.00695689,
          0.00880816
         ]
        },
        {
         "line": {
          "color": "black",
          "width": 1
         },
         "mode": "lines",
         "name": "atom30-atom14",
         "text": "tensor(0.)",
         "type": "scatter3d",
         "x": [
          6.37832323,
          4.31443713
         ],
         "y": [
          6.40273461,
          6.37110187
         ],
         "z": [
          0.00695689,
          2.08292722
         ]
        },
        {
         "line": {
          "color": "black",
          "width": 1
         },
         "mode": "lines",
         "name": "atom30-atom22",
         "text": "tensor(0.)",
         "type": "scatter3d",
         "x": [
          6.37832323,
          6.35290946
         ],
         "y": [
          6.40273461,
          4.22765209
         ],
         "z": [
          0.00695689,
          2.13299585
         ]
        },
        {
         "line": {
          "color": "black",
          "width": 1
         },
         "mode": "lines",
         "name": "atom30-atom38",
         "text": "tensor(0.)",
         "type": "scatter3d",
         "x": [
          6.37832323,
          6.36236714
         ],
         "y": [
          6.40273461,
          4.25608549
         ],
         "z": [
          0.00695689,
          0.02179081
         ]
        },
        {
         "line": {
          "color": "black",
          "width": 1
         },
         "mode": "lines",
         "name": "atom31-atom7",
         "text": "tensor(0.)",
         "type": "scatter3d",
         "x": [
          6.41774512,
          4.27053406
         ],
         "y": [
          6.39970971,
          4.22866775
         ],
         "z": [
          4.26480548,
          4.27101064
         ]
        },
        {
         "line": {
          "color": "black",
          "width": 1
         },
         "mode": "lines",
         "name": "atom31-atom14",
         "text": "tensor(0.)",
         "type": "scatter3d",
         "x": [
          6.41774512,
          4.31443713
         ],
         "y": [
          6.39970971,
          6.37110187
         ],
         "z": [
          4.26480548,
          2.08292722
         ]
        },
        {
         "line": {
          "color": "black",
          "width": 1
         },
         "mode": "lines",
         "name": "atom31-atom15",
         "text": "tensor(0.)",
         "type": "scatter3d",
         "x": [
          6.41774512,
          4.22556287
         ],
         "y": [
          6.39970971,
          6.43889813
         ],
         "z": [
          4.26480548,
          6.45707278
         ]
        },
        {
         "line": {
          "color": "black",
          "width": 1
         },
         "mode": "lines",
         "name": "atom31-atom22",
         "text": "tensor(0.)",
         "type": "scatter3d",
         "x": [
          6.41774512,
          6.35290946
         ],
         "y": [
          6.39970971,
          4.22765209
         ],
         "z": [
          4.26480548,
          2.13299585
         ]
        },
        {
         "line": {
          "color": "black",
          "width": 1
         },
         "mode": "lines",
         "name": "atom31-atom23",
         "text": "tensor(0.)",
         "type": "scatter3d",
         "x": [
          6.41774512,
          6.33625562
         ],
         "y": [
          6.39970971,
          4.27507179
         ],
         "z": [
          4.26480548,
          6.40939065
         ]
        },
        {
         "line": {
          "color": "black",
          "width": 1
         },
         "mode": "lines",
         "name": "atom31-atom39",
         "text": "tensor(0.)",
         "type": "scatter3d",
         "x": [
          6.41774512,
          6.38384494
         ],
         "y": [
          6.39970971,
          4.28884033
         ],
         "z": [
          4.26480548,
          4.24645793
         ]
        },
        {
         "line": {
          "color": "black",
          "width": 1
         },
         "mode": "lines",
         "name": "atom31-atom47",
         "text": "tensor(0.)",
         "type": "scatter3d",
         "x": [
          6.41774512,
          6.36659798
         ],
         "y": [
          6.39970971,
          6.41823617
         ],
         "z": [
          4.26480548,
          6.39679277
         ]
        },
        {
         "line": {
          "color": "black",
          "width": 1
         },
         "mode": "lines",
         "name": "atom32-atom0",
         "text": "tensor(0.)",
         "type": "scatter3d",
         "x": [
          2.17763286,
          -0.00089258
         ],
         "y": [
          0.01391451,
          0.00458667
         ],
         "z": [
          -0.02179081,
          -0.00151635
         ]
        },
        {
         "line": {
          "color": "black",
          "width": 1
         },
         "mode": "lines",
         "name": "atom32-atom4",
         "text": "tensor(0.)",
         "type": "scatter3d",
         "x": [
          2.17763286,
          4.26941769
         ],
         "y": [
          0.01391451,
          -0.04373791
         ],
         "z": [
          -0.02179081,
          -0.00880816
         ]
        },
        {
         "line": {
          "color": "black",
          "width": 1
         },
         "mode": "lines",
         "name": "atom32-atom16",
         "text": "tensor(0.)",
         "type": "scatter3d",
         "x": [
          2.17763286,
          2.20374438
         ],
         "y": [
          0.01391451,
          -0.00507179
         ],
         "z": [
          -0.02179081,
          2.13060935
         ]
        },
        {
         "line": {
          "color": "black",
          "width": 1
         },
         "mode": "lines",
         "name": "atom32-atom24",
         "text": "tensor(0.)",
         "type": "scatter3d",
         "x": [
          2.17763286,
          2.12264875
         ],
         "y": [
          0.01391451,
          2.1341565
         ],
         "z": [
          -0.02179081,
          -0.01657353
         ]
        },
        {
         "line": {
          "color": "black",
          "width": 1
         },
         "mode": "lines",
         "name": "atom32-atom40",
         "text": "tensor(0.)",
         "type": "scatter3d",
         "x": [
          2.17763286,
          0
         ],
         "y": [
          0.01391451,
          2.135
         ],
         "z": [
          -0.02179081,
          0
         ]
        },
        {
         "line": {
          "color": "black",
          "width": 1
         },
         "mode": "lines",
         "name": "atom32-atom44",
         "text": "tensor(0.)",
         "type": "scatter3d",
         "x": [
          2.17763286,
          -0.01130404
         ],
         "y": [
          0.01391451,
          0.0002729
         ],
         "z": [
          -0.02179081,
          2.14818918
         ]
        },
        {
         "line": {
          "color": "black",
          "width": 1
         },
         "mode": "lines",
         "name": "atom33-atom1",
         "text": "tensor(0.)",
         "type": "scatter3d",
         "x": [
          2.15615506,
          -0.00185382
         ],
         "y": [
          -0.01884033,
          -0.00521454
         ],
         "z": [
          4.29354207,
          4.28553627
         ]
        },
        {
         "line": {
          "color": "black",
          "width": 1
         },
         "mode": "lines",
         "name": "atom33-atom5",
         "text": "tensor(0.)",
         "type": "scatter3d",
         "x": [
          2.15615506,
          4.26946594
         ],
         "y": [
          -0.01884033,
          0.04133225
         ],
         "z": [
          4.29354207,
          4.26898936
         ]
        },
        {
         "line": {
          "color": "black",
          "width": 1
         },
         "mode": "lines",
         "name": "atom33-atom16",
         "text": "tensor(0.)",
         "type": "scatter3d",
         "x": [
          2.15615506,
          2.20374438
         ],
         "y": [
          -0.01884033,
          -0.00507179
         ],
         "z": [
          4.29354207,
          2.13060935
         ]
        },
        {
         "line": {
          "color": "black",
          "width": 1
         },
         "mode": "lines",
         "name": "atom33-atom17",
         "text": "tensor(0.)",
         "type": "scatter3d",
         "x": [
          2.15615506,
          2.18709054
         ],
         "y": [
          -0.01884033,
          0.0423479
         ],
         "z": [
          4.29354207,
          6.40700415
         ]
        },
        {
         "line": {
          "color": "black",
          "width": 1
         },
         "mode": "lines",
         "name": "atom33-atom25",
         "text": "tensor(0.)",
         "type": "scatter3d",
         "x": [
          2.15615506,
          2.14112601
         ],
         "y": [
          -0.01884033,
          2.12511092
         ],
         "z": [
          4.29354207,
          4.2711933
         ]
        },
        {
         "line": {
          "color": "black",
          "width": 1
         },
         "mode": "lines",
         "name": "atom33-atom41",
         "text": "tensor(0.)",
         "type": "scatter3d",
         "x": [
          2.15615506,
          0
         ],
         "y": [
          -0.01884033,
          2.135
         ],
         "z": [
          4.29354207,
          4.27
         ]
        },
        {
         "line": {
          "color": "black",
          "width": 1
         },
         "mode": "lines",
         "name": "atom33-atom43",
         "text": "tensor(0.)",
         "type": "scatter3d",
         "x": [
          2.15615506,
          4.27
         ],
         "y": [
          -0.01884033,
          2.135
         ],
         "z": [
          4.29354207,
          4.27
         ]
        },
        {
         "line": {
          "color": "black",
          "width": 1
         },
         "mode": "lines",
         "name": "atom33-atom44",
         "text": "tensor(0.)",
         "type": "scatter3d",
         "x": [
          2.15615506,
          -0.01130404
         ],
         "y": [
          -0.01884033,
          0.0002729
         ],
         "z": [
          4.29354207,
          2.14818918
         ]
        },
        {
         "line": {
          "color": "black",
          "width": 1
         },
         "mode": "lines",
         "name": "atom34-atom2",
         "text": "tensor(0.)",
         "type": "scatter3d",
         "x": [
          2.18030649,
          0.00089258
         ],
         "y": [
          4.25471285,
          4.26541333
         ],
         "z": [
          0.00032304,
          0.00151635
         ]
        },
        {
         "line": {
          "color": "black",
          "width": 1
         },
         "mode": "lines",
         "name": "atom34-atom6",
         "text": "tensor(0.)",
         "type": "scatter3d",
         "x": [
          2.18030649,
          4.27058231
         ],
         "y": [
          4.25471285,
          4.31373791
         ],
         "z": [
          0.00032304,
          0.00880816
         ]
        },
        {
         "line": {
          "color": "black",
          "width": 1
         },
         "mode": "lines",
         "name": "atom34-atom18",
         "text": "tensor(0.)",
         "type": "scatter3d",
         "x": [
          2.18030649,
          2.19952367
         ],
         "y": [
          4.25471285,
          4.27961057
         ],
         "z": [
          0.00032304,
          2.13144282
         ]
        },
        {
         "line": {
          "color": "black",
          "width": 1
         },
         "mode": "lines",
         "name": "atom34-atom24",
         "text": "tensor(0.)",
         "type": "scatter3d",
         "x": [
          2.18030649,
          2.12264875
         ],
         "y": [
          4.25471285,
          2.1341565
         ],
         "z": [
          0.00032304,
          -0.01657353
         ]
        },
        {
         "line": {
          "color": "black",
          "width": 1
         },
         "mode": "lines",
         "name": "atom34-atom26",
         "text": "tensor(0.)",
         "type": "scatter3d",
         "x": [
          2.18030649,
          2.16167677
         ],
         "y": [
          4.25471285,
          6.40726539
         ],
         "z": [
          0.00032304,
          -0.00695689
         ]
        },
        {
         "line": {
          "color": "black",
          "width": 1
         },
         "mode": "lines",
         "name": "atom34-atom40",
         "text": "tensor(0.)",
         "type": "scatter3d",
         "x": [
          2.18030649,
          0
         ],
         "y": [
          4.25471285,
          2.135
         ],
         "z": [
          0.00032304,
          0
         ]
        },
        {
         "line": {
          "color": "black",
          "width": 1
         },
         "mode": "lines",
         "name": "atom34-atom42",
         "text": "tensor(0.)",
         "type": "scatter3d",
         "x": [
          2.18030649,
          0
         ],
         "y": [
          4.25471285,
          6.405
         ],
         "z": [
          0.00032304,
          0
         ]
        },
        {
         "line": {
          "color": "black",
          "width": 1
         },
         "mode": "lines",
         "name": "atom34-atom46",
         "text": "tensor(0.)",
         "type": "scatter3d",
         "x": [
          2.18030649,
          2.17340202
         ],
         "y": [
          4.25471285,
          6.39176383
         ],
         "z": [
          0.00032304,
          2.14320723
         ]
        },
        {
         "line": {
          "color": "black",
          "width": 1
         },
         "mode": "lines",
         "name": "atom35-atom3",
         "text": "tensor(0.)",
         "type": "scatter3d",
         "x": [
          2.1595698,
          0.00185382
         ],
         "y": [
          4.28300414,
          4.27521454
         ],
         "z": [
          4.27151083,
          4.25446373
         ]
        },
        {
         "line": {
          "color": "black",
          "width": 1
         },
         "mode": "lines",
         "name": "atom35-atom7",
         "text": "tensor(0.)",
         "type": "scatter3d",
         "x": [
          2.1595698,
          4.27053406
         ],
         "y": [
          4.28300414,
          4.22866775
         ],
         "z": [
          4.27151083,
          4.27101064
         ]
        },
        {
         "line": {
          "color": "black",
          "width": 1
         },
         "mode": "lines",
         "name": "atom35-atom18",
         "text": "tensor(0.)",
         "type": "scatter3d",
         "x": [
          2.1595698,
          2.19952367
         ],
         "y": [
          4.28300414,
          4.27961057
         ],
         "z": [
          4.27151083,
          2.13144282
         ]
        },
        {
         "line": {
          "color": "black",
          "width": 1
         },
         "mode": "lines",
         "name": "atom35-atom19",
         "text": "tensor(0.)",
         "type": "scatter3d",
         "x": [
          2.1595698,
          2.17885181
         ],
         "y": [
          4.28300414,
          4.23667188
         ],
         "z": [
          4.27151083,
          6.40381311
         ]
        },
        {
         "line": {
          "color": "black",
          "width": 1
         },
         "mode": "lines",
         "name": "atom35-atom25",
         "text": "tensor(0.)",
         "type": "scatter3d",
         "x": [
          2.1595698,
          2.14112601
         ],
         "y": [
          4.28300414,
          2.12511092
         ],
         "z": [
          4.27151083,
          4.2711933
         ]
        },
        {
         "line": {
          "color": "black",
          "width": 1
         },
         "mode": "lines",
         "name": "atom35-atom27",
         "text": "tensor(0.)",
         "type": "scatter3d",
         "x": [
          2.1595698,
          2.12225487
         ],
         "y": [
          4.28300414,
          6.41029029
         ],
         "z": [
          4.27151083,
          4.27519452
         ]
        },
        {
         "line": {
          "color": "black",
          "width": 1
         },
         "mode": "lines",
         "name": "atom35-atom41",
         "text": "tensor(0.)",
         "type": "scatter3d",
         "x": [
          2.1595698,
          0
         ],
         "y": [
          4.28300414,
          2.135
         ],
         "z": [
          4.27151083,
          4.27
         ]
        },
        {
         "line": {
          "color": "black",
          "width": 1
         },
         "mode": "lines",
         "name": "atom35-atom43",
         "text": "tensor(0.)",
         "type": "scatter3d",
         "x": [
          2.1595698,
          4.27
         ],
         "y": [
          4.28300414,
          2.135
         ],
         "z": [
          4.27151083,
          4.27
         ]
        },
        {
         "line": {
          "color": "black",
          "width": 1
         },
         "mode": "lines",
         "name": "atom35-atom45",
         "text": "tensor(0.)",
         "type": "scatter3d",
         "x": [
          2.1595698,
          0.01130404
         ],
         "y": [
          4.28300414,
          4.2697271
         ],
         "z": [
          4.27151083,
          6.39181082
         ]
        },
        {
         "line": {
          "color": "black",
          "width": 1
         },
         "mode": "lines",
         "name": "atom35-atom46",
         "text": "tensor(0.)",
         "type": "scatter3d",
         "x": [
          2.1595698,
          2.17340202
         ],
         "y": [
          4.28300414,
          6.39176383
         ],
         "z": [
          4.27151083,
          2.14320723
         ]
        },
        {
         "line": {
          "color": "black",
          "width": 1
         },
         "mode": "lines",
         "name": "atom36-atom4",
         "text": "tensor(0.)",
         "type": "scatter3d",
         "x": [
          6.35969351,
          4.26941769
         ],
         "y": [
          0.01528715,
          -0.04373791
         ],
         "z": [
          -0.00032304,
          -0.00880816
         ]
        },
        {
         "line": {
          "color": "black",
          "width": 1
         },
         "mode": "lines",
         "name": "atom36-atom20",
         "text": "tensor(0.)",
         "type": "scatter3d",
         "x": [
          6.35969351,
          6.36114819
         ],
         "y": [
          0.01528715,
          0.03332811
         ],
         "z": [
          -0.00032304,
          2.13618689
         ]
        },
        {
         "line": {
          "color": "black",
          "width": 1
         },
         "mode": "lines",
         "name": "atom36-atom28",
         "text": "tensor(0.)",
         "type": "scatter3d",
         "x": [
          6.35969351,
          6.41735125
         ],
         "y": [
          0.01528715,
          2.1358435
         ],
         "z": [
          -0.00032304,
          0.01657353
         ]
        },
        {
         "line": {
          "color": "black",
          "width": 1
         },
         "mode": "lines",
         "name": "atom37-atom5",
         "text": "tensor(0.)",
         "type": "scatter3d",
         "x": [
          6.3804302,
          4.26946594
         ],
         "y": [
          -0.01300414,
          0.04133225
         ],
         "z": [
          4.26848918,
          4.26898936
         ]
        },
        {
         "line": {
          "color": "black",
          "width": 1
         },
         "mode": "lines",
         "name": "atom37-atom20",
         "text": "tensor(0.)",
         "type": "scatter3d",
         "x": [
          6.3804302,
          6.36114819
         ],
         "y": [
          -0.01300414,
          0.03332811
         ],
         "z": [
          4.26848918,
          2.13618689
         ]
        },
        {
         "line": {
          "color": "black",
          "width": 1
         },
         "mode": "lines",
         "name": "atom37-atom21",
         "text": "tensor(0.)",
         "type": "scatter3d",
         "x": [
          6.3804302,
          6.34047633
         ],
         "y": [
          -0.01300414,
          -0.00961057
         ],
         "z": [
          4.26848918,
          6.40855719
         ]
        },
        {
         "line": {
          "color": "black",
          "width": 1
         },
         "mode": "lines",
         "name": "atom37-atom29",
         "text": "tensor(0.)",
         "type": "scatter3d",
         "x": [
          6.3804302,
          6.39887399
         ],
         "y": [
          -0.01300414,
          2.14488908
         ],
         "z": [
          4.26848918,
          4.2688067
         ]
        },
        {
         "line": {
          "color": "black",
          "width": 1
         },
         "mode": "lines",
         "name": "atom37-atom43",
         "text": "tensor(0.)",
         "type": "scatter3d",
         "x": [
          6.3804302,
          4.27
         ],
         "y": [
          -0.01300414,
          2.135
         ],
         "z": [
          4.26848918,
          4.27
         ]
        },
        {
         "line": {
          "color": "black",
          "width": 1
         },
         "mode": "lines",
         "name": "atom38-atom6",
         "text": "tensor(0.)",
         "type": "scatter3d",
         "x": [
          6.36236714,
          4.27058231
         ],
         "y": [
          4.25608549,
          4.31373791
         ],
         "z": [
          0.02179081,
          0.00880816
         ]
        },
        {
         "line": {
          "color": "black",
          "width": 1
         },
         "mode": "lines",
         "name": "atom38-atom22",
         "text": "tensor(0.)",
         "type": "scatter3d",
         "x": [
          6.36236714,
          6.35290946
         ],
         "y": [
          4.25608549,
          4.22765209
         ],
         "z": [
          0.02179081,
          2.13299585
         ]
        },
        {
         "line": {
          "color": "black",
          "width": 1
         },
         "mode": "lines",
         "name": "atom38-atom28",
         "text": "tensor(0.)",
         "type": "scatter3d",
         "x": [
          6.36236714,
          6.41735125
         ],
         "y": [
          4.25608549,
          2.1358435
         ],
         "z": [
          0.02179081,
          0.01657353
         ]
        },
        {
         "line": {
          "color": "black",
          "width": 1
         },
         "mode": "lines",
         "name": "atom38-atom30",
         "text": "tensor(0.)",
         "type": "scatter3d",
         "x": [
          6.36236714,
          6.37832323
         ],
         "y": [
          4.25608549,
          6.40273461
         ],
         "z": [
          0.02179081,
          0.00695689
         ]
        },
        {
         "line": {
          "color": "black",
          "width": 1
         },
         "mode": "lines",
         "name": "atom39-atom7",
         "text": "tensor(0.)",
         "type": "scatter3d",
         "x": [
          6.38384494,
          4.27053406
         ],
         "y": [
          4.28884033,
          4.22866775
         ],
         "z": [
          4.24645793,
          4.27101064
         ]
        },
        {
         "line": {
          "color": "black",
          "width": 1
         },
         "mode": "lines",
         "name": "atom39-atom22",
         "text": "tensor(0.)",
         "type": "scatter3d",
         "x": [
          6.38384494,
          6.35290946
         ],
         "y": [
          4.28884033,
          4.22765209
         ],
         "z": [
          4.24645793,
          2.13299585
         ]
        },
        {
         "line": {
          "color": "black",
          "width": 1
         },
         "mode": "lines",
         "name": "atom39-atom23",
         "text": "tensor(0.)",
         "type": "scatter3d",
         "x": [
          6.38384494,
          6.33625562
         ],
         "y": [
          4.28884033,
          4.27507179
         ],
         "z": [
          4.24645793,
          6.40939065
         ]
        },
        {
         "line": {
          "color": "black",
          "width": 1
         },
         "mode": "lines",
         "name": "atom39-atom29",
         "text": "tensor(0.)",
         "type": "scatter3d",
         "x": [
          6.38384494,
          6.39887399
         ],
         "y": [
          4.28884033,
          2.14488908
         ],
         "z": [
          4.24645793,
          4.2688067
         ]
        },
        {
         "line": {
          "color": "black",
          "width": 1
         },
         "mode": "lines",
         "name": "atom39-atom31",
         "text": "tensor(0.)",
         "type": "scatter3d",
         "x": [
          6.38384494,
          6.41774512
         ],
         "y": [
          4.28884033,
          6.39970971
         ],
         "z": [
          4.24645793,
          4.26480548
         ]
        },
        {
         "line": {
          "color": "black",
          "width": 1
         },
         "mode": "lines",
         "name": "atom39-atom43",
         "text": "tensor(0.)",
         "type": "scatter3d",
         "x": [
          6.38384494,
          4.27
         ],
         "y": [
          4.28884033,
          2.135
         ],
         "z": [
          4.24645793,
          4.27
         ]
        },
        {
         "line": {
          "color": "black",
          "width": 1
         },
         "mode": "lines",
         "name": "atom39-atom47",
         "text": "tensor(0.)",
         "type": "scatter3d",
         "x": [
          6.38384494,
          6.36659798
         ],
         "y": [
          4.28884033,
          6.41823617
         ],
         "z": [
          4.24645793,
          6.39679277
         ]
        },
        {
         "line": {
          "color": "black",
          "width": 1
         },
         "mode": "lines",
         "name": "atom40-atom0",
         "text": "tensor(0.)",
         "type": "scatter3d",
         "x": [
          0,
          -0.00089258
         ],
         "y": [
          2.135,
          0.00458667
         ],
         "z": [
          0,
          -0.00151635
         ]
        },
        {
         "line": {
          "color": "black",
          "width": 1
         },
         "mode": "lines",
         "name": "atom40-atom2",
         "text": "tensor(0.)",
         "type": "scatter3d",
         "x": [
          0,
          0.00089258
         ],
         "y": [
          2.135,
          4.26541333
         ],
         "z": [
          0,
          0.00151635
         ]
        },
        {
         "line": {
          "color": "black",
          "width": 1
         },
         "mode": "lines",
         "name": "atom40-atom8",
         "text": "tensor(0.)",
         "type": "scatter3d",
         "x": [
          0,
          -0.03052547
         ],
         "y": [
          2.135,
          2.17474091
         ],
         "z": [
          0,
          2.13694045
         ]
        },
        {
         "line": {
          "color": "black",
          "width": 1
         },
         "mode": "lines",
         "name": "atom40-atom24",
         "text": "tensor(0.)",
         "type": "scatter3d",
         "x": [
          0,
          2.12264875
         ],
         "y": [
          2.135,
          2.1341565
         ],
         "z": [
          0,
          -0.01657353
         ]
        },
        {
         "line": {
          "color": "black",
          "width": 1
         },
         "mode": "lines",
         "name": "atom40-atom32",
         "text": "tensor(0.)",
         "type": "scatter3d",
         "x": [
          0,
          2.17763286
         ],
         "y": [
          2.135,
          0.01391451
         ],
         "z": [
          0,
          -0.02179081
         ]
        },
        {
         "line": {
          "color": "black",
          "width": 1
         },
         "mode": "lines",
         "name": "atom40-atom34",
         "text": "tensor(0.)",
         "type": "scatter3d",
         "x": [
          0,
          2.18030649
         ],
         "y": [
          2.135,
          4.25471285
         ],
         "z": [
          0,
          0.00032304
         ]
        },
        {
         "line": {
          "color": "black",
          "width": 1
         },
         "mode": "lines",
         "name": "atom40-atom44",
         "text": "tensor(0.)",
         "type": "scatter3d",
         "x": [
          0,
          -0.01130404
         ],
         "y": [
          2.135,
          0.0002729
         ],
         "z": [
          0,
          2.14818918
         ]
        },
        {
         "line": {
          "color": "black",
          "width": 1
         },
         "mode": "lines",
         "name": "atom41-atom1",
         "text": "tensor(0.)",
         "type": "scatter3d",
         "x": [
          0,
          -0.00185382
         ],
         "y": [
          2.135,
          -0.00521454
         ],
         "z": [
          4.27,
          4.28553627
         ]
        },
        {
         "line": {
          "color": "black",
          "width": 1
         },
         "mode": "lines",
         "name": "atom41-atom3",
         "text": "tensor(0.)",
         "type": "scatter3d",
         "x": [
          0,
          0.00185382
         ],
         "y": [
          2.135,
          4.27521454
         ],
         "z": [
          4.27,
          4.25446373
         ]
        },
        {
         "line": {
          "color": "black",
          "width": 1
         },
         "mode": "lines",
         "name": "atom41-atom8",
         "text": "tensor(0.)",
         "type": "scatter3d",
         "x": [
          0,
          -0.03052547
         ],
         "y": [
          2.135,
          2.17474091
         ],
         "z": [
          4.27,
          2.13694045
         ]
        },
        {
         "line": {
          "color": "black",
          "width": 1
         },
         "mode": "lines",
         "name": "atom41-atom9",
         "text": "tensor(0.)",
         "type": "scatter3d",
         "x": [
          0,
          0.03052547
         ],
         "y": [
          2.135,
          2.09525909
         ],
         "z": [
          4.27,
          6.40305955
         ]
        },
        {
         "line": {
          "color": "black",
          "width": 1
         },
         "mode": "lines",
         "name": "atom41-atom25",
         "text": "tensor(0.)",
         "type": "scatter3d",
         "x": [
          0,
          2.14112601
         ],
         "y": [
          2.135,
          2.12511092
         ],
         "z": [
          4.27,
          4.2711933
         ]
        },
        {
         "line": {
          "color": "black",
          "width": 1
         },
         "mode": "lines",
         "name": "atom41-atom33",
         "text": "tensor(0.)",
         "type": "scatter3d",
         "x": [
          0,
          2.15615506
         ],
         "y": [
          2.135,
          -0.01884033
         ],
         "z": [
          4.27,
          4.29354207
         ]
        },
        {
         "line": {
          "color": "black",
          "width": 1
         },
         "mode": "lines",
         "name": "atom41-atom35",
         "text": "tensor(0.)",
         "type": "scatter3d",
         "x": [
          0,
          2.1595698
         ],
         "y": [
          2.135,
          4.28300414
         ],
         "z": [
          4.27,
          4.27151083
         ]
        },
        {
         "line": {
          "color": "black",
          "width": 1
         },
         "mode": "lines",
         "name": "atom41-atom44",
         "text": "tensor(0.)",
         "type": "scatter3d",
         "x": [
          0,
          -0.01130404
         ],
         "y": [
          2.135,
          0.0002729
         ],
         "z": [
          4.27,
          2.14818918
         ]
        },
        {
         "line": {
          "color": "black",
          "width": 1
         },
         "mode": "lines",
         "name": "atom41-atom45",
         "text": "tensor(0.)",
         "type": "scatter3d",
         "x": [
          0,
          0.01130404
         ],
         "y": [
          2.135,
          4.2697271
         ],
         "z": [
          4.27,
          6.39181082
         ]
        },
        {
         "line": {
          "color": "black",
          "width": 1
         },
         "mode": "lines",
         "name": "atom42-atom2",
         "text": "tensor(0.)",
         "type": "scatter3d",
         "x": [
          0,
          0.00089258
         ],
         "y": [
          6.405,
          4.26541333
         ],
         "z": [
          0,
          0.00151635
         ]
        },
        {
         "line": {
          "color": "black",
          "width": 1
         },
         "mode": "lines",
         "name": "atom42-atom10",
         "text": "tensor(0.)",
         "type": "scatter3d",
         "x": [
          0,
          -0.04148446
         ],
         "y": [
          6.405,
          6.36177301
         ],
         "z": [
          0,
          2.19740262
         ]
        },
        {
         "line": {
          "color": "black",
          "width": 1
         },
         "mode": "lines",
         "name": "atom42-atom26",
         "text": "tensor(0.)",
         "type": "scatter3d",
         "x": [
          0,
          2.16167677
         ],
         "y": [
          6.405,
          6.40726539
         ],
         "z": [
          0,
          -0.00695689
         ]
        },
        {
         "line": {
          "color": "black",
          "width": 1
         },
         "mode": "lines",
         "name": "atom42-atom34",
         "text": "tensor(0.)",
         "type": "scatter3d",
         "x": [
          0,
          2.18030649
         ],
         "y": [
          6.405,
          4.25471285
         ],
         "z": [
          0,
          0.00032304
         ]
        },
        {
         "line": {
          "color": "black",
          "width": 1
         },
         "mode": "lines",
         "name": "atom42-atom46",
         "text": "tensor(0.)",
         "type": "scatter3d",
         "x": [
          0,
          2.17340202
         ],
         "y": [
          6.405,
          6.39176383
         ],
         "z": [
          0,
          2.14320723
         ]
        },
        {
         "line": {
          "color": "black",
          "width": 1
         },
         "mode": "lines",
         "name": "atom43-atom5",
         "text": "tensor(0.)",
         "type": "scatter3d",
         "x": [
          4.27,
          4.26946594
         ],
         "y": [
          2.135,
          0.04133225
         ],
         "z": [
          4.27,
          4.26898936
         ]
        },
        {
         "line": {
          "color": "black",
          "width": 1
         },
         "mode": "lines",
         "name": "atom43-atom7",
         "text": "tensor(0.)",
         "type": "scatter3d",
         "x": [
          4.27,
          4.27053406
         ],
         "y": [
          2.135,
          4.22866775
         ],
         "z": [
          4.27,
          4.27101064
         ]
        },
        {
         "line": {
          "color": "black",
          "width": 1
         },
         "mode": "lines",
         "name": "atom43-atom12",
         "text": "tensor(0.)",
         "type": "scatter3d",
         "x": [
          4.27,
          4.29973149
         ],
         "y": [
          2.135,
          2.15239231
         ],
         "z": [
          4.27,
          2.11375889
         ]
        },
        {
         "line": {
          "color": "black",
          "width": 1
         },
         "mode": "lines",
         "name": "atom43-atom13",
         "text": "tensor(0.)",
         "type": "scatter3d",
         "x": [
          4.27,
          4.24026851
         ],
         "y": [
          2.135,
          2.11760769
         ],
         "z": [
          4.27,
          6.42624111
         ]
        },
        {
         "line": {
          "color": "black",
          "width": 1
         },
         "mode": "lines",
         "name": "atom43-atom25",
         "text": "tensor(0.)",
         "type": "scatter3d",
         "x": [
          4.27,
          2.14112601
         ],
         "y": [
          2.135,
          2.12511092
         ],
         "z": [
          4.27,
          4.2711933
         ]
        },
        {
         "line": {
          "color": "black",
          "width": 1
         },
         "mode": "lines",
         "name": "atom43-atom29",
         "text": "tensor(0.)",
         "type": "scatter3d",
         "x": [
          4.27,
          6.39887399
         ],
         "y": [
          2.135,
          2.14488908
         ],
         "z": [
          4.27,
          4.2688067
         ]
        },
        {
         "line": {
          "color": "black",
          "width": 1
         },
         "mode": "lines",
         "name": "atom43-atom33",
         "text": "tensor(0.)",
         "type": "scatter3d",
         "x": [
          4.27,
          2.15615506
         ],
         "y": [
          2.135,
          -0.01884033
         ],
         "z": [
          4.27,
          4.29354207
         ]
        },
        {
         "line": {
          "color": "black",
          "width": 1
         },
         "mode": "lines",
         "name": "atom43-atom35",
         "text": "tensor(0.)",
         "type": "scatter3d",
         "x": [
          4.27,
          2.1595698
         ],
         "y": [
          2.135,
          4.28300414
         ],
         "z": [
          4.27,
          4.27151083
         ]
        },
        {
         "line": {
          "color": "black",
          "width": 1
         },
         "mode": "lines",
         "name": "atom43-atom37",
         "text": "tensor(0.)",
         "type": "scatter3d",
         "x": [
          4.27,
          6.3804302
         ],
         "y": [
          2.135,
          -0.01300414
         ],
         "z": [
          4.27,
          4.26848918
         ]
        },
        {
         "line": {
          "color": "black",
          "width": 1
         },
         "mode": "lines",
         "name": "atom43-atom39",
         "text": "tensor(0.)",
         "type": "scatter3d",
         "x": [
          4.27,
          6.38384494
         ],
         "y": [
          2.135,
          4.28884033
         ],
         "z": [
          4.27,
          4.24645793
         ]
        },
        {
         "line": {
          "color": "black",
          "width": 1
         },
         "mode": "lines",
         "name": "atom44-atom0",
         "text": "tensor(0.)",
         "type": "scatter3d",
         "x": [
          -0.01130404,
          -0.00089258
         ],
         "y": [
          0.0002729,
          0.00458667
         ],
         "z": [
          2.14818918,
          -0.00151635
         ]
        },
        {
         "line": {
          "color": "black",
          "width": 1
         },
         "mode": "lines",
         "name": "atom44-atom1",
         "text": "tensor(0.)",
         "type": "scatter3d",
         "x": [
          -0.01130404,
          -0.00185382
         ],
         "y": [
          0.0002729,
          -0.00521454
         ],
         "z": [
          2.14818918,
          4.28553627
         ]
        },
        {
         "line": {
          "color": "black",
          "width": 1
         },
         "mode": "lines",
         "name": "atom44-atom8",
         "text": "tensor(0.)",
         "type": "scatter3d",
         "x": [
          -0.01130404,
          -0.03052547
         ],
         "y": [
          0.0002729,
          2.17474091
         ],
         "z": [
          2.14818918,
          2.13694045
         ]
        },
        {
         "line": {
          "color": "black",
          "width": 1
         },
         "mode": "lines",
         "name": "atom44-atom16",
         "text": "tensor(0.)",
         "type": "scatter3d",
         "x": [
          -0.01130404,
          2.20374438
         ],
         "y": [
          0.0002729,
          -0.00507179
         ],
         "z": [
          2.14818918,
          2.13060935
         ]
        },
        {
         "line": {
          "color": "black",
          "width": 1
         },
         "mode": "lines",
         "name": "atom44-atom32",
         "text": "tensor(0.)",
         "type": "scatter3d",
         "x": [
          -0.01130404,
          2.17763286
         ],
         "y": [
          0.0002729,
          0.01391451
         ],
         "z": [
          2.14818918,
          -0.02179081
         ]
        },
        {
         "line": {
          "color": "black",
          "width": 1
         },
         "mode": "lines",
         "name": "atom44-atom33",
         "text": "tensor(0.)",
         "type": "scatter3d",
         "x": [
          -0.01130404,
          2.15615506
         ],
         "y": [
          0.0002729,
          -0.01884033
         ],
         "z": [
          2.14818918,
          4.29354207
         ]
        },
        {
         "line": {
          "color": "black",
          "width": 1
         },
         "mode": "lines",
         "name": "atom44-atom40",
         "text": "tensor(0.)",
         "type": "scatter3d",
         "x": [
          -0.01130404,
          0
         ],
         "y": [
          0.0002729,
          2.135
         ],
         "z": [
          2.14818918,
          0
         ]
        },
        {
         "line": {
          "color": "black",
          "width": 1
         },
         "mode": "lines",
         "name": "atom44-atom41",
         "text": "tensor(0.)",
         "type": "scatter3d",
         "x": [
          -0.01130404,
          0
         ],
         "y": [
          0.0002729,
          2.135
         ],
         "z": [
          2.14818918,
          4.27
         ]
        },
        {
         "line": {
          "color": "black",
          "width": 1
         },
         "mode": "lines",
         "name": "atom45-atom3",
         "text": "tensor(0.)",
         "type": "scatter3d",
         "x": [
          0.01130404,
          0.00185382
         ],
         "y": [
          4.2697271,
          4.27521454
         ],
         "z": [
          6.39181082,
          4.25446373
         ]
        },
        {
         "line": {
          "color": "black",
          "width": 1
         },
         "mode": "lines",
         "name": "atom45-atom9",
         "text": "tensor(0.)",
         "type": "scatter3d",
         "x": [
          0.01130404,
          0.03052547
         ],
         "y": [
          4.2697271,
          2.09525909
         ],
         "z": [
          6.39181082,
          6.40305955
         ]
        },
        {
         "line": {
          "color": "black",
          "width": 1
         },
         "mode": "lines",
         "name": "atom45-atom11",
         "text": "tensor(0.)",
         "type": "scatter3d",
         "x": [
          0.01130404,
          0.04148446
         ],
         "y": [
          4.2697271,
          6.44822699
         ],
         "z": [
          6.39181082,
          6.34259738
         ]
        },
        {
         "line": {
          "color": "black",
          "width": 1
         },
         "mode": "lines",
         "name": "atom45-atom19",
         "text": "tensor(0.)",
         "type": "scatter3d",
         "x": [
          0.01130404,
          2.17885181
         ],
         "y": [
          4.2697271,
          4.23667188
         ],
         "z": [
          6.39181082,
          6.40381311
         ]
        },
        {
         "line": {
          "color": "black",
          "width": 1
         },
         "mode": "lines",
         "name": "atom45-atom35",
         "text": "tensor(0.)",
         "type": "scatter3d",
         "x": [
          0.01130404,
          2.1595698
         ],
         "y": [
          4.2697271,
          4.28300414
         ],
         "z": [
          6.39181082,
          4.27151083
         ]
        },
        {
         "line": {
          "color": "black",
          "width": 1
         },
         "mode": "lines",
         "name": "atom45-atom41",
         "text": "tensor(0.)",
         "type": "scatter3d",
         "x": [
          0.01130404,
          0
         ],
         "y": [
          4.2697271,
          2.135
         ],
         "z": [
          6.39181082,
          4.27
         ]
        },
        {
         "line": {
          "color": "black",
          "width": 1
         },
         "mode": "lines",
         "name": "atom46-atom10",
         "text": "tensor(0.)",
         "type": "scatter3d",
         "x": [
          2.17340202,
          -0.04148446
         ],
         "y": [
          6.39176383,
          6.36177301
         ],
         "z": [
          2.14320723,
          2.19740262
         ]
        },
        {
         "line": {
          "color": "black",
          "width": 1
         },
         "mode": "lines",
         "name": "atom46-atom14",
         "text": "tensor(0.)",
         "type": "scatter3d",
         "x": [
          2.17340202,
          4.31443713
         ],
         "y": [
          6.39176383,
          6.37110187
         ],
         "z": [
          2.14320723,
          2.08292722
         ]
        },
        {
         "line": {
          "color": "black",
          "width": 1
         },
         "mode": "lines",
         "name": "atom46-atom18",
         "text": "tensor(0.)",
         "type": "scatter3d",
         "x": [
          2.17340202,
          2.19952367
         ],
         "y": [
          6.39176383,
          4.27961057
         ],
         "z": [
          2.14320723,
          2.13144282
         ]
        },
        {
         "line": {
          "color": "black",
          "width": 1
         },
         "mode": "lines",
         "name": "atom46-atom26",
         "text": "tensor(0.)",
         "type": "scatter3d",
         "x": [
          2.17340202,
          2.16167677
         ],
         "y": [
          6.39176383,
          6.40726539
         ],
         "z": [
          2.14320723,
          -0.00695689
         ]
        },
        {
         "line": {
          "color": "black",
          "width": 1
         },
         "mode": "lines",
         "name": "atom46-atom27",
         "text": "tensor(0.)",
         "type": "scatter3d",
         "x": [
          2.17340202,
          2.12225487
         ],
         "y": [
          6.39176383,
          6.41029029
         ],
         "z": [
          2.14320723,
          4.27519452
         ]
        },
        {
         "line": {
          "color": "black",
          "width": 1
         },
         "mode": "lines",
         "name": "atom46-atom34",
         "text": "tensor(0.)",
         "type": "scatter3d",
         "x": [
          2.17340202,
          2.18030649
         ],
         "y": [
          6.39176383,
          4.25471285
         ],
         "z": [
          2.14320723,
          0.00032304
         ]
        },
        {
         "line": {
          "color": "black",
          "width": 1
         },
         "mode": "lines",
         "name": "atom46-atom35",
         "text": "tensor(0.)",
         "type": "scatter3d",
         "x": [
          2.17340202,
          2.1595698
         ],
         "y": [
          6.39176383,
          4.28300414
         ],
         "z": [
          2.14320723,
          4.27151083
         ]
        },
        {
         "line": {
          "color": "black",
          "width": 1
         },
         "mode": "lines",
         "name": "atom46-atom42",
         "text": "tensor(0.)",
         "type": "scatter3d",
         "x": [
          2.17340202,
          0
         ],
         "y": [
          6.39176383,
          6.405
         ],
         "z": [
          2.14320723,
          0
         ]
        },
        {
         "line": {
          "color": "black",
          "width": 1
         },
         "mode": "lines",
         "name": "atom47-atom15",
         "text": "tensor(0.)",
         "type": "scatter3d",
         "x": [
          6.36659798,
          4.22556287
         ],
         "y": [
          6.41823617,
          6.43889813
         ],
         "z": [
          6.39679277,
          6.45707278
         ]
        },
        {
         "line": {
          "color": "black",
          "width": 1
         },
         "mode": "lines",
         "name": "atom47-atom23",
         "text": "tensor(0.)",
         "type": "scatter3d",
         "x": [
          6.36659798,
          6.33625562
         ],
         "y": [
          6.41823617,
          4.27507179
         ],
         "z": [
          6.39679277,
          6.40939065
         ]
        },
        {
         "line": {
          "color": "black",
          "width": 1
         },
         "mode": "lines",
         "name": "atom47-atom31",
         "text": "tensor(0.)",
         "type": "scatter3d",
         "x": [
          6.36659798,
          6.41774512
         ],
         "y": [
          6.41823617,
          6.39970971
         ],
         "z": [
          6.39679277,
          4.26480548
         ]
        },
        {
         "line": {
          "color": "black",
          "width": 1
         },
         "mode": "lines",
         "name": "atom47-atom39",
         "text": "tensor(0.)",
         "type": "scatter3d",
         "x": [
          6.36659798,
          6.38384494
         ],
         "y": [
          6.41823617,
          4.28884033
         ],
         "z": [
          6.39679277,
          4.24645793
         ]
        }
       ],
       "layout": {
        "template": {
         "data": {
          "bar": [
           {
            "error_x": {
             "color": "#2a3f5f"
            },
            "error_y": {
             "color": "#2a3f5f"
            },
            "marker": {
             "line": {
              "color": "white",
              "width": 0.5
             },
             "pattern": {
              "fillmode": "overlay",
              "size": 10,
              "solidity": 0.2
             }
            },
            "type": "bar"
           }
          ],
          "barpolar": [
           {
            "marker": {
             "line": {
              "color": "white",
              "width": 0.5
             },
             "pattern": {
              "fillmode": "overlay",
              "size": 10,
              "solidity": 0.2
             }
            },
            "type": "barpolar"
           }
          ],
          "carpet": [
           {
            "aaxis": {
             "endlinecolor": "#2a3f5f",
             "gridcolor": "#C8D4E3",
             "linecolor": "#C8D4E3",
             "minorgridcolor": "#C8D4E3",
             "startlinecolor": "#2a3f5f"
            },
            "baxis": {
             "endlinecolor": "#2a3f5f",
             "gridcolor": "#C8D4E3",
             "linecolor": "#C8D4E3",
             "minorgridcolor": "#C8D4E3",
             "startlinecolor": "#2a3f5f"
            },
            "type": "carpet"
           }
          ],
          "choropleth": [
           {
            "colorbar": {
             "outlinewidth": 0,
             "ticks": ""
            },
            "type": "choropleth"
           }
          ],
          "contour": [
           {
            "colorbar": {
             "outlinewidth": 0,
             "ticks": ""
            },
            "colorscale": [
             [
              0,
              "#0d0887"
             ],
             [
              0.1111111111111111,
              "#46039f"
             ],
             [
              0.2222222222222222,
              "#7201a8"
             ],
             [
              0.3333333333333333,
              "#9c179e"
             ],
             [
              0.4444444444444444,
              "#bd3786"
             ],
             [
              0.5555555555555556,
              "#d8576b"
             ],
             [
              0.6666666666666666,
              "#ed7953"
             ],
             [
              0.7777777777777778,
              "#fb9f3a"
             ],
             [
              0.8888888888888888,
              "#fdca26"
             ],
             [
              1,
              "#f0f921"
             ]
            ],
            "type": "contour"
           }
          ],
          "contourcarpet": [
           {
            "colorbar": {
             "outlinewidth": 0,
             "ticks": ""
            },
            "type": "contourcarpet"
           }
          ],
          "heatmap": [
           {
            "colorbar": {
             "outlinewidth": 0,
             "ticks": ""
            },
            "colorscale": [
             [
              0,
              "#0d0887"
             ],
             [
              0.1111111111111111,
              "#46039f"
             ],
             [
              0.2222222222222222,
              "#7201a8"
             ],
             [
              0.3333333333333333,
              "#9c179e"
             ],
             [
              0.4444444444444444,
              "#bd3786"
             ],
             [
              0.5555555555555556,
              "#d8576b"
             ],
             [
              0.6666666666666666,
              "#ed7953"
             ],
             [
              0.7777777777777778,
              "#fb9f3a"
             ],
             [
              0.8888888888888888,
              "#fdca26"
             ],
             [
              1,
              "#f0f921"
             ]
            ],
            "type": "heatmap"
           }
          ],
          "heatmapgl": [
           {
            "colorbar": {
             "outlinewidth": 0,
             "ticks": ""
            },
            "colorscale": [
             [
              0,
              "#0d0887"
             ],
             [
              0.1111111111111111,
              "#46039f"
             ],
             [
              0.2222222222222222,
              "#7201a8"
             ],
             [
              0.3333333333333333,
              "#9c179e"
             ],
             [
              0.4444444444444444,
              "#bd3786"
             ],
             [
              0.5555555555555556,
              "#d8576b"
             ],
             [
              0.6666666666666666,
              "#ed7953"
             ],
             [
              0.7777777777777778,
              "#fb9f3a"
             ],
             [
              0.8888888888888888,
              "#fdca26"
             ],
             [
              1,
              "#f0f921"
             ]
            ],
            "type": "heatmapgl"
           }
          ],
          "histogram": [
           {
            "marker": {
             "pattern": {
              "fillmode": "overlay",
              "size": 10,
              "solidity": 0.2
             }
            },
            "type": "histogram"
           }
          ],
          "histogram2d": [
           {
            "colorbar": {
             "outlinewidth": 0,
             "ticks": ""
            },
            "colorscale": [
             [
              0,
              "#0d0887"
             ],
             [
              0.1111111111111111,
              "#46039f"
             ],
             [
              0.2222222222222222,
              "#7201a8"
             ],
             [
              0.3333333333333333,
              "#9c179e"
             ],
             [
              0.4444444444444444,
              "#bd3786"
             ],
             [
              0.5555555555555556,
              "#d8576b"
             ],
             [
              0.6666666666666666,
              "#ed7953"
             ],
             [
              0.7777777777777778,
              "#fb9f3a"
             ],
             [
              0.8888888888888888,
              "#fdca26"
             ],
             [
              1,
              "#f0f921"
             ]
            ],
            "type": "histogram2d"
           }
          ],
          "histogram2dcontour": [
           {
            "colorbar": {
             "outlinewidth": 0,
             "ticks": ""
            },
            "colorscale": [
             [
              0,
              "#0d0887"
             ],
             [
              0.1111111111111111,
              "#46039f"
             ],
             [
              0.2222222222222222,
              "#7201a8"
             ],
             [
              0.3333333333333333,
              "#9c179e"
             ],
             [
              0.4444444444444444,
              "#bd3786"
             ],
             [
              0.5555555555555556,
              "#d8576b"
             ],
             [
              0.6666666666666666,
              "#ed7953"
             ],
             [
              0.7777777777777778,
              "#fb9f3a"
             ],
             [
              0.8888888888888888,
              "#fdca26"
             ],
             [
              1,
              "#f0f921"
             ]
            ],
            "type": "histogram2dcontour"
           }
          ],
          "mesh3d": [
           {
            "colorbar": {
             "outlinewidth": 0,
             "ticks": ""
            },
            "type": "mesh3d"
           }
          ],
          "parcoords": [
           {
            "line": {
             "colorbar": {
              "outlinewidth": 0,
              "ticks": ""
             }
            },
            "type": "parcoords"
           }
          ],
          "pie": [
           {
            "automargin": true,
            "type": "pie"
           }
          ],
          "scatter": [
           {
            "fillpattern": {
             "fillmode": "overlay",
             "size": 10,
             "solidity": 0.2
            },
            "type": "scatter"
           }
          ],
          "scatter3d": [
           {
            "line": {
             "colorbar": {
              "outlinewidth": 0,
              "ticks": ""
             }
            },
            "marker": {
             "colorbar": {
              "outlinewidth": 0,
              "ticks": ""
             }
            },
            "type": "scatter3d"
           }
          ],
          "scattercarpet": [
           {
            "marker": {
             "colorbar": {
              "outlinewidth": 0,
              "ticks": ""
             }
            },
            "type": "scattercarpet"
           }
          ],
          "scattergeo": [
           {
            "marker": {
             "colorbar": {
              "outlinewidth": 0,
              "ticks": ""
             }
            },
            "type": "scattergeo"
           }
          ],
          "scattergl": [
           {
            "marker": {
             "colorbar": {
              "outlinewidth": 0,
              "ticks": ""
             }
            },
            "type": "scattergl"
           }
          ],
          "scattermapbox": [
           {
            "marker": {
             "colorbar": {
              "outlinewidth": 0,
              "ticks": ""
             }
            },
            "type": "scattermapbox"
           }
          ],
          "scatterpolar": [
           {
            "marker": {
             "colorbar": {
              "outlinewidth": 0,
              "ticks": ""
             }
            },
            "type": "scatterpolar"
           }
          ],
          "scatterpolargl": [
           {
            "marker": {
             "colorbar": {
              "outlinewidth": 0,
              "ticks": ""
             }
            },
            "type": "scatterpolargl"
           }
          ],
          "scatterternary": [
           {
            "marker": {
             "colorbar": {
              "outlinewidth": 0,
              "ticks": ""
             }
            },
            "type": "scatterternary"
           }
          ],
          "surface": [
           {
            "colorbar": {
             "outlinewidth": 0,
             "ticks": ""
            },
            "colorscale": [
             [
              0,
              "#0d0887"
             ],
             [
              0.1111111111111111,
              "#46039f"
             ],
             [
              0.2222222222222222,
              "#7201a8"
             ],
             [
              0.3333333333333333,
              "#9c179e"
             ],
             [
              0.4444444444444444,
              "#bd3786"
             ],
             [
              0.5555555555555556,
              "#d8576b"
             ],
             [
              0.6666666666666666,
              "#ed7953"
             ],
             [
              0.7777777777777778,
              "#fb9f3a"
             ],
             [
              0.8888888888888888,
              "#fdca26"
             ],
             [
              1,
              "#f0f921"
             ]
            ],
            "type": "surface"
           }
          ],
          "table": [
           {
            "cells": {
             "fill": {
              "color": "#EBF0F8"
             },
             "line": {
              "color": "white"
             }
            },
            "header": {
             "fill": {
              "color": "#C8D4E3"
             },
             "line": {
              "color": "white"
             }
            },
            "type": "table"
           }
          ]
         },
         "layout": {
          "annotationdefaults": {
           "arrowcolor": "#2a3f5f",
           "arrowhead": 0,
           "arrowwidth": 1
          },
          "autotypenumbers": "strict",
          "coloraxis": {
           "colorbar": {
            "outlinewidth": 0,
            "ticks": ""
           }
          },
          "colorscale": {
           "diverging": [
            [
             0,
             "#8e0152"
            ],
            [
             0.1,
             "#c51b7d"
            ],
            [
             0.2,
             "#de77ae"
            ],
            [
             0.3,
             "#f1b6da"
            ],
            [
             0.4,
             "#fde0ef"
            ],
            [
             0.5,
             "#f7f7f7"
            ],
            [
             0.6,
             "#e6f5d0"
            ],
            [
             0.7,
             "#b8e186"
            ],
            [
             0.8,
             "#7fbc41"
            ],
            [
             0.9,
             "#4d9221"
            ],
            [
             1,
             "#276419"
            ]
           ],
           "sequential": [
            [
             0,
             "#0d0887"
            ],
            [
             0.1111111111111111,
             "#46039f"
            ],
            [
             0.2222222222222222,
             "#7201a8"
            ],
            [
             0.3333333333333333,
             "#9c179e"
            ],
            [
             0.4444444444444444,
             "#bd3786"
            ],
            [
             0.5555555555555556,
             "#d8576b"
            ],
            [
             0.6666666666666666,
             "#ed7953"
            ],
            [
             0.7777777777777778,
             "#fb9f3a"
            ],
            [
             0.8888888888888888,
             "#fdca26"
            ],
            [
             1,
             "#f0f921"
            ]
           ],
           "sequentialminus": [
            [
             0,
             "#0d0887"
            ],
            [
             0.1111111111111111,
             "#46039f"
            ],
            [
             0.2222222222222222,
             "#7201a8"
            ],
            [
             0.3333333333333333,
             "#9c179e"
            ],
            [
             0.4444444444444444,
             "#bd3786"
            ],
            [
             0.5555555555555556,
             "#d8576b"
            ],
            [
             0.6666666666666666,
             "#ed7953"
            ],
            [
             0.7777777777777778,
             "#fb9f3a"
            ],
            [
             0.8888888888888888,
             "#fdca26"
            ],
            [
             1,
             "#f0f921"
            ]
           ]
          },
          "colorway": [
           "#636efa",
           "#EF553B",
           "#00cc96",
           "#ab63fa",
           "#FFA15A",
           "#19d3f3",
           "#FF6692",
           "#B6E880",
           "#FF97FF",
           "#FECB52"
          ],
          "font": {
           "color": "#2a3f5f"
          },
          "geo": {
           "bgcolor": "white",
           "lakecolor": "white",
           "landcolor": "white",
           "showlakes": true,
           "showland": true,
           "subunitcolor": "#C8D4E3"
          },
          "hoverlabel": {
           "align": "left"
          },
          "hovermode": "closest",
          "mapbox": {
           "style": "light"
          },
          "paper_bgcolor": "white",
          "plot_bgcolor": "white",
          "polar": {
           "angularaxis": {
            "gridcolor": "#EBF0F8",
            "linecolor": "#EBF0F8",
            "ticks": ""
           },
           "bgcolor": "white",
           "radialaxis": {
            "gridcolor": "#EBF0F8",
            "linecolor": "#EBF0F8",
            "ticks": ""
           }
          },
          "scene": {
           "xaxis": {
            "backgroundcolor": "white",
            "gridcolor": "#DFE8F3",
            "gridwidth": 2,
            "linecolor": "#EBF0F8",
            "showbackground": true,
            "ticks": "",
            "zerolinecolor": "#EBF0F8"
           },
           "yaxis": {
            "backgroundcolor": "white",
            "gridcolor": "#DFE8F3",
            "gridwidth": 2,
            "linecolor": "#EBF0F8",
            "showbackground": true,
            "ticks": "",
            "zerolinecolor": "#EBF0F8"
           },
           "zaxis": {
            "backgroundcolor": "white",
            "gridcolor": "#DFE8F3",
            "gridwidth": 2,
            "linecolor": "#EBF0F8",
            "showbackground": true,
            "ticks": "",
            "zerolinecolor": "#EBF0F8"
           }
          },
          "shapedefaults": {
           "line": {
            "color": "#2a3f5f"
           }
          },
          "ternary": {
           "aaxis": {
            "gridcolor": "#DFE8F3",
            "linecolor": "#A2B1C6",
            "ticks": ""
           },
           "baxis": {
            "gridcolor": "#DFE8F3",
            "linecolor": "#A2B1C6",
            "ticks": ""
           },
           "bgcolor": "white",
           "caxis": {
            "gridcolor": "#DFE8F3",
            "linecolor": "#A2B1C6",
            "ticks": ""
           }
          },
          "title": {
           "x": 0.05
          },
          "xaxis": {
           "automargin": true,
           "gridcolor": "#EBF0F8",
           "linecolor": "#EBF0F8",
           "ticks": "",
           "title": {
            "standoff": 15
           },
           "zerolinecolor": "#EBF0F8",
           "zerolinewidth": 2
          },
          "yaxis": {
           "automargin": true,
           "gridcolor": "#EBF0F8",
           "linecolor": "#EBF0F8",
           "ticks": "",
           "title": {
            "standoff": 15
           },
           "zerolinecolor": "#EBF0F8",
           "zerolinewidth": 2
          }
         }
        }
       }
      }
     },
     "metadata": {},
     "output_type": "display_data"
    }
   ],
   "source": [
    "fig = go.Figure()\n",
    "\n",
    "fig.add_trace(go.Scatter3d(x=Mo['x'], y=Mo['y'], z=Mo['z'], name = 'Mo', text=Mo['Num.Atom'],\n",
    "                    mode='markers', \n",
    "                    marker=dict(\n",
    "                        size = 15,\n",
    "                        color = 'rgb(128, 128, 128)'\n",
    "                    )))\n",
    "\n",
    "fig.add_trace(go.Scatter3d(x=C['x'], y=C['y'], z=C['z'], name = 'C', text=C['Num.Atom'],\n",
    "                    mode='markers', \n",
    "                    marker=dict(\n",
    "                        size = 5,\n",
    "                        color = 'blue'\n",
    "                    )))\n",
    "\n",
    "\n",
    "\n",
    "for i in range(int(len(row))):\n",
    "    x = np.array((graph.x[row[i]][2], graph.x[col[i]][2]))\n",
    "    y = np.array((graph.x[row[i]][3], graph.x[col[i]][3]))\n",
    "    z = np.array((graph.x[row[i]][4], graph.x[col[i]][4]))\n",
    "\n",
    "    name = str(f'atom{row[i]}-atom{col[i]}')\n",
    "    text = str(graph.edge_attr[1,0])\n",
    "\n",
    "    fig.add_trace(go.Scatter3d(x=x, y=y, z=z, name=name, mode = 'lines', text=text,\n",
    "                               line=dict(color='black', width=1)))\n",
    "\n",
    "fig.update_layout(template =  'plotly_white')\n",
    "\n",
    "fig.show()\n"
   ]
  },
  {
   "cell_type": "code",
   "execution_count": null,
   "metadata": {},
   "outputs": [],
   "source": []
  }
 ],
 "metadata": {
  "kernelspec": {
   "display_name": "torchChem",
   "language": "python",
   "name": "python3"
  },
  "language_info": {
   "codemirror_mode": {
    "name": "ipython",
    "version": 3
   },
   "file_extension": ".py",
   "mimetype": "text/x-python",
   "name": "python",
   "nbconvert_exporter": "python",
   "pygments_lexer": "ipython3",
   "version": "3.8.16"
  },
  "orig_nbformat": 4
 },
 "nbformat": 4,
 "nbformat_minor": 2
}
