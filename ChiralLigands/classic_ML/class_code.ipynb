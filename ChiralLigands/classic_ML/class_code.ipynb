{
 "cells": [
  {
   "cell_type": "code",
   "execution_count": 1,
   "metadata": {},
   "outputs": [],
   "source": [
    "import pandas as pd\n",
    "import numpy as np\n",
    "import math\n",
    "import matplotlib.pyplot as plt"
   ]
  },
  {
   "cell_type": "code",
   "execution_count": 2,
   "metadata": {},
   "outputs": [],
   "source": [
    "from sklearn.model_selection import train_test_split\n",
    "from sklearn.preprocessing import RobustScaler\n",
    "from sklearn.model_selection import GridSearchCV\n",
    "from sklearn.linear_model import LinearRegression\n",
    "from sklearn.ensemble import RandomForestClassifier\n",
    "from sklearn.ensemble import GradientBoostingClassifier\n",
    "from sklearn.metrics import precision_score,  recall_score, roc_auc_score\n",
    "from sklearn.model_selection import KFold, StratifiedKFold"
   ]
  },
  {
   "cell_type": "code",
   "execution_count": 3,
   "metadata": {},
   "outputs": [],
   "source": [
    "def choose_model(best_params):\n",
    "    if best_params == None:\n",
    "        #return LinearRegression()\n",
    "        #return RandomForestRegressor()\n",
    "        return GradientBoostingClassifier()\n",
    "    else:\n",
    "        #return LinearRegression()\n",
    "        #return RandomForestRegressor(n_estimators=best_params[\"n_estimators\"], max_depth=best_params[\"max_depth\"], min_samples_leaf=best_params['min_samples_leaf'], min_samples_split=best_params['min_samples_split'])\n",
    "        return GradientBoostingClassifier(loss = best_params['loss'], learning_rate=best_params['learning_rate'],n_estimators=best_params[\"n_estimators\"], \n",
    "        max_depth=best_params[\"max_depth\"],min_samples_leaf=best_params['min_samples_leaf'], min_samples_split=best_params['min_samples_split'])"
   ]
  },
  {
   "cell_type": "code",
   "execution_count": 4,
   "metadata": {},
   "outputs": [],
   "source": [
    "def choose_dataset():\n",
    "    #return 'Cyclic'\n",
    "    #return 'Acyclic'\n",
    "    #return 'Combined'\n",
    "    #return 'Cyclohexenone'\n",
    "    return 'data_aug'"
   ]
  },
  {
   "cell_type": "code",
   "execution_count": 5,
   "metadata": {},
   "outputs": [],
   "source": [
    "def hyperparam_tune(X, y, model):\n",
    "    print(str(model))\n",
    "    if str(model) == 'RandomForestClassifier()':\n",
    "        hyperP = dict(n_estimators=[100, 300, 500, 800], max_depth=[None, 5, 8, 15, 25, 30],\n",
    "                      min_samples_split=[2, 5, 10, 15, 100],\n",
    "                      min_samples_leaf=[1, 2, 5, 10])\n",
    "\n",
    "    elif str(model) == 'GradientBoostingClassifier()':\n",
    "        hyperP = dict(loss=['log_loss'], learning_rate=[0.1, 0.2, 0.3],\n",
    "                      n_estimators=[100, 300, 500, 800], max_depth=[None, 5, 8, 15, 25, 30],\n",
    "                      min_samples_split=[2],\n",
    "                      min_samples_leaf=[1, 2])\n",
    "\n",
    "    gridF = GridSearchCV(model, hyperP, cv=3, verbose=1, n_jobs=-1)\n",
    "    bestP = gridF.fit(X, y)\n",
    "    print(bestP.best_params_)\n",
    "    return bestP.best_params_"
   ]
  },
  {
   "cell_type": "code",
   "execution_count": 6,
   "metadata": {},
   "outputs": [
    {
     "name": "stdout",
     "output_type": "stream",
     "text": [
      "[472 116 278 229 305 703 232 593 570  55 364 572 669 548  93 173 771 449\n",
      " 328 685 560 763 462 345 967 577  66 529 648 381]\n"
     ]
    },
    {
     "name": "stderr",
     "output_type": "stream",
     "text": [
      "/var/folders/6x/qf4mscbd48gf58znkh78hcy40000gn/T/ipykernel_20976/1855288125.py:1: DeprecationWarning: This function is deprecated. Please call randint(0, 1000 + 1) instead\n",
      "  random_seeds = np.random.random_integers(0, high=1000, size=30)\n"
     ]
    }
   ],
   "source": [
    "random_seeds = np.random.random_integers(0, high=1000, size=30)\n",
    "print(random_seeds)"
   ]
  },
  {
   "cell_type": "code",
   "execution_count": 7,
   "metadata": {},
   "outputs": [],
   "source": [
    "descriptors = ['LVR1', 'LVR2', 'LVR3', 'LVR4', 'LVR5', 'LVR6', 'LVR7', 'VB', 'ER1', 'ER2', 'ER3', 'ER4', 'ER5', 'ER6',\n",
    "               'ER7', 'SStoutR1', 'SStoutR2', 'SStoutR3', 'SStoutR4', '%top']"
   ]
  },
  {
   "cell_type": "code",
   "execution_count": 8,
   "metadata": {},
   "outputs": [],
   "source": [
    "data = pd.read_csv(choose_dataset()+'.csv')"
   ]
  },
  {
   "cell_type": "code",
   "execution_count": 9,
   "metadata": {},
   "outputs": [
    {
     "data": {
      "text/html": [
       "<div>\n",
       "<style scoped>\n",
       "    .dataframe tbody tr th:only-of-type {\n",
       "        vertical-align: middle;\n",
       "    }\n",
       "\n",
       "    .dataframe tbody tr th {\n",
       "        vertical-align: top;\n",
       "    }\n",
       "\n",
       "    .dataframe thead th {\n",
       "        text-align: right;\n",
       "    }\n",
       "</style>\n",
       "<table border=\"1\" class=\"dataframe\">\n",
       "  <thead>\n",
       "    <tr style=\"text-align: right;\">\n",
       "      <th></th>\n",
       "      <th>LVR1</th>\n",
       "      <th>LVR2</th>\n",
       "      <th>LVR3</th>\n",
       "      <th>LVR4</th>\n",
       "      <th>LVR5</th>\n",
       "      <th>LVR6</th>\n",
       "      <th>LVR7</th>\n",
       "      <th>VB</th>\n",
       "      <th>ER1</th>\n",
       "      <th>ER2</th>\n",
       "      <th>...</th>\n",
       "      <th>ER4</th>\n",
       "      <th>ER5</th>\n",
       "      <th>ER6</th>\n",
       "      <th>ER7</th>\n",
       "      <th>SStoutR1</th>\n",
       "      <th>SStoutR2</th>\n",
       "      <th>SStoutR3</th>\n",
       "      <th>SStoutR4</th>\n",
       "      <th>%top</th>\n",
       "      <th>Category</th>\n",
       "    </tr>\n",
       "  </thead>\n",
       "  <tbody>\n",
       "    <tr>\n",
       "      <th>0</th>\n",
       "      <td>94.184290</td>\n",
       "      <td>0.0</td>\n",
       "      <td>0.0</td>\n",
       "      <td>94.184290</td>\n",
       "      <td>0.000000</td>\n",
       "      <td>0.0</td>\n",
       "      <td>20.255985</td>\n",
       "      <td>348.031937</td>\n",
       "      <td>-0.09</td>\n",
       "      <td>0.0</td>\n",
       "      <td>...</td>\n",
       "      <td>-0.09</td>\n",
       "      <td>0.00</td>\n",
       "      <td>0.0</td>\n",
       "      <td>0.00</td>\n",
       "      <td>22.511984</td>\n",
       "      <td>21.574215</td>\n",
       "      <td>0.0</td>\n",
       "      <td>0.0</td>\n",
       "      <td>6.000000</td>\n",
       "      <td>0</td>\n",
       "    </tr>\n",
       "    <tr>\n",
       "      <th>1</th>\n",
       "      <td>94.184290</td>\n",
       "      <td>0.0</td>\n",
       "      <td>0.0</td>\n",
       "      <td>94.184290</td>\n",
       "      <td>0.000000</td>\n",
       "      <td>0.0</td>\n",
       "      <td>20.255985</td>\n",
       "      <td>134.623998</td>\n",
       "      <td>-0.09</td>\n",
       "      <td>0.0</td>\n",
       "      <td>...</td>\n",
       "      <td>-0.09</td>\n",
       "      <td>0.00</td>\n",
       "      <td>0.0</td>\n",
       "      <td>0.00</td>\n",
       "      <td>22.511984</td>\n",
       "      <td>19.435100</td>\n",
       "      <td>0.0</td>\n",
       "      <td>0.0</td>\n",
       "      <td>2.333333</td>\n",
       "      <td>0</td>\n",
       "    </tr>\n",
       "    <tr>\n",
       "      <th>2</th>\n",
       "      <td>53.529726</td>\n",
       "      <td>0.0</td>\n",
       "      <td>0.0</td>\n",
       "      <td>0.000000</td>\n",
       "      <td>21.574215</td>\n",
       "      <td>0.0</td>\n",
       "      <td>76.074168</td>\n",
       "      <td>134.623998</td>\n",
       "      <td>-0.14</td>\n",
       "      <td>0.0</td>\n",
       "      <td>...</td>\n",
       "      <td>0.00</td>\n",
       "      <td>-0.17</td>\n",
       "      <td>0.0</td>\n",
       "      <td>-0.27</td>\n",
       "      <td>22.511984</td>\n",
       "      <td>19.435100</td>\n",
       "      <td>0.0</td>\n",
       "      <td>0.0</td>\n",
       "      <td>79.000000</td>\n",
       "      <td>1</td>\n",
       "    </tr>\n",
       "    <tr>\n",
       "      <th>3</th>\n",
       "      <td>36.233741</td>\n",
       "      <td>0.0</td>\n",
       "      <td>0.0</td>\n",
       "      <td>73.462170</td>\n",
       "      <td>21.574215</td>\n",
       "      <td>0.0</td>\n",
       "      <td>76.074168</td>\n",
       "      <td>134.623998</td>\n",
       "      <td>0.07</td>\n",
       "      <td>0.0</td>\n",
       "      <td>...</td>\n",
       "      <td>-0.12</td>\n",
       "      <td>-0.17</td>\n",
       "      <td>0.0</td>\n",
       "      <td>-0.27</td>\n",
       "      <td>22.511984</td>\n",
       "      <td>19.435100</td>\n",
       "      <td>0.0</td>\n",
       "      <td>0.0</td>\n",
       "      <td>97.500000</td>\n",
       "      <td>1</td>\n",
       "    </tr>\n",
       "    <tr>\n",
       "      <th>4</th>\n",
       "      <td>56.166185</td>\n",
       "      <td>0.0</td>\n",
       "      <td>0.0</td>\n",
       "      <td>76.888305</td>\n",
       "      <td>21.574215</td>\n",
       "      <td>0.0</td>\n",
       "      <td>76.074168</td>\n",
       "      <td>134.623998</td>\n",
       "      <td>-0.13</td>\n",
       "      <td>0.0</td>\n",
       "      <td>...</td>\n",
       "      <td>-0.01</td>\n",
       "      <td>-0.17</td>\n",
       "      <td>0.0</td>\n",
       "      <td>-0.27</td>\n",
       "      <td>22.511984</td>\n",
       "      <td>19.435100</td>\n",
       "      <td>0.0</td>\n",
       "      <td>0.0</td>\n",
       "      <td>91.000000</td>\n",
       "      <td>1</td>\n",
       "    </tr>\n",
       "  </tbody>\n",
       "</table>\n",
       "<p>5 rows × 21 columns</p>\n",
       "</div>"
      ],
      "text/plain": [
       "        LVR1  LVR2  LVR3       LVR4       LVR5  LVR6       LVR7          VB  \\\n",
       "0  94.184290   0.0   0.0  94.184290   0.000000   0.0  20.255985  348.031937   \n",
       "1  94.184290   0.0   0.0  94.184290   0.000000   0.0  20.255985  134.623998   \n",
       "2  53.529726   0.0   0.0   0.000000  21.574215   0.0  76.074168  134.623998   \n",
       "3  36.233741   0.0   0.0  73.462170  21.574215   0.0  76.074168  134.623998   \n",
       "4  56.166185   0.0   0.0  76.888305  21.574215   0.0  76.074168  134.623998   \n",
       "\n",
       "    ER1  ER2  ...   ER4   ER5  ER6   ER7   SStoutR1   SStoutR2  SStoutR3  \\\n",
       "0 -0.09  0.0  ... -0.09  0.00  0.0  0.00  22.511984  21.574215       0.0   \n",
       "1 -0.09  0.0  ... -0.09  0.00  0.0  0.00  22.511984  19.435100       0.0   \n",
       "2 -0.14  0.0  ...  0.00 -0.17  0.0 -0.27  22.511984  19.435100       0.0   \n",
       "3  0.07  0.0  ... -0.12 -0.17  0.0 -0.27  22.511984  19.435100       0.0   \n",
       "4 -0.13  0.0  ... -0.01 -0.17  0.0 -0.27  22.511984  19.435100       0.0   \n",
       "\n",
       "   SStoutR4       %top  Category  \n",
       "0       0.0   6.000000         0  \n",
       "1       0.0   2.333333         0  \n",
       "2       0.0  79.000000         1  \n",
       "3       0.0  97.500000         1  \n",
       "4       0.0  91.000000         1  \n",
       "\n",
       "[5 rows x 21 columns]"
      ]
     },
     "execution_count": 9,
     "metadata": {},
     "output_type": "execute_result"
    }
   ],
   "source": [
    "data = data.filter(descriptors)\n",
    "#remove erroneous data\n",
    "data = data.dropna(axis=0)\n",
    "data['Category'] = np.where(data['%top'] > 50, 1, 0)\n",
    "data.head()"
   ]
  },
  {
   "cell_type": "code",
   "execution_count": 10,
   "metadata": {},
   "outputs": [],
   "source": [
    "X = data.drop(['%top', 'Category'], axis = 1)\n",
    "X = RobustScaler().fit_transform(np.array(X))"
   ]
  },
  {
   "cell_type": "code",
   "execution_count": 11,
   "metadata": {},
   "outputs": [
    {
     "name": "stdout",
     "output_type": "stream",
     "text": [
      "[[ 1.          0.          0.         ...  1.11006451 -0.80260539\n",
      "   0.        ]\n",
      " [ 1.          0.          0.         ...  1.         -0.80260539\n",
      "   0.        ]\n",
      " [ 0.5683509   0.          0.         ...  1.         -0.80260539\n",
      "   0.        ]\n",
      " ...\n",
      " [ 0.          0.          2.29749027 ...  0.          0.0662957\n",
      "   0.        ]\n",
      " [ 0.          0.          1.1078541  ...  0.          0.0662957\n",
      "   0.        ]\n",
      " [ 0.          0.          0.68967353 ...  1.         -0.80260539\n",
      "   0.        ]]\n",
      "0      0\n",
      "1      0\n",
      "2      1\n",
      "3      1\n",
      "4      1\n",
      "      ..\n",
      "681    1\n",
      "682    1\n",
      "683    1\n",
      "684    1\n",
      "685    1\n",
      "Name: Category, Length: 686, dtype: int64\n"
     ]
    }
   ],
   "source": [
    "y = data['Category']\n",
    "print(X)\n",
    "print(y)"
   ]
  },
  {
   "cell_type": "code",
   "execution_count": 12,
   "metadata": {},
   "outputs": [
    {
     "name": "stdout",
     "output_type": "stream",
     "text": [
      "GradientBoostingClassifier()\n",
      "Fitting 3 folds for each of 144 candidates, totalling 432 fits\n",
      "{'learning_rate': 0.3, 'loss': 'log_loss', 'max_depth': 8, 'min_samples_leaf': 2, 'min_samples_split': 2, 'n_estimators': 100}\n"
     ]
    }
   ],
   "source": [
    "best_params = hyperparam_tune(X, y, choose_model(best_params=None))"
   ]
  },
  {
   "cell_type": "code",
   "execution_count": 13,
   "metadata": {},
   "outputs": [],
   "source": [
    "folds = StratifiedKFold(n_splits=10, shuffle=True, random_state=23)\n",
    "train_idx = []\n",
    "test_idx = []\n",
    "\n",
    "for i, (train, test) in enumerate(folds.split(X, y)):\n",
    "    train_idx.append(train)\n",
    "    test_idx.append(test)"
   ]
  },
  {
   "cell_type": "code",
   "execution_count": 14,
   "metadata": {},
   "outputs": [],
   "source": [
    "prec_cv_scores = []\n",
    "rec_cv_scores = []\n",
    "roc_cv_scores = []\n",
    "prec_val_scores = []\n",
    "rec_val_scores = []\n",
    "roc_val_scores = []"
   ]
  },
  {
   "cell_type": "code",
   "execution_count": 15,
   "metadata": {},
   "outputs": [],
   "source": [
    "for i in range(len(train_idx)):\n",
    "    x_train = X[train_idx[i]]\n",
    "    y_train = y[train_idx[i]]\n",
    "    x_test = X[test_idx[i]]\n",
    "    y_test = y[test_idx[i]]\n",
    "    model = choose_model(best_params)\n",
    "    model.fit(x_train, y_train)\n",
    "    predictions = model.predict(x_test)\n",
    "    prec = precision_score(y_test, predictions)\n",
    "    prec_cv_scores.append(prec)\n",
    "    rec = recall_score(y_test, predictions)\n",
    "    rec_cv_scores.append(rec)\n",
    "    roc = roc_auc_score(y_test, predictions)\n",
    "    roc_cv_scores.append(roc)"
   ]
  },
  {
   "cell_type": "code",
   "execution_count": 20,
   "metadata": {},
   "outputs": [],
   "source": [
    "e = 24\n",
    "Metrics = ['Precision', 'Recall', 'AUROC']\n",
    "x_pos = np.arange(len(Metrics))\n",
    "CTEs = [np.mean(prec_cv_scores), np.mean(rec_cv_scores), np.mean(roc_cv_scores)]\n",
    "error = [np.std(prec_cv_scores), np.std(rec_cv_scores), np.std(roc_cv_scores)]\n",
    "CTEs = [round(val, 3) for val in CTEs]"
   ]
  },
  {
   "cell_type": "code",
   "execution_count": 21,
   "metadata": {},
   "outputs": [
    {
     "data": {
      "image/png": "[encoded data removed]",
      "text/plain": [
       "<Figure size 600x400 with 1 Axes>"
      ]
     },
     "metadata": {},
     "output_type": "display_data"
    }
   ],
   "source": [
    "fig, ax = plt.subplots(figsize =(6, 4))\n",
    "bars = ax.bar(x_pos, CTEs, yerr=error, align='center', color = 'navy', alpha=.5, ecolor='black', capsize=10)\n",
    "ax.set_ylabel('Value', fontweight ='bold', fontsize = 12)\n",
    "ax.bar_label(bars)\n",
    "ax.set_xticks(x_pos)\n",
    "ax.set_xticklabels(Metrics, fontweight ='bold' ,fontsize = 10)\n",
    "ax.yaxis.grid(False)\n",
    "\n",
    "plt.tight_layout()\n",
    "plt.show()"
   ]
  }
 ],
 "metadata": {
  "kernelspec": {
   "display_name": "Python 3.10.4 ('rdkit')",
   "language": "python",
   "name": "python3"
  },
  "language_info": {
   "codemirror_mode": {
    "name": "ipython",
    "version": 3
   },
   "file_extension": ".py",
   "mimetype": "text/x-python",
   "name": "python",
   "nbconvert_exporter": "python",
   "pygments_lexer": "ipython3",
   "version": "3.8.16"
  },
  "orig_nbformat": 4,
  "vscode": {
   "interpreter": {
    "hash": "ca6d6a583daa5e4b844131fe2426e77d87f0148d25e058e144c252a14f43f5e9"
   }
  }
 },
 "nbformat": 4,
 "nbformat_minor": 2
}
