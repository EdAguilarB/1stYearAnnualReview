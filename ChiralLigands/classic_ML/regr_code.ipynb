{
 "cells": [
  {
   "cell_type": "code",
   "execution_count": 1,
   "metadata": {},
   "outputs": [],
   "source": [
    "import pandas as pd\n",
    "import numpy as np\n",
    "import math"
   ]
  },
  {
   "cell_type": "code",
   "execution_count": 2,
   "metadata": {},
   "outputs": [],
   "source": [
    "from sklearn.model_selection import train_test_split\n",
    "from sklearn.preprocessing import RobustScaler\n",
    "from sklearn.model_selection import GridSearchCV\n",
    "from sklearn.linear_model import LinearRegression\n",
    "from sklearn.ensemble import RandomForestRegressor\n",
    "from sklearn.ensemble import GradientBoostingRegressor\n",
    "from sklearn.metrics import mean_squared_error, r2_score, mean_absolute_error\n",
    "from sklearn.model_selection import StratifiedKFold\n",
    "import matplotlib.pyplot as plt"
   ]
  },
  {
   "cell_type": "code",
   "execution_count": 3,
   "metadata": {},
   "outputs": [],
   "source": [
    "def choose_model(best_params):\n",
    "    if best_params == None:\n",
    "        #return LinearRegression()\n",
    "        #return RandomForestRegressor()\n",
    "        return GradientBoostingRegressor()\n",
    "    else:\n",
    "        #return LinearRegression()\n",
    "        #return RandomForestRegressor(n_estimators=best_params[\"n_estimators\"], max_depth=best_params[\"max_depth\"], min_samples_leaf=best_params['min_samples_leaf'], min_samples_split=best_params['min_samples_split'])\n",
    "        return GradientBoostingRegressor(loss = best_params['loss'], learning_rate=best_params['learning_rate'],n_estimators=best_params[\"n_estimators\"], \n",
    "        max_depth=best_params[\"max_depth\"],min_samples_leaf=best_params['min_samples_leaf'], min_samples_split=best_params['min_samples_split'])"
   ]
  },
  {
   "cell_type": "code",
   "execution_count": 4,
   "metadata": {},
   "outputs": [],
   "source": [
    "def choose_dataset():\n",
    "    #return 'Cyclic'\n",
    "    #return 'Acyclic'\n",
    "    #return 'Combined'\n",
    "    #return 'Cyclohexenone'\n",
    "    return 'data_aug'"
   ]
  },
  {
   "cell_type": "code",
   "execution_count": 5,
   "metadata": {},
   "outputs": [],
   "source": [
    "def hyperparam_tune(X, y, model):\n",
    "    print(str(model))\n",
    "    if str(model) == 'RandomForestRegressor()':\n",
    "        hyperP = dict(n_estimators=[100, 300, 500, 800], max_depth=[None, 5, 8, 15, 25, 30],\n",
    "                      min_samples_split=[2, 5, 10, 15, 100],\n",
    "                      min_samples_leaf=[1, 2, 5, 10])\n",
    "\n",
    "    elif str(model) == 'GradientBoostingRegressor()':\n",
    "        hyperP = dict(loss=['squared_error'], learning_rate=[0.1, 0.2, 0.3],\n",
    "                      n_estimators=[100, 300, 500, 800], max_depth=[None, 5, 8, 15, 25, 30],\n",
    "                      min_samples_split=[2],\n",
    "                      min_samples_leaf=[1, 2])\n",
    "\n",
    "    gridF = GridSearchCV(model, hyperP, cv=3, verbose=1, n_jobs=-1)\n",
    "    bestP = gridF.fit(X, y)\n",
    "    print(bestP.best_params_)\n",
    "    return bestP.best_params_"
   ]
  },
  {
   "cell_type": "code",
   "execution_count": 6,
   "metadata": {},
   "outputs": [
    {
     "name": "stdout",
     "output_type": "stream",
     "text": [
      "[727 984 151 133 654 387 932 210 535 674 594 886 216 934 995 207 204 990\n",
      " 389 639 174  96 540 642 603 164 573 205 295 558]\n"
     ]
    },
    {
     "name": "stderr",
     "output_type": "stream",
     "text": [
      "/var/folders/6x/qf4mscbd48gf58znkh78hcy40000gn/T/ipykernel_18835/1855288125.py:1: DeprecationWarning: This function is deprecated. Please call randint(0, 1000 + 1) instead\n",
      "  random_seeds = np.random.random_integers(0, high=1000, size=30)\n"
     ]
    }
   ],
   "source": [
    "random_seeds = np.random.random_integers(0, high=1000, size=30)\n",
    "print(random_seeds)"
   ]
  },
  {
   "cell_type": "code",
   "execution_count": 7,
   "metadata": {},
   "outputs": [],
   "source": [
    "descriptors = ['LVR1', 'LVR2', 'LVR3', 'LVR4', 'LVR5', 'LVR6', 'LVR7', 'VB', 'ER1', 'ER2', 'ER3', 'ER4', 'ER5', 'ER6',\n",
    "               'ER7', 'SStoutR1', 'SStoutR2', 'SStoutR3', 'SStoutR4', '%top']"
   ]
  },
  {
   "cell_type": "code",
   "execution_count": 8,
   "metadata": {},
   "outputs": [],
   "source": [
    "data = pd.read_csv(choose_dataset()+'.csv')"
   ]
  },
  {
   "cell_type": "code",
   "execution_count": 9,
   "metadata": {},
   "outputs": [],
   "source": [
    "data = data.filter(descriptors)\n",
    "#remove erroneous data\n",
    "data = data.dropna(axis=0)"
   ]
  },
  {
   "cell_type": "code",
   "execution_count": 10,
   "metadata": {},
   "outputs": [],
   "source": [
    "X = data.drop(['%top'], axis = 1)\n",
    "X = RobustScaler().fit_transform(np.array(X))"
   ]
  },
  {
   "cell_type": "code",
   "execution_count": 11,
   "metadata": {},
   "outputs": [
    {
     "name": "stdout",
     "output_type": "stream",
     "text": [
      "[[ 1.          0.          0.         ...  1.11006451 -0.80260539\n",
      "   0.        ]\n",
      " [ 1.          0.          0.         ...  1.         -0.80260539\n",
      "   0.        ]\n",
      " [ 0.5683509   0.          0.         ...  1.         -0.80260539\n",
      "   0.        ]\n",
      " ...\n",
      " [ 0.          0.          2.29749027 ...  0.          0.0662957\n",
      "   0.        ]\n",
      " [ 0.          0.          1.1078541  ...  0.          0.0662957\n",
      "   0.        ]\n",
      " [ 0.          0.          0.68967353 ...  1.         -0.80260539\n",
      "   0.        ]]\n",
      "0       6.000000\n",
      "1       2.333333\n",
      "2      79.000000\n",
      "3      97.500000\n",
      "4      91.000000\n",
      "         ...    \n",
      "681    96.750000\n",
      "682    95.000000\n",
      "683    98.000000\n",
      "684    85.000000\n",
      "685    99.700000\n",
      "Name: %top, Length: 686, dtype: float64\n"
     ]
    }
   ],
   "source": [
    "y = data['%top']\n",
    "print(X)\n",
    "print(y)"
   ]
  },
  {
   "cell_type": "code",
   "execution_count": 12,
   "metadata": {},
   "outputs": [
    {
     "name": "stdout",
     "output_type": "stream",
     "text": [
      "GradientBoostingRegressor()\n",
      "Fitting 3 folds for each of 144 candidates, totalling 432 fits\n",
      "{'learning_rate': 0.2, 'loss': 'squared_error', 'max_depth': 5, 'min_samples_leaf': 1, 'min_samples_split': 2, 'n_estimators': 100}\n"
     ]
    }
   ],
   "source": [
    "best_params = hyperparam_tune(X, y, choose_model(best_params=None))"
   ]
  },
  {
   "cell_type": "code",
   "execution_count": 13,
   "metadata": {},
   "outputs": [],
   "source": [
    "folds = StratifiedKFold(n_splits=10, shuffle=True, random_state=23)\n",
    "train_idx = []\n",
    "test_idx = []\n",
    "\n",
    "for i, (train, test) in enumerate(folds.split(X, np.where(y > 50, 1, 0))):\n",
    "    train_idx.append(train)\n",
    "    test_idx.append(test)"
   ]
  },
  {
   "cell_type": "code",
   "execution_count": 14,
   "metadata": {},
   "outputs": [],
   "source": [
    "r2_cv_scores = []\n",
    "rmse_cv_scores = []\n",
    "mae_cv_scores = []\n",
    "r2_val_scores = []\n",
    "rmse_val_scores = []\n",
    "mae_val_scores = []"
   ]
  },
  {
   "cell_type": "code",
   "execution_count": 15,
   "metadata": {},
   "outputs": [],
   "source": [
    "for i in range(len(train_idx)):\n",
    "    x_train = X[train_idx[i]]\n",
    "    y_train = y[train_idx[i]]\n",
    "    x_test = X[test_idx[i]]\n",
    "    y_test = y[test_idx[i]]\n",
    "    model = choose_model(best_params)\n",
    "    model.fit(x_train, y_train)\n",
    "    predictions = model.predict(x_test)\n",
    "    r2 = r2_score(y_test, predictions)\n",
    "    r2_cv_scores.append(r2)\n",
    "    rmse = math.sqrt(mean_squared_error(y_test, predictions))\n",
    "    rmse_cv_scores.append(rmse)\n",
    "    mae = mean_absolute_error(y_test, predictions)\n",
    "    mae_cv_scores.append(mae)"
   ]
  },
  {
   "cell_type": "code",
   "execution_count": 16,
   "metadata": {},
   "outputs": [],
   "source": [
    "e = 24\n",
    "Metrics = ['R2', 'RMSE', 'MAE']\n",
    "x_pos = np.arange(len(Metrics))\n",
    "CTEs = [np.mean(r2_cv_scores)*100, np.mean(rmse_cv_scores), np.mean(mae_cv_scores)]\n",
    "error = [np.std(r2_cv_scores)*100, np.std(rmse_cv_scores), np.std(mae_cv_scores)]"
   ]
  },
  {
   "cell_type": "code",
   "execution_count": 17,
   "metadata": {},
   "outputs": [
    {
     "data": {
      "image/png": "[encoded data removed]",
      "text/plain": [
       "<Figure size 600x400 with 1 Axes>"
      ]
     },
     "metadata": {},
     "output_type": "display_data"
    }
   ],
   "source": [
    "fig, ax = plt.subplots(figsize =(6, 4))\n",
    "bars = ax.bar(x_pos, CTEs, yerr=error, align='center', color = 'navy', alpha=.5, ecolor='black', capsize=10)\n",
    "ax.set_ylabel('Value', fontweight ='bold', fontsize = 12)\n",
    "ax.bar_label(bars)\n",
    "ax.set_xticks(x_pos)\n",
    "ax.set_xticklabels(Metrics, fontweight ='bold' ,fontsize = 10)\n",
    "ax.yaxis.grid(True)\n",
    "\n",
    "plt.tight_layout()\n",
    "plt.show()"
   ]
  }
 ],
 "metadata": {
  "kernelspec": {
   "display_name": "Python 3.10.4 ('rdkit')",
   "language": "python",
   "name": "python3"
  },
  "language_info": {
   "codemirror_mode": {
    "name": "ipython",
    "version": 3
   },
   "file_extension": ".py",
   "mimetype": "text/x-python",
   "name": "python",
   "nbconvert_exporter": "python",
   "pygments_lexer": "ipython3",
   "version": "3.8.16"
  },
  "orig_nbformat": 4,
  "vscode": {
   "interpreter": {
    "hash": "ca6d6a583daa5e4b844131fe2426e77d87f0148d25e058e144c252a14f43f5e9"
   }
  }
 },
 "nbformat": 4,
 "nbformat_minor": 2
}
