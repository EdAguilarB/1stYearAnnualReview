{
 "cells": [
  {
   "cell_type": "code",
   "execution_count": 1,
   "metadata": {},
   "outputs": [],
   "source": [
    "import torch\n",
    "import pandas as pd\n",
    "import numpy as np\n",
    "import matplotlib.pyplot as plt\n",
    "from rdkit import Chem\n",
    "from torch_geometric.loader import DataLoader\n",
    "from dataset_copy import *\n",
    "from model import *\n",
    "from sklearn.model_selection import StratifiedKFold, StratifiedGroupKFold\n",
    "from sklearn.metrics import confusion_matrix, f1_score, \\\n",
    "    accuracy_score, precision_score, recall_score, roc_auc_score\n",
    "import os"
   ]
  },
  {
   "cell_type": "code",
   "execution_count": 2,
   "metadata": {},
   "outputs": [],
   "source": [
    "import warnings\n",
    "warnings.filterwarnings('ignore')"
   ]
  },
  {
   "cell_type": "code",
   "execution_count": 3,
   "metadata": {},
   "outputs": [],
   "source": [
    "device = 'cpu'"
   ]
  },
  {
   "cell_type": "code",
   "execution_count": 4,
   "metadata": {},
   "outputs": [
    {
     "name": "stdout",
     "output_type": "stream",
     "text": [
      "Dataset type:  <class 'dataset_copy.ChiralLigands'>\n",
      "Dataset node features:  7\n",
      "Dataset length:  <bound method ChiralLigands.len of ChiralLigands(686)>\n",
      "Dataset sample:  Data(x=[92, 7], edge_index=[2, 196], edge_attr=[196, 2], y=[1], category=[1], ligand='C1=C(Cc2ccccc2)[C@H]2C=C(Cc3ccccc3)[C@@H]1C2', substrate='O=C1C=CCC1', boron='c1ccc(B2OB(c3ccccc3)OB(c3ccccc3)O2)cc1', ligand_num=1, ligand_id='L3.1', ligand_fam='fam1', idx=0)\n",
      "Sample features:  tensor([[6., 3., 3., 0., 1., 0., 1.],\n",
      "        [6., 3., 3., 0., 1., 0., 1.],\n",
      "        [6., 4., 4., 0., 0., 0., 1.],\n",
      "        [6., 3., 3., 1., 1., 0., 1.],\n",
      "        [6., 3., 3., 1., 1., 0., 1.],\n",
      "        [6., 3., 3., 1., 1., 0., 1.],\n",
      "        [6., 3., 3., 1., 1., 0., 1.],\n",
      "        [6., 3., 3., 1., 1., 0., 1.],\n",
      "        [6., 3., 3., 1., 1., 0., 1.],\n",
      "        [6., 4., 4., 0., 1., 1., 1.],\n",
      "        [6., 3., 3., 0., 1., 0., 1.],\n",
      "        [6., 3., 3., 0., 1., 0., 1.],\n",
      "        [6., 4., 4., 0., 0., 0., 1.],\n",
      "        [6., 3., 3., 1., 1., 0., 1.],\n",
      "        [6., 3., 3., 1., 1., 0., 1.],\n",
      "        [6., 3., 3., 1., 1., 0., 1.],\n",
      "        [6., 3., 3., 1., 1., 0., 1.],\n",
      "        [6., 3., 3., 1., 1., 0., 1.],\n",
      "        [6., 3., 3., 1., 1., 0., 1.],\n",
      "        [6., 4., 4., 0., 1., 2., 1.],\n",
      "        [6., 4., 4., 0., 1., 0., 1.],\n",
      "        [1., 1., 0., 0., 0., 0., 1.],\n",
      "        [1., 1., 0., 0., 0., 0., 1.],\n",
      "        [1., 1., 0., 0., 0., 0., 1.],\n",
      "        [1., 1., 0., 0., 0., 0., 1.],\n",
      "        [1., 1., 0., 0., 0., 0., 1.],\n",
      "        [1., 1., 0., 0., 0., 0., 1.],\n",
      "        [1., 1., 0., 0., 0., 0., 1.],\n",
      "        [1., 1., 0., 0., 0., 0., 1.],\n",
      "        [1., 1., 0., 0., 0., 0., 1.],\n",
      "        [1., 1., 0., 0., 0., 0., 1.],\n",
      "        [1., 1., 0., 0., 0., 0., 1.],\n",
      "        [1., 1., 0., 0., 0., 0., 1.],\n",
      "        [1., 1., 0., 0., 0., 0., 1.],\n",
      "        [1., 1., 0., 0., 0., 0., 1.],\n",
      "        [1., 1., 0., 0., 0., 0., 1.],\n",
      "        [1., 1., 0., 0., 0., 0., 1.],\n",
      "        [1., 1., 0., 0., 0., 0., 1.],\n",
      "        [1., 1., 0., 0., 0., 0., 1.],\n",
      "        [1., 1., 0., 0., 0., 0., 1.],\n",
      "        [1., 1., 0., 0., 0., 0., 1.],\n",
      "        [8., 1., 3., 0., 0., 0., 1.],\n",
      "        [6., 3., 3., 0., 1., 0., 1.],\n",
      "        [6., 3., 3., 0., 1., 0., 1.],\n",
      "        [6., 3., 3., 0., 1., 0., 1.],\n",
      "        [6., 4., 4., 0., 1., 0., 1.],\n",
      "        [6., 4., 4., 0., 1., 0., 1.],\n",
      "        [1., 1., 0., 0., 0., 0., 1.],\n",
      "        [1., 1., 0., 0., 0., 0., 1.],\n",
      "        [1., 1., 0., 0., 0., 0., 1.],\n",
      "        [1., 1., 0., 0., 0., 0., 1.],\n",
      "        [1., 1., 0., 0., 0., 0., 1.],\n",
      "        [1., 1., 0., 0., 0., 0., 1.],\n",
      "        [6., 3., 3., 1., 1., 0., 1.],\n",
      "        [6., 3., 3., 1., 1., 0., 1.],\n",
      "        [6., 3., 3., 1., 1., 0., 1.],\n",
      "        [6., 3., 3., 1., 1., 0., 1.],\n",
      "        [5., 3., 3., 0., 1., 0., 1.],\n",
      "        [8., 2., 4., 0., 1., 0., 1.],\n",
      "        [5., 3., 3., 0., 1., 0., 1.],\n",
      "        [6., 3., 3., 1., 1., 0., 1.],\n",
      "        [6., 3., 3., 1., 1., 0., 1.],\n",
      "        [6., 3., 3., 1., 1., 0., 1.],\n",
      "        [6., 3., 3., 1., 1., 0., 1.],\n",
      "        [6., 3., 3., 1., 1., 0., 1.],\n",
      "        [6., 3., 3., 1., 1., 0., 1.],\n",
      "        [8., 2., 4., 0., 1., 0., 1.],\n",
      "        [5., 3., 3., 0., 1., 0., 1.],\n",
      "        [6., 3., 3., 1., 1., 0., 1.],\n",
      "        [6., 3., 3., 1., 1., 0., 1.],\n",
      "        [6., 3., 3., 1., 1., 0., 1.],\n",
      "        [6., 3., 3., 1., 1., 0., 1.],\n",
      "        [6., 3., 3., 1., 1., 0., 1.],\n",
      "        [6., 3., 3., 1., 1., 0., 1.],\n",
      "        [8., 2., 4., 0., 1., 0., 1.],\n",
      "        [6., 3., 3., 1., 1., 0., 1.],\n",
      "        [6., 3., 3., 1., 1., 0., 1.],\n",
      "        [1., 1., 0., 0., 0., 0., 1.],\n",
      "        [1., 1., 0., 0., 0., 0., 1.],\n",
      "        [1., 1., 0., 0., 0., 0., 1.],\n",
      "        [1., 1., 0., 0., 0., 0., 1.],\n",
      "        [1., 1., 0., 0., 0., 0., 1.],\n",
      "        [1., 1., 0., 0., 0., 0., 1.],\n",
      "        [1., 1., 0., 0., 0., 0., 1.],\n",
      "        [1., 1., 0., 0., 0., 0., 1.],\n",
      "        [1., 1., 0., 0., 0., 0., 1.],\n",
      "        [1., 1., 0., 0., 0., 0., 1.],\n",
      "        [1., 1., 0., 0., 0., 0., 1.],\n",
      "        [1., 1., 0., 0., 0., 0., 1.],\n",
      "        [1., 1., 0., 0., 0., 0., 1.],\n",
      "        [1., 1., 0., 0., 0., 0., 1.],\n",
      "        [1., 1., 0., 0., 0., 0., 1.]])\n",
      "Sample outcome:  tensor([6.])\n",
      "Sample cat:  tensor([0])\n"
     ]
    },
    {
     "data": {
      "image/png": "[encoded data removed]",
      "text/plain": [
       "<IPython.core.display.Image object>"
      ]
     },
     "execution_count": 4,
     "metadata": {},
     "output_type": "execute_result"
    }
   ],
   "source": [
    "ligands = ChiralLigands(root = '../Data', filename = 'data_aug.csv')\n",
    "\n",
    "print(\"Dataset type: \", type(ligands))\n",
    "print(\"Dataset node features: \", ligands.num_features)\n",
    "print(\"Dataset length: \", ligands.len)\n",
    "print(\"Dataset sample: \", ligands[0])\n",
    "print('Sample features: ',  ligands[0].x)\n",
    "print('Sample outcome: ',  ligands[0].y)\n",
    "print('Sample cat: ',  ligands[0].category)\n",
    "\n",
    "ms = [ligands[0].ligand, ligands[0].substrate, ligands[0].boron]\n",
    "ms = [Chem.MolFromSmiles(mol) for mol in ms]\n",
    "Chem.Draw.MolsToGridImage(ms,molsPerRow=3,subImgSize=(200,200),legends=['Ligand', 'Substrate', 'Boron reagent']) "
   ]
  },
  {
   "cell_type": "code",
   "execution_count": 5,
   "metadata": {},
   "outputs": [
    {
     "data": {
      "text/plain": [
       "GCN_loop(\n",
       "  (initial_conv): GCNConv(7, 64)\n",
       "  (conv_layers): ModuleList(\n",
       "    (0): GCNConv(64, 64)\n",
       "  )\n",
       "  (readout1): Linear(in_features=128, out_features=64, bias=True)\n",
       "  (readout2): Linear(in_features=64, out_features=1, bias=True)\n",
       ")"
      ]
     },
     "execution_count": 5,
     "metadata": {},
     "output_type": "execute_result"
    }
   ],
   "source": [
    "model = GCN_loop(ligands.num_features, embedding_size = 64, gnn_layers=2, improved=False)\n",
    "model.to(device)"
   ]
  },
  {
   "cell_type": "code",
   "execution_count": 6,
   "metadata": {},
   "outputs": [],
   "source": [
    "loss_fn = torch.nn.BCEWithLogitsLoss()\n",
    "optimizer = torch.optim.Adam(model.parameters(), lr=0.001) "
   ]
  },
  {
   "cell_type": "code",
   "execution_count": 7,
   "metadata": {},
   "outputs": [],
   "source": [
    "categories = np.array([ligands[i].category.detach().numpy() for i in range(len(ligands))])\n",
    "x = [ligands[i].x.detach().numpy() for i in range(len(ligands))]\n",
    "groups = [ligands[i].ligand_num for i in range(len(ligands))]"
   ]
  },
  {
   "cell_type": "code",
   "execution_count": 8,
   "metadata": {},
   "outputs": [],
   "source": [
    "folds = StratifiedGroupKFold(n_splits=10, shuffle=True, random_state=23)\n",
    "train_idx = []\n",
    "test_idx = []\n",
    "\n",
    "for i, (train, test) in enumerate(folds.split(x, categories, groups)):\n",
    "    train_idx.append(train)\n",
    "    test_idx.append(test)"
   ]
  },
  {
   "cell_type": "code",
   "execution_count": 9,
   "metadata": {},
   "outputs": [],
   "source": [
    "fold = 9\n",
    "train_loader = DataLoader(ligands[train_idx[fold]], batch_size=40, shuffle=True)\n",
    "test_loader = DataLoader(ligands[test_idx[fold]], batch_size=40, shuffle=False)"
   ]
  },
  {
   "cell_type": "code",
   "execution_count": 10,
   "metadata": {},
   "outputs": [],
   "source": [
    "def calculate_metrics(y_pred, y_true, epoch, type):\n",
    "    prec = precision_score(y_true, y_pred)\n",
    "    rec = recall_score(y_true, y_pred)\n",
    "    roc = roc_auc_score(y_true, y_pred)\n",
    "    \n",
    "    if epoch % 100 == 0:\n",
    "        print('\\n \\n' + type)\n",
    "        print(f\"\\n Confusion matrix: \\n {confusion_matrix(y_pred, y_true)}\")\n",
    "        print(f\"F1 Score: {f1_score(y_true, y_pred):.2f}\")\n",
    "        print(f\"Accuracy: {accuracy_score(y_true, y_pred):.2f}\")\n",
    "        print(f\"Precision: {prec:.2f}\")\n",
    "        print(f\"Recall: {rec:.2f}\")\n",
    "        print(f\"ROC AUC: {roc:.2f}\")\n",
    "\n",
    "    return prec, rec, roc "
   ]
  },
  {
   "cell_type": "code",
   "execution_count": 11,
   "metadata": {},
   "outputs": [],
   "source": [
    "def train(epoch):\n",
    "\n",
    "    all_preds = []\n",
    "    all_y = []\n",
    "    total_loss = 0\n",
    "    step = 0\n",
    "\n",
    "    # Enumerate over the data\n",
    "    for batch in train_loader:\n",
    "      # Use GPU\n",
    "      batch.to(device)  \n",
    "      # Reset gradients\n",
    "      optimizer.zero_grad() \n",
    "      # Passing the node features and the connection info\n",
    "      pred = model(batch.x.float(), \n",
    "                  batch.edge_index,\n",
    "                  batch.batch) \n",
    "      \n",
    "      # Calculating the loss and gradients\n",
    "      loss = loss_fn(pred, torch.unsqueeze(batch.category.float(), dim = 1))\n",
    "      loss.backward()  \n",
    "      # Update using the gradients\n",
    "      optimizer.step()   \n",
    "\n",
    "      total_loss += loss.item()\n",
    "      step += 1\n",
    "\n",
    "      all_preds.append(np.rint(torch.sigmoid(pred).cpu().detach().numpy()))\n",
    "      all_y.append(batch.category.cpu().detach().numpy())\n",
    "\n",
    "    all_preds = np.concatenate(all_preds).ravel()\n",
    "    all_labels = np.concatenate (all_y).ravel() \n",
    "    metrics = calculate_metrics(all_preds, all_labels, epoch, 'train')\n",
    "\n",
    "    return torch.tensor(total_loss/step), all_preds, all_labels, metrics"
   ]
  },
  {
   "cell_type": "code",
   "execution_count": 12,
   "metadata": {},
   "outputs": [],
   "source": [
    "def test(epoch):\n",
    "\n",
    "    all_preds = []\n",
    "    all_y = []\n",
    "    total_loss = 0\n",
    "    step = 0\n",
    "\n",
    "    # Enumerate over the data\n",
    "    for batch in test_loader:\n",
    "      # Use GPU\n",
    "      batch.to(device)  \n",
    "      # Passing the node features and the connection info\n",
    "      pred = model(batch.x.float(), \n",
    "                  batch.edge_index,\n",
    "                  batch.batch) \n",
    "      \n",
    "      # Calculating the loss and gradients\n",
    "      loss = loss_fn(pred, torch.unsqueeze(batch.category.float(), dim = 1))\n",
    "  \n",
    "      total_loss += loss.item()\n",
    "      step += 1\n",
    "\n",
    "      all_preds.append(np.rint(torch.sigmoid(pred).cpu().detach().numpy()))\n",
    "      all_y.append(batch.category.cpu().detach().numpy())\n",
    "\n",
    "    all_preds = np.concatenate(all_preds).ravel()\n",
    "    all_labels = np.concatenate (all_y).ravel() \n",
    "    metrics = calculate_metrics(all_preds, all_labels, epoch, 'test')\n",
    "\n",
    "    return torch.tensor(total_loss/step), all_preds, all_labels, metrics"
   ]
  },
  {
   "cell_type": "code",
   "execution_count": 13,
   "metadata": {},
   "outputs": [],
   "source": [
    "epochs = 231\n",
    "\n",
    "loss_train = []\n",
    "loss_test = []\n",
    "\n",
    "pred_train = []\n",
    "pred_test = []\n",
    "\n",
    "labels_train = []\n",
    "labels_test = []\n",
    "\n",
    "prec_train = []\n",
    "prec_test = []\n",
    "\n",
    "rec_train = []\n",
    "rec_test = []\n",
    "\n",
    "roc_train = []\n",
    "roc_test = []\n",
    "\n",
    "best_loss = 10_000\n",
    "early_stopping_counter =0"
   ]
  },
  {
   "cell_type": "code",
   "execution_count": 14,
   "metadata": {},
   "outputs": [],
   "source": [
    "model_directory = '/Users/ed/Documents/PhD_Documents/Experiments/ChiralLigands/Data_augm_exp/GNN/saved_models/'\n",
    "model_filename = f'GCN_f_{fold}_l_{model.gnn_layers}_em_{model.embedding_size}_e_{epochs}.pth'\n",
    "model_filepath = os.path.join(model_directory, model_filename)"
   ]
  },
  {
   "cell_type": "code",
   "execution_count": 15,
   "metadata": {},
   "outputs": [],
   "source": [
    "if os.path.exists(model_filepath):\n",
    "    # Load the existing model\n",
    "    model = torch.load(model_filepath)\n",
    "\n",
    "else:\n",
    "    for epoch in range (epochs):\n",
    "                \n",
    "        if early_stopping_counter <= 1000:\n",
    "            # Training\n",
    "            model.train()\n",
    "            loss, pred, label, metrics = train(epoch=epoch)\n",
    "            loss = loss.detach().cpu().numpy()\n",
    "\n",
    "            if epoch % 5 == 0:\n",
    "                loss_train.append(loss) \n",
    "                prec_train.append(metrics[0])\n",
    "                rec_train.append(metrics[1])\n",
    "                roc_train.append(metrics[2])\n",
    "\n",
    "            if epoch % 100 == 0:\n",
    "                print(f\"Epoch {epoch} | Train Loss {loss}\")\n",
    "                pred_train.append(pred)\n",
    "                labels_train.append(label)\n",
    "\n",
    "                    # Testing\n",
    "                \n",
    "            if epoch % 5 == 0:\n",
    "                model.eval()\n",
    "                loss, pred, label, metrics = test(epoch=epoch)\n",
    "                loss = loss.detach().cpu().numpy()\n",
    "\n",
    "                if float(loss) < best_loss:\n",
    "                    best_loss = loss\n",
    "                    early_stopping_counter = 0\n",
    "                    best_pred = pred\n",
    "                    best_y = label\n",
    "                    best_prec = metrics[0]\n",
    "                    best_rec = metrics[1]\n",
    "                    best_roc = metrics[2]\n",
    "                    best_epoch = epoch\n",
    "\n",
    "                else:\n",
    "                    early_stopping_counter += 1\n",
    "\n",
    "                \n",
    "                loss_test.append(loss)\n",
    "                prec_test.append(metrics[0])\n",
    "                rec_test.append(metrics[1])\n",
    "                roc_test.append(metrics[2])\n",
    "\n",
    "                if epoch % 10 == 0:\n",
    "                    print(f\"Epoch {epoch} | Test Loss {loss}\")\n",
    "                    pred_test.append(pred)\n",
    "                    labels_test.append(label)\n",
    "        \n",
    "            last_epoch = epoch\n",
    "                    \n",
    "        else:\n",
    "            print(\"Early stopping due to no improvement.\")\n",
    "            print(f'Best loss was {best_loss}')\n",
    "            last_epoch = epoch\n",
    "            #break\n",
    "\n",
    "    print(f'Finishing training with best test loss: {best_loss}')\n",
    "    print(f'Best test precision: {best_prec}')\n",
    "    print(f'Best test recall: {best_rec}')\n",
    "    print(f'Best test auroc: {best_roc}')\n",
    "    print(f'Best epoch: {best_epoch}')\n",
    "    torch.save(model, model_filepath)"
   ]
  },
  {
   "cell_type": "code",
   "execution_count": 16,
   "metadata": {},
   "outputs": [],
   "source": [
    "from torch_geometric.explain import Explainer, GNNExplainer, CaptumExplainer\n",
    "from plot_importances import *"
   ]
  },
  {
   "cell_type": "code",
   "execution_count": 17,
   "metadata": {},
   "outputs": [],
   "source": [
    "feat_labels = ['Atomic number', 'Atom degree', 'Atom hybridization', 'Aromaticity', 'Atom in ring', 'Atom chirality', 'Molecule configuration']"
   ]
  },
  {
   "cell_type": "code",
   "execution_count": 18,
   "metadata": {},
   "outputs": [],
   "source": [
    "explainer = Explainer(\n",
    "    model=model,\n",
    "    algorithm=CaptumExplainer('ShapleyValueSampling'),\n",
    "    explanation_type='model',\n",
    "    node_mask_type='attributes',\n",
    "    edge_mask_type='object',\n",
    "    model_config=dict(\n",
    "        mode='binary_classification',\n",
    "        task_level='graph',\n",
    "        return_type='raw',\n",
    "    ),\n",
    ")"
   ]
  },
  {
   "cell_type": "code",
   "execution_count": 19,
   "metadata": {},
   "outputs": [],
   "source": [
    "explain = DataLoader(ligands[test_idx[fold]], batch_size=1)"
   ]
  },
  {
   "cell_type": "code",
   "execution_count": 20,
   "metadata": {},
   "outputs": [],
   "source": [
    "mol = get_graph_by_idx(explain, 438)"
   ]
  },
  {
   "cell_type": "code",
   "execution_count": 21,
   "metadata": {},
   "outputs": [
    {
     "data": {
      "image/png": "[encoded data removed]",
      "text/plain": [
       "<rdkit.Chem.rdchem.Mol at 0x16a172430>"
      ]
     },
     "execution_count": 21,
     "metadata": {},
     "output_type": "execute_result"
    }
   ],
   "source": [
    "Chem.MolFromSmiles(mol.ligand[0])"
   ]
  },
  {
   "cell_type": "code",
   "execution_count": 22,
   "metadata": {},
   "outputs": [],
   "source": [
    "explanation = explainer(x = mol.x, edge_index=mol.edge_index,  batch_index=mol.batch)"
   ]
  },
  {
   "cell_type": "code",
   "execution_count": 23,
   "metadata": {},
   "outputs": [
    {
     "data": {
      "image/png": "[encoded data removed]",
      "text/plain": [
       "<Figure size 1000x700 with 1 Axes>"
      ]
     },
     "metadata": {},
     "output_type": "display_data"
    }
   ],
   "source": [
    "explanation.visualize_feature_importance(path=None, top_k=7, feat_labels = feat_labels)"
   ]
  },
  {
   "cell_type": "code",
   "execution_count": 25,
   "metadata": {},
   "outputs": [
    {
     "data": {
      "application/vnd.plotly.v1+json": {
       "config": {
        "plotlyServerURL": "https://plot.ly"
       },
       "data": [
        {
         "legendgroup": "Atoms",
         "marker": {
          "color": "black",
          "size": 8.625,
          "symbol": "circle"
         },
         "mode": "markers",
         "showlegend": false,
         "text": "atom C",
         "type": "scatter3d",
         "x": [
          5.601263705829531
         ],
         "y": [
          0.31613445116843986
         ],
         "z": [
          -0.9995214985468471
         ]
        },
        {
         "legendgroup": "Atoms",
         "marker": {
          "color": "red",
          "size": 8.25,
          "symbol": "circle"
         },
         "mode": "markers",
         "showlegend": false,
         "text": "atom O",
         "type": "scatter3d",
         "x": [
          5.202406159180898
         ],
         "y": [
          0.5361503694509056
         ],
         "z": [
          0.2721812024092838
         ]
        },
        {
         "legendgroup": "Atoms",
         "marker": {
          "color": "black",
          "size": 8.625,
          "symbol": "circle"
         },
         "mode": "markers",
         "showlegend": false,
         "text": "atom C",
         "type": "scatter3d",
         "x": [
          3.895529190189886
         ],
         "y": [
          0.4404668964367587
         ],
         "z": [
          0.6044567047669017
         ]
        },
        {
         "legendgroup": "Atoms",
         "marker": {
          "color": "black",
          "size": 8.625,
          "symbol": "circle"
         },
         "mode": "markers",
         "showlegend": false,
         "text": "atom C",
         "type": "scatter3d",
         "x": [
          3.8392808386029547
         ],
         "y": [
          0.771000400501267
         ],
         "z": [
          2.116724468721402
         ]
        },
        {
         "legendgroup": "Atoms",
         "marker": {
          "color": "black",
          "size": 8.625,
          "symbol": "circle"
         },
         "mode": "markers",
         "showlegend": false,
         "text": "atom C",
         "type": "scatter3d",
         "x": [
          3.2735806456897274
         ],
         "y": [
          -0.9163733540345974
         ],
         "z": [
          0.4930519658342686
         ]
        },
        {
         "legendgroup": "Atoms",
         "marker": {
          "color": "black",
          "size": 8.625,
          "symbol": "circle"
         },
         "mode": "markers",
         "showlegend": false,
         "text": "atom C",
         "type": "scatter3d",
         "x": [
          2.047113645711845
         ],
         "y": [
          -0.908648768917193
         ],
         "z": [
          -0.4602407189945858
         ]
        },
        {
         "legendgroup": "Atoms",
         "marker": {
          "color": "black",
          "size": 8.625,
          "symbol": "circle"
         },
         "mode": "markers",
         "showlegend": false,
         "text": "atom C",
         "type": "scatter3d",
         "x": [
          1.6413184507095209
         ],
         "y": [
          -2.3066305420157436
         ],
         "z": [
          -0.729246802624404
         ]
        },
        {
         "legendgroup": "Atoms",
         "marker": {
          "color": "black",
          "size": 8.625,
          "symbol": "circle"
         },
         "mode": "markers",
         "showlegend": false,
         "text": "atom C",
         "type": "scatter3d",
         "x": [
          2.5978420363307504
         ],
         "y": [
          -0.232785745108128
         ],
         "z": [
          -1.7092640328250972
         ]
        },
        {
         "legendgroup": "Atoms",
         "marker": {
          "color": "black",
          "size": 8.625,
          "symbol": "circle"
         },
         "mode": "markers",
         "showlegend": false,
         "text": "atom C",
         "type": "scatter3d",
         "x": [
          2.7543841191948104
         ],
         "y": [
          1.091994757810045
         ],
         "z": [
          -1.4900478182142374
         ]
        },
        {
         "legendgroup": "Atoms",
         "marker": {
          "color": "black",
          "size": 8.625,
          "symbol": "circle"
         },
         "mode": "markers",
         "showlegend": false,
         "text": "atom C",
         "type": "scatter3d",
         "x": [
          2.9614580682445317
         ],
         "y": [
          1.435334804838669
         ],
         "z": [
          -0.054278963262156546
         ]
        },
        {
         "legendgroup": "Atoms",
         "marker": {
          "color": "black",
          "size": 8.625,
          "symbol": "circle"
         },
         "mode": "markers",
         "showlegend": false,
         "text": "atom C",
         "type": "scatter3d",
         "x": [
          1.6282657754776664
         ],
         "y": [
          1.1126621121798423
         ],
         "z": [
          0.6128560391165019
         ]
        },
        {
         "legendgroup": "Atoms",
         "marker": {
          "color": "black",
          "size": 8.625,
          "symbol": "circle"
         },
         "mode": "markers",
         "showlegend": false,
         "text": "atom C",
         "type": "scatter3d",
         "x": [
          1.0346681174327002
         ],
         "y": [
          0.03952407313049552
         ],
         "z": [
          0.0232836223241101
         ]
        },
        {
         "legendgroup": "Atoms",
         "marker": {
          "color": "black",
          "size": 8.625,
          "symbol": "circle"
         },
         "mode": "markers",
         "showlegend": false,
         "text": "atom C",
         "type": "scatter3d",
         "x": [
          -0.3857166747342974
         ],
         "y": [
          -0.02844395821264261
         ],
         "z": [
          -0.05000482238521825
         ]
        },
        {
         "legendgroup": "Atoms",
         "marker": {
          "color": "black",
          "size": 8.625,
          "symbol": "circle"
         },
         "mode": "markers",
         "showlegend": false,
         "text": "atom C",
         "type": "scatter3d",
         "x": [
          -1.1564347701962971
         ],
         "y": [
          0.9511553586380149
         ],
         "z": [
          0.6039418469884635
         ]
        },
        {
         "legendgroup": "Atoms",
         "marker": {
          "color": "black",
          "size": 8.625,
          "symbol": "circle"
         },
         "mode": "markers",
         "showlegend": false,
         "text": "atom C",
         "type": "scatter3d",
         "x": [
          -2.532504823788183
         ],
         "y": [
          0.9464235111743364
         ],
         "z": [
          0.5383640665997377
         ]
        },
        {
         "legendgroup": "Atoms",
         "marker": {
          "color": "black",
          "size": 8.625,
          "symbol": "circle"
         },
         "mode": "markers",
         "showlegend": false,
         "text": "atom C",
         "type": "scatter3d",
         "x": [
          -3.228133368586467
         ],
         "y": [
          -0.009542887471011209
         ],
         "z": [
          -0.1654667946544038
         ]
        },
        {
         "legendgroup": "Atoms",
         "marker": {
          "color": "black",
          "size": 8.625,
          "symbol": "circle"
         },
         "mode": "markers",
         "showlegend": false,
         "text": "atom C",
         "type": "scatter3d",
         "x": [
          -4.705521816077048
         ],
         "y": [
          0.08165674212094347
         ],
         "z": [
          -0.1674508505243837
         ]
        },
        {
         "legendgroup": "Atoms",
         "marker": {
          "color": "black",
          "size": 8.625,
          "symbol": "circle"
         },
         "mode": "markers",
         "showlegend": false,
         "text": "atom C",
         "type": "scatter3d",
         "x": [
          -5.355794625788844
         ],
         "y": [
          -1.0100433839689666
         ],
         "z": [
          -0.9647829799363193
         ]
        },
        {
         "legendgroup": "Atoms",
         "marker": {
          "color": "black",
          "size": 8.625,
          "symbol": "circle"
         },
         "mode": "markers",
         "showlegend": false,
         "text": "atom C",
         "type": "scatter3d",
         "x": [
          -5.202693126671225
         ],
         "y": [
          1.4105708994097543
         ],
         "z": [
          -0.6688192205135682
         ]
        },
        {
         "legendgroup": "Atoms",
         "marker": {
          "color": "black",
          "size": 8.625,
          "symbol": "circle"
         },
         "mode": "markers",
         "showlegend": false,
         "text": "atom C",
         "type": "scatter3d",
         "x": [
          -5.167350042769946
         ],
         "y": [
          -0.0626676211463042
         ],
         "z": [
          1.2773175707174984
         ]
        },
        {
         "legendgroup": "Atoms",
         "marker": {
          "color": "black",
          "size": 8.625,
          "symbol": "circle"
         },
         "mode": "markers",
         "showlegend": false,
         "text": "atom C",
         "type": "scatter3d",
         "x": [
          -2.511637612498159
         ],
         "y": [
          -0.9621428425051046
         ],
         "z": [
          -0.8036807874705606
         ]
        },
        {
         "legendgroup": "Atoms",
         "marker": {
          "color": "black",
          "size": 8.625,
          "symbol": "circle"
         },
         "mode": "markers",
         "showlegend": false,
         "text": "atom C",
         "type": "scatter3d",
         "x": [
          -1.1086524121338908
         ],
         "y": [
          -0.9550742061682901
         ],
         "z": [
          -0.7357463832172834
         ]
        },
        {
         "legendgroup": "Atoms",
         "marker": {
          "color": "lightgray",
          "size": 3.875,
          "symbol": "circle"
         },
         "mode": "markers",
         "showlegend": false,
         "text": "atom H",
         "type": "scatter3d",
         "x": [
          5.210819333706811
         ],
         "y": [
          0.954044661709793
         ],
         "z": [
          -1.7864950905951507
         ]
        },
        {
         "legendgroup": "Atoms",
         "marker": {
          "color": "lightgray",
          "size": 3.875,
          "symbol": "circle"
         },
         "mode": "markers",
         "showlegend": false,
         "text": "atom H",
         "type": "scatter3d",
         "x": [
          6.7235437023546725
         ],
         "y": [
          0.45399810577373423
         ],
         "z": [
          -1.0213396507918342
         ]
        },
        {
         "legendgroup": "Atoms",
         "marker": {
          "color": "lightgray",
          "size": 3.875,
          "symbol": "circle"
         },
         "mode": "markers",
         "showlegend": false,
         "text": "atom H",
         "type": "scatter3d",
         "x": [
          5.4760815495091295
         ],
         "y": [
          -0.7816423298276697
         ],
         "z": [
          -1.230083224784013
         ]
        },
        {
         "legendgroup": "Atoms",
         "marker": {
          "color": "lightgray",
          "size": 3.875,
          "symbol": "circle"
         },
         "mode": "markers",
         "showlegend": false,
         "text": "atom H",
         "type": "scatter3d",
         "x": [
          2.814739332063883
         ],
         "y": [
          0.8769745216486098
         ],
         "z": [
          2.4645634355618276
         ]
        },
        {
         "legendgroup": "Atoms",
         "marker": {
          "color": "lightgray",
          "size": 3.875,
          "symbol": "circle"
         },
         "mode": "markers",
         "showlegend": false,
         "text": "atom H",
         "type": "scatter3d",
         "x": [
          4.39680983229203
         ],
         "y": [
          1.7074152878151518
         ],
         "z": [
          2.323698433954975
         ]
        },
        {
         "legendgroup": "Atoms",
         "marker": {
          "color": "lightgray",
          "size": 3.875,
          "symbol": "circle"
         },
         "mode": "markers",
         "showlegend": false,
         "text": "atom H",
         "type": "scatter3d",
         "x": [
          4.384049485010372
         ],
         "y": [
          -0.038095867636006336
         ],
         "z": [
          2.678874774627517
         ]
        },
        {
         "legendgroup": "Atoms",
         "marker": {
          "color": "lightgray",
          "size": 3.875,
          "symbol": "circle"
         },
         "mode": "markers",
         "showlegend": false,
         "text": "atom H",
         "type": "scatter3d",
         "x": [
          4.011054534871829
         ],
         "y": [
          -1.57357995778909
         ],
         "z": [
          -0.05278043649875221
         ]
        },
        {
         "legendgroup": "Atoms",
         "marker": {
          "color": "lightgray",
          "size": 3.875,
          "symbol": "circle"
         },
         "mode": "markers",
         "showlegend": false,
         "text": "atom H",
         "type": "scatter3d",
         "x": [
          3.0054321481784876
         ],
         "y": [
          -1.3911961784230706
         ],
         "z": [
          1.443053753155655
         ]
        },
        {
         "legendgroup": "Atoms",
         "marker": {
          "color": "lightgray",
          "size": 3.875,
          "symbol": "circle"
         },
         "mode": "markers",
         "showlegend": false,
         "text": "atom H",
         "type": "scatter3d",
         "x": [
          2.5989495650168326
         ],
         "y": [
          -2.9343747854786324
         ],
         "z": [
          -0.5623313591805277
         ]
        },
        {
         "legendgroup": "Atoms",
         "marker": {
          "color": "lightgray",
          "size": 3.875,
          "symbol": "circle"
         },
         "mode": "markers",
         "showlegend": false,
         "text": "atom H",
         "type": "scatter3d",
         "x": [
          1.4282403559181776
         ],
         "y": [
          -2.542553264458313
         ],
         "z": [
          -1.801599855735794
         ]
        },
        {
         "legendgroup": "Atoms",
         "marker": {
          "color": "lightgray",
          "size": 3.875,
          "symbol": "circle"
         },
         "mode": "markers",
         "showlegend": false,
         "text": "atom H",
         "type": "scatter3d",
         "x": [
          0.9464870828575369
         ],
         "y": [
          -2.7564977228529473
         ],
         "z": [
          -0.010776014941090071
         ]
        },
        {
         "legendgroup": "Atoms",
         "marker": {
          "color": "lightgray",
          "size": 3.875,
          "symbol": "circle"
         },
         "mode": "markers",
         "showlegend": false,
         "text": "atom H",
         "type": "scatter3d",
         "x": [
          2.8200703133007163
         ],
         "y": [
          -0.7397655235531555
         ],
         "z": [
          -2.6100603021155413
         ]
        },
        {
         "legendgroup": "Atoms",
         "marker": {
          "color": "lightgray",
          "size": 3.875,
          "symbol": "circle"
         },
         "mode": "markers",
         "showlegend": false,
         "text": "atom H",
         "type": "scatter3d",
         "x": [
          2.7353921628282953
         ],
         "y": [
          1.837808371324314
         ],
         "z": [
          -2.2594285472994136
         ]
        },
        {
         "legendgroup": "Atoms",
         "marker": {
          "color": "lightgray",
          "size": 3.875,
          "symbol": "circle"
         },
         "mode": "markers",
         "showlegend": false,
         "text": "atom H",
         "type": "scatter3d",
         "x": [
          3.1678341974142814
         ],
         "y": [
          2.475587267725683
         ],
         "z": [
          0.15334422749506005
         ]
        },
        {
         "legendgroup": "Atoms",
         "marker": {
          "color": "lightgray",
          "size": 3.875,
          "symbol": "circle"
         },
         "mode": "markers",
         "showlegend": false,
         "text": "atom H",
         "type": "scatter3d",
         "x": [
          1.2414652502047856
         ],
         "y": [
          1.653740706665476
         ],
         "z": [
          1.4238663244831864
         ]
        },
        {
         "legendgroup": "Atoms",
         "marker": {
          "color": "lightgray",
          "size": 3.875,
          "symbol": "circle"
         },
         "mode": "markers",
         "showlegend": false,
         "text": "atom H",
         "type": "scatter3d",
         "x": [
          -0.6589239360778923
         ],
         "y": [
          1.7136837689262383
         ],
         "z": [
          1.1599173999691368
         ]
        },
        {
         "legendgroup": "Atoms",
         "marker": {
          "color": "lightgray",
          "size": 3.875,
          "symbol": "circle"
         },
         "mode": "markers",
         "showlegend": false,
         "text": "atom H",
         "type": "scatter3d",
         "x": [
          -3.0812470676470656
         ],
         "y": [
          1.734233445444787
         ],
         "z": [
          1.0676387140836023
         ]
        },
        {
         "legendgroup": "Atoms",
         "marker": {
          "color": "lightgray",
          "size": 3.875,
          "symbol": "circle"
         },
         "mode": "markers",
         "showlegend": false,
         "text": "atom H",
         "type": "scatter3d",
         "x": [
          -4.9257371380490085
         ],
         "y": [
          -1.1343982002244748
         ],
         "z": [
          -1.9762049797150885
         ]
        },
        {
         "legendgroup": "Atoms",
         "marker": {
          "color": "lightgray",
          "size": 3.875,
          "symbol": "circle"
         },
         "mode": "markers",
         "showlegend": false,
         "text": "atom H",
         "type": "scatter3d",
         "x": [
          -5.37444995437238
         ],
         "y": [
          -1.9473663089519009
         ],
         "z": [
          -0.38413081503547375
         ]
        },
        {
         "legendgroup": "Atoms",
         "marker": {
          "color": "lightgray",
          "size": 3.875,
          "symbol": "circle"
         },
         "mode": "markers",
         "showlegend": false,
         "text": "atom H",
         "type": "scatter3d",
         "x": [
          -6.427062584371248
         ],
         "y": [
          -0.7143025331305239
         ],
         "z": [
          -1.1192050967650502
         ]
        },
        {
         "legendgroup": "Atoms",
         "marker": {
          "color": "lightgray",
          "size": 3.875,
          "symbol": "circle"
         },
         "mode": "markers",
         "showlegend": false,
         "text": "atom H",
         "type": "scatter3d",
         "x": [
          -6.296480753180355
         ],
         "y": [
          1.304023614407801
         ],
         "z": [
          -0.8564368489920071
         ]
        },
        {
         "legendgroup": "Atoms",
         "marker": {
          "color": "lightgray",
          "size": 3.875,
          "symbol": "circle"
         },
         "mode": "markers",
         "showlegend": false,
         "text": "atom H",
         "type": "scatter3d",
         "x": [
          -4.717726170617384
         ],
         "y": [
          1.6961015523356555
         ],
         "z": [
          -1.633281567380559
         ]
        },
        {
         "legendgroup": "Atoms",
         "marker": {
          "color": "lightgray",
          "size": 3.875,
          "symbol": "circle"
         },
         "mode": "markers",
         "showlegend": false,
         "text": "atom H",
         "type": "scatter3d",
         "x": [
          -5.079334535648077
         ],
         "y": [
          2.1945289894390543
         ],
         "z": [
          0.10856036854805327
         ]
        },
        {
         "legendgroup": "Atoms",
         "marker": {
          "color": "lightgray",
          "size": 3.875,
          "symbol": "circle"
         },
         "mode": "markers",
         "showlegend": false,
         "text": "atom H",
         "type": "scatter3d",
         "x": [
          -5.1262871988413075
         ],
         "y": [
          0.9104547403127184
         ],
         "z": [
          1.7855101970853948
         ]
        },
        {
         "legendgroup": "Atoms",
         "marker": {
          "color": "lightgray",
          "size": 3.875,
          "symbol": "circle"
         },
         "mode": "markers",
         "showlegend": false,
         "text": "atom H",
         "type": "scatter3d",
         "x": [
          -4.560840731168126
         ],
         "y": [
          -0.8319774623775728
         ],
         "z": [
          1.8032622573806332
         ]
        },
        {
         "legendgroup": "Atoms",
         "marker": {
          "color": "lightgray",
          "size": 3.875,
          "symbol": "circle"
         },
         "mode": "markers",
         "showlegend": false,
         "text": "atom H",
         "type": "scatter3d",
         "x": [
          -6.2131440978978905
         ],
         "y": [
          -0.41503534873507575
         ],
         "z": [
          1.29286880770081
         ]
        },
        {
         "legendgroup": "Atoms",
         "marker": {
          "color": "lightgray",
          "size": 3.875,
          "symbol": "circle"
         },
         "mode": "markers",
         "showlegend": false,
         "text": "atom H",
         "type": "scatter3d",
         "x": [
          -2.9944924895046756
         ],
         "y": [
          -1.7206370874097625
         ],
         "z": [
          -1.3590566239273276
         ]
        },
        {
         "legendgroup": "Atoms",
         "marker": {
          "color": "lightgray",
          "size": 3.875,
          "symbol": "circle"
         },
         "mode": "markers",
         "showlegend": false,
         "text": "atom H",
         "type": "scatter3d",
         "x": [
          -0.6279136675025533
         ],
         "y": [
          -1.7318935299921363
         ],
         "z": [
          -1.2892595651779628
         ]
        },
        {
         "legendgroup": "Atom importance",
         "marker": {
          "color": "red",
          "size": 14.6625,
          "symbol": "circle"
         },
         "mode": "markers",
         "opacity": 0.21225165683788222,
         "showlegend": false,
         "text": "atom C",
         "type": "scatter3d",
         "x": [
          5.601263705829531
         ],
         "y": [
          0.31613445116843986
         ],
         "z": [
          -0.9995214985468471
         ]
        },
        {
         "legendgroup": "Atom importance",
         "marker": {
          "color": "red",
          "size": 14.025,
          "symbol": "circle"
         },
         "mode": "markers",
         "opacity": 0.3516812701233845,
         "showlegend": false,
         "text": "atom O",
         "type": "scatter3d",
         "x": [
          5.202406159180898
         ],
         "y": [
          0.5361503694509056
         ],
         "z": [
          0.2721812024092838
         ]
        },
        {
         "legendgroup": "Atom importance",
         "marker": {
          "color": "red",
          "size": 14.6625,
          "symbol": "circle"
         },
         "mode": "markers",
         "opacity": 0.4800816323793242,
         "showlegend": false,
         "text": "atom C",
         "type": "scatter3d",
         "x": [
          3.895529190189886
         ],
         "y": [
          0.4404668964367587
         ],
         "z": [
          0.6044567047669017
         ]
        },
        {
         "legendgroup": "Atom importance",
         "marker": {
          "color": "red",
          "size": 14.6625,
          "symbol": "circle"
         },
         "mode": "markers",
         "opacity": 0.07800141550795336,
         "showlegend": false,
         "text": "atom C",
         "type": "scatter3d",
         "x": [
          3.8392808386029547
         ],
         "y": [
          0.771000400501267
         ],
         "z": [
          2.116724468721402
         ]
        },
        {
         "legendgroup": "Atom importance",
         "marker": {
          "color": "red",
          "size": 14.6625,
          "symbol": "circle"
         },
         "mode": "markers",
         "opacity": 0.10668608059226875,
         "showlegend": false,
         "text": "atom C",
         "type": "scatter3d",
         "x": [
          3.2735806456897274
         ],
         "y": [
          -0.9163733540345974
         ],
         "z": [
          0.4930519658342686
         ]
        },
        {
         "legendgroup": "Atom importance",
         "marker": {
          "color": "blue",
          "size": 14.6625,
          "symbol": "circle"
         },
         "mode": "markers",
         "opacity": 0.8160166286953872,
         "showlegend": false,
         "text": "atom C",
         "type": "scatter3d",
         "x": [
          2.047113645711845
         ],
         "y": [
          -0.908648768917193
         ],
         "z": [
          -0.4602407189945858
         ]
        },
        {
         "legendgroup": "Atom importance",
         "marker": {
          "color": "red",
          "size": 14.6625,
          "symbol": "circle"
         },
         "mode": "markers",
         "opacity": 0.4373757960534375,
         "showlegend": false,
         "text": "atom C",
         "type": "scatter3d",
         "x": [
          1.6413184507095209
         ],
         "y": [
          -2.3066305420157436
         ],
         "z": [
          -0.729246802624404
         ]
        },
        {
         "legendgroup": "Atom importance",
         "marker": {
          "color": "red",
          "size": 14.6625,
          "symbol": "circle"
         },
         "mode": "markers",
         "opacity": 0.36023246963351724,
         "showlegend": false,
         "text": "atom C",
         "type": "scatter3d",
         "x": [
          2.5978420363307504
         ],
         "y": [
          -0.232785745108128
         ],
         "z": [
          -1.7092640328250972
         ]
        },
        {
         "legendgroup": "Atom importance",
         "marker": {
          "color": "red",
          "size": 14.6625,
          "symbol": "circle"
         },
         "mode": "markers",
         "opacity": 0.44850427653357944,
         "showlegend": false,
         "text": "atom C",
         "type": "scatter3d",
         "x": [
          2.7543841191948104
         ],
         "y": [
          1.091994757810045
         ],
         "z": [
          -1.4900478182142374
         ]
        },
        {
         "legendgroup": "Atom importance",
         "marker": {
          "color": "blue",
          "size": 14.6625,
          "symbol": "circle"
         },
         "mode": "markers",
         "opacity": 0.6386824052293485,
         "showlegend": false,
         "text": "atom C",
         "type": "scatter3d",
         "x": [
          2.9614580682445317
         ],
         "y": [
          1.435334804838669
         ],
         "z": [
          -0.054278963262156546
         ]
        },
        {
         "legendgroup": "Atom importance",
         "marker": {
          "color": "red",
          "size": 14.6625,
          "symbol": "circle"
         },
         "mode": "markers",
         "opacity": 0.4024666609844869,
         "showlegend": false,
         "text": "atom C",
         "type": "scatter3d",
         "x": [
          1.6282657754776664
         ],
         "y": [
          1.1126621121798423
         ],
         "z": [
          0.6128560391165019
         ]
        },
        {
         "legendgroup": "Atom importance",
         "marker": {
          "color": "red",
          "size": 14.6625,
          "symbol": "circle"
         },
         "mode": "markers",
         "opacity": 0.42912529329513255,
         "showlegend": false,
         "text": "atom C",
         "type": "scatter3d",
         "x": [
          1.0346681174327002
         ],
         "y": [
          0.03952407313049552
         ],
         "z": [
          0.0232836223241101
         ]
        },
        {
         "legendgroup": "Atom importance",
         "marker": {
          "color": "red",
          "size": 14.6625,
          "symbol": "circle"
         },
         "mode": "markers",
         "opacity": 0.3152883093593736,
         "showlegend": false,
         "text": "atom C",
         "type": "scatter3d",
         "x": [
          -0.3857166747342974
         ],
         "y": [
          -0.02844395821264261
         ],
         "z": [
          -0.05000482238521825
         ]
        },
        {
         "legendgroup": "Atom importance",
         "marker": {
          "color": "red",
          "size": 14.6625,
          "symbol": "circle"
         },
         "mode": "markers",
         "opacity": 0.08818748680442501,
         "showlegend": false,
         "text": "atom C",
         "type": "scatter3d",
         "x": [
          -1.1564347701962971
         ],
         "y": [
          0.9511553586380149
         ],
         "z": [
          0.6039418469884635
         ]
        },
        {
         "legendgroup": "Atom importance",
         "marker": {
          "color": "red",
          "size": 14.6625,
          "symbol": "circle"
         },
         "mode": "markers",
         "opacity": 0.1134170866258778,
         "showlegend": false,
         "text": "atom C",
         "type": "scatter3d",
         "x": [
          -2.532504823788183
         ],
         "y": [
          0.9464235111743364
         ],
         "z": [
          0.5383640665997377
         ]
        },
        {
         "legendgroup": "Atom importance",
         "marker": {
          "color": "red",
          "size": 14.6625,
          "symbol": "circle"
         },
         "mode": "markers",
         "opacity": 0.1773393170534921,
         "showlegend": false,
         "text": "atom C",
         "type": "scatter3d",
         "x": [
          -3.228133368586467
         ],
         "y": [
          -0.009542887471011209
         ],
         "z": [
          -0.1654667946544038
         ]
        },
        {
         "legendgroup": "Atom importance",
         "marker": {
          "color": "blue",
          "size": 14.6625,
          "symbol": "circle"
         },
         "mode": "markers",
         "opacity": 0.5190532430149725,
         "showlegend": false,
         "text": "atom C",
         "type": "scatter3d",
         "x": [
          -4.705521816077048
         ],
         "y": [
          0.08165674212094347
         ],
         "z": [
          -0.1674508505243837
         ]
        },
        {
         "legendgroup": "Atom importance",
         "marker": {
          "color": "red",
          "size": 14.6625,
          "symbol": "circle"
         },
         "mode": "markers",
         "opacity": 0.49980451235818923,
         "showlegend": false,
         "text": "atom C",
         "type": "scatter3d",
         "x": [
          -5.355794625788844
         ],
         "y": [
          -1.0100433839689666
         ],
         "z": [
          -0.9647829799363193
         ]
        },
        {
         "legendgroup": "Atom importance",
         "marker": {
          "color": "red",
          "size": 14.6625,
          "symbol": "circle"
         },
         "mode": "markers",
         "opacity": 0.3034319233971987,
         "showlegend": false,
         "text": "atom C",
         "type": "scatter3d",
         "x": [
          -5.202693126671225
         ],
         "y": [
          1.4105708994097543
         ],
         "z": [
          -0.6688192205135682
         ]
        },
        {
         "legendgroup": "Atom importance",
         "marker": {
          "color": "red",
          "size": 14.6625,
          "symbol": "circle"
         },
         "mode": "markers",
         "opacity": 0.18467739381843923,
         "showlegend": false,
         "text": "atom C",
         "type": "scatter3d",
         "x": [
          -5.167350042769946
         ],
         "y": [
          -0.0626676211463042
         ],
         "z": [
          1.2773175707174984
         ]
        },
        {
         "legendgroup": "Atom importance",
         "marker": {
          "color": "red",
          "size": 14.6625,
          "symbol": "circle"
         },
         "mode": "markers",
         "opacity": 0.24966645491491712,
         "showlegend": false,
         "text": "atom C",
         "type": "scatter3d",
         "x": [
          -2.511637612498159
         ],
         "y": [
          -0.9621428425051046
         ],
         "z": [
          -0.8036807874705606
         ]
        },
        {
         "legendgroup": "Atom importance",
         "marker": {
          "color": "red",
          "size": 14.6625,
          "symbol": "circle"
         },
         "mode": "markers",
         "opacity": 0,
         "showlegend": false,
         "text": "atom C",
         "type": "scatter3d",
         "x": [
          -1.1086524121338908
         ],
         "y": [
          -0.9550742061682901
         ],
         "z": [
          -0.7357463832172834
         ]
        },
        {
         "legendgroup": "Atom importance",
         "marker": {
          "color": "blue",
          "size": 6.5874999999999995,
          "symbol": "circle"
         },
         "mode": "markers",
         "opacity": 0.5109746037337524,
         "showlegend": false,
         "text": "atom H",
         "type": "scatter3d",
         "x": [
          5.210819333706811
         ],
         "y": [
          0.954044661709793
         ],
         "z": [
          -1.7864950905951507
         ]
        },
        {
         "legendgroup": "Atom importance",
         "marker": {
          "color": "blue",
          "size": 6.5874999999999995,
          "symbol": "circle"
         },
         "mode": "markers",
         "opacity": 0.512422936144156,
         "showlegend": false,
         "text": "atom H",
         "type": "scatter3d",
         "x": [
          6.7235437023546725
         ],
         "y": [
          0.45399810577373423
         ],
         "z": [
          -1.0213396507918342
         ]
        },
        {
         "legendgroup": "Atom importance",
         "marker": {
          "color": "red",
          "size": 6.5874999999999995,
          "symbol": "circle"
         },
         "mode": "markers",
         "opacity": 0.49892022843551226,
         "showlegend": false,
         "text": "atom H",
         "type": "scatter3d",
         "x": [
          5.4760815495091295
         ],
         "y": [
          -0.7816423298276697
         ],
         "z": [
          -1.230083224784013
         ]
        },
        {
         "legendgroup": "Atom importance",
         "marker": {
          "color": "red",
          "size": 6.5874999999999995,
          "symbol": "circle"
         },
         "mode": "markers",
         "opacity": 0.49956371831714325,
         "showlegend": false,
         "text": "atom H",
         "type": "scatter3d",
         "x": [
          2.814739332063883
         ],
         "y": [
          0.8769745216486098
         ],
         "z": [
          2.4645634355618276
         ]
        },
        {
         "legendgroup": "Atom importance",
         "marker": {
          "color": "red",
          "size": 6.5874999999999995,
          "symbol": "circle"
         },
         "mode": "markers",
         "opacity": 0.4992234401461452,
         "showlegend": false,
         "text": "atom H",
         "type": "scatter3d",
         "x": [
          4.39680983229203
         ],
         "y": [
          1.7074152878151518
         ],
         "z": [
          2.323698433954975
         ]
        },
        {
         "legendgroup": "Atom importance",
         "marker": {
          "color": "red",
          "size": 6.5874999999999995,
          "symbol": "circle"
         },
         "mode": "markers",
         "opacity": 0.47250253872888,
         "showlegend": false,
         "text": "atom H",
         "type": "scatter3d",
         "x": [
          4.384049485010372
         ],
         "y": [
          -0.038095867636006336
         ],
         "z": [
          2.678874774627517
         ]
        },
        {
         "legendgroup": "Atom importance",
         "marker": {
          "color": "red",
          "size": 6.5874999999999995,
          "symbol": "circle"
         },
         "mode": "markers",
         "opacity": 0.44603869369177024,
         "showlegend": false,
         "text": "atom H",
         "type": "scatter3d",
         "x": [
          4.011054534871829
         ],
         "y": [
          -1.57357995778909
         ],
         "z": [
          -0.05278043649875221
         ]
        },
        {
         "legendgroup": "Atom importance",
         "marker": {
          "color": "red",
          "size": 6.5874999999999995,
          "symbol": "circle"
         },
         "mode": "markers",
         "opacity": 0.4867336599518469,
         "showlegend": false,
         "text": "atom H",
         "type": "scatter3d",
         "x": [
          3.0054321481784876
         ],
         "y": [
          -1.3911961784230706
         ],
         "z": [
          1.443053753155655
         ]
        },
        {
         "legendgroup": "Atom importance",
         "marker": {
          "color": "red",
          "size": 6.5874999999999995,
          "symbol": "circle"
         },
         "mode": "markers",
         "opacity": 0.46045202076197184,
         "showlegend": false,
         "text": "atom H",
         "type": "scatter3d",
         "x": [
          2.5989495650168326
         ],
         "y": [
          -2.9343747854786324
         ],
         "z": [
          -0.5623313591805277
         ]
        },
        {
         "legendgroup": "Atom importance",
         "marker": {
          "color": "red",
          "size": 6.5874999999999995,
          "symbol": "circle"
         },
         "mode": "markers",
         "opacity": 0.49066964476344826,
         "showlegend": false,
         "text": "atom H",
         "type": "scatter3d",
         "x": [
          1.4282403559181776
         ],
         "y": [
          -2.542553264458313
         ],
         "z": [
          -1.801599855735794
         ]
        },
        {
         "legendgroup": "Atom importance",
         "marker": {
          "color": "red",
          "size": 6.5874999999999995,
          "symbol": "circle"
         },
         "mode": "markers",
         "opacity": 0.43761644683733636,
         "showlegend": false,
         "text": "atom H",
         "type": "scatter3d",
         "x": [
          0.9464870828575369
         ],
         "y": [
          -2.7564977228529473
         ],
         "z": [
          -0.010776014941090071
         ]
        },
        {
         "legendgroup": "Atom importance",
         "marker": {
          "color": "red",
          "size": 6.5874999999999995,
          "symbol": "circle"
         },
         "mode": "markers",
         "opacity": 0.48929111307152917,
         "showlegend": false,
         "text": "atom H",
         "type": "scatter3d",
         "x": [
          2.8200703133007163
         ],
         "y": [
          -0.7397655235531555
         ],
         "z": [
          -2.6100603021155413
         ]
        },
        {
         "legendgroup": "Atom importance",
         "marker": {
          "color": "red",
          "size": 6.5874999999999995,
          "symbol": "circle"
         },
         "mode": "markers",
         "opacity": 0.47036545778999256,
         "showlegend": false,
         "text": "atom H",
         "type": "scatter3d",
         "x": [
          2.7353921628282953
         ],
         "y": [
          1.837808371324314
         ],
         "z": [
          -2.2594285472994136
         ]
        },
        {
         "legendgroup": "Atom importance",
         "marker": {
          "color": "red",
          "size": 6.5874999999999995,
          "symbol": "circle"
         },
         "mode": "markers",
         "opacity": 0.4564737459099554,
         "showlegend": false,
         "text": "atom H",
         "type": "scatter3d",
         "x": [
          3.1678341974142814
         ],
         "y": [
          2.475587267725683
         ],
         "z": [
          0.15334422749506005
         ]
        },
        {
         "legendgroup": "Atom importance",
         "marker": {
          "color": "blue",
          "size": 6.5874999999999995,
          "symbol": "circle"
         },
         "mode": "markers",
         "opacity": 0.5492878973730417,
         "showlegend": false,
         "text": "atom H",
         "type": "scatter3d",
         "x": [
          1.2414652502047856
         ],
         "y": [
          1.653740706665476
         ],
         "z": [
          1.4238663244831864
         ]
        },
        {
         "legendgroup": "Atom importance",
         "marker": {
          "color": "blue",
          "size": 6.5874999999999995,
          "symbol": "circle"
         },
         "mode": "markers",
         "opacity": 0.5287915083869738,
         "showlegend": false,
         "text": "atom H",
         "type": "scatter3d",
         "x": [
          -0.6589239360778923
         ],
         "y": [
          1.7136837689262383
         ],
         "z": [
          1.1599173999691368
         ]
        },
        {
         "legendgroup": "Atom importance",
         "marker": {
          "color": "red",
          "size": 6.5874999999999995,
          "symbol": "circle"
         },
         "mode": "markers",
         "opacity": 0.4946267162312343,
         "showlegend": false,
         "text": "atom H",
         "type": "scatter3d",
         "x": [
          -3.0812470676470656
         ],
         "y": [
          1.734233445444787
         ],
         "z": [
          1.0676387140836023
         ]
        },
        {
         "legendgroup": "Atom importance",
         "marker": {
          "color": "red",
          "size": 6.5874999999999995,
          "symbol": "circle"
         },
         "mode": "markers",
         "opacity": 0.47117744725866095,
         "showlegend": false,
         "text": "atom H",
         "type": "scatter3d",
         "x": [
          -4.9257371380490085
         ],
         "y": [
          -1.1343982002244748
         ],
         "z": [
          -1.9762049797150885
         ]
        },
        {
         "legendgroup": "Atom importance",
         "marker": {
          "color": "red",
          "size": 6.5874999999999995,
          "symbol": "circle"
         },
         "mode": "markers",
         "opacity": 0.49388427545458785,
         "showlegend": false,
         "text": "atom H",
         "type": "scatter3d",
         "x": [
          -5.37444995437238
         ],
         "y": [
          -1.9473663089519009
         ],
         "z": [
          -0.38413081503547375
         ]
        },
        {
         "legendgroup": "Atom importance",
         "marker": {
          "color": "blue",
          "size": 6.5874999999999995,
          "symbol": "circle"
         },
         "mode": "markers",
         "opacity": 0.5005525322048434,
         "showlegend": false,
         "text": "atom H",
         "type": "scatter3d",
         "x": [
          -6.427062584371248
         ],
         "y": [
          -0.7143025331305239
         ],
         "z": [
          -1.1192050967650502
         ]
        },
        {
         "legendgroup": "Atom importance",
         "marker": {
          "color": "red",
          "size": 6.5874999999999995,
          "symbol": "circle"
         },
         "mode": "markers",
         "opacity": 0.4801196538873368,
         "showlegend": false,
         "text": "atom H",
         "type": "scatter3d",
         "x": [
          -6.296480753180355
         ],
         "y": [
          1.304023614407801
         ],
         "z": [
          -0.8564368489920071
         ]
        },
        {
         "legendgroup": "Atom importance",
         "marker": {
          "color": "red",
          "size": 6.5874999999999995,
          "symbol": "circle"
         },
         "mode": "markers",
         "opacity": 0.4973519241334343,
         "showlegend": false,
         "text": "atom H",
         "type": "scatter3d",
         "x": [
          -4.717726170617384
         ],
         "y": [
          1.6961015523356555
         ],
         "z": [
          -1.633281567380559
         ]
        },
        {
         "legendgroup": "Atom importance",
         "marker": {
          "color": "blue",
          "size": 6.5874999999999995,
          "symbol": "circle"
         },
         "mode": "markers",
         "opacity": 0.5,
         "showlegend": false,
         "text": "atom H",
         "type": "scatter3d",
         "x": [
          -5.079334535648077
         ],
         "y": [
          2.1945289894390543
         ],
         "z": [
          0.10856036854805327
         ]
        },
        {
         "legendgroup": "Atom importance",
         "marker": {
          "color": "red",
          "size": 6.5874999999999995,
          "symbol": "circle"
         },
         "mode": "markers",
         "opacity": 0.48488226692571523,
         "showlegend": false,
         "text": "atom H",
         "type": "scatter3d",
         "x": [
          -5.1262871988413075
         ],
         "y": [
          0.9104547403127184
         ],
         "z": [
          1.7855101970853948
         ]
        },
        {
         "legendgroup": "Atom importance",
         "marker": {
          "color": "blue",
          "size": 6.5874999999999995,
          "symbol": "circle"
         },
         "mode": "markers",
         "opacity": 0.5071230225844574,
         "showlegend": false,
         "text": "atom H",
         "type": "scatter3d",
         "x": [
          -4.560840731168126
         ],
         "y": [
          -0.8319774623775728
         ],
         "z": [
          1.8032622573806332
         ]
        },
        {
         "legendgroup": "Atom importance",
         "marker": {
          "color": "blue",
          "size": 6.5874999999999995,
          "symbol": "circle"
         },
         "mode": "markers",
         "opacity": 0.5187017098727392,
         "showlegend": false,
         "text": "atom H",
         "type": "scatter3d",
         "x": [
          -6.2131440978978905
         ],
         "y": [
          -0.41503534873507575
         ],
         "z": [
          1.29286880770081
         ]
        },
        {
         "legendgroup": "Atom importance",
         "marker": {
          "color": "blue",
          "size": 6.5874999999999995,
          "symbol": "circle"
         },
         "mode": "markers",
         "opacity": 0.5039597933535814,
         "showlegend": false,
         "text": "atom H",
         "type": "scatter3d",
         "x": [
          -2.9944924895046756
         ],
         "y": [
          -1.7206370874097625
         ],
         "z": [
          -1.3590566239273276
         ]
        },
        {
         "legendgroup": "Atom importance",
         "marker": {
          "color": "blue",
          "size": 6.5874999999999995,
          "symbol": "circle"
         },
         "mode": "markers",
         "opacity": 0.5335652291600751,
         "showlegend": false,
         "text": "atom H",
         "type": "scatter3d",
         "x": [
          -0.6279136675025533
         ],
         "y": [
          -1.7318935299921363
         ],
         "z": [
          -1.2892595651779628
         ]
        },
        {
         "hoverinfo": "none",
         "legendgroup": "Bonds",
         "line": {
          "color": "black",
          "width": 2
         },
         "mode": "lines",
         "showlegend": false,
         "type": "scatter3d",
         "x": [
          5.601263705829531,
          5.202406159180898
         ],
         "y": [
          0.31613445116843986,
          0.5361503694509056
         ],
         "z": [
          -0.9995214985468471,
          0.2721812024092838
         ]
        },
        {
         "hoverinfo": "none",
         "legendgroup": "Bonds",
         "line": {
          "color": "black",
          "width": 2
         },
         "mode": "lines",
         "showlegend": false,
         "type": "scatter3d",
         "x": [
          5.202406159180898,
          3.895529190189886
         ],
         "y": [
          0.5361503694509056,
          0.4404668964367587
         ],
         "z": [
          0.2721812024092838,
          0.6044567047669017
         ]
        },
        {
         "hoverinfo": "none",
         "legendgroup": "Bonds",
         "line": {
          "color": "black",
          "width": 2
         },
         "mode": "lines",
         "showlegend": false,
         "type": "scatter3d",
         "x": [
          3.895529190189886,
          3.8392808386029547
         ],
         "y": [
          0.4404668964367587,
          0.771000400501267
         ],
         "z": [
          0.6044567047669017,
          2.116724468721402
         ]
        },
        {
         "hoverinfo": "none",
         "legendgroup": "Bonds",
         "line": {
          "color": "black",
          "width": 2
         },
         "mode": "lines",
         "showlegend": false,
         "type": "scatter3d",
         "x": [
          3.895529190189886,
          3.2735806456897274
         ],
         "y": [
          0.4404668964367587,
          -0.9163733540345974
         ],
         "z": [
          0.6044567047669017,
          0.4930519658342686
         ]
        },
        {
         "hoverinfo": "none",
         "legendgroup": "Bonds",
         "line": {
          "color": "black",
          "width": 2
         },
         "mode": "lines",
         "showlegend": false,
         "type": "scatter3d",
         "x": [
          3.2735806456897274,
          2.047113645711845
         ],
         "y": [
          -0.9163733540345974,
          -0.908648768917193
         ],
         "z": [
          0.4930519658342686,
          -0.4602407189945858
         ]
        },
        {
         "hoverinfo": "none",
         "legendgroup": "Bonds",
         "line": {
          "color": "black",
          "width": 2
         },
         "mode": "lines",
         "showlegend": false,
         "type": "scatter3d",
         "x": [
          2.047113645711845,
          1.6413184507095209
         ],
         "y": [
          -0.908648768917193,
          -2.3066305420157436
         ],
         "z": [
          -0.4602407189945858,
          -0.729246802624404
         ]
        },
        {
         "hoverinfo": "none",
         "legendgroup": "Bonds",
         "line": {
          "color": "black",
          "width": 2
         },
         "mode": "lines",
         "showlegend": false,
         "type": "scatter3d",
         "x": [
          2.047113645711845,
          2.5978420363307504
         ],
         "y": [
          -0.908648768917193,
          -0.232785745108128
         ],
         "z": [
          -0.4602407189945858,
          -1.7092640328250972
         ]
        },
        {
         "hoverinfo": "none",
         "legendgroup": "Bonds",
         "line": {
          "color": "black",
          "width": 2
         },
         "mode": "lines",
         "showlegend": false,
         "type": "scatter3d",
         "x": [
          2.5978420363307504,
          2.7543841191948104
         ],
         "y": [
          -0.232785745108128,
          1.091994757810045
         ],
         "z": [
          -1.7092640328250972,
          -1.4900478182142374
         ]
        },
        {
         "hoverinfo": "none",
         "legendgroup": "Bonds",
         "line": {
          "color": "black",
          "width": 2
         },
         "mode": "lines",
         "showlegend": false,
         "type": "scatter3d",
         "x": [
          2.7543841191948104,
          2.9614580682445317
         ],
         "y": [
          1.091994757810045,
          1.435334804838669
         ],
         "z": [
          -1.4900478182142374,
          -0.054278963262156546
         ]
        },
        {
         "hoverinfo": "none",
         "legendgroup": "Bonds",
         "line": {
          "color": "black",
          "width": 2
         },
         "mode": "lines",
         "showlegend": false,
         "type": "scatter3d",
         "x": [
          2.9614580682445317,
          1.6282657754776664
         ],
         "y": [
          1.435334804838669,
          1.1126621121798423
         ],
         "z": [
          -0.054278963262156546,
          0.6128560391165019
         ]
        },
        {
         "hoverinfo": "none",
         "legendgroup": "Bonds",
         "line": {
          "color": "black",
          "width": 2
         },
         "mode": "lines",
         "showlegend": false,
         "type": "scatter3d",
         "x": [
          1.6282657754776664,
          1.0346681174327002
         ],
         "y": [
          1.1126621121798423,
          0.03952407313049552
         ],
         "z": [
          0.6128560391165019,
          0.0232836223241101
         ]
        },
        {
         "hoverinfo": "none",
         "legendgroup": "Bonds",
         "line": {
          "color": "black",
          "width": 2
         },
         "mode": "lines",
         "showlegend": false,
         "type": "scatter3d",
         "x": [
          1.0346681174327002,
          -0.3857166747342974
         ],
         "y": [
          0.03952407313049552,
          -0.02844395821264261
         ],
         "z": [
          0.0232836223241101,
          -0.05000482238521825
         ]
        },
        {
         "hoverinfo": "none",
         "legendgroup": "Bonds",
         "line": {
          "color": "black",
          "width": 2
         },
         "mode": "lines",
         "showlegend": false,
         "type": "scatter3d",
         "x": [
          -0.3857166747342974,
          -1.1564347701962971
         ],
         "y": [
          -0.02844395821264261,
          0.9511553586380149
         ],
         "z": [
          -0.05000482238521825,
          0.6039418469884635
         ]
        },
        {
         "hoverinfo": "none",
         "legendgroup": "Bonds",
         "line": {
          "color": "black",
          "width": 2
         },
         "mode": "lines",
         "showlegend": false,
         "type": "scatter3d",
         "x": [
          -1.1564347701962971,
          -2.532504823788183
         ],
         "y": [
          0.9511553586380149,
          0.9464235111743364
         ],
         "z": [
          0.6039418469884635,
          0.5383640665997377
         ]
        },
        {
         "hoverinfo": "none",
         "legendgroup": "Bonds",
         "line": {
          "color": "black",
          "width": 2
         },
         "mode": "lines",
         "showlegend": false,
         "type": "scatter3d",
         "x": [
          -2.532504823788183,
          -3.228133368586467
         ],
         "y": [
          0.9464235111743364,
          -0.009542887471011209
         ],
         "z": [
          0.5383640665997377,
          -0.1654667946544038
         ]
        },
        {
         "hoverinfo": "none",
         "legendgroup": "Bonds",
         "line": {
          "color": "black",
          "width": 2
         },
         "mode": "lines",
         "showlegend": false,
         "type": "scatter3d",
         "x": [
          -3.228133368586467,
          -4.705521816077048
         ],
         "y": [
          -0.009542887471011209,
          0.08165674212094347
         ],
         "z": [
          -0.1654667946544038,
          -0.1674508505243837
         ]
        },
        {
         "hoverinfo": "none",
         "legendgroup": "Bonds",
         "line": {
          "color": "black",
          "width": 2
         },
         "mode": "lines",
         "showlegend": false,
         "type": "scatter3d",
         "x": [
          -4.705521816077048,
          -5.355794625788844
         ],
         "y": [
          0.08165674212094347,
          -1.0100433839689666
         ],
         "z": [
          -0.1674508505243837,
          -0.9647829799363193
         ]
        },
        {
         "hoverinfo": "none",
         "legendgroup": "Bonds",
         "line": {
          "color": "black",
          "width": 2
         },
         "mode": "lines",
         "showlegend": false,
         "type": "scatter3d",
         "x": [
          -4.705521816077048,
          -5.202693126671225
         ],
         "y": [
          0.08165674212094347,
          1.4105708994097543
         ],
         "z": [
          -0.1674508505243837,
          -0.6688192205135682
         ]
        },
        {
         "hoverinfo": "none",
         "legendgroup": "Bonds",
         "line": {
          "color": "black",
          "width": 2
         },
         "mode": "lines",
         "showlegend": false,
         "type": "scatter3d",
         "x": [
          -4.705521816077048,
          -5.167350042769946
         ],
         "y": [
          0.08165674212094347,
          -0.0626676211463042
         ],
         "z": [
          -0.1674508505243837,
          1.2773175707174984
         ]
        },
        {
         "hoverinfo": "none",
         "legendgroup": "Bonds",
         "line": {
          "color": "black",
          "width": 2
         },
         "mode": "lines",
         "showlegend": false,
         "type": "scatter3d",
         "x": [
          -3.228133368586467,
          -2.511637612498159
         ],
         "y": [
          -0.009542887471011209,
          -0.9621428425051046
         ],
         "z": [
          -0.1654667946544038,
          -0.8036807874705606
         ]
        },
        {
         "hoverinfo": "none",
         "legendgroup": "Bonds",
         "line": {
          "color": "black",
          "width": 2
         },
         "mode": "lines",
         "showlegend": false,
         "type": "scatter3d",
         "x": [
          -2.511637612498159,
          -1.1086524121338908
         ],
         "y": [
          -0.9621428425051046,
          -0.9550742061682901
         ],
         "z": [
          -0.8036807874705606,
          -0.7357463832172834
         ]
        },
        {
         "hoverinfo": "none",
         "legendgroup": "Bonds",
         "line": {
          "color": "black",
          "width": 2
         },
         "mode": "lines",
         "showlegend": false,
         "type": "scatter3d",
         "x": [
          3.895529190189886,
          2.9614580682445317
         ],
         "y": [
          0.4404668964367587,
          1.435334804838669
         ],
         "z": [
          0.6044567047669017,
          -0.054278963262156546
         ]
        },
        {
         "hoverinfo": "none",
         "legendgroup": "Bonds",
         "line": {
          "color": "black",
          "width": 2
         },
         "mode": "lines",
         "showlegend": false,
         "type": "scatter3d",
         "x": [
          -0.3857166747342974,
          -1.1086524121338908
         ],
         "y": [
          -0.02844395821264261,
          -0.9550742061682901
         ],
         "z": [
          -0.05000482238521825,
          -0.7357463832172834
         ]
        },
        {
         "hoverinfo": "none",
         "legendgroup": "Bonds",
         "line": {
          "color": "black",
          "width": 2
         },
         "mode": "lines",
         "showlegend": false,
         "type": "scatter3d",
         "x": [
          2.047113645711845,
          1.0346681174327002
         ],
         "y": [
          -0.908648768917193,
          0.03952407313049552
         ],
         "z": [
          -0.4602407189945858,
          0.0232836223241101
         ]
        },
        {
         "hoverinfo": "none",
         "legendgroup": "Bonds",
         "line": {
          "color": "black",
          "width": 2
         },
         "mode": "lines",
         "showlegend": false,
         "type": "scatter3d",
         "x": [
          5.601263705829531,
          5.210819333706811
         ],
         "y": [
          0.31613445116843986,
          0.954044661709793
         ],
         "z": [
          -0.9995214985468471,
          -1.7864950905951507
         ]
        },
        {
         "hoverinfo": "none",
         "legendgroup": "Bonds",
         "line": {
          "color": "black",
          "width": 2
         },
         "mode": "lines",
         "showlegend": false,
         "type": "scatter3d",
         "x": [
          5.601263705829531,
          6.7235437023546725
         ],
         "y": [
          0.31613445116843986,
          0.45399810577373423
         ],
         "z": [
          -0.9995214985468471,
          -1.0213396507918342
         ]
        },
        {
         "hoverinfo": "none",
         "legendgroup": "Bonds",
         "line": {
          "color": "black",
          "width": 2
         },
         "mode": "lines",
         "showlegend": false,
         "type": "scatter3d",
         "x": [
          5.601263705829531,
          5.4760815495091295
         ],
         "y": [
          0.31613445116843986,
          -0.7816423298276697
         ],
         "z": [
          -0.9995214985468471,
          -1.230083224784013
         ]
        },
        {
         "hoverinfo": "none",
         "legendgroup": "Bonds",
         "line": {
          "color": "black",
          "width": 2
         },
         "mode": "lines",
         "showlegend": false,
         "type": "scatter3d",
         "x": [
          3.8392808386029547,
          2.814739332063883
         ],
         "y": [
          0.771000400501267,
          0.8769745216486098
         ],
         "z": [
          2.116724468721402,
          2.4645634355618276
         ]
        },
        {
         "hoverinfo": "none",
         "legendgroup": "Bonds",
         "line": {
          "color": "black",
          "width": 2
         },
         "mode": "lines",
         "showlegend": false,
         "type": "scatter3d",
         "x": [
          3.8392808386029547,
          4.39680983229203
         ],
         "y": [
          0.771000400501267,
          1.7074152878151518
         ],
         "z": [
          2.116724468721402,
          2.323698433954975
         ]
        },
        {
         "hoverinfo": "none",
         "legendgroup": "Bonds",
         "line": {
          "color": "black",
          "width": 2
         },
         "mode": "lines",
         "showlegend": false,
         "type": "scatter3d",
         "x": [
          3.8392808386029547,
          4.384049485010372
         ],
         "y": [
          0.771000400501267,
          -0.038095867636006336
         ],
         "z": [
          2.116724468721402,
          2.678874774627517
         ]
        },
        {
         "hoverinfo": "none",
         "legendgroup": "Bonds",
         "line": {
          "color": "black",
          "width": 2
         },
         "mode": "lines",
         "showlegend": false,
         "type": "scatter3d",
         "x": [
          3.2735806456897274,
          4.011054534871829
         ],
         "y": [
          -0.9163733540345974,
          -1.57357995778909
         ],
         "z": [
          0.4930519658342686,
          -0.05278043649875221
         ]
        },
        {
         "hoverinfo": "none",
         "legendgroup": "Bonds",
         "line": {
          "color": "black",
          "width": 2
         },
         "mode": "lines",
         "showlegend": false,
         "type": "scatter3d",
         "x": [
          3.2735806456897274,
          3.0054321481784876
         ],
         "y": [
          -0.9163733540345974,
          -1.3911961784230706
         ],
         "z": [
          0.4930519658342686,
          1.443053753155655
         ]
        },
        {
         "hoverinfo": "none",
         "legendgroup": "Bonds",
         "line": {
          "color": "black",
          "width": 2
         },
         "mode": "lines",
         "showlegend": false,
         "type": "scatter3d",
         "x": [
          1.6413184507095209,
          2.5989495650168326
         ],
         "y": [
          -2.3066305420157436,
          -2.9343747854786324
         ],
         "z": [
          -0.729246802624404,
          -0.5623313591805277
         ]
        },
        {
         "hoverinfo": "none",
         "legendgroup": "Bonds",
         "line": {
          "color": "black",
          "width": 2
         },
         "mode": "lines",
         "showlegend": false,
         "type": "scatter3d",
         "x": [
          1.6413184507095209,
          1.4282403559181776
         ],
         "y": [
          -2.3066305420157436,
          -2.542553264458313
         ],
         "z": [
          -0.729246802624404,
          -1.801599855735794
         ]
        },
        {
         "hoverinfo": "none",
         "legendgroup": "Bonds",
         "line": {
          "color": "black",
          "width": 2
         },
         "mode": "lines",
         "showlegend": false,
         "type": "scatter3d",
         "x": [
          1.6413184507095209,
          0.9464870828575369
         ],
         "y": [
          -2.3066305420157436,
          -2.7564977228529473
         ],
         "z": [
          -0.729246802624404,
          -0.010776014941090071
         ]
        },
        {
         "hoverinfo": "none",
         "legendgroup": "Bonds",
         "line": {
          "color": "black",
          "width": 2
         },
         "mode": "lines",
         "showlegend": false,
         "type": "scatter3d",
         "x": [
          2.5978420363307504,
          2.8200703133007163
         ],
         "y": [
          -0.232785745108128,
          -0.7397655235531555
         ],
         "z": [
          -1.7092640328250972,
          -2.6100603021155413
         ]
        },
        {
         "hoverinfo": "none",
         "legendgroup": "Bonds",
         "line": {
          "color": "black",
          "width": 2
         },
         "mode": "lines",
         "showlegend": false,
         "type": "scatter3d",
         "x": [
          2.7543841191948104,
          2.7353921628282953
         ],
         "y": [
          1.091994757810045,
          1.837808371324314
         ],
         "z": [
          -1.4900478182142374,
          -2.2594285472994136
         ]
        },
        {
         "hoverinfo": "none",
         "legendgroup": "Bonds",
         "line": {
          "color": "black",
          "width": 2
         },
         "mode": "lines",
         "showlegend": false,
         "type": "scatter3d",
         "x": [
          2.9614580682445317,
          3.1678341974142814
         ],
         "y": [
          1.435334804838669,
          2.475587267725683
         ],
         "z": [
          -0.054278963262156546,
          0.15334422749506005
         ]
        },
        {
         "hoverinfo": "none",
         "legendgroup": "Bonds",
         "line": {
          "color": "black",
          "width": 2
         },
         "mode": "lines",
         "showlegend": false,
         "type": "scatter3d",
         "x": [
          1.6282657754776664,
          1.2414652502047856
         ],
         "y": [
          1.1126621121798423,
          1.653740706665476
         ],
         "z": [
          0.6128560391165019,
          1.4238663244831864
         ]
        },
        {
         "hoverinfo": "none",
         "legendgroup": "Bonds",
         "line": {
          "color": "black",
          "width": 2
         },
         "mode": "lines",
         "showlegend": false,
         "type": "scatter3d",
         "x": [
          -1.1564347701962971,
          -0.6589239360778923
         ],
         "y": [
          0.9511553586380149,
          1.7136837689262383
         ],
         "z": [
          0.6039418469884635,
          1.1599173999691368
         ]
        },
        {
         "hoverinfo": "none",
         "legendgroup": "Bonds",
         "line": {
          "color": "black",
          "width": 2
         },
         "mode": "lines",
         "showlegend": false,
         "type": "scatter3d",
         "x": [
          -2.532504823788183,
          -3.0812470676470656
         ],
         "y": [
          0.9464235111743364,
          1.734233445444787
         ],
         "z": [
          0.5383640665997377,
          1.0676387140836023
         ]
        },
        {
         "hoverinfo": "none",
         "legendgroup": "Bonds",
         "line": {
          "color": "black",
          "width": 2
         },
         "mode": "lines",
         "showlegend": false,
         "type": "scatter3d",
         "x": [
          -5.355794625788844,
          -4.9257371380490085
         ],
         "y": [
          -1.0100433839689666,
          -1.1343982002244748
         ],
         "z": [
          -0.9647829799363193,
          -1.9762049797150885
         ]
        },
        {
         "hoverinfo": "none",
         "legendgroup": "Bonds",
         "line": {
          "color": "black",
          "width": 2
         },
         "mode": "lines",
         "showlegend": false,
         "type": "scatter3d",
         "x": [
          -5.355794625788844,
          -5.37444995437238
         ],
         "y": [
          -1.0100433839689666,
          -1.9473663089519009
         ],
         "z": [
          -0.9647829799363193,
          -0.38413081503547375
         ]
        },
        {
         "hoverinfo": "none",
         "legendgroup": "Bonds",
         "line": {
          "color": "black",
          "width": 2
         },
         "mode": "lines",
         "showlegend": false,
         "type": "scatter3d",
         "x": [
          -5.355794625788844,
          -6.427062584371248
         ],
         "y": [
          -1.0100433839689666,
          -0.7143025331305239
         ],
         "z": [
          -0.9647829799363193,
          -1.1192050967650502
         ]
        },
        {
         "hoverinfo": "none",
         "legendgroup": "Bonds",
         "line": {
          "color": "black",
          "width": 2
         },
         "mode": "lines",
         "showlegend": false,
         "type": "scatter3d",
         "x": [
          -5.202693126671225,
          -6.296480753180355
         ],
         "y": [
          1.4105708994097543,
          1.304023614407801
         ],
         "z": [
          -0.6688192205135682,
          -0.8564368489920071
         ]
        },
        {
         "hoverinfo": "none",
         "legendgroup": "Bonds",
         "line": {
          "color": "black",
          "width": 2
         },
         "mode": "lines",
         "showlegend": false,
         "type": "scatter3d",
         "x": [
          -5.202693126671225,
          -4.717726170617384
         ],
         "y": [
          1.4105708994097543,
          1.6961015523356555
         ],
         "z": [
          -0.6688192205135682,
          -1.633281567380559
         ]
        },
        {
         "hoverinfo": "none",
         "legendgroup": "Bonds",
         "line": {
          "color": "black",
          "width": 2
         },
         "mode": "lines",
         "showlegend": false,
         "type": "scatter3d",
         "x": [
          -5.202693126671225,
          -5.079334535648077
         ],
         "y": [
          1.4105708994097543,
          2.1945289894390543
         ],
         "z": [
          -0.6688192205135682,
          0.10856036854805327
         ]
        },
        {
         "hoverinfo": "none",
         "legendgroup": "Bonds",
         "line": {
          "color": "black",
          "width": 2
         },
         "mode": "lines",
         "showlegend": false,
         "type": "scatter3d",
         "x": [
          -5.167350042769946,
          -5.1262871988413075
         ],
         "y": [
          -0.0626676211463042,
          0.9104547403127184
         ],
         "z": [
          1.2773175707174984,
          1.7855101970853948
         ]
        },
        {
         "hoverinfo": "none",
         "legendgroup": "Bonds",
         "line": {
          "color": "black",
          "width": 2
         },
         "mode": "lines",
         "showlegend": false,
         "type": "scatter3d",
         "x": [
          -5.167350042769946,
          -4.560840731168126
         ],
         "y": [
          -0.0626676211463042,
          -0.8319774623775728
         ],
         "z": [
          1.2773175707174984,
          1.8032622573806332
         ]
        },
        {
         "hoverinfo": "none",
         "legendgroup": "Bonds",
         "line": {
          "color": "black",
          "width": 2
         },
         "mode": "lines",
         "showlegend": false,
         "type": "scatter3d",
         "x": [
          -5.167350042769946,
          -6.2131440978978905
         ],
         "y": [
          -0.0626676211463042,
          -0.41503534873507575
         ],
         "z": [
          1.2773175707174984,
          1.29286880770081
         ]
        },
        {
         "hoverinfo": "none",
         "legendgroup": "Bonds",
         "line": {
          "color": "black",
          "width": 2
         },
         "mode": "lines",
         "showlegend": false,
         "type": "scatter3d",
         "x": [
          -2.511637612498159,
          -2.9944924895046756
         ],
         "y": [
          -0.9621428425051046,
          -1.7206370874097625
         ],
         "z": [
          -0.8036807874705606,
          -1.3590566239273276
         ]
        },
        {
         "hoverinfo": "none",
         "legendgroup": "Bonds",
         "line": {
          "color": "black",
          "width": 2
         },
         "mode": "lines",
         "showlegend": false,
         "type": "scatter3d",
         "x": [
          -1.1086524121338908,
          -0.6279136675025533
         ],
         "y": [
          -0.9550742061682901,
          -1.7318935299921363
         ],
         "z": [
          -0.7357463832172834,
          -1.2892595651779628
         ]
        },
        {
         "hoverinfo": "none",
         "legendgroup": "Bond importance",
         "line": {
          "color": "blue",
          "width": 8.796183523283378
         },
         "mode": "lines",
         "opacity": 0.5864122348855586,
         "showlegend": false,
         "type": "scatter3d",
         "x": [
          5.601263705829531,
          5.202406159180898
         ],
         "y": [
          0.31613445116843986,
          0.5361503694509056
         ],
         "z": [
          -0.9995214985468471,
          0.2721812024092838
         ]
        },
        {
         "hoverinfo": "none",
         "legendgroup": "Bond importance",
         "line": {
          "color": "red",
          "width": 6.044735073286368
         },
         "mode": "lines",
         "opacity": 0.40298233821909124,
         "showlegend": false,
         "type": "scatter3d",
         "x": [
          5.202406159180898,
          3.895529190189886
         ],
         "y": [
          0.5361503694509056,
          0.4404668964367587
         ],
         "z": [
          0.2721812024092838,
          0.6044567047669017
         ]
        },
        {
         "hoverinfo": "none",
         "legendgroup": "Bond importance",
         "line": {
          "color": "blue",
          "width": 7.815520256202953
         },
         "mode": "lines",
         "opacity": 0.5210346837468636,
         "showlegend": false,
         "type": "scatter3d",
         "x": [
          3.895529190189886,
          3.8392808386029547
         ],
         "y": [
          0.4404668964367587,
          0.771000400501267
         ],
         "z": [
          0.6044567047669017,
          2.116724468721402
         ]
        },
        {
         "hoverinfo": "none",
         "legendgroup": "Bond importance",
         "line": {
          "color": "blue",
          "width": 9.198235703971404
         },
         "mode": "lines",
         "opacity": 0.6132157135980936,
         "showlegend": false,
         "type": "scatter3d",
         "x": [
          3.895529190189886,
          3.2735806456897274
         ],
         "y": [
          0.4404668964367587,
          -0.9163733540345974
         ],
         "z": [
          0.6044567047669017,
          0.4930519658342686
         ]
        },
        {
         "hoverinfo": "none",
         "legendgroup": "Bond importance",
         "line": {
          "color": "blue",
          "width": 15
         },
         "mode": "lines",
         "opacity": 1,
         "showlegend": false,
         "type": "scatter3d",
         "x": [
          3.2735806456897274,
          2.047113645711845
         ],
         "y": [
          -0.9163733540345974,
          -0.908648768917193
         ],
         "z": [
          0.4930519658342686,
          -0.4602407189945858
         ]
        },
        {
         "hoverinfo": "none",
         "legendgroup": "Bond importance",
         "line": {
          "color": "red",
          "width": 6.69777342316914
         },
         "mode": "lines",
         "opacity": 0.446518228211276,
         "showlegend": false,
         "type": "scatter3d",
         "x": [
          2.047113645711845,
          1.6413184507095209
         ],
         "y": [
          -0.908648768917193,
          -2.3066305420157436
         ],
         "z": [
          -0.4602407189945858,
          -0.729246802624404
         ]
        },
        {
         "hoverinfo": "none",
         "legendgroup": "Bond importance",
         "line": {
          "color": "blue",
          "width": 11.624456216469405
         },
         "mode": "lines",
         "opacity": 0.774963747764627,
         "showlegend": false,
         "type": "scatter3d",
         "x": [
          2.047113645711845,
          2.5978420363307504
         ],
         "y": [
          -0.908648768917193,
          -0.232785745108128
         ],
         "z": [
          -0.4602407189945858,
          -1.7092640328250972
         ]
        },
        {
         "hoverinfo": "none",
         "legendgroup": "Bond importance",
         "line": {
          "color": "blue",
          "width": 9.467517976847416
         },
         "mode": "lines",
         "opacity": 0.631167865123161,
         "showlegend": false,
         "type": "scatter3d",
         "x": [
          2.5978420363307504,
          2.7543841191948104
         ],
         "y": [
          -0.232785745108128,
          1.091994757810045
         ],
         "z": [
          -1.7092640328250972,
          -1.4900478182142374
         ]
        },
        {
         "hoverinfo": "none",
         "legendgroup": "Bond importance",
         "line": {
          "color": "blue",
          "width": 9.538818576843388
         },
         "mode": "lines",
         "opacity": 0.6359212384562258,
         "showlegend": false,
         "type": "scatter3d",
         "x": [
          2.7543841191948104,
          2.9614580682445317
         ],
         "y": [
          1.091994757810045,
          1.435334804838669
         ],
         "z": [
          -1.4900478182142374,
          -0.054278963262156546
         ]
        },
        {
         "hoverinfo": "none",
         "legendgroup": "Bond importance",
         "line": {
          "color": "red",
          "width": 7.157250692873387
         },
         "mode": "lines",
         "opacity": 0.47715004619155915,
         "showlegend": false,
         "type": "scatter3d",
         "x": [
          2.9614580682445317,
          1.6282657754776664
         ],
         "y": [
          1.435334804838669,
          1.1126621121798423
         ],
         "z": [
          -0.054278963262156546,
          0.6128560391165019
         ]
        },
        {
         "hoverinfo": "none",
         "legendgroup": "Bond importance",
         "line": {
          "color": "blue",
          "width": 7.720664149152103
         },
         "mode": "lines",
         "opacity": 0.5147109432768069,
         "showlegend": false,
         "type": "scatter3d",
         "x": [
          1.6282657754776664,
          1.0346681174327002
         ],
         "y": [
          1.1126621121798423,
          0.03952407313049552
         ],
         "z": [
          0.6128560391165019,
          0.0232836223241101
         ]
        },
        {
         "hoverinfo": "none",
         "legendgroup": "Bond importance",
         "line": {
          "color": "red",
          "width": 6.185000242073066
         },
         "mode": "lines",
         "opacity": 0.41233334947153777,
         "showlegend": false,
         "type": "scatter3d",
         "x": [
          1.0346681174327002,
          -0.3857166747342974
         ],
         "y": [
          0.03952407313049552,
          -0.02844395821264261
         ],
         "z": [
          0.0232836223241101,
          -0.05000482238521825
         ]
        },
        {
         "hoverinfo": "none",
         "legendgroup": "Bond importance",
         "line": {
          "color": "red",
          "width": 5.3645130644657915
         },
         "mode": "lines",
         "opacity": 0.3576342042977194,
         "showlegend": false,
         "type": "scatter3d",
         "x": [
          -0.3857166747342974,
          -1.1564347701962971
         ],
         "y": [
          -0.02844395821264261,
          0.9511553586380149
         ],
         "z": [
          -0.05000482238521825,
          0.6039418469884635
         ]
        },
        {
         "hoverinfo": "none",
         "legendgroup": "Bond importance",
         "line": {
          "color": "red",
          "width": 4.0695421654252915
         },
         "mode": "lines",
         "opacity": 0.27130281102835274,
         "showlegend": false,
         "type": "scatter3d",
         "x": [
          -1.1564347701962971,
          -2.532504823788183
         ],
         "y": [
          0.9511553586380149,
          0.9464235111743364
         ],
         "z": [
          0.6039418469884635,
          0.5383640665997377
         ]
        },
        {
         "hoverinfo": "none",
         "legendgroup": "Bond importance",
         "line": {
          "color": "red",
          "width": 4.442014606484229
         },
         "mode": "lines",
         "opacity": 0.2961343070989486,
         "showlegend": false,
         "type": "scatter3d",
         "x": [
          -2.532504823788183,
          -3.228133368586467
         ],
         "y": [
          0.9464235111743364,
          -0.009542887471011209
         ],
         "z": [
          0.5383640665997377,
          -0.1654667946544038
         ]
        },
        {
         "hoverinfo": "none",
         "legendgroup": "Bond importance",
         "line": {
          "color": "red",
          "width": 6.8438301235712995
         },
         "mode": "lines",
         "opacity": 0.45625534157141995,
         "showlegend": false,
         "type": "scatter3d",
         "x": [
          -3.228133368586467,
          -4.705521816077048
         ],
         "y": [
          -0.009542887471011209,
          0.08165674212094347
         ],
         "z": [
          -0.1654667946544038,
          -0.1674508505243837
         ]
        },
        {
         "hoverinfo": "none",
         "legendgroup": "Bond importance",
         "line": {
          "color": "blue",
          "width": 8.462042106520157
         },
         "mode": "lines",
         "opacity": 0.5641361404346771,
         "showlegend": false,
         "type": "scatter3d",
         "x": [
          -4.705521816077048,
          -5.355794625788844
         ],
         "y": [
          0.08165674212094347,
          -1.0100433839689666
         ],
         "z": [
          -0.1674508505243837,
          -0.9647829799363193
         ]
        },
        {
         "hoverinfo": "none",
         "legendgroup": "Bond importance",
         "line": {
          "color": "red",
          "width": 6.50458610924522
         },
         "mode": "lines",
         "opacity": 0.4336390739496813,
         "showlegend": false,
         "type": "scatter3d",
         "x": [
          -4.705521816077048,
          -5.202693126671225
         ],
         "y": [
          0.08165674212094347,
          1.4105708994097543
         ],
         "z": [
          -0.1674508505243837,
          -0.6688192205135682
         ]
        },
        {
         "hoverinfo": "none",
         "legendgroup": "Bond importance",
         "line": {
          "color": "blue",
          "width": 8.549912032602593
         },
         "mode": "lines",
         "opacity": 0.5699941355068395,
         "showlegend": false,
         "type": "scatter3d",
         "x": [
          -4.705521816077048,
          -5.167350042769946
         ],
         "y": [
          0.08165674212094347,
          -0.0626676211463042
         ],
         "z": [
          -0.1674508505243837,
          1.2773175707174984
         ]
        },
        {
         "hoverinfo": "none",
         "legendgroup": "Bond importance",
         "line": {
          "color": "red",
          "width": 4.754620685629225
         },
         "mode": "lines",
         "opacity": 0.31697471237528163,
         "showlegend": false,
         "type": "scatter3d",
         "x": [
          -3.228133368586467,
          -2.511637612498159
         ],
         "y": [
          -0.009542887471011209,
          -0.9621428425051046
         ],
         "z": [
          -0.1654667946544038,
          -0.8036807874705606
         ]
        },
        {
         "hoverinfo": "none",
         "legendgroup": "Bond importance",
         "line": {
          "color": "red",
          "width": 4.462222609674341
         },
         "mode": "lines",
         "opacity": 0.2974815073116227,
         "showlegend": false,
         "type": "scatter3d",
         "x": [
          -2.511637612498159,
          -1.1086524121338908
         ],
         "y": [
          -0.9621428425051046,
          -0.9550742061682901
         ],
         "z": [
          -0.8036807874705606,
          -0.7357463832172834
         ]
        },
        {
         "hoverinfo": "none",
         "legendgroup": "Bond importance",
         "line": {
          "color": "blue",
          "width": 11.121554625164054
         },
         "mode": "lines",
         "opacity": 0.7414369750109369,
         "showlegend": false,
         "type": "scatter3d",
         "x": [
          3.895529190189886,
          2.9614580682445317
         ],
         "y": [
          0.4404668964367587,
          1.435334804838669
         ],
         "z": [
          0.6044567047669017,
          -0.054278963262156546
         ]
        },
        {
         "hoverinfo": "none",
         "legendgroup": "Bond importance",
         "line": {
          "color": "red",
          "width": 6.234879589011041
         },
         "mode": "lines",
         "opacity": 0.41565863926740276,
         "showlegend": false,
         "type": "scatter3d",
         "x": [
          -0.3857166747342974,
          -1.1086524121338908
         ],
         "y": [
          -0.02844395821264261,
          -0.9550742061682901
         ],
         "z": [
          -0.05000482238521825,
          -0.7357463832172834
         ]
        },
        {
         "hoverinfo": "none",
         "legendgroup": "Bond importance",
         "line": {
          "color": "blue",
          "width": 8.936789694500748
         },
         "mode": "lines",
         "opacity": 0.5957859796333832,
         "showlegend": false,
         "type": "scatter3d",
         "x": [
          2.047113645711845,
          1.0346681174327002
         ],
         "y": [
          -0.908648768917193,
          0.03952407313049552
         ],
         "z": [
          -0.4602407189945858,
          0.0232836223241101
         ]
        },
        {
         "hoverinfo": "none",
         "legendgroup": "Bond importance",
         "line": {
          "color": "red",
          "width": 6.262416573614964
         },
         "mode": "lines",
         "opacity": 0.41749443824099763,
         "showlegend": false,
         "type": "scatter3d",
         "x": [
          5.601263705829531,
          5.210819333706811
         ],
         "y": [
          0.31613445116843986,
          0.954044661709793
         ],
         "z": [
          -0.9995214985468471,
          -1.7864950905951507
         ]
        },
        {
         "hoverinfo": "none",
         "legendgroup": "Bond importance",
         "line": {
          "color": "blue",
          "width": 11.40825717928407
         },
         "mode": "lines",
         "opacity": 0.760550478618938,
         "showlegend": false,
         "type": "scatter3d",
         "x": [
          5.601263705829531,
          6.7235437023546725
         ],
         "y": [
          0.31613445116843986,
          0.45399810577373423
         ],
         "z": [
          -0.9995214985468471,
          -1.0213396507918342
         ]
        },
        {
         "hoverinfo": "none",
         "legendgroup": "Bond importance",
         "line": {
          "color": "blue",
          "width": 8.481953595000732
         },
         "mode": "lines",
         "opacity": 0.5654635730000488,
         "showlegend": false,
         "type": "scatter3d",
         "x": [
          5.601263705829531,
          5.4760815495091295
         ],
         "y": [
          0.31613445116843986,
          -0.7816423298276697
         ],
         "z": [
          -0.9995214985468471,
          -1.230083224784013
         ]
        },
        {
         "hoverinfo": "none",
         "legendgroup": "Bond importance",
         "line": {
          "color": "red",
          "width": 6.322665586710092
         },
         "mode": "lines",
         "opacity": 0.4215110391140061,
         "showlegend": false,
         "type": "scatter3d",
         "x": [
          3.8392808386029547,
          2.814739332063883
         ],
         "y": [
          0.771000400501267,
          0.8769745216486098
         ],
         "z": [
          2.116724468721402,
          2.4645634355618276
         ]
        },
        {
         "hoverinfo": "none",
         "legendgroup": "Bond importance",
         "line": {
          "color": "blue",
          "width": 10.693096610915449
         },
         "mode": "lines",
         "opacity": 0.7128731073943633,
         "showlegend": false,
         "type": "scatter3d",
         "x": [
          3.8392808386029547,
          4.39680983229203
         ],
         "y": [
          0.771000400501267,
          1.7074152878151518
         ],
         "z": [
          2.116724468721402,
          2.323698433954975
         ]
        },
        {
         "hoverinfo": "none",
         "legendgroup": "Bond importance",
         "line": {
          "color": "blue",
          "width": 8.869345751978756
         },
         "mode": "lines",
         "opacity": 0.5912897167985837,
         "showlegend": false,
         "type": "scatter3d",
         "x": [
          3.8392808386029547,
          4.384049485010372
         ],
         "y": [
          0.771000400501267,
          -0.038095867636006336
         ],
         "z": [
          2.116724468721402,
          2.678874774627517
         ]
        },
        {
         "hoverinfo": "none",
         "legendgroup": "Bond importance",
         "line": {
          "color": "blue",
          "width": 9.59350064192876
         },
         "mode": "lines",
         "opacity": 0.6395667094619173,
         "showlegend": false,
         "type": "scatter3d",
         "x": [
          3.2735806456897274,
          4.011054534871829
         ],
         "y": [
          -0.9163733540345974,
          -1.57357995778909
         ],
         "z": [
          0.4930519658342686,
          -0.05278043649875221
         ]
        },
        {
         "hoverinfo": "none",
         "legendgroup": "Bond importance",
         "line": {
          "color": "blue",
          "width": 13.28729520360771
         },
         "mode": "lines",
         "opacity": 0.885819680240514,
         "showlegend": false,
         "type": "scatter3d",
         "x": [
          3.2735806456897274,
          3.0054321481784876
         ],
         "y": [
          -0.9163733540345974,
          -1.3911961784230706
         ],
         "z": [
          0.4930519658342686,
          1.443053753155655
         ]
        },
        {
         "hoverinfo": "none",
         "legendgroup": "Bond importance",
         "line": {
          "color": "blue",
          "width": 9.485756743836799
         },
         "mode": "lines",
         "opacity": 0.6323837829224532,
         "showlegend": false,
         "type": "scatter3d",
         "x": [
          1.6413184507095209,
          2.5989495650168326
         ],
         "y": [
          -2.3066305420157436,
          -2.9343747854786324
         ],
         "z": [
          -0.729246802624404,
          -0.5623313591805277
         ]
        },
        {
         "hoverinfo": "none",
         "legendgroup": "Bond importance",
         "line": {
          "color": "blue",
          "width": 12.100351616045018
         },
         "mode": "lines",
         "opacity": 0.8066901077363345,
         "showlegend": false,
         "type": "scatter3d",
         "x": [
          1.6413184507095209,
          1.4282403559181776
         ],
         "y": [
          -2.3066305420157436,
          -2.542553264458313
         ],
         "z": [
          -0.729246802624404,
          -1.801599855735794
         ]
        },
        {
         "hoverinfo": "none",
         "legendgroup": "Bond importance",
         "line": {
          "color": "blue",
          "width": 9.586451709194868
         },
         "mode": "lines",
         "opacity": 0.6390967806129912,
         "showlegend": false,
         "type": "scatter3d",
         "x": [
          1.6413184507095209,
          0.9464870828575369
         ],
         "y": [
          -2.3066305420157436,
          -2.7564977228529473
         ],
         "z": [
          -0.729246802624404,
          -0.010776014941090071
         ]
        },
        {
         "hoverinfo": "none",
         "legendgroup": "Bond importance",
         "line": {
          "color": "blue",
          "width": 11.128654049516214
         },
         "mode": "lines",
         "opacity": 0.7419102699677476,
         "showlegend": false,
         "type": "scatter3d",
         "x": [
          2.5978420363307504,
          2.8200703133007163
         ],
         "y": [
          -0.232785745108128,
          -0.7397655235531555
         ],
         "z": [
          -1.7092640328250972,
          -2.6100603021155413
         ]
        },
        {
         "hoverinfo": "none",
         "legendgroup": "Bond importance",
         "line": {
          "color": "blue",
          "width": 12.611496374106325
         },
         "mode": "lines",
         "opacity": 0.8407664249404216,
         "showlegend": false,
         "type": "scatter3d",
         "x": [
          2.7543841191948104,
          2.7353921628282953
         ],
         "y": [
          1.091994757810045,
          1.837808371324314
         ],
         "z": [
          -1.4900478182142374,
          -2.2594285472994136
         ]
        },
        {
         "hoverinfo": "none",
         "legendgroup": "Bond importance",
         "line": {
          "color": "blue",
          "width": 8.588523925725298
         },
         "mode": "lines",
         "opacity": 0.5725682617150198,
         "showlegend": false,
         "type": "scatter3d",
         "x": [
          2.9614580682445317,
          3.1678341974142814
         ],
         "y": [
          1.435334804838669,
          2.475587267725683
         ],
         "z": [
          -0.054278963262156546,
          0.15334422749506005
         ]
        },
        {
         "hoverinfo": "none",
         "legendgroup": "Bond importance",
         "line": {
          "color": "blue",
          "width": 10.538523009158373
         },
         "mode": "lines",
         "opacity": 0.7025682006105582,
         "showlegend": false,
         "type": "scatter3d",
         "x": [
          1.6282657754776664,
          1.2414652502047856
         ],
         "y": [
          1.1126621121798423,
          1.653740706665476
         ],
         "z": [
          0.6128560391165019,
          1.4238663244831864
         ]
        },
        {
         "hoverinfo": "none",
         "legendgroup": "Bond importance",
         "line": {
          "color": "blue",
          "width": 7.5
         },
         "mode": "lines",
         "opacity": 0.5,
         "showlegend": false,
         "type": "scatter3d",
         "x": [
          -1.1564347701962971,
          -0.6589239360778923
         ],
         "y": [
          0.9511553586380149,
          1.7136837689262383
         ],
         "z": [
          0.6039418469884635,
          1.1599173999691368
         ]
        },
        {
         "hoverinfo": "none",
         "legendgroup": "Bond importance",
         "line": {
          "color": "blue",
          "width": 10.845777565590387
         },
         "mode": "lines",
         "opacity": 0.7230518377060258,
         "showlegend": false,
         "type": "scatter3d",
         "x": [
          -2.532504823788183,
          -3.0812470676470656
         ],
         "y": [
          0.9464235111743364,
          1.734233445444787
         ],
         "z": [
          0.5383640665997377,
          1.0676387140836023
         ]
        },
        {
         "hoverinfo": "none",
         "legendgroup": "Bond importance",
         "line": {
          "color": "blue",
          "width": 9.833327501059568
         },
         "mode": "lines",
         "opacity": 0.6555551667373045,
         "showlegend": false,
         "type": "scatter3d",
         "x": [
          -5.355794625788844,
          -4.9257371380490085
         ],
         "y": [
          -1.0100433839689666,
          -1.1343982002244748
         ],
         "z": [
          -0.9647829799363193,
          -1.9762049797150885
         ]
        },
        {
         "hoverinfo": "none",
         "legendgroup": "Bond importance",
         "line": {
          "color": "blue",
          "width": 8.158048328657724
         },
         "mode": "lines",
         "opacity": 0.5438698885771815,
         "showlegend": false,
         "type": "scatter3d",
         "x": [
          -5.355794625788844,
          -5.37444995437238
         ],
         "y": [
          -1.0100433839689666,
          -1.9473663089519009
         ],
         "z": [
          -0.9647829799363193,
          -0.38413081503547375
         ]
        },
        {
         "hoverinfo": "none",
         "legendgroup": "Bond importance",
         "line": {
          "color": "blue",
          "width": 9.626960665576236
         },
         "mode": "lines",
         "opacity": 0.6417973777050824,
         "showlegend": false,
         "type": "scatter3d",
         "x": [
          -5.355794625788844,
          -6.427062584371248
         ],
         "y": [
          -1.0100433839689666,
          -0.7143025331305239
         ],
         "z": [
          -0.9647829799363193,
          -1.1192050967650502
         ]
        },
        {
         "hoverinfo": "none",
         "legendgroup": "Bond importance",
         "line": {
          "color": "blue",
          "width": 7.808065287581707
         },
         "mode": "lines",
         "opacity": 0.5205376858387805,
         "showlegend": false,
         "type": "scatter3d",
         "x": [
          -5.202693126671225,
          -6.296480753180355
         ],
         "y": [
          1.4105708994097543,
          1.304023614407801
         ],
         "z": [
          -0.6688192205135682,
          -0.8564368489920071
         ]
        },
        {
         "hoverinfo": "none",
         "legendgroup": "Bond importance",
         "line": {
          "color": "blue",
          "width": 9.903849045457708
         },
         "mode": "lines",
         "opacity": 0.6602566030305139,
         "showlegend": false,
         "type": "scatter3d",
         "x": [
          -5.202693126671225,
          -4.717726170617384
         ],
         "y": [
          1.4105708994097543,
          1.6961015523356555
         ],
         "z": [
          -0.6688192205135682,
          -1.633281567380559
         ]
        },
        {
         "hoverinfo": "none",
         "legendgroup": "Bond importance",
         "line": {
          "color": "red",
          "width": 7.481434304513943
         },
         "mode": "lines",
         "opacity": 0.4987622869675962,
         "showlegend": false,
         "type": "scatter3d",
         "x": [
          -5.202693126671225,
          -5.079334535648077
         ],
         "y": [
          1.4105708994097543,
          2.1945289894390543
         ],
         "z": [
          -0.6688192205135682,
          0.10856036854805327
         ]
        },
        {
         "hoverinfo": "none",
         "legendgroup": "Bond importance",
         "line": {
          "color": "blue",
          "width": 8.071422397443552
         },
         "mode": "lines",
         "opacity": 0.5380948264962367,
         "showlegend": false,
         "type": "scatter3d",
         "x": [
          -5.167350042769946,
          -5.1262871988413075
         ],
         "y": [
          -0.0626676211463042,
          0.9104547403127184
         ],
         "z": [
          1.2773175707174984,
          1.7855101970853948
         ]
        },
        {
         "hoverinfo": "none",
         "legendgroup": "Bond importance",
         "line": {
          "color": "blue",
          "width": 8.1432168731809
         },
         "mode": "lines",
         "opacity": 0.5428811248787268,
         "showlegend": false,
         "type": "scatter3d",
         "x": [
          -5.167350042769946,
          -4.560840731168126
         ],
         "y": [
          -0.0626676211463042,
          -0.8319774623775728
         ],
         "z": [
          1.2773175707174984,
          1.8032622573806332
         ]
        },
        {
         "hoverinfo": "none",
         "legendgroup": "Bond importance",
         "line": {
          "color": "blue",
          "width": 9.810977946666606
         },
         "mode": "lines",
         "opacity": 0.6540651964444404,
         "showlegend": false,
         "type": "scatter3d",
         "x": [
          -5.167350042769946,
          -6.2131440978978905
         ],
         "y": [
          -0.0626676211463042,
          -0.41503534873507575
         ],
         "z": [
          1.2773175707174984,
          1.29286880770081
         ]
        },
        {
         "hoverinfo": "none",
         "legendgroup": "Bond importance",
         "line": {
          "color": "blue",
          "width": 7.644624171597748
         },
         "mode": "lines",
         "opacity": 0.5096416114398499,
         "showlegend": false,
         "type": "scatter3d",
         "x": [
          -2.511637612498159,
          -2.9944924895046756
         ],
         "y": [
          -0.9621428425051046,
          -1.7206370874097625
         ],
         "z": [
          -0.8036807874705606,
          -1.3590566239273276
         ]
        },
        {
         "hoverinfo": "none",
         "legendgroup": "Bond importance",
         "line": {
          "color": "blue",
          "width": 9.226892462706768
         },
         "mode": "lines",
         "opacity": 0.6151261641804512,
         "showlegend": false,
         "type": "scatter3d",
         "x": [
          -1.1086524121338908,
          -0.6279136675025533
         ],
         "y": [
          -0.9550742061682901,
          -1.7318935299921363
         ],
         "z": [
          -0.7357463832172834,
          -1.2892595651779628
         ]
        },
        {
         "legendgroup": "Atoms",
         "mode": "markers",
         "name": "Atoms",
         "type": "scatter3d",
         "x": [
          null
         ],
         "y": [
          null
         ],
         "z": [
          null
         ]
        },
        {
         "legendgroup": "Atom importance",
         "mode": "markers",
         "name": "Atom importance",
         "type": "scatter3d",
         "x": [
          null
         ],
         "y": [
          null
         ],
         "z": [
          null
         ]
        },
        {
         "legendgroup": "Bonds",
         "mode": "markers",
         "name": "Bonds",
         "type": "scatter3d",
         "x": [
          null
         ],
         "y": [
          null
         ],
         "z": [
          null
         ]
        },
        {
         "legendgroup": "Bond importance",
         "mode": "markers",
         "name": "Bond importance",
         "showlegend": true,
         "type": "scatter3d",
         "x": [
          null
         ],
         "y": [
          null
         ],
         "z": [
          null
         ]
        }
       ],
       "layout": {
        "scene": {
         "xaxis": {
          "showgrid": false,
          "showticklabels": false,
          "title": {
           "text": ""
          },
          "zeroline": false
         },
         "yaxis": {
          "showgrid": false,
          "showticklabels": false,
          "title": {
           "text": ""
          },
          "zeroline": false
         },
         "zaxis": {
          "showgrid": false,
          "showticklabels": false,
          "title": {
           "text": ""
          },
          "zeroline": false
         }
        },
        "template": {
         "data": {
          "bar": [
           {
            "error_x": {
             "color": "#2a3f5f"
            },
            "error_y": {
             "color": "#2a3f5f"
            },
            "marker": {
             "line": {
              "color": "white",
              "width": 0.5
             },
             "pattern": {
              "fillmode": "overlay",
              "size": 10,
              "solidity": 0.2
             }
            },
            "type": "bar"
           }
          ],
          "barpolar": [
           {
            "marker": {
             "line": {
              "color": "white",
              "width": 0.5
             },
             "pattern": {
              "fillmode": "overlay",
              "size": 10,
              "solidity": 0.2
             }
            },
            "type": "barpolar"
           }
          ],
          "carpet": [
           {
            "aaxis": {
             "endlinecolor": "#2a3f5f",
             "gridcolor": "#C8D4E3",
             "linecolor": "#C8D4E3",
             "minorgridcolor": "#C8D4E3",
             "startlinecolor": "#2a3f5f"
            },
            "baxis": {
             "endlinecolor": "#2a3f5f",
             "gridcolor": "#C8D4E3",
             "linecolor": "#C8D4E3",
             "minorgridcolor": "#C8D4E3",
             "startlinecolor": "#2a3f5f"
            },
            "type": "carpet"
           }
          ],
          "choropleth": [
           {
            "colorbar": {
             "outlinewidth": 0,
             "ticks": ""
            },
            "type": "choropleth"
           }
          ],
          "contour": [
           {
            "colorbar": {
             "outlinewidth": 0,
             "ticks": ""
            },
            "colorscale": [
             [
              0,
              "#0d0887"
             ],
             [
              0.1111111111111111,
              "#46039f"
             ],
             [
              0.2222222222222222,
              "#7201a8"
             ],
             [
              0.3333333333333333,
              "#9c179e"
             ],
             [
              0.4444444444444444,
              "#bd3786"
             ],
             [
              0.5555555555555556,
              "#d8576b"
             ],
             [
              0.6666666666666666,
              "#ed7953"
             ],
             [
              0.7777777777777778,
              "#fb9f3a"
             ],
             [
              0.8888888888888888,
              "#fdca26"
             ],
             [
              1,
              "#f0f921"
             ]
            ],
            "type": "contour"
           }
          ],
          "contourcarpet": [
           {
            "colorbar": {
             "outlinewidth": 0,
             "ticks": ""
            },
            "type": "contourcarpet"
           }
          ],
          "heatmap": [
           {
            "colorbar": {
             "outlinewidth": 0,
             "ticks": ""
            },
            "colorscale": [
             [
              0,
              "#0d0887"
             ],
             [
              0.1111111111111111,
              "#46039f"
             ],
             [
              0.2222222222222222,
              "#7201a8"
             ],
             [
              0.3333333333333333,
              "#9c179e"
             ],
             [
              0.4444444444444444,
              "#bd3786"
             ],
             [
              0.5555555555555556,
              "#d8576b"
             ],
             [
              0.6666666666666666,
              "#ed7953"
             ],
             [
              0.7777777777777778,
              "#fb9f3a"
             ],
             [
              0.8888888888888888,
              "#fdca26"
             ],
             [
              1,
              "#f0f921"
             ]
            ],
            "type": "heatmap"
           }
          ],
          "heatmapgl": [
           {
            "colorbar": {
             "outlinewidth": 0,
             "ticks": ""
            },
            "colorscale": [
             [
              0,
              "#0d0887"
             ],
             [
              0.1111111111111111,
              "#46039f"
             ],
             [
              0.2222222222222222,
              "#7201a8"
             ],
             [
              0.3333333333333333,
              "#9c179e"
             ],
             [
              0.4444444444444444,
              "#bd3786"
             ],
             [
              0.5555555555555556,
              "#d8576b"
             ],
             [
              0.6666666666666666,
              "#ed7953"
             ],
             [
              0.7777777777777778,
              "#fb9f3a"
             ],
             [
              0.8888888888888888,
              "#fdca26"
             ],
             [
              1,
              "#f0f921"
             ]
            ],
            "type": "heatmapgl"
           }
          ],
          "histogram": [
           {
            "marker": {
             "pattern": {
              "fillmode": "overlay",
              "size": 10,
              "solidity": 0.2
             }
            },
            "type": "histogram"
           }
          ],
          "histogram2d": [
           {
            "colorbar": {
             "outlinewidth": 0,
             "ticks": ""
            },
            "colorscale": [
             [
              0,
              "#0d0887"
             ],
             [
              0.1111111111111111,
              "#46039f"
             ],
             [
              0.2222222222222222,
              "#7201a8"
             ],
             [
              0.3333333333333333,
              "#9c179e"
             ],
             [
              0.4444444444444444,
              "#bd3786"
             ],
             [
              0.5555555555555556,
              "#d8576b"
             ],
             [
              0.6666666666666666,
              "#ed7953"
             ],
             [
              0.7777777777777778,
              "#fb9f3a"
             ],
             [
              0.8888888888888888,
              "#fdca26"
             ],
             [
              1,
              "#f0f921"
             ]
            ],
            "type": "histogram2d"
           }
          ],
          "histogram2dcontour": [
           {
            "colorbar": {
             "outlinewidth": 0,
             "ticks": ""
            },
            "colorscale": [
             [
              0,
              "#0d0887"
             ],
             [
              0.1111111111111111,
              "#46039f"
             ],
             [
              0.2222222222222222,
              "#7201a8"
             ],
             [
              0.3333333333333333,
              "#9c179e"
             ],
             [
              0.4444444444444444,
              "#bd3786"
             ],
             [
              0.5555555555555556,
              "#d8576b"
             ],
             [
              0.6666666666666666,
              "#ed7953"
             ],
             [
              0.7777777777777778,
              "#fb9f3a"
             ],
             [
              0.8888888888888888,
              "#fdca26"
             ],
             [
              1,
              "#f0f921"
             ]
            ],
            "type": "histogram2dcontour"
           }
          ],
          "mesh3d": [
           {
            "colorbar": {
             "outlinewidth": 0,
             "ticks": ""
            },
            "type": "mesh3d"
           }
          ],
          "parcoords": [
           {
            "line": {
             "colorbar": {
              "outlinewidth": 0,
              "ticks": ""
             }
            },
            "type": "parcoords"
           }
          ],
          "pie": [
           {
            "automargin": true,
            "type": "pie"
           }
          ],
          "scatter": [
           {
            "fillpattern": {
             "fillmode": "overlay",
             "size": 10,
             "solidity": 0.2
            },
            "type": "scatter"
           }
          ],
          "scatter3d": [
           {
            "line": {
             "colorbar": {
              "outlinewidth": 0,
              "ticks": ""
             }
            },
            "marker": {
             "colorbar": {
              "outlinewidth": 0,
              "ticks": ""
             }
            },
            "type": "scatter3d"
           }
          ],
          "scattercarpet": [
           {
            "marker": {
             "colorbar": {
              "outlinewidth": 0,
              "ticks": ""
             }
            },
            "type": "scattercarpet"
           }
          ],
          "scattergeo": [
           {
            "marker": {
             "colorbar": {
              "outlinewidth": 0,
              "ticks": ""
             }
            },
            "type": "scattergeo"
           }
          ],
          "scattergl": [
           {
            "marker": {
             "colorbar": {
              "outlinewidth": 0,
              "ticks": ""
             }
            },
            "type": "scattergl"
           }
          ],
          "scattermapbox": [
           {
            "marker": {
             "colorbar": {
              "outlinewidth": 0,
              "ticks": ""
             }
            },
            "type": "scattermapbox"
           }
          ],
          "scatterpolar": [
           {
            "marker": {
             "colorbar": {
              "outlinewidth": 0,
              "ticks": ""
             }
            },
            "type": "scatterpolar"
           }
          ],
          "scatterpolargl": [
           {
            "marker": {
             "colorbar": {
              "outlinewidth": 0,
              "ticks": ""
             }
            },
            "type": "scatterpolargl"
           }
          ],
          "scatterternary": [
           {
            "marker": {
             "colorbar": {
              "outlinewidth": 0,
              "ticks": ""
             }
            },
            "type": "scatterternary"
           }
          ],
          "surface": [
           {
            "colorbar": {
             "outlinewidth": 0,
             "ticks": ""
            },
            "colorscale": [
             [
              0,
              "#0d0887"
             ],
             [
              0.1111111111111111,
              "#46039f"
             ],
             [
              0.2222222222222222,
              "#7201a8"
             ],
             [
              0.3333333333333333,
              "#9c179e"
             ],
             [
              0.4444444444444444,
              "#bd3786"
             ],
             [
              0.5555555555555556,
              "#d8576b"
             ],
             [
              0.6666666666666666,
              "#ed7953"
             ],
             [
              0.7777777777777778,
              "#fb9f3a"
             ],
             [
              0.8888888888888888,
              "#fdca26"
             ],
             [
              1,
              "#f0f921"
             ]
            ],
            "type": "surface"
           }
          ],
          "table": [
           {
            "cells": {
             "fill": {
              "color": "#EBF0F8"
             },
             "line": {
              "color": "white"
             }
            },
            "header": {
             "fill": {
              "color": "#C8D4E3"
             },
             "line": {
              "color": "white"
             }
            },
            "type": "table"
           }
          ]
         },
         "layout": {
          "annotationdefaults": {
           "arrowcolor": "#2a3f5f",
           "arrowhead": 0,
           "arrowwidth": 1
          },
          "autotypenumbers": "strict",
          "coloraxis": {
           "colorbar": {
            "outlinewidth": 0,
            "ticks": ""
           }
          },
          "colorscale": {
           "diverging": [
            [
             0,
             "#8e0152"
            ],
            [
             0.1,
             "#c51b7d"
            ],
            [
             0.2,
             "#de77ae"
            ],
            [
             0.3,
             "#f1b6da"
            ],
            [
             0.4,
             "#fde0ef"
            ],
            [
             0.5,
             "#f7f7f7"
            ],
            [
             0.6,
             "#e6f5d0"
            ],
            [
             0.7,
             "#b8e186"
            ],
            [
             0.8,
             "#7fbc41"
            ],
            [
             0.9,
             "#4d9221"
            ],
            [
             1,
             "#276419"
            ]
           ],
           "sequential": [
            [
             0,
             "#0d0887"
            ],
            [
             0.1111111111111111,
             "#46039f"
            ],
            [
             0.2222222222222222,
             "#7201a8"
            ],
            [
             0.3333333333333333,
             "#9c179e"
            ],
            [
             0.4444444444444444,
             "#bd3786"
            ],
            [
             0.5555555555555556,
             "#d8576b"
            ],
            [
             0.6666666666666666,
             "#ed7953"
            ],
            [
             0.7777777777777778,
             "#fb9f3a"
            ],
            [
             0.8888888888888888,
             "#fdca26"
            ],
            [
             1,
             "#f0f921"
            ]
           ],
           "sequentialminus": [
            [
             0,
             "#0d0887"
            ],
            [
             0.1111111111111111,
             "#46039f"
            ],
            [
             0.2222222222222222,
             "#7201a8"
            ],
            [
             0.3333333333333333,
             "#9c179e"
            ],
            [
             0.4444444444444444,
             "#bd3786"
            ],
            [
             0.5555555555555556,
             "#d8576b"
            ],
            [
             0.6666666666666666,
             "#ed7953"
            ],
            [
             0.7777777777777778,
             "#fb9f3a"
            ],
            [
             0.8888888888888888,
             "#fdca26"
            ],
            [
             1,
             "#f0f921"
            ]
           ]
          },
          "colorway": [
           "#636efa",
           "#EF553B",
           "#00cc96",
           "#ab63fa",
           "#FFA15A",
           "#19d3f3",
           "#FF6692",
           "#B6E880",
           "#FF97FF",
           "#FECB52"
          ],
          "font": {
           "color": "#2a3f5f"
          },
          "geo": {
           "bgcolor": "white",
           "lakecolor": "white",
           "landcolor": "white",
           "showlakes": true,
           "showland": true,
           "subunitcolor": "#C8D4E3"
          },
          "hoverlabel": {
           "align": "left"
          },
          "hovermode": "closest",
          "mapbox": {
           "style": "light"
          },
          "paper_bgcolor": "white",
          "plot_bgcolor": "white",
          "polar": {
           "angularaxis": {
            "gridcolor": "#EBF0F8",
            "linecolor": "#EBF0F8",
            "ticks": ""
           },
           "bgcolor": "white",
           "radialaxis": {
            "gridcolor": "#EBF0F8",
            "linecolor": "#EBF0F8",
            "ticks": ""
           }
          },
          "scene": {
           "xaxis": {
            "backgroundcolor": "white",
            "gridcolor": "#DFE8F3",
            "gridwidth": 2,
            "linecolor": "#EBF0F8",
            "showbackground": true,
            "ticks": "",
            "zerolinecolor": "#EBF0F8"
           },
           "yaxis": {
            "backgroundcolor": "white",
            "gridcolor": "#DFE8F3",
            "gridwidth": 2,
            "linecolor": "#EBF0F8",
            "showbackground": true,
            "ticks": "",
            "zerolinecolor": "#EBF0F8"
           },
           "zaxis": {
            "backgroundcolor": "white",
            "gridcolor": "#DFE8F3",
            "gridwidth": 2,
            "linecolor": "#EBF0F8",
            "showbackground": true,
            "ticks": "",
            "zerolinecolor": "#EBF0F8"
           }
          },
          "shapedefaults": {
           "line": {
            "color": "#2a3f5f"
           }
          },
          "ternary": {
           "aaxis": {
            "gridcolor": "#DFE8F3",
            "linecolor": "#A2B1C6",
            "ticks": ""
           },
           "baxis": {
            "gridcolor": "#DFE8F3",
            "linecolor": "#A2B1C6",
            "ticks": ""
           },
           "bgcolor": "white",
           "caxis": {
            "gridcolor": "#DFE8F3",
            "linecolor": "#A2B1C6",
            "ticks": ""
           }
          },
          "title": {
           "x": 0.05
          },
          "xaxis": {
           "automargin": true,
           "gridcolor": "#EBF0F8",
           "linecolor": "#EBF0F8",
           "ticks": "",
           "title": {
            "standoff": 15
           },
           "zerolinecolor": "#EBF0F8",
           "zerolinewidth": 2
          },
          "yaxis": {
           "automargin": true,
           "gridcolor": "#EBF0F8",
           "linecolor": "#EBF0F8",
           "ticks": "",
           "title": {
            "standoff": 15
           },
           "zerolinecolor": "#EBF0F8",
           "zerolinewidth": 2
          }
         }
        }
       }
      },
      "text/html": [
       "<div>                            <div id=\"ac0d4708-0ee1-4e6e-b114-8b6576241e19\" class=\"plotly-graph-div\" style=\"height:525px; width:100%;\"></div>            <script type=\"text/javascript\">                require([\"plotly\"], function(Plotly) {                    window.PLOTLYENV=window.PLOTLYENV || {};                                    if (document.getElementById(\"ac0d4708-0ee1-4e6e-b114-8b6576241e19\")) {                    Plotly.newPlot(                        \"ac0d4708-0ee1-4e6e-b114-8b6576241e19\",                        [{\"legendgroup\":\"Atoms\",\"marker\":{\"color\":\"black\",\"size\":8.625,\"symbol\":\"circle\"},\"mode\":\"markers\",\"showlegend\":false,\"text\":\"atom C\",\"x\":[5.601263705829531],\"y\":[0.31613445116843986],\"z\":[-0.9995214985468471],\"type\":\"scatter3d\"},{\"legendgroup\":\"Atoms\",\"marker\":{\"color\":\"red\",\"size\":8.25,\"symbol\":\"circle\"},\"mode\":\"markers\",\"showlegend\":false,\"text\":\"atom O\",\"x\":[5.202406159180898],\"y\":[0.5361503694509056],\"z\":[0.2721812024092838],\"type\":\"scatter3d\"},{\"legendgroup\":\"Atoms\",\"marker\":{\"color\":\"black\",\"size\":8.625,\"symbol\":\"circle\"},\"mode\":\"markers\",\"showlegend\":false,\"text\":\"atom C\",\"x\":[3.895529190189886],\"y\":[0.4404668964367587],\"z\":[0.6044567047669017],\"type\":\"scatter3d\"},{\"legendgroup\":\"Atoms\",\"marker\":{\"color\":\"black\",\"size\":8.625,\"symbol\":\"circle\"},\"mode\":\"markers\",\"showlegend\":false,\"text\":\"atom C\",\"x\":[3.8392808386029547],\"y\":[0.771000400501267],\"z\":[2.116724468721402],\"type\":\"scatter3d\"},{\"legendgroup\":\"Atoms\",\"marker\":{\"color\":\"black\",\"size\":8.625,\"symbol\":\"circle\"},\"mode\":\"markers\",\"showlegend\":false,\"text\":\"atom C\",\"x\":[3.2735806456897274],\"y\":[-0.9163733540345974],\"z\":[0.4930519658342686],\"type\":\"scatter3d\"},{\"legendgroup\":\"Atoms\",\"marker\":{\"color\":\"black\",\"size\":8.625,\"symbol\":\"circle\"},\"mode\":\"markers\",\"showlegend\":false,\"text\":\"atom C\",\"x\":[2.047113645711845],\"y\":[-0.908648768917193],\"z\":[-0.4602407189945858],\"type\":\"scatter3d\"},{\"legendgroup\":\"Atoms\",\"marker\":{\"color\":\"black\",\"size\":8.625,\"symbol\":\"circle\"},\"mode\":\"markers\",\"showlegend\":false,\"text\":\"atom C\",\"x\":[1.6413184507095209],\"y\":[-2.3066305420157436],\"z\":[-0.729246802624404],\"type\":\"scatter3d\"},{\"legendgroup\":\"Atoms\",\"marker\":{\"color\":\"black\",\"size\":8.625,\"symbol\":\"circle\"},\"mode\":\"markers\",\"showlegend\":false,\"text\":\"atom C\",\"x\":[2.5978420363307504],\"y\":[-0.232785745108128],\"z\":[-1.7092640328250972],\"type\":\"scatter3d\"},{\"legendgroup\":\"Atoms\",\"marker\":{\"color\":\"black\",\"size\":8.625,\"symbol\":\"circle\"},\"mode\":\"markers\",\"showlegend\":false,\"text\":\"atom C\",\"x\":[2.7543841191948104],\"y\":[1.091994757810045],\"z\":[-1.4900478182142374],\"type\":\"scatter3d\"},{\"legendgroup\":\"Atoms\",\"marker\":{\"color\":\"black\",\"size\":8.625,\"symbol\":\"circle\"},\"mode\":\"markers\",\"showlegend\":false,\"text\":\"atom C\",\"x\":[2.9614580682445317],\"y\":[1.435334804838669],\"z\":[-0.054278963262156546],\"type\":\"scatter3d\"},{\"legendgroup\":\"Atoms\",\"marker\":{\"color\":\"black\",\"size\":8.625,\"symbol\":\"circle\"},\"mode\":\"markers\",\"showlegend\":false,\"text\":\"atom C\",\"x\":[1.6282657754776664],\"y\":[1.1126621121798423],\"z\":[0.6128560391165019],\"type\":\"scatter3d\"},{\"legendgroup\":\"Atoms\",\"marker\":{\"color\":\"black\",\"size\":8.625,\"symbol\":\"circle\"},\"mode\":\"markers\",\"showlegend\":false,\"text\":\"atom C\",\"x\":[1.0346681174327002],\"y\":[0.03952407313049552],\"z\":[0.0232836223241101],\"type\":\"scatter3d\"},{\"legendgroup\":\"Atoms\",\"marker\":{\"color\":\"black\",\"size\":8.625,\"symbol\":\"circle\"},\"mode\":\"markers\",\"showlegend\":false,\"text\":\"atom C\",\"x\":[-0.3857166747342974],\"y\":[-0.02844395821264261],\"z\":[-0.05000482238521825],\"type\":\"scatter3d\"},{\"legendgroup\":\"Atoms\",\"marker\":{\"color\":\"black\",\"size\":8.625,\"symbol\":\"circle\"},\"mode\":\"markers\",\"showlegend\":false,\"text\":\"atom C\",\"x\":[-1.1564347701962971],\"y\":[0.9511553586380149],\"z\":[0.6039418469884635],\"type\":\"scatter3d\"},{\"legendgroup\":\"Atoms\",\"marker\":{\"color\":\"black\",\"size\":8.625,\"symbol\":\"circle\"},\"mode\":\"markers\",\"showlegend\":false,\"text\":\"atom C\",\"x\":[-2.532504823788183],\"y\":[0.9464235111743364],\"z\":[0.5383640665997377],\"type\":\"scatter3d\"},{\"legendgroup\":\"Atoms\",\"marker\":{\"color\":\"black\",\"size\":8.625,\"symbol\":\"circle\"},\"mode\":\"markers\",\"showlegend\":false,\"text\":\"atom C\",\"x\":[-3.228133368586467],\"y\":[-0.009542887471011209],\"z\":[-0.1654667946544038],\"type\":\"scatter3d\"},{\"legendgroup\":\"Atoms\",\"marker\":{\"color\":\"black\",\"size\":8.625,\"symbol\":\"circle\"},\"mode\":\"markers\",\"showlegend\":false,\"text\":\"atom C\",\"x\":[-4.705521816077048],\"y\":[0.08165674212094347],\"z\":[-0.1674508505243837],\"type\":\"scatter3d\"},{\"legendgroup\":\"Atoms\",\"marker\":{\"color\":\"black\",\"size\":8.625,\"symbol\":\"circle\"},\"mode\":\"markers\",\"showlegend\":false,\"text\":\"atom C\",\"x\":[-5.355794625788844],\"y\":[-1.0100433839689666],\"z\":[-0.9647829799363193],\"type\":\"scatter3d\"},{\"legendgroup\":\"Atoms\",\"marker\":{\"color\":\"black\",\"size\":8.625,\"symbol\":\"circle\"},\"mode\":\"markers\",\"showlegend\":false,\"text\":\"atom C\",\"x\":[-5.202693126671225],\"y\":[1.4105708994097543],\"z\":[-0.6688192205135682],\"type\":\"scatter3d\"},{\"legendgroup\":\"Atoms\",\"marker\":{\"color\":\"black\",\"size\":8.625,\"symbol\":\"circle\"},\"mode\":\"markers\",\"showlegend\":false,\"text\":\"atom C\",\"x\":[-5.167350042769946],\"y\":[-0.0626676211463042],\"z\":[1.2773175707174984],\"type\":\"scatter3d\"},{\"legendgroup\":\"Atoms\",\"marker\":{\"color\":\"black\",\"size\":8.625,\"symbol\":\"circle\"},\"mode\":\"markers\",\"showlegend\":false,\"text\":\"atom C\",\"x\":[-2.511637612498159],\"y\":[-0.9621428425051046],\"z\":[-0.8036807874705606],\"type\":\"scatter3d\"},{\"legendgroup\":\"Atoms\",\"marker\":{\"color\":\"black\",\"size\":8.625,\"symbol\":\"circle\"},\"mode\":\"markers\",\"showlegend\":false,\"text\":\"atom C\",\"x\":[-1.1086524121338908],\"y\":[-0.9550742061682901],\"z\":[-0.7357463832172834],\"type\":\"scatter3d\"},{\"legendgroup\":\"Atoms\",\"marker\":{\"color\":\"lightgray\",\"size\":3.875,\"symbol\":\"circle\"},\"mode\":\"markers\",\"showlegend\":false,\"text\":\"atom H\",\"x\":[5.210819333706811],\"y\":[0.954044661709793],\"z\":[-1.7864950905951507],\"type\":\"scatter3d\"},{\"legendgroup\":\"Atoms\",\"marker\":{\"color\":\"lightgray\",\"size\":3.875,\"symbol\":\"circle\"},\"mode\":\"markers\",\"showlegend\":false,\"text\":\"atom H\",\"x\":[6.7235437023546725],\"y\":[0.45399810577373423],\"z\":[-1.0213396507918342],\"type\":\"scatter3d\"},{\"legendgroup\":\"Atoms\",\"marker\":{\"color\":\"lightgray\",\"size\":3.875,\"symbol\":\"circle\"},\"mode\":\"markers\",\"showlegend\":false,\"text\":\"atom H\",\"x\":[5.4760815495091295],\"y\":[-0.7816423298276697],\"z\":[-1.230083224784013],\"type\":\"scatter3d\"},{\"legendgroup\":\"Atoms\",\"marker\":{\"color\":\"lightgray\",\"size\":3.875,\"symbol\":\"circle\"},\"mode\":\"markers\",\"showlegend\":false,\"text\":\"atom H\",\"x\":[2.814739332063883],\"y\":[0.8769745216486098],\"z\":[2.4645634355618276],\"type\":\"scatter3d\"},{\"legendgroup\":\"Atoms\",\"marker\":{\"color\":\"lightgray\",\"size\":3.875,\"symbol\":\"circle\"},\"mode\":\"markers\",\"showlegend\":false,\"text\":\"atom H\",\"x\":[4.39680983229203],\"y\":[1.7074152878151518],\"z\":[2.323698433954975],\"type\":\"scatter3d\"},{\"legendgroup\":\"Atoms\",\"marker\":{\"color\":\"lightgray\",\"size\":3.875,\"symbol\":\"circle\"},\"mode\":\"markers\",\"showlegend\":false,\"text\":\"atom H\",\"x\":[4.384049485010372],\"y\":[-0.038095867636006336],\"z\":[2.678874774627517],\"type\":\"scatter3d\"},{\"legendgroup\":\"Atoms\",\"marker\":{\"color\":\"lightgray\",\"size\":3.875,\"symbol\":\"circle\"},\"mode\":\"markers\",\"showlegend\":false,\"text\":\"atom H\",\"x\":[4.011054534871829],\"y\":[-1.57357995778909],\"z\":[-0.05278043649875221],\"type\":\"scatter3d\"},{\"legendgroup\":\"Atoms\",\"marker\":{\"color\":\"lightgray\",\"size\":3.875,\"symbol\":\"circle\"},\"mode\":\"markers\",\"showlegend\":false,\"text\":\"atom H\",\"x\":[3.0054321481784876],\"y\":[-1.3911961784230706],\"z\":[1.443053753155655],\"type\":\"scatter3d\"},{\"legendgroup\":\"Atoms\",\"marker\":{\"color\":\"lightgray\",\"size\":3.875,\"symbol\":\"circle\"},\"mode\":\"markers\",\"showlegend\":false,\"text\":\"atom H\",\"x\":[2.5989495650168326],\"y\":[-2.9343747854786324],\"z\":[-0.5623313591805277],\"type\":\"scatter3d\"},{\"legendgroup\":\"Atoms\",\"marker\":{\"color\":\"lightgray\",\"size\":3.875,\"symbol\":\"circle\"},\"mode\":\"markers\",\"showlegend\":false,\"text\":\"atom H\",\"x\":[1.4282403559181776],\"y\":[-2.542553264458313],\"z\":[-1.801599855735794],\"type\":\"scatter3d\"},{\"legendgroup\":\"Atoms\",\"marker\":{\"color\":\"lightgray\",\"size\":3.875,\"symbol\":\"circle\"},\"mode\":\"markers\",\"showlegend\":false,\"text\":\"atom H\",\"x\":[0.9464870828575369],\"y\":[-2.7564977228529473],\"z\":[-0.010776014941090071],\"type\":\"scatter3d\"},{\"legendgroup\":\"Atoms\",\"marker\":{\"color\":\"lightgray\",\"size\":3.875,\"symbol\":\"circle\"},\"mode\":\"markers\",\"showlegend\":false,\"text\":\"atom H\",\"x\":[2.8200703133007163],\"y\":[-0.7397655235531555],\"z\":[-2.6100603021155413],\"type\":\"scatter3d\"},{\"legendgroup\":\"Atoms\",\"marker\":{\"color\":\"lightgray\",\"size\":3.875,\"symbol\":\"circle\"},\"mode\":\"markers\",\"showlegend\":false,\"text\":\"atom H\",\"x\":[2.7353921628282953],\"y\":[1.837808371324314],\"z\":[-2.2594285472994136],\"type\":\"scatter3d\"},{\"legendgroup\":\"Atoms\",\"marker\":{\"color\":\"lightgray\",\"size\":3.875,\"symbol\":\"circle\"},\"mode\":\"markers\",\"showlegend\":false,\"text\":\"atom H\",\"x\":[3.1678341974142814],\"y\":[2.475587267725683],\"z\":[0.15334422749506005],\"type\":\"scatter3d\"},{\"legendgroup\":\"Atoms\",\"marker\":{\"color\":\"lightgray\",\"size\":3.875,\"symbol\":\"circle\"},\"mode\":\"markers\",\"showlegend\":false,\"text\":\"atom H\",\"x\":[1.2414652502047856],\"y\":[1.653740706665476],\"z\":[1.4238663244831864],\"type\":\"scatter3d\"},{\"legendgroup\":\"Atoms\",\"marker\":{\"color\":\"lightgray\",\"size\":3.875,\"symbol\":\"circle\"},\"mode\":\"markers\",\"showlegend\":false,\"text\":\"atom H\",\"x\":[-0.6589239360778923],\"y\":[1.7136837689262383],\"z\":[1.1599173999691368],\"type\":\"scatter3d\"},{\"legendgroup\":\"Atoms\",\"marker\":{\"color\":\"lightgray\",\"size\":3.875,\"symbol\":\"circle\"},\"mode\":\"markers\",\"showlegend\":false,\"text\":\"atom H\",\"x\":[-3.0812470676470656],\"y\":[1.734233445444787],\"z\":[1.0676387140836023],\"type\":\"scatter3d\"},{\"legendgroup\":\"Atoms\",\"marker\":{\"color\":\"lightgray\",\"size\":3.875,\"symbol\":\"circle\"},\"mode\":\"markers\",\"showlegend\":false,\"text\":\"atom H\",\"x\":[-4.9257371380490085],\"y\":[-1.1343982002244748],\"z\":[-1.9762049797150885],\"type\":\"scatter3d\"},{\"legendgroup\":\"Atoms\",\"marker\":{\"color\":\"lightgray\",\"size\":3.875,\"symbol\":\"circle\"},\"mode\":\"markers\",\"showlegend\":false,\"text\":\"atom H\",\"x\":[-5.37444995437238],\"y\":[-1.9473663089519009],\"z\":[-0.38413081503547375],\"type\":\"scatter3d\"},{\"legendgroup\":\"Atoms\",\"marker\":{\"color\":\"lightgray\",\"size\":3.875,\"symbol\":\"circle\"},\"mode\":\"markers\",\"showlegend\":false,\"text\":\"atom H\",\"x\":[-6.427062584371248],\"y\":[-0.7143025331305239],\"z\":[-1.1192050967650502],\"type\":\"scatter3d\"},{\"legendgroup\":\"Atoms\",\"marker\":{\"color\":\"lightgray\",\"size\":3.875,\"symbol\":\"circle\"},\"mode\":\"markers\",\"showlegend\":false,\"text\":\"atom H\",\"x\":[-6.296480753180355],\"y\":[1.304023614407801],\"z\":[-0.8564368489920071],\"type\":\"scatter3d\"},{\"legendgroup\":\"Atoms\",\"marker\":{\"color\":\"lightgray\",\"size\":3.875,\"symbol\":\"circle\"},\"mode\":\"markers\",\"showlegend\":false,\"text\":\"atom H\",\"x\":[-4.717726170617384],\"y\":[1.6961015523356555],\"z\":[-1.633281567380559],\"type\":\"scatter3d\"},{\"legendgroup\":\"Atoms\",\"marker\":{\"color\":\"lightgray\",\"size\":3.875,\"symbol\":\"circle\"},\"mode\":\"markers\",\"showlegend\":false,\"text\":\"atom H\",\"x\":[-5.079334535648077],\"y\":[2.1945289894390543],\"z\":[0.10856036854805327],\"type\":\"scatter3d\"},{\"legendgroup\":\"Atoms\",\"marker\":{\"color\":\"lightgray\",\"size\":3.875,\"symbol\":\"circle\"},\"mode\":\"markers\",\"showlegend\":false,\"text\":\"atom H\",\"x\":[-5.1262871988413075],\"y\":[0.9104547403127184],\"z\":[1.7855101970853948],\"type\":\"scatter3d\"},{\"legendgroup\":\"Atoms\",\"marker\":{\"color\":\"lightgray\",\"size\":3.875,\"symbol\":\"circle\"},\"mode\":\"markers\",\"showlegend\":false,\"text\":\"atom H\",\"x\":[-4.560840731168126],\"y\":[-0.8319774623775728],\"z\":[1.8032622573806332],\"type\":\"scatter3d\"},{\"legendgroup\":\"Atoms\",\"marker\":{\"color\":\"lightgray\",\"size\":3.875,\"symbol\":\"circle\"},\"mode\":\"markers\",\"showlegend\":false,\"text\":\"atom H\",\"x\":[-6.2131440978978905],\"y\":[-0.41503534873507575],\"z\":[1.29286880770081],\"type\":\"scatter3d\"},{\"legendgroup\":\"Atoms\",\"marker\":{\"color\":\"lightgray\",\"size\":3.875,\"symbol\":\"circle\"},\"mode\":\"markers\",\"showlegend\":false,\"text\":\"atom H\",\"x\":[-2.9944924895046756],\"y\":[-1.7206370874097625],\"z\":[-1.3590566239273276],\"type\":\"scatter3d\"},{\"legendgroup\":\"Atoms\",\"marker\":{\"color\":\"lightgray\",\"size\":3.875,\"symbol\":\"circle\"},\"mode\":\"markers\",\"showlegend\":false,\"text\":\"atom H\",\"x\":[-0.6279136675025533],\"y\":[-1.7318935299921363],\"z\":[-1.2892595651779628],\"type\":\"scatter3d\"},{\"legendgroup\":\"Atom importance\",\"marker\":{\"color\":\"red\",\"size\":14.6625,\"symbol\":\"circle\"},\"mode\":\"markers\",\"opacity\":0.21225165683788222,\"showlegend\":false,\"text\":\"atom C\",\"x\":[5.601263705829531],\"y\":[0.31613445116843986],\"z\":[-0.9995214985468471],\"type\":\"scatter3d\"},{\"legendgroup\":\"Atom importance\",\"marker\":{\"color\":\"red\",\"size\":14.025,\"symbol\":\"circle\"},\"mode\":\"markers\",\"opacity\":0.3516812701233845,\"showlegend\":false,\"text\":\"atom O\",\"x\":[5.202406159180898],\"y\":[0.5361503694509056],\"z\":[0.2721812024092838],\"type\":\"scatter3d\"},{\"legendgroup\":\"Atom importance\",\"marker\":{\"color\":\"red\",\"size\":14.6625,\"symbol\":\"circle\"},\"mode\":\"markers\",\"opacity\":0.4800816323793242,\"showlegend\":false,\"text\":\"atom C\",\"x\":[3.895529190189886],\"y\":[0.4404668964367587],\"z\":[0.6044567047669017],\"type\":\"scatter3d\"},{\"legendgroup\":\"Atom importance\",\"marker\":{\"color\":\"red\",\"size\":14.6625,\"symbol\":\"circle\"},\"mode\":\"markers\",\"opacity\":0.07800141550795336,\"showlegend\":false,\"text\":\"atom C\",\"x\":[3.8392808386029547],\"y\":[0.771000400501267],\"z\":[2.116724468721402],\"type\":\"scatter3d\"},{\"legendgroup\":\"Atom importance\",\"marker\":{\"color\":\"red\",\"size\":14.6625,\"symbol\":\"circle\"},\"mode\":\"markers\",\"opacity\":0.10668608059226875,\"showlegend\":false,\"text\":\"atom C\",\"x\":[3.2735806456897274],\"y\":[-0.9163733540345974],\"z\":[0.4930519658342686],\"type\":\"scatter3d\"},{\"legendgroup\":\"Atom importance\",\"marker\":{\"color\":\"blue\",\"size\":14.6625,\"symbol\":\"circle\"},\"mode\":\"markers\",\"opacity\":0.8160166286953872,\"showlegend\":false,\"text\":\"atom C\",\"x\":[2.047113645711845],\"y\":[-0.908648768917193],\"z\":[-0.4602407189945858],\"type\":\"scatter3d\"},{\"legendgroup\":\"Atom importance\",\"marker\":{\"color\":\"red\",\"size\":14.6625,\"symbol\":\"circle\"},\"mode\":\"markers\",\"opacity\":0.4373757960534375,\"showlegend\":false,\"text\":\"atom C\",\"x\":[1.6413184507095209],\"y\":[-2.3066305420157436],\"z\":[-0.729246802624404],\"type\":\"scatter3d\"},{\"legendgroup\":\"Atom importance\",\"marker\":{\"color\":\"red\",\"size\":14.6625,\"symbol\":\"circle\"},\"mode\":\"markers\",\"opacity\":0.36023246963351724,\"showlegend\":false,\"text\":\"atom C\",\"x\":[2.5978420363307504],\"y\":[-0.232785745108128],\"z\":[-1.7092640328250972],\"type\":\"scatter3d\"},{\"legendgroup\":\"Atom importance\",\"marker\":{\"color\":\"red\",\"size\":14.6625,\"symbol\":\"circle\"},\"mode\":\"markers\",\"opacity\":0.44850427653357944,\"showlegend\":false,\"text\":\"atom C\",\"x\":[2.7543841191948104],\"y\":[1.091994757810045],\"z\":[-1.4900478182142374],\"type\":\"scatter3d\"},{\"legendgroup\":\"Atom importance\",\"marker\":{\"color\":\"blue\",\"size\":14.6625,\"symbol\":\"circle\"},\"mode\":\"markers\",\"opacity\":0.6386824052293485,\"showlegend\":false,\"text\":\"atom C\",\"x\":[2.9614580682445317],\"y\":[1.435334804838669],\"z\":[-0.054278963262156546],\"type\":\"scatter3d\"},{\"legendgroup\":\"Atom importance\",\"marker\":{\"color\":\"red\",\"size\":14.6625,\"symbol\":\"circle\"},\"mode\":\"markers\",\"opacity\":0.4024666609844869,\"showlegend\":false,\"text\":\"atom C\",\"x\":[1.6282657754776664],\"y\":[1.1126621121798423],\"z\":[0.6128560391165019],\"type\":\"scatter3d\"},{\"legendgroup\":\"Atom importance\",\"marker\":{\"color\":\"red\",\"size\":14.6625,\"symbol\":\"circle\"},\"mode\":\"markers\",\"opacity\":0.42912529329513255,\"showlegend\":false,\"text\":\"atom C\",\"x\":[1.0346681174327002],\"y\":[0.03952407313049552],\"z\":[0.0232836223241101],\"type\":\"scatter3d\"},{\"legendgroup\":\"Atom importance\",\"marker\":{\"color\":\"red\",\"size\":14.6625,\"symbol\":\"circle\"},\"mode\":\"markers\",\"opacity\":0.3152883093593736,\"showlegend\":false,\"text\":\"atom C\",\"x\":[-0.3857166747342974],\"y\":[-0.02844395821264261],\"z\":[-0.05000482238521825],\"type\":\"scatter3d\"},{\"legendgroup\":\"Atom importance\",\"marker\":{\"color\":\"red\",\"size\":14.6625,\"symbol\":\"circle\"},\"mode\":\"markers\",\"opacity\":0.08818748680442501,\"showlegend\":false,\"text\":\"atom C\",\"x\":[-1.1564347701962971],\"y\":[0.9511553586380149],\"z\":[0.6039418469884635],\"type\":\"scatter3d\"},{\"legendgroup\":\"Atom importance\",\"marker\":{\"color\":\"red\",\"size\":14.6625,\"symbol\":\"circle\"},\"mode\":\"markers\",\"opacity\":0.1134170866258778,\"showlegend\":false,\"text\":\"atom C\",\"x\":[-2.532504823788183],\"y\":[0.9464235111743364],\"z\":[0.5383640665997377],\"type\":\"scatter3d\"},{\"legendgroup\":\"Atom importance\",\"marker\":{\"color\":\"red\",\"size\":14.6625,\"symbol\":\"circle\"},\"mode\":\"markers\",\"opacity\":0.1773393170534921,\"showlegend\":false,\"text\":\"atom C\",\"x\":[-3.228133368586467],\"y\":[-0.009542887471011209],\"z\":[-0.1654667946544038],\"type\":\"scatter3d\"},{\"legendgroup\":\"Atom importance\",\"marker\":{\"color\":\"blue\",\"size\":14.6625,\"symbol\":\"circle\"},\"mode\":\"markers\",\"opacity\":0.5190532430149725,\"showlegend\":false,\"text\":\"atom C\",\"x\":[-4.705521816077048],\"y\":[0.08165674212094347],\"z\":[-0.1674508505243837],\"type\":\"scatter3d\"},{\"legendgroup\":\"Atom importance\",\"marker\":{\"color\":\"red\",\"size\":14.6625,\"symbol\":\"circle\"},\"mode\":\"markers\",\"opacity\":0.49980451235818923,\"showlegend\":false,\"text\":\"atom C\",\"x\":[-5.355794625788844],\"y\":[-1.0100433839689666],\"z\":[-0.9647829799363193],\"type\":\"scatter3d\"},{\"legendgroup\":\"Atom importance\",\"marker\":{\"color\":\"red\",\"size\":14.6625,\"symbol\":\"circle\"},\"mode\":\"markers\",\"opacity\":0.3034319233971987,\"showlegend\":false,\"text\":\"atom C\",\"x\":[-5.202693126671225],\"y\":[1.4105708994097543],\"z\":[-0.6688192205135682],\"type\":\"scatter3d\"},{\"legendgroup\":\"Atom importance\",\"marker\":{\"color\":\"red\",\"size\":14.6625,\"symbol\":\"circle\"},\"mode\":\"markers\",\"opacity\":0.18467739381843923,\"showlegend\":false,\"text\":\"atom C\",\"x\":[-5.167350042769946],\"y\":[-0.0626676211463042],\"z\":[1.2773175707174984],\"type\":\"scatter3d\"},{\"legendgroup\":\"Atom importance\",\"marker\":{\"color\":\"red\",\"size\":14.6625,\"symbol\":\"circle\"},\"mode\":\"markers\",\"opacity\":0.24966645491491712,\"showlegend\":false,\"text\":\"atom C\",\"x\":[-2.511637612498159],\"y\":[-0.9621428425051046],\"z\":[-0.8036807874705606],\"type\":\"scatter3d\"},{\"legendgroup\":\"Atom importance\",\"marker\":{\"color\":\"red\",\"size\":14.6625,\"symbol\":\"circle\"},\"mode\":\"markers\",\"opacity\":0.0,\"showlegend\":false,\"text\":\"atom C\",\"x\":[-1.1086524121338908],\"y\":[-0.9550742061682901],\"z\":[-0.7357463832172834],\"type\":\"scatter3d\"},{\"legendgroup\":\"Atom importance\",\"marker\":{\"color\":\"blue\",\"size\":6.5874999999999995,\"symbol\":\"circle\"},\"mode\":\"markers\",\"opacity\":0.5109746037337524,\"showlegend\":false,\"text\":\"atom H\",\"x\":[5.210819333706811],\"y\":[0.954044661709793],\"z\":[-1.7864950905951507],\"type\":\"scatter3d\"},{\"legendgroup\":\"Atom importance\",\"marker\":{\"color\":\"blue\",\"size\":6.5874999999999995,\"symbol\":\"circle\"},\"mode\":\"markers\",\"opacity\":0.512422936144156,\"showlegend\":false,\"text\":\"atom H\",\"x\":[6.7235437023546725],\"y\":[0.45399810577373423],\"z\":[-1.0213396507918342],\"type\":\"scatter3d\"},{\"legendgroup\":\"Atom importance\",\"marker\":{\"color\":\"red\",\"size\":6.5874999999999995,\"symbol\":\"circle\"},\"mode\":\"markers\",\"opacity\":0.49892022843551226,\"showlegend\":false,\"text\":\"atom H\",\"x\":[5.4760815495091295],\"y\":[-0.7816423298276697],\"z\":[-1.230083224784013],\"type\":\"scatter3d\"},{\"legendgroup\":\"Atom importance\",\"marker\":{\"color\":\"red\",\"size\":6.5874999999999995,\"symbol\":\"circle\"},\"mode\":\"markers\",\"opacity\":0.49956371831714325,\"showlegend\":false,\"text\":\"atom H\",\"x\":[2.814739332063883],\"y\":[0.8769745216486098],\"z\":[2.4645634355618276],\"type\":\"scatter3d\"},{\"legendgroup\":\"Atom importance\",\"marker\":{\"color\":\"red\",\"size\":6.5874999999999995,\"symbol\":\"circle\"},\"mode\":\"markers\",\"opacity\":0.4992234401461452,\"showlegend\":false,\"text\":\"atom H\",\"x\":[4.39680983229203],\"y\":[1.7074152878151518],\"z\":[2.323698433954975],\"type\":\"scatter3d\"},{\"legendgroup\":\"Atom importance\",\"marker\":{\"color\":\"red\",\"size\":6.5874999999999995,\"symbol\":\"circle\"},\"mode\":\"markers\",\"opacity\":0.47250253872888,\"showlegend\":false,\"text\":\"atom H\",\"x\":[4.384049485010372],\"y\":[-0.038095867636006336],\"z\":[2.678874774627517],\"type\":\"scatter3d\"},{\"legendgroup\":\"Atom importance\",\"marker\":{\"color\":\"red\",\"size\":6.5874999999999995,\"symbol\":\"circle\"},\"mode\":\"markers\",\"opacity\":0.44603869369177024,\"showlegend\":false,\"text\":\"atom H\",\"x\":[4.011054534871829],\"y\":[-1.57357995778909],\"z\":[-0.05278043649875221],\"type\":\"scatter3d\"},{\"legendgroup\":\"Atom importance\",\"marker\":{\"color\":\"red\",\"size\":6.5874999999999995,\"symbol\":\"circle\"},\"mode\":\"markers\",\"opacity\":0.4867336599518469,\"showlegend\":false,\"text\":\"atom H\",\"x\":[3.0054321481784876],\"y\":[-1.3911961784230706],\"z\":[1.443053753155655],\"type\":\"scatter3d\"},{\"legendgroup\":\"Atom importance\",\"marker\":{\"color\":\"red\",\"size\":6.5874999999999995,\"symbol\":\"circle\"},\"mode\":\"markers\",\"opacity\":0.46045202076197184,\"showlegend\":false,\"text\":\"atom H\",\"x\":[2.5989495650168326],\"y\":[-2.9343747854786324],\"z\":[-0.5623313591805277],\"type\":\"scatter3d\"},{\"legendgroup\":\"Atom importance\",\"marker\":{\"color\":\"red\",\"size\":6.5874999999999995,\"symbol\":\"circle\"},\"mode\":\"markers\",\"opacity\":0.49066964476344826,\"showlegend\":false,\"text\":\"atom H\",\"x\":[1.4282403559181776],\"y\":[-2.542553264458313],\"z\":[-1.801599855735794],\"type\":\"scatter3d\"},{\"legendgroup\":\"Atom importance\",\"marker\":{\"color\":\"red\",\"size\":6.5874999999999995,\"symbol\":\"circle\"},\"mode\":\"markers\",\"opacity\":0.43761644683733636,\"showlegend\":false,\"text\":\"atom H\",\"x\":[0.9464870828575369],\"y\":[-2.7564977228529473],\"z\":[-0.010776014941090071],\"type\":\"scatter3d\"},{\"legendgroup\":\"Atom importance\",\"marker\":{\"color\":\"red\",\"size\":6.5874999999999995,\"symbol\":\"circle\"},\"mode\":\"markers\",\"opacity\":0.48929111307152917,\"showlegend\":false,\"text\":\"atom H\",\"x\":[2.8200703133007163],\"y\":[-0.7397655235531555],\"z\":[-2.6100603021155413],\"type\":\"scatter3d\"},{\"legendgroup\":\"Atom importance\",\"marker\":{\"color\":\"red\",\"size\":6.5874999999999995,\"symbol\":\"circle\"},\"mode\":\"markers\",\"opacity\":0.47036545778999256,\"showlegend\":false,\"text\":\"atom H\",\"x\":[2.7353921628282953],\"y\":[1.837808371324314],\"z\":[-2.2594285472994136],\"type\":\"scatter3d\"},{\"legendgroup\":\"Atom importance\",\"marker\":{\"color\":\"red\",\"size\":6.5874999999999995,\"symbol\":\"circle\"},\"mode\":\"markers\",\"opacity\":0.4564737459099554,\"showlegend\":false,\"text\":\"atom H\",\"x\":[3.1678341974142814],\"y\":[2.475587267725683],\"z\":[0.15334422749506005],\"type\":\"scatter3d\"},{\"legendgroup\":\"Atom importance\",\"marker\":{\"color\":\"blue\",\"size\":6.5874999999999995,\"symbol\":\"circle\"},\"mode\":\"markers\",\"opacity\":0.5492878973730417,\"showlegend\":false,\"text\":\"atom H\",\"x\":[1.2414652502047856],\"y\":[1.653740706665476],\"z\":[1.4238663244831864],\"type\":\"scatter3d\"},{\"legendgroup\":\"Atom importance\",\"marker\":{\"color\":\"blue\",\"size\":6.5874999999999995,\"symbol\":\"circle\"},\"mode\":\"markers\",\"opacity\":0.5287915083869738,\"showlegend\":false,\"text\":\"atom H\",\"x\":[-0.6589239360778923],\"y\":[1.7136837689262383],\"z\":[1.1599173999691368],\"type\":\"scatter3d\"},{\"legendgroup\":\"Atom importance\",\"marker\":{\"color\":\"red\",\"size\":6.5874999999999995,\"symbol\":\"circle\"},\"mode\":\"markers\",\"opacity\":0.4946267162312343,\"showlegend\":false,\"text\":\"atom H\",\"x\":[-3.0812470676470656],\"y\":[1.734233445444787],\"z\":[1.0676387140836023],\"type\":\"scatter3d\"},{\"legendgroup\":\"Atom importance\",\"marker\":{\"color\":\"red\",\"size\":6.5874999999999995,\"symbol\":\"circle\"},\"mode\":\"markers\",\"opacity\":0.47117744725866095,\"showlegend\":false,\"text\":\"atom H\",\"x\":[-4.9257371380490085],\"y\":[-1.1343982002244748],\"z\":[-1.9762049797150885],\"type\":\"scatter3d\"},{\"legendgroup\":\"Atom importance\",\"marker\":{\"color\":\"red\",\"size\":6.5874999999999995,\"symbol\":\"circle\"},\"mode\":\"markers\",\"opacity\":0.49388427545458785,\"showlegend\":false,\"text\":\"atom H\",\"x\":[-5.37444995437238],\"y\":[-1.9473663089519009],\"z\":[-0.38413081503547375],\"type\":\"scatter3d\"},{\"legendgroup\":\"Atom importance\",\"marker\":{\"color\":\"blue\",\"size\":6.5874999999999995,\"symbol\":\"circle\"},\"mode\":\"markers\",\"opacity\":0.5005525322048434,\"showlegend\":false,\"text\":\"atom H\",\"x\":[-6.427062584371248],\"y\":[-0.7143025331305239],\"z\":[-1.1192050967650502],\"type\":\"scatter3d\"},{\"legendgroup\":\"Atom importance\",\"marker\":{\"color\":\"red\",\"size\":6.5874999999999995,\"symbol\":\"circle\"},\"mode\":\"markers\",\"opacity\":0.4801196538873368,\"showlegend\":false,\"text\":\"atom H\",\"x\":[-6.296480753180355],\"y\":[1.304023614407801],\"z\":[-0.8564368489920071],\"type\":\"scatter3d\"},{\"legendgroup\":\"Atom importance\",\"marker\":{\"color\":\"red\",\"size\":6.5874999999999995,\"symbol\":\"circle\"},\"mode\":\"markers\",\"opacity\":0.4973519241334343,\"showlegend\":false,\"text\":\"atom H\",\"x\":[-4.717726170617384],\"y\":[1.6961015523356555],\"z\":[-1.633281567380559],\"type\":\"scatter3d\"},{\"legendgroup\":\"Atom importance\",\"marker\":{\"color\":\"blue\",\"size\":6.5874999999999995,\"symbol\":\"circle\"},\"mode\":\"markers\",\"opacity\":0.5,\"showlegend\":false,\"text\":\"atom H\",\"x\":[-5.079334535648077],\"y\":[2.1945289894390543],\"z\":[0.10856036854805327],\"type\":\"scatter3d\"},{\"legendgroup\":\"Atom importance\",\"marker\":{\"color\":\"red\",\"size\":6.5874999999999995,\"symbol\":\"circle\"},\"mode\":\"markers\",\"opacity\":0.48488226692571523,\"showlegend\":false,\"text\":\"atom H\",\"x\":[-5.1262871988413075],\"y\":[0.9104547403127184],\"z\":[1.7855101970853948],\"type\":\"scatter3d\"},{\"legendgroup\":\"Atom importance\",\"marker\":{\"color\":\"blue\",\"size\":6.5874999999999995,\"symbol\":\"circle\"},\"mode\":\"markers\",\"opacity\":0.5071230225844574,\"showlegend\":false,\"text\":\"atom H\",\"x\":[-4.560840731168126],\"y\":[-0.8319774623775728],\"z\":[1.8032622573806332],\"type\":\"scatter3d\"},{\"legendgroup\":\"Atom importance\",\"marker\":{\"color\":\"blue\",\"size\":6.5874999999999995,\"symbol\":\"circle\"},\"mode\":\"markers\",\"opacity\":0.5187017098727392,\"showlegend\":false,\"text\":\"atom H\",\"x\":[-6.2131440978978905],\"y\":[-0.41503534873507575],\"z\":[1.29286880770081],\"type\":\"scatter3d\"},{\"legendgroup\":\"Atom importance\",\"marker\":{\"color\":\"blue\",\"size\":6.5874999999999995,\"symbol\":\"circle\"},\"mode\":\"markers\",\"opacity\":0.5039597933535814,\"showlegend\":false,\"text\":\"atom H\",\"x\":[-2.9944924895046756],\"y\":[-1.7206370874097625],\"z\":[-1.3590566239273276],\"type\":\"scatter3d\"},{\"legendgroup\":\"Atom importance\",\"marker\":{\"color\":\"blue\",\"size\":6.5874999999999995,\"symbol\":\"circle\"},\"mode\":\"markers\",\"opacity\":0.5335652291600751,\"showlegend\":false,\"text\":\"atom H\",\"x\":[-0.6279136675025533],\"y\":[-1.7318935299921363],\"z\":[-1.2892595651779628],\"type\":\"scatter3d\"},{\"hoverinfo\":\"none\",\"legendgroup\":\"Bonds\",\"line\":{\"color\":\"black\",\"width\":2},\"mode\":\"lines\",\"showlegend\":false,\"x\":[5.601263705829531,5.202406159180898],\"y\":[0.31613445116843986,0.5361503694509056],\"z\":[-0.9995214985468471,0.2721812024092838],\"type\":\"scatter3d\"},{\"hoverinfo\":\"none\",\"legendgroup\":\"Bonds\",\"line\":{\"color\":\"black\",\"width\":2},\"mode\":\"lines\",\"showlegend\":false,\"x\":[5.202406159180898,3.895529190189886],\"y\":[0.5361503694509056,0.4404668964367587],\"z\":[0.2721812024092838,0.6044567047669017],\"type\":\"scatter3d\"},{\"hoverinfo\":\"none\",\"legendgroup\":\"Bonds\",\"line\":{\"color\":\"black\",\"width\":2},\"mode\":\"lines\",\"showlegend\":false,\"x\":[3.895529190189886,3.8392808386029547],\"y\":[0.4404668964367587,0.771000400501267],\"z\":[0.6044567047669017,2.116724468721402],\"type\":\"scatter3d\"},{\"hoverinfo\":\"none\",\"legendgroup\":\"Bonds\",\"line\":{\"color\":\"black\",\"width\":2},\"mode\":\"lines\",\"showlegend\":false,\"x\":[3.895529190189886,3.2735806456897274],\"y\":[0.4404668964367587,-0.9163733540345974],\"z\":[0.6044567047669017,0.4930519658342686],\"type\":\"scatter3d\"},{\"hoverinfo\":\"none\",\"legendgroup\":\"Bonds\",\"line\":{\"color\":\"black\",\"width\":2},\"mode\":\"lines\",\"showlegend\":false,\"x\":[3.2735806456897274,2.047113645711845],\"y\":[-0.9163733540345974,-0.908648768917193],\"z\":[0.4930519658342686,-0.4602407189945858],\"type\":\"scatter3d\"},{\"hoverinfo\":\"none\",\"legendgroup\":\"Bonds\",\"line\":{\"color\":\"black\",\"width\":2},\"mode\":\"lines\",\"showlegend\":false,\"x\":[2.047113645711845,1.6413184507095209],\"y\":[-0.908648768917193,-2.3066305420157436],\"z\":[-0.4602407189945858,-0.729246802624404],\"type\":\"scatter3d\"},{\"hoverinfo\":\"none\",\"legendgroup\":\"Bonds\",\"line\":{\"color\":\"black\",\"width\":2},\"mode\":\"lines\",\"showlegend\":false,\"x\":[2.047113645711845,2.5978420363307504],\"y\":[-0.908648768917193,-0.232785745108128],\"z\":[-0.4602407189945858,-1.7092640328250972],\"type\":\"scatter3d\"},{\"hoverinfo\":\"none\",\"legendgroup\":\"Bonds\",\"line\":{\"color\":\"black\",\"width\":2},\"mode\":\"lines\",\"showlegend\":false,\"x\":[2.5978420363307504,2.7543841191948104],\"y\":[-0.232785745108128,1.091994757810045],\"z\":[-1.7092640328250972,-1.4900478182142374],\"type\":\"scatter3d\"},{\"hoverinfo\":\"none\",\"legendgroup\":\"Bonds\",\"line\":{\"color\":\"black\",\"width\":2},\"mode\":\"lines\",\"showlegend\":false,\"x\":[2.7543841191948104,2.9614580682445317],\"y\":[1.091994757810045,1.435334804838669],\"z\":[-1.4900478182142374,-0.054278963262156546],\"type\":\"scatter3d\"},{\"hoverinfo\":\"none\",\"legendgroup\":\"Bonds\",\"line\":{\"color\":\"black\",\"width\":2},\"mode\":\"lines\",\"showlegend\":false,\"x\":[2.9614580682445317,1.6282657754776664],\"y\":[1.435334804838669,1.1126621121798423],\"z\":[-0.054278963262156546,0.6128560391165019],\"type\":\"scatter3d\"},{\"hoverinfo\":\"none\",\"legendgroup\":\"Bonds\",\"line\":{\"color\":\"black\",\"width\":2},\"mode\":\"lines\",\"showlegend\":false,\"x\":[1.6282657754776664,1.0346681174327002],\"y\":[1.1126621121798423,0.03952407313049552],\"z\":[0.6128560391165019,0.0232836223241101],\"type\":\"scatter3d\"},{\"hoverinfo\":\"none\",\"legendgroup\":\"Bonds\",\"line\":{\"color\":\"black\",\"width\":2},\"mode\":\"lines\",\"showlegend\":false,\"x\":[1.0346681174327002,-0.3857166747342974],\"y\":[0.03952407313049552,-0.02844395821264261],\"z\":[0.0232836223241101,-0.05000482238521825],\"type\":\"scatter3d\"},{\"hoverinfo\":\"none\",\"legendgroup\":\"Bonds\",\"line\":{\"color\":\"black\",\"width\":2},\"mode\":\"lines\",\"showlegend\":false,\"x\":[-0.3857166747342974,-1.1564347701962971],\"y\":[-0.02844395821264261,0.9511553586380149],\"z\":[-0.05000482238521825,0.6039418469884635],\"type\":\"scatter3d\"},{\"hoverinfo\":\"none\",\"legendgroup\":\"Bonds\",\"line\":{\"color\":\"black\",\"width\":2},\"mode\":\"lines\",\"showlegend\":false,\"x\":[-1.1564347701962971,-2.532504823788183],\"y\":[0.9511553586380149,0.9464235111743364],\"z\":[0.6039418469884635,0.5383640665997377],\"type\":\"scatter3d\"},{\"hoverinfo\":\"none\",\"legendgroup\":\"Bonds\",\"line\":{\"color\":\"black\",\"width\":2},\"mode\":\"lines\",\"showlegend\":false,\"x\":[-2.532504823788183,-3.228133368586467],\"y\":[0.9464235111743364,-0.009542887471011209],\"z\":[0.5383640665997377,-0.1654667946544038],\"type\":\"scatter3d\"},{\"hoverinfo\":\"none\",\"legendgroup\":\"Bonds\",\"line\":{\"color\":\"black\",\"width\":2},\"mode\":\"lines\",\"showlegend\":false,\"x\":[-3.228133368586467,-4.705521816077048],\"y\":[-0.009542887471011209,0.08165674212094347],\"z\":[-0.1654667946544038,-0.1674508505243837],\"type\":\"scatter3d\"},{\"hoverinfo\":\"none\",\"legendgroup\":\"Bonds\",\"line\":{\"color\":\"black\",\"width\":2},\"mode\":\"lines\",\"showlegend\":false,\"x\":[-4.705521816077048,-5.355794625788844],\"y\":[0.08165674212094347,-1.0100433839689666],\"z\":[-0.1674508505243837,-0.9647829799363193],\"type\":\"scatter3d\"},{\"hoverinfo\":\"none\",\"legendgroup\":\"Bonds\",\"line\":{\"color\":\"black\",\"width\":2},\"mode\":\"lines\",\"showlegend\":false,\"x\":[-4.705521816077048,-5.202693126671225],\"y\":[0.08165674212094347,1.4105708994097543],\"z\":[-0.1674508505243837,-0.6688192205135682],\"type\":\"scatter3d\"},{\"hoverinfo\":\"none\",\"legendgroup\":\"Bonds\",\"line\":{\"color\":\"black\",\"width\":2},\"mode\":\"lines\",\"showlegend\":false,\"x\":[-4.705521816077048,-5.167350042769946],\"y\":[0.08165674212094347,-0.0626676211463042],\"z\":[-0.1674508505243837,1.2773175707174984],\"type\":\"scatter3d\"},{\"hoverinfo\":\"none\",\"legendgroup\":\"Bonds\",\"line\":{\"color\":\"black\",\"width\":2},\"mode\":\"lines\",\"showlegend\":false,\"x\":[-3.228133368586467,-2.511637612498159],\"y\":[-0.009542887471011209,-0.9621428425051046],\"z\":[-0.1654667946544038,-0.8036807874705606],\"type\":\"scatter3d\"},{\"hoverinfo\":\"none\",\"legendgroup\":\"Bonds\",\"line\":{\"color\":\"black\",\"width\":2},\"mode\":\"lines\",\"showlegend\":false,\"x\":[-2.511637612498159,-1.1086524121338908],\"y\":[-0.9621428425051046,-0.9550742061682901],\"z\":[-0.8036807874705606,-0.7357463832172834],\"type\":\"scatter3d\"},{\"hoverinfo\":\"none\",\"legendgroup\":\"Bonds\",\"line\":{\"color\":\"black\",\"width\":2},\"mode\":\"lines\",\"showlegend\":false,\"x\":[3.895529190189886,2.9614580682445317],\"y\":[0.4404668964367587,1.435334804838669],\"z\":[0.6044567047669017,-0.054278963262156546],\"type\":\"scatter3d\"},{\"hoverinfo\":\"none\",\"legendgroup\":\"Bonds\",\"line\":{\"color\":\"black\",\"width\":2},\"mode\":\"lines\",\"showlegend\":false,\"x\":[-0.3857166747342974,-1.1086524121338908],\"y\":[-0.02844395821264261,-0.9550742061682901],\"z\":[-0.05000482238521825,-0.7357463832172834],\"type\":\"scatter3d\"},{\"hoverinfo\":\"none\",\"legendgroup\":\"Bonds\",\"line\":{\"color\":\"black\",\"width\":2},\"mode\":\"lines\",\"showlegend\":false,\"x\":[2.047113645711845,1.0346681174327002],\"y\":[-0.908648768917193,0.03952407313049552],\"z\":[-0.4602407189945858,0.0232836223241101],\"type\":\"scatter3d\"},{\"hoverinfo\":\"none\",\"legendgroup\":\"Bonds\",\"line\":{\"color\":\"black\",\"width\":2},\"mode\":\"lines\",\"showlegend\":false,\"x\":[5.601263705829531,5.210819333706811],\"y\":[0.31613445116843986,0.954044661709793],\"z\":[-0.9995214985468471,-1.7864950905951507],\"type\":\"scatter3d\"},{\"hoverinfo\":\"none\",\"legendgroup\":\"Bonds\",\"line\":{\"color\":\"black\",\"width\":2},\"mode\":\"lines\",\"showlegend\":false,\"x\":[5.601263705829531,6.7235437023546725],\"y\":[0.31613445116843986,0.45399810577373423],\"z\":[-0.9995214985468471,-1.0213396507918342],\"type\":\"scatter3d\"},{\"hoverinfo\":\"none\",\"legendgroup\":\"Bonds\",\"line\":{\"color\":\"black\",\"width\":2},\"mode\":\"lines\",\"showlegend\":false,\"x\":[5.601263705829531,5.4760815495091295],\"y\":[0.31613445116843986,-0.7816423298276697],\"z\":[-0.9995214985468471,-1.230083224784013],\"type\":\"scatter3d\"},{\"hoverinfo\":\"none\",\"legendgroup\":\"Bonds\",\"line\":{\"color\":\"black\",\"width\":2},\"mode\":\"lines\",\"showlegend\":false,\"x\":[3.8392808386029547,2.814739332063883],\"y\":[0.771000400501267,0.8769745216486098],\"z\":[2.116724468721402,2.4645634355618276],\"type\":\"scatter3d\"},{\"hoverinfo\":\"none\",\"legendgroup\":\"Bonds\",\"line\":{\"color\":\"black\",\"width\":2},\"mode\":\"lines\",\"showlegend\":false,\"x\":[3.8392808386029547,4.39680983229203],\"y\":[0.771000400501267,1.7074152878151518],\"z\":[2.116724468721402,2.323698433954975],\"type\":\"scatter3d\"},{\"hoverinfo\":\"none\",\"legendgroup\":\"Bonds\",\"line\":{\"color\":\"black\",\"width\":2},\"mode\":\"lines\",\"showlegend\":false,\"x\":[3.8392808386029547,4.384049485010372],\"y\":[0.771000400501267,-0.038095867636006336],\"z\":[2.116724468721402,2.678874774627517],\"type\":\"scatter3d\"},{\"hoverinfo\":\"none\",\"legendgroup\":\"Bonds\",\"line\":{\"color\":\"black\",\"width\":2},\"mode\":\"lines\",\"showlegend\":false,\"x\":[3.2735806456897274,4.011054534871829],\"y\":[-0.9163733540345974,-1.57357995778909],\"z\":[0.4930519658342686,-0.05278043649875221],\"type\":\"scatter3d\"},{\"hoverinfo\":\"none\",\"legendgroup\":\"Bonds\",\"line\":{\"color\":\"black\",\"width\":2},\"mode\":\"lines\",\"showlegend\":false,\"x\":[3.2735806456897274,3.0054321481784876],\"y\":[-0.9163733540345974,-1.3911961784230706],\"z\":[0.4930519658342686,1.443053753155655],\"type\":\"scatter3d\"},{\"hoverinfo\":\"none\",\"legendgroup\":\"Bonds\",\"line\":{\"color\":\"black\",\"width\":2},\"mode\":\"lines\",\"showlegend\":false,\"x\":[1.6413184507095209,2.5989495650168326],\"y\":[-2.3066305420157436,-2.9343747854786324],\"z\":[-0.729246802624404,-0.5623313591805277],\"type\":\"scatter3d\"},{\"hoverinfo\":\"none\",\"legendgroup\":\"Bonds\",\"line\":{\"color\":\"black\",\"width\":2},\"mode\":\"lines\",\"showlegend\":false,\"x\":[1.6413184507095209,1.4282403559181776],\"y\":[-2.3066305420157436,-2.542553264458313],\"z\":[-0.729246802624404,-1.801599855735794],\"type\":\"scatter3d\"},{\"hoverinfo\":\"none\",\"legendgroup\":\"Bonds\",\"line\":{\"color\":\"black\",\"width\":2},\"mode\":\"lines\",\"showlegend\":false,\"x\":[1.6413184507095209,0.9464870828575369],\"y\":[-2.3066305420157436,-2.7564977228529473],\"z\":[-0.729246802624404,-0.010776014941090071],\"type\":\"scatter3d\"},{\"hoverinfo\":\"none\",\"legendgroup\":\"Bonds\",\"line\":{\"color\":\"black\",\"width\":2},\"mode\":\"lines\",\"showlegend\":false,\"x\":[2.5978420363307504,2.8200703133007163],\"y\":[-0.232785745108128,-0.7397655235531555],\"z\":[-1.7092640328250972,-2.6100603021155413],\"type\":\"scatter3d\"},{\"hoverinfo\":\"none\",\"legendgroup\":\"Bonds\",\"line\":{\"color\":\"black\",\"width\":2},\"mode\":\"lines\",\"showlegend\":false,\"x\":[2.7543841191948104,2.7353921628282953],\"y\":[1.091994757810045,1.837808371324314],\"z\":[-1.4900478182142374,-2.2594285472994136],\"type\":\"scatter3d\"},{\"hoverinfo\":\"none\",\"legendgroup\":\"Bonds\",\"line\":{\"color\":\"black\",\"width\":2},\"mode\":\"lines\",\"showlegend\":false,\"x\":[2.9614580682445317,3.1678341974142814],\"y\":[1.435334804838669,2.475587267725683],\"z\":[-0.054278963262156546,0.15334422749506005],\"type\":\"scatter3d\"},{\"hoverinfo\":\"none\",\"legendgroup\":\"Bonds\",\"line\":{\"color\":\"black\",\"width\":2},\"mode\":\"lines\",\"showlegend\":false,\"x\":[1.6282657754776664,1.2414652502047856],\"y\":[1.1126621121798423,1.653740706665476],\"z\":[0.6128560391165019,1.4238663244831864],\"type\":\"scatter3d\"},{\"hoverinfo\":\"none\",\"legendgroup\":\"Bonds\",\"line\":{\"color\":\"black\",\"width\":2},\"mode\":\"lines\",\"showlegend\":false,\"x\":[-1.1564347701962971,-0.6589239360778923],\"y\":[0.9511553586380149,1.7136837689262383],\"z\":[0.6039418469884635,1.1599173999691368],\"type\":\"scatter3d\"},{\"hoverinfo\":\"none\",\"legendgroup\":\"Bonds\",\"line\":{\"color\":\"black\",\"width\":2},\"mode\":\"lines\",\"showlegend\":false,\"x\":[-2.532504823788183,-3.0812470676470656],\"y\":[0.9464235111743364,1.734233445444787],\"z\":[0.5383640665997377,1.0676387140836023],\"type\":\"scatter3d\"},{\"hoverinfo\":\"none\",\"legendgroup\":\"Bonds\",\"line\":{\"color\":\"black\",\"width\":2},\"mode\":\"lines\",\"showlegend\":false,\"x\":[-5.355794625788844,-4.9257371380490085],\"y\":[-1.0100433839689666,-1.1343982002244748],\"z\":[-0.9647829799363193,-1.9762049797150885],\"type\":\"scatter3d\"},{\"hoverinfo\":\"none\",\"legendgroup\":\"Bonds\",\"line\":{\"color\":\"black\",\"width\":2},\"mode\":\"lines\",\"showlegend\":false,\"x\":[-5.355794625788844,-5.37444995437238],\"y\":[-1.0100433839689666,-1.9473663089519009],\"z\":[-0.9647829799363193,-0.38413081503547375],\"type\":\"scatter3d\"},{\"hoverinfo\":\"none\",\"legendgroup\":\"Bonds\",\"line\":{\"color\":\"black\",\"width\":2},\"mode\":\"lines\",\"showlegend\":false,\"x\":[-5.355794625788844,-6.427062584371248],\"y\":[-1.0100433839689666,-0.7143025331305239],\"z\":[-0.9647829799363193,-1.1192050967650502],\"type\":\"scatter3d\"},{\"hoverinfo\":\"none\",\"legendgroup\":\"Bonds\",\"line\":{\"color\":\"black\",\"width\":2},\"mode\":\"lines\",\"showlegend\":false,\"x\":[-5.202693126671225,-6.296480753180355],\"y\":[1.4105708994097543,1.304023614407801],\"z\":[-0.6688192205135682,-0.8564368489920071],\"type\":\"scatter3d\"},{\"hoverinfo\":\"none\",\"legendgroup\":\"Bonds\",\"line\":{\"color\":\"black\",\"width\":2},\"mode\":\"lines\",\"showlegend\":false,\"x\":[-5.202693126671225,-4.717726170617384],\"y\":[1.4105708994097543,1.6961015523356555],\"z\":[-0.6688192205135682,-1.633281567380559],\"type\":\"scatter3d\"},{\"hoverinfo\":\"none\",\"legendgroup\":\"Bonds\",\"line\":{\"color\":\"black\",\"width\":2},\"mode\":\"lines\",\"showlegend\":false,\"x\":[-5.202693126671225,-5.079334535648077],\"y\":[1.4105708994097543,2.1945289894390543],\"z\":[-0.6688192205135682,0.10856036854805327],\"type\":\"scatter3d\"},{\"hoverinfo\":\"none\",\"legendgroup\":\"Bonds\",\"line\":{\"color\":\"black\",\"width\":2},\"mode\":\"lines\",\"showlegend\":false,\"x\":[-5.167350042769946,-5.1262871988413075],\"y\":[-0.0626676211463042,0.9104547403127184],\"z\":[1.2773175707174984,1.7855101970853948],\"type\":\"scatter3d\"},{\"hoverinfo\":\"none\",\"legendgroup\":\"Bonds\",\"line\":{\"color\":\"black\",\"width\":2},\"mode\":\"lines\",\"showlegend\":false,\"x\":[-5.167350042769946,-4.560840731168126],\"y\":[-0.0626676211463042,-0.8319774623775728],\"z\":[1.2773175707174984,1.8032622573806332],\"type\":\"scatter3d\"},{\"hoverinfo\":\"none\",\"legendgroup\":\"Bonds\",\"line\":{\"color\":\"black\",\"width\":2},\"mode\":\"lines\",\"showlegend\":false,\"x\":[-5.167350042769946,-6.2131440978978905],\"y\":[-0.0626676211463042,-0.41503534873507575],\"z\":[1.2773175707174984,1.29286880770081],\"type\":\"scatter3d\"},{\"hoverinfo\":\"none\",\"legendgroup\":\"Bonds\",\"line\":{\"color\":\"black\",\"width\":2},\"mode\":\"lines\",\"showlegend\":false,\"x\":[-2.511637612498159,-2.9944924895046756],\"y\":[-0.9621428425051046,-1.7206370874097625],\"z\":[-0.8036807874705606,-1.3590566239273276],\"type\":\"scatter3d\"},{\"hoverinfo\":\"none\",\"legendgroup\":\"Bonds\",\"line\":{\"color\":\"black\",\"width\":2},\"mode\":\"lines\",\"showlegend\":false,\"x\":[-1.1086524121338908,-0.6279136675025533],\"y\":[-0.9550742061682901,-1.7318935299921363],\"z\":[-0.7357463832172834,-1.2892595651779628],\"type\":\"scatter3d\"},{\"hoverinfo\":\"none\",\"legendgroup\":\"Bond importance\",\"line\":{\"color\":\"blue\",\"width\":8.796183523283378},\"mode\":\"lines\",\"opacity\":0.5864122348855586,\"showlegend\":false,\"x\":[5.601263705829531,5.202406159180898],\"y\":[0.31613445116843986,0.5361503694509056],\"z\":[-0.9995214985468471,0.2721812024092838],\"type\":\"scatter3d\"},{\"hoverinfo\":\"none\",\"legendgroup\":\"Bond importance\",\"line\":{\"color\":\"red\",\"width\":6.044735073286368},\"mode\":\"lines\",\"opacity\":0.40298233821909124,\"showlegend\":false,\"x\":[5.202406159180898,3.895529190189886],\"y\":[0.5361503694509056,0.4404668964367587],\"z\":[0.2721812024092838,0.6044567047669017],\"type\":\"scatter3d\"},{\"hoverinfo\":\"none\",\"legendgroup\":\"Bond importance\",\"line\":{\"color\":\"blue\",\"width\":7.815520256202953},\"mode\":\"lines\",\"opacity\":0.5210346837468636,\"showlegend\":false,\"x\":[3.895529190189886,3.8392808386029547],\"y\":[0.4404668964367587,0.771000400501267],\"z\":[0.6044567047669017,2.116724468721402],\"type\":\"scatter3d\"},{\"hoverinfo\":\"none\",\"legendgroup\":\"Bond importance\",\"line\":{\"color\":\"blue\",\"width\":9.198235703971404},\"mode\":\"lines\",\"opacity\":0.6132157135980936,\"showlegend\":false,\"x\":[3.895529190189886,3.2735806456897274],\"y\":[0.4404668964367587,-0.9163733540345974],\"z\":[0.6044567047669017,0.4930519658342686],\"type\":\"scatter3d\"},{\"hoverinfo\":\"none\",\"legendgroup\":\"Bond importance\",\"line\":{\"color\":\"blue\",\"width\":15.0},\"mode\":\"lines\",\"opacity\":1.0,\"showlegend\":false,\"x\":[3.2735806456897274,2.047113645711845],\"y\":[-0.9163733540345974,-0.908648768917193],\"z\":[0.4930519658342686,-0.4602407189945858],\"type\":\"scatter3d\"},{\"hoverinfo\":\"none\",\"legendgroup\":\"Bond importance\",\"line\":{\"color\":\"red\",\"width\":6.69777342316914},\"mode\":\"lines\",\"opacity\":0.446518228211276,\"showlegend\":false,\"x\":[2.047113645711845,1.6413184507095209],\"y\":[-0.908648768917193,-2.3066305420157436],\"z\":[-0.4602407189945858,-0.729246802624404],\"type\":\"scatter3d\"},{\"hoverinfo\":\"none\",\"legendgroup\":\"Bond importance\",\"line\":{\"color\":\"blue\",\"width\":11.624456216469405},\"mode\":\"lines\",\"opacity\":0.774963747764627,\"showlegend\":false,\"x\":[2.047113645711845,2.5978420363307504],\"y\":[-0.908648768917193,-0.232785745108128],\"z\":[-0.4602407189945858,-1.7092640328250972],\"type\":\"scatter3d\"},{\"hoverinfo\":\"none\",\"legendgroup\":\"Bond importance\",\"line\":{\"color\":\"blue\",\"width\":9.467517976847416},\"mode\":\"lines\",\"opacity\":0.631167865123161,\"showlegend\":false,\"x\":[2.5978420363307504,2.7543841191948104],\"y\":[-0.232785745108128,1.091994757810045],\"z\":[-1.7092640328250972,-1.4900478182142374],\"type\":\"scatter3d\"},{\"hoverinfo\":\"none\",\"legendgroup\":\"Bond importance\",\"line\":{\"color\":\"blue\",\"width\":9.538818576843388},\"mode\":\"lines\",\"opacity\":0.6359212384562258,\"showlegend\":false,\"x\":[2.7543841191948104,2.9614580682445317],\"y\":[1.091994757810045,1.435334804838669],\"z\":[-1.4900478182142374,-0.054278963262156546],\"type\":\"scatter3d\"},{\"hoverinfo\":\"none\",\"legendgroup\":\"Bond importance\",\"line\":{\"color\":\"red\",\"width\":7.157250692873387},\"mode\":\"lines\",\"opacity\":0.47715004619155915,\"showlegend\":false,\"x\":[2.9614580682445317,1.6282657754776664],\"y\":[1.435334804838669,1.1126621121798423],\"z\":[-0.054278963262156546,0.6128560391165019],\"type\":\"scatter3d\"},{\"hoverinfo\":\"none\",\"legendgroup\":\"Bond importance\",\"line\":{\"color\":\"blue\",\"width\":7.720664149152103},\"mode\":\"lines\",\"opacity\":0.5147109432768069,\"showlegend\":false,\"x\":[1.6282657754776664,1.0346681174327002],\"y\":[1.1126621121798423,0.03952407313049552],\"z\":[0.6128560391165019,0.0232836223241101],\"type\":\"scatter3d\"},{\"hoverinfo\":\"none\",\"legendgroup\":\"Bond importance\",\"line\":{\"color\":\"red\",\"width\":6.185000242073066},\"mode\":\"lines\",\"opacity\":0.41233334947153777,\"showlegend\":false,\"x\":[1.0346681174327002,-0.3857166747342974],\"y\":[0.03952407313049552,-0.02844395821264261],\"z\":[0.0232836223241101,-0.05000482238521825],\"type\":\"scatter3d\"},{\"hoverinfo\":\"none\",\"legendgroup\":\"Bond importance\",\"line\":{\"color\":\"red\",\"width\":5.3645130644657915},\"mode\":\"lines\",\"opacity\":0.3576342042977194,\"showlegend\":false,\"x\":[-0.3857166747342974,-1.1564347701962971],\"y\":[-0.02844395821264261,0.9511553586380149],\"z\":[-0.05000482238521825,0.6039418469884635],\"type\":\"scatter3d\"},{\"hoverinfo\":\"none\",\"legendgroup\":\"Bond importance\",\"line\":{\"color\":\"red\",\"width\":4.0695421654252915},\"mode\":\"lines\",\"opacity\":0.27130281102835274,\"showlegend\":false,\"x\":[-1.1564347701962971,-2.532504823788183],\"y\":[0.9511553586380149,0.9464235111743364],\"z\":[0.6039418469884635,0.5383640665997377],\"type\":\"scatter3d\"},{\"hoverinfo\":\"none\",\"legendgroup\":\"Bond importance\",\"line\":{\"color\":\"red\",\"width\":4.442014606484229},\"mode\":\"lines\",\"opacity\":0.2961343070989486,\"showlegend\":false,\"x\":[-2.532504823788183,-3.228133368586467],\"y\":[0.9464235111743364,-0.009542887471011209],\"z\":[0.5383640665997377,-0.1654667946544038],\"type\":\"scatter3d\"},{\"hoverinfo\":\"none\",\"legendgroup\":\"Bond importance\",\"line\":{\"color\":\"red\",\"width\":6.8438301235712995},\"mode\":\"lines\",\"opacity\":0.45625534157141995,\"showlegend\":false,\"x\":[-3.228133368586467,-4.705521816077048],\"y\":[-0.009542887471011209,0.08165674212094347],\"z\":[-0.1654667946544038,-0.1674508505243837],\"type\":\"scatter3d\"},{\"hoverinfo\":\"none\",\"legendgroup\":\"Bond importance\",\"line\":{\"color\":\"blue\",\"width\":8.462042106520157},\"mode\":\"lines\",\"opacity\":0.5641361404346771,\"showlegend\":false,\"x\":[-4.705521816077048,-5.355794625788844],\"y\":[0.08165674212094347,-1.0100433839689666],\"z\":[-0.1674508505243837,-0.9647829799363193],\"type\":\"scatter3d\"},{\"hoverinfo\":\"none\",\"legendgroup\":\"Bond importance\",\"line\":{\"color\":\"red\",\"width\":6.50458610924522},\"mode\":\"lines\",\"opacity\":0.4336390739496813,\"showlegend\":false,\"x\":[-4.705521816077048,-5.202693126671225],\"y\":[0.08165674212094347,1.4105708994097543],\"z\":[-0.1674508505243837,-0.6688192205135682],\"type\":\"scatter3d\"},{\"hoverinfo\":\"none\",\"legendgroup\":\"Bond importance\",\"line\":{\"color\":\"blue\",\"width\":8.549912032602593},\"mode\":\"lines\",\"opacity\":0.5699941355068395,\"showlegend\":false,\"x\":[-4.705521816077048,-5.167350042769946],\"y\":[0.08165674212094347,-0.0626676211463042],\"z\":[-0.1674508505243837,1.2773175707174984],\"type\":\"scatter3d\"},{\"hoverinfo\":\"none\",\"legendgroup\":\"Bond importance\",\"line\":{\"color\":\"red\",\"width\":4.754620685629225},\"mode\":\"lines\",\"opacity\":0.31697471237528163,\"showlegend\":false,\"x\":[-3.228133368586467,-2.511637612498159],\"y\":[-0.009542887471011209,-0.9621428425051046],\"z\":[-0.1654667946544038,-0.8036807874705606],\"type\":\"scatter3d\"},{\"hoverinfo\":\"none\",\"legendgroup\":\"Bond importance\",\"line\":{\"color\":\"red\",\"width\":4.462222609674341},\"mode\":\"lines\",\"opacity\":0.2974815073116227,\"showlegend\":false,\"x\":[-2.511637612498159,-1.1086524121338908],\"y\":[-0.9621428425051046,-0.9550742061682901],\"z\":[-0.8036807874705606,-0.7357463832172834],\"type\":\"scatter3d\"},{\"hoverinfo\":\"none\",\"legendgroup\":\"Bond importance\",\"line\":{\"color\":\"blue\",\"width\":11.121554625164054},\"mode\":\"lines\",\"opacity\":0.7414369750109369,\"showlegend\":false,\"x\":[3.895529190189886,2.9614580682445317],\"y\":[0.4404668964367587,1.435334804838669],\"z\":[0.6044567047669017,-0.054278963262156546],\"type\":\"scatter3d\"},{\"hoverinfo\":\"none\",\"legendgroup\":\"Bond importance\",\"line\":{\"color\":\"red\",\"width\":6.234879589011041},\"mode\":\"lines\",\"opacity\":0.41565863926740276,\"showlegend\":false,\"x\":[-0.3857166747342974,-1.1086524121338908],\"y\":[-0.02844395821264261,-0.9550742061682901],\"z\":[-0.05000482238521825,-0.7357463832172834],\"type\":\"scatter3d\"},{\"hoverinfo\":\"none\",\"legendgroup\":\"Bond importance\",\"line\":{\"color\":\"blue\",\"width\":8.936789694500748},\"mode\":\"lines\",\"opacity\":0.5957859796333832,\"showlegend\":false,\"x\":[2.047113645711845,1.0346681174327002],\"y\":[-0.908648768917193,0.03952407313049552],\"z\":[-0.4602407189945858,0.0232836223241101],\"type\":\"scatter3d\"},{\"hoverinfo\":\"none\",\"legendgroup\":\"Bond importance\",\"line\":{\"color\":\"red\",\"width\":6.262416573614964},\"mode\":\"lines\",\"opacity\":0.41749443824099763,\"showlegend\":false,\"x\":[5.601263705829531,5.210819333706811],\"y\":[0.31613445116843986,0.954044661709793],\"z\":[-0.9995214985468471,-1.7864950905951507],\"type\":\"scatter3d\"},{\"hoverinfo\":\"none\",\"legendgroup\":\"Bond importance\",\"line\":{\"color\":\"blue\",\"width\":11.40825717928407},\"mode\":\"lines\",\"opacity\":0.760550478618938,\"showlegend\":false,\"x\":[5.601263705829531,6.7235437023546725],\"y\":[0.31613445116843986,0.45399810577373423],\"z\":[-0.9995214985468471,-1.0213396507918342],\"type\":\"scatter3d\"},{\"hoverinfo\":\"none\",\"legendgroup\":\"Bond importance\",\"line\":{\"color\":\"blue\",\"width\":8.481953595000732},\"mode\":\"lines\",\"opacity\":0.5654635730000488,\"showlegend\":false,\"x\":[5.601263705829531,5.4760815495091295],\"y\":[0.31613445116843986,-0.7816423298276697],\"z\":[-0.9995214985468471,-1.230083224784013],\"type\":\"scatter3d\"},{\"hoverinfo\":\"none\",\"legendgroup\":\"Bond importance\",\"line\":{\"color\":\"red\",\"width\":6.322665586710092},\"mode\":\"lines\",\"opacity\":0.4215110391140061,\"showlegend\":false,\"x\":[3.8392808386029547,2.814739332063883],\"y\":[0.771000400501267,0.8769745216486098],\"z\":[2.116724468721402,2.4645634355618276],\"type\":\"scatter3d\"},{\"hoverinfo\":\"none\",\"legendgroup\":\"Bond importance\",\"line\":{\"color\":\"blue\",\"width\":10.693096610915449},\"mode\":\"lines\",\"opacity\":0.7128731073943633,\"showlegend\":false,\"x\":[3.8392808386029547,4.39680983229203],\"y\":[0.771000400501267,1.7074152878151518],\"z\":[2.116724468721402,2.323698433954975],\"type\":\"scatter3d\"},{\"hoverinfo\":\"none\",\"legendgroup\":\"Bond importance\",\"line\":{\"color\":\"blue\",\"width\":8.869345751978756},\"mode\":\"lines\",\"opacity\":0.5912897167985837,\"showlegend\":false,\"x\":[3.8392808386029547,4.384049485010372],\"y\":[0.771000400501267,-0.038095867636006336],\"z\":[2.116724468721402,2.678874774627517],\"type\":\"scatter3d\"},{\"hoverinfo\":\"none\",\"legendgroup\":\"Bond importance\",\"line\":{\"color\":\"blue\",\"width\":9.59350064192876},\"mode\":\"lines\",\"opacity\":0.6395667094619173,\"showlegend\":false,\"x\":[3.2735806456897274,4.011054534871829],\"y\":[-0.9163733540345974,-1.57357995778909],\"z\":[0.4930519658342686,-0.05278043649875221],\"type\":\"scatter3d\"},{\"hoverinfo\":\"none\",\"legendgroup\":\"Bond importance\",\"line\":{\"color\":\"blue\",\"width\":13.28729520360771},\"mode\":\"lines\",\"opacity\":0.885819680240514,\"showlegend\":false,\"x\":[3.2735806456897274,3.0054321481784876],\"y\":[-0.9163733540345974,-1.3911961784230706],\"z\":[0.4930519658342686,1.443053753155655],\"type\":\"scatter3d\"},{\"hoverinfo\":\"none\",\"legendgroup\":\"Bond importance\",\"line\":{\"color\":\"blue\",\"width\":9.485756743836799},\"mode\":\"lines\",\"opacity\":0.6323837829224532,\"showlegend\":false,\"x\":[1.6413184507095209,2.5989495650168326],\"y\":[-2.3066305420157436,-2.9343747854786324],\"z\":[-0.729246802624404,-0.5623313591805277],\"type\":\"scatter3d\"},{\"hoverinfo\":\"none\",\"legendgroup\":\"Bond importance\",\"line\":{\"color\":\"blue\",\"width\":12.100351616045018},\"mode\":\"lines\",\"opacity\":0.8066901077363345,\"showlegend\":false,\"x\":[1.6413184507095209,1.4282403559181776],\"y\":[-2.3066305420157436,-2.542553264458313],\"z\":[-0.729246802624404,-1.801599855735794],\"type\":\"scatter3d\"},{\"hoverinfo\":\"none\",\"legendgroup\":\"Bond importance\",\"line\":{\"color\":\"blue\",\"width\":9.586451709194868},\"mode\":\"lines\",\"opacity\":0.6390967806129912,\"showlegend\":false,\"x\":[1.6413184507095209,0.9464870828575369],\"y\":[-2.3066305420157436,-2.7564977228529473],\"z\":[-0.729246802624404,-0.010776014941090071],\"type\":\"scatter3d\"},{\"hoverinfo\":\"none\",\"legendgroup\":\"Bond importance\",\"line\":{\"color\":\"blue\",\"width\":11.128654049516214},\"mode\":\"lines\",\"opacity\":0.7419102699677476,\"showlegend\":false,\"x\":[2.5978420363307504,2.8200703133007163],\"y\":[-0.232785745108128,-0.7397655235531555],\"z\":[-1.7092640328250972,-2.6100603021155413],\"type\":\"scatter3d\"},{\"hoverinfo\":\"none\",\"legendgroup\":\"Bond importance\",\"line\":{\"color\":\"blue\",\"width\":12.611496374106325},\"mode\":\"lines\",\"opacity\":0.8407664249404216,\"showlegend\":false,\"x\":[2.7543841191948104,2.7353921628282953],\"y\":[1.091994757810045,1.837808371324314],\"z\":[-1.4900478182142374,-2.2594285472994136],\"type\":\"scatter3d\"},{\"hoverinfo\":\"none\",\"legendgroup\":\"Bond importance\",\"line\":{\"color\":\"blue\",\"width\":8.588523925725298},\"mode\":\"lines\",\"opacity\":0.5725682617150198,\"showlegend\":false,\"x\":[2.9614580682445317,3.1678341974142814],\"y\":[1.435334804838669,2.475587267725683],\"z\":[-0.054278963262156546,0.15334422749506005],\"type\":\"scatter3d\"},{\"hoverinfo\":\"none\",\"legendgroup\":\"Bond importance\",\"line\":{\"color\":\"blue\",\"width\":10.538523009158373},\"mode\":\"lines\",\"opacity\":0.7025682006105582,\"showlegend\":false,\"x\":[1.6282657754776664,1.2414652502047856],\"y\":[1.1126621121798423,1.653740706665476],\"z\":[0.6128560391165019,1.4238663244831864],\"type\":\"scatter3d\"},{\"hoverinfo\":\"none\",\"legendgroup\":\"Bond importance\",\"line\":{\"color\":\"blue\",\"width\":7.5},\"mode\":\"lines\",\"opacity\":0.5,\"showlegend\":false,\"x\":[-1.1564347701962971,-0.6589239360778923],\"y\":[0.9511553586380149,1.7136837689262383],\"z\":[0.6039418469884635,1.1599173999691368],\"type\":\"scatter3d\"},{\"hoverinfo\":\"none\",\"legendgroup\":\"Bond importance\",\"line\":{\"color\":\"blue\",\"width\":10.845777565590387},\"mode\":\"lines\",\"opacity\":0.7230518377060258,\"showlegend\":false,\"x\":[-2.532504823788183,-3.0812470676470656],\"y\":[0.9464235111743364,1.734233445444787],\"z\":[0.5383640665997377,1.0676387140836023],\"type\":\"scatter3d\"},{\"hoverinfo\":\"none\",\"legendgroup\":\"Bond importance\",\"line\":{\"color\":\"blue\",\"width\":9.833327501059568},\"mode\":\"lines\",\"opacity\":0.6555551667373045,\"showlegend\":false,\"x\":[-5.355794625788844,-4.9257371380490085],\"y\":[-1.0100433839689666,-1.1343982002244748],\"z\":[-0.9647829799363193,-1.9762049797150885],\"type\":\"scatter3d\"},{\"hoverinfo\":\"none\",\"legendgroup\":\"Bond importance\",\"line\":{\"color\":\"blue\",\"width\":8.158048328657724},\"mode\":\"lines\",\"opacity\":0.5438698885771815,\"showlegend\":false,\"x\":[-5.355794625788844,-5.37444995437238],\"y\":[-1.0100433839689666,-1.9473663089519009],\"z\":[-0.9647829799363193,-0.38413081503547375],\"type\":\"scatter3d\"},{\"hoverinfo\":\"none\",\"legendgroup\":\"Bond importance\",\"line\":{\"color\":\"blue\",\"width\":9.626960665576236},\"mode\":\"lines\",\"opacity\":0.6417973777050824,\"showlegend\":false,\"x\":[-5.355794625788844,-6.427062584371248],\"y\":[-1.0100433839689666,-0.7143025331305239],\"z\":[-0.9647829799363193,-1.1192050967650502],\"type\":\"scatter3d\"},{\"hoverinfo\":\"none\",\"legendgroup\":\"Bond importance\",\"line\":{\"color\":\"blue\",\"width\":7.808065287581707},\"mode\":\"lines\",\"opacity\":0.5205376858387805,\"showlegend\":false,\"x\":[-5.202693126671225,-6.296480753180355],\"y\":[1.4105708994097543,1.304023614407801],\"z\":[-0.6688192205135682,-0.8564368489920071],\"type\":\"scatter3d\"},{\"hoverinfo\":\"none\",\"legendgroup\":\"Bond importance\",\"line\":{\"color\":\"blue\",\"width\":9.903849045457708},\"mode\":\"lines\",\"opacity\":0.6602566030305139,\"showlegend\":false,\"x\":[-5.202693126671225,-4.717726170617384],\"y\":[1.4105708994097543,1.6961015523356555],\"z\":[-0.6688192205135682,-1.633281567380559],\"type\":\"scatter3d\"},{\"hoverinfo\":\"none\",\"legendgroup\":\"Bond importance\",\"line\":{\"color\":\"red\",\"width\":7.481434304513943},\"mode\":\"lines\",\"opacity\":0.4987622869675962,\"showlegend\":false,\"x\":[-5.202693126671225,-5.079334535648077],\"y\":[1.4105708994097543,2.1945289894390543],\"z\":[-0.6688192205135682,0.10856036854805327],\"type\":\"scatter3d\"},{\"hoverinfo\":\"none\",\"legendgroup\":\"Bond importance\",\"line\":{\"color\":\"blue\",\"width\":8.071422397443552},\"mode\":\"lines\",\"opacity\":0.5380948264962367,\"showlegend\":false,\"x\":[-5.167350042769946,-5.1262871988413075],\"y\":[-0.0626676211463042,0.9104547403127184],\"z\":[1.2773175707174984,1.7855101970853948],\"type\":\"scatter3d\"},{\"hoverinfo\":\"none\",\"legendgroup\":\"Bond importance\",\"line\":{\"color\":\"blue\",\"width\":8.1432168731809},\"mode\":\"lines\",\"opacity\":0.5428811248787268,\"showlegend\":false,\"x\":[-5.167350042769946,-4.560840731168126],\"y\":[-0.0626676211463042,-0.8319774623775728],\"z\":[1.2773175707174984,1.8032622573806332],\"type\":\"scatter3d\"},{\"hoverinfo\":\"none\",\"legendgroup\":\"Bond importance\",\"line\":{\"color\":\"blue\",\"width\":9.810977946666606},\"mode\":\"lines\",\"opacity\":0.6540651964444404,\"showlegend\":false,\"x\":[-5.167350042769946,-6.2131440978978905],\"y\":[-0.0626676211463042,-0.41503534873507575],\"z\":[1.2773175707174984,1.29286880770081],\"type\":\"scatter3d\"},{\"hoverinfo\":\"none\",\"legendgroup\":\"Bond importance\",\"line\":{\"color\":\"blue\",\"width\":7.644624171597748},\"mode\":\"lines\",\"opacity\":0.5096416114398499,\"showlegend\":false,\"x\":[-2.511637612498159,-2.9944924895046756],\"y\":[-0.9621428425051046,-1.7206370874097625],\"z\":[-0.8036807874705606,-1.3590566239273276],\"type\":\"scatter3d\"},{\"hoverinfo\":\"none\",\"legendgroup\":\"Bond importance\",\"line\":{\"color\":\"blue\",\"width\":9.226892462706768},\"mode\":\"lines\",\"opacity\":0.6151261641804512,\"showlegend\":false,\"x\":[-1.1086524121338908,-0.6279136675025533],\"y\":[-0.9550742061682901,-1.7318935299921363],\"z\":[-0.7357463832172834,-1.2892595651779628],\"type\":\"scatter3d\"},{\"legendgroup\":\"Atoms\",\"mode\":\"markers\",\"name\":\"Atoms\",\"x\":[null],\"y\":[null],\"z\":[null],\"type\":\"scatter3d\"},{\"legendgroup\":\"Atom importance\",\"mode\":\"markers\",\"name\":\"Atom importance\",\"x\":[null],\"y\":[null],\"z\":[null],\"type\":\"scatter3d\"},{\"legendgroup\":\"Bonds\",\"mode\":\"markers\",\"name\":\"Bonds\",\"x\":[null],\"y\":[null],\"z\":[null],\"type\":\"scatter3d\"},{\"legendgroup\":\"Bond importance\",\"mode\":\"markers\",\"name\":\"Bond importance\",\"showlegend\":true,\"x\":[null],\"y\":[null],\"z\":[null],\"type\":\"scatter3d\"}],                        {\"template\":{\"data\":{\"barpolar\":[{\"marker\":{\"line\":{\"color\":\"white\",\"width\":0.5},\"pattern\":{\"fillmode\":\"overlay\",\"size\":10,\"solidity\":0.2}},\"type\":\"barpolar\"}],\"bar\":[{\"error_x\":{\"color\":\"#2a3f5f\"},\"error_y\":{\"color\":\"#2a3f5f\"},\"marker\":{\"line\":{\"color\":\"white\",\"width\":0.5},\"pattern\":{\"fillmode\":\"overlay\",\"size\":10,\"solidity\":0.2}},\"type\":\"bar\"}],\"carpet\":[{\"aaxis\":{\"endlinecolor\":\"#2a3f5f\",\"gridcolor\":\"#C8D4E3\",\"linecolor\":\"#C8D4E3\",\"minorgridcolor\":\"#C8D4E3\",\"startlinecolor\":\"#2a3f5f\"},\"baxis\":{\"endlinecolor\":\"#2a3f5f\",\"gridcolor\":\"#C8D4E3\",\"linecolor\":\"#C8D4E3\",\"minorgridcolor\":\"#C8D4E3\",\"startlinecolor\":\"#2a3f5f\"},\"type\":\"carpet\"}],\"choropleth\":[{\"colorbar\":{\"outlinewidth\":0,\"ticks\":\"\"},\"type\":\"choropleth\"}],\"contourcarpet\":[{\"colorbar\":{\"outlinewidth\":0,\"ticks\":\"\"},\"type\":\"contourcarpet\"}],\"contour\":[{\"colorbar\":{\"outlinewidth\":0,\"ticks\":\"\"},\"colorscale\":[[0.0,\"#0d0887\"],[0.1111111111111111,\"#46039f\"],[0.2222222222222222,\"#7201a8\"],[0.3333333333333333,\"#9c179e\"],[0.4444444444444444,\"#bd3786\"],[0.5555555555555556,\"#d8576b\"],[0.6666666666666666,\"#ed7953\"],[0.7777777777777778,\"#fb9f3a\"],[0.8888888888888888,\"#fdca26\"],[1.0,\"#f0f921\"]],\"type\":\"contour\"}],\"heatmapgl\":[{\"colorbar\":{\"outlinewidth\":0,\"ticks\":\"\"},\"colorscale\":[[0.0,\"#0d0887\"],[0.1111111111111111,\"#46039f\"],[0.2222222222222222,\"#7201a8\"],[0.3333333333333333,\"#9c179e\"],[0.4444444444444444,\"#bd3786\"],[0.5555555555555556,\"#d8576b\"],[0.6666666666666666,\"#ed7953\"],[0.7777777777777778,\"#fb9f3a\"],[0.8888888888888888,\"#fdca26\"],[1.0,\"#f0f921\"]],\"type\":\"heatmapgl\"}],\"heatmap\":[{\"colorbar\":{\"outlinewidth\":0,\"ticks\":\"\"},\"colorscale\":[[0.0,\"#0d0887\"],[0.1111111111111111,\"#46039f\"],[0.2222222222222222,\"#7201a8\"],[0.3333333333333333,\"#9c179e\"],[0.4444444444444444,\"#bd3786\"],[0.5555555555555556,\"#d8576b\"],[0.6666666666666666,\"#ed7953\"],[0.7777777777777778,\"#fb9f3a\"],[0.8888888888888888,\"#fdca26\"],[1.0,\"#f0f921\"]],\"type\":\"heatmap\"}],\"histogram2dcontour\":[{\"colorbar\":{\"outlinewidth\":0,\"ticks\":\"\"},\"colorscale\":[[0.0,\"#0d0887\"],[0.1111111111111111,\"#46039f\"],[0.2222222222222222,\"#7201a8\"],[0.3333333333333333,\"#9c179e\"],[0.4444444444444444,\"#bd3786\"],[0.5555555555555556,\"#d8576b\"],[0.6666666666666666,\"#ed7953\"],[0.7777777777777778,\"#fb9f3a\"],[0.8888888888888888,\"#fdca26\"],[1.0,\"#f0f921\"]],\"type\":\"histogram2dcontour\"}],\"histogram2d\":[{\"colorbar\":{\"outlinewidth\":0,\"ticks\":\"\"},\"colorscale\":[[0.0,\"#0d0887\"],[0.1111111111111111,\"#46039f\"],[0.2222222222222222,\"#7201a8\"],[0.3333333333333333,\"#9c179e\"],[0.4444444444444444,\"#bd3786\"],[0.5555555555555556,\"#d8576b\"],[0.6666666666666666,\"#ed7953\"],[0.7777777777777778,\"#fb9f3a\"],[0.8888888888888888,\"#fdca26\"],[1.0,\"#f0f921\"]],\"type\":\"histogram2d\"}],\"histogram\":[{\"marker\":{\"pattern\":{\"fillmode\":\"overlay\",\"size\":10,\"solidity\":0.2}},\"type\":\"histogram\"}],\"mesh3d\":[{\"colorbar\":{\"outlinewidth\":0,\"ticks\":\"\"},\"type\":\"mesh3d\"}],\"parcoords\":[{\"line\":{\"colorbar\":{\"outlinewidth\":0,\"ticks\":\"\"}},\"type\":\"parcoords\"}],\"pie\":[{\"automargin\":true,\"type\":\"pie\"}],\"scatter3d\":[{\"line\":{\"colorbar\":{\"outlinewidth\":0,\"ticks\":\"\"}},\"marker\":{\"colorbar\":{\"outlinewidth\":0,\"ticks\":\"\"}},\"type\":\"scatter3d\"}],\"scattercarpet\":[{\"marker\":{\"colorbar\":{\"outlinewidth\":0,\"ticks\":\"\"}},\"type\":\"scattercarpet\"}],\"scattergeo\":[{\"marker\":{\"colorbar\":{\"outlinewidth\":0,\"ticks\":\"\"}},\"type\":\"scattergeo\"}],\"scattergl\":[{\"marker\":{\"colorbar\":{\"outlinewidth\":0,\"ticks\":\"\"}},\"type\":\"scattergl\"}],\"scattermapbox\":[{\"marker\":{\"colorbar\":{\"outlinewidth\":0,\"ticks\":\"\"}},\"type\":\"scattermapbox\"}],\"scatterpolargl\":[{\"marker\":{\"colorbar\":{\"outlinewidth\":0,\"ticks\":\"\"}},\"type\":\"scatterpolargl\"}],\"scatterpolar\":[{\"marker\":{\"colorbar\":{\"outlinewidth\":0,\"ticks\":\"\"}},\"type\":\"scatterpolar\"}],\"scatter\":[{\"fillpattern\":{\"fillmode\":\"overlay\",\"size\":10,\"solidity\":0.2},\"type\":\"scatter\"}],\"scatterternary\":[{\"marker\":{\"colorbar\":{\"outlinewidth\":0,\"ticks\":\"\"}},\"type\":\"scatterternary\"}],\"surface\":[{\"colorbar\":{\"outlinewidth\":0,\"ticks\":\"\"},\"colorscale\":[[0.0,\"#0d0887\"],[0.1111111111111111,\"#46039f\"],[0.2222222222222222,\"#7201a8\"],[0.3333333333333333,\"#9c179e\"],[0.4444444444444444,\"#bd3786\"],[0.5555555555555556,\"#d8576b\"],[0.6666666666666666,\"#ed7953\"],[0.7777777777777778,\"#fb9f3a\"],[0.8888888888888888,\"#fdca26\"],[1.0,\"#f0f921\"]],\"type\":\"surface\"}],\"table\":[{\"cells\":{\"fill\":{\"color\":\"#EBF0F8\"},\"line\":{\"color\":\"white\"}},\"header\":{\"fill\":{\"color\":\"#C8D4E3\"},\"line\":{\"color\":\"white\"}},\"type\":\"table\"}]},\"layout\":{\"annotationdefaults\":{\"arrowcolor\":\"#2a3f5f\",\"arrowhead\":0,\"arrowwidth\":1},\"autotypenumbers\":\"strict\",\"coloraxis\":{\"colorbar\":{\"outlinewidth\":0,\"ticks\":\"\"}},\"colorscale\":{\"diverging\":[[0,\"#8e0152\"],[0.1,\"#c51b7d\"],[0.2,\"#de77ae\"],[0.3,\"#f1b6da\"],[0.4,\"#fde0ef\"],[0.5,\"#f7f7f7\"],[0.6,\"#e6f5d0\"],[0.7,\"#b8e186\"],[0.8,\"#7fbc41\"],[0.9,\"#4d9221\"],[1,\"#276419\"]],\"sequential\":[[0.0,\"#0d0887\"],[0.1111111111111111,\"#46039f\"],[0.2222222222222222,\"#7201a8\"],[0.3333333333333333,\"#9c179e\"],[0.4444444444444444,\"#bd3786\"],[0.5555555555555556,\"#d8576b\"],[0.6666666666666666,\"#ed7953\"],[0.7777777777777778,\"#fb9f3a\"],[0.8888888888888888,\"#fdca26\"],[1.0,\"#f0f921\"]],\"sequentialminus\":[[0.0,\"#0d0887\"],[0.1111111111111111,\"#46039f\"],[0.2222222222222222,\"#7201a8\"],[0.3333333333333333,\"#9c179e\"],[0.4444444444444444,\"#bd3786\"],[0.5555555555555556,\"#d8576b\"],[0.6666666666666666,\"#ed7953\"],[0.7777777777777778,\"#fb9f3a\"],[0.8888888888888888,\"#fdca26\"],[1.0,\"#f0f921\"]]},\"colorway\":[\"#636efa\",\"#EF553B\",\"#00cc96\",\"#ab63fa\",\"#FFA15A\",\"#19d3f3\",\"#FF6692\",\"#B6E880\",\"#FF97FF\",\"#FECB52\"],\"font\":{\"color\":\"#2a3f5f\"},\"geo\":{\"bgcolor\":\"white\",\"lakecolor\":\"white\",\"landcolor\":\"white\",\"showlakes\":true,\"showland\":true,\"subunitcolor\":\"#C8D4E3\"},\"hoverlabel\":{\"align\":\"left\"},\"hovermode\":\"closest\",\"mapbox\":{\"style\":\"light\"},\"paper_bgcolor\":\"white\",\"plot_bgcolor\":\"white\",\"polar\":{\"angularaxis\":{\"gridcolor\":\"#EBF0F8\",\"linecolor\":\"#EBF0F8\",\"ticks\":\"\"},\"bgcolor\":\"white\",\"radialaxis\":{\"gridcolor\":\"#EBF0F8\",\"linecolor\":\"#EBF0F8\",\"ticks\":\"\"}},\"scene\":{\"xaxis\":{\"backgroundcolor\":\"white\",\"gridcolor\":\"#DFE8F3\",\"gridwidth\":2,\"linecolor\":\"#EBF0F8\",\"showbackground\":true,\"ticks\":\"\",\"zerolinecolor\":\"#EBF0F8\"},\"yaxis\":{\"backgroundcolor\":\"white\",\"gridcolor\":\"#DFE8F3\",\"gridwidth\":2,\"linecolor\":\"#EBF0F8\",\"showbackground\":true,\"ticks\":\"\",\"zerolinecolor\":\"#EBF0F8\"},\"zaxis\":{\"backgroundcolor\":\"white\",\"gridcolor\":\"#DFE8F3\",\"gridwidth\":2,\"linecolor\":\"#EBF0F8\",\"showbackground\":true,\"ticks\":\"\",\"zerolinecolor\":\"#EBF0F8\"}},\"shapedefaults\":{\"line\":{\"color\":\"#2a3f5f\"}},\"ternary\":{\"aaxis\":{\"gridcolor\":\"#DFE8F3\",\"linecolor\":\"#A2B1C6\",\"ticks\":\"\"},\"baxis\":{\"gridcolor\":\"#DFE8F3\",\"linecolor\":\"#A2B1C6\",\"ticks\":\"\"},\"bgcolor\":\"white\",\"caxis\":{\"gridcolor\":\"#DFE8F3\",\"linecolor\":\"#A2B1C6\",\"ticks\":\"\"}},\"title\":{\"x\":0.05},\"xaxis\":{\"automargin\":true,\"gridcolor\":\"#EBF0F8\",\"linecolor\":\"#EBF0F8\",\"ticks\":\"\",\"title\":{\"standoff\":15},\"zerolinecolor\":\"#EBF0F8\",\"zerolinewidth\":2},\"yaxis\":{\"automargin\":true,\"gridcolor\":\"#EBF0F8\",\"linecolor\":\"#EBF0F8\",\"ticks\":\"\",\"title\":{\"standoff\":15},\"zerolinecolor\":\"#EBF0F8\",\"zerolinewidth\":2}}},\"scene\":{\"xaxis\":{\"showgrid\":false,\"zeroline\":false,\"showticklabels\":false,\"title\":{\"text\":\"\"}},\"yaxis\":{\"showgrid\":false,\"zeroline\":false,\"showticklabels\":false,\"title\":{\"text\":\"\"}},\"zaxis\":{\"showgrid\":false,\"zeroline\":false,\"showticklabels\":false,\"title\":{\"text\":\"\"}}}},                        {\"responsive\": true}                    ).then(function(){\n",
       "                            \n",
       "var gd = document.getElementById('ac0d4708-0ee1-4e6e-b114-8b6576241e19');\n",
       "var x = new MutationObserver(function (mutations, observer) {{\n",
       "        var display = window.getComputedStyle(gd).display;\n",
       "        if (!display || display === 'none') {{\n",
       "            console.log([gd, 'removed!']);\n",
       "            Plotly.purge(gd);\n",
       "            observer.disconnect();\n",
       "        }}\n",
       "}});\n",
       "\n",
       "// Listen for the removal of the full notebook cells\n",
       "var notebookContainer = gd.closest('#notebook-container');\n",
       "if (notebookContainer) {{\n",
       "    x.observe(notebookContainer, {childList: true});\n",
       "}}\n",
       "\n",
       "// Listen for the clearing of the current output cell\n",
       "var outputEl = gd.closest('.output');\n",
       "if (outputEl) {{\n",
       "    x.observe(outputEl, {childList: true});\n",
       "}}\n",
       "\n",
       "                        })                };                });            </script>        </div>"
      ]
     },
     "metadata": {},
     "output_type": "display_data"
    }
   ],
   "source": [
    "main(mol_graph=mol, mol='l', explanation=explanation, palette='normal')"
   ]
  },
  {
   "cell_type": "code",
   "execution_count": null,
   "metadata": {},
   "outputs": [],
   "source": []
  }
 ],
 "metadata": {
  "kernelspec": {
   "display_name": "Python 3 (ipykernel)",
   "language": "python",
   "name": "python3"
  },
  "language_info": {
   "codemirror_mode": {
    "name": "ipython",
    "version": 3
   },
   "file_extension": ".py",
   "mimetype": "text/x-python",
   "name": "python",
   "nbconvert_exporter": "python",
   "pygments_lexer": "ipython3",
   "version": "3.8.16"
  },
  "vscode": {
   "interpreter": {
    "hash": "a8c1d358141dd5f5aee27d895a71e983bd947816167b1f58ab3ec2e331871cfe"
   }
  }
 },
 "nbformat": 4,
 "nbformat_minor": 2
}
