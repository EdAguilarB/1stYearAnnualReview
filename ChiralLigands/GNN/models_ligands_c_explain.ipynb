{
 "cells": [
  {
   "cell_type": "code",
   "execution_count": 1,
   "metadata": {},
   "outputs": [],
   "source": [
    "import torch\n",
    "import pandas as pd\n",
    "import numpy as np\n",
    "import matplotlib.pyplot as plt\n",
    "from rdkit import Chem\n",
    "from torch_geometric.loader import DataLoader\n",
    "from dataset_copy import *\n",
    "from model import *\n",
    "from sklearn.model_selection import StratifiedKFold, StratifiedGroupKFold\n",
    "from sklearn.metrics import confusion_matrix, f1_score, \\\n",
    "    accuracy_score, precision_score, recall_score, roc_auc_score\n",
    "import os"
   ]
  },
  {
   "cell_type": "code",
   "execution_count": 2,
   "metadata": {},
   "outputs": [],
   "source": [
    "import warnings\n",
    "warnings.filterwarnings('ignore')"
   ]
  },
  {
   "cell_type": "code",
   "execution_count": 3,
   "metadata": {},
   "outputs": [],
   "source": [
    "device = 'cpu'"
   ]
  },
  {
   "cell_type": "code",
   "execution_count": 4,
   "metadata": {},
   "outputs": [
    {
     "name": "stdout",
     "output_type": "stream",
     "text": [
      "Dataset type:  <class 'dataset_copy.ChiralLigands'>\n",
      "Dataset node features:  7\n",
      "Dataset length:  <bound method ChiralLigands.len of ChiralLigands(686)>\n",
      "Dataset sample:  Data(x=[92, 7], edge_index=[2, 196], edge_attr=[196, 2], y=[1], category=[1], ligand='C1=C(Cc2ccccc2)[C@H]2C=C(Cc3ccccc3)[C@@H]1C2', substrate='O=C1C=CCC1', boron='c1ccc(B2OB(c3ccccc3)OB(c3ccccc3)O2)cc1', ligand_num=1, ligand_id='L3.1', ligand_fam='fam1', idx=0)\n",
      "Sample features:  tensor([[6., 3., 3., 0., 1., 0., 1.],\n",
      "        [6., 3., 3., 0., 1., 0., 1.],\n",
      "        [6., 4., 4., 0., 0., 0., 1.],\n",
      "        [6., 3., 3., 1., 1., 0., 1.],\n",
      "        [6., 3., 3., 1., 1., 0., 1.],\n",
      "        [6., 3., 3., 1., 1., 0., 1.],\n",
      "        [6., 3., 3., 1., 1., 0., 1.],\n",
      "        [6., 3., 3., 1., 1., 0., 1.],\n",
      "        [6., 3., 3., 1., 1., 0., 1.],\n",
      "        [6., 4., 4., 0., 1., 1., 1.],\n",
      "        [6., 3., 3., 0., 1., 0., 1.],\n",
      "        [6., 3., 3., 0., 1., 0., 1.],\n",
      "        [6., 4., 4., 0., 0., 0., 1.],\n",
      "        [6., 3., 3., 1., 1., 0., 1.],\n",
      "        [6., 3., 3., 1., 1., 0., 1.],\n",
      "        [6., 3., 3., 1., 1., 0., 1.],\n",
      "        [6., 3., 3., 1., 1., 0., 1.],\n",
      "        [6., 3., 3., 1., 1., 0., 1.],\n",
      "        [6., 3., 3., 1., 1., 0., 1.],\n",
      "        [6., 4., 4., 0., 1., 2., 1.],\n",
      "        [6., 4., 4., 0., 1., 0., 1.],\n",
      "        [1., 1., 0., 0., 0., 0., 1.],\n",
      "        [1., 1., 0., 0., 0., 0., 1.],\n",
      "        [1., 1., 0., 0., 0., 0., 1.],\n",
      "        [1., 1., 0., 0., 0., 0., 1.],\n",
      "        [1., 1., 0., 0., 0., 0., 1.],\n",
      "        [1., 1., 0., 0., 0., 0., 1.],\n",
      "        [1., 1., 0., 0., 0., 0., 1.],\n",
      "        [1., 1., 0., 0., 0., 0., 1.],\n",
      "        [1., 1., 0., 0., 0., 0., 1.],\n",
      "        [1., 1., 0., 0., 0., 0., 1.],\n",
      "        [1., 1., 0., 0., 0., 0., 1.],\n",
      "        [1., 1., 0., 0., 0., 0., 1.],\n",
      "        [1., 1., 0., 0., 0., 0., 1.],\n",
      "        [1., 1., 0., 0., 0., 0., 1.],\n",
      "        [1., 1., 0., 0., 0., 0., 1.],\n",
      "        [1., 1., 0., 0., 0., 0., 1.],\n",
      "        [1., 1., 0., 0., 0., 0., 1.],\n",
      "        [1., 1., 0., 0., 0., 0., 1.],\n",
      "        [1., 1., 0., 0., 0., 0., 1.],\n",
      "        [1., 1., 0., 0., 0., 0., 1.],\n",
      "        [8., 1., 3., 0., 0., 0., 1.],\n",
      "        [6., 3., 3., 0., 1., 0., 1.],\n",
      "        [6., 3., 3., 0., 1., 0., 1.],\n",
      "        [6., 3., 3., 0., 1., 0., 1.],\n",
      "        [6., 4., 4., 0., 1., 0., 1.],\n",
      "        [6., 4., 4., 0., 1., 0., 1.],\n",
      "        [1., 1., 0., 0., 0., 0., 1.],\n",
      "        [1., 1., 0., 0., 0., 0., 1.],\n",
      "        [1., 1., 0., 0., 0., 0., 1.],\n",
      "        [1., 1., 0., 0., 0., 0., 1.],\n",
      "        [1., 1., 0., 0., 0., 0., 1.],\n",
      "        [1., 1., 0., 0., 0., 0., 1.],\n",
      "        [6., 3., 3., 1., 1., 0., 1.],\n",
      "        [6., 3., 3., 1., 1., 0., 1.],\n",
      "        [6., 3., 3., 1., 1., 0., 1.],\n",
      "        [6., 3., 3., 1., 1., 0., 1.],\n",
      "        [5., 3., 3., 0., 1., 0., 1.],\n",
      "        [8., 2., 4., 0., 1., 0., 1.],\n",
      "        [5., 3., 3., 0., 1., 0., 1.],\n",
      "        [6., 3., 3., 1., 1., 0., 1.],\n",
      "        [6., 3., 3., 1., 1., 0., 1.],\n",
      "        [6., 3., 3., 1., 1., 0., 1.],\n",
      "        [6., 3., 3., 1., 1., 0., 1.],\n",
      "        [6., 3., 3., 1., 1., 0., 1.],\n",
      "        [6., 3., 3., 1., 1., 0., 1.],\n",
      "        [8., 2., 4., 0., 1., 0., 1.],\n",
      "        [5., 3., 3., 0., 1., 0., 1.],\n",
      "        [6., 3., 3., 1., 1., 0., 1.],\n",
      "        [6., 3., 3., 1., 1., 0., 1.],\n",
      "        [6., 3., 3., 1., 1., 0., 1.],\n",
      "        [6., 3., 3., 1., 1., 0., 1.],\n",
      "        [6., 3., 3., 1., 1., 0., 1.],\n",
      "        [6., 3., 3., 1., 1., 0., 1.],\n",
      "        [8., 2., 4., 0., 1., 0., 1.],\n",
      "        [6., 3., 3., 1., 1., 0., 1.],\n",
      "        [6., 3., 3., 1., 1., 0., 1.],\n",
      "        [1., 1., 0., 0., 0., 0., 1.],\n",
      "        [1., 1., 0., 0., 0., 0., 1.],\n",
      "        [1., 1., 0., 0., 0., 0., 1.],\n",
      "        [1., 1., 0., 0., 0., 0., 1.],\n",
      "        [1., 1., 0., 0., 0., 0., 1.],\n",
      "        [1., 1., 0., 0., 0., 0., 1.],\n",
      "        [1., 1., 0., 0., 0., 0., 1.],\n",
      "        [1., 1., 0., 0., 0., 0., 1.],\n",
      "        [1., 1., 0., 0., 0., 0., 1.],\n",
      "        [1., 1., 0., 0., 0., 0., 1.],\n",
      "        [1., 1., 0., 0., 0., 0., 1.],\n",
      "        [1., 1., 0., 0., 0., 0., 1.],\n",
      "        [1., 1., 0., 0., 0., 0., 1.],\n",
      "        [1., 1., 0., 0., 0., 0., 1.],\n",
      "        [1., 1., 0., 0., 0., 0., 1.]])\n",
      "Sample outcome:  tensor([6.])\n",
      "Sample cat:  tensor([0])\n"
     ]
    },
    {
     "data": {
      "image/png": "[encoded data removed]",
      "text/plain": [
       "<IPython.core.display.Image object>"
      ]
     },
     "execution_count": 4,
     "metadata": {},
     "output_type": "execute_result"
    }
   ],
   "source": [
    "ligands = ChiralLigands(root = '/Users/ed/Documents/PhD_Documents/Experiments/ChiralLigands/Data_augm_exp/Data/Ligands_augmentation', filename = 'data_aug.csv')\n",
    "\n",
    "print(\"Dataset type: \", type(ligands))\n",
    "print(\"Dataset node features: \", ligands.num_features)\n",
    "print(\"Dataset length: \", ligands.len)\n",
    "print(\"Dataset sample: \", ligands[0])\n",
    "print('Sample features: ',  ligands[0].x)\n",
    "print('Sample outcome: ',  ligands[0].y)\n",
    "print('Sample cat: ',  ligands[0].category)\n",
    "\n",
    "ms = [ligands[0].ligand, ligands[0].substrate, ligands[0].boron]\n",
    "ms = [Chem.MolFromSmiles(mol) for mol in ms]\n",
    "Chem.Draw.MolsToGridImage(ms,molsPerRow=3,subImgSize=(200,200),legends=['Ligand', 'Substrate', 'Boron reagent']) "
   ]
  },
  {
   "cell_type": "code",
   "execution_count": 5,
   "metadata": {},
   "outputs": [
    {
     "data": {
      "text/plain": [
       "GCN_loop(\n",
       "  (initial_conv): GCNConv(7, 64)\n",
       "  (conv_layers): ModuleList(\n",
       "    (0): GCNConv(64, 64)\n",
       "  )\n",
       "  (readout1): Linear(in_features=128, out_features=64, bias=True)\n",
       "  (readout2): Linear(in_features=64, out_features=1, bias=True)\n",
       ")"
      ]
     },
     "execution_count": 5,
     "metadata": {},
     "output_type": "execute_result"
    }
   ],
   "source": [
    "model = GCN_loop(ligands.num_features, embedding_size = 64, gnn_layers=2, improved=False)\n",
    "#model = GAT_loop(data.num_features, embedding_size = 1, gnn_layers=1, nheads=1, concat=False)\n",
    "model.to(device)"
   ]
  },
  {
   "cell_type": "code",
   "execution_count": 6,
   "metadata": {},
   "outputs": [],
   "source": [
    "loss_fn = torch.nn.BCEWithLogitsLoss()\n",
    "optimizer = torch.optim.Adam(model.parameters(), lr=0.001) "
   ]
  },
  {
   "cell_type": "code",
   "execution_count": 7,
   "metadata": {},
   "outputs": [],
   "source": [
    "categories = np.array([ligands[i].category.detach().numpy() for i in range(len(ligands))])\n",
    "x = [ligands[i].x.detach().numpy() for i in range(len(ligands))]\n",
    "groups = [ligands[i].ligand_num for i in range(len(ligands))]"
   ]
  },
  {
   "cell_type": "code",
   "execution_count": 8,
   "metadata": {},
   "outputs": [],
   "source": [
    "folds = StratifiedGroupKFold(n_splits=10, shuffle=True, random_state=23)\n",
    "train_idx = []\n",
    "test_idx = []\n",
    "\n",
    "for i, (train, test) in enumerate(folds.split(x, categories, groups)):\n",
    "    train_idx.append(train)\n",
    "    test_idx.append(test)"
   ]
  },
  {
   "cell_type": "code",
   "execution_count": 9,
   "metadata": {},
   "outputs": [],
   "source": [
    "fold = 9\n",
    "train_loader = DataLoader(ligands[train_idx[fold]], batch_size=40, shuffle=True)\n",
    "test_loader = DataLoader(ligands[test_idx[fold]], batch_size=40, shuffle=False)"
   ]
  },
  {
   "cell_type": "code",
   "execution_count": 10,
   "metadata": {},
   "outputs": [],
   "source": [
    "def calculate_metrics(y_pred, y_true, epoch, type):\n",
    "    prec = precision_score(y_true, y_pred)\n",
    "    rec = recall_score(y_true, y_pred)\n",
    "    roc = roc_auc_score(y_true, y_pred)\n",
    "    \n",
    "    if epoch % 100 == 0:\n",
    "        print('\\n \\n' + type)\n",
    "        print(f\"\\n Confusion matrix: \\n {confusion_matrix(y_pred, y_true)}\")\n",
    "        print(f\"F1 Score: {f1_score(y_true, y_pred):.2f}\")\n",
    "        print(f\"Accuracy: {accuracy_score(y_true, y_pred):.2f}\")\n",
    "        print(f\"Precision: {prec:.2f}\")\n",
    "        print(f\"Recall: {rec:.2f}\")\n",
    "        print(f\"ROC AUC: {roc:.2f}\")\n",
    "\n",
    "    return prec, rec, roc "
   ]
  },
  {
   "cell_type": "code",
   "execution_count": 11,
   "metadata": {},
   "outputs": [],
   "source": [
    "def train(epoch):\n",
    "\n",
    "    all_preds = []\n",
    "    all_y = []\n",
    "    total_loss = 0\n",
    "    step = 0\n",
    "\n",
    "    # Enumerate over the data\n",
    "    for batch in train_loader:\n",
    "      # Use GPU\n",
    "      batch.to(device)  \n",
    "      # Reset gradients\n",
    "      optimizer.zero_grad() \n",
    "      # Passing the node features and the connection info\n",
    "      pred = model(batch.x.float(), \n",
    "                  batch.edge_index,\n",
    "                  batch.batch) \n",
    "      \n",
    "      # Calculating the loss and gradients\n",
    "      loss = loss_fn(pred, torch.unsqueeze(batch.category.float(), dim = 1))\n",
    "      loss.backward()  \n",
    "      # Update using the gradients\n",
    "      optimizer.step()   \n",
    "\n",
    "      total_loss += loss.item()\n",
    "      step += 1\n",
    "\n",
    "      all_preds.append(np.rint(torch.sigmoid(pred).cpu().detach().numpy()))\n",
    "      all_y.append(batch.category.cpu().detach().numpy())\n",
    "\n",
    "    all_preds = np.concatenate(all_preds).ravel()\n",
    "    all_labels = np.concatenate (all_y).ravel() \n",
    "    metrics = calculate_metrics(all_preds, all_labels, epoch, 'train')\n",
    "\n",
    "    return torch.tensor(total_loss/step), all_preds, all_labels, metrics"
   ]
  },
  {
   "cell_type": "code",
   "execution_count": 12,
   "metadata": {},
   "outputs": [],
   "source": [
    "def test(epoch):\n",
    "\n",
    "    all_preds = []\n",
    "    all_y = []\n",
    "    total_loss = 0\n",
    "    step = 0\n",
    "\n",
    "    # Enumerate over the data\n",
    "    for batch in test_loader:\n",
    "      # Use GPU\n",
    "      batch.to(device)  \n",
    "      # Passing the node features and the connection info\n",
    "      pred = model(batch.x.float(), \n",
    "                  batch.edge_index,\n",
    "                  batch.batch) \n",
    "      \n",
    "      # Calculating the loss and gradients\n",
    "      loss = loss_fn(pred, torch.unsqueeze(batch.category.float(), dim = 1))\n",
    "  \n",
    "      total_loss += loss.item()\n",
    "      step += 1\n",
    "\n",
    "      all_preds.append(np.rint(torch.sigmoid(pred).cpu().detach().numpy()))\n",
    "      all_y.append(batch.category.cpu().detach().numpy())\n",
    "\n",
    "    all_preds = np.concatenate(all_preds).ravel()\n",
    "    all_labels = np.concatenate (all_y).ravel() \n",
    "    metrics = calculate_metrics(all_preds, all_labels, epoch, 'test')\n",
    "\n",
    "    return torch.tensor(total_loss/step), all_preds, all_labels, metrics"
   ]
  },
  {
   "cell_type": "code",
   "execution_count": 13,
   "metadata": {},
   "outputs": [],
   "source": [
    "epochs = 231\n",
    "\n",
    "loss_train = []\n",
    "loss_test = []\n",
    "\n",
    "pred_train = []\n",
    "pred_test = []\n",
    "\n",
    "labels_train = []\n",
    "labels_test = []\n",
    "\n",
    "prec_train = []\n",
    "prec_test = []\n",
    "\n",
    "rec_train = []\n",
    "rec_test = []\n",
    "\n",
    "roc_train = []\n",
    "roc_test = []\n",
    "\n",
    "best_loss = 10_000\n",
    "early_stopping_counter =0"
   ]
  },
  {
   "cell_type": "code",
   "execution_count": 14,
   "metadata": {},
   "outputs": [],
   "source": [
    "model_directory = '/Users/ed/Documents/PhD_Documents/Experiments/ChiralLigands/Data_augm_exp/GNN/saved_models/'\n",
    "model_filename = f'GCN_f_{fold}_l_{model.gnn_layers}_em_{model.embedding_size}_e_{epochs}.pth'\n",
    "model_filepath = os.path.join(model_directory, model_filename)"
   ]
  },
  {
   "cell_type": "code",
   "execution_count": 15,
   "metadata": {},
   "outputs": [],
   "source": [
    "if os.path.exists(model_filepath):\n",
    "    # Load the existing model\n",
    "    model = torch.load(model_filepath)\n",
    "\n",
    "else:\n",
    "    for epoch in range (epochs):\n",
    "                \n",
    "        if early_stopping_counter <= 1000:\n",
    "            # Training\n",
    "            model.train()\n",
    "            loss, pred, label, metrics = train(epoch=epoch)\n",
    "            loss = loss.detach().cpu().numpy()\n",
    "\n",
    "            if epoch % 5 == 0:\n",
    "                loss_train.append(loss) \n",
    "                prec_train.append(metrics[0])\n",
    "                rec_train.append(metrics[1])\n",
    "                roc_train.append(metrics[2])\n",
    "\n",
    "            if epoch % 100 == 0:\n",
    "                print(f\"Epoch {epoch} | Train Loss {loss}\")\n",
    "                pred_train.append(pred)\n",
    "                labels_train.append(label)\n",
    "\n",
    "                    # Testing\n",
    "                \n",
    "            if epoch % 5 == 0:\n",
    "                model.eval()\n",
    "                loss, pred, label, metrics = test(epoch=epoch)\n",
    "                loss = loss.detach().cpu().numpy()\n",
    "\n",
    "                if float(loss) < best_loss:\n",
    "                    best_loss = loss\n",
    "                    early_stopping_counter = 0\n",
    "                    best_pred = pred\n",
    "                    best_y = label\n",
    "                    best_prec = metrics[0]\n",
    "                    best_rec = metrics[1]\n",
    "                    best_roc = metrics[2]\n",
    "                    best_epoch = epoch\n",
    "\n",
    "                else:\n",
    "                    early_stopping_counter += 1\n",
    "\n",
    "                \n",
    "                loss_test.append(loss)\n",
    "                prec_test.append(metrics[0])\n",
    "                rec_test.append(metrics[1])\n",
    "                roc_test.append(metrics[2])\n",
    "\n",
    "                if epoch % 10 == 0:\n",
    "                    print(f\"Epoch {epoch} | Test Loss {loss}\")\n",
    "                    pred_test.append(pred)\n",
    "                    labels_test.append(label)\n",
    "        \n",
    "            last_epoch = epoch\n",
    "                    \n",
    "        else:\n",
    "            print(\"Early stopping due to no improvement.\")\n",
    "            print(f'Best loss was {best_loss}')\n",
    "            last_epoch = epoch\n",
    "            #break\n",
    "\n",
    "    print(f'Finishing training with best test loss: {best_loss}')\n",
    "    print(f'Best test precision: {best_prec}')\n",
    "    print(f'Best test recall: {best_rec}')\n",
    "    print(f'Best test auroc: {best_roc}')\n",
    "    print(f'Best epoch: {best_epoch}')\n",
    "    torch.save(model, model_filepath)"
   ]
  },
  {
   "cell_type": "code",
   "execution_count": 16,
   "metadata": {},
   "outputs": [],
   "source": [
    "from torch_geometric.explain import Explainer, GNNExplainer, CaptumExplainer\n",
    "from plot_importances import *"
   ]
  },
  {
   "cell_type": "code",
   "execution_count": 17,
   "metadata": {},
   "outputs": [],
   "source": [
    "feat_labels = ['Atomic number', 'Atom degree', 'Atom hybridization', 'Aromaticity', 'Atom in ring', 'Atom chirality', 'Molecule configuration']"
   ]
  },
  {
   "cell_type": "code",
   "execution_count": 18,
   "metadata": {},
   "outputs": [],
   "source": [
    "explainer = Explainer(\n",
    "    model=model,\n",
    "    algorithm=CaptumExplainer('ShapleyValueSampling'),\n",
    "    explanation_type='model',\n",
    "    node_mask_type='attributes',\n",
    "    edge_mask_type='object',\n",
    "    model_config=dict(\n",
    "        mode='binary_classification',\n",
    "        task_level='graph',\n",
    "        return_type='raw',\n",
    "    ),\n",
    ")"
   ]
  },
  {
   "cell_type": "code",
   "execution_count": 19,
   "metadata": {},
   "outputs": [],
   "source": [
    "explain = DataLoader(ligands[test_idx[fold]], batch_size=1)"
   ]
  },
  {
   "cell_type": "code",
   "execution_count": 20,
   "metadata": {},
   "outputs": [],
   "source": [
    "mol = get_graph_by_idx(explain, 438)"
   ]
  },
  {
   "cell_type": "code",
   "execution_count": 21,
   "metadata": {},
   "outputs": [
    {
     "data": {
      "image/png": "[encoded data removed]",
      "text/plain": [
       "<rdkit.Chem.rdchem.Mol at 0x299a52430>"
      ]
     },
     "execution_count": 21,
     "metadata": {},
     "output_type": "execute_result"
    }
   ],
   "source": [
    "Chem.MolFromSmiles(mol.ligand[0])"
   ]
  },
  {
   "cell_type": "code",
   "execution_count": 22,
   "metadata": {},
   "outputs": [],
   "source": [
    "explanation = explainer(x = mol.x, edge_index=mol.edge_index,  batch_index=mol.batch)"
   ]
  },
  {
   "cell_type": "code",
   "execution_count": 23,
   "metadata": {},
   "outputs": [
    {
     "data": {
      "image/png": "[encoded data removed]",
      "text/plain": [
       "<Figure size 1000x700 with 1 Axes>"
      ]
     },
     "metadata": {},
     "output_type": "display_data"
    }
   ],
   "source": [
    "explanation.visualize_feature_importance(path=None, top_k=7, feat_labels = feat_labels)"
   ]
  },
  {
   "cell_type": "code",
   "execution_count": 25,
   "metadata": {},
   "outputs": [
    {
     "data": {
      "application/vnd.plotly.v1+json": {
       "config": {
        "plotlyServerURL": "https://plot.ly"
       },
       "data": [
        {
         "legendgroup": "Atoms",
         "marker": {
          "color": "#333333",
          "size": 8.625,
          "symbol": "circle"
         },
         "mode": "markers",
         "showlegend": false,
         "text": "atom C",
         "type": "scatter3d",
         "x": [
          -5.765199059116092
         ],
         "y": [
          0.49396724419301297
         ],
         "z": [
          -0.7255921570093664
         ]
        },
        {
         "legendgroup": "Atoms",
         "marker": {
          "color": "#FF0000",
          "size": 8.25,
          "symbol": "circle"
         },
         "mode": "markers",
         "showlegend": false,
         "text": "atom O",
         "type": "scatter3d",
         "x": [
          -4.786588154749018
         ],
         "y": [
          -0.4490100413632969
         ],
         "z": [
          -0.5483873660192338
         ]
        },
        {
         "legendgroup": "Atoms",
         "marker": {
          "color": "#333333",
          "size": 8.625,
          "symbol": "circle"
         },
         "mode": "markers",
         "showlegend": false,
         "text": "atom C",
         "type": "scatter3d",
         "x": [
          -3.9093584898261486
         ],
         "y": [
          -0.18126015376578947
         ],
         "z": [
          0.47188641660172154
         ]
        },
        {
         "legendgroup": "Atoms",
         "marker": {
          "color": "#333333",
          "size": 8.625,
          "symbol": "circle"
         },
         "mode": "markers",
         "showlegend": false,
         "text": "atom C",
         "type": "scatter3d",
         "x": [
          -4.63222705730461
         ],
         "y": [
          -0.08286731269117335
         ],
         "z": [
          1.7817292074627857
         ]
        },
        {
         "legendgroup": "Atoms",
         "marker": {
          "color": "#333333",
          "size": 8.625,
          "symbol": "circle"
         },
         "mode": "markers",
         "showlegend": false,
         "text": "atom C",
         "type": "scatter3d",
         "x": [
          -3.0585871631619987
         ],
         "y": [
          1.033526250141602
         ],
         "z": [
          0.24300583181060414
         ]
        },
        {
         "legendgroup": "Atoms",
         "marker": {
          "color": "#333333",
          "size": 8.625,
          "symbol": "circle"
         },
         "mode": "markers",
         "showlegend": false,
         "text": "atom C",
         "type": "scatter3d",
         "x": [
          -1.9162712674176805
         ],
         "y": [
          0.6423301324654801
         ],
         "z": [
          -0.745638914569754
         ]
        },
        {
         "legendgroup": "Atoms",
         "marker": {
          "color": "#333333",
          "size": 8.625,
          "symbol": "circle"
         },
         "mode": "markers",
         "showlegend": false,
         "text": "atom C",
         "type": "scatter3d",
         "x": [
          -1.4710453135075172
         ],
         "y": [
          1.8497691636107099
         ],
         "z": [
          -1.469057688895174
         ]
        },
        {
         "legendgroup": "Atoms",
         "marker": {
          "color": "#333333",
          "size": 8.625,
          "symbol": "circle"
         },
         "mode": "markers",
         "showlegend": false,
         "text": "atom C",
         "type": "scatter3d",
         "x": [
          -2.4736677008063332
         ],
         "y": [
          -0.44190360824236385
         ],
         "z": [
          -1.6509938693628945
         ]
        },
        {
         "legendgroup": "Atoms",
         "marker": {
          "color": "#333333",
          "size": 8.625,
          "symbol": "circle"
         },
         "mode": "markers",
         "showlegend": false,
         "text": "atom C",
         "type": "scatter3d",
         "x": [
          -2.6571059330029887
         ],
         "y": [
          -1.5933482856960943
         ],
         "z": [
          -0.9615851848779342
         ]
        },
        {
         "legendgroup": "Atoms",
         "marker": {
          "color": "#333333",
          "size": 8.625,
          "symbol": "circle"
         },
         "mode": "markers",
         "showlegend": false,
         "text": "atom C",
         "type": "scatter3d",
         "x": [
          -2.9055221392212536
         ],
         "y": [
          -1.365286947662092
         ],
         "z": [
          0.492995761999175
         ]
        },
        {
         "legendgroup": "Atoms",
         "marker": {
          "color": "#333333",
          "size": 8.625,
          "symbol": "circle"
         },
         "mode": "markers",
         "showlegend": false,
         "text": "atom C",
         "type": "scatter3d",
         "x": [
          -1.6004156164688266
         ],
         "y": [
          -0.8102965144671318
         ],
         "z": [
          1.041987997888231
         ]
        },
        {
         "legendgroup": "Atoms",
         "marker": {
          "color": "#333333",
          "size": 8.625,
          "symbol": "circle"
         },
         "mode": "markers",
         "showlegend": false,
         "text": "atom C",
         "type": "scatter3d",
         "x": [
          -0.9347413560812796
         ],
         "y": [
          -0.08092157098155205
         ],
         "z": [
          0.09503794920132728
         ]
        },
        {
         "legendgroup": "Atoms",
         "marker": {
          "color": "#333333",
          "size": 8.625,
          "symbol": "circle"
         },
         "mode": "markers",
         "showlegend": false,
         "text": "atom C",
         "type": "scatter3d",
         "x": [
          0.48715774835250425
         ],
         "y": [
          -0.0974727387601779
         ],
         "z": [
          0.029694731087199906
         ]
        },
        {
         "legendgroup": "Atoms",
         "marker": {
          "color": "#333333",
          "size": 8.625,
          "symbol": "circle"
         },
         "mode": "markers",
         "showlegend": false,
         "text": "atom C",
         "type": "scatter3d",
         "x": [
          1.2709369628040426
         ],
         "y": [
          0.4622460469638631
         ],
         "z": [
          -0.9399081365216849
         ]
        },
        {
         "legendgroup": "Atoms",
         "marker": {
          "color": "#333333",
          "size": 8.625,
          "symbol": "circle"
         },
         "mode": "markers",
         "showlegend": false,
         "text": "atom C",
         "type": "scatter3d",
         "x": [
          2.6768768577588573
         ],
         "y": [
          0.42111639450573957
         ],
         "z": [
          -0.8935031093049134
         ]
        },
        {
         "legendgroup": "Atoms",
         "marker": {
          "color": "#333333",
          "size": 8.625,
          "symbol": "circle"
         },
         "mode": "markers",
         "showlegend": false,
         "text": "atom C",
         "type": "scatter3d",
         "x": [
          3.314061914890325
         ],
         "y": [
          -0.19072205358617722
         ],
         "z": [
          0.1384656873683326
         ]
        },
        {
         "legendgroup": "Atoms",
         "marker": {
          "color": "#333333",
          "size": 8.625,
          "symbol": "circle"
         },
         "mode": "markers",
         "showlegend": false,
         "text": "atom C",
         "type": "scatter3d",
         "x": [
          4.7848532396141366
         ],
         "y": [
          -0.25091880672988154
         ],
         "z": [
          0.2165201292397308
         ]
        },
        {
         "legendgroup": "Atoms",
         "marker": {
          "color": "#333333",
          "size": 8.625,
          "symbol": "circle"
         },
         "mode": "markers",
         "showlegend": false,
         "text": "atom C",
         "type": "scatter3d",
         "x": [
          5.450117858174212
         ],
         "y": [
          0.43027940642855744
         ],
         "z": [
          -0.955195889969145
         ]
        },
        {
         "legendgroup": "Atoms",
         "marker": {
          "color": "#333333",
          "size": 8.625,
          "symbol": "circle"
         },
         "mode": "markers",
         "showlegend": false,
         "text": "atom C",
         "type": "scatter3d",
         "x": [
          5.1958034562333
         ],
         "y": [
          -1.70504550789139
         ],
         "z": [
          0.30554200078051025
         ]
        },
        {
         "legendgroup": "Atoms",
         "marker": {
          "color": "#333333",
          "size": 8.625,
          "symbol": "circle"
         },
         "mode": "markers",
         "showlegend": false,
         "text": "atom C",
         "type": "scatter3d",
         "x": [
          5.281619276041164
         ],
         "y": [
          0.4459933195197986
         ],
         "z": [
          1.472336262350652
         ]
        },
        {
         "legendgroup": "Atoms",
         "marker": {
          "color": "#333333",
          "size": 8.625,
          "symbol": "circle"
         },
         "mode": "markers",
         "showlegend": false,
         "text": "atom C",
         "type": "scatter3d",
         "x": [
          2.5619300367634166
         ],
         "y": [
          -0.766892728255757
         ],
         "z": [
          1.1328187461339703
         ]
        },
        {
         "legendgroup": "Atoms",
         "marker": {
          "color": "#333333",
          "size": 8.625,
          "symbol": "circle"
         },
         "mode": "markers",
         "showlegend": false,
         "text": "atom C",
         "type": "scatter3d",
         "x": [
          1.192141213031737
         ],
         "y": [
          -0.7156356379600891
         ],
         "z": [
          1.0695941888688898
         ]
        },
        {
         "legendgroup": "Atoms",
         "marker": {
          "color": "#FFFFFF",
          "size": 3.875,
          "symbol": "circle"
         },
         "mode": "markers",
         "showlegend": false,
         "text": "atom H",
         "type": "scatter3d",
         "x": [
          -6.413136000215664
         ],
         "y": [
          0.6358677937900055
         ],
         "z": [
          0.16503320858361054
         ]
        },
        {
         "legendgroup": "Atoms",
         "marker": {
          "color": "#FFFFFF",
          "size": 3.875,
          "symbol": "circle"
         },
         "mode": "markers",
         "showlegend": false,
         "text": "atom H",
         "type": "scatter3d",
         "x": [
          -5.367090771378174
         ],
         "y": [
          1.475538734074253
         ],
         "z": [
          -1.090826638877637
         ]
        },
        {
         "legendgroup": "Atoms",
         "marker": {
          "color": "#FFFFFF",
          "size": 3.875,
          "symbol": "circle"
         },
         "mode": "markers",
         "showlegend": false,
         "text": "atom H",
         "type": "scatter3d",
         "x": [
          -6.437408703896297
         ],
         "y": [
          0.12789876669557493
         ],
         "z": [
          -1.5409967908940458
         ]
        },
        {
         "legendgroup": "Atoms",
         "marker": {
          "color": "#FFFFFF",
          "size": 3.875,
          "symbol": "circle"
         },
         "mode": "markers",
         "showlegend": false,
         "text": "atom H",
         "type": "scatter3d",
         "x": [
          -4.0768564742543045
         ],
         "y": [
          -0.5347800995937809
         ],
         "z": [
          2.6270066373205636
         ]
        },
        {
         "legendgroup": "Atoms",
         "marker": {
          "color": "#FFFFFF",
          "size": 3.875,
          "symbol": "circle"
         },
         "mode": "markers",
         "showlegend": false,
         "text": "atom H",
         "type": "scatter3d",
         "x": [
          -4.744205047557604
         ],
         "y": [
          1.0120014747185297
         ],
         "z": [
          2.0076300108264564
         ]
        },
        {
         "legendgroup": "Atoms",
         "marker": {
          "color": "#FFFFFF",
          "size": 3.875,
          "symbol": "circle"
         },
         "mode": "markers",
         "showlegend": false,
         "text": "atom H",
         "type": "scatter3d",
         "x": [
          -5.6366891662544125
         ],
         "y": [
          -0.5090780798817952
         ],
         "z": [
          1.7331690604929437
         ]
        },
        {
         "legendgroup": "Atoms",
         "marker": {
          "color": "#FFFFFF",
          "size": 3.875,
          "symbol": "circle"
         },
         "mode": "markers",
         "showlegend": false,
         "text": "atom H",
         "type": "scatter3d",
         "x": [
          -3.5926213268397733
         ],
         "y": [
          1.9063254225477149
         ],
         "z": [
          -0.1205736658425772
         ]
        },
        {
         "legendgroup": "Atoms",
         "marker": {
          "color": "#FFFFFF",
          "size": 3.875,
          "symbol": "circle"
         },
         "mode": "markers",
         "showlegend": false,
         "text": "atom H",
         "type": "scatter3d",
         "x": [
          -2.558376023971095
         ],
         "y": [
          1.2952901092176388
         ],
         "z": [
          1.1963257926181838
         ]
        },
        {
         "legendgroup": "Atoms",
         "marker": {
          "color": "#FFFFFF",
          "size": 3.875,
          "symbol": "circle"
         },
         "mode": "markers",
         "showlegend": false,
         "text": "atom H",
         "type": "scatter3d",
         "x": [
          -2.349579575000642
         ],
         "y": [
          2.581610559536717
         ],
         "z": [
          -1.5537871026490728
         ]
        },
        {
         "legendgroup": "Atoms",
         "marker": {
          "color": "#FFFFFF",
          "size": 3.875,
          "symbol": "circle"
         },
         "mode": "markers",
         "showlegend": false,
         "text": "atom H",
         "type": "scatter3d",
         "x": [
          -1.203043489461612
         ],
         "y": [
          1.640888623339094
         ],
         "z": [
          -2.5177747045254724
         ]
        },
        {
         "legendgroup": "Atoms",
         "marker": {
          "color": "#FFFFFF",
          "size": 3.875,
          "symbol": "circle"
         },
         "mode": "markers",
         "showlegend": false,
         "text": "atom H",
         "type": "scatter3d",
         "x": [
          -0.656997543726782
         ],
         "y": [
          2.4274604701905718
         ],
         "z": [
          -0.9985587940239851
         ]
        },
        {
         "legendgroup": "Atoms",
         "marker": {
          "color": "#FFFFFF",
          "size": 3.875,
          "symbol": "circle"
         },
         "mode": "markers",
         "showlegend": false,
         "text": "atom H",
         "type": "scatter3d",
         "x": [
          -2.6868524213135805
         ],
         "y": [
          -0.30855571764018336
         ],
         "z": [
          -2.681246824653849
         ]
        },
        {
         "legendgroup": "Atoms",
         "marker": {
          "color": "#FFFFFF",
          "size": 3.875,
          "symbol": "circle"
         },
         "mode": "markers",
         "showlegend": false,
         "text": "atom H",
         "type": "scatter3d",
         "x": [
          -2.6339701757314065
         ],
         "y": [
          -2.5700090487079015
         ],
         "z": [
          -1.379934770253846
         ]
        },
        {
         "legendgroup": "Atoms",
         "marker": {
          "color": "#FFFFFF",
          "size": 3.875,
          "symbol": "circle"
         },
         "mode": "markers",
         "showlegend": false,
         "text": "atom H",
         "type": "scatter3d",
         "x": [
          -3.2708401893531605
         ],
         "y": [
          -2.218860467808728
         ],
         "z": [
          1.037970701385826
         ]
        },
        {
         "legendgroup": "Atoms",
         "marker": {
          "color": "#FFFFFF",
          "size": 3.875,
          "symbol": "circle"
         },
         "mode": "markers",
         "showlegend": false,
         "text": "atom H",
         "type": "scatter3d",
         "x": [
          -1.2580055733311668
         ],
         "y": [
          -0.9613113203954293
         ],
         "z": [
          2.0246536337432484
         ]
        },
        {
         "legendgroup": "Atoms",
         "marker": {
          "color": "#FFFFFF",
          "size": 3.875,
          "symbol": "circle"
         },
         "mode": "markers",
         "showlegend": false,
         "text": "atom H",
         "type": "scatter3d",
         "x": [
          0.8153424710086845
         ],
         "y": [
          0.9312910895910947
         ],
         "z": [
          -1.7874724650479217
         ]
        },
        {
         "legendgroup": "Atoms",
         "marker": {
          "color": "#FFFFFF",
          "size": 3.875,
          "symbol": "circle"
         },
         "mode": "markers",
         "showlegend": false,
         "text": "atom H",
         "type": "scatter3d",
         "x": [
          3.2568437814556734
         ],
         "y": [
          0.8757038176192135
         ],
         "z": [
          -1.6780018785899595
         ]
        },
        {
         "legendgroup": "Atoms",
         "marker": {
          "color": "#FFFFFF",
          "size": 3.875,
          "symbol": "circle"
         },
         "mode": "markers",
         "showlegend": false,
         "text": "atom H",
         "type": "scatter3d",
         "x": [
          5.160948874029246
         ],
         "y": [
          -0.02644476195246066
         ],
         "z": [
          -1.9260536634310408
         ]
        },
        {
         "legendgroup": "Atoms",
         "marker": {
          "color": "#FFFFFF",
          "size": 3.875,
          "symbol": "circle"
         },
         "mode": "markers",
         "showlegend": false,
         "text": "atom H",
         "type": "scatter3d",
         "x": [
          5.120227083945721
         ],
         "y": [
          1.4876994479214627
         ],
         "z": [
          -0.9636254477166004
         ]
        },
        {
         "legendgroup": "Atoms",
         "marker": {
          "color": "#FFFFFF",
          "size": 3.875,
          "symbol": "circle"
         },
         "mode": "markers",
         "showlegend": false,
         "text": "atom H",
         "type": "scatter3d",
         "x": [
          6.539098848028223
         ],
         "y": [
          0.39004658144204135
         ],
         "z": [
          -0.7933742257647756
         ]
        },
        {
         "legendgroup": "Atoms",
         "marker": {
          "color": "#FFFFFF",
          "size": 3.875,
          "symbol": "circle"
         },
         "mode": "markers",
         "showlegend": false,
         "text": "atom H",
         "type": "scatter3d",
         "x": [
          4.706453491030429
         ],
         "y": [
          -2.236551742572326
         ],
         "z": [
          -0.5357417923834494
         ]
        },
        {
         "legendgroup": "Atoms",
         "marker": {
          "color": "#FFFFFF",
          "size": 3.875,
          "symbol": "circle"
         },
         "mode": "markers",
         "showlegend": false,
         "text": "atom H",
         "type": "scatter3d",
         "x": [
          6.301219197447433
         ],
         "y": [
          -1.8267638049286796
         ],
         "z": [
          0.19194266072373256
         ]
        },
        {
         "legendgroup": "Atoms",
         "marker": {
          "color": "#FFFFFF",
          "size": 3.875,
          "symbol": "circle"
         },
         "mode": "markers",
         "showlegend": false,
         "text": "atom H",
         "type": "scatter3d",
         "x": [
          4.81792676420783
         ],
         "y": [
          -2.104630450832042
         ],
         "z": [
          1.265629184790437
         ]
        },
        {
         "legendgroup": "Atoms",
         "marker": {
          "color": "#FFFFFF",
          "size": 3.875,
          "symbol": "circle"
         },
         "mode": "markers",
         "showlegend": false,
         "text": "atom H",
         "type": "scatter3d",
         "x": [
          6.306008206845575
         ],
         "y": [
          0.8155522184085039
         ],
         "z": [
          1.2790989637431207
         ]
        },
        {
         "legendgroup": "Atoms",
         "marker": {
          "color": "#FFFFFF",
          "size": 3.875,
          "symbol": "circle"
         },
         "mode": "markers",
         "showlegend": false,
         "text": "atom H",
         "type": "scatter3d",
         "x": [
          4.668602949996497
         ],
         "y": [
          1.346001362958172
         ],
         "z": [
          1.706709930796106
         ]
        },
        {
         "legendgroup": "Atoms",
         "marker": {
          "color": "#FFFFFF",
          "size": 3.875,
          "symbol": "circle"
         },
         "mode": "markers",
         "showlegend": false,
         "text": "atom H",
         "type": "scatter3d",
         "x": [
          5.348885400589144
         ],
         "y": [
          -0.2652046273464343
         ],
         "z": [
          2.3071089400548033
         ]
        },
        {
         "legendgroup": "Atoms",
         "marker": {
          "color": "#FFFFFF",
          "size": 3.875,
          "symbol": "circle"
         },
         "mode": "markers",
         "showlegend": false,
         "text": "atom H",
         "type": "scatter3d",
         "x": [
          3.092533531604176
         ],
         "y": [
          -1.25328313454612
         ],
         "z": [
          1.951920557695832
         ]
        },
        {
         "legendgroup": "Atoms",
         "marker": {
          "color": "#FFFFFF",
          "size": 3.875,
          "symbol": "circle"
         },
         "mode": "markers",
         "showlegend": false,
         "text": "atom H",
         "type": "scatter3d",
         "x": [
          0.6468125690962226
         ],
         "y": [
          -1.181349265620127
         ],
         "z": [
          1.8656393692468178
         ]
        },
        {
         "legendgroup": "Atom importance",
         "marker": {
          "color": "#006400",
          "size": 14.6625,
          "symbol": "circle"
         },
         "mode": "markers",
         "opacity": 0.21225165683788222,
         "showlegend": false,
         "text": "atom C",
         "type": "scatter3d",
         "x": [
          -5.765199059116092
         ],
         "y": [
          0.49396724419301297
         ],
         "z": [
          -0.7255921570093664
         ]
        },
        {
         "legendgroup": "Atom importance",
         "marker": {
          "color": "#006400",
          "size": 14.025,
          "symbol": "circle"
         },
         "mode": "markers",
         "opacity": 0.3516812701233845,
         "showlegend": false,
         "text": "atom O",
         "type": "scatter3d",
         "x": [
          -4.786588154749018
         ],
         "y": [
          -0.4490100413632969
         ],
         "z": [
          -0.5483873660192338
         ]
        },
        {
         "legendgroup": "Atom importance",
         "marker": {
          "color": "#006400",
          "size": 14.6625,
          "symbol": "circle"
         },
         "mode": "markers",
         "opacity": 0.4800816323793242,
         "showlegend": false,
         "text": "atom C",
         "type": "scatter3d",
         "x": [
          -3.9093584898261486
         ],
         "y": [
          -0.18126015376578947
         ],
         "z": [
          0.47188641660172154
         ]
        },
        {
         "legendgroup": "Atom importance",
         "marker": {
          "color": "#006400",
          "size": 14.6625,
          "symbol": "circle"
         },
         "mode": "markers",
         "opacity": 0.07800141550795336,
         "showlegend": false,
         "text": "atom C",
         "type": "scatter3d",
         "x": [
          -4.63222705730461
         ],
         "y": [
          -0.08286731269117335
         ],
         "z": [
          1.7817292074627857
         ]
        },
        {
         "legendgroup": "Atom importance",
         "marker": {
          "color": "#006400",
          "size": 14.6625,
          "symbol": "circle"
         },
         "mode": "markers",
         "opacity": 0.10668608059226875,
         "showlegend": false,
         "text": "atom C",
         "type": "scatter3d",
         "x": [
          -3.0585871631619987
         ],
         "y": [
          1.033526250141602
         ],
         "z": [
          0.24300583181060414
         ]
        },
        {
         "legendgroup": "Atom importance",
         "marker": {
          "color": "#4B0082",
          "size": 14.6625,
          "symbol": "circle"
         },
         "mode": "markers",
         "opacity": 0.8160166286953872,
         "showlegend": false,
         "text": "atom C",
         "type": "scatter3d",
         "x": [
          -1.9162712674176805
         ],
         "y": [
          0.6423301324654801
         ],
         "z": [
          -0.745638914569754
         ]
        },
        {
         "legendgroup": "Atom importance",
         "marker": {
          "color": "#006400",
          "size": 14.6625,
          "symbol": "circle"
         },
         "mode": "markers",
         "opacity": 0.4373757960534375,
         "showlegend": false,
         "text": "atom C",
         "type": "scatter3d",
         "x": [
          -1.4710453135075172
         ],
         "y": [
          1.8497691636107099
         ],
         "z": [
          -1.469057688895174
         ]
        },
        {
         "legendgroup": "Atom importance",
         "marker": {
          "color": "#006400",
          "size": 14.6625,
          "symbol": "circle"
         },
         "mode": "markers",
         "opacity": 0.36023246963351724,
         "showlegend": false,
         "text": "atom C",
         "type": "scatter3d",
         "x": [
          -2.4736677008063332
         ],
         "y": [
          -0.44190360824236385
         ],
         "z": [
          -1.6509938693628945
         ]
        },
        {
         "legendgroup": "Atom importance",
         "marker": {
          "color": "#006400",
          "size": 14.6625,
          "symbol": "circle"
         },
         "mode": "markers",
         "opacity": 0.44850427653357944,
         "showlegend": false,
         "text": "atom C",
         "type": "scatter3d",
         "x": [
          -2.6571059330029887
         ],
         "y": [
          -1.5933482856960943
         ],
         "z": [
          -0.9615851848779342
         ]
        },
        {
         "legendgroup": "Atom importance",
         "marker": {
          "color": "#4B0082",
          "size": 14.6625,
          "symbol": "circle"
         },
         "mode": "markers",
         "opacity": 0.6386824052293485,
         "showlegend": false,
         "text": "atom C",
         "type": "scatter3d",
         "x": [
          -2.9055221392212536
         ],
         "y": [
          -1.365286947662092
         ],
         "z": [
          0.492995761999175
         ]
        },
        {
         "legendgroup": "Atom importance",
         "marker": {
          "color": "#006400",
          "size": 14.6625,
          "symbol": "circle"
         },
         "mode": "markers",
         "opacity": 0.4024666609844869,
         "showlegend": false,
         "text": "atom C",
         "type": "scatter3d",
         "x": [
          -1.6004156164688266
         ],
         "y": [
          -0.8102965144671318
         ],
         "z": [
          1.041987997888231
         ]
        },
        {
         "legendgroup": "Atom importance",
         "marker": {
          "color": "#006400",
          "size": 14.6625,
          "symbol": "circle"
         },
         "mode": "markers",
         "opacity": 0.42912529329513255,
         "showlegend": false,
         "text": "atom C",
         "type": "scatter3d",
         "x": [
          -0.9347413560812796
         ],
         "y": [
          -0.08092157098155205
         ],
         "z": [
          0.09503794920132728
         ]
        },
        {
         "legendgroup": "Atom importance",
         "marker": {
          "color": "#006400",
          "size": 14.6625,
          "symbol": "circle"
         },
         "mode": "markers",
         "opacity": 0.3152883093593736,
         "showlegend": false,
         "text": "atom C",
         "type": "scatter3d",
         "x": [
          0.48715774835250425
         ],
         "y": [
          -0.0974727387601779
         ],
         "z": [
          0.029694731087199906
         ]
        },
        {
         "legendgroup": "Atom importance",
         "marker": {
          "color": "#006400",
          "size": 14.6625,
          "symbol": "circle"
         },
         "mode": "markers",
         "opacity": 0.08818748680442501,
         "showlegend": false,
         "text": "atom C",
         "type": "scatter3d",
         "x": [
          1.2709369628040426
         ],
         "y": [
          0.4622460469638631
         ],
         "z": [
          -0.9399081365216849
         ]
        },
        {
         "legendgroup": "Atom importance",
         "marker": {
          "color": "#006400",
          "size": 14.6625,
          "symbol": "circle"
         },
         "mode": "markers",
         "opacity": 0.1134170866258778,
         "showlegend": false,
         "text": "atom C",
         "type": "scatter3d",
         "x": [
          2.6768768577588573
         ],
         "y": [
          0.42111639450573957
         ],
         "z": [
          -0.8935031093049134
         ]
        },
        {
         "legendgroup": "Atom importance",
         "marker": {
          "color": "#006400",
          "size": 14.6625,
          "symbol": "circle"
         },
         "mode": "markers",
         "opacity": 0.1773393170534921,
         "showlegend": false,
         "text": "atom C",
         "type": "scatter3d",
         "x": [
          3.314061914890325
         ],
         "y": [
          -0.19072205358617722
         ],
         "z": [
          0.1384656873683326
         ]
        },
        {
         "legendgroup": "Atom importance",
         "marker": {
          "color": "#4B0082",
          "size": 14.6625,
          "symbol": "circle"
         },
         "mode": "markers",
         "opacity": 0.5190532430149725,
         "showlegend": false,
         "text": "atom C",
         "type": "scatter3d",
         "x": [
          4.7848532396141366
         ],
         "y": [
          -0.25091880672988154
         ],
         "z": [
          0.2165201292397308
         ]
        },
        {
         "legendgroup": "Atom importance",
         "marker": {
          "color": "#006400",
          "size": 14.6625,
          "symbol": "circle"
         },
         "mode": "markers",
         "opacity": 0.49980451235818923,
         "showlegend": false,
         "text": "atom C",
         "type": "scatter3d",
         "x": [
          5.450117858174212
         ],
         "y": [
          0.43027940642855744
         ],
         "z": [
          -0.955195889969145
         ]
        },
        {
         "legendgroup": "Atom importance",
         "marker": {
          "color": "#006400",
          "size": 14.6625,
          "symbol": "circle"
         },
         "mode": "markers",
         "opacity": 0.3034319233971987,
         "showlegend": false,
         "text": "atom C",
         "type": "scatter3d",
         "x": [
          5.1958034562333
         ],
         "y": [
          -1.70504550789139
         ],
         "z": [
          0.30554200078051025
         ]
        },
        {
         "legendgroup": "Atom importance",
         "marker": {
          "color": "#006400",
          "size": 14.6625,
          "symbol": "circle"
         },
         "mode": "markers",
         "opacity": 0.18467739381843923,
         "showlegend": false,
         "text": "atom C",
         "type": "scatter3d",
         "x": [
          5.281619276041164
         ],
         "y": [
          0.4459933195197986
         ],
         "z": [
          1.472336262350652
         ]
        },
        {
         "legendgroup": "Atom importance",
         "marker": {
          "color": "#006400",
          "size": 14.6625,
          "symbol": "circle"
         },
         "mode": "markers",
         "opacity": 0.24966645491491712,
         "showlegend": false,
         "text": "atom C",
         "type": "scatter3d",
         "x": [
          2.5619300367634166
         ],
         "y": [
          -0.766892728255757
         ],
         "z": [
          1.1328187461339703
         ]
        },
        {
         "legendgroup": "Atom importance",
         "marker": {
          "color": "#006400",
          "size": 14.6625,
          "symbol": "circle"
         },
         "mode": "markers",
         "opacity": 0,
         "showlegend": false,
         "text": "atom C",
         "type": "scatter3d",
         "x": [
          1.192141213031737
         ],
         "y": [
          -0.7156356379600891
         ],
         "z": [
          1.0695941888688898
         ]
        },
        {
         "legendgroup": "Atom importance",
         "marker": {
          "color": "#4B0082",
          "size": 6.5874999999999995,
          "symbol": "circle"
         },
         "mode": "markers",
         "opacity": 0.5109746037337524,
         "showlegend": false,
         "text": "atom H",
         "type": "scatter3d",
         "x": [
          -6.413136000215664
         ],
         "y": [
          0.6358677937900055
         ],
         "z": [
          0.16503320858361054
         ]
        },
        {
         "legendgroup": "Atom importance",
         "marker": {
          "color": "#4B0082",
          "size": 6.5874999999999995,
          "symbol": "circle"
         },
         "mode": "markers",
         "opacity": 0.512422936144156,
         "showlegend": false,
         "text": "atom H",
         "type": "scatter3d",
         "x": [
          -5.367090771378174
         ],
         "y": [
          1.475538734074253
         ],
         "z": [
          -1.090826638877637
         ]
        },
        {
         "legendgroup": "Atom importance",
         "marker": {
          "color": "#006400",
          "size": 6.5874999999999995,
          "symbol": "circle"
         },
         "mode": "markers",
         "opacity": 0.49892022843551226,
         "showlegend": false,
         "text": "atom H",
         "type": "scatter3d",
         "x": [
          -6.437408703896297
         ],
         "y": [
          0.12789876669557493
         ],
         "z": [
          -1.5409967908940458
         ]
        },
        {
         "legendgroup": "Atom importance",
         "marker": {
          "color": "#006400",
          "size": 6.5874999999999995,
          "symbol": "circle"
         },
         "mode": "markers",
         "opacity": 0.49956371831714325,
         "showlegend": false,
         "text": "atom H",
         "type": "scatter3d",
         "x": [
          -4.0768564742543045
         ],
         "y": [
          -0.5347800995937809
         ],
         "z": [
          2.6270066373205636
         ]
        },
        {
         "legendgroup": "Atom importance",
         "marker": {
          "color": "#006400",
          "size": 6.5874999999999995,
          "symbol": "circle"
         },
         "mode": "markers",
         "opacity": 0.4992234401461452,
         "showlegend": false,
         "text": "atom H",
         "type": "scatter3d",
         "x": [
          -4.744205047557604
         ],
         "y": [
          1.0120014747185297
         ],
         "z": [
          2.0076300108264564
         ]
        },
        {
         "legendgroup": "Atom importance",
         "marker": {
          "color": "#006400",
          "size": 6.5874999999999995,
          "symbol": "circle"
         },
         "mode": "markers",
         "opacity": 0.47250253872888,
         "showlegend": false,
         "text": "atom H",
         "type": "scatter3d",
         "x": [
          -5.6366891662544125
         ],
         "y": [
          -0.5090780798817952
         ],
         "z": [
          1.7331690604929437
         ]
        },
        {
         "legendgroup": "Atom importance",
         "marker": {
          "color": "#006400",
          "size": 6.5874999999999995,
          "symbol": "circle"
         },
         "mode": "markers",
         "opacity": 0.44603869369177024,
         "showlegend": false,
         "text": "atom H",
         "type": "scatter3d",
         "x": [
          -3.5926213268397733
         ],
         "y": [
          1.9063254225477149
         ],
         "z": [
          -0.1205736658425772
         ]
        },
        {
         "legendgroup": "Atom importance",
         "marker": {
          "color": "#006400",
          "size": 6.5874999999999995,
          "symbol": "circle"
         },
         "mode": "markers",
         "opacity": 0.4867336599518469,
         "showlegend": false,
         "text": "atom H",
         "type": "scatter3d",
         "x": [
          -2.558376023971095
         ],
         "y": [
          1.2952901092176388
         ],
         "z": [
          1.1963257926181838
         ]
        },
        {
         "legendgroup": "Atom importance",
         "marker": {
          "color": "#006400",
          "size": 6.5874999999999995,
          "symbol": "circle"
         },
         "mode": "markers",
         "opacity": 0.46045202076197184,
         "showlegend": false,
         "text": "atom H",
         "type": "scatter3d",
         "x": [
          -2.349579575000642
         ],
         "y": [
          2.581610559536717
         ],
         "z": [
          -1.5537871026490728
         ]
        },
        {
         "legendgroup": "Atom importance",
         "marker": {
          "color": "#006400",
          "size": 6.5874999999999995,
          "symbol": "circle"
         },
         "mode": "markers",
         "opacity": 0.49066964476344826,
         "showlegend": false,
         "text": "atom H",
         "type": "scatter3d",
         "x": [
          -1.203043489461612
         ],
         "y": [
          1.640888623339094
         ],
         "z": [
          -2.5177747045254724
         ]
        },
        {
         "legendgroup": "Atom importance",
         "marker": {
          "color": "#006400",
          "size": 6.5874999999999995,
          "symbol": "circle"
         },
         "mode": "markers",
         "opacity": 0.43761644683733636,
         "showlegend": false,
         "text": "atom H",
         "type": "scatter3d",
         "x": [
          -0.656997543726782
         ],
         "y": [
          2.4274604701905718
         ],
         "z": [
          -0.9985587940239851
         ]
        },
        {
         "legendgroup": "Atom importance",
         "marker": {
          "color": "#006400",
          "size": 6.5874999999999995,
          "symbol": "circle"
         },
         "mode": "markers",
         "opacity": 0.48929111307152917,
         "showlegend": false,
         "text": "atom H",
         "type": "scatter3d",
         "x": [
          -2.6868524213135805
         ],
         "y": [
          -0.30855571764018336
         ],
         "z": [
          -2.681246824653849
         ]
        },
        {
         "legendgroup": "Atom importance",
         "marker": {
          "color": "#006400",
          "size": 6.5874999999999995,
          "symbol": "circle"
         },
         "mode": "markers",
         "opacity": 0.47036545778999256,
         "showlegend": false,
         "text": "atom H",
         "type": "scatter3d",
         "x": [
          -2.6339701757314065
         ],
         "y": [
          -2.5700090487079015
         ],
         "z": [
          -1.379934770253846
         ]
        },
        {
         "legendgroup": "Atom importance",
         "marker": {
          "color": "#006400",
          "size": 6.5874999999999995,
          "symbol": "circle"
         },
         "mode": "markers",
         "opacity": 0.4564737459099554,
         "showlegend": false,
         "text": "atom H",
         "type": "scatter3d",
         "x": [
          -3.2708401893531605
         ],
         "y": [
          -2.218860467808728
         ],
         "z": [
          1.037970701385826
         ]
        },
        {
         "legendgroup": "Atom importance",
         "marker": {
          "color": "#4B0082",
          "size": 6.5874999999999995,
          "symbol": "circle"
         },
         "mode": "markers",
         "opacity": 0.5492878973730417,
         "showlegend": false,
         "text": "atom H",
         "type": "scatter3d",
         "x": [
          -1.2580055733311668
         ],
         "y": [
          -0.9613113203954293
         ],
         "z": [
          2.0246536337432484
         ]
        },
        {
         "legendgroup": "Atom importance",
         "marker": {
          "color": "#4B0082",
          "size": 6.5874999999999995,
          "symbol": "circle"
         },
         "mode": "markers",
         "opacity": 0.5287915083869738,
         "showlegend": false,
         "text": "atom H",
         "type": "scatter3d",
         "x": [
          0.8153424710086845
         ],
         "y": [
          0.9312910895910947
         ],
         "z": [
          -1.7874724650479217
         ]
        },
        {
         "legendgroup": "Atom importance",
         "marker": {
          "color": "#006400",
          "size": 6.5874999999999995,
          "symbol": "circle"
         },
         "mode": "markers",
         "opacity": 0.4946267162312343,
         "showlegend": false,
         "text": "atom H",
         "type": "scatter3d",
         "x": [
          3.2568437814556734
         ],
         "y": [
          0.8757038176192135
         ],
         "z": [
          -1.6780018785899595
         ]
        },
        {
         "legendgroup": "Atom importance",
         "marker": {
          "color": "#006400",
          "size": 6.5874999999999995,
          "symbol": "circle"
         },
         "mode": "markers",
         "opacity": 0.47117744725866095,
         "showlegend": false,
         "text": "atom H",
         "type": "scatter3d",
         "x": [
          5.160948874029246
         ],
         "y": [
          -0.02644476195246066
         ],
         "z": [
          -1.9260536634310408
         ]
        },
        {
         "legendgroup": "Atom importance",
         "marker": {
          "color": "#006400",
          "size": 6.5874999999999995,
          "symbol": "circle"
         },
         "mode": "markers",
         "opacity": 0.49388427545458785,
         "showlegend": false,
         "text": "atom H",
         "type": "scatter3d",
         "x": [
          5.120227083945721
         ],
         "y": [
          1.4876994479214627
         ],
         "z": [
          -0.9636254477166004
         ]
        },
        {
         "legendgroup": "Atom importance",
         "marker": {
          "color": "#4B0082",
          "size": 6.5874999999999995,
          "symbol": "circle"
         },
         "mode": "markers",
         "opacity": 0.5005525322048434,
         "showlegend": false,
         "text": "atom H",
         "type": "scatter3d",
         "x": [
          6.539098848028223
         ],
         "y": [
          0.39004658144204135
         ],
         "z": [
          -0.7933742257647756
         ]
        },
        {
         "legendgroup": "Atom importance",
         "marker": {
          "color": "#006400",
          "size": 6.5874999999999995,
          "symbol": "circle"
         },
         "mode": "markers",
         "opacity": 0.4801196538873368,
         "showlegend": false,
         "text": "atom H",
         "type": "scatter3d",
         "x": [
          4.706453491030429
         ],
         "y": [
          -2.236551742572326
         ],
         "z": [
          -0.5357417923834494
         ]
        },
        {
         "legendgroup": "Atom importance",
         "marker": {
          "color": "#006400",
          "size": 6.5874999999999995,
          "symbol": "circle"
         },
         "mode": "markers",
         "opacity": 0.4973519241334343,
         "showlegend": false,
         "text": "atom H",
         "type": "scatter3d",
         "x": [
          6.301219197447433
         ],
         "y": [
          -1.8267638049286796
         ],
         "z": [
          0.19194266072373256
         ]
        },
        {
         "legendgroup": "Atom importance",
         "marker": {
          "color": "#4B0082",
          "size": 6.5874999999999995,
          "symbol": "circle"
         },
         "mode": "markers",
         "opacity": 0.5,
         "showlegend": false,
         "text": "atom H",
         "type": "scatter3d",
         "x": [
          4.81792676420783
         ],
         "y": [
          -2.104630450832042
         ],
         "z": [
          1.265629184790437
         ]
        },
        {
         "legendgroup": "Atom importance",
         "marker": {
          "color": "#006400",
          "size": 6.5874999999999995,
          "symbol": "circle"
         },
         "mode": "markers",
         "opacity": 0.48488226692571523,
         "showlegend": false,
         "text": "atom H",
         "type": "scatter3d",
         "x": [
          6.306008206845575
         ],
         "y": [
          0.8155522184085039
         ],
         "z": [
          1.2790989637431207
         ]
        },
        {
         "legendgroup": "Atom importance",
         "marker": {
          "color": "#4B0082",
          "size": 6.5874999999999995,
          "symbol": "circle"
         },
         "mode": "markers",
         "opacity": 0.5071230225844574,
         "showlegend": false,
         "text": "atom H",
         "type": "scatter3d",
         "x": [
          4.668602949996497
         ],
         "y": [
          1.346001362958172
         ],
         "z": [
          1.706709930796106
         ]
        },
        {
         "legendgroup": "Atom importance",
         "marker": {
          "color": "#4B0082",
          "size": 6.5874999999999995,
          "symbol": "circle"
         },
         "mode": "markers",
         "opacity": 0.5187017098727392,
         "showlegend": false,
         "text": "atom H",
         "type": "scatter3d",
         "x": [
          5.348885400589144
         ],
         "y": [
          -0.2652046273464343
         ],
         "z": [
          2.3071089400548033
         ]
        },
        {
         "legendgroup": "Atom importance",
         "marker": {
          "color": "#4B0082",
          "size": 6.5874999999999995,
          "symbol": "circle"
         },
         "mode": "markers",
         "opacity": 0.5039597933535814,
         "showlegend": false,
         "text": "atom H",
         "type": "scatter3d",
         "x": [
          3.092533531604176
         ],
         "y": [
          -1.25328313454612
         ],
         "z": [
          1.951920557695832
         ]
        },
        {
         "legendgroup": "Atom importance",
         "marker": {
          "color": "#4B0082",
          "size": 6.5874999999999995,
          "symbol": "circle"
         },
         "mode": "markers",
         "opacity": 0.5335652291600751,
         "showlegend": false,
         "text": "atom H",
         "type": "scatter3d",
         "x": [
          0.6468125690962226
         ],
         "y": [
          -1.181349265620127
         ],
         "z": [
          1.8656393692468178
         ]
        },
        {
         "hoverinfo": "none",
         "legendgroup": "Bonds",
         "line": {
          "color": "black",
          "width": 2
         },
         "mode": "lines",
         "showlegend": false,
         "type": "scatter3d",
         "x": [
          -5.765199059116092,
          -4.786588154749018
         ],
         "y": [
          0.49396724419301297,
          -0.4490100413632969
         ],
         "z": [
          -0.7255921570093664,
          -0.5483873660192338
         ]
        },
        {
         "hoverinfo": "none",
         "legendgroup": "Bonds",
         "line": {
          "color": "black",
          "width": 2
         },
         "mode": "lines",
         "showlegend": false,
         "type": "scatter3d",
         "x": [
          -4.786588154749018,
          -3.9093584898261486
         ],
         "y": [
          -0.4490100413632969,
          -0.18126015376578947
         ],
         "z": [
          -0.5483873660192338,
          0.47188641660172154
         ]
        },
        {
         "hoverinfo": "none",
         "legendgroup": "Bonds",
         "line": {
          "color": "black",
          "width": 2
         },
         "mode": "lines",
         "showlegend": false,
         "type": "scatter3d",
         "x": [
          -3.9093584898261486,
          -4.63222705730461
         ],
         "y": [
          -0.18126015376578947,
          -0.08286731269117335
         ],
         "z": [
          0.47188641660172154,
          1.7817292074627857
         ]
        },
        {
         "hoverinfo": "none",
         "legendgroup": "Bonds",
         "line": {
          "color": "black",
          "width": 2
         },
         "mode": "lines",
         "showlegend": false,
         "type": "scatter3d",
         "x": [
          -3.9093584898261486,
          -3.0585871631619987
         ],
         "y": [
          -0.18126015376578947,
          1.033526250141602
         ],
         "z": [
          0.47188641660172154,
          0.24300583181060414
         ]
        },
        {
         "hoverinfo": "none",
         "legendgroup": "Bonds",
         "line": {
          "color": "black",
          "width": 2
         },
         "mode": "lines",
         "showlegend": false,
         "type": "scatter3d",
         "x": [
          -3.0585871631619987,
          -1.9162712674176805
         ],
         "y": [
          1.033526250141602,
          0.6423301324654801
         ],
         "z": [
          0.24300583181060414,
          -0.745638914569754
         ]
        },
        {
         "hoverinfo": "none",
         "legendgroup": "Bonds",
         "line": {
          "color": "black",
          "width": 2
         },
         "mode": "lines",
         "showlegend": false,
         "type": "scatter3d",
         "x": [
          -1.9162712674176805,
          -1.4710453135075172
         ],
         "y": [
          0.6423301324654801,
          1.8497691636107099
         ],
         "z": [
          -0.745638914569754,
          -1.469057688895174
         ]
        },
        {
         "hoverinfo": "none",
         "legendgroup": "Bonds",
         "line": {
          "color": "black",
          "width": 2
         },
         "mode": "lines",
         "showlegend": false,
         "type": "scatter3d",
         "x": [
          -1.9162712674176805,
          -2.4736677008063332
         ],
         "y": [
          0.6423301324654801,
          -0.44190360824236385
         ],
         "z": [
          -0.745638914569754,
          -1.6509938693628945
         ]
        },
        {
         "hoverinfo": "none",
         "legendgroup": "Bonds",
         "line": {
          "color": "black",
          "width": 2
         },
         "mode": "lines",
         "showlegend": false,
         "type": "scatter3d",
         "x": [
          -2.4736677008063332,
          -2.6571059330029887
         ],
         "y": [
          -0.44190360824236385,
          -1.5933482856960943
         ],
         "z": [
          -1.6509938693628945,
          -0.9615851848779342
         ]
        },
        {
         "hoverinfo": "none",
         "legendgroup": "Bonds",
         "line": {
          "color": "black",
          "width": 2
         },
         "mode": "lines",
         "showlegend": false,
         "type": "scatter3d",
         "x": [
          -2.6571059330029887,
          -2.9055221392212536
         ],
         "y": [
          -1.5933482856960943,
          -1.365286947662092
         ],
         "z": [
          -0.9615851848779342,
          0.492995761999175
         ]
        },
        {
         "hoverinfo": "none",
         "legendgroup": "Bonds",
         "line": {
          "color": "black",
          "width": 2
         },
         "mode": "lines",
         "showlegend": false,
         "type": "scatter3d",
         "x": [
          -2.9055221392212536,
          -1.6004156164688266
         ],
         "y": [
          -1.365286947662092,
          -0.8102965144671318
         ],
         "z": [
          0.492995761999175,
          1.041987997888231
         ]
        },
        {
         "hoverinfo": "none",
         "legendgroup": "Bonds",
         "line": {
          "color": "black",
          "width": 2
         },
         "mode": "lines",
         "showlegend": false,
         "type": "scatter3d",
         "x": [
          -1.6004156164688266,
          -0.9347413560812796
         ],
         "y": [
          -0.8102965144671318,
          -0.08092157098155205
         ],
         "z": [
          1.041987997888231,
          0.09503794920132728
         ]
        },
        {
         "hoverinfo": "none",
         "legendgroup": "Bonds",
         "line": {
          "color": "black",
          "width": 2
         },
         "mode": "lines",
         "showlegend": false,
         "type": "scatter3d",
         "x": [
          -0.9347413560812796,
          0.48715774835250425
         ],
         "y": [
          -0.08092157098155205,
          -0.0974727387601779
         ],
         "z": [
          0.09503794920132728,
          0.029694731087199906
         ]
        },
        {
         "hoverinfo": "none",
         "legendgroup": "Bonds",
         "line": {
          "color": "black",
          "width": 2
         },
         "mode": "lines",
         "showlegend": false,
         "type": "scatter3d",
         "x": [
          0.48715774835250425,
          1.2709369628040426
         ],
         "y": [
          -0.0974727387601779,
          0.4622460469638631
         ],
         "z": [
          0.029694731087199906,
          -0.9399081365216849
         ]
        },
        {
         "hoverinfo": "none",
         "legendgroup": "Bonds",
         "line": {
          "color": "black",
          "width": 2
         },
         "mode": "lines",
         "showlegend": false,
         "type": "scatter3d",
         "x": [
          1.2709369628040426,
          2.6768768577588573
         ],
         "y": [
          0.4622460469638631,
          0.42111639450573957
         ],
         "z": [
          -0.9399081365216849,
          -0.8935031093049134
         ]
        },
        {
         "hoverinfo": "none",
         "legendgroup": "Bonds",
         "line": {
          "color": "black",
          "width": 2
         },
         "mode": "lines",
         "showlegend": false,
         "type": "scatter3d",
         "x": [
          2.6768768577588573,
          3.314061914890325
         ],
         "y": [
          0.42111639450573957,
          -0.19072205358617722
         ],
         "z": [
          -0.8935031093049134,
          0.1384656873683326
         ]
        },
        {
         "hoverinfo": "none",
         "legendgroup": "Bonds",
         "line": {
          "color": "black",
          "width": 2
         },
         "mode": "lines",
         "showlegend": false,
         "type": "scatter3d",
         "x": [
          3.314061914890325,
          4.7848532396141366
         ],
         "y": [
          -0.19072205358617722,
          -0.25091880672988154
         ],
         "z": [
          0.1384656873683326,
          0.2165201292397308
         ]
        },
        {
         "hoverinfo": "none",
         "legendgroup": "Bonds",
         "line": {
          "color": "black",
          "width": 2
         },
         "mode": "lines",
         "showlegend": false,
         "type": "scatter3d",
         "x": [
          4.7848532396141366,
          5.450117858174212
         ],
         "y": [
          -0.25091880672988154,
          0.43027940642855744
         ],
         "z": [
          0.2165201292397308,
          -0.955195889969145
         ]
        },
        {
         "hoverinfo": "none",
         "legendgroup": "Bonds",
         "line": {
          "color": "black",
          "width": 2
         },
         "mode": "lines",
         "showlegend": false,
         "type": "scatter3d",
         "x": [
          4.7848532396141366,
          5.1958034562333
         ],
         "y": [
          -0.25091880672988154,
          -1.70504550789139
         ],
         "z": [
          0.2165201292397308,
          0.30554200078051025
         ]
        },
        {
         "hoverinfo": "none",
         "legendgroup": "Bonds",
         "line": {
          "color": "black",
          "width": 2
         },
         "mode": "lines",
         "showlegend": false,
         "type": "scatter3d",
         "x": [
          4.7848532396141366,
          5.281619276041164
         ],
         "y": [
          -0.25091880672988154,
          0.4459933195197986
         ],
         "z": [
          0.2165201292397308,
          1.472336262350652
         ]
        },
        {
         "hoverinfo": "none",
         "legendgroup": "Bonds",
         "line": {
          "color": "black",
          "width": 2
         },
         "mode": "lines",
         "showlegend": false,
         "type": "scatter3d",
         "x": [
          3.314061914890325,
          2.5619300367634166
         ],
         "y": [
          -0.19072205358617722,
          -0.766892728255757
         ],
         "z": [
          0.1384656873683326,
          1.1328187461339703
         ]
        },
        {
         "hoverinfo": "none",
         "legendgroup": "Bonds",
         "line": {
          "color": "black",
          "width": 2
         },
         "mode": "lines",
         "showlegend": false,
         "type": "scatter3d",
         "x": [
          2.5619300367634166,
          1.192141213031737
         ],
         "y": [
          -0.766892728255757,
          -0.7156356379600891
         ],
         "z": [
          1.1328187461339703,
          1.0695941888688898
         ]
        },
        {
         "hoverinfo": "none",
         "legendgroup": "Bonds",
         "line": {
          "color": "black",
          "width": 2
         },
         "mode": "lines",
         "showlegend": false,
         "type": "scatter3d",
         "x": [
          -3.9093584898261486,
          -2.9055221392212536
         ],
         "y": [
          -0.18126015376578947,
          -1.365286947662092
         ],
         "z": [
          0.47188641660172154,
          0.492995761999175
         ]
        },
        {
         "hoverinfo": "none",
         "legendgroup": "Bonds",
         "line": {
          "color": "black",
          "width": 2
         },
         "mode": "lines",
         "showlegend": false,
         "type": "scatter3d",
         "x": [
          0.48715774835250425,
          1.192141213031737
         ],
         "y": [
          -0.0974727387601779,
          -0.7156356379600891
         ],
         "z": [
          0.029694731087199906,
          1.0695941888688898
         ]
        },
        {
         "hoverinfo": "none",
         "legendgroup": "Bonds",
         "line": {
          "color": "black",
          "width": 2
         },
         "mode": "lines",
         "showlegend": false,
         "type": "scatter3d",
         "x": [
          -1.9162712674176805,
          -0.9347413560812796
         ],
         "y": [
          0.6423301324654801,
          -0.08092157098155205
         ],
         "z": [
          -0.745638914569754,
          0.09503794920132728
         ]
        },
        {
         "hoverinfo": "none",
         "legendgroup": "Bonds",
         "line": {
          "color": "black",
          "width": 2
         },
         "mode": "lines",
         "showlegend": false,
         "type": "scatter3d",
         "x": [
          -5.765199059116092,
          -6.413136000215664
         ],
         "y": [
          0.49396724419301297,
          0.6358677937900055
         ],
         "z": [
          -0.7255921570093664,
          0.16503320858361054
         ]
        },
        {
         "hoverinfo": "none",
         "legendgroup": "Bonds",
         "line": {
          "color": "black",
          "width": 2
         },
         "mode": "lines",
         "showlegend": false,
         "type": "scatter3d",
         "x": [
          -5.765199059116092,
          -5.367090771378174
         ],
         "y": [
          0.49396724419301297,
          1.475538734074253
         ],
         "z": [
          -0.7255921570093664,
          -1.090826638877637
         ]
        },
        {
         "hoverinfo": "none",
         "legendgroup": "Bonds",
         "line": {
          "color": "black",
          "width": 2
         },
         "mode": "lines",
         "showlegend": false,
         "type": "scatter3d",
         "x": [
          -5.765199059116092,
          -6.437408703896297
         ],
         "y": [
          0.49396724419301297,
          0.12789876669557493
         ],
         "z": [
          -0.7255921570093664,
          -1.5409967908940458
         ]
        },
        {
         "hoverinfo": "none",
         "legendgroup": "Bonds",
         "line": {
          "color": "black",
          "width": 2
         },
         "mode": "lines",
         "showlegend": false,
         "type": "scatter3d",
         "x": [
          -4.63222705730461,
          -4.0768564742543045
         ],
         "y": [
          -0.08286731269117335,
          -0.5347800995937809
         ],
         "z": [
          1.7817292074627857,
          2.6270066373205636
         ]
        },
        {
         "hoverinfo": "none",
         "legendgroup": "Bonds",
         "line": {
          "color": "black",
          "width": 2
         },
         "mode": "lines",
         "showlegend": false,
         "type": "scatter3d",
         "x": [
          -4.63222705730461,
          -4.744205047557604
         ],
         "y": [
          -0.08286731269117335,
          1.0120014747185297
         ],
         "z": [
          1.7817292074627857,
          2.0076300108264564
         ]
        },
        {
         "hoverinfo": "none",
         "legendgroup": "Bonds",
         "line": {
          "color": "black",
          "width": 2
         },
         "mode": "lines",
         "showlegend": false,
         "type": "scatter3d",
         "x": [
          -4.63222705730461,
          -5.6366891662544125
         ],
         "y": [
          -0.08286731269117335,
          -0.5090780798817952
         ],
         "z": [
          1.7817292074627857,
          1.7331690604929437
         ]
        },
        {
         "hoverinfo": "none",
         "legendgroup": "Bonds",
         "line": {
          "color": "black",
          "width": 2
         },
         "mode": "lines",
         "showlegend": false,
         "type": "scatter3d",
         "x": [
          -3.0585871631619987,
          -3.5926213268397733
         ],
         "y": [
          1.033526250141602,
          1.9063254225477149
         ],
         "z": [
          0.24300583181060414,
          -0.1205736658425772
         ]
        },
        {
         "hoverinfo": "none",
         "legendgroup": "Bonds",
         "line": {
          "color": "black",
          "width": 2
         },
         "mode": "lines",
         "showlegend": false,
         "type": "scatter3d",
         "x": [
          -3.0585871631619987,
          -2.558376023971095
         ],
         "y": [
          1.033526250141602,
          1.2952901092176388
         ],
         "z": [
          0.24300583181060414,
          1.1963257926181838
         ]
        },
        {
         "hoverinfo": "none",
         "legendgroup": "Bonds",
         "line": {
          "color": "black",
          "width": 2
         },
         "mode": "lines",
         "showlegend": false,
         "type": "scatter3d",
         "x": [
          -1.4710453135075172,
          -2.349579575000642
         ],
         "y": [
          1.8497691636107099,
          2.581610559536717
         ],
         "z": [
          -1.469057688895174,
          -1.5537871026490728
         ]
        },
        {
         "hoverinfo": "none",
         "legendgroup": "Bonds",
         "line": {
          "color": "black",
          "width": 2
         },
         "mode": "lines",
         "showlegend": false,
         "type": "scatter3d",
         "x": [
          -1.4710453135075172,
          -1.203043489461612
         ],
         "y": [
          1.8497691636107099,
          1.640888623339094
         ],
         "z": [
          -1.469057688895174,
          -2.5177747045254724
         ]
        },
        {
         "hoverinfo": "none",
         "legendgroup": "Bonds",
         "line": {
          "color": "black",
          "width": 2
         },
         "mode": "lines",
         "showlegend": false,
         "type": "scatter3d",
         "x": [
          -1.4710453135075172,
          -0.656997543726782
         ],
         "y": [
          1.8497691636107099,
          2.4274604701905718
         ],
         "z": [
          -1.469057688895174,
          -0.9985587940239851
         ]
        },
        {
         "hoverinfo": "none",
         "legendgroup": "Bonds",
         "line": {
          "color": "black",
          "width": 2
         },
         "mode": "lines",
         "showlegend": false,
         "type": "scatter3d",
         "x": [
          -2.4736677008063332,
          -2.6868524213135805
         ],
         "y": [
          -0.44190360824236385,
          -0.30855571764018336
         ],
         "z": [
          -1.6509938693628945,
          -2.681246824653849
         ]
        },
        {
         "hoverinfo": "none",
         "legendgroup": "Bonds",
         "line": {
          "color": "black",
          "width": 2
         },
         "mode": "lines",
         "showlegend": false,
         "type": "scatter3d",
         "x": [
          -2.6571059330029887,
          -2.6339701757314065
         ],
         "y": [
          -1.5933482856960943,
          -2.5700090487079015
         ],
         "z": [
          -0.9615851848779342,
          -1.379934770253846
         ]
        },
        {
         "hoverinfo": "none",
         "legendgroup": "Bonds",
         "line": {
          "color": "black",
          "width": 2
         },
         "mode": "lines",
         "showlegend": false,
         "type": "scatter3d",
         "x": [
          -2.9055221392212536,
          -3.2708401893531605
         ],
         "y": [
          -1.365286947662092,
          -2.218860467808728
         ],
         "z": [
          0.492995761999175,
          1.037970701385826
         ]
        },
        {
         "hoverinfo": "none",
         "legendgroup": "Bonds",
         "line": {
          "color": "black",
          "width": 2
         },
         "mode": "lines",
         "showlegend": false,
         "type": "scatter3d",
         "x": [
          -1.6004156164688266,
          -1.2580055733311668
         ],
         "y": [
          -0.8102965144671318,
          -0.9613113203954293
         ],
         "z": [
          1.041987997888231,
          2.0246536337432484
         ]
        },
        {
         "hoverinfo": "none",
         "legendgroup": "Bonds",
         "line": {
          "color": "black",
          "width": 2
         },
         "mode": "lines",
         "showlegend": false,
         "type": "scatter3d",
         "x": [
          1.2709369628040426,
          0.8153424710086845
         ],
         "y": [
          0.4622460469638631,
          0.9312910895910947
         ],
         "z": [
          -0.9399081365216849,
          -1.7874724650479217
         ]
        },
        {
         "hoverinfo": "none",
         "legendgroup": "Bonds",
         "line": {
          "color": "black",
          "width": 2
         },
         "mode": "lines",
         "showlegend": false,
         "type": "scatter3d",
         "x": [
          2.6768768577588573,
          3.2568437814556734
         ],
         "y": [
          0.42111639450573957,
          0.8757038176192135
         ],
         "z": [
          -0.8935031093049134,
          -1.6780018785899595
         ]
        },
        {
         "hoverinfo": "none",
         "legendgroup": "Bonds",
         "line": {
          "color": "black",
          "width": 2
         },
         "mode": "lines",
         "showlegend": false,
         "type": "scatter3d",
         "x": [
          5.450117858174212,
          5.160948874029246
         ],
         "y": [
          0.43027940642855744,
          -0.02644476195246066
         ],
         "z": [
          -0.955195889969145,
          -1.9260536634310408
         ]
        },
        {
         "hoverinfo": "none",
         "legendgroup": "Bonds",
         "line": {
          "color": "black",
          "width": 2
         },
         "mode": "lines",
         "showlegend": false,
         "type": "scatter3d",
         "x": [
          5.450117858174212,
          5.120227083945721
         ],
         "y": [
          0.43027940642855744,
          1.4876994479214627
         ],
         "z": [
          -0.955195889969145,
          -0.9636254477166004
         ]
        },
        {
         "hoverinfo": "none",
         "legendgroup": "Bonds",
         "line": {
          "color": "black",
          "width": 2
         },
         "mode": "lines",
         "showlegend": false,
         "type": "scatter3d",
         "x": [
          5.450117858174212,
          6.539098848028223
         ],
         "y": [
          0.43027940642855744,
          0.39004658144204135
         ],
         "z": [
          -0.955195889969145,
          -0.7933742257647756
         ]
        },
        {
         "hoverinfo": "none",
         "legendgroup": "Bonds",
         "line": {
          "color": "black",
          "width": 2
         },
         "mode": "lines",
         "showlegend": false,
         "type": "scatter3d",
         "x": [
          5.1958034562333,
          4.706453491030429
         ],
         "y": [
          -1.70504550789139,
          -2.236551742572326
         ],
         "z": [
          0.30554200078051025,
          -0.5357417923834494
         ]
        },
        {
         "hoverinfo": "none",
         "legendgroup": "Bonds",
         "line": {
          "color": "black",
          "width": 2
         },
         "mode": "lines",
         "showlegend": false,
         "type": "scatter3d",
         "x": [
          5.1958034562333,
          6.301219197447433
         ],
         "y": [
          -1.70504550789139,
          -1.8267638049286796
         ],
         "z": [
          0.30554200078051025,
          0.19194266072373256
         ]
        },
        {
         "hoverinfo": "none",
         "legendgroup": "Bonds",
         "line": {
          "color": "black",
          "width": 2
         },
         "mode": "lines",
         "showlegend": false,
         "type": "scatter3d",
         "x": [
          5.1958034562333,
          4.81792676420783
         ],
         "y": [
          -1.70504550789139,
          -2.104630450832042
         ],
         "z": [
          0.30554200078051025,
          1.265629184790437
         ]
        },
        {
         "hoverinfo": "none",
         "legendgroup": "Bonds",
         "line": {
          "color": "black",
          "width": 2
         },
         "mode": "lines",
         "showlegend": false,
         "type": "scatter3d",
         "x": [
          5.281619276041164,
          6.306008206845575
         ],
         "y": [
          0.4459933195197986,
          0.8155522184085039
         ],
         "z": [
          1.472336262350652,
          1.2790989637431207
         ]
        },
        {
         "hoverinfo": "none",
         "legendgroup": "Bonds",
         "line": {
          "color": "black",
          "width": 2
         },
         "mode": "lines",
         "showlegend": false,
         "type": "scatter3d",
         "x": [
          5.281619276041164,
          4.668602949996497
         ],
         "y": [
          0.4459933195197986,
          1.346001362958172
         ],
         "z": [
          1.472336262350652,
          1.706709930796106
         ]
        },
        {
         "hoverinfo": "none",
         "legendgroup": "Bonds",
         "line": {
          "color": "black",
          "width": 2
         },
         "mode": "lines",
         "showlegend": false,
         "type": "scatter3d",
         "x": [
          5.281619276041164,
          5.348885400589144
         ],
         "y": [
          0.4459933195197986,
          -0.2652046273464343
         ],
         "z": [
          1.472336262350652,
          2.3071089400548033
         ]
        },
        {
         "hoverinfo": "none",
         "legendgroup": "Bonds",
         "line": {
          "color": "black",
          "width": 2
         },
         "mode": "lines",
         "showlegend": false,
         "type": "scatter3d",
         "x": [
          2.5619300367634166,
          3.092533531604176
         ],
         "y": [
          -0.766892728255757,
          -1.25328313454612
         ],
         "z": [
          1.1328187461339703,
          1.951920557695832
         ]
        },
        {
         "hoverinfo": "none",
         "legendgroup": "Bonds",
         "line": {
          "color": "black",
          "width": 2
         },
         "mode": "lines",
         "showlegend": false,
         "type": "scatter3d",
         "x": [
          1.192141213031737,
          0.6468125690962226
         ],
         "y": [
          -0.7156356379600891,
          -1.181349265620127
         ],
         "z": [
          1.0695941888688898,
          1.8656393692468178
         ]
        },
        {
         "hoverinfo": "none",
         "legendgroup": "Bond importance",
         "line": {
          "color": "#4B0082",
          "width": 8.796183523283378
         },
         "mode": "lines",
         "opacity": 0.5864122348855586,
         "showlegend": false,
         "type": "scatter3d",
         "x": [
          -5.765199059116092,
          -4.786588154749018
         ],
         "y": [
          0.49396724419301297,
          -0.4490100413632969
         ],
         "z": [
          -0.7255921570093664,
          -0.5483873660192338
         ]
        },
        {
         "hoverinfo": "none",
         "legendgroup": "Bond importance",
         "line": {
          "color": "#006400",
          "width": 6.044735073286368
         },
         "mode": "lines",
         "opacity": 0.40298233821909124,
         "showlegend": false,
         "type": "scatter3d",
         "x": [
          -4.786588154749018,
          -3.9093584898261486
         ],
         "y": [
          -0.4490100413632969,
          -0.18126015376578947
         ],
         "z": [
          -0.5483873660192338,
          0.47188641660172154
         ]
        },
        {
         "hoverinfo": "none",
         "legendgroup": "Bond importance",
         "line": {
          "color": "#4B0082",
          "width": 7.815520256202953
         },
         "mode": "lines",
         "opacity": 0.5210346837468636,
         "showlegend": false,
         "type": "scatter3d",
         "x": [
          -3.9093584898261486,
          -4.63222705730461
         ],
         "y": [
          -0.18126015376578947,
          -0.08286731269117335
         ],
         "z": [
          0.47188641660172154,
          1.7817292074627857
         ]
        },
        {
         "hoverinfo": "none",
         "legendgroup": "Bond importance",
         "line": {
          "color": "#4B0082",
          "width": 9.198235703971404
         },
         "mode": "lines",
         "opacity": 0.6132157135980936,
         "showlegend": false,
         "type": "scatter3d",
         "x": [
          -3.9093584898261486,
          -3.0585871631619987
         ],
         "y": [
          -0.18126015376578947,
          1.033526250141602
         ],
         "z": [
          0.47188641660172154,
          0.24300583181060414
         ]
        },
        {
         "hoverinfo": "none",
         "legendgroup": "Bond importance",
         "line": {
          "color": "#4B0082",
          "width": 15
         },
         "mode": "lines",
         "opacity": 1,
         "showlegend": false,
         "type": "scatter3d",
         "x": [
          -3.0585871631619987,
          -1.9162712674176805
         ],
         "y": [
          1.033526250141602,
          0.6423301324654801
         ],
         "z": [
          0.24300583181060414,
          -0.745638914569754
         ]
        },
        {
         "hoverinfo": "none",
         "legendgroup": "Bond importance",
         "line": {
          "color": "#006400",
          "width": 6.69777342316914
         },
         "mode": "lines",
         "opacity": 0.446518228211276,
         "showlegend": false,
         "type": "scatter3d",
         "x": [
          -1.9162712674176805,
          -1.4710453135075172
         ],
         "y": [
          0.6423301324654801,
          1.8497691636107099
         ],
         "z": [
          -0.745638914569754,
          -1.469057688895174
         ]
        },
        {
         "hoverinfo": "none",
         "legendgroup": "Bond importance",
         "line": {
          "color": "#4B0082",
          "width": 11.624456216469405
         },
         "mode": "lines",
         "opacity": 0.774963747764627,
         "showlegend": false,
         "type": "scatter3d",
         "x": [
          -1.9162712674176805,
          -2.4736677008063332
         ],
         "y": [
          0.6423301324654801,
          -0.44190360824236385
         ],
         "z": [
          -0.745638914569754,
          -1.6509938693628945
         ]
        },
        {
         "hoverinfo": "none",
         "legendgroup": "Bond importance",
         "line": {
          "color": "#4B0082",
          "width": 9.467517976847416
         },
         "mode": "lines",
         "opacity": 0.631167865123161,
         "showlegend": false,
         "type": "scatter3d",
         "x": [
          -2.4736677008063332,
          -2.6571059330029887
         ],
         "y": [
          -0.44190360824236385,
          -1.5933482856960943
         ],
         "z": [
          -1.6509938693628945,
          -0.9615851848779342
         ]
        },
        {
         "hoverinfo": "none",
         "legendgroup": "Bond importance",
         "line": {
          "color": "#4B0082",
          "width": 9.538818576843388
         },
         "mode": "lines",
         "opacity": 0.6359212384562258,
         "showlegend": false,
         "type": "scatter3d",
         "x": [
          -2.6571059330029887,
          -2.9055221392212536
         ],
         "y": [
          -1.5933482856960943,
          -1.365286947662092
         ],
         "z": [
          -0.9615851848779342,
          0.492995761999175
         ]
        },
        {
         "hoverinfo": "none",
         "legendgroup": "Bond importance",
         "line": {
          "color": "#006400",
          "width": 7.157250692873387
         },
         "mode": "lines",
         "opacity": 0.47715004619155915,
         "showlegend": false,
         "type": "scatter3d",
         "x": [
          -2.9055221392212536,
          -1.6004156164688266
         ],
         "y": [
          -1.365286947662092,
          -0.8102965144671318
         ],
         "z": [
          0.492995761999175,
          1.041987997888231
         ]
        },
        {
         "hoverinfo": "none",
         "legendgroup": "Bond importance",
         "line": {
          "color": "#4B0082",
          "width": 7.720664149152103
         },
         "mode": "lines",
         "opacity": 0.5147109432768069,
         "showlegend": false,
         "type": "scatter3d",
         "x": [
          -1.6004156164688266,
          -0.9347413560812796
         ],
         "y": [
          -0.8102965144671318,
          -0.08092157098155205
         ],
         "z": [
          1.041987997888231,
          0.09503794920132728
         ]
        },
        {
         "hoverinfo": "none",
         "legendgroup": "Bond importance",
         "line": {
          "color": "#006400",
          "width": 6.185000242073066
         },
         "mode": "lines",
         "opacity": 0.41233334947153777,
         "showlegend": false,
         "type": "scatter3d",
         "x": [
          -0.9347413560812796,
          0.48715774835250425
         ],
         "y": [
          -0.08092157098155205,
          -0.0974727387601779
         ],
         "z": [
          0.09503794920132728,
          0.029694731087199906
         ]
        },
        {
         "hoverinfo": "none",
         "legendgroup": "Bond importance",
         "line": {
          "color": "#006400",
          "width": 5.3645130644657915
         },
         "mode": "lines",
         "opacity": 0.3576342042977194,
         "showlegend": false,
         "type": "scatter3d",
         "x": [
          0.48715774835250425,
          1.2709369628040426
         ],
         "y": [
          -0.0974727387601779,
          0.4622460469638631
         ],
         "z": [
          0.029694731087199906,
          -0.9399081365216849
         ]
        },
        {
         "hoverinfo": "none",
         "legendgroup": "Bond importance",
         "line": {
          "color": "#006400",
          "width": 4.0695421654252915
         },
         "mode": "lines",
         "opacity": 0.27130281102835274,
         "showlegend": false,
         "type": "scatter3d",
         "x": [
          1.2709369628040426,
          2.6768768577588573
         ],
         "y": [
          0.4622460469638631,
          0.42111639450573957
         ],
         "z": [
          -0.9399081365216849,
          -0.8935031093049134
         ]
        },
        {
         "hoverinfo": "none",
         "legendgroup": "Bond importance",
         "line": {
          "color": "#006400",
          "width": 4.442014606484229
         },
         "mode": "lines",
         "opacity": 0.2961343070989486,
         "showlegend": false,
         "type": "scatter3d",
         "x": [
          2.6768768577588573,
          3.314061914890325
         ],
         "y": [
          0.42111639450573957,
          -0.19072205358617722
         ],
         "z": [
          -0.8935031093049134,
          0.1384656873683326
         ]
        },
        {
         "hoverinfo": "none",
         "legendgroup": "Bond importance",
         "line": {
          "color": "#006400",
          "width": 6.8438301235712995
         },
         "mode": "lines",
         "opacity": 0.45625534157141995,
         "showlegend": false,
         "type": "scatter3d",
         "x": [
          3.314061914890325,
          4.7848532396141366
         ],
         "y": [
          -0.19072205358617722,
          -0.25091880672988154
         ],
         "z": [
          0.1384656873683326,
          0.2165201292397308
         ]
        },
        {
         "hoverinfo": "none",
         "legendgroup": "Bond importance",
         "line": {
          "color": "#4B0082",
          "width": 8.462042106520157
         },
         "mode": "lines",
         "opacity": 0.5641361404346771,
         "showlegend": false,
         "type": "scatter3d",
         "x": [
          4.7848532396141366,
          5.450117858174212
         ],
         "y": [
          -0.25091880672988154,
          0.43027940642855744
         ],
         "z": [
          0.2165201292397308,
          -0.955195889969145
         ]
        },
        {
         "hoverinfo": "none",
         "legendgroup": "Bond importance",
         "line": {
          "color": "#006400",
          "width": 6.50458610924522
         },
         "mode": "lines",
         "opacity": 0.4336390739496813,
         "showlegend": false,
         "type": "scatter3d",
         "x": [
          4.7848532396141366,
          5.1958034562333
         ],
         "y": [
          -0.25091880672988154,
          -1.70504550789139
         ],
         "z": [
          0.2165201292397308,
          0.30554200078051025
         ]
        },
        {
         "hoverinfo": "none",
         "legendgroup": "Bond importance",
         "line": {
          "color": "#4B0082",
          "width": 8.549912032602593
         },
         "mode": "lines",
         "opacity": 0.5699941355068395,
         "showlegend": false,
         "type": "scatter3d",
         "x": [
          4.7848532396141366,
          5.281619276041164
         ],
         "y": [
          -0.25091880672988154,
          0.4459933195197986
         ],
         "z": [
          0.2165201292397308,
          1.472336262350652
         ]
        },
        {
         "hoverinfo": "none",
         "legendgroup": "Bond importance",
         "line": {
          "color": "#006400",
          "width": 4.754620685629225
         },
         "mode": "lines",
         "opacity": 0.31697471237528163,
         "showlegend": false,
         "type": "scatter3d",
         "x": [
          3.314061914890325,
          2.5619300367634166
         ],
         "y": [
          -0.19072205358617722,
          -0.766892728255757
         ],
         "z": [
          0.1384656873683326,
          1.1328187461339703
         ]
        },
        {
         "hoverinfo": "none",
         "legendgroup": "Bond importance",
         "line": {
          "color": "#006400",
          "width": 4.462222609674341
         },
         "mode": "lines",
         "opacity": 0.2974815073116227,
         "showlegend": false,
         "type": "scatter3d",
         "x": [
          2.5619300367634166,
          1.192141213031737
         ],
         "y": [
          -0.766892728255757,
          -0.7156356379600891
         ],
         "z": [
          1.1328187461339703,
          1.0695941888688898
         ]
        },
        {
         "hoverinfo": "none",
         "legendgroup": "Bond importance",
         "line": {
          "color": "#4B0082",
          "width": 11.121554625164054
         },
         "mode": "lines",
         "opacity": 0.7414369750109369,
         "showlegend": false,
         "type": "scatter3d",
         "x": [
          -3.9093584898261486,
          -2.9055221392212536
         ],
         "y": [
          -0.18126015376578947,
          -1.365286947662092
         ],
         "z": [
          0.47188641660172154,
          0.492995761999175
         ]
        },
        {
         "hoverinfo": "none",
         "legendgroup": "Bond importance",
         "line": {
          "color": "#006400",
          "width": 6.234879589011041
         },
         "mode": "lines",
         "opacity": 0.41565863926740276,
         "showlegend": false,
         "type": "scatter3d",
         "x": [
          0.48715774835250425,
          1.192141213031737
         ],
         "y": [
          -0.0974727387601779,
          -0.7156356379600891
         ],
         "z": [
          0.029694731087199906,
          1.0695941888688898
         ]
        },
        {
         "hoverinfo": "none",
         "legendgroup": "Bond importance",
         "line": {
          "color": "#4B0082",
          "width": 8.936789694500748
         },
         "mode": "lines",
         "opacity": 0.5957859796333832,
         "showlegend": false,
         "type": "scatter3d",
         "x": [
          -1.9162712674176805,
          -0.9347413560812796
         ],
         "y": [
          0.6423301324654801,
          -0.08092157098155205
         ],
         "z": [
          -0.745638914569754,
          0.09503794920132728
         ]
        },
        {
         "hoverinfo": "none",
         "legendgroup": "Bond importance",
         "line": {
          "color": "#006400",
          "width": 6.262416573614964
         },
         "mode": "lines",
         "opacity": 0.41749443824099763,
         "showlegend": false,
         "type": "scatter3d",
         "x": [
          -5.765199059116092,
          -6.413136000215664
         ],
         "y": [
          0.49396724419301297,
          0.6358677937900055
         ],
         "z": [
          -0.7255921570093664,
          0.16503320858361054
         ]
        },
        {
         "hoverinfo": "none",
         "legendgroup": "Bond importance",
         "line": {
          "color": "#4B0082",
          "width": 11.40825717928407
         },
         "mode": "lines",
         "opacity": 0.760550478618938,
         "showlegend": false,
         "type": "scatter3d",
         "x": [
          -5.765199059116092,
          -5.367090771378174
         ],
         "y": [
          0.49396724419301297,
          1.475538734074253
         ],
         "z": [
          -0.7255921570093664,
          -1.090826638877637
         ]
        },
        {
         "hoverinfo": "none",
         "legendgroup": "Bond importance",
         "line": {
          "color": "#4B0082",
          "width": 8.481953595000732
         },
         "mode": "lines",
         "opacity": 0.5654635730000488,
         "showlegend": false,
         "type": "scatter3d",
         "x": [
          -5.765199059116092,
          -6.437408703896297
         ],
         "y": [
          0.49396724419301297,
          0.12789876669557493
         ],
         "z": [
          -0.7255921570093664,
          -1.5409967908940458
         ]
        },
        {
         "hoverinfo": "none",
         "legendgroup": "Bond importance",
         "line": {
          "color": "#006400",
          "width": 6.322665586710092
         },
         "mode": "lines",
         "opacity": 0.4215110391140061,
         "showlegend": false,
         "type": "scatter3d",
         "x": [
          -4.63222705730461,
          -4.0768564742543045
         ],
         "y": [
          -0.08286731269117335,
          -0.5347800995937809
         ],
         "z": [
          1.7817292074627857,
          2.6270066373205636
         ]
        },
        {
         "hoverinfo": "none",
         "legendgroup": "Bond importance",
         "line": {
          "color": "#4B0082",
          "width": 10.693096610915449
         },
         "mode": "lines",
         "opacity": 0.7128731073943633,
         "showlegend": false,
         "type": "scatter3d",
         "x": [
          -4.63222705730461,
          -4.744205047557604
         ],
         "y": [
          -0.08286731269117335,
          1.0120014747185297
         ],
         "z": [
          1.7817292074627857,
          2.0076300108264564
         ]
        },
        {
         "hoverinfo": "none",
         "legendgroup": "Bond importance",
         "line": {
          "color": "#4B0082",
          "width": 8.869345751978756
         },
         "mode": "lines",
         "opacity": 0.5912897167985837,
         "showlegend": false,
         "type": "scatter3d",
         "x": [
          -4.63222705730461,
          -5.6366891662544125
         ],
         "y": [
          -0.08286731269117335,
          -0.5090780798817952
         ],
         "z": [
          1.7817292074627857,
          1.7331690604929437
         ]
        },
        {
         "hoverinfo": "none",
         "legendgroup": "Bond importance",
         "line": {
          "color": "#4B0082",
          "width": 9.59350064192876
         },
         "mode": "lines",
         "opacity": 0.6395667094619173,
         "showlegend": false,
         "type": "scatter3d",
         "x": [
          -3.0585871631619987,
          -3.5926213268397733
         ],
         "y": [
          1.033526250141602,
          1.9063254225477149
         ],
         "z": [
          0.24300583181060414,
          -0.1205736658425772
         ]
        },
        {
         "hoverinfo": "none",
         "legendgroup": "Bond importance",
         "line": {
          "color": "#4B0082",
          "width": 13.28729520360771
         },
         "mode": "lines",
         "opacity": 0.885819680240514,
         "showlegend": false,
         "type": "scatter3d",
         "x": [
          -3.0585871631619987,
          -2.558376023971095
         ],
         "y": [
          1.033526250141602,
          1.2952901092176388
         ],
         "z": [
          0.24300583181060414,
          1.1963257926181838
         ]
        },
        {
         "hoverinfo": "none",
         "legendgroup": "Bond importance",
         "line": {
          "color": "#4B0082",
          "width": 9.485756743836799
         },
         "mode": "lines",
         "opacity": 0.6323837829224532,
         "showlegend": false,
         "type": "scatter3d",
         "x": [
          -1.4710453135075172,
          -2.349579575000642
         ],
         "y": [
          1.8497691636107099,
          2.581610559536717
         ],
         "z": [
          -1.469057688895174,
          -1.5537871026490728
         ]
        },
        {
         "hoverinfo": "none",
         "legendgroup": "Bond importance",
         "line": {
          "color": "#4B0082",
          "width": 12.100351616045018
         },
         "mode": "lines",
         "opacity": 0.8066901077363345,
         "showlegend": false,
         "type": "scatter3d",
         "x": [
          -1.4710453135075172,
          -1.203043489461612
         ],
         "y": [
          1.8497691636107099,
          1.640888623339094
         ],
         "z": [
          -1.469057688895174,
          -2.5177747045254724
         ]
        },
        {
         "hoverinfo": "none",
         "legendgroup": "Bond importance",
         "line": {
          "color": "#4B0082",
          "width": 9.586451709194868
         },
         "mode": "lines",
         "opacity": 0.6390967806129912,
         "showlegend": false,
         "type": "scatter3d",
         "x": [
          -1.4710453135075172,
          -0.656997543726782
         ],
         "y": [
          1.8497691636107099,
          2.4274604701905718
         ],
         "z": [
          -1.469057688895174,
          -0.9985587940239851
         ]
        },
        {
         "hoverinfo": "none",
         "legendgroup": "Bond importance",
         "line": {
          "color": "#4B0082",
          "width": 11.128654049516214
         },
         "mode": "lines",
         "opacity": 0.7419102699677476,
         "showlegend": false,
         "type": "scatter3d",
         "x": [
          -2.4736677008063332,
          -2.6868524213135805
         ],
         "y": [
          -0.44190360824236385,
          -0.30855571764018336
         ],
         "z": [
          -1.6509938693628945,
          -2.681246824653849
         ]
        },
        {
         "hoverinfo": "none",
         "legendgroup": "Bond importance",
         "line": {
          "color": "#4B0082",
          "width": 12.611496374106325
         },
         "mode": "lines",
         "opacity": 0.8407664249404216,
         "showlegend": false,
         "type": "scatter3d",
         "x": [
          -2.6571059330029887,
          -2.6339701757314065
         ],
         "y": [
          -1.5933482856960943,
          -2.5700090487079015
         ],
         "z": [
          -0.9615851848779342,
          -1.379934770253846
         ]
        },
        {
         "hoverinfo": "none",
         "legendgroup": "Bond importance",
         "line": {
          "color": "#4B0082",
          "width": 8.588523925725298
         },
         "mode": "lines",
         "opacity": 0.5725682617150198,
         "showlegend": false,
         "type": "scatter3d",
         "x": [
          -2.9055221392212536,
          -3.2708401893531605
         ],
         "y": [
          -1.365286947662092,
          -2.218860467808728
         ],
         "z": [
          0.492995761999175,
          1.037970701385826
         ]
        },
        {
         "hoverinfo": "none",
         "legendgroup": "Bond importance",
         "line": {
          "color": "#4B0082",
          "width": 10.538523009158373
         },
         "mode": "lines",
         "opacity": 0.7025682006105582,
         "showlegend": false,
         "type": "scatter3d",
         "x": [
          -1.6004156164688266,
          -1.2580055733311668
         ],
         "y": [
          -0.8102965144671318,
          -0.9613113203954293
         ],
         "z": [
          1.041987997888231,
          2.0246536337432484
         ]
        },
        {
         "hoverinfo": "none",
         "legendgroup": "Bond importance",
         "line": {
          "color": "#4B0082",
          "width": 7.5
         },
         "mode": "lines",
         "opacity": 0.5,
         "showlegend": false,
         "type": "scatter3d",
         "x": [
          1.2709369628040426,
          0.8153424710086845
         ],
         "y": [
          0.4622460469638631,
          0.9312910895910947
         ],
         "z": [
          -0.9399081365216849,
          -1.7874724650479217
         ]
        },
        {
         "hoverinfo": "none",
         "legendgroup": "Bond importance",
         "line": {
          "color": "#4B0082",
          "width": 10.845777565590387
         },
         "mode": "lines",
         "opacity": 0.7230518377060258,
         "showlegend": false,
         "type": "scatter3d",
         "x": [
          2.6768768577588573,
          3.2568437814556734
         ],
         "y": [
          0.42111639450573957,
          0.8757038176192135
         ],
         "z": [
          -0.8935031093049134,
          -1.6780018785899595
         ]
        },
        {
         "hoverinfo": "none",
         "legendgroup": "Bond importance",
         "line": {
          "color": "#4B0082",
          "width": 9.833327501059568
         },
         "mode": "lines",
         "opacity": 0.6555551667373045,
         "showlegend": false,
         "type": "scatter3d",
         "x": [
          5.450117858174212,
          5.160948874029246
         ],
         "y": [
          0.43027940642855744,
          -0.02644476195246066
         ],
         "z": [
          -0.955195889969145,
          -1.9260536634310408
         ]
        },
        {
         "hoverinfo": "none",
         "legendgroup": "Bond importance",
         "line": {
          "color": "#4B0082",
          "width": 8.158048328657724
         },
         "mode": "lines",
         "opacity": 0.5438698885771815,
         "showlegend": false,
         "type": "scatter3d",
         "x": [
          5.450117858174212,
          5.120227083945721
         ],
         "y": [
          0.43027940642855744,
          1.4876994479214627
         ],
         "z": [
          -0.955195889969145,
          -0.9636254477166004
         ]
        },
        {
         "hoverinfo": "none",
         "legendgroup": "Bond importance",
         "line": {
          "color": "#4B0082",
          "width": 9.626960665576236
         },
         "mode": "lines",
         "opacity": 0.6417973777050824,
         "showlegend": false,
         "type": "scatter3d",
         "x": [
          5.450117858174212,
          6.539098848028223
         ],
         "y": [
          0.43027940642855744,
          0.39004658144204135
         ],
         "z": [
          -0.955195889969145,
          -0.7933742257647756
         ]
        },
        {
         "hoverinfo": "none",
         "legendgroup": "Bond importance",
         "line": {
          "color": "#4B0082",
          "width": 7.808065287581707
         },
         "mode": "lines",
         "opacity": 0.5205376858387805,
         "showlegend": false,
         "type": "scatter3d",
         "x": [
          5.1958034562333,
          4.706453491030429
         ],
         "y": [
          -1.70504550789139,
          -2.236551742572326
         ],
         "z": [
          0.30554200078051025,
          -0.5357417923834494
         ]
        },
        {
         "hoverinfo": "none",
         "legendgroup": "Bond importance",
         "line": {
          "color": "#4B0082",
          "width": 9.903849045457708
         },
         "mode": "lines",
         "opacity": 0.6602566030305139,
         "showlegend": false,
         "type": "scatter3d",
         "x": [
          5.1958034562333,
          6.301219197447433
         ],
         "y": [
          -1.70504550789139,
          -1.8267638049286796
         ],
         "z": [
          0.30554200078051025,
          0.19194266072373256
         ]
        },
        {
         "hoverinfo": "none",
         "legendgroup": "Bond importance",
         "line": {
          "color": "#006400",
          "width": 7.481434304513943
         },
         "mode": "lines",
         "opacity": 0.4987622869675962,
         "showlegend": false,
         "type": "scatter3d",
         "x": [
          5.1958034562333,
          4.81792676420783
         ],
         "y": [
          -1.70504550789139,
          -2.104630450832042
         ],
         "z": [
          0.30554200078051025,
          1.265629184790437
         ]
        },
        {
         "hoverinfo": "none",
         "legendgroup": "Bond importance",
         "line": {
          "color": "#4B0082",
          "width": 8.071422397443552
         },
         "mode": "lines",
         "opacity": 0.5380948264962367,
         "showlegend": false,
         "type": "scatter3d",
         "x": [
          5.281619276041164,
          6.306008206845575
         ],
         "y": [
          0.4459933195197986,
          0.8155522184085039
         ],
         "z": [
          1.472336262350652,
          1.2790989637431207
         ]
        },
        {
         "hoverinfo": "none",
         "legendgroup": "Bond importance",
         "line": {
          "color": "#4B0082",
          "width": 8.1432168731809
         },
         "mode": "lines",
         "opacity": 0.5428811248787268,
         "showlegend": false,
         "type": "scatter3d",
         "x": [
          5.281619276041164,
          4.668602949996497
         ],
         "y": [
          0.4459933195197986,
          1.346001362958172
         ],
         "z": [
          1.472336262350652,
          1.706709930796106
         ]
        },
        {
         "hoverinfo": "none",
         "legendgroup": "Bond importance",
         "line": {
          "color": "#4B0082",
          "width": 9.810977946666606
         },
         "mode": "lines",
         "opacity": 0.6540651964444404,
         "showlegend": false,
         "type": "scatter3d",
         "x": [
          5.281619276041164,
          5.348885400589144
         ],
         "y": [
          0.4459933195197986,
          -0.2652046273464343
         ],
         "z": [
          1.472336262350652,
          2.3071089400548033
         ]
        },
        {
         "hoverinfo": "none",
         "legendgroup": "Bond importance",
         "line": {
          "color": "#4B0082",
          "width": 7.644624171597748
         },
         "mode": "lines",
         "opacity": 0.5096416114398499,
         "showlegend": false,
         "type": "scatter3d",
         "x": [
          2.5619300367634166,
          3.092533531604176
         ],
         "y": [
          -0.766892728255757,
          -1.25328313454612
         ],
         "z": [
          1.1328187461339703,
          1.951920557695832
         ]
        },
        {
         "hoverinfo": "none",
         "legendgroup": "Bond importance",
         "line": {
          "color": "#4B0082",
          "width": 9.226892462706768
         },
         "mode": "lines",
         "opacity": 0.6151261641804512,
         "showlegend": false,
         "type": "scatter3d",
         "x": [
          1.192141213031737,
          0.6468125690962226
         ],
         "y": [
          -0.7156356379600891,
          -1.181349265620127
         ],
         "z": [
          1.0695941888688898,
          1.8656393692468178
         ]
        },
        {
         "legendgroup": "Atoms",
         "mode": "markers",
         "name": "Atoms",
         "type": "scatter3d",
         "x": [
          null
         ],
         "y": [
          null
         ],
         "z": [
          null
         ]
        },
        {
         "legendgroup": "Atom importance",
         "mode": "markers",
         "name": "Atom importance",
         "type": "scatter3d",
         "x": [
          null
         ],
         "y": [
          null
         ],
         "z": [
          null
         ]
        },
        {
         "legendgroup": "Bonds",
         "mode": "markers",
         "name": "Bonds",
         "type": "scatter3d",
         "x": [
          null
         ],
         "y": [
          null
         ],
         "z": [
          null
         ]
        },
        {
         "legendgroup": "Bond importance",
         "mode": "markers",
         "name": "Bond importance",
         "showlegend": true,
         "type": "scatter3d",
         "x": [
          null
         ],
         "y": [
          null
         ],
         "z": [
          null
         ]
        }
       ],
       "layout": {
        "scene": {
         "xaxis": {
          "showgrid": false,
          "showticklabels": false,
          "title": {
           "text": ""
          },
          "zeroline": false
         },
         "yaxis": {
          "showgrid": false,
          "showticklabels": false,
          "title": {
           "text": ""
          },
          "zeroline": false
         },
         "zaxis": {
          "showgrid": false,
          "showticklabels": false,
          "title": {
           "text": ""
          },
          "zeroline": false
         }
        },
        "template": {
         "data": {
          "bar": [
           {
            "error_x": {
             "color": "#2a3f5f"
            },
            "error_y": {
             "color": "#2a3f5f"
            },
            "marker": {
             "line": {
              "color": "white",
              "width": 0.5
             },
             "pattern": {
              "fillmode": "overlay",
              "size": 10,
              "solidity": 0.2
             }
            },
            "type": "bar"
           }
          ],
          "barpolar": [
           {
            "marker": {
             "line": {
              "color": "white",
              "width": 0.5
             },
             "pattern": {
              "fillmode": "overlay",
              "size": 10,
              "solidity": 0.2
             }
            },
            "type": "barpolar"
           }
          ],
          "carpet": [
           {
            "aaxis": {
             "endlinecolor": "#2a3f5f",
             "gridcolor": "#C8D4E3",
             "linecolor": "#C8D4E3",
             "minorgridcolor": "#C8D4E3",
             "startlinecolor": "#2a3f5f"
            },
            "baxis": {
             "endlinecolor": "#2a3f5f",
             "gridcolor": "#C8D4E3",
             "linecolor": "#C8D4E3",
             "minorgridcolor": "#C8D4E3",
             "startlinecolor": "#2a3f5f"
            },
            "type": "carpet"
           }
          ],
          "choropleth": [
           {
            "colorbar": {
             "outlinewidth": 0,
             "ticks": ""
            },
            "type": "choropleth"
           }
          ],
          "contour": [
           {
            "colorbar": {
             "outlinewidth": 0,
             "ticks": ""
            },
            "colorscale": [
             [
              0,
              "#0d0887"
             ],
             [
              0.1111111111111111,
              "#46039f"
             ],
             [
              0.2222222222222222,
              "#7201a8"
             ],
             [
              0.3333333333333333,
              "#9c179e"
             ],
             [
              0.4444444444444444,
              "#bd3786"
             ],
             [
              0.5555555555555556,
              "#d8576b"
             ],
             [
              0.6666666666666666,
              "#ed7953"
             ],
             [
              0.7777777777777778,
              "#fb9f3a"
             ],
             [
              0.8888888888888888,
              "#fdca26"
             ],
             [
              1,
              "#f0f921"
             ]
            ],
            "type": "contour"
           }
          ],
          "contourcarpet": [
           {
            "colorbar": {
             "outlinewidth": 0,
             "ticks": ""
            },
            "type": "contourcarpet"
           }
          ],
          "heatmap": [
           {
            "colorbar": {
             "outlinewidth": 0,
             "ticks": ""
            },
            "colorscale": [
             [
              0,
              "#0d0887"
             ],
             [
              0.1111111111111111,
              "#46039f"
             ],
             [
              0.2222222222222222,
              "#7201a8"
             ],
             [
              0.3333333333333333,
              "#9c179e"
             ],
             [
              0.4444444444444444,
              "#bd3786"
             ],
             [
              0.5555555555555556,
              "#d8576b"
             ],
             [
              0.6666666666666666,
              "#ed7953"
             ],
             [
              0.7777777777777778,
              "#fb9f3a"
             ],
             [
              0.8888888888888888,
              "#fdca26"
             ],
             [
              1,
              "#f0f921"
             ]
            ],
            "type": "heatmap"
           }
          ],
          "heatmapgl": [
           {
            "colorbar": {
             "outlinewidth": 0,
             "ticks": ""
            },
            "colorscale": [
             [
              0,
              "#0d0887"
             ],
             [
              0.1111111111111111,
              "#46039f"
             ],
             [
              0.2222222222222222,
              "#7201a8"
             ],
             [
              0.3333333333333333,
              "#9c179e"
             ],
             [
              0.4444444444444444,
              "#bd3786"
             ],
             [
              0.5555555555555556,
              "#d8576b"
             ],
             [
              0.6666666666666666,
              "#ed7953"
             ],
             [
              0.7777777777777778,
              "#fb9f3a"
             ],
             [
              0.8888888888888888,
              "#fdca26"
             ],
             [
              1,
              "#f0f921"
             ]
            ],
            "type": "heatmapgl"
           }
          ],
          "histogram": [
           {
            "marker": {
             "pattern": {
              "fillmode": "overlay",
              "size": 10,
              "solidity": 0.2
             }
            },
            "type": "histogram"
           }
          ],
          "histogram2d": [
           {
            "colorbar": {
             "outlinewidth": 0,
             "ticks": ""
            },
            "colorscale": [
             [
              0,
              "#0d0887"
             ],
             [
              0.1111111111111111,
              "#46039f"
             ],
             [
              0.2222222222222222,
              "#7201a8"
             ],
             [
              0.3333333333333333,
              "#9c179e"
             ],
             [
              0.4444444444444444,
              "#bd3786"
             ],
             [
              0.5555555555555556,
              "#d8576b"
             ],
             [
              0.6666666666666666,
              "#ed7953"
             ],
             [
              0.7777777777777778,
              "#fb9f3a"
             ],
             [
              0.8888888888888888,
              "#fdca26"
             ],
             [
              1,
              "#f0f921"
             ]
            ],
            "type": "histogram2d"
           }
          ],
          "histogram2dcontour": [
           {
            "colorbar": {
             "outlinewidth": 0,
             "ticks": ""
            },
            "colorscale": [
             [
              0,
              "#0d0887"
             ],
             [
              0.1111111111111111,
              "#46039f"
             ],
             [
              0.2222222222222222,
              "#7201a8"
             ],
             [
              0.3333333333333333,
              "#9c179e"
             ],
             [
              0.4444444444444444,
              "#bd3786"
             ],
             [
              0.5555555555555556,
              "#d8576b"
             ],
             [
              0.6666666666666666,
              "#ed7953"
             ],
             [
              0.7777777777777778,
              "#fb9f3a"
             ],
             [
              0.8888888888888888,
              "#fdca26"
             ],
             [
              1,
              "#f0f921"
             ]
            ],
            "type": "histogram2dcontour"
           }
          ],
          "mesh3d": [
           {
            "colorbar": {
             "outlinewidth": 0,
             "ticks": ""
            },
            "type": "mesh3d"
           }
          ],
          "parcoords": [
           {
            "line": {
             "colorbar": {
              "outlinewidth": 0,
              "ticks": ""
             }
            },
            "type": "parcoords"
           }
          ],
          "pie": [
           {
            "automargin": true,
            "type": "pie"
           }
          ],
          "scatter": [
           {
            "fillpattern": {
             "fillmode": "overlay",
             "size": 10,
             "solidity": 0.2
            },
            "type": "scatter"
           }
          ],
          "scatter3d": [
           {
            "line": {
             "colorbar": {
              "outlinewidth": 0,
              "ticks": ""
             }
            },
            "marker": {
             "colorbar": {
              "outlinewidth": 0,
              "ticks": ""
             }
            },
            "type": "scatter3d"
           }
          ],
          "scattercarpet": [
           {
            "marker": {
             "colorbar": {
              "outlinewidth": 0,
              "ticks": ""
             }
            },
            "type": "scattercarpet"
           }
          ],
          "scattergeo": [
           {
            "marker": {
             "colorbar": {
              "outlinewidth": 0,
              "ticks": ""
             }
            },
            "type": "scattergeo"
           }
          ],
          "scattergl": [
           {
            "marker": {
             "colorbar": {
              "outlinewidth": 0,
              "ticks": ""
             }
            },
            "type": "scattergl"
           }
          ],
          "scattermapbox": [
           {
            "marker": {
             "colorbar": {
              "outlinewidth": 0,
              "ticks": ""
             }
            },
            "type": "scattermapbox"
           }
          ],
          "scatterpolar": [
           {
            "marker": {
             "colorbar": {
              "outlinewidth": 0,
              "ticks": ""
             }
            },
            "type": "scatterpolar"
           }
          ],
          "scatterpolargl": [
           {
            "marker": {
             "colorbar": {
              "outlinewidth": 0,
              "ticks": ""
             }
            },
            "type": "scatterpolargl"
           }
          ],
          "scatterternary": [
           {
            "marker": {
             "colorbar": {
              "outlinewidth": 0,
              "ticks": ""
             }
            },
            "type": "scatterternary"
           }
          ],
          "surface": [
           {
            "colorbar": {
             "outlinewidth": 0,
             "ticks": ""
            },
            "colorscale": [
             [
              0,
              "#0d0887"
             ],
             [
              0.1111111111111111,
              "#46039f"
             ],
             [
              0.2222222222222222,
              "#7201a8"
             ],
             [
              0.3333333333333333,
              "#9c179e"
             ],
             [
              0.4444444444444444,
              "#bd3786"
             ],
             [
              0.5555555555555556,
              "#d8576b"
             ],
             [
              0.6666666666666666,
              "#ed7953"
             ],
             [
              0.7777777777777778,
              "#fb9f3a"
             ],
             [
              0.8888888888888888,
              "#fdca26"
             ],
             [
              1,
              "#f0f921"
             ]
            ],
            "type": "surface"
           }
          ],
          "table": [
           {
            "cells": {
             "fill": {
              "color": "#EBF0F8"
             },
             "line": {
              "color": "white"
             }
            },
            "header": {
             "fill": {
              "color": "#C8D4E3"
             },
             "line": {
              "color": "white"
             }
            },
            "type": "table"
           }
          ]
         },
         "layout": {
          "annotationdefaults": {
           "arrowcolor": "#2a3f5f",
           "arrowhead": 0,
           "arrowwidth": 1
          },
          "autotypenumbers": "strict",
          "coloraxis": {
           "colorbar": {
            "outlinewidth": 0,
            "ticks": ""
           }
          },
          "colorscale": {
           "diverging": [
            [
             0,
             "#8e0152"
            ],
            [
             0.1,
             "#c51b7d"
            ],
            [
             0.2,
             "#de77ae"
            ],
            [
             0.3,
             "#f1b6da"
            ],
            [
             0.4,
             "#fde0ef"
            ],
            [
             0.5,
             "#f7f7f7"
            ],
            [
             0.6,
             "#e6f5d0"
            ],
            [
             0.7,
             "#b8e186"
            ],
            [
             0.8,
             "#7fbc41"
            ],
            [
             0.9,
             "#4d9221"
            ],
            [
             1,
             "#276419"
            ]
           ],
           "sequential": [
            [
             0,
             "#0d0887"
            ],
            [
             0.1111111111111111,
             "#46039f"
            ],
            [
             0.2222222222222222,
             "#7201a8"
            ],
            [
             0.3333333333333333,
             "#9c179e"
            ],
            [
             0.4444444444444444,
             "#bd3786"
            ],
            [
             0.5555555555555556,
             "#d8576b"
            ],
            [
             0.6666666666666666,
             "#ed7953"
            ],
            [
             0.7777777777777778,
             "#fb9f3a"
            ],
            [
             0.8888888888888888,
             "#fdca26"
            ],
            [
             1,
             "#f0f921"
            ]
           ],
           "sequentialminus": [
            [
             0,
             "#0d0887"
            ],
            [
             0.1111111111111111,
             "#46039f"
            ],
            [
             0.2222222222222222,
             "#7201a8"
            ],
            [
             0.3333333333333333,
             "#9c179e"
            ],
            [
             0.4444444444444444,
             "#bd3786"
            ],
            [
             0.5555555555555556,
             "#d8576b"
            ],
            [
             0.6666666666666666,
             "#ed7953"
            ],
            [
             0.7777777777777778,
             "#fb9f3a"
            ],
            [
             0.8888888888888888,
             "#fdca26"
            ],
            [
             1,
             "#f0f921"
            ]
           ]
          },
          "colorway": [
           "#636efa",
           "#EF553B",
           "#00cc96",
           "#ab63fa",
           "#FFA15A",
           "#19d3f3",
           "#FF6692",
           "#B6E880",
           "#FF97FF",
           "#FECB52"
          ],
          "font": {
           "color": "#2a3f5f"
          },
          "geo": {
           "bgcolor": "white",
           "lakecolor": "white",
           "landcolor": "white",
           "showlakes": true,
           "showland": true,
           "subunitcolor": "#C8D4E3"
          },
          "hoverlabel": {
           "align": "left"
          },
          "hovermode": "closest",
          "mapbox": {
           "style": "light"
          },
          "paper_bgcolor": "white",
          "plot_bgcolor": "white",
          "polar": {
           "angularaxis": {
            "gridcolor": "#EBF0F8",
            "linecolor": "#EBF0F8",
            "ticks": ""
           },
           "bgcolor": "white",
           "radialaxis": {
            "gridcolor": "#EBF0F8",
            "linecolor": "#EBF0F8",
            "ticks": ""
           }
          },
          "scene": {
           "xaxis": {
            "backgroundcolor": "white",
            "gridcolor": "#DFE8F3",
            "gridwidth": 2,
            "linecolor": "#EBF0F8",
            "showbackground": true,
            "ticks": "",
            "zerolinecolor": "#EBF0F8"
           },
           "yaxis": {
            "backgroundcolor": "white",
            "gridcolor": "#DFE8F3",
            "gridwidth": 2,
            "linecolor": "#EBF0F8",
            "showbackground": true,
            "ticks": "",
            "zerolinecolor": "#EBF0F8"
           },
           "zaxis": {
            "backgroundcolor": "white",
            "gridcolor": "#DFE8F3",
            "gridwidth": 2,
            "linecolor": "#EBF0F8",
            "showbackground": true,
            "ticks": "",
            "zerolinecolor": "#EBF0F8"
           }
          },
          "shapedefaults": {
           "line": {
            "color": "#2a3f5f"
           }
          },
          "ternary": {
           "aaxis": {
            "gridcolor": "#DFE8F3",
            "linecolor": "#A2B1C6",
            "ticks": ""
           },
           "baxis": {
            "gridcolor": "#DFE8F3",
            "linecolor": "#A2B1C6",
            "ticks": ""
           },
           "bgcolor": "white",
           "caxis": {
            "gridcolor": "#DFE8F3",
            "linecolor": "#A2B1C6",
            "ticks": ""
           }
          },
          "title": {
           "x": 0.05
          },
          "xaxis": {
           "automargin": true,
           "gridcolor": "#EBF0F8",
           "linecolor": "#EBF0F8",
           "ticks": "",
           "title": {
            "standoff": 15
           },
           "zerolinecolor": "#EBF0F8",
           "zerolinewidth": 2
          },
          "yaxis": {
           "automargin": true,
           "gridcolor": "#EBF0F8",
           "linecolor": "#EBF0F8",
           "ticks": "",
           "title": {
            "standoff": 15
           },
           "zerolinecolor": "#EBF0F8",
           "zerolinewidth": 2
          }
         }
        }
       }
      }
     },
     "metadata": {},
     "output_type": "display_data"
    }
   ],
   "source": [
    "main(mol_graph=mol, mol='l', explanation=explanation, palette='cb')"
   ]
  },
  {
   "cell_type": "code",
   "execution_count": 29,
   "metadata": {},
   "outputs": [],
   "source": [
    "edge_idx = mol.edge_index"
   ]
  },
  {
   "cell_type": "code",
   "execution_count": 30,
   "metadata": {},
   "outputs": [],
   "source": [
    "fa, la, coords, atom_symbol = mol_prep(mol_graph=mol, mol='l')"
   ]
  },
  {
   "cell_type": "code",
   "execution_count": 31,
   "metadata": {},
   "outputs": [],
   "source": [
    "edge_coords = dict(zip(range(fa, la), coords))"
   ]
  },
  {
   "cell_type": "code",
   "execution_count": 32,
   "metadata": {},
   "outputs": [],
   "source": [
    "edge_mask_dict, node_mask = get_masks(explanation=explanation, fa=fa, la=la, edge_idx=edge_idx)"
   ]
  },
  {
   "cell_type": "code",
   "execution_count": 33,
   "metadata": {},
   "outputs": [
    {
     "data": {
      "text/plain": [
       "'mol_l = AddHs(Chem.MolFromSmiles(mol.ligand[0]))\\nmol_s = AddHs(Chem.MolFromSmiles(mol.substrate[0]))\\nmol_b = AddHs(Chem.MolFromSmiles(mol.boron[0]))'"
      ]
     },
     "execution_count": 33,
     "metadata": {},
     "output_type": "execute_result"
    }
   ],
   "source": [
    "'''mol_l = AddHs(Chem.MolFromSmiles(mol.ligand[0]))\n",
    "mol_s = AddHs(Chem.MolFromSmiles(mol.substrate[0]))\n",
    "mol_b = AddHs(Chem.MolFromSmiles(mol.boron[0]))'''"
   ]
  },
  {
   "cell_type": "code",
   "execution_count": 34,
   "metadata": {},
   "outputs": [
    {
     "data": {
      "text/plain": [
       "'atoms_l = mol_l.GetNumAtoms()\\natoms_s = mol_s.GetNumAtoms()\\natoms_b = mol_b.GetNumAtoms()'"
      ]
     },
     "execution_count": 34,
     "metadata": {},
     "output_type": "execute_result"
    }
   ],
   "source": [
    "'''atoms_l = mol_l.GetNumAtoms()\n",
    "atoms_s = mol_s.GetNumAtoms()\n",
    "atoms_b = mol_b.GetNumAtoms()'''"
   ]
  },
  {
   "cell_type": "code",
   "execution_count": 35,
   "metadata": {},
   "outputs": [
    {
     "data": {
      "text/plain": [
       "\"def cuts(mol = 's'):\\n    if mol == 'l':\\n        fa = 0\\n        la = atoms_l-1\\n    elif mol == 's':\\n        fa = atoms_l\\n        la = atoms_l + atoms_s -1\\n    else:\\n        fa = atoms_l + atoms_s \\n        la = atoms_l + atoms_s +atoms_b-1\\n    return fa, la\\n\\ndef mol_coords(mol):\\n    if mol == 'l':\\n        AllChem.EmbedMolecule(mol_l, AllChem.ETKDGv3())\\n        coords = mol_l.GetConformer().GetPositions()\\n    elif mol == 's':\\n        AllChem.EmbedMolecule(mol_s, AllChem.ETKDGv3())\\n        coords = mol_s.GetConformer().GetPositions()\\n    else:\\n        AllChem.EmbedMolecule(mol_b, AllChem.ETKDGv3())\\n        coords = mol_b.GetConformer().GetPositions()\\n    return coords\\n\\ndef get_Atoms(mol):\\n    if mol == 'l':\\n        atom_symbol = [atom.GetSymbol() for atom in mol_l.GetAtoms()]\\n    elif mol == 's':\\n        atom_symbol = [atom.GetSymbol() for atom in mol_s.GetAtoms()]\\n    else:\\n        atom_symbol = [atom.GetSymbol() for atom in mol_b.GetAtoms()]\\n    return atom_symbol\""
      ]
     },
     "execution_count": 35,
     "metadata": {},
     "output_type": "execute_result"
    }
   ],
   "source": [
    "'''def cuts(mol = 's'):\n",
    "    if mol == 'l':\n",
    "        fa = 0\n",
    "        la = atoms_l-1\n",
    "    elif mol == 's':\n",
    "        fa = atoms_l\n",
    "        la = atoms_l + atoms_s -1\n",
    "    else:\n",
    "        fa = atoms_l + atoms_s \n",
    "        la = atoms_l + atoms_s +atoms_b-1\n",
    "    return fa, la\n",
    "\n",
    "def mol_coords(mol):\n",
    "    if mol == 'l':\n",
    "        AllChem.EmbedMolecule(mol_l, AllChem.ETKDGv3())\n",
    "        coords = mol_l.GetConformer().GetPositions()\n",
    "    elif mol == 's':\n",
    "        AllChem.EmbedMolecule(mol_s, AllChem.ETKDGv3())\n",
    "        coords = mol_s.GetConformer().GetPositions()\n",
    "    else:\n",
    "        AllChem.EmbedMolecule(mol_b, AllChem.ETKDGv3())\n",
    "        coords = mol_b.GetConformer().GetPositions()\n",
    "    return coords\n",
    "\n",
    "def get_Atoms(mol):\n",
    "    if mol == 'l':\n",
    "        atom_symbol = [atom.GetSymbol() for atom in mol_l.GetAtoms()]\n",
    "    elif mol == 's':\n",
    "        atom_symbol = [atom.GetSymbol() for atom in mol_s.GetAtoms()]\n",
    "    else:\n",
    "        atom_symbol = [atom.GetSymbol() for atom in mol_b.GetAtoms()]\n",
    "    return atom_symbol'''\n"
   ]
  },
  {
   "cell_type": "code",
   "execution_count": 36,
   "metadata": {},
   "outputs": [
    {
     "data": {
      "text/plain": [
       "\"type = 'l'\\nfa, la = cuts(type)\\ncoords = mol_coords(type)\\natom_symbol = get_Atoms(type)\""
      ]
     },
     "execution_count": 36,
     "metadata": {},
     "output_type": "execute_result"
    }
   ],
   "source": [
    "'''type = 'l'\n",
    "fa, la = cuts(type)\n",
    "coords = mol_coords(type)\n",
    "atom_symbol = get_Atoms(type)'''"
   ]
  },
  {
   "cell_type": "code",
   "execution_count": 37,
   "metadata": {},
   "outputs": [
    {
     "data": {
      "text/plain": [
       "'edge_mask_dict = defaultdict(float)\\n\\nfor val, u, v in list(zip(edge_mask, *edge_idx)):\\n        u, v = u.item(), v.item()\\n        if u in range(fa, la):\\n                if u > v:\\n                        u, v = v, u\\n                edge_mask_dict[(u, v)] += val.item()'"
      ]
     },
     "execution_count": 37,
     "metadata": {},
     "output_type": "execute_result"
    }
   ],
   "source": [
    "'''edge_mask_dict = defaultdict(float)\n",
    "\n",
    "for val, u, v in list(zip(edge_mask, *edge_idx)):\n",
    "        u, v = u.item(), v.item()\n",
    "        if u in range(fa, la):\n",
    "                if u > v:\n",
    "                        u, v = v, u\n",
    "                edge_mask_dict[(u, v)] += val.item()'''"
   ]
  },
  {
   "cell_type": "code",
   "execution_count": 38,
   "metadata": {},
   "outputs": [],
   "source": [
    "edge_mask_dict, node_mask = normalise_masks(edge_mask_dict=edge_mask_dict, node_mask=node_mask)"
   ]
  },
  {
   "cell_type": "code",
   "execution_count": 39,
   "metadata": {},
   "outputs": [
    {
     "data": {
      "text/plain": [
       "'neg = [True if num < 0 else False for num in list(edge_mask_dict.values())]\\nmin_value = abs(min(edge_mask_dict.values(), key=abs))\\nmax_value = abs(max(edge_mask_dict.values(), key=abs))'"
      ]
     },
     "execution_count": 39,
     "metadata": {},
     "output_type": "execute_result"
    }
   ],
   "source": [
    "'''neg = [True if num < 0 else False for num in list(edge_mask_dict.values())]\n",
    "min_value = abs(min(edge_mask_dict.values(), key=abs))\n",
    "max_value = abs(max(edge_mask_dict.values(), key=abs))'''"
   ]
  },
  {
   "cell_type": "code",
   "execution_count": 40,
   "metadata": {},
   "outputs": [
    {
     "data": {
      "text/plain": [
       "'abs_dict = {key: abs(value) for key, value in edge_mask_dict.items()}\\nabs_dict = {key: (value - min_value) / (max_value - min_value) for key, value in abs_dict.items()}'"
      ]
     },
     "execution_count": 40,
     "metadata": {},
     "output_type": "execute_result"
    }
   ],
   "source": [
    "'''abs_dict = {key: abs(value) for key, value in edge_mask_dict.items()}\n",
    "abs_dict = {key: (value - min_value) / (max_value - min_value) for key, value in abs_dict.items()}'''"
   ]
  },
  {
   "cell_type": "code",
   "execution_count": 41,
   "metadata": {},
   "outputs": [
    {
     "data": {
      "text/plain": [
       "'edge_mask_dict = {key: -value if convert else value for (key, value), convert in zip(abs_dict.items(), neg)}'"
      ]
     },
     "execution_count": 41,
     "metadata": {},
     "output_type": "execute_result"
    }
   ],
   "source": [
    "'''edge_mask_dict = {key: -value if convert else value for (key, value), convert in zip(abs_dict.items(), neg)}'''"
   ]
  },
  {
   "cell_type": "code",
   "execution_count": 42,
   "metadata": {},
   "outputs": [
    {
     "data": {
      "text/plain": [
       "'node_mask = node_mask.sum(axis = 1)\\nnode_mask = [val.item() for val in node_mask]'"
      ]
     },
     "execution_count": 42,
     "metadata": {},
     "output_type": "execute_result"
    }
   ],
   "source": [
    "'''node_mask = node_mask.sum(axis = 1)\n",
    "node_mask = [val.item() for val in node_mask]'''"
   ]
  },
  {
   "cell_type": "code",
   "execution_count": 43,
   "metadata": {},
   "outputs": [
    {
     "data": {
      "text/plain": [
       "'neg_nodes = [True if num < 0 else False for num in node_mask]\\nmax_node = abs(max(node_mask, key = abs))\\nmin_node = abs(min(node_mask, key = abs))'"
      ]
     },
     "execution_count": 43,
     "metadata": {},
     "output_type": "execute_result"
    }
   ],
   "source": [
    "'''neg_nodes = [True if num < 0 else False for num in node_mask]\n",
    "max_node = abs(max(node_mask, key = abs))\n",
    "min_node = abs(min(node_mask, key = abs))'''"
   ]
  },
  {
   "cell_type": "code",
   "execution_count": 44,
   "metadata": {},
   "outputs": [
    {
     "data": {
      "text/plain": [
       "'abs_node = [abs(w) for w in node_mask]\\nabs_node = [(w-min_node)/(max_node-min_node) for w in abs_node]'"
      ]
     },
     "execution_count": 44,
     "metadata": {},
     "output_type": "execute_result"
    }
   ],
   "source": [
    "'''abs_node = [abs(w) for w in node_mask]\n",
    "abs_node = [(w-min_node)/(max_node-min_node) for w in abs_node]'''"
   ]
  },
  {
   "cell_type": "code",
   "execution_count": 45,
   "metadata": {},
   "outputs": [
    {
     "data": {
      "text/plain": [
       "'node_mask = [-w if neg_nodes else w for w, neg_nodes in zip(abs_node, neg_nodes)]'"
      ]
     },
     "execution_count": 45,
     "metadata": {},
     "output_type": "execute_result"
    }
   ],
   "source": [
    "'''node_mask = [-w if neg_nodes else w for w, neg_nodes in zip(abs_node, neg_nodes)]'''"
   ]
  },
  {
   "cell_type": "code",
   "execution_count": 46,
   "metadata": {},
   "outputs": [
    {
     "data": {
      "text/plain": [
       "\"colors_n = {\\n    'C': 'black',\\n    'O': 'red',\\n    'N': 'blue',\\n    'H': 'lightgray',\\n    'B': 'brown'\\n}\\n\\ncolors_cb = {\\n    'C': '#333333',\\n    'O': '#FF0000',\\n    'N': '#0000FF',\\n    'H': '#FFFFFF',\\n    'B': '#FFA500'\\n}\\n\\nsizes = {\\n    'C': 69/8,\\n    'O': 66/8,\\n    'N': 71/8,\\n    'H': 31/8,\\n    'B': 84/8\\n}\""
      ]
     },
     "execution_count": 46,
     "metadata": {},
     "output_type": "execute_result"
    }
   ],
   "source": [
    "'''colors_n = {\n",
    "    'C': 'black',\n",
    "    'O': 'red',\n",
    "    'N': 'blue',\n",
    "    'H': 'lightgray',\n",
    "    'B': 'brown'\n",
    "}\n",
    "\n",
    "colors_cb = {\n",
    "    'C': '#333333',\n",
    "    'O': '#FF0000',\n",
    "    'N': '#0000FF',\n",
    "    'H': '#FFFFFF',\n",
    "    'B': '#FFA500'\n",
    "}\n",
    "\n",
    "sizes = {\n",
    "    'C': 69/8,\n",
    "    'O': 66/8,\n",
    "    'N': 71/8,\n",
    "    'H': 31/8,\n",
    "    'B': 84/8\n",
    "}'''"
   ]
  },
  {
   "cell_type": "code",
   "execution_count": 47,
   "metadata": {},
   "outputs": [
    {
     "data": {
      "text/plain": [
       "'colors = colors_cb'"
      ]
     },
     "execution_count": 47,
     "metadata": {},
     "output_type": "execute_result"
    }
   ],
   "source": [
    "'''colors = colors_cb'''"
   ]
  },
  {
   "cell_type": "code",
   "execution_count": 48,
   "metadata": {},
   "outputs": [],
   "source": [
    "coords_edges = [(np.concatenate([np.expand_dims(edge_coords[u], axis=1), np.expand_dims(edge_coords[v], axis =1)], \n",
    "                                axis = 1)) for u, v in edge_mask_dict.keys()]"
   ]
  },
  {
   "cell_type": "code",
   "execution_count": 49,
   "metadata": {},
   "outputs": [],
   "source": [
    "edge_weights = list(edge_mask_dict.values())"
   ]
  },
  {
   "cell_type": "code",
   "execution_count": 50,
   "metadata": {},
   "outputs": [],
   "source": [
    "rescaled_edges = [(x + 1) / 2 for x in edge_weights]\n",
    "rescaled_nodes = [(x + 1) / 2 for x in node_mask]"
   ]
  },
  {
   "cell_type": "code",
   "execution_count": 51,
   "metadata": {},
   "outputs": [],
   "source": [
    "neg_edges = [True if num < 0 else False for num in list(edge_mask_dict.values())]\n",
    "neg_nodes = [True if num < 0 else False for num in node_mask]"
   ]
  },
  {
   "cell_type": "code",
   "execution_count": 52,
   "metadata": {},
   "outputs": [],
   "source": [
    "colors, color_nodes, color_edges = select_palette(palette='cb', neg_nodes=neg_nodes, neg_edges=neg_edges)"
   ]
  },
  {
   "cell_type": "code",
   "execution_count": 53,
   "metadata": {},
   "outputs": [],
   "source": [
    "nt = 8\n",
    "sizes = {\n",
    "    'C': 69/nt,\n",
    "    'O': 66/nt,\n",
    "    'N': 71/nt,\n",
    "    'H': 31/nt,\n",
    "    'B': 84/nt\n",
    "}"
   ]
  },
  {
   "cell_type": "code",
   "execution_count": 66,
   "metadata": {},
   "outputs": [
    {
     "data": {
      "application/vnd.plotly.v1+json": {
       "config": {
        "plotlyServerURL": "https://plot.ly"
       },
       "data": [
        {
         "legendgroup": "Atoms",
         "marker": {
          "color": "#333333",
          "size": 8.625,
          "symbol": "circle"
         },
         "mode": "markers",
         "showlegend": false,
         "text": "atom C",
         "type": "scatter3d",
         "x": [
          5.2405715002883655
         ],
         "y": [
          0.9799590581173016
         ],
         "z": [
          1.1851786590694329
         ]
        },
        {
         "legendgroup": "Atoms",
         "marker": {
          "color": "#FF0000",
          "size": 8.25,
          "symbol": "circle"
         },
         "mode": "markers",
         "showlegend": false,
         "text": "atom O",
         "type": "scatter3d",
         "x": [
          4.490223453561371
         ],
         "y": [
          -0.16515257918439671
         ],
         "z": [
          1.1758475646635151
         ]
        },
        {
         "legendgroup": "Atoms",
         "marker": {
          "color": "#333333",
          "size": 8.625,
          "symbol": "circle"
         },
         "mode": "markers",
         "showlegend": false,
         "text": "atom C",
         "type": "scatter3d",
         "x": [
          3.2396144511396643
         ],
         "y": [
          -0.07507353633823302
         ],
         "z": [
          0.6242403446848209
         ]
        },
        {
         "legendgroup": "Atoms",
         "marker": {
          "color": "#333333",
          "size": 8.625,
          "symbol": "circle"
         },
         "mode": "markers",
         "showlegend": false,
         "text": "atom C",
         "type": "scatter3d",
         "x": [
          2.3423737293801055
         ],
         "y": [
          0.9270980160681782
         ],
         "z": [
          1.3161589037290815
         ]
        },
        {
         "legendgroup": "Atoms",
         "marker": {
          "color": "#333333",
          "size": 8.625,
          "symbol": "circle"
         },
         "mode": "markers",
         "showlegend": false,
         "text": "atom C",
         "type": "scatter3d",
         "x": [
          2.6350223077047152
         ],
         "y": [
          -1.4841947638755295
         ],
         "z": [
          0.730870275013853
         ]
        },
        {
         "legendgroup": "Atoms",
         "marker": {
          "color": "#333333",
          "size": 8.625,
          "symbol": "circle"
         },
         "mode": "markers",
         "showlegend": false,
         "text": "atom C",
         "type": "scatter3d",
         "x": [
          1.8561209992226433
         ],
         "y": [
          -1.7541023357017511
         ],
         "z": [
          -0.5487557569218673
         ]
        },
        {
         "legendgroup": "Atoms",
         "marker": {
          "color": "#333333",
          "size": 8.625,
          "symbol": "circle"
         },
         "mode": "markers",
         "showlegend": false,
         "text": "atom C",
         "type": "scatter3d",
         "x": [
          1.1160511187449205
         ],
         "y": [
          -3.019616724777156
         ],
         "z": [
          -0.5867271497782338
         ]
        },
        {
         "legendgroup": "Atoms",
         "marker": {
          "color": "#333333",
          "size": 8.625,
          "symbol": "circle"
         },
         "mode": "markers",
         "showlegend": false,
         "text": "atom C",
         "type": "scatter3d",
         "x": [
          2.941985421749119
         ],
         "y": [
          -1.86188874915777
         ],
         "z": [
          -1.6284611450888302
         ]
        },
        {
         "legendgroup": "Atoms",
         "marker": {
          "color": "#333333",
          "size": 8.625,
          "symbol": "circle"
         },
         "mode": "markers",
         "showlegend": false,
         "text": "atom C",
         "type": "scatter3d",
         "x": [
          3.8665551558507225
         ],
         "y": [
          -0.9186907071531307
         ],
         "z": [
          -1.5173202986129462
         ]
        },
        {
         "legendgroup": "Atoms",
         "marker": {
          "color": "#333333",
          "size": 8.625,
          "symbol": "circle"
         },
         "mode": "markers",
         "showlegend": false,
         "text": "atom C",
         "type": "scatter3d",
         "x": [
          3.332751397450678
         ],
         "y": [
          0.32735501161384317
         ],
         "z": [
          -0.8429362837198172
         ]
        },
        {
         "legendgroup": "Atoms",
         "marker": {
          "color": "#333333",
          "size": 8.625,
          "symbol": "circle"
         },
         "mode": "markers",
         "showlegend": false,
         "text": "atom C",
         "type": "scatter3d",
         "x": [
          1.9259370704928849
         ],
         "y": [
          0.425591667595875
         ],
         "z": [
          -1.4002870540491665
         ]
        },
        {
         "legendgroup": "Atoms",
         "marker": {
          "color": "#333333",
          "size": 8.625,
          "symbol": "circle"
         },
         "mode": "markers",
         "showlegend": false,
         "text": "atom C",
         "type": "scatter3d",
         "x": [
          1.1285490221227865
         ],
         "y": [
          -0.5010345772038368
         ],
         "z": [
          -0.8328466039690593
         ]
        },
        {
         "legendgroup": "Atoms",
         "marker": {
          "color": "#333333",
          "size": 8.625,
          "symbol": "circle"
         },
         "mode": "markers",
         "showlegend": false,
         "text": "atom C",
         "type": "scatter3d",
         "x": [
          -0.2677991089866049
         ],
         "y": [
          -0.19284097101987066
         ],
         "z": [
          -0.5847030125594804
         ]
        },
        {
         "legendgroup": "Atoms",
         "marker": {
          "color": "#333333",
          "size": 8.625,
          "symbol": "circle"
         },
         "mode": "markers",
         "showlegend": false,
         "text": "atom C",
         "type": "scatter3d",
         "x": [
          -0.7739406217273075
         ],
         "y": [
          1.0130725077024965
         ],
         "z": [
          -1.0908389622397645
         ]
        },
        {
         "legendgroup": "Atoms",
         "marker": {
          "color": "#333333",
          "size": 8.625,
          "symbol": "circle"
         },
         "mode": "markers",
         "showlegend": false,
         "text": "atom C",
         "type": "scatter3d",
         "x": [
          -2.0802390849307777
         ],
         "y": [
          1.3456658099939116
         ],
         "z": [
          -0.8448634408398891
         ]
        },
        {
         "legendgroup": "Atoms",
         "marker": {
          "color": "#333333",
          "size": 8.625,
          "symbol": "circle"
         },
         "mode": "markers",
         "showlegend": false,
         "text": "atom C",
         "type": "scatter3d",
         "x": [
          -2.915906425553597
         ],
         "y": [
          0.5322158921674083
         ],
         "z": [
          -0.11438192265467949
         ]
        },
        {
         "legendgroup": "Atoms",
         "marker": {
          "color": "#333333",
          "size": 8.625,
          "symbol": "circle"
         },
         "mode": "markers",
         "showlegend": false,
         "text": "atom C",
         "type": "scatter3d",
         "x": [
          -4.323370153231149
         ],
         "y": [
          0.8976199750972184
         ],
         "z": [
          0.14602003388719242
         ]
        },
        {
         "legendgroup": "Atoms",
         "marker": {
          "color": "#333333",
          "size": 8.625,
          "symbol": "circle"
         },
         "mode": "markers",
         "showlegend": false,
         "text": "atom C",
         "type": "scatter3d",
         "x": [
          -4.992340326450175
         ],
         "y": [
          -0.181493741480557
         ],
         "z": [
          0.9702002100776616
         ]
        },
        {
         "legendgroup": "Atoms",
         "marker": {
          "color": "#333333",
          "size": 8.625,
          "symbol": "circle"
         },
         "mode": "markers",
         "showlegend": false,
         "text": "atom C",
         "type": "scatter3d",
         "x": [
          -5.0966338681665855
         ],
         "y": [
          1.019937781888401
         ],
         "z": [
          -1.1453433328321583
         ]
        },
        {
         "legendgroup": "Atoms",
         "marker": {
          "color": "#333333",
          "size": 8.625,
          "symbol": "circle"
         },
         "mode": "markers",
         "showlegend": false,
         "text": "atom C",
         "type": "scatter3d",
         "x": [
          -4.323370097213475
         ],
         "y": [
          2.1937415779244023
         ],
         "z": [
          0.9277526158063604
         ]
        },
        {
         "legendgroup": "Atoms",
         "marker": {
          "color": "#333333",
          "size": 8.625,
          "symbol": "circle"
         },
         "mode": "markers",
         "showlegend": false,
         "text": "atom C",
         "type": "scatter3d",
         "x": [
          -2.403439068673043
         ],
         "y": [
          -0.6424266850550262
         ],
         "z": [
          0.372911571941218
         ]
        },
        {
         "legendgroup": "Atoms",
         "marker": {
          "color": "#333333",
          "size": 8.625,
          "symbol": "circle"
         },
         "mode": "markers",
         "showlegend": false,
         "text": "atom C",
         "type": "scatter3d",
         "x": [
          -1.0826201413147873
         ],
         "y": [
          -1.0129088421134012
         ],
         "z": [
          0.1438893069702008
         ]
        },
        {
         "legendgroup": "Atoms",
         "marker": {
          "color": "#FFFFFF",
          "size": 3.875,
          "symbol": "circle"
         },
         "mode": "markers",
         "showlegend": false,
         "text": "atom H",
         "type": "scatter3d",
         "x": [
          6.219881636363294
         ],
         "y": [
          0.7010116409573371
         ],
         "z": [
          1.6782254044841265
         ]
        },
        {
         "legendgroup": "Atoms",
         "marker": {
          "color": "#FFFFFF",
          "size": 3.875,
          "symbol": "circle"
         },
         "mode": "markers",
         "showlegend": false,
         "text": "atom H",
         "type": "scatter3d",
         "x": [
          5.551487875166859
         ],
         "y": [
          1.352886826767116
         ],
         "z": [
          0.18596599176170536
         ]
        },
        {
         "legendgroup": "Atoms",
         "marker": {
          "color": "#FFFFFF",
          "size": 3.875,
          "symbol": "circle"
         },
         "mode": "markers",
         "showlegend": false,
         "text": "atom H",
         "type": "scatter3d",
         "x": [
          4.825365266317191
         ],
         "y": [
          1.7837633377435507
         ],
         "z": [
          1.8336895610034027
         ]
        },
        {
         "legendgroup": "Atoms",
         "marker": {
          "color": "#FFFFFF",
          "size": 3.875,
          "symbol": "circle"
         },
         "mode": "markers",
         "showlegend": false,
         "text": "atom H",
         "type": "scatter3d",
         "x": [
          1.4321400337129446
         ],
         "y": [
          0.43048263012976573
         ],
         "z": [
          1.6920857307559871
         ]
        },
        {
         "legendgroup": "Atoms",
         "marker": {
          "color": "#FFFFFF",
          "size": 3.875,
          "symbol": "circle"
         },
         "mode": "markers",
         "showlegend": false,
         "text": "atom H",
         "type": "scatter3d",
         "x": [
          2.021784526735509
         ],
         "y": [
          1.749990868555899
         ],
         "z": [
          0.6470052625057148
         ]
        },
        {
         "legendgroup": "Atoms",
         "marker": {
          "color": "#FFFFFF",
          "size": 3.875,
          "symbol": "circle"
         },
         "mode": "markers",
         "showlegend": false,
         "text": "atom H",
         "type": "scatter3d",
         "x": [
          2.8432272021748304
         ],
         "y": [
          1.3998274451085153
         ],
         "z": [
          2.1862083038487565
         ]
        },
        {
         "legendgroup": "Atoms",
         "marker": {
          "color": "#FFFFFF",
          "size": 3.875,
          "symbol": "circle"
         },
         "mode": "markers",
         "showlegend": false,
         "text": "atom H",
         "type": "scatter3d",
         "x": [
          3.4167262153860403
         ],
         "y": [
          -2.2458626478660455
         ],
         "z": [
          0.8169624419171359
         ]
        },
        {
         "legendgroup": "Atoms",
         "marker": {
          "color": "#FFFFFF",
          "size": 3.875,
          "symbol": "circle"
         },
         "mode": "markers",
         "showlegend": false,
         "text": "atom H",
         "type": "scatter3d",
         "x": [
          1.9945970937545352
         ],
         "y": [
          -1.5173502221201387
         ],
         "z": [
          1.623832875051177
         ]
        },
        {
         "legendgroup": "Atoms",
         "marker": {
          "color": "#FFFFFF",
          "size": 3.875,
          "symbol": "circle"
         },
         "mode": "markers",
         "showlegend": false,
         "text": "atom H",
         "type": "scatter3d",
         "x": [
          0.9288813222863
         ],
         "y": [
          -3.5175165818760528
         ],
         "z": [
          0.39018405376715604
         ]
        },
        {
         "legendgroup": "Atoms",
         "marker": {
          "color": "#FFFFFF",
          "size": 3.875,
          "symbol": "circle"
         },
         "mode": "markers",
         "showlegend": false,
         "text": "atom H",
         "type": "scatter3d",
         "x": [
          1.7857341210153816
         ],
         "y": [
          -3.790745525337047
         ],
         "z": [
          -1.1085526127890197
         ]
        },
        {
         "legendgroup": "Atoms",
         "marker": {
          "color": "#FFFFFF",
          "size": 3.875,
          "symbol": "circle"
         },
         "mode": "markers",
         "showlegend": false,
         "text": "atom H",
         "type": "scatter3d",
         "x": [
          0.24969435452072858
         ],
         "y": [
          -2.959436922872751
         ],
         "z": [
          -1.2538377380107464
         ]
        },
        {
         "legendgroup": "Atoms",
         "marker": {
          "color": "#FFFFFF",
          "size": 3.875,
          "symbol": "circle"
         },
         "mode": "markers",
         "showlegend": false,
         "text": "atom H",
         "type": "scatter3d",
         "x": [
          2.9070394360515492
         ],
         "y": [
          -2.6388878456225386
         ],
         "z": [
          -2.3711145746793836
         ]
        },
        {
         "legendgroup": "Atoms",
         "marker": {
          "color": "#FFFFFF",
          "size": 3.875,
          "symbol": "circle"
         },
         "mode": "markers",
         "showlegend": false,
         "text": "atom H",
         "type": "scatter3d",
         "x": [
          4.873097891410717
         ],
         "y": [
          -0.9646007211378425
         ],
         "z": [
          -1.8388283738062852
         ]
        },
        {
         "legendgroup": "Atoms",
         "marker": {
          "color": "#FFFFFF",
          "size": 3.875,
          "symbol": "circle"
         },
         "mode": "markers",
         "showlegend": false,
         "text": "atom H",
         "type": "scatter3d",
         "x": [
          3.925466654917286
         ],
         "y": [
          1.2087329265922193
         ],
         "z": [
          -1.0133569179838047
         ]
        },
        {
         "legendgroup": "Atoms",
         "marker": {
          "color": "#FFFFFF",
          "size": 3.875,
          "symbol": "circle"
         },
         "mode": "markers",
         "showlegend": false,
         "text": "atom H",
         "type": "scatter3d",
         "x": [
          1.6990865672134177
         ],
         "y": [
          1.1412459533714447
         ],
         "z": [
          -2.125827473921551
         ]
        },
        {
         "legendgroup": "Atoms",
         "marker": {
          "color": "#FFFFFF",
          "size": 3.875,
          "symbol": "circle"
         },
         "mode": "markers",
         "showlegend": false,
         "text": "atom H",
         "type": "scatter3d",
         "x": [
          -0.1290871838553678
         ],
         "y": [
          1.6905917285872332
         ],
         "z": [
          -1.681094113321406
         ]
        },
        {
         "legendgroup": "Atoms",
         "marker": {
          "color": "#FFFFFF",
          "size": 3.875,
          "symbol": "circle"
         },
         "mode": "markers",
         "showlegend": false,
         "text": "atom H",
         "type": "scatter3d",
         "x": [
          -2.4789319278496897
         ],
         "y": [
          2.297425549091379
         ],
         "z": [
          -1.2446385778887097
         ]
        },
        {
         "legendgroup": "Atoms",
         "marker": {
          "color": "#FFFFFF",
          "size": 3.875,
          "symbol": "circle"
         },
         "mode": "markers",
         "showlegend": false,
         "text": "atom H",
         "type": "scatter3d",
         "x": [
          -5.008078869939829
         ],
         "y": [
          -1.1351059336059424
         ],
         "z": [
          0.4216111274178667
         ]
        },
        {
         "legendgroup": "Atoms",
         "marker": {
          "color": "#FFFFFF",
          "size": 3.875,
          "symbol": "circle"
         },
         "mode": "markers",
         "showlegend": false,
         "text": "atom H",
         "type": "scatter3d",
         "x": [
          -6.030522694341891
         ],
         "y": [
          0.16402176049747894
         ],
         "z": [
          1.1817294146710795
         ]
        },
        {
         "legendgroup": "Atoms",
         "marker": {
          "color": "#FFFFFF",
          "size": 3.875,
          "symbol": "circle"
         },
         "mode": "markers",
         "showlegend": false,
         "text": "atom H",
         "type": "scatter3d",
         "x": [
          -4.483986717264412
         ],
         "y": [
          -0.2980674836726615
         ],
         "z": [
          1.9653821691293323
         ]
        },
        {
         "legendgroup": "Atoms",
         "marker": {
          "color": "#FFFFFF",
          "size": 3.875,
          "symbol": "circle"
         },
         "mode": "markers",
         "showlegend": false,
         "text": "atom H",
         "type": "scatter3d",
         "x": [
          -4.404508552133305
         ],
         "y": [
          1.163277603549372
         ],
         "z": [
          -1.9878588315765349
         ]
        },
        {
         "legendgroup": "Atoms",
         "marker": {
          "color": "#FFFFFF",
          "size": 3.875,
          "symbol": "circle"
         },
         "mode": "markers",
         "showlegend": false,
         "text": "atom H",
         "type": "scatter3d",
         "x": [
          -5.831985822954455
         ],
         "y": [
          1.8297000141657744
         ],
         "z": [
          -1.0419782604742691
         ]
        },
        {
         "legendgroup": "Atoms",
         "marker": {
          "color": "#FFFFFF",
          "size": 3.875,
          "symbol": "circle"
         },
         "mode": "markers",
         "showlegend": false,
         "text": "atom H",
         "type": "scatter3d",
         "x": [
          -5.6634161392374
         ],
         "y": [
          0.07069149143575285
         ],
         "z": [
          -1.3572020998589527
         ]
        },
        {
         "legendgroup": "Atoms",
         "marker": {
          "color": "#FFFFFF",
          "size": 3.875,
          "symbol": "circle"
         },
         "mode": "markers",
         "showlegend": false,
         "text": "atom H",
         "type": "scatter3d",
         "x": [
          -5.301964943934121
         ],
         "y": [
          2.466164438925512
         ],
         "z": [
          1.3248185864007014
         ]
        },
        {
         "legendgroup": "Atoms",
         "marker": {
          "color": "#FFFFFF",
          "size": 3.875,
          "symbol": "circle"
         },
         "mode": "markers",
         "showlegend": false,
         "text": "atom H",
         "type": "scatter3d",
         "x": [
          -3.904283075658025
         ],
         "y": [
          2.9713520300956415
         ],
         "z": [
          0.23404980144262233
         ]
        },
        {
         "legendgroup": "Atoms",
         "marker": {
          "color": "#FFFFFF",
          "size": 3.875,
          "symbol": "circle"
         },
         "mode": "markers",
         "showlegend": false,
         "text": "atom H",
         "type": "scatter3d",
         "x": [
          -3.5467451716853664
         ],
         "y": [
          2.083863632473996
         ],
         "z": [
          1.7279602474126892
         ]
        },
        {
         "legendgroup": "Atoms",
         "marker": {
          "color": "#FFFFFF",
          "size": 3.875,
          "symbol": "circle"
         },
         "mode": "markers",
         "showlegend": false,
         "text": "atom H",
         "type": "scatter3d",
         "x": [
          -3.0224360975963482
         ],
         "y": [
          -1.329980230357766
         ],
         "z": [
          0.961554098723407
         ]
        },
        {
         "legendgroup": "Atoms",
         "marker": {
          "color": "#FFFFFF",
          "size": 3.875,
          "symbol": "circle"
         },
         "mode": "markers",
         "showlegend": false,
         "text": "atom H",
         "type": "scatter3d",
         "x": [
          -0.724359732021228
         ],
         "y": [
          -1.9603088486824285
         ],
         "z": [
          0.5830346288750771
         ]
        },
        {
         "hoverinfo": "none",
         "legendgroup": "Bonds",
         "line": {
          "color": "black",
          "width": 2
         },
         "mode": "lines",
         "showlegend": false,
         "type": "scatter3d",
         "x": [
          5.2405715002883655,
          4.490223453561371
         ],
         "y": [
          0.9799590581173016,
          -0.16515257918439671
         ],
         "z": [
          1.1851786590694329,
          1.1758475646635151
         ]
        },
        {
         "hoverinfo": "none",
         "legendgroup": "Bonds",
         "line": {
          "color": "black",
          "width": 2
         },
         "mode": "lines",
         "showlegend": false,
         "type": "scatter3d",
         "x": [
          4.490223453561371,
          3.2396144511396643
         ],
         "y": [
          -0.16515257918439671,
          -0.07507353633823302
         ],
         "z": [
          1.1758475646635151,
          0.6242403446848209
         ]
        },
        {
         "hoverinfo": "none",
         "legendgroup": "Bonds",
         "line": {
          "color": "black",
          "width": 2
         },
         "mode": "lines",
         "showlegend": false,
         "type": "scatter3d",
         "x": [
          3.2396144511396643,
          2.3423737293801055
         ],
         "y": [
          -0.07507353633823302,
          0.9270980160681782
         ],
         "z": [
          0.6242403446848209,
          1.3161589037290815
         ]
        },
        {
         "hoverinfo": "none",
         "legendgroup": "Bonds",
         "line": {
          "color": "black",
          "width": 2
         },
         "mode": "lines",
         "showlegend": false,
         "type": "scatter3d",
         "x": [
          3.2396144511396643,
          2.6350223077047152
         ],
         "y": [
          -0.07507353633823302,
          -1.4841947638755295
         ],
         "z": [
          0.6242403446848209,
          0.730870275013853
         ]
        },
        {
         "hoverinfo": "none",
         "legendgroup": "Bonds",
         "line": {
          "color": "black",
          "width": 2
         },
         "mode": "lines",
         "showlegend": false,
         "type": "scatter3d",
         "x": [
          2.6350223077047152,
          1.8561209992226433
         ],
         "y": [
          -1.4841947638755295,
          -1.7541023357017511
         ],
         "z": [
          0.730870275013853,
          -0.5487557569218673
         ]
        },
        {
         "hoverinfo": "none",
         "legendgroup": "Bonds",
         "line": {
          "color": "black",
          "width": 2
         },
         "mode": "lines",
         "showlegend": false,
         "type": "scatter3d",
         "x": [
          1.8561209992226433,
          1.1160511187449205
         ],
         "y": [
          -1.7541023357017511,
          -3.019616724777156
         ],
         "z": [
          -0.5487557569218673,
          -0.5867271497782338
         ]
        },
        {
         "hoverinfo": "none",
         "legendgroup": "Bonds",
         "line": {
          "color": "black",
          "width": 2
         },
         "mode": "lines",
         "showlegend": false,
         "type": "scatter3d",
         "x": [
          1.8561209992226433,
          2.941985421749119
         ],
         "y": [
          -1.7541023357017511,
          -1.86188874915777
         ],
         "z": [
          -0.5487557569218673,
          -1.6284611450888302
         ]
        },
        {
         "hoverinfo": "none",
         "legendgroup": "Bonds",
         "line": {
          "color": "black",
          "width": 2
         },
         "mode": "lines",
         "showlegend": false,
         "type": "scatter3d",
         "x": [
          2.941985421749119,
          3.8665551558507225
         ],
         "y": [
          -1.86188874915777,
          -0.9186907071531307
         ],
         "z": [
          -1.6284611450888302,
          -1.5173202986129462
         ]
        },
        {
         "hoverinfo": "none",
         "legendgroup": "Bonds",
         "line": {
          "color": "black",
          "width": 2
         },
         "mode": "lines",
         "showlegend": false,
         "type": "scatter3d",
         "x": [
          3.8665551558507225,
          3.332751397450678
         ],
         "y": [
          -0.9186907071531307,
          0.32735501161384317
         ],
         "z": [
          -1.5173202986129462,
          -0.8429362837198172
         ]
        },
        {
         "hoverinfo": "none",
         "legendgroup": "Bonds",
         "line": {
          "color": "black",
          "width": 2
         },
         "mode": "lines",
         "showlegend": false,
         "type": "scatter3d",
         "x": [
          3.332751397450678,
          1.9259370704928849
         ],
         "y": [
          0.32735501161384317,
          0.425591667595875
         ],
         "z": [
          -0.8429362837198172,
          -1.4002870540491665
         ]
        },
        {
         "hoverinfo": "none",
         "legendgroup": "Bonds",
         "line": {
          "color": "black",
          "width": 2
         },
         "mode": "lines",
         "showlegend": false,
         "type": "scatter3d",
         "x": [
          1.9259370704928849,
          1.1285490221227865
         ],
         "y": [
          0.425591667595875,
          -0.5010345772038368
         ],
         "z": [
          -1.4002870540491665,
          -0.8328466039690593
         ]
        },
        {
         "hoverinfo": "none",
         "legendgroup": "Bonds",
         "line": {
          "color": "black",
          "width": 2
         },
         "mode": "lines",
         "showlegend": false,
         "type": "scatter3d",
         "x": [
          1.1285490221227865,
          -0.2677991089866049
         ],
         "y": [
          -0.5010345772038368,
          -0.19284097101987066
         ],
         "z": [
          -0.8328466039690593,
          -0.5847030125594804
         ]
        },
        {
         "hoverinfo": "none",
         "legendgroup": "Bonds",
         "line": {
          "color": "black",
          "width": 2
         },
         "mode": "lines",
         "showlegend": false,
         "type": "scatter3d",
         "x": [
          -0.2677991089866049,
          -0.7739406217273075
         ],
         "y": [
          -0.19284097101987066,
          1.0130725077024965
         ],
         "z": [
          -0.5847030125594804,
          -1.0908389622397645
         ]
        },
        {
         "hoverinfo": "none",
         "legendgroup": "Bonds",
         "line": {
          "color": "black",
          "width": 2
         },
         "mode": "lines",
         "showlegend": false,
         "type": "scatter3d",
         "x": [
          -0.7739406217273075,
          -2.0802390849307777
         ],
         "y": [
          1.0130725077024965,
          1.3456658099939116
         ],
         "z": [
          -1.0908389622397645,
          -0.8448634408398891
         ]
        },
        {
         "hoverinfo": "none",
         "legendgroup": "Bonds",
         "line": {
          "color": "black",
          "width": 2
         },
         "mode": "lines",
         "showlegend": false,
         "type": "scatter3d",
         "x": [
          -2.0802390849307777,
          -2.915906425553597
         ],
         "y": [
          1.3456658099939116,
          0.5322158921674083
         ],
         "z": [
          -0.8448634408398891,
          -0.11438192265467949
         ]
        },
        {
         "hoverinfo": "none",
         "legendgroup": "Bonds",
         "line": {
          "color": "black",
          "width": 2
         },
         "mode": "lines",
         "showlegend": false,
         "type": "scatter3d",
         "x": [
          -2.915906425553597,
          -4.323370153231149
         ],
         "y": [
          0.5322158921674083,
          0.8976199750972184
         ],
         "z": [
          -0.11438192265467949,
          0.14602003388719242
         ]
        },
        {
         "hoverinfo": "none",
         "legendgroup": "Bonds",
         "line": {
          "color": "black",
          "width": 2
         },
         "mode": "lines",
         "showlegend": false,
         "type": "scatter3d",
         "x": [
          -4.323370153231149,
          -4.992340326450175
         ],
         "y": [
          0.8976199750972184,
          -0.181493741480557
         ],
         "z": [
          0.14602003388719242,
          0.9702002100776616
         ]
        },
        {
         "hoverinfo": "none",
         "legendgroup": "Bonds",
         "line": {
          "color": "black",
          "width": 2
         },
         "mode": "lines",
         "showlegend": false,
         "type": "scatter3d",
         "x": [
          -4.323370153231149,
          -5.0966338681665855
         ],
         "y": [
          0.8976199750972184,
          1.019937781888401
         ],
         "z": [
          0.14602003388719242,
          -1.1453433328321583
         ]
        },
        {
         "hoverinfo": "none",
         "legendgroup": "Bonds",
         "line": {
          "color": "black",
          "width": 2
         },
         "mode": "lines",
         "showlegend": false,
         "type": "scatter3d",
         "x": [
          -4.323370153231149,
          -4.323370097213475
         ],
         "y": [
          0.8976199750972184,
          2.1937415779244023
         ],
         "z": [
          0.14602003388719242,
          0.9277526158063604
         ]
        },
        {
         "hoverinfo": "none",
         "legendgroup": "Bonds",
         "line": {
          "color": "black",
          "width": 2
         },
         "mode": "lines",
         "showlegend": false,
         "type": "scatter3d",
         "x": [
          -2.915906425553597,
          -2.403439068673043
         ],
         "y": [
          0.5322158921674083,
          -0.6424266850550262
         ],
         "z": [
          -0.11438192265467949,
          0.372911571941218
         ]
        },
        {
         "hoverinfo": "none",
         "legendgroup": "Bonds",
         "line": {
          "color": "black",
          "width": 2
         },
         "mode": "lines",
         "showlegend": false,
         "type": "scatter3d",
         "x": [
          -2.403439068673043,
          -1.0826201413147873
         ],
         "y": [
          -0.6424266850550262,
          -1.0129088421134012
         ],
         "z": [
          0.372911571941218,
          0.1438893069702008
         ]
        },
        {
         "hoverinfo": "none",
         "legendgroup": "Bonds",
         "line": {
          "color": "black",
          "width": 2
         },
         "mode": "lines",
         "showlegend": false,
         "type": "scatter3d",
         "x": [
          3.2396144511396643,
          3.332751397450678
         ],
         "y": [
          -0.07507353633823302,
          0.32735501161384317
         ],
         "z": [
          0.6242403446848209,
          -0.8429362837198172
         ]
        },
        {
         "hoverinfo": "none",
         "legendgroup": "Bonds",
         "line": {
          "color": "black",
          "width": 2
         },
         "mode": "lines",
         "showlegend": false,
         "type": "scatter3d",
         "x": [
          -0.2677991089866049,
          -1.0826201413147873
         ],
         "y": [
          -0.19284097101987066,
          -1.0129088421134012
         ],
         "z": [
          -0.5847030125594804,
          0.1438893069702008
         ]
        },
        {
         "hoverinfo": "none",
         "legendgroup": "Bonds",
         "line": {
          "color": "black",
          "width": 2
         },
         "mode": "lines",
         "showlegend": false,
         "type": "scatter3d",
         "x": [
          1.8561209992226433,
          1.1285490221227865
         ],
         "y": [
          -1.7541023357017511,
          -0.5010345772038368
         ],
         "z": [
          -0.5487557569218673,
          -0.8328466039690593
         ]
        },
        {
         "hoverinfo": "none",
         "legendgroup": "Bonds",
         "line": {
          "color": "black",
          "width": 2
         },
         "mode": "lines",
         "showlegend": false,
         "type": "scatter3d",
         "x": [
          5.2405715002883655,
          6.219881636363294
         ],
         "y": [
          0.9799590581173016,
          0.7010116409573371
         ],
         "z": [
          1.1851786590694329,
          1.6782254044841265
         ]
        },
        {
         "hoverinfo": "none",
         "legendgroup": "Bonds",
         "line": {
          "color": "black",
          "width": 2
         },
         "mode": "lines",
         "showlegend": false,
         "type": "scatter3d",
         "x": [
          5.2405715002883655,
          5.551487875166859
         ],
         "y": [
          0.9799590581173016,
          1.352886826767116
         ],
         "z": [
          1.1851786590694329,
          0.18596599176170536
         ]
        },
        {
         "hoverinfo": "none",
         "legendgroup": "Bonds",
         "line": {
          "color": "black",
          "width": 2
         },
         "mode": "lines",
         "showlegend": false,
         "type": "scatter3d",
         "x": [
          5.2405715002883655,
          4.825365266317191
         ],
         "y": [
          0.9799590581173016,
          1.7837633377435507
         ],
         "z": [
          1.1851786590694329,
          1.8336895610034027
         ]
        },
        {
         "hoverinfo": "none",
         "legendgroup": "Bonds",
         "line": {
          "color": "black",
          "width": 2
         },
         "mode": "lines",
         "showlegend": false,
         "type": "scatter3d",
         "x": [
          2.3423737293801055,
          1.4321400337129446
         ],
         "y": [
          0.9270980160681782,
          0.43048263012976573
         ],
         "z": [
          1.3161589037290815,
          1.6920857307559871
         ]
        },
        {
         "hoverinfo": "none",
         "legendgroup": "Bonds",
         "line": {
          "color": "black",
          "width": 2
         },
         "mode": "lines",
         "showlegend": false,
         "type": "scatter3d",
         "x": [
          2.3423737293801055,
          2.021784526735509
         ],
         "y": [
          0.9270980160681782,
          1.749990868555899
         ],
         "z": [
          1.3161589037290815,
          0.6470052625057148
         ]
        },
        {
         "hoverinfo": "none",
         "legendgroup": "Bonds",
         "line": {
          "color": "black",
          "width": 2
         },
         "mode": "lines",
         "showlegend": false,
         "type": "scatter3d",
         "x": [
          2.3423737293801055,
          2.8432272021748304
         ],
         "y": [
          0.9270980160681782,
          1.3998274451085153
         ],
         "z": [
          1.3161589037290815,
          2.1862083038487565
         ]
        },
        {
         "hoverinfo": "none",
         "legendgroup": "Bonds",
         "line": {
          "color": "black",
          "width": 2
         },
         "mode": "lines",
         "showlegend": false,
         "type": "scatter3d",
         "x": [
          2.6350223077047152,
          3.4167262153860403
         ],
         "y": [
          -1.4841947638755295,
          -2.2458626478660455
         ],
         "z": [
          0.730870275013853,
          0.8169624419171359
         ]
        },
        {
         "hoverinfo": "none",
         "legendgroup": "Bonds",
         "line": {
          "color": "black",
          "width": 2
         },
         "mode": "lines",
         "showlegend": false,
         "type": "scatter3d",
         "x": [
          2.6350223077047152,
          1.9945970937545352
         ],
         "y": [
          -1.4841947638755295,
          -1.5173502221201387
         ],
         "z": [
          0.730870275013853,
          1.623832875051177
         ]
        },
        {
         "hoverinfo": "none",
         "legendgroup": "Bonds",
         "line": {
          "color": "black",
          "width": 2
         },
         "mode": "lines",
         "showlegend": false,
         "type": "scatter3d",
         "x": [
          1.1160511187449205,
          0.9288813222863
         ],
         "y": [
          -3.019616724777156,
          -3.5175165818760528
         ],
         "z": [
          -0.5867271497782338,
          0.39018405376715604
         ]
        },
        {
         "hoverinfo": "none",
         "legendgroup": "Bonds",
         "line": {
          "color": "black",
          "width": 2
         },
         "mode": "lines",
         "showlegend": false,
         "type": "scatter3d",
         "x": [
          1.1160511187449205,
          1.7857341210153816
         ],
         "y": [
          -3.019616724777156,
          -3.790745525337047
         ],
         "z": [
          -0.5867271497782338,
          -1.1085526127890197
         ]
        },
        {
         "hoverinfo": "none",
         "legendgroup": "Bonds",
         "line": {
          "color": "black",
          "width": 2
         },
         "mode": "lines",
         "showlegend": false,
         "type": "scatter3d",
         "x": [
          1.1160511187449205,
          0.24969435452072858
         ],
         "y": [
          -3.019616724777156,
          -2.959436922872751
         ],
         "z": [
          -0.5867271497782338,
          -1.2538377380107464
         ]
        },
        {
         "hoverinfo": "none",
         "legendgroup": "Bonds",
         "line": {
          "color": "black",
          "width": 2
         },
         "mode": "lines",
         "showlegend": false,
         "type": "scatter3d",
         "x": [
          2.941985421749119,
          2.9070394360515492
         ],
         "y": [
          -1.86188874915777,
          -2.6388878456225386
         ],
         "z": [
          -1.6284611450888302,
          -2.3711145746793836
         ]
        },
        {
         "hoverinfo": "none",
         "legendgroup": "Bonds",
         "line": {
          "color": "black",
          "width": 2
         },
         "mode": "lines",
         "showlegend": false,
         "type": "scatter3d",
         "x": [
          3.8665551558507225,
          4.873097891410717
         ],
         "y": [
          -0.9186907071531307,
          -0.9646007211378425
         ],
         "z": [
          -1.5173202986129462,
          -1.8388283738062852
         ]
        },
        {
         "hoverinfo": "none",
         "legendgroup": "Bonds",
         "line": {
          "color": "black",
          "width": 2
         },
         "mode": "lines",
         "showlegend": false,
         "type": "scatter3d",
         "x": [
          3.332751397450678,
          3.925466654917286
         ],
         "y": [
          0.32735501161384317,
          1.2087329265922193
         ],
         "z": [
          -0.8429362837198172,
          -1.0133569179838047
         ]
        },
        {
         "hoverinfo": "none",
         "legendgroup": "Bonds",
         "line": {
          "color": "black",
          "width": 2
         },
         "mode": "lines",
         "showlegend": false,
         "type": "scatter3d",
         "x": [
          1.9259370704928849,
          1.6990865672134177
         ],
         "y": [
          0.425591667595875,
          1.1412459533714447
         ],
         "z": [
          -1.4002870540491665,
          -2.125827473921551
         ]
        },
        {
         "hoverinfo": "none",
         "legendgroup": "Bonds",
         "line": {
          "color": "black",
          "width": 2
         },
         "mode": "lines",
         "showlegend": false,
         "type": "scatter3d",
         "x": [
          -0.7739406217273075,
          -0.1290871838553678
         ],
         "y": [
          1.0130725077024965,
          1.6905917285872332
         ],
         "z": [
          -1.0908389622397645,
          -1.681094113321406
         ]
        },
        {
         "hoverinfo": "none",
         "legendgroup": "Bonds",
         "line": {
          "color": "black",
          "width": 2
         },
         "mode": "lines",
         "showlegend": false,
         "type": "scatter3d",
         "x": [
          -2.0802390849307777,
          -2.4789319278496897
         ],
         "y": [
          1.3456658099939116,
          2.297425549091379
         ],
         "z": [
          -0.8448634408398891,
          -1.2446385778887097
         ]
        },
        {
         "hoverinfo": "none",
         "legendgroup": "Bonds",
         "line": {
          "color": "black",
          "width": 2
         },
         "mode": "lines",
         "showlegend": false,
         "type": "scatter3d",
         "x": [
          -4.992340326450175,
          -5.008078869939829
         ],
         "y": [
          -0.181493741480557,
          -1.1351059336059424
         ],
         "z": [
          0.9702002100776616,
          0.4216111274178667
         ]
        },
        {
         "hoverinfo": "none",
         "legendgroup": "Bonds",
         "line": {
          "color": "black",
          "width": 2
         },
         "mode": "lines",
         "showlegend": false,
         "type": "scatter3d",
         "x": [
          -4.992340326450175,
          -6.030522694341891
         ],
         "y": [
          -0.181493741480557,
          0.16402176049747894
         ],
         "z": [
          0.9702002100776616,
          1.1817294146710795
         ]
        },
        {
         "hoverinfo": "none",
         "legendgroup": "Bonds",
         "line": {
          "color": "black",
          "width": 2
         },
         "mode": "lines",
         "showlegend": false,
         "type": "scatter3d",
         "x": [
          -4.992340326450175,
          -4.483986717264412
         ],
         "y": [
          -0.181493741480557,
          -0.2980674836726615
         ],
         "z": [
          0.9702002100776616,
          1.9653821691293323
         ]
        },
        {
         "hoverinfo": "none",
         "legendgroup": "Bonds",
         "line": {
          "color": "black",
          "width": 2
         },
         "mode": "lines",
         "showlegend": false,
         "type": "scatter3d",
         "x": [
          -5.0966338681665855,
          -4.404508552133305
         ],
         "y": [
          1.019937781888401,
          1.163277603549372
         ],
         "z": [
          -1.1453433328321583,
          -1.9878588315765349
         ]
        },
        {
         "hoverinfo": "none",
         "legendgroup": "Bonds",
         "line": {
          "color": "black",
          "width": 2
         },
         "mode": "lines",
         "showlegend": false,
         "type": "scatter3d",
         "x": [
          -5.0966338681665855,
          -5.831985822954455
         ],
         "y": [
          1.019937781888401,
          1.8297000141657744
         ],
         "z": [
          -1.1453433328321583,
          -1.0419782604742691
         ]
        },
        {
         "hoverinfo": "none",
         "legendgroup": "Bonds",
         "line": {
          "color": "black",
          "width": 2
         },
         "mode": "lines",
         "showlegend": false,
         "type": "scatter3d",
         "x": [
          -5.0966338681665855,
          -5.6634161392374
         ],
         "y": [
          1.019937781888401,
          0.07069149143575285
         ],
         "z": [
          -1.1453433328321583,
          -1.3572020998589527
         ]
        },
        {
         "hoverinfo": "none",
         "legendgroup": "Bonds",
         "line": {
          "color": "black",
          "width": 2
         },
         "mode": "lines",
         "showlegend": false,
         "type": "scatter3d",
         "x": [
          -4.323370097213475,
          -5.301964943934121
         ],
         "y": [
          2.1937415779244023,
          2.466164438925512
         ],
         "z": [
          0.9277526158063604,
          1.3248185864007014
         ]
        },
        {
         "hoverinfo": "none",
         "legendgroup": "Bonds",
         "line": {
          "color": "black",
          "width": 2
         },
         "mode": "lines",
         "showlegend": false,
         "type": "scatter3d",
         "x": [
          -4.323370097213475,
          -3.904283075658025
         ],
         "y": [
          2.1937415779244023,
          2.9713520300956415
         ],
         "z": [
          0.9277526158063604,
          0.23404980144262233
         ]
        },
        {
         "hoverinfo": "none",
         "legendgroup": "Bonds",
         "line": {
          "color": "black",
          "width": 2
         },
         "mode": "lines",
         "showlegend": false,
         "type": "scatter3d",
         "x": [
          -4.323370097213475,
          -3.5467451716853664
         ],
         "y": [
          2.1937415779244023,
          2.083863632473996
         ],
         "z": [
          0.9277526158063604,
          1.7279602474126892
         ]
        },
        {
         "hoverinfo": "none",
         "legendgroup": "Bonds",
         "line": {
          "color": "black",
          "width": 2
         },
         "mode": "lines",
         "showlegend": false,
         "type": "scatter3d",
         "x": [
          -2.403439068673043,
          -3.0224360975963482
         ],
         "y": [
          -0.6424266850550262,
          -1.329980230357766
         ],
         "z": [
          0.372911571941218,
          0.961554098723407
         ]
        },
        {
         "hoverinfo": "none",
         "legendgroup": "Bonds",
         "line": {
          "color": "black",
          "width": 2
         },
         "mode": "lines",
         "showlegend": false,
         "type": "scatter3d",
         "x": [
          -1.0826201413147873,
          -0.724359732021228
         ],
         "y": [
          -1.0129088421134012,
          -1.9603088486824285
         ],
         "z": [
          0.1438893069702008,
          0.5830346288750771
         ]
        },
        {
         "hoverinfo": "none",
         "legendgroup": "Bond importance",
         "line": {
          "color": "#4B0082",
          "width": 8.796183523283378
         },
         "mode": "lines",
         "opacity": 0.5864122348855586,
         "showlegend": false,
         "type": "scatter3d",
         "x": [
          5.2405715002883655,
          4.490223453561371
         ],
         "y": [
          0.9799590581173016,
          -0.16515257918439671
         ],
         "z": [
          1.1851786590694329,
          1.1758475646635151
         ]
        },
        {
         "hoverinfo": "none",
         "legendgroup": "Bond importance",
         "line": {
          "color": "#006400",
          "width": 6.044735073286368
         },
         "mode": "lines",
         "opacity": 0.40298233821909124,
         "showlegend": false,
         "type": "scatter3d",
         "x": [
          4.490223453561371,
          3.2396144511396643
         ],
         "y": [
          -0.16515257918439671,
          -0.07507353633823302
         ],
         "z": [
          1.1758475646635151,
          0.6242403446848209
         ]
        },
        {
         "hoverinfo": "none",
         "legendgroup": "Bond importance",
         "line": {
          "color": "#4B0082",
          "width": 7.815520256202953
         },
         "mode": "lines",
         "opacity": 0.5210346837468636,
         "showlegend": false,
         "type": "scatter3d",
         "x": [
          3.2396144511396643,
          2.3423737293801055
         ],
         "y": [
          -0.07507353633823302,
          0.9270980160681782
         ],
         "z": [
          0.6242403446848209,
          1.3161589037290815
         ]
        },
        {
         "hoverinfo": "none",
         "legendgroup": "Bond importance",
         "line": {
          "color": "#4B0082",
          "width": 9.198235703971404
         },
         "mode": "lines",
         "opacity": 0.6132157135980936,
         "showlegend": false,
         "type": "scatter3d",
         "x": [
          3.2396144511396643,
          2.6350223077047152
         ],
         "y": [
          -0.07507353633823302,
          -1.4841947638755295
         ],
         "z": [
          0.6242403446848209,
          0.730870275013853
         ]
        },
        {
         "hoverinfo": "none",
         "legendgroup": "Bond importance",
         "line": {
          "color": "#4B0082",
          "width": 15
         },
         "mode": "lines",
         "opacity": 1,
         "showlegend": false,
         "type": "scatter3d",
         "x": [
          2.6350223077047152,
          1.8561209992226433
         ],
         "y": [
          -1.4841947638755295,
          -1.7541023357017511
         ],
         "z": [
          0.730870275013853,
          -0.5487557569218673
         ]
        },
        {
         "hoverinfo": "none",
         "legendgroup": "Bond importance",
         "line": {
          "color": "#006400",
          "width": 6.69777342316914
         },
         "mode": "lines",
         "opacity": 0.446518228211276,
         "showlegend": false,
         "type": "scatter3d",
         "x": [
          1.8561209992226433,
          1.1160511187449205
         ],
         "y": [
          -1.7541023357017511,
          -3.019616724777156
         ],
         "z": [
          -0.5487557569218673,
          -0.5867271497782338
         ]
        },
        {
         "hoverinfo": "none",
         "legendgroup": "Bond importance",
         "line": {
          "color": "#4B0082",
          "width": 11.624456216469405
         },
         "mode": "lines",
         "opacity": 0.774963747764627,
         "showlegend": false,
         "type": "scatter3d",
         "x": [
          1.8561209992226433,
          2.941985421749119
         ],
         "y": [
          -1.7541023357017511,
          -1.86188874915777
         ],
         "z": [
          -0.5487557569218673,
          -1.6284611450888302
         ]
        },
        {
         "hoverinfo": "none",
         "legendgroup": "Bond importance",
         "line": {
          "color": "#4B0082",
          "width": 9.467517976847416
         },
         "mode": "lines",
         "opacity": 0.631167865123161,
         "showlegend": false,
         "type": "scatter3d",
         "x": [
          2.941985421749119,
          3.8665551558507225
         ],
         "y": [
          -1.86188874915777,
          -0.9186907071531307
         ],
         "z": [
          -1.6284611450888302,
          -1.5173202986129462
         ]
        },
        {
         "hoverinfo": "none",
         "legendgroup": "Bond importance",
         "line": {
          "color": "#4B0082",
          "width": 9.538818576843388
         },
         "mode": "lines",
         "opacity": 0.6359212384562258,
         "showlegend": false,
         "type": "scatter3d",
         "x": [
          3.8665551558507225,
          3.332751397450678
         ],
         "y": [
          -0.9186907071531307,
          0.32735501161384317
         ],
         "z": [
          -1.5173202986129462,
          -0.8429362837198172
         ]
        },
        {
         "hoverinfo": "none",
         "legendgroup": "Bond importance",
         "line": {
          "color": "#006400",
          "width": 7.157250692873387
         },
         "mode": "lines",
         "opacity": 0.47715004619155915,
         "showlegend": false,
         "type": "scatter3d",
         "x": [
          3.332751397450678,
          1.9259370704928849
         ],
         "y": [
          0.32735501161384317,
          0.425591667595875
         ],
         "z": [
          -0.8429362837198172,
          -1.4002870540491665
         ]
        },
        {
         "hoverinfo": "none",
         "legendgroup": "Bond importance",
         "line": {
          "color": "#4B0082",
          "width": 7.720664149152103
         },
         "mode": "lines",
         "opacity": 0.5147109432768069,
         "showlegend": false,
         "type": "scatter3d",
         "x": [
          1.9259370704928849,
          1.1285490221227865
         ],
         "y": [
          0.425591667595875,
          -0.5010345772038368
         ],
         "z": [
          -1.4002870540491665,
          -0.8328466039690593
         ]
        },
        {
         "hoverinfo": "none",
         "legendgroup": "Bond importance",
         "line": {
          "color": "#006400",
          "width": 6.185000242073066
         },
         "mode": "lines",
         "opacity": 0.41233334947153777,
         "showlegend": false,
         "type": "scatter3d",
         "x": [
          1.1285490221227865,
          -0.2677991089866049
         ],
         "y": [
          -0.5010345772038368,
          -0.19284097101987066
         ],
         "z": [
          -0.8328466039690593,
          -0.5847030125594804
         ]
        },
        {
         "hoverinfo": "none",
         "legendgroup": "Bond importance",
         "line": {
          "color": "#006400",
          "width": 5.3645130644657915
         },
         "mode": "lines",
         "opacity": 0.3576342042977194,
         "showlegend": false,
         "type": "scatter3d",
         "x": [
          -0.2677991089866049,
          -0.7739406217273075
         ],
         "y": [
          -0.19284097101987066,
          1.0130725077024965
         ],
         "z": [
          -0.5847030125594804,
          -1.0908389622397645
         ]
        },
        {
         "hoverinfo": "none",
         "legendgroup": "Bond importance",
         "line": {
          "color": "#006400",
          "width": 4.0695421654252915
         },
         "mode": "lines",
         "opacity": 0.27130281102835274,
         "showlegend": false,
         "type": "scatter3d",
         "x": [
          -0.7739406217273075,
          -2.0802390849307777
         ],
         "y": [
          1.0130725077024965,
          1.3456658099939116
         ],
         "z": [
          -1.0908389622397645,
          -0.8448634408398891
         ]
        },
        {
         "hoverinfo": "none",
         "legendgroup": "Bond importance",
         "line": {
          "color": "#006400",
          "width": 4.442014606484229
         },
         "mode": "lines",
         "opacity": 0.2961343070989486,
         "showlegend": false,
         "type": "scatter3d",
         "x": [
          -2.0802390849307777,
          -2.915906425553597
         ],
         "y": [
          1.3456658099939116,
          0.5322158921674083
         ],
         "z": [
          -0.8448634408398891,
          -0.11438192265467949
         ]
        },
        {
         "hoverinfo": "none",
         "legendgroup": "Bond importance",
         "line": {
          "color": "#006400",
          "width": 6.8438301235712995
         },
         "mode": "lines",
         "opacity": 0.45625534157141995,
         "showlegend": false,
         "type": "scatter3d",
         "x": [
          -2.915906425553597,
          -4.323370153231149
         ],
         "y": [
          0.5322158921674083,
          0.8976199750972184
         ],
         "z": [
          -0.11438192265467949,
          0.14602003388719242
         ]
        },
        {
         "hoverinfo": "none",
         "legendgroup": "Bond importance",
         "line": {
          "color": "#4B0082",
          "width": 8.462042106520157
         },
         "mode": "lines",
         "opacity": 0.5641361404346771,
         "showlegend": false,
         "type": "scatter3d",
         "x": [
          -4.323370153231149,
          -4.992340326450175
         ],
         "y": [
          0.8976199750972184,
          -0.181493741480557
         ],
         "z": [
          0.14602003388719242,
          0.9702002100776616
         ]
        },
        {
         "hoverinfo": "none",
         "legendgroup": "Bond importance",
         "line": {
          "color": "#006400",
          "width": 6.50458610924522
         },
         "mode": "lines",
         "opacity": 0.4336390739496813,
         "showlegend": false,
         "type": "scatter3d",
         "x": [
          -4.323370153231149,
          -5.0966338681665855
         ],
         "y": [
          0.8976199750972184,
          1.019937781888401
         ],
         "z": [
          0.14602003388719242,
          -1.1453433328321583
         ]
        },
        {
         "hoverinfo": "none",
         "legendgroup": "Bond importance",
         "line": {
          "color": "#4B0082",
          "width": 8.549912032602593
         },
         "mode": "lines",
         "opacity": 0.5699941355068395,
         "showlegend": false,
         "type": "scatter3d",
         "x": [
          -4.323370153231149,
          -4.323370097213475
         ],
         "y": [
          0.8976199750972184,
          2.1937415779244023
         ],
         "z": [
          0.14602003388719242,
          0.9277526158063604
         ]
        },
        {
         "hoverinfo": "none",
         "legendgroup": "Bond importance",
         "line": {
          "color": "#006400",
          "width": 4.754620685629225
         },
         "mode": "lines",
         "opacity": 0.31697471237528163,
         "showlegend": false,
         "type": "scatter3d",
         "x": [
          -2.915906425553597,
          -2.403439068673043
         ],
         "y": [
          0.5322158921674083,
          -0.6424266850550262
         ],
         "z": [
          -0.11438192265467949,
          0.372911571941218
         ]
        },
        {
         "hoverinfo": "none",
         "legendgroup": "Bond importance",
         "line": {
          "color": "#006400",
          "width": 4.462222609674341
         },
         "mode": "lines",
         "opacity": 0.2974815073116227,
         "showlegend": false,
         "type": "scatter3d",
         "x": [
          -2.403439068673043,
          -1.0826201413147873
         ],
         "y": [
          -0.6424266850550262,
          -1.0129088421134012
         ],
         "z": [
          0.372911571941218,
          0.1438893069702008
         ]
        },
        {
         "hoverinfo": "none",
         "legendgroup": "Bond importance",
         "line": {
          "color": "#4B0082",
          "width": 11.121554625164054
         },
         "mode": "lines",
         "opacity": 0.7414369750109369,
         "showlegend": false,
         "type": "scatter3d",
         "x": [
          3.2396144511396643,
          3.332751397450678
         ],
         "y": [
          -0.07507353633823302,
          0.32735501161384317
         ],
         "z": [
          0.6242403446848209,
          -0.8429362837198172
         ]
        },
        {
         "hoverinfo": "none",
         "legendgroup": "Bond importance",
         "line": {
          "color": "#006400",
          "width": 6.234879589011041
         },
         "mode": "lines",
         "opacity": 0.41565863926740276,
         "showlegend": false,
         "type": "scatter3d",
         "x": [
          -0.2677991089866049,
          -1.0826201413147873
         ],
         "y": [
          -0.19284097101987066,
          -1.0129088421134012
         ],
         "z": [
          -0.5847030125594804,
          0.1438893069702008
         ]
        },
        {
         "hoverinfo": "none",
         "legendgroup": "Bond importance",
         "line": {
          "color": "#4B0082",
          "width": 8.936789694500748
         },
         "mode": "lines",
         "opacity": 0.5957859796333832,
         "showlegend": false,
         "type": "scatter3d",
         "x": [
          1.8561209992226433,
          1.1285490221227865
         ],
         "y": [
          -1.7541023357017511,
          -0.5010345772038368
         ],
         "z": [
          -0.5487557569218673,
          -0.8328466039690593
         ]
        },
        {
         "hoverinfo": "none",
         "legendgroup": "Bond importance",
         "line": {
          "color": "#006400",
          "width": 6.262416573614964
         },
         "mode": "lines",
         "opacity": 0.41749443824099763,
         "showlegend": false,
         "type": "scatter3d",
         "x": [
          5.2405715002883655,
          6.219881636363294
         ],
         "y": [
          0.9799590581173016,
          0.7010116409573371
         ],
         "z": [
          1.1851786590694329,
          1.6782254044841265
         ]
        },
        {
         "hoverinfo": "none",
         "legendgroup": "Bond importance",
         "line": {
          "color": "#4B0082",
          "width": 11.40825717928407
         },
         "mode": "lines",
         "opacity": 0.760550478618938,
         "showlegend": false,
         "type": "scatter3d",
         "x": [
          5.2405715002883655,
          5.551487875166859
         ],
         "y": [
          0.9799590581173016,
          1.352886826767116
         ],
         "z": [
          1.1851786590694329,
          0.18596599176170536
         ]
        },
        {
         "hoverinfo": "none",
         "legendgroup": "Bond importance",
         "line": {
          "color": "#4B0082",
          "width": 8.481953595000732
         },
         "mode": "lines",
         "opacity": 0.5654635730000488,
         "showlegend": false,
         "type": "scatter3d",
         "x": [
          5.2405715002883655,
          4.825365266317191
         ],
         "y": [
          0.9799590581173016,
          1.7837633377435507
         ],
         "z": [
          1.1851786590694329,
          1.8336895610034027
         ]
        },
        {
         "hoverinfo": "none",
         "legendgroup": "Bond importance",
         "line": {
          "color": "#006400",
          "width": 6.322665586710092
         },
         "mode": "lines",
         "opacity": 0.4215110391140061,
         "showlegend": false,
         "type": "scatter3d",
         "x": [
          2.3423737293801055,
          1.4321400337129446
         ],
         "y": [
          0.9270980160681782,
          0.43048263012976573
         ],
         "z": [
          1.3161589037290815,
          1.6920857307559871
         ]
        },
        {
         "hoverinfo": "none",
         "legendgroup": "Bond importance",
         "line": {
          "color": "#4B0082",
          "width": 10.693096610915449
         },
         "mode": "lines",
         "opacity": 0.7128731073943633,
         "showlegend": false,
         "type": "scatter3d",
         "x": [
          2.3423737293801055,
          2.021784526735509
         ],
         "y": [
          0.9270980160681782,
          1.749990868555899
         ],
         "z": [
          1.3161589037290815,
          0.6470052625057148
         ]
        },
        {
         "hoverinfo": "none",
         "legendgroup": "Bond importance",
         "line": {
          "color": "#4B0082",
          "width": 8.869345751978756
         },
         "mode": "lines",
         "opacity": 0.5912897167985837,
         "showlegend": false,
         "type": "scatter3d",
         "x": [
          2.3423737293801055,
          2.8432272021748304
         ],
         "y": [
          0.9270980160681782,
          1.3998274451085153
         ],
         "z": [
          1.3161589037290815,
          2.1862083038487565
         ]
        },
        {
         "hoverinfo": "none",
         "legendgroup": "Bond importance",
         "line": {
          "color": "#4B0082",
          "width": 9.59350064192876
         },
         "mode": "lines",
         "opacity": 0.6395667094619173,
         "showlegend": false,
         "type": "scatter3d",
         "x": [
          2.6350223077047152,
          3.4167262153860403
         ],
         "y": [
          -1.4841947638755295,
          -2.2458626478660455
         ],
         "z": [
          0.730870275013853,
          0.8169624419171359
         ]
        },
        {
         "hoverinfo": "none",
         "legendgroup": "Bond importance",
         "line": {
          "color": "#4B0082",
          "width": 13.28729520360771
         },
         "mode": "lines",
         "opacity": 0.885819680240514,
         "showlegend": false,
         "type": "scatter3d",
         "x": [
          2.6350223077047152,
          1.9945970937545352
         ],
         "y": [
          -1.4841947638755295,
          -1.5173502221201387
         ],
         "z": [
          0.730870275013853,
          1.623832875051177
         ]
        },
        {
         "hoverinfo": "none",
         "legendgroup": "Bond importance",
         "line": {
          "color": "#4B0082",
          "width": 9.485756743836799
         },
         "mode": "lines",
         "opacity": 0.6323837829224532,
         "showlegend": false,
         "type": "scatter3d",
         "x": [
          1.1160511187449205,
          0.9288813222863
         ],
         "y": [
          -3.019616724777156,
          -3.5175165818760528
         ],
         "z": [
          -0.5867271497782338,
          0.39018405376715604
         ]
        },
        {
         "hoverinfo": "none",
         "legendgroup": "Bond importance",
         "line": {
          "color": "#4B0082",
          "width": 12.100351616045018
         },
         "mode": "lines",
         "opacity": 0.8066901077363345,
         "showlegend": false,
         "type": "scatter3d",
         "x": [
          1.1160511187449205,
          1.7857341210153816
         ],
         "y": [
          -3.019616724777156,
          -3.790745525337047
         ],
         "z": [
          -0.5867271497782338,
          -1.1085526127890197
         ]
        },
        {
         "hoverinfo": "none",
         "legendgroup": "Bond importance",
         "line": {
          "color": "#4B0082",
          "width": 9.586451709194868
         },
         "mode": "lines",
         "opacity": 0.6390967806129912,
         "showlegend": false,
         "type": "scatter3d",
         "x": [
          1.1160511187449205,
          0.24969435452072858
         ],
         "y": [
          -3.019616724777156,
          -2.959436922872751
         ],
         "z": [
          -0.5867271497782338,
          -1.2538377380107464
         ]
        },
        {
         "hoverinfo": "none",
         "legendgroup": "Bond importance",
         "line": {
          "color": "#4B0082",
          "width": 11.128654049516214
         },
         "mode": "lines",
         "opacity": 0.7419102699677476,
         "showlegend": false,
         "type": "scatter3d",
         "x": [
          2.941985421749119,
          2.9070394360515492
         ],
         "y": [
          -1.86188874915777,
          -2.6388878456225386
         ],
         "z": [
          -1.6284611450888302,
          -2.3711145746793836
         ]
        },
        {
         "hoverinfo": "none",
         "legendgroup": "Bond importance",
         "line": {
          "color": "#4B0082",
          "width": 12.611496374106325
         },
         "mode": "lines",
         "opacity": 0.8407664249404216,
         "showlegend": false,
         "type": "scatter3d",
         "x": [
          3.8665551558507225,
          4.873097891410717
         ],
         "y": [
          -0.9186907071531307,
          -0.9646007211378425
         ],
         "z": [
          -1.5173202986129462,
          -1.8388283738062852
         ]
        },
        {
         "hoverinfo": "none",
         "legendgroup": "Bond importance",
         "line": {
          "color": "#4B0082",
          "width": 8.588523925725298
         },
         "mode": "lines",
         "opacity": 0.5725682617150198,
         "showlegend": false,
         "type": "scatter3d",
         "x": [
          3.332751397450678,
          3.925466654917286
         ],
         "y": [
          0.32735501161384317,
          1.2087329265922193
         ],
         "z": [
          -0.8429362837198172,
          -1.0133569179838047
         ]
        },
        {
         "hoverinfo": "none",
         "legendgroup": "Bond importance",
         "line": {
          "color": "#4B0082",
          "width": 10.538523009158373
         },
         "mode": "lines",
         "opacity": 0.7025682006105582,
         "showlegend": false,
         "type": "scatter3d",
         "x": [
          1.9259370704928849,
          1.6990865672134177
         ],
         "y": [
          0.425591667595875,
          1.1412459533714447
         ],
         "z": [
          -1.4002870540491665,
          -2.125827473921551
         ]
        },
        {
         "hoverinfo": "none",
         "legendgroup": "Bond importance",
         "line": {
          "color": "#4B0082",
          "width": 7.5
         },
         "mode": "lines",
         "opacity": 0.5,
         "showlegend": false,
         "type": "scatter3d",
         "x": [
          -0.7739406217273075,
          -0.1290871838553678
         ],
         "y": [
          1.0130725077024965,
          1.6905917285872332
         ],
         "z": [
          -1.0908389622397645,
          -1.681094113321406
         ]
        },
        {
         "hoverinfo": "none",
         "legendgroup": "Bond importance",
         "line": {
          "color": "#4B0082",
          "width": 10.845777565590387
         },
         "mode": "lines",
         "opacity": 0.7230518377060258,
         "showlegend": false,
         "type": "scatter3d",
         "x": [
          -2.0802390849307777,
          -2.4789319278496897
         ],
         "y": [
          1.3456658099939116,
          2.297425549091379
         ],
         "z": [
          -0.8448634408398891,
          -1.2446385778887097
         ]
        },
        {
         "hoverinfo": "none",
         "legendgroup": "Bond importance",
         "line": {
          "color": "#4B0082",
          "width": 9.833327501059568
         },
         "mode": "lines",
         "opacity": 0.6555551667373045,
         "showlegend": false,
         "type": "scatter3d",
         "x": [
          -4.992340326450175,
          -5.008078869939829
         ],
         "y": [
          -0.181493741480557,
          -1.1351059336059424
         ],
         "z": [
          0.9702002100776616,
          0.4216111274178667
         ]
        },
        {
         "hoverinfo": "none",
         "legendgroup": "Bond importance",
         "line": {
          "color": "#4B0082",
          "width": 8.158048328657724
         },
         "mode": "lines",
         "opacity": 0.5438698885771815,
         "showlegend": false,
         "type": "scatter3d",
         "x": [
          -4.992340326450175,
          -6.030522694341891
         ],
         "y": [
          -0.181493741480557,
          0.16402176049747894
         ],
         "z": [
          0.9702002100776616,
          1.1817294146710795
         ]
        },
        {
         "hoverinfo": "none",
         "legendgroup": "Bond importance",
         "line": {
          "color": "#4B0082",
          "width": 9.626960665576236
         },
         "mode": "lines",
         "opacity": 0.6417973777050824,
         "showlegend": false,
         "type": "scatter3d",
         "x": [
          -4.992340326450175,
          -4.483986717264412
         ],
         "y": [
          -0.181493741480557,
          -0.2980674836726615
         ],
         "z": [
          0.9702002100776616,
          1.9653821691293323
         ]
        },
        {
         "hoverinfo": "none",
         "legendgroup": "Bond importance",
         "line": {
          "color": "#4B0082",
          "width": 7.808065287581707
         },
         "mode": "lines",
         "opacity": 0.5205376858387805,
         "showlegend": false,
         "type": "scatter3d",
         "x": [
          -5.0966338681665855,
          -4.404508552133305
         ],
         "y": [
          1.019937781888401,
          1.163277603549372
         ],
         "z": [
          -1.1453433328321583,
          -1.9878588315765349
         ]
        },
        {
         "hoverinfo": "none",
         "legendgroup": "Bond importance",
         "line": {
          "color": "#4B0082",
          "width": 9.903849045457708
         },
         "mode": "lines",
         "opacity": 0.6602566030305139,
         "showlegend": false,
         "type": "scatter3d",
         "x": [
          -5.0966338681665855,
          -5.831985822954455
         ],
         "y": [
          1.019937781888401,
          1.8297000141657744
         ],
         "z": [
          -1.1453433328321583,
          -1.0419782604742691
         ]
        },
        {
         "hoverinfo": "none",
         "legendgroup": "Bond importance",
         "line": {
          "color": "#006400",
          "width": 7.481434304513943
         },
         "mode": "lines",
         "opacity": 0.4987622869675962,
         "showlegend": false,
         "type": "scatter3d",
         "x": [
          -5.0966338681665855,
          -5.6634161392374
         ],
         "y": [
          1.019937781888401,
          0.07069149143575285
         ],
         "z": [
          -1.1453433328321583,
          -1.3572020998589527
         ]
        },
        {
         "hoverinfo": "none",
         "legendgroup": "Bond importance",
         "line": {
          "color": "#4B0082",
          "width": 8.071422397443552
         },
         "mode": "lines",
         "opacity": 0.5380948264962367,
         "showlegend": false,
         "type": "scatter3d",
         "x": [
          -4.323370097213475,
          -5.301964943934121
         ],
         "y": [
          2.1937415779244023,
          2.466164438925512
         ],
         "z": [
          0.9277526158063604,
          1.3248185864007014
         ]
        },
        {
         "hoverinfo": "none",
         "legendgroup": "Bond importance",
         "line": {
          "color": "#4B0082",
          "width": 8.1432168731809
         },
         "mode": "lines",
         "opacity": 0.5428811248787268,
         "showlegend": false,
         "type": "scatter3d",
         "x": [
          -4.323370097213475,
          -3.904283075658025
         ],
         "y": [
          2.1937415779244023,
          2.9713520300956415
         ],
         "z": [
          0.9277526158063604,
          0.23404980144262233
         ]
        },
        {
         "hoverinfo": "none",
         "legendgroup": "Bond importance",
         "line": {
          "color": "#4B0082",
          "width": 9.810977946666606
         },
         "mode": "lines",
         "opacity": 0.6540651964444404,
         "showlegend": false,
         "type": "scatter3d",
         "x": [
          -4.323370097213475,
          -3.5467451716853664
         ],
         "y": [
          2.1937415779244023,
          2.083863632473996
         ],
         "z": [
          0.9277526158063604,
          1.7279602474126892
         ]
        },
        {
         "hoverinfo": "none",
         "legendgroup": "Bond importance",
         "line": {
          "color": "#4B0082",
          "width": 7.644624171597748
         },
         "mode": "lines",
         "opacity": 0.5096416114398499,
         "showlegend": false,
         "type": "scatter3d",
         "x": [
          -2.403439068673043,
          -3.0224360975963482
         ],
         "y": [
          -0.6424266850550262,
          -1.329980230357766
         ],
         "z": [
          0.372911571941218,
          0.961554098723407
         ]
        },
        {
         "hoverinfo": "none",
         "legendgroup": "Bond importance",
         "line": {
          "color": "#4B0082",
          "width": 9.226892462706768
         },
         "mode": "lines",
         "opacity": 0.6151261641804512,
         "showlegend": false,
         "type": "scatter3d",
         "x": [
          -1.0826201413147873,
          -0.724359732021228
         ],
         "y": [
          -1.0129088421134012,
          -1.9603088486824285
         ],
         "z": [
          0.1438893069702008,
          0.5830346288750771
         ]
        },
        {
         "hovertemplate": "Label: %{text}<extra></extra>",
         "legendgroup": "Atom importance",
         "marker": {
          "color": "#006400",
          "size": 14.6625,
          "symbol": "circle"
         },
         "mode": "markers",
         "opacity": 0.21225165683788222,
         "showlegend": false,
         "text": "atom C",
         "type": "scatter3d",
         "x": [
          5.2405715002883655
         ],
         "y": [
          0.9799590581173016
         ],
         "z": [
          1.1851786590694329
         ]
        },
        {
         "hovertemplate": "Label: %{text}<extra></extra>",
         "legendgroup": "Atom importance",
         "marker": {
          "color": "#006400",
          "size": 14.025,
          "symbol": "circle"
         },
         "mode": "markers",
         "opacity": 0.3516812701233845,
         "showlegend": false,
         "text": "atom O",
         "type": "scatter3d",
         "x": [
          4.490223453561371
         ],
         "y": [
          -0.16515257918439671
         ],
         "z": [
          1.1758475646635151
         ]
        },
        {
         "hovertemplate": "Label: %{text}<extra></extra>",
         "legendgroup": "Atom importance",
         "marker": {
          "color": "#006400",
          "size": 14.6625,
          "symbol": "circle"
         },
         "mode": "markers",
         "opacity": 0.4800816323793242,
         "showlegend": false,
         "text": "atom C",
         "type": "scatter3d",
         "x": [
          3.2396144511396643
         ],
         "y": [
          -0.07507353633823302
         ],
         "z": [
          0.6242403446848209
         ]
        },
        {
         "hovertemplate": "Label: %{text}<extra></extra>",
         "legendgroup": "Atom importance",
         "marker": {
          "color": "#006400",
          "size": 14.6625,
          "symbol": "circle"
         },
         "mode": "markers",
         "opacity": 0.07800141550795336,
         "showlegend": false,
         "text": "atom C",
         "type": "scatter3d",
         "x": [
          2.3423737293801055
         ],
         "y": [
          0.9270980160681782
         ],
         "z": [
          1.3161589037290815
         ]
        },
        {
         "hovertemplate": "Label: %{text}<extra></extra>",
         "legendgroup": "Atom importance",
         "marker": {
          "color": "#006400",
          "size": 14.6625,
          "symbol": "circle"
         },
         "mode": "markers",
         "opacity": 0.10668608059226875,
         "showlegend": false,
         "text": "atom C",
         "type": "scatter3d",
         "x": [
          2.6350223077047152
         ],
         "y": [
          -1.4841947638755295
         ],
         "z": [
          0.730870275013853
         ]
        },
        {
         "hovertemplate": "Label: %{text}<extra></extra>",
         "legendgroup": "Atom importance",
         "marker": {
          "color": "#4B0082",
          "size": 14.6625,
          "symbol": "circle"
         },
         "mode": "markers",
         "opacity": 0.8160166286953872,
         "showlegend": false,
         "text": "atom C",
         "type": "scatter3d",
         "x": [
          1.8561209992226433
         ],
         "y": [
          -1.7541023357017511
         ],
         "z": [
          -0.5487557569218673
         ]
        },
        {
         "hovertemplate": "Label: %{text}<extra></extra>",
         "legendgroup": "Atom importance",
         "marker": {
          "color": "#006400",
          "size": 14.6625,
          "symbol": "circle"
         },
         "mode": "markers",
         "opacity": 0.4373757960534375,
         "showlegend": false,
         "text": "atom C",
         "type": "scatter3d",
         "x": [
          1.1160511187449205
         ],
         "y": [
          -3.019616724777156
         ],
         "z": [
          -0.5867271497782338
         ]
        },
        {
         "hovertemplate": "Label: %{text}<extra></extra>",
         "legendgroup": "Atom importance",
         "marker": {
          "color": "#006400",
          "size": 14.6625,
          "symbol": "circle"
         },
         "mode": "markers",
         "opacity": 0.36023246963351724,
         "showlegend": false,
         "text": "atom C",
         "type": "scatter3d",
         "x": [
          2.941985421749119
         ],
         "y": [
          -1.86188874915777
         ],
         "z": [
          -1.6284611450888302
         ]
        },
        {
         "hovertemplate": "Label: %{text}<extra></extra>",
         "legendgroup": "Atom importance",
         "marker": {
          "color": "#006400",
          "size": 14.6625,
          "symbol": "circle"
         },
         "mode": "markers",
         "opacity": 0.44850427653357944,
         "showlegend": false,
         "text": "atom C",
         "type": "scatter3d",
         "x": [
          3.8665551558507225
         ],
         "y": [
          -0.9186907071531307
         ],
         "z": [
          -1.5173202986129462
         ]
        },
        {
         "hovertemplate": "Label: %{text}<extra></extra>",
         "legendgroup": "Atom importance",
         "marker": {
          "color": "#4B0082",
          "size": 14.6625,
          "symbol": "circle"
         },
         "mode": "markers",
         "opacity": 0.6386824052293485,
         "showlegend": false,
         "text": "atom C",
         "type": "scatter3d",
         "x": [
          3.332751397450678
         ],
         "y": [
          0.32735501161384317
         ],
         "z": [
          -0.8429362837198172
         ]
        },
        {
         "hovertemplate": "Label: %{text}<extra></extra>",
         "legendgroup": "Atom importance",
         "marker": {
          "color": "#006400",
          "size": 14.6625,
          "symbol": "circle"
         },
         "mode": "markers",
         "opacity": 0.4024666609844869,
         "showlegend": false,
         "text": "atom C",
         "type": "scatter3d",
         "x": [
          1.9259370704928849
         ],
         "y": [
          0.425591667595875
         ],
         "z": [
          -1.4002870540491665
         ]
        },
        {
         "hovertemplate": "Label: %{text}<extra></extra>",
         "legendgroup": "Atom importance",
         "marker": {
          "color": "#006400",
          "size": 14.6625,
          "symbol": "circle"
         },
         "mode": "markers",
         "opacity": 0.42912529329513255,
         "showlegend": false,
         "text": "atom C",
         "type": "scatter3d",
         "x": [
          1.1285490221227865
         ],
         "y": [
          -0.5010345772038368
         ],
         "z": [
          -0.8328466039690593
         ]
        },
        {
         "hovertemplate": "Label: %{text}<extra></extra>",
         "legendgroup": "Atom importance",
         "marker": {
          "color": "#006400",
          "size": 14.6625,
          "symbol": "circle"
         },
         "mode": "markers",
         "opacity": 0.3152883093593736,
         "showlegend": false,
         "text": "atom C",
         "type": "scatter3d",
         "x": [
          -0.2677991089866049
         ],
         "y": [
          -0.19284097101987066
         ],
         "z": [
          -0.5847030125594804
         ]
        },
        {
         "hovertemplate": "Label: %{text}<extra></extra>",
         "legendgroup": "Atom importance",
         "marker": {
          "color": "#006400",
          "size": 14.6625,
          "symbol": "circle"
         },
         "mode": "markers",
         "opacity": 0.08818748680442501,
         "showlegend": false,
         "text": "atom C",
         "type": "scatter3d",
         "x": [
          -0.7739406217273075
         ],
         "y": [
          1.0130725077024965
         ],
         "z": [
          -1.0908389622397645
         ]
        },
        {
         "hovertemplate": "Label: %{text}<extra></extra>",
         "legendgroup": "Atom importance",
         "marker": {
          "color": "#006400",
          "size": 14.6625,
          "symbol": "circle"
         },
         "mode": "markers",
         "opacity": 0.1134170866258778,
         "showlegend": false,
         "text": "atom C",
         "type": "scatter3d",
         "x": [
          -2.0802390849307777
         ],
         "y": [
          1.3456658099939116
         ],
         "z": [
          -0.8448634408398891
         ]
        },
        {
         "hovertemplate": "Label: %{text}<extra></extra>",
         "legendgroup": "Atom importance",
         "marker": {
          "color": "#006400",
          "size": 14.6625,
          "symbol": "circle"
         },
         "mode": "markers",
         "opacity": 0.1773393170534921,
         "showlegend": false,
         "text": "atom C",
         "type": "scatter3d",
         "x": [
          -2.915906425553597
         ],
         "y": [
          0.5322158921674083
         ],
         "z": [
          -0.11438192265467949
         ]
        },
        {
         "hovertemplate": "Label: %{text}<extra></extra>",
         "legendgroup": "Atom importance",
         "marker": {
          "color": "#4B0082",
          "size": 14.6625,
          "symbol": "circle"
         },
         "mode": "markers",
         "opacity": 0.5190532430149725,
         "showlegend": false,
         "text": "atom C",
         "type": "scatter3d",
         "x": [
          -4.323370153231149
         ],
         "y": [
          0.8976199750972184
         ],
         "z": [
          0.14602003388719242
         ]
        },
        {
         "hovertemplate": "Label: %{text}<extra></extra>",
         "legendgroup": "Atom importance",
         "marker": {
          "color": "#006400",
          "size": 14.6625,
          "symbol": "circle"
         },
         "mode": "markers",
         "opacity": 0.49980451235818923,
         "showlegend": false,
         "text": "atom C",
         "type": "scatter3d",
         "x": [
          -4.992340326450175
         ],
         "y": [
          -0.181493741480557
         ],
         "z": [
          0.9702002100776616
         ]
        },
        {
         "hovertemplate": "Label: %{text}<extra></extra>",
         "legendgroup": "Atom importance",
         "marker": {
          "color": "#006400",
          "size": 14.6625,
          "symbol": "circle"
         },
         "mode": "markers",
         "opacity": 0.3034319233971987,
         "showlegend": false,
         "text": "atom C",
         "type": "scatter3d",
         "x": [
          -5.0966338681665855
         ],
         "y": [
          1.019937781888401
         ],
         "z": [
          -1.1453433328321583
         ]
        },
        {
         "hovertemplate": "Label: %{text}<extra></extra>",
         "legendgroup": "Atom importance",
         "marker": {
          "color": "#006400",
          "size": 14.6625,
          "symbol": "circle"
         },
         "mode": "markers",
         "opacity": 0.18467739381843923,
         "showlegend": false,
         "text": "atom C",
         "type": "scatter3d",
         "x": [
          -4.323370097213475
         ],
         "y": [
          2.1937415779244023
         ],
         "z": [
          0.9277526158063604
         ]
        },
        {
         "hovertemplate": "Label: %{text}<extra></extra>",
         "legendgroup": "Atom importance",
         "marker": {
          "color": "#006400",
          "size": 14.6625,
          "symbol": "circle"
         },
         "mode": "markers",
         "opacity": 0.24966645491491712,
         "showlegend": false,
         "text": "atom C",
         "type": "scatter3d",
         "x": [
          -2.403439068673043
         ],
         "y": [
          -0.6424266850550262
         ],
         "z": [
          0.372911571941218
         ]
        },
        {
         "hovertemplate": "Label: %{text}<extra></extra>",
         "legendgroup": "Atom importance",
         "marker": {
          "color": "#006400",
          "size": 14.6625,
          "symbol": "circle"
         },
         "mode": "markers",
         "opacity": 0,
         "showlegend": false,
         "text": "atom C",
         "type": "scatter3d",
         "x": [
          -1.0826201413147873
         ],
         "y": [
          -1.0129088421134012
         ],
         "z": [
          0.1438893069702008
         ]
        },
        {
         "hovertemplate": "Label: %{text}<extra></extra>",
         "legendgroup": "Atom importance",
         "marker": {
          "color": "#4B0082",
          "size": 6.5874999999999995,
          "symbol": "circle"
         },
         "mode": "markers",
         "opacity": 0.5109746037337524,
         "showlegend": false,
         "text": "atom H",
         "type": "scatter3d",
         "x": [
          6.219881636363294
         ],
         "y": [
          0.7010116409573371
         ],
         "z": [
          1.6782254044841265
         ]
        },
        {
         "hovertemplate": "Label: %{text}<extra></extra>",
         "legendgroup": "Atom importance",
         "marker": {
          "color": "#4B0082",
          "size": 6.5874999999999995,
          "symbol": "circle"
         },
         "mode": "markers",
         "opacity": 0.512422936144156,
         "showlegend": false,
         "text": "atom H",
         "type": "scatter3d",
         "x": [
          5.551487875166859
         ],
         "y": [
          1.352886826767116
         ],
         "z": [
          0.18596599176170536
         ]
        },
        {
         "hovertemplate": "Label: %{text}<extra></extra>",
         "legendgroup": "Atom importance",
         "marker": {
          "color": "#006400",
          "size": 6.5874999999999995,
          "symbol": "circle"
         },
         "mode": "markers",
         "opacity": 0.49892022843551226,
         "showlegend": false,
         "text": "atom H",
         "type": "scatter3d",
         "x": [
          4.825365266317191
         ],
         "y": [
          1.7837633377435507
         ],
         "z": [
          1.8336895610034027
         ]
        },
        {
         "hovertemplate": "Label: %{text}<extra></extra>",
         "legendgroup": "Atom importance",
         "marker": {
          "color": "#006400",
          "size": 6.5874999999999995,
          "symbol": "circle"
         },
         "mode": "markers",
         "opacity": 0.49956371831714325,
         "showlegend": false,
         "text": "atom H",
         "type": "scatter3d",
         "x": [
          1.4321400337129446
         ],
         "y": [
          0.43048263012976573
         ],
         "z": [
          1.6920857307559871
         ]
        },
        {
         "hovertemplate": "Label: %{text}<extra></extra>",
         "legendgroup": "Atom importance",
         "marker": {
          "color": "#006400",
          "size": 6.5874999999999995,
          "symbol": "circle"
         },
         "mode": "markers",
         "opacity": 0.4992234401461452,
         "showlegend": false,
         "text": "atom H",
         "type": "scatter3d",
         "x": [
          2.021784526735509
         ],
         "y": [
          1.749990868555899
         ],
         "z": [
          0.6470052625057148
         ]
        },
        {
         "hovertemplate": "Label: %{text}<extra></extra>",
         "legendgroup": "Atom importance",
         "marker": {
          "color": "#006400",
          "size": 6.5874999999999995,
          "symbol": "circle"
         },
         "mode": "markers",
         "opacity": 0.47250253872888,
         "showlegend": false,
         "text": "atom H",
         "type": "scatter3d",
         "x": [
          2.8432272021748304
         ],
         "y": [
          1.3998274451085153
         ],
         "z": [
          2.1862083038487565
         ]
        },
        {
         "hovertemplate": "Label: %{text}<extra></extra>",
         "legendgroup": "Atom importance",
         "marker": {
          "color": "#006400",
          "size": 6.5874999999999995,
          "symbol": "circle"
         },
         "mode": "markers",
         "opacity": 0.44603869369177024,
         "showlegend": false,
         "text": "atom H",
         "type": "scatter3d",
         "x": [
          3.4167262153860403
         ],
         "y": [
          -2.2458626478660455
         ],
         "z": [
          0.8169624419171359
         ]
        },
        {
         "hovertemplate": "Label: %{text}<extra></extra>",
         "legendgroup": "Atom importance",
         "marker": {
          "color": "#006400",
          "size": 6.5874999999999995,
          "symbol": "circle"
         },
         "mode": "markers",
         "opacity": 0.4867336599518469,
         "showlegend": false,
         "text": "atom H",
         "type": "scatter3d",
         "x": [
          1.9945970937545352
         ],
         "y": [
          -1.5173502221201387
         ],
         "z": [
          1.623832875051177
         ]
        },
        {
         "hovertemplate": "Label: %{text}<extra></extra>",
         "legendgroup": "Atom importance",
         "marker": {
          "color": "#006400",
          "size": 6.5874999999999995,
          "symbol": "circle"
         },
         "mode": "markers",
         "opacity": 0.46045202076197184,
         "showlegend": false,
         "text": "atom H",
         "type": "scatter3d",
         "x": [
          0.9288813222863
         ],
         "y": [
          -3.5175165818760528
         ],
         "z": [
          0.39018405376715604
         ]
        },
        {
         "hovertemplate": "Label: %{text}<extra></extra>",
         "legendgroup": "Atom importance",
         "marker": {
          "color": "#006400",
          "size": 6.5874999999999995,
          "symbol": "circle"
         },
         "mode": "markers",
         "opacity": 0.49066964476344826,
         "showlegend": false,
         "text": "atom H",
         "type": "scatter3d",
         "x": [
          1.7857341210153816
         ],
         "y": [
          -3.790745525337047
         ],
         "z": [
          -1.1085526127890197
         ]
        },
        {
         "hovertemplate": "Label: %{text}<extra></extra>",
         "legendgroup": "Atom importance",
         "marker": {
          "color": "#006400",
          "size": 6.5874999999999995,
          "symbol": "circle"
         },
         "mode": "markers",
         "opacity": 0.43761644683733636,
         "showlegend": false,
         "text": "atom H",
         "type": "scatter3d",
         "x": [
          0.24969435452072858
         ],
         "y": [
          -2.959436922872751
         ],
         "z": [
          -1.2538377380107464
         ]
        },
        {
         "hovertemplate": "Label: %{text}<extra></extra>",
         "legendgroup": "Atom importance",
         "marker": {
          "color": "#006400",
          "size": 6.5874999999999995,
          "symbol": "circle"
         },
         "mode": "markers",
         "opacity": 0.48929111307152917,
         "showlegend": false,
         "text": "atom H",
         "type": "scatter3d",
         "x": [
          2.9070394360515492
         ],
         "y": [
          -2.6388878456225386
         ],
         "z": [
          -2.3711145746793836
         ]
        },
        {
         "hovertemplate": "Label: %{text}<extra></extra>",
         "legendgroup": "Atom importance",
         "marker": {
          "color": "#006400",
          "size": 6.5874999999999995,
          "symbol": "circle"
         },
         "mode": "markers",
         "opacity": 0.47036545778999256,
         "showlegend": false,
         "text": "atom H",
         "type": "scatter3d",
         "x": [
          4.873097891410717
         ],
         "y": [
          -0.9646007211378425
         ],
         "z": [
          -1.8388283738062852
         ]
        },
        {
         "hovertemplate": "Label: %{text}<extra></extra>",
         "legendgroup": "Atom importance",
         "marker": {
          "color": "#006400",
          "size": 6.5874999999999995,
          "symbol": "circle"
         },
         "mode": "markers",
         "opacity": 0.4564737459099554,
         "showlegend": false,
         "text": "atom H",
         "type": "scatter3d",
         "x": [
          3.925466654917286
         ],
         "y": [
          1.2087329265922193
         ],
         "z": [
          -1.0133569179838047
         ]
        },
        {
         "hovertemplate": "Label: %{text}<extra></extra>",
         "legendgroup": "Atom importance",
         "marker": {
          "color": "#4B0082",
          "size": 6.5874999999999995,
          "symbol": "circle"
         },
         "mode": "markers",
         "opacity": 0.5492878973730417,
         "showlegend": false,
         "text": "atom H",
         "type": "scatter3d",
         "x": [
          1.6990865672134177
         ],
         "y": [
          1.1412459533714447
         ],
         "z": [
          -2.125827473921551
         ]
        },
        {
         "hovertemplate": "Label: %{text}<extra></extra>",
         "legendgroup": "Atom importance",
         "marker": {
          "color": "#4B0082",
          "size": 6.5874999999999995,
          "symbol": "circle"
         },
         "mode": "markers",
         "opacity": 0.5287915083869738,
         "showlegend": false,
         "text": "atom H",
         "type": "scatter3d",
         "x": [
          -0.1290871838553678
         ],
         "y": [
          1.6905917285872332
         ],
         "z": [
          -1.681094113321406
         ]
        },
        {
         "hovertemplate": "Label: %{text}<extra></extra>",
         "legendgroup": "Atom importance",
         "marker": {
          "color": "#006400",
          "size": 6.5874999999999995,
          "symbol": "circle"
         },
         "mode": "markers",
         "opacity": 0.4946267162312343,
         "showlegend": false,
         "text": "atom H",
         "type": "scatter3d",
         "x": [
          -2.4789319278496897
         ],
         "y": [
          2.297425549091379
         ],
         "z": [
          -1.2446385778887097
         ]
        },
        {
         "hovertemplate": "Label: %{text}<extra></extra>",
         "legendgroup": "Atom importance",
         "marker": {
          "color": "#006400",
          "size": 6.5874999999999995,
          "symbol": "circle"
         },
         "mode": "markers",
         "opacity": 0.47117744725866095,
         "showlegend": false,
         "text": "atom H",
         "type": "scatter3d",
         "x": [
          -5.008078869939829
         ],
         "y": [
          -1.1351059336059424
         ],
         "z": [
          0.4216111274178667
         ]
        },
        {
         "hovertemplate": "Label: %{text}<extra></extra>",
         "legendgroup": "Atom importance",
         "marker": {
          "color": "#006400",
          "size": 6.5874999999999995,
          "symbol": "circle"
         },
         "mode": "markers",
         "opacity": 0.49388427545458785,
         "showlegend": false,
         "text": "atom H",
         "type": "scatter3d",
         "x": [
          -6.030522694341891
         ],
         "y": [
          0.16402176049747894
         ],
         "z": [
          1.1817294146710795
         ]
        },
        {
         "hovertemplate": "Label: %{text}<extra></extra>",
         "legendgroup": "Atom importance",
         "marker": {
          "color": "#4B0082",
          "size": 6.5874999999999995,
          "symbol": "circle"
         },
         "mode": "markers",
         "opacity": 0.5005525322048434,
         "showlegend": false,
         "text": "atom H",
         "type": "scatter3d",
         "x": [
          -4.483986717264412
         ],
         "y": [
          -0.2980674836726615
         ],
         "z": [
          1.9653821691293323
         ]
        },
        {
         "hovertemplate": "Label: %{text}<extra></extra>",
         "legendgroup": "Atom importance",
         "marker": {
          "color": "#006400",
          "size": 6.5874999999999995,
          "symbol": "circle"
         },
         "mode": "markers",
         "opacity": 0.4801196538873368,
         "showlegend": false,
         "text": "atom H",
         "type": "scatter3d",
         "x": [
          -4.404508552133305
         ],
         "y": [
          1.163277603549372
         ],
         "z": [
          -1.9878588315765349
         ]
        },
        {
         "hovertemplate": "Label: %{text}<extra></extra>",
         "legendgroup": "Atom importance",
         "marker": {
          "color": "#006400",
          "size": 6.5874999999999995,
          "symbol": "circle"
         },
         "mode": "markers",
         "opacity": 0.4973519241334343,
         "showlegend": false,
         "text": "atom H",
         "type": "scatter3d",
         "x": [
          -5.831985822954455
         ],
         "y": [
          1.8297000141657744
         ],
         "z": [
          -1.0419782604742691
         ]
        },
        {
         "hovertemplate": "Label: %{text}<extra></extra>",
         "legendgroup": "Atom importance",
         "marker": {
          "color": "#4B0082",
          "size": 6.5874999999999995,
          "symbol": "circle"
         },
         "mode": "markers",
         "opacity": 0.5,
         "showlegend": false,
         "text": "atom H",
         "type": "scatter3d",
         "x": [
          -5.6634161392374
         ],
         "y": [
          0.07069149143575285
         ],
         "z": [
          -1.3572020998589527
         ]
        },
        {
         "hovertemplate": "Label: %{text}<extra></extra>",
         "legendgroup": "Atom importance",
         "marker": {
          "color": "#006400",
          "size": 6.5874999999999995,
          "symbol": "circle"
         },
         "mode": "markers",
         "opacity": 0.48488226692571523,
         "showlegend": false,
         "text": "atom H",
         "type": "scatter3d",
         "x": [
          -5.301964943934121
         ],
         "y": [
          2.466164438925512
         ],
         "z": [
          1.3248185864007014
         ]
        },
        {
         "hovertemplate": "Label: %{text}<extra></extra>",
         "legendgroup": "Atom importance",
         "marker": {
          "color": "#4B0082",
          "size": 6.5874999999999995,
          "symbol": "circle"
         },
         "mode": "markers",
         "opacity": 0.5071230225844574,
         "showlegend": false,
         "text": "atom H",
         "type": "scatter3d",
         "x": [
          -3.904283075658025
         ],
         "y": [
          2.9713520300956415
         ],
         "z": [
          0.23404980144262233
         ]
        },
        {
         "hovertemplate": "Label: %{text}<extra></extra>",
         "legendgroup": "Atom importance",
         "marker": {
          "color": "#4B0082",
          "size": 6.5874999999999995,
          "symbol": "circle"
         },
         "mode": "markers",
         "opacity": 0.5187017098727392,
         "showlegend": false,
         "text": "atom H",
         "type": "scatter3d",
         "x": [
          -3.5467451716853664
         ],
         "y": [
          2.083863632473996
         ],
         "z": [
          1.7279602474126892
         ]
        },
        {
         "hovertemplate": "Label: %{text}<extra></extra>",
         "legendgroup": "Atom importance",
         "marker": {
          "color": "#4B0082",
          "size": 6.5874999999999995,
          "symbol": "circle"
         },
         "mode": "markers",
         "opacity": 0.5039597933535814,
         "showlegend": false,
         "text": "atom H",
         "type": "scatter3d",
         "x": [
          -3.0224360975963482
         ],
         "y": [
          -1.329980230357766
         ],
         "z": [
          0.961554098723407
         ]
        },
        {
         "hovertemplate": "Label: %{text}<extra></extra>",
         "legendgroup": "Atom importance",
         "marker": {
          "color": "#4B0082",
          "size": 6.5874999999999995,
          "symbol": "circle"
         },
         "mode": "markers",
         "opacity": 0.5335652291600751,
         "showlegend": false,
         "text": "atom H",
         "type": "scatter3d",
         "x": [
          -0.724359732021228
         ],
         "y": [
          -1.9603088486824285
         ],
         "z": [
          0.5830346288750771
         ]
        },
        {
         "legendgroup": "Atoms",
         "mode": "markers",
         "name": "Atoms",
         "type": "scatter3d",
         "x": [
          null
         ],
         "y": [
          null
         ],
         "z": [
          null
         ]
        },
        {
         "legendgroup": "Atom importance",
         "mode": "markers",
         "name": "Atom importance",
         "type": "scatter3d",
         "x": [
          null
         ],
         "y": [
          null
         ],
         "z": [
          null
         ]
        },
        {
         "legendgroup": "Bonds",
         "mode": "markers",
         "name": "Bonds",
         "type": "scatter3d",
         "x": [
          null
         ],
         "y": [
          null
         ],
         "z": [
          null
         ]
        },
        {
         "legendgroup": "Bond importance",
         "mode": "markers",
         "name": "Bond importance",
         "showlegend": true,
         "type": "scatter3d",
         "x": [
          null
         ],
         "y": [
          null
         ],
         "z": [
          null
         ]
        }
       ],
       "layout": {
        "scene": {
         "xaxis": {
          "showgrid": false,
          "showticklabels": false,
          "title": {
           "text": ""
          },
          "zeroline": false
         },
         "yaxis": {
          "showgrid": false,
          "showticklabels": false,
          "title": {
           "text": ""
          },
          "zeroline": false
         },
         "zaxis": {
          "showgrid": false,
          "showticklabels": false,
          "title": {
           "text": ""
          },
          "zeroline": false
         }
        },
        "template": {
         "data": {
          "bar": [
           {
            "error_x": {
             "color": "#2a3f5f"
            },
            "error_y": {
             "color": "#2a3f5f"
            },
            "marker": {
             "line": {
              "color": "white",
              "width": 0.5
             },
             "pattern": {
              "fillmode": "overlay",
              "size": 10,
              "solidity": 0.2
             }
            },
            "type": "bar"
           }
          ],
          "barpolar": [
           {
            "marker": {
             "line": {
              "color": "white",
              "width": 0.5
             },
             "pattern": {
              "fillmode": "overlay",
              "size": 10,
              "solidity": 0.2
             }
            },
            "type": "barpolar"
           }
          ],
          "carpet": [
           {
            "aaxis": {
             "endlinecolor": "#2a3f5f",
             "gridcolor": "#C8D4E3",
             "linecolor": "#C8D4E3",
             "minorgridcolor": "#C8D4E3",
             "startlinecolor": "#2a3f5f"
            },
            "baxis": {
             "endlinecolor": "#2a3f5f",
             "gridcolor": "#C8D4E3",
             "linecolor": "#C8D4E3",
             "minorgridcolor": "#C8D4E3",
             "startlinecolor": "#2a3f5f"
            },
            "type": "carpet"
           }
          ],
          "choropleth": [
           {
            "colorbar": {
             "outlinewidth": 0,
             "ticks": ""
            },
            "type": "choropleth"
           }
          ],
          "contour": [
           {
            "colorbar": {
             "outlinewidth": 0,
             "ticks": ""
            },
            "colorscale": [
             [
              0,
              "#0d0887"
             ],
             [
              0.1111111111111111,
              "#46039f"
             ],
             [
              0.2222222222222222,
              "#7201a8"
             ],
             [
              0.3333333333333333,
              "#9c179e"
             ],
             [
              0.4444444444444444,
              "#bd3786"
             ],
             [
              0.5555555555555556,
              "#d8576b"
             ],
             [
              0.6666666666666666,
              "#ed7953"
             ],
             [
              0.7777777777777778,
              "#fb9f3a"
             ],
             [
              0.8888888888888888,
              "#fdca26"
             ],
             [
              1,
              "#f0f921"
             ]
            ],
            "type": "contour"
           }
          ],
          "contourcarpet": [
           {
            "colorbar": {
             "outlinewidth": 0,
             "ticks": ""
            },
            "type": "contourcarpet"
           }
          ],
          "heatmap": [
           {
            "colorbar": {
             "outlinewidth": 0,
             "ticks": ""
            },
            "colorscale": [
             [
              0,
              "#0d0887"
             ],
             [
              0.1111111111111111,
              "#46039f"
             ],
             [
              0.2222222222222222,
              "#7201a8"
             ],
             [
              0.3333333333333333,
              "#9c179e"
             ],
             [
              0.4444444444444444,
              "#bd3786"
             ],
             [
              0.5555555555555556,
              "#d8576b"
             ],
             [
              0.6666666666666666,
              "#ed7953"
             ],
             [
              0.7777777777777778,
              "#fb9f3a"
             ],
             [
              0.8888888888888888,
              "#fdca26"
             ],
             [
              1,
              "#f0f921"
             ]
            ],
            "type": "heatmap"
           }
          ],
          "heatmapgl": [
           {
            "colorbar": {
             "outlinewidth": 0,
             "ticks": ""
            },
            "colorscale": [
             [
              0,
              "#0d0887"
             ],
             [
              0.1111111111111111,
              "#46039f"
             ],
             [
              0.2222222222222222,
              "#7201a8"
             ],
             [
              0.3333333333333333,
              "#9c179e"
             ],
             [
              0.4444444444444444,
              "#bd3786"
             ],
             [
              0.5555555555555556,
              "#d8576b"
             ],
             [
              0.6666666666666666,
              "#ed7953"
             ],
             [
              0.7777777777777778,
              "#fb9f3a"
             ],
             [
              0.8888888888888888,
              "#fdca26"
             ],
             [
              1,
              "#f0f921"
             ]
            ],
            "type": "heatmapgl"
           }
          ],
          "histogram": [
           {
            "marker": {
             "pattern": {
              "fillmode": "overlay",
              "size": 10,
              "solidity": 0.2
             }
            },
            "type": "histogram"
           }
          ],
          "histogram2d": [
           {
            "colorbar": {
             "outlinewidth": 0,
             "ticks": ""
            },
            "colorscale": [
             [
              0,
              "#0d0887"
             ],
             [
              0.1111111111111111,
              "#46039f"
             ],
             [
              0.2222222222222222,
              "#7201a8"
             ],
             [
              0.3333333333333333,
              "#9c179e"
             ],
             [
              0.4444444444444444,
              "#bd3786"
             ],
             [
              0.5555555555555556,
              "#d8576b"
             ],
             [
              0.6666666666666666,
              "#ed7953"
             ],
             [
              0.7777777777777778,
              "#fb9f3a"
             ],
             [
              0.8888888888888888,
              "#fdca26"
             ],
             [
              1,
              "#f0f921"
             ]
            ],
            "type": "histogram2d"
           }
          ],
          "histogram2dcontour": [
           {
            "colorbar": {
             "outlinewidth": 0,
             "ticks": ""
            },
            "colorscale": [
             [
              0,
              "#0d0887"
             ],
             [
              0.1111111111111111,
              "#46039f"
             ],
             [
              0.2222222222222222,
              "#7201a8"
             ],
             [
              0.3333333333333333,
              "#9c179e"
             ],
             [
              0.4444444444444444,
              "#bd3786"
             ],
             [
              0.5555555555555556,
              "#d8576b"
             ],
             [
              0.6666666666666666,
              "#ed7953"
             ],
             [
              0.7777777777777778,
              "#fb9f3a"
             ],
             [
              0.8888888888888888,
              "#fdca26"
             ],
             [
              1,
              "#f0f921"
             ]
            ],
            "type": "histogram2dcontour"
           }
          ],
          "mesh3d": [
           {
            "colorbar": {
             "outlinewidth": 0,
             "ticks": ""
            },
            "type": "mesh3d"
           }
          ],
          "parcoords": [
           {
            "line": {
             "colorbar": {
              "outlinewidth": 0,
              "ticks": ""
             }
            },
            "type": "parcoords"
           }
          ],
          "pie": [
           {
            "automargin": true,
            "type": "pie"
           }
          ],
          "scatter": [
           {
            "fillpattern": {
             "fillmode": "overlay",
             "size": 10,
             "solidity": 0.2
            },
            "type": "scatter"
           }
          ],
          "scatter3d": [
           {
            "line": {
             "colorbar": {
              "outlinewidth": 0,
              "ticks": ""
             }
            },
            "marker": {
             "colorbar": {
              "outlinewidth": 0,
              "ticks": ""
             }
            },
            "type": "scatter3d"
           }
          ],
          "scattercarpet": [
           {
            "marker": {
             "colorbar": {
              "outlinewidth": 0,
              "ticks": ""
             }
            },
            "type": "scattercarpet"
           }
          ],
          "scattergeo": [
           {
            "marker": {
             "colorbar": {
              "outlinewidth": 0,
              "ticks": ""
             }
            },
            "type": "scattergeo"
           }
          ],
          "scattergl": [
           {
            "marker": {
             "colorbar": {
              "outlinewidth": 0,
              "ticks": ""
             }
            },
            "type": "scattergl"
           }
          ],
          "scattermapbox": [
           {
            "marker": {
             "colorbar": {
              "outlinewidth": 0,
              "ticks": ""
             }
            },
            "type": "scattermapbox"
           }
          ],
          "scatterpolar": [
           {
            "marker": {
             "colorbar": {
              "outlinewidth": 0,
              "ticks": ""
             }
            },
            "type": "scatterpolar"
           }
          ],
          "scatterpolargl": [
           {
            "marker": {
             "colorbar": {
              "outlinewidth": 0,
              "ticks": ""
             }
            },
            "type": "scatterpolargl"
           }
          ],
          "scatterternary": [
           {
            "marker": {
             "colorbar": {
              "outlinewidth": 0,
              "ticks": ""
             }
            },
            "type": "scatterternary"
           }
          ],
          "surface": [
           {
            "colorbar": {
             "outlinewidth": 0,
             "ticks": ""
            },
            "colorscale": [
             [
              0,
              "#0d0887"
             ],
             [
              0.1111111111111111,
              "#46039f"
             ],
             [
              0.2222222222222222,
              "#7201a8"
             ],
             [
              0.3333333333333333,
              "#9c179e"
             ],
             [
              0.4444444444444444,
              "#bd3786"
             ],
             [
              0.5555555555555556,
              "#d8576b"
             ],
             [
              0.6666666666666666,
              "#ed7953"
             ],
             [
              0.7777777777777778,
              "#fb9f3a"
             ],
             [
              0.8888888888888888,
              "#fdca26"
             ],
             [
              1,
              "#f0f921"
             ]
            ],
            "type": "surface"
           }
          ],
          "table": [
           {
            "cells": {
             "fill": {
              "color": "#EBF0F8"
             },
             "line": {
              "color": "white"
             }
            },
            "header": {
             "fill": {
              "color": "#C8D4E3"
             },
             "line": {
              "color": "white"
             }
            },
            "type": "table"
           }
          ]
         },
         "layout": {
          "annotationdefaults": {
           "arrowcolor": "#2a3f5f",
           "arrowhead": 0,
           "arrowwidth": 1
          },
          "autotypenumbers": "strict",
          "coloraxis": {
           "colorbar": {
            "outlinewidth": 0,
            "ticks": ""
           }
          },
          "colorscale": {
           "diverging": [
            [
             0,
             "#8e0152"
            ],
            [
             0.1,
             "#c51b7d"
            ],
            [
             0.2,
             "#de77ae"
            ],
            [
             0.3,
             "#f1b6da"
            ],
            [
             0.4,
             "#fde0ef"
            ],
            [
             0.5,
             "#f7f7f7"
            ],
            [
             0.6,
             "#e6f5d0"
            ],
            [
             0.7,
             "#b8e186"
            ],
            [
             0.8,
             "#7fbc41"
            ],
            [
             0.9,
             "#4d9221"
            ],
            [
             1,
             "#276419"
            ]
           ],
           "sequential": [
            [
             0,
             "#0d0887"
            ],
            [
             0.1111111111111111,
             "#46039f"
            ],
            [
             0.2222222222222222,
             "#7201a8"
            ],
            [
             0.3333333333333333,
             "#9c179e"
            ],
            [
             0.4444444444444444,
             "#bd3786"
            ],
            [
             0.5555555555555556,
             "#d8576b"
            ],
            [
             0.6666666666666666,
             "#ed7953"
            ],
            [
             0.7777777777777778,
             "#fb9f3a"
            ],
            [
             0.8888888888888888,
             "#fdca26"
            ],
            [
             1,
             "#f0f921"
            ]
           ],
           "sequentialminus": [
            [
             0,
             "#0d0887"
            ],
            [
             0.1111111111111111,
             "#46039f"
            ],
            [
             0.2222222222222222,
             "#7201a8"
            ],
            [
             0.3333333333333333,
             "#9c179e"
            ],
            [
             0.4444444444444444,
             "#bd3786"
            ],
            [
             0.5555555555555556,
             "#d8576b"
            ],
            [
             0.6666666666666666,
             "#ed7953"
            ],
            [
             0.7777777777777778,
             "#fb9f3a"
            ],
            [
             0.8888888888888888,
             "#fdca26"
            ],
            [
             1,
             "#f0f921"
            ]
           ]
          },
          "colorway": [
           "#636efa",
           "#EF553B",
           "#00cc96",
           "#ab63fa",
           "#FFA15A",
           "#19d3f3",
           "#FF6692",
           "#B6E880",
           "#FF97FF",
           "#FECB52"
          ],
          "font": {
           "color": "#2a3f5f"
          },
          "geo": {
           "bgcolor": "white",
           "lakecolor": "white",
           "landcolor": "white",
           "showlakes": true,
           "showland": true,
           "subunitcolor": "#C8D4E3"
          },
          "hoverlabel": {
           "align": "left"
          },
          "hovermode": "closest",
          "mapbox": {
           "style": "light"
          },
          "paper_bgcolor": "white",
          "plot_bgcolor": "white",
          "polar": {
           "angularaxis": {
            "gridcolor": "#EBF0F8",
            "linecolor": "#EBF0F8",
            "ticks": ""
           },
           "bgcolor": "white",
           "radialaxis": {
            "gridcolor": "#EBF0F8",
            "linecolor": "#EBF0F8",
            "ticks": ""
           }
          },
          "scene": {
           "xaxis": {
            "backgroundcolor": "white",
            "gridcolor": "#DFE8F3",
            "gridwidth": 2,
            "linecolor": "#EBF0F8",
            "showbackground": true,
            "ticks": "",
            "zerolinecolor": "#EBF0F8"
           },
           "yaxis": {
            "backgroundcolor": "white",
            "gridcolor": "#DFE8F3",
            "gridwidth": 2,
            "linecolor": "#EBF0F8",
            "showbackground": true,
            "ticks": "",
            "zerolinecolor": "#EBF0F8"
           },
           "zaxis": {
            "backgroundcolor": "white",
            "gridcolor": "#DFE8F3",
            "gridwidth": 2,
            "linecolor": "#EBF0F8",
            "showbackground": true,
            "ticks": "",
            "zerolinecolor": "#EBF0F8"
           }
          },
          "shapedefaults": {
           "line": {
            "color": "#2a3f5f"
           }
          },
          "ternary": {
           "aaxis": {
            "gridcolor": "#DFE8F3",
            "linecolor": "#A2B1C6",
            "ticks": ""
           },
           "baxis": {
            "gridcolor": "#DFE8F3",
            "linecolor": "#A2B1C6",
            "ticks": ""
           },
           "bgcolor": "white",
           "caxis": {
            "gridcolor": "#DFE8F3",
            "linecolor": "#A2B1C6",
            "ticks": ""
           }
          },
          "title": {
           "x": 0.05
          },
          "xaxis": {
           "automargin": true,
           "gridcolor": "#EBF0F8",
           "linecolor": "#EBF0F8",
           "ticks": "",
           "title": {
            "standoff": 15
           },
           "zerolinecolor": "#EBF0F8",
           "zerolinewidth": 2
          },
          "yaxis": {
           "automargin": true,
           "gridcolor": "#EBF0F8",
           "linecolor": "#EBF0F8",
           "ticks": "",
           "title": {
            "standoff": 15
           },
           "zerolinecolor": "#EBF0F8",
           "zerolinewidth": 2
          }
         }
        }
       }
      }
     },
     "metadata": {},
     "output_type": "display_data"
    }
   ],
   "source": [
    "trace_atoms = [None] * len(atom_symbol)\n",
    "trace_atoms_imp = [None] * len(atom_symbol)\n",
    "trace_edges = [None] * len(edge_mask_dict)\n",
    "trace_edge_imp = [None] * len(edge_mask_dict)\n",
    "\n",
    "for i in range(len(atom_symbol)):\n",
    "\n",
    "    trace_atoms[i] = go.Scatter3d(x=[coords[i][0]],\n",
    "                         y=[coords[i][1]],\n",
    "                         z=[coords[i][2]],\n",
    "                         mode='markers',\n",
    "                         legendgroup='Atoms',\n",
    "                         showlegend=False,\n",
    "                         text = f'atom {atom_symbol[i]}',\n",
    "                         marker=dict(symbol='circle',\n",
    "                                                 size=sizes[atom_symbol[i]],\n",
    "                                                 color=colors[atom_symbol[i]])\n",
    "    )\n",
    "\n",
    "\n",
    "\n",
    "for i in range(len(atom_symbol)):\n",
    "\n",
    "    trace_atoms_imp[i] = go.Scatter3d(x=[coords[i][0]],\n",
    "                         y=[coords[i][1]],\n",
    "                         z=[coords[i][2]],\n",
    "                         mode='markers',\n",
    "                         showlegend=False,\n",
    "                         opacity=rescaled_nodes[i],\n",
    "                         hovertemplate='Label: %{text}<extra></extra>',\n",
    "                         text = f'atom {atom_symbol[i]}',\n",
    "                         legendgroup='Atom importance',\n",
    "                         marker=dict(symbol='circle',\n",
    "                                                 size=sizes[atom_symbol[i]]*1.7,\n",
    "                                                 color=color_nodes[i])\n",
    "    )\n",
    "\n",
    "for i in range(len(edge_mask_dict)):\n",
    "    \n",
    "    trace_edges[i]= go.Scatter3d(\n",
    "        x=coords_edges[i][0],\n",
    "        y=coords_edges[i][1],\n",
    "        z=coords_edges[i][2],\n",
    "        mode='lines',\n",
    "        showlegend=False,\n",
    "        legendgroup='Bonds',\n",
    "        line=dict(color='black', width=2),\n",
    "        hoverinfo='none')\n",
    "\n",
    "\n",
    "for i in range(len(edge_mask_dict)):\n",
    "    \n",
    "    trace_edge_imp[i]= go.Scatter3d(\n",
    "        x=coords_edges[i][0],\n",
    "        y=coords_edges[i][1],\n",
    "        z=coords_edges[i][2],\n",
    "        mode='lines',\n",
    "        showlegend=False,\n",
    "        legendgroup='Bond importance',\n",
    "        opacity=rescaled_edges[i],\n",
    "        line=dict(color=color_edges[i], width=rescaled_edges[i]*15),\n",
    "        hoverinfo='none')\n",
    "    \n",
    "\n",
    "\n",
    "traces =   trace_atoms + trace_edges + trace_edge_imp + trace_atoms_imp\n",
    "fig = go.Figure(data=traces)\n",
    "\n",
    "fig.add_trace(go.Scatter3d(\n",
    "    x=[None],\n",
    "    y=[None],\n",
    "    z=[None],\n",
    "    mode='markers',\n",
    "    legendgroup='Atoms',\n",
    "    name='Atoms'\n",
    "))\n",
    "\n",
    "fig.add_trace(go.Scatter3d(\n",
    "    x=[None],\n",
    "    y=[None],\n",
    "    z=[None],\n",
    "    mode='markers',\n",
    "    legendgroup='Atom importance',\n",
    "    name='Atom importance'\n",
    "))\n",
    "\n",
    "fig.add_trace(go.Scatter3d(\n",
    "    x=[None],\n",
    "    y=[None],\n",
    "    z=[None],\n",
    "    mode='markers',\n",
    "    legendgroup='Bonds',\n",
    "    name='Bonds'\n",
    "))\n",
    "\n",
    "fig.add_trace(go.Scatter3d(\n",
    "    x=[None],\n",
    "    y=[None],\n",
    "    z=[None],\n",
    "    mode='markers',\n",
    "    legendgroup='Bond importance',\n",
    "    name='Bond importance',\n",
    "    showlegend=True\n",
    "))\n",
    "\n",
    "fig.update_layout(template =  'plotly_white')\n",
    "\n",
    "fig.update_layout(scene=dict(xaxis=dict(showgrid=False, zeroline=False, showticklabels=False),\n",
    "                             yaxis=dict(showgrid=False, zeroline=False, showticklabels=False),\n",
    "                             zaxis=dict(showgrid=False, zeroline=False, showticklabels=False),\n",
    "                             xaxis_title='', yaxis_title='', zaxis_title=''))\n",
    "\n",
    "\n",
    "fig.show()"
   ]
  },
  {
   "cell_type": "code",
   "execution_count": 62,
   "metadata": {},
   "outputs": [
    {
     "data": {
      "application/vnd.plotly.v1+json": {
       "config": {
        "plotlyServerURL": "https://plot.ly"
       },
       "data": [
        {
         "hovertemplate": "Label: %{text}<extra></extra>",
         "mode": "markers",
         "text": "labels",
         "type": "scatter",
         "x": [
          1,
          2,
          3
         ],
         "y": [
          4,
          5,
          6
         ]
        }
       ],
       "layout": {
        "template": {
         "data": {
          "bar": [
           {
            "error_x": {
             "color": "#2a3f5f"
            },
            "error_y": {
             "color": "#2a3f5f"
            },
            "marker": {
             "line": {
              "color": "#E5ECF6",
              "width": 0.5
             },
             "pattern": {
              "fillmode": "overlay",
              "size": 10,
              "solidity": 0.2
             }
            },
            "type": "bar"
           }
          ],
          "barpolar": [
           {
            "marker": {
             "line": {
              "color": "#E5ECF6",
              "width": 0.5
             },
             "pattern": {
              "fillmode": "overlay",
              "size": 10,
              "solidity": 0.2
             }
            },
            "type": "barpolar"
           }
          ],
          "carpet": [
           {
            "aaxis": {
             "endlinecolor": "#2a3f5f",
             "gridcolor": "white",
             "linecolor": "white",
             "minorgridcolor": "white",
             "startlinecolor": "#2a3f5f"
            },
            "baxis": {
             "endlinecolor": "#2a3f5f",
             "gridcolor": "white",
             "linecolor": "white",
             "minorgridcolor": "white",
             "startlinecolor": "#2a3f5f"
            },
            "type": "carpet"
           }
          ],
          "choropleth": [
           {
            "colorbar": {
             "outlinewidth": 0,
             "ticks": ""
            },
            "type": "choropleth"
           }
          ],
          "contour": [
           {
            "colorbar": {
             "outlinewidth": 0,
             "ticks": ""
            },
            "colorscale": [
             [
              0,
              "#0d0887"
             ],
             [
              0.1111111111111111,
              "#46039f"
             ],
             [
              0.2222222222222222,
              "#7201a8"
             ],
             [
              0.3333333333333333,
              "#9c179e"
             ],
             [
              0.4444444444444444,
              "#bd3786"
             ],
             [
              0.5555555555555556,
              "#d8576b"
             ],
             [
              0.6666666666666666,
              "#ed7953"
             ],
             [
              0.7777777777777778,
              "#fb9f3a"
             ],
             [
              0.8888888888888888,
              "#fdca26"
             ],
             [
              1,
              "#f0f921"
             ]
            ],
            "type": "contour"
           }
          ],
          "contourcarpet": [
           {
            "colorbar": {
             "outlinewidth": 0,
             "ticks": ""
            },
            "type": "contourcarpet"
           }
          ],
          "heatmap": [
           {
            "colorbar": {
             "outlinewidth": 0,
             "ticks": ""
            },
            "colorscale": [
             [
              0,
              "#0d0887"
             ],
             [
              0.1111111111111111,
              "#46039f"
             ],
             [
              0.2222222222222222,
              "#7201a8"
             ],
             [
              0.3333333333333333,
              "#9c179e"
             ],
             [
              0.4444444444444444,
              "#bd3786"
             ],
             [
              0.5555555555555556,
              "#d8576b"
             ],
             [
              0.6666666666666666,
              "#ed7953"
             ],
             [
              0.7777777777777778,
              "#fb9f3a"
             ],
             [
              0.8888888888888888,
              "#fdca26"
             ],
             [
              1,
              "#f0f921"
             ]
            ],
            "type": "heatmap"
           }
          ],
          "heatmapgl": [
           {
            "colorbar": {
             "outlinewidth": 0,
             "ticks": ""
            },
            "colorscale": [
             [
              0,
              "#0d0887"
             ],
             [
              0.1111111111111111,
              "#46039f"
             ],
             [
              0.2222222222222222,
              "#7201a8"
             ],
             [
              0.3333333333333333,
              "#9c179e"
             ],
             [
              0.4444444444444444,
              "#bd3786"
             ],
             [
              0.5555555555555556,
              "#d8576b"
             ],
             [
              0.6666666666666666,
              "#ed7953"
             ],
             [
              0.7777777777777778,
              "#fb9f3a"
             ],
             [
              0.8888888888888888,
              "#fdca26"
             ],
             [
              1,
              "#f0f921"
             ]
            ],
            "type": "heatmapgl"
           }
          ],
          "histogram": [
           {
            "marker": {
             "pattern": {
              "fillmode": "overlay",
              "size": 10,
              "solidity": 0.2
             }
            },
            "type": "histogram"
           }
          ],
          "histogram2d": [
           {
            "colorbar": {
             "outlinewidth": 0,
             "ticks": ""
            },
            "colorscale": [
             [
              0,
              "#0d0887"
             ],
             [
              0.1111111111111111,
              "#46039f"
             ],
             [
              0.2222222222222222,
              "#7201a8"
             ],
             [
              0.3333333333333333,
              "#9c179e"
             ],
             [
              0.4444444444444444,
              "#bd3786"
             ],
             [
              0.5555555555555556,
              "#d8576b"
             ],
             [
              0.6666666666666666,
              "#ed7953"
             ],
             [
              0.7777777777777778,
              "#fb9f3a"
             ],
             [
              0.8888888888888888,
              "#fdca26"
             ],
             [
              1,
              "#f0f921"
             ]
            ],
            "type": "histogram2d"
           }
          ],
          "histogram2dcontour": [
           {
            "colorbar": {
             "outlinewidth": 0,
             "ticks": ""
            },
            "colorscale": [
             [
              0,
              "#0d0887"
             ],
             [
              0.1111111111111111,
              "#46039f"
             ],
             [
              0.2222222222222222,
              "#7201a8"
             ],
             [
              0.3333333333333333,
              "#9c179e"
             ],
             [
              0.4444444444444444,
              "#bd3786"
             ],
             [
              0.5555555555555556,
              "#d8576b"
             ],
             [
              0.6666666666666666,
              "#ed7953"
             ],
             [
              0.7777777777777778,
              "#fb9f3a"
             ],
             [
              0.8888888888888888,
              "#fdca26"
             ],
             [
              1,
              "#f0f921"
             ]
            ],
            "type": "histogram2dcontour"
           }
          ],
          "mesh3d": [
           {
            "colorbar": {
             "outlinewidth": 0,
             "ticks": ""
            },
            "type": "mesh3d"
           }
          ],
          "parcoords": [
           {
            "line": {
             "colorbar": {
              "outlinewidth": 0,
              "ticks": ""
             }
            },
            "type": "parcoords"
           }
          ],
          "pie": [
           {
            "automargin": true,
            "type": "pie"
           }
          ],
          "scatter": [
           {
            "fillpattern": {
             "fillmode": "overlay",
             "size": 10,
             "solidity": 0.2
            },
            "type": "scatter"
           }
          ],
          "scatter3d": [
           {
            "line": {
             "colorbar": {
              "outlinewidth": 0,
              "ticks": ""
             }
            },
            "marker": {
             "colorbar": {
              "outlinewidth": 0,
              "ticks": ""
             }
            },
            "type": "scatter3d"
           }
          ],
          "scattercarpet": [
           {
            "marker": {
             "colorbar": {
              "outlinewidth": 0,
              "ticks": ""
             }
            },
            "type": "scattercarpet"
           }
          ],
          "scattergeo": [
           {
            "marker": {
             "colorbar": {
              "outlinewidth": 0,
              "ticks": ""
             }
            },
            "type": "scattergeo"
           }
          ],
          "scattergl": [
           {
            "marker": {
             "colorbar": {
              "outlinewidth": 0,
              "ticks": ""
             }
            },
            "type": "scattergl"
           }
          ],
          "scattermapbox": [
           {
            "marker": {
             "colorbar": {
              "outlinewidth": 0,
              "ticks": ""
             }
            },
            "type": "scattermapbox"
           }
          ],
          "scatterpolar": [
           {
            "marker": {
             "colorbar": {
              "outlinewidth": 0,
              "ticks": ""
             }
            },
            "type": "scatterpolar"
           }
          ],
          "scatterpolargl": [
           {
            "marker": {
             "colorbar": {
              "outlinewidth": 0,
              "ticks": ""
             }
            },
            "type": "scatterpolargl"
           }
          ],
          "scatterternary": [
           {
            "marker": {
             "colorbar": {
              "outlinewidth": 0,
              "ticks": ""
             }
            },
            "type": "scatterternary"
           }
          ],
          "surface": [
           {
            "colorbar": {
             "outlinewidth": 0,
             "ticks": ""
            },
            "colorscale": [
             [
              0,
              "#0d0887"
             ],
             [
              0.1111111111111111,
              "#46039f"
             ],
             [
              0.2222222222222222,
              "#7201a8"
             ],
             [
              0.3333333333333333,
              "#9c179e"
             ],
             [
              0.4444444444444444,
              "#bd3786"
             ],
             [
              0.5555555555555556,
              "#d8576b"
             ],
             [
              0.6666666666666666,
              "#ed7953"
             ],
             [
              0.7777777777777778,
              "#fb9f3a"
             ],
             [
              0.8888888888888888,
              "#fdca26"
             ],
             [
              1,
              "#f0f921"
             ]
            ],
            "type": "surface"
           }
          ],
          "table": [
           {
            "cells": {
             "fill": {
              "color": "#EBF0F8"
             },
             "line": {
              "color": "white"
             }
            },
            "header": {
             "fill": {
              "color": "#C8D4E3"
             },
             "line": {
              "color": "white"
             }
            },
            "type": "table"
           }
          ]
         },
         "layout": {
          "annotationdefaults": {
           "arrowcolor": "#2a3f5f",
           "arrowhead": 0,
           "arrowwidth": 1
          },
          "autotypenumbers": "strict",
          "coloraxis": {
           "colorbar": {
            "outlinewidth": 0,
            "ticks": ""
           }
          },
          "colorscale": {
           "diverging": [
            [
             0,
             "#8e0152"
            ],
            [
             0.1,
             "#c51b7d"
            ],
            [
             0.2,
             "#de77ae"
            ],
            [
             0.3,
             "#f1b6da"
            ],
            [
             0.4,
             "#fde0ef"
            ],
            [
             0.5,
             "#f7f7f7"
            ],
            [
             0.6,
             "#e6f5d0"
            ],
            [
             0.7,
             "#b8e186"
            ],
            [
             0.8,
             "#7fbc41"
            ],
            [
             0.9,
             "#4d9221"
            ],
            [
             1,
             "#276419"
            ]
           ],
           "sequential": [
            [
             0,
             "#0d0887"
            ],
            [
             0.1111111111111111,
             "#46039f"
            ],
            [
             0.2222222222222222,
             "#7201a8"
            ],
            [
             0.3333333333333333,
             "#9c179e"
            ],
            [
             0.4444444444444444,
             "#bd3786"
            ],
            [
             0.5555555555555556,
             "#d8576b"
            ],
            [
             0.6666666666666666,
             "#ed7953"
            ],
            [
             0.7777777777777778,
             "#fb9f3a"
            ],
            [
             0.8888888888888888,
             "#fdca26"
            ],
            [
             1,
             "#f0f921"
            ]
           ],
           "sequentialminus": [
            [
             0,
             "#0d0887"
            ],
            [
             0.1111111111111111,
             "#46039f"
            ],
            [
             0.2222222222222222,
             "#7201a8"
            ],
            [
             0.3333333333333333,
             "#9c179e"
            ],
            [
             0.4444444444444444,
             "#bd3786"
            ],
            [
             0.5555555555555556,
             "#d8576b"
            ],
            [
             0.6666666666666666,
             "#ed7953"
            ],
            [
             0.7777777777777778,
             "#fb9f3a"
            ],
            [
             0.8888888888888888,
             "#fdca26"
            ],
            [
             1,
             "#f0f921"
            ]
           ]
          },
          "colorway": [
           "#636efa",
           "#EF553B",
           "#00cc96",
           "#ab63fa",
           "#FFA15A",
           "#19d3f3",
           "#FF6692",
           "#B6E880",
           "#FF97FF",
           "#FECB52"
          ],
          "font": {
           "color": "#2a3f5f"
          },
          "geo": {
           "bgcolor": "white",
           "lakecolor": "white",
           "landcolor": "#E5ECF6",
           "showlakes": true,
           "showland": true,
           "subunitcolor": "white"
          },
          "hoverlabel": {
           "align": "left"
          },
          "hovermode": "closest",
          "mapbox": {
           "style": "light"
          },
          "paper_bgcolor": "white",
          "plot_bgcolor": "#E5ECF6",
          "polar": {
           "angularaxis": {
            "gridcolor": "white",
            "linecolor": "white",
            "ticks": ""
           },
           "bgcolor": "#E5ECF6",
           "radialaxis": {
            "gridcolor": "white",
            "linecolor": "white",
            "ticks": ""
           }
          },
          "scene": {
           "xaxis": {
            "backgroundcolor": "#E5ECF6",
            "gridcolor": "white",
            "gridwidth": 2,
            "linecolor": "white",
            "showbackground": true,
            "ticks": "",
            "zerolinecolor": "white"
           },
           "yaxis": {
            "backgroundcolor": "#E5ECF6",
            "gridcolor": "white",
            "gridwidth": 2,
            "linecolor": "white",
            "showbackground": true,
            "ticks": "",
            "zerolinecolor": "white"
           },
           "zaxis": {
            "backgroundcolor": "#E5ECF6",
            "gridcolor": "white",
            "gridwidth": 2,
            "linecolor": "white",
            "showbackground": true,
            "ticks": "",
            "zerolinecolor": "white"
           }
          },
          "shapedefaults": {
           "line": {
            "color": "#2a3f5f"
           }
          },
          "ternary": {
           "aaxis": {
            "gridcolor": "white",
            "linecolor": "white",
            "ticks": ""
           },
           "baxis": {
            "gridcolor": "white",
            "linecolor": "white",
            "ticks": ""
           },
           "bgcolor": "#E5ECF6",
           "caxis": {
            "gridcolor": "white",
            "linecolor": "white",
            "ticks": ""
           }
          },
          "title": {
           "x": 0.05
          },
          "xaxis": {
           "automargin": true,
           "gridcolor": "white",
           "linecolor": "white",
           "ticks": "",
           "title": {
            "standoff": 15
           },
           "zerolinecolor": "white",
           "zerolinewidth": 2
          },
          "yaxis": {
           "automargin": true,
           "gridcolor": "white",
           "linecolor": "white",
           "ticks": "",
           "title": {
            "standoff": 15
           },
           "zerolinecolor": "white",
           "zerolinewidth": 2
          }
         }
        }
       }
      }
     },
     "metadata": {},
     "output_type": "display_data"
    }
   ],
   "source": [
    "import plotly.graph_objects as go\n",
    "\n",
    "# Create data points\n",
    "x = [1, 2, 3]\n",
    "y = [4, 5, 6]\n",
    "labels = ['A', 'B', 'C']\n",
    "\n",
    "# Create a scatter trace with custom hover template\n",
    "trace = go.Scatter(\n",
    "    x=x,\n",
    "    y=y,\n",
    "    mode='markers',\n",
    "    hovertemplate='Label: %{text}<extra></extra>',\n",
    "    text=labels\n",
    ")\n",
    "\n",
    "# Create the data list with the scatter trace\n",
    "data = [trace]\n",
    "\n",
    "# Create the layout\n",
    "layout = go.Layout()\n",
    "\n",
    "# Create the figure\n",
    "fig = go.Figure(data=data, layout=layout)\n",
    "\n",
    "# Show the figure\n",
    "fig.show()"
   ]
  },
  {
   "cell_type": "code",
   "execution_count": 44,
   "metadata": {},
   "outputs": [],
   "source": [
    "from torch_geometric.explain.metric import fidelity, fidelity_curve_auc, characterization_score, groundtruth_metrics"
   ]
  },
  {
   "cell_type": "code",
   "execution_count": 45,
   "metadata": {},
   "outputs": [
    {
     "data": {
      "text/plain": [
       "(0.0, 1.0)"
      ]
     },
     "execution_count": 45,
     "metadata": {},
     "output_type": "execute_result"
    }
   ],
   "source": [
    "fid_pm = fidelity(explainer, explanation)\n",
    "fid_pm"
   ]
  },
  {
   "cell_type": "code",
   "execution_count": 46,
   "metadata": {},
   "outputs": [
    {
     "data": {
      "text/plain": [
       "tensor(1.)"
      ]
     },
     "execution_count": 46,
     "metadata": {},
     "output_type": "execute_result"
    }
   ],
   "source": [
    "characterization_score(torch.tensor(fid_pm[1]), torch.tensor(fid_pm[0]))"
   ]
  },
  {
   "cell_type": "code",
   "execution_count": 22,
   "metadata": {},
   "outputs": [],
   "source": [
    "import networkx as nx\n",
    "from torch_geometric.utils import to_networkx\n",
    "import plotly.graph_objects as go\n",
    "import pandas as pd\n",
    "from rdkit import Chem\n",
    "from rdkit.Chem import AllChem"
   ]
  },
  {
   "cell_type": "code",
   "execution_count": 23,
   "metadata": {},
   "outputs": [],
   "source": [
    "def to_molecule(data):\n",
    "    ATOM_MAP = {1:'H', 5: 'B', 6:'C', 7:'N', 8:'O', 9:'F', 15:'P', 16:'S', \n",
    "                17:'Cl', 33:'As', 34:'Se', 35:'Br', 53:'I'}\n",
    "    \n",
    "    ligand = Chem.AddHs(Chem.MolFromSmiles(data.ligand))\n",
    "    ligand_atoms = ligand.GetNumAtoms()\n",
    "    AllChem.EmbedMolecule(ligand, AllChem.ETKDGv3())\n",
    "    \n",
    "    substrate = Chem.AddHs(Chem.MolFromSmiles(data.substrate))\n",
    "    substrate_atoms = substrate.GetNumAtoms()\n",
    "    AllChem.EmbedMolecule(substrate, AllChem.ETKDGv3())\n",
    "\n",
    "    boron = rdmolops.AddHs(Chem.MolFromSmiles(data.boron))\n",
    "    boron_atoms = boron.GetNumAtoms()\n",
    "    AllChem.EmbedMolecule(boron, AllChem.ETKDGv3())\n",
    "\n",
    "    ligand_coords = ligand.GetConformer().GetPositions()\n",
    "\n",
    "    substrate_coords = substrate.GetConformer().GetPositions()\n",
    "    #substrate_coords[:,0] = substrate_coords[:,0]+1+max(ligand_coords[:,0])\n",
    "\n",
    "    boron_coords = boron.GetConformer().GetPositions()\n",
    "    #boron_coords[:,0] = boron_coords[:,0]+1+max(substrate_coords[:,0])\n",
    "\n",
    "    coords = np.concatenate([ligand_coords, substrate_coords, boron_coords], axis = 0)\n",
    "    \n",
    "    g = to_networkx(data, node_attrs=['x'])\n",
    "\n",
    "    for u, data in g.nodes(data=True):\n",
    "        data['name'] = ATOM_MAP[data['x'][0]]\n",
    "        if u < ligand_atoms:\n",
    "            data['mol'] = 'l'\n",
    "        elif ligand_atoms <= u < substrate_atoms+ligand_atoms:\n",
    "            data['mol'] = 's'\n",
    "        else:\n",
    "            data['mol'] = 'b'\n",
    "        del data['x']\n",
    "    return g, coords"
   ]
  },
  {
   "cell_type": "code",
   "execution_count": 24,
   "metadata": {},
   "outputs": [
    {
     "data": {
      "image/png": "[encoded data removed]",
      "text/plain": [
       "<rdkit.Chem.rdchem.Mol at 0x2a1bfc0b0>"
      ]
     },
     "execution_count": 24,
     "metadata": {},
     "output_type": "execute_result"
    }
   ],
   "source": [
    "structure = ligands[test_idx[4]][26]\n",
    "G, pos = to_molecule(structure)\n",
    "Chem.MolFromSmiles(structure.boron)"
   ]
  },
  {
   "cell_type": "code",
   "execution_count": 25,
   "metadata": {},
   "outputs": [],
   "source": [
    "ligand = nx.Graph()\n",
    "substrate = nx.Graph()\n",
    "boron = nx.Graph()"
   ]
  },
  {
   "cell_type": "code",
   "execution_count": 26,
   "metadata": {},
   "outputs": [],
   "source": [
    "for u, feat in G.nodes(data = True):\n",
    "    if feat['mol'] == 'l':\n",
    "        ligand.add_node(u, name = feat['name'], coords = pos[u], an = u)\n",
    "    elif feat['mol'] == 's':\n",
    "        substrate.add_node(u, name = feat['name'], coords = pos[u], an = u)\n",
    "    else:\n",
    "        boron.add_node(u, name = feat['name'], coords = pos[u], an = u)\n",
    "\n",
    "nodes_ligand = set(ligand.nodes())\n",
    "nodes_substrate = set(substrate.nodes())\n",
    "nodes_boron = set(boron.nodes())"
   ]
  },
  {
   "cell_type": "code",
   "execution_count": 27,
   "metadata": {},
   "outputs": [],
   "source": [
    "ligand.add_edges_from(G.edges())\n",
    "substrate.add_edges_from(G.edges())\n",
    "boron.add_edges_from(G.edges())"
   ]
  },
  {
   "cell_type": "code",
   "execution_count": 28,
   "metadata": {},
   "outputs": [],
   "source": [
    "# Delete edges not connecting nodes in the node set\n",
    "for u, v in list(G.edges()):\n",
    "\n",
    "    if u not in nodes_ligand or v not in nodes_ligand:\n",
    "        try:\n",
    "            ligand.remove_edge(u, v)\n",
    "        except:\n",
    "            pass\n",
    "\n",
    "    if u not in nodes_substrate or v not in nodes_substrate:\n",
    "        try:\n",
    "            substrate.remove_edge(u, v)\n",
    "        except:\n",
    "            pass\n",
    "\n",
    "    if u not in nodes_boron or v not in nodes_boron:\n",
    "        try:\n",
    "            boron.remove_edge(u, v)\n",
    "        except:\n",
    "            pass\n",
    "\n",
    "for u in list(G.nodes()):\n",
    "    if u not in nodes_ligand:\n",
    "        ligand.remove_node(u)\n",
    "    if u not in nodes_substrate:\n",
    "        substrate.remove_node(u)\n",
    "    if u not in nodes_boron:\n",
    "        boron.remove_node(u)"
   ]
  },
  {
   "cell_type": "code",
   "execution_count": 29,
   "metadata": {},
   "outputs": [],
   "source": [
    "ligand_xyz = np.array([pos[v] for v in sorted(ligand)])\n",
    "edge_ligand = np.array([(pos[u], pos[v]) for u, v in ligand.edges()])\n",
    "edges_l = [(u, v) for u, v in ligand.edges()]\n",
    "ligand_an = [ligand.nodes[node]['an'] for node in ligand.nodes()]\n",
    "\n",
    "substrate_xyz = np.array([pos[v] for v in sorted(substrate)])\n",
    "edge_subs = np.array([(pos[u], pos[v]) for u, v in substrate.edges()])\n",
    "edges_s = [(u, v) for u, v in substrate.edges()]\n",
    "subs_an = [substrate.nodes[node]['an'] for node in substrate.nodes()]\n",
    "\n",
    "boron_xyz = np.array([pos[v] for v in sorted(boron)])\n",
    "edge_boron = np.array([(pos[u], pos[v]) for u, v in boron.edges()])\n",
    "edges_b = [(u, v) for u, v in boron.edges()]\n",
    "boron_an = [boron.nodes[node]['an'] for node in boron.nodes()]\n",
    "\n",
    "\n",
    "edge_xyz = np.array([(pos[u], pos[v]) for u, v in G.edges()])"
   ]
  },
  {
   "cell_type": "code",
   "execution_count": 30,
   "metadata": {},
   "outputs": [],
   "source": [
    "colors = {\n",
    "    'C': 'black',\n",
    "    'O': 'red',\n",
    "    'N': 'blue',\n",
    "    'H': 'lightgray',\n",
    "    'B': 'brown'\n",
    "}\n",
    "\n",
    "sizes = {\n",
    "    'C': 69/8,\n",
    "    'O': 66/8,\n",
    "    'N': 71/8,\n",
    "    'H': 31/8,\n",
    "    'B': 84/8\n",
    "}"
   ]
  },
  {
   "cell_type": "code",
   "execution_count": 45,
   "metadata": {},
   "outputs": [
    {
     "data": {
      "application/vnd.plotly.v1+json": {
       "config": {
        "plotlyServerURL": "https://plot.ly"
       },
       "data": [
        {
         "hoverinfo": "none",
         "line": {
          "color": "black",
          "width": 2
         },
         "mode": "lines",
         "name": "Atom 70 - Atom 71",
         "text": "(70, 71)",
         "type": "scatter3d",
         "x": [
          -2.718726629949614,
          -2.038238277219937
         ],
         "y": [
          -1.1164739623058997,
          -0.0420148074181831
         ],
         "z": [
          1.0022015600916878,
          0.284102143883722
         ]
        },
        {
         "hoverinfo": "none",
         "line": {
          "color": "black",
          "width": 2
         },
         "mode": "lines",
         "name": "Atom 70 - Atom 79",
         "text": "(70, 79)",
         "type": "scatter3d",
         "x": [
          -2.718726629949614,
          -2.4739202892488965
         ],
         "y": [
          -1.1164739623058997,
          -1.9730681353132353
         ],
         "z": [
          1.0022015600916878,
          0.6036749272553759
         ]
        },
        {
         "hoverinfo": "none",
         "line": {
          "color": "black",
          "width": 2
         },
         "mode": "lines",
         "name": "Atom 71 - Atom 72",
         "text": "(71, 72)",
         "type": "scatter3d",
         "x": [
          -2.038238277219937,
          -2.8200089552983685
         ],
         "y": [
          -0.0420148074181831,
          0.6142347092402968
         ],
         "z": [
          0.284102143883722,
          -0.7639951292517827
         ]
        },
        {
         "hoverinfo": "none",
         "line": {
          "color": "black",
          "width": 2
         },
         "mode": "lines",
         "name": "Atom 71 - Atom 73",
         "text": "(71, 73)",
         "type": "scatter3d",
         "x": [
          -2.038238277219937,
          -0.48642458033448344
         ],
         "y": [
          -0.0420148074181831,
          0.031057577158153868
         ],
         "z": [
          0.284102143883722,
          0.14376447818205326
         ]
        },
        {
         "hoverinfo": "none",
         "line": {
          "color": "black",
          "width": 2
         },
         "mode": "lines",
         "name": "Atom 72 - Atom 80",
         "text": "(72, 80)",
         "type": "scatter3d",
         "x": [
          -2.8200089552983685,
          -2.3960806685984006
         ],
         "y": [
          0.6142347092402968,
          1.4723577416999665
         ],
         "z": [
          -0.7639951292517827,
          -0.9799234031324494
         ]
        },
        {
         "hoverinfo": "none",
         "line": {
          "color": "black",
          "width": 2
         },
         "mode": "lines",
         "name": "Atom 73 - Atom 74",
         "text": "(73, 74)",
         "type": "scatter3d",
         "x": [
          -0.48642458033448344,
          0.27286283930242006
         ],
         "y": [
          0.031057577158153868,
          0.9418149738113074
         ],
         "z": [
          0.14376447818205326,
          0.8412596148251308
         ]
        },
        {
         "hoverinfo": "none",
         "line": {
          "color": "black",
          "width": 2
         },
         "mode": "lines",
         "name": "Atom 73 - Atom 78",
         "text": "(73, 78)",
         "type": "scatter3d",
         "x": [
          -0.48642458033448344,
          0.17265840368822816
         ],
         "y": [
          0.031057577158153868,
          -0.8365880892119704
         ],
         "z": [
          0.14376447818205326,
          -0.7027295270758057
         ]
        },
        {
         "hoverinfo": "none",
         "line": {
          "color": "black",
          "width": 2
         },
         "mode": "lines",
         "name": "Atom 74 - Atom 75",
         "text": "(74, 75)",
         "type": "scatter3d",
         "x": [
          0.27286283930242006,
          1.6397404939873923
         ],
         "y": [
          0.9418149738113074,
          1.0315010085911032
         ],
         "z": [
          0.8412596148251308,
          0.7398197913946271
         ]
        },
        {
         "hoverinfo": "none",
         "line": {
          "color": "black",
          "width": 2
         },
         "mode": "lines",
         "name": "Atom 74 - Atom 81",
         "text": "(74, 81)",
         "type": "scatter3d",
         "x": [
          0.27286283930242006,
          -0.24182439223650787
         ],
         "y": [
          0.9418149738113074,
          1.6154567670594455
         ],
         "z": [
          0.8412596148251308,
          1.4988691193894748
         ]
        },
        {
         "hoverinfo": "none",
         "line": {
          "color": "black",
          "width": 2
         },
         "mode": "lines",
         "name": "Atom 75 - Atom 76",
         "text": "(75, 76)",
         "type": "scatter3d",
         "x": [
          1.6397404939873923,
          2.2813533282154363
         ],
         "y": [
          1.0315010085911032,
          0.15639394159227513
         ],
         "z": [
          0.7398197913946271,
          -0.11091117020617793
         ]
        },
        {
         "hoverinfo": "none",
         "line": {
          "color": "black",
          "width": 2
         },
         "mode": "lines",
         "name": "Atom 75 - Atom 82",
         "text": "(75, 82)",
         "type": "scatter3d",
         "x": [
          1.6397404939873923,
          2.264728991824784
         ],
         "y": [
          1.0315010085911032,
          1.7342689478836346
         ],
         "z": [
          0.7398197913946271,
          1.2728609943908573
         ]
        },
        {
         "hoverinfo": "none",
         "line": {
          "color": "black",
          "width": 2
         },
         "mode": "lines",
         "name": "Atom 76 - Atom 77",
         "text": "(76, 77)",
         "type": "scatter3d",
         "x": [
          2.2813533282154363,
          1.5447490190265845
         ],
         "y": [
          0.15639394159227513,
          -0.7832794753593275
         ],
         "z": [
          -0.11091117020617793,
          -0.8367102649996356
         ]
        },
        {
         "hoverinfo": "none",
         "line": {
          "color": "black",
          "width": 2
         },
         "mode": "lines",
         "name": "Atom 76 - Atom 83",
         "text": "(76, 83)",
         "type": "scatter3d",
         "x": [
          2.2813533282154363,
          3.371876679078303
         ],
         "y": [
          0.15639394159227513,
          0.18922522245470616
         ],
         "z": [
          -0.11091117020617793,
          -0.22575377123144028
         ]
        },
        {
         "hoverinfo": "none",
         "line": {
          "color": "black",
          "width": 2
         },
         "mode": "lines",
         "name": "Atom 77 - Atom 78",
         "text": "(77, 78)",
         "type": "scatter3d",
         "x": [
          1.5447490190265845,
          0.17265840368822816
         ],
         "y": [
          -0.7832794753593275,
          -0.8365880892119704
         ],
         "z": [
          -0.8367102649996356,
          -0.7027295270758057
         ]
        },
        {
         "hoverinfo": "none",
         "line": {
          "color": "black",
          "width": 2
         },
         "mode": "lines",
         "name": "Atom 77 - Atom 84",
         "text": "(77, 84)",
         "type": "scatter3d",
         "x": [
          1.5447490190265845,
          2.0589342585005332
         ],
         "y": [
          -0.7832794753593275,
          -1.4698005544622295
         ],
         "z": [
          -0.8367102649996356,
          -1.5055083007812475
         ]
        },
        {
         "hoverinfo": "none",
         "line": {
          "color": "black",
          "width": 2
         },
         "mode": "lines",
         "name": "Atom 78 - Atom 85",
         "text": "(78, 85)",
         "type": "scatter3d",
         "x": [
          0.17265840368822816,
          -0.43168022073764367
         ],
         "y": [
          -0.8365880892119704,
          -1.565085865419624
         ],
         "z": [
          -0.7027295270758057,
          -1.261021062735177
         ]
        },
        {
         "marker": {
          "color": "red",
          "size": 8.25,
          "symbol": "circle"
         },
         "mode": "markers",
         "name": "atom 70",
         "text": "atom 70",
         "type": "scatter3d",
         "x": [
          -2.718726629949614
         ],
         "y": [
          -1.1164739623058997
         ],
         "z": [
          1.0022015600916878
         ]
        },
        {
         "marker": {
          "color": "brown",
          "size": 10.5,
          "symbol": "circle"
         },
         "mode": "markers",
         "name": "atom 71",
         "text": "atom 71",
         "type": "scatter3d",
         "x": [
          -2.038238277219937
         ],
         "y": [
          -0.0420148074181831
         ],
         "z": [
          0.284102143883722
         ]
        },
        {
         "marker": {
          "color": "red",
          "size": 8.25,
          "symbol": "circle"
         },
         "mode": "markers",
         "name": "atom 72",
         "text": "atom 72",
         "type": "scatter3d",
         "x": [
          -2.8200089552983685
         ],
         "y": [
          0.6142347092402968
         ],
         "z": [
          -0.7639951292517827
         ]
        },
        {
         "marker": {
          "color": "black",
          "size": 8.625,
          "symbol": "circle"
         },
         "mode": "markers",
         "name": "atom 73",
         "text": "atom 73",
         "type": "scatter3d",
         "x": [
          -0.48642458033448344
         ],
         "y": [
          0.031057577158153868
         ],
         "z": [
          0.14376447818205326
         ]
        },
        {
         "marker": {
          "color": "black",
          "size": 8.625,
          "symbol": "circle"
         },
         "mode": "markers",
         "name": "atom 74",
         "text": "atom 74",
         "type": "scatter3d",
         "x": [
          0.27286283930242006
         ],
         "y": [
          0.9418149738113074
         ],
         "z": [
          0.8412596148251308
         ]
        },
        {
         "marker": {
          "color": "black",
          "size": 8.625,
          "symbol": "circle"
         },
         "mode": "markers",
         "name": "atom 75",
         "text": "atom 75",
         "type": "scatter3d",
         "x": [
          1.6397404939873923
         ],
         "y": [
          1.0315010085911032
         ],
         "z": [
          0.7398197913946271
         ]
        },
        {
         "marker": {
          "color": "black",
          "size": 8.625,
          "symbol": "circle"
         },
         "mode": "markers",
         "name": "atom 76",
         "text": "atom 76",
         "type": "scatter3d",
         "x": [
          2.2813533282154363
         ],
         "y": [
          0.15639394159227513
         ],
         "z": [
          -0.11091117020617793
         ]
        },
        {
         "marker": {
          "color": "black",
          "size": 8.625,
          "symbol": "circle"
         },
         "mode": "markers",
         "name": "atom 77",
         "text": "atom 77",
         "type": "scatter3d",
         "x": [
          1.5447490190265845
         ],
         "y": [
          -0.7832794753593275
         ],
         "z": [
          -0.8367102649996356
         ]
        },
        {
         "marker": {
          "color": "black",
          "size": 8.625,
          "symbol": "circle"
         },
         "mode": "markers",
         "name": "atom 78",
         "text": "atom 78",
         "type": "scatter3d",
         "x": [
          0.17265840368822816
         ],
         "y": [
          -0.8365880892119704
         ],
         "z": [
          -0.7027295270758057
         ]
        },
        {
         "marker": {
          "color": "lightgray",
          "size": 3.875,
          "symbol": "circle"
         },
         "mode": "markers",
         "name": "atom 79",
         "text": "atom 79",
         "type": "scatter3d",
         "x": [
          -2.4739202892488965
         ],
         "y": [
          -1.9730681353132353
         ],
         "z": [
          0.6036749272553759
         ]
        },
        {
         "marker": {
          "color": "lightgray",
          "size": 3.875,
          "symbol": "circle"
         },
         "mode": "markers",
         "name": "atom 80",
         "text": "atom 80",
         "type": "scatter3d",
         "x": [
          -2.3960806685984006
         ],
         "y": [
          1.4723577416999665
         ],
         "z": [
          -0.9799234031324494
         ]
        },
        {
         "marker": {
          "color": "lightgray",
          "size": 3.875,
          "symbol": "circle"
         },
         "mode": "markers",
         "name": "atom 81",
         "text": "atom 81",
         "type": "scatter3d",
         "x": [
          -0.24182439223650787
         ],
         "y": [
          1.6154567670594455
         ],
         "z": [
          1.4988691193894748
         ]
        },
        {
         "marker": {
          "color": "lightgray",
          "size": 3.875,
          "symbol": "circle"
         },
         "mode": "markers",
         "name": "atom 82",
         "text": "atom 82",
         "type": "scatter3d",
         "x": [
          2.264728991824784
         ],
         "y": [
          1.7342689478836346
         ],
         "z": [
          1.2728609943908573
         ]
        },
        {
         "marker": {
          "color": "lightgray",
          "size": 3.875,
          "symbol": "circle"
         },
         "mode": "markers",
         "name": "atom 83",
         "text": "atom 83",
         "type": "scatter3d",
         "x": [
          3.371876679078303
         ],
         "y": [
          0.18922522245470616
         ],
         "z": [
          -0.22575377123144028
         ]
        },
        {
         "marker": {
          "color": "lightgray",
          "size": 3.875,
          "symbol": "circle"
         },
         "mode": "markers",
         "name": "atom 84",
         "text": "atom 84",
         "type": "scatter3d",
         "x": [
          2.0589342585005332
         ],
         "y": [
          -1.4698005544622295
         ],
         "z": [
          -1.5055083007812475
         ]
        },
        {
         "marker": {
          "color": "lightgray",
          "size": 3.875,
          "symbol": "circle"
         },
         "mode": "markers",
         "name": "atom 85",
         "text": "atom 85",
         "type": "scatter3d",
         "x": [
          -0.43168022073764367
         ],
         "y": [
          -1.565085865419624
         ],
         "z": [
          -1.261021062735177
         ]
        }
       ],
       "layout": {
        "scene": {
         "xaxis": {
          "showgrid": false,
          "showticklabels": false,
          "title": {
           "text": ""
          },
          "zeroline": false
         },
         "yaxis": {
          "showgrid": false,
          "showticklabels": false,
          "title": {
           "text": ""
          },
          "zeroline": false
         },
         "zaxis": {
          "showgrid": false,
          "showticklabels": false,
          "title": {
           "text": ""
          },
          "zeroline": false
         }
        },
        "template": {
         "data": {
          "bar": [
           {
            "error_x": {
             "color": "#2a3f5f"
            },
            "error_y": {
             "color": "#2a3f5f"
            },
            "marker": {
             "line": {
              "color": "white",
              "width": 0.5
             },
             "pattern": {
              "fillmode": "overlay",
              "size": 10,
              "solidity": 0.2
             }
            },
            "type": "bar"
           }
          ],
          "barpolar": [
           {
            "marker": {
             "line": {
              "color": "white",
              "width": 0.5
             },
             "pattern": {
              "fillmode": "overlay",
              "size": 10,
              "solidity": 0.2
             }
            },
            "type": "barpolar"
           }
          ],
          "carpet": [
           {
            "aaxis": {
             "endlinecolor": "#2a3f5f",
             "gridcolor": "#C8D4E3",
             "linecolor": "#C8D4E3",
             "minorgridcolor": "#C8D4E3",
             "startlinecolor": "#2a3f5f"
            },
            "baxis": {
             "endlinecolor": "#2a3f5f",
             "gridcolor": "#C8D4E3",
             "linecolor": "#C8D4E3",
             "minorgridcolor": "#C8D4E3",
             "startlinecolor": "#2a3f5f"
            },
            "type": "carpet"
           }
          ],
          "choropleth": [
           {
            "colorbar": {
             "outlinewidth": 0,
             "ticks": ""
            },
            "type": "choropleth"
           }
          ],
          "contour": [
           {
            "colorbar": {
             "outlinewidth": 0,
             "ticks": ""
            },
            "colorscale": [
             [
              0,
              "#0d0887"
             ],
             [
              0.1111111111111111,
              "#46039f"
             ],
             [
              0.2222222222222222,
              "#7201a8"
             ],
             [
              0.3333333333333333,
              "#9c179e"
             ],
             [
              0.4444444444444444,
              "#bd3786"
             ],
             [
              0.5555555555555556,
              "#d8576b"
             ],
             [
              0.6666666666666666,
              "#ed7953"
             ],
             [
              0.7777777777777778,
              "#fb9f3a"
             ],
             [
              0.8888888888888888,
              "#fdca26"
             ],
             [
              1,
              "#f0f921"
             ]
            ],
            "type": "contour"
           }
          ],
          "contourcarpet": [
           {
            "colorbar": {
             "outlinewidth": 0,
             "ticks": ""
            },
            "type": "contourcarpet"
           }
          ],
          "heatmap": [
           {
            "colorbar": {
             "outlinewidth": 0,
             "ticks": ""
            },
            "colorscale": [
             [
              0,
              "#0d0887"
             ],
             [
              0.1111111111111111,
              "#46039f"
             ],
             [
              0.2222222222222222,
              "#7201a8"
             ],
             [
              0.3333333333333333,
              "#9c179e"
             ],
             [
              0.4444444444444444,
              "#bd3786"
             ],
             [
              0.5555555555555556,
              "#d8576b"
             ],
             [
              0.6666666666666666,
              "#ed7953"
             ],
             [
              0.7777777777777778,
              "#fb9f3a"
             ],
             [
              0.8888888888888888,
              "#fdca26"
             ],
             [
              1,
              "#f0f921"
             ]
            ],
            "type": "heatmap"
           }
          ],
          "heatmapgl": [
           {
            "colorbar": {
             "outlinewidth": 0,
             "ticks": ""
            },
            "colorscale": [
             [
              0,
              "#0d0887"
             ],
             [
              0.1111111111111111,
              "#46039f"
             ],
             [
              0.2222222222222222,
              "#7201a8"
             ],
             [
              0.3333333333333333,
              "#9c179e"
             ],
             [
              0.4444444444444444,
              "#bd3786"
             ],
             [
              0.5555555555555556,
              "#d8576b"
             ],
             [
              0.6666666666666666,
              "#ed7953"
             ],
             [
              0.7777777777777778,
              "#fb9f3a"
             ],
             [
              0.8888888888888888,
              "#fdca26"
             ],
             [
              1,
              "#f0f921"
             ]
            ],
            "type": "heatmapgl"
           }
          ],
          "histogram": [
           {
            "marker": {
             "pattern": {
              "fillmode": "overlay",
              "size": 10,
              "solidity": 0.2
             }
            },
            "type": "histogram"
           }
          ],
          "histogram2d": [
           {
            "colorbar": {
             "outlinewidth": 0,
             "ticks": ""
            },
            "colorscale": [
             [
              0,
              "#0d0887"
             ],
             [
              0.1111111111111111,
              "#46039f"
             ],
             [
              0.2222222222222222,
              "#7201a8"
             ],
             [
              0.3333333333333333,
              "#9c179e"
             ],
             [
              0.4444444444444444,
              "#bd3786"
             ],
             [
              0.5555555555555556,
              "#d8576b"
             ],
             [
              0.6666666666666666,
              "#ed7953"
             ],
             [
              0.7777777777777778,
              "#fb9f3a"
             ],
             [
              0.8888888888888888,
              "#fdca26"
             ],
             [
              1,
              "#f0f921"
             ]
            ],
            "type": "histogram2d"
           }
          ],
          "histogram2dcontour": [
           {
            "colorbar": {
             "outlinewidth": 0,
             "ticks": ""
            },
            "colorscale": [
             [
              0,
              "#0d0887"
             ],
             [
              0.1111111111111111,
              "#46039f"
             ],
             [
              0.2222222222222222,
              "#7201a8"
             ],
             [
              0.3333333333333333,
              "#9c179e"
             ],
             [
              0.4444444444444444,
              "#bd3786"
             ],
             [
              0.5555555555555556,
              "#d8576b"
             ],
             [
              0.6666666666666666,
              "#ed7953"
             ],
             [
              0.7777777777777778,
              "#fb9f3a"
             ],
             [
              0.8888888888888888,
              "#fdca26"
             ],
             [
              1,
              "#f0f921"
             ]
            ],
            "type": "histogram2dcontour"
           }
          ],
          "mesh3d": [
           {
            "colorbar": {
             "outlinewidth": 0,
             "ticks": ""
            },
            "type": "mesh3d"
           }
          ],
          "parcoords": [
           {
            "line": {
             "colorbar": {
              "outlinewidth": 0,
              "ticks": ""
             }
            },
            "type": "parcoords"
           }
          ],
          "pie": [
           {
            "automargin": true,
            "type": "pie"
           }
          ],
          "scatter": [
           {
            "fillpattern": {
             "fillmode": "overlay",
             "size": 10,
             "solidity": 0.2
            },
            "type": "scatter"
           }
          ],
          "scatter3d": [
           {
            "line": {
             "colorbar": {
              "outlinewidth": 0,
              "ticks": ""
             }
            },
            "marker": {
             "colorbar": {
              "outlinewidth": 0,
              "ticks": ""
             }
            },
            "type": "scatter3d"
           }
          ],
          "scattercarpet": [
           {
            "marker": {
             "colorbar": {
              "outlinewidth": 0,
              "ticks": ""
             }
            },
            "type": "scattercarpet"
           }
          ],
          "scattergeo": [
           {
            "marker": {
             "colorbar": {
              "outlinewidth": 0,
              "ticks": ""
             }
            },
            "type": "scattergeo"
           }
          ],
          "scattergl": [
           {
            "marker": {
             "colorbar": {
              "outlinewidth": 0,
              "ticks": ""
             }
            },
            "type": "scattergl"
           }
          ],
          "scattermapbox": [
           {
            "marker": {
             "colorbar": {
              "outlinewidth": 0,
              "ticks": ""
             }
            },
            "type": "scattermapbox"
           }
          ],
          "scatterpolar": [
           {
            "marker": {
             "colorbar": {
              "outlinewidth": 0,
              "ticks": ""
             }
            },
            "type": "scatterpolar"
           }
          ],
          "scatterpolargl": [
           {
            "marker": {
             "colorbar": {
              "outlinewidth": 0,
              "ticks": ""
             }
            },
            "type": "scatterpolargl"
           }
          ],
          "scatterternary": [
           {
            "marker": {
             "colorbar": {
              "outlinewidth": 0,
              "ticks": ""
             }
            },
            "type": "scatterternary"
           }
          ],
          "surface": [
           {
            "colorbar": {
             "outlinewidth": 0,
             "ticks": ""
            },
            "colorscale": [
             [
              0,
              "#0d0887"
             ],
             [
              0.1111111111111111,
              "#46039f"
             ],
             [
              0.2222222222222222,
              "#7201a8"
             ],
             [
              0.3333333333333333,
              "#9c179e"
             ],
             [
              0.4444444444444444,
              "#bd3786"
             ],
             [
              0.5555555555555556,
              "#d8576b"
             ],
             [
              0.6666666666666666,
              "#ed7953"
             ],
             [
              0.7777777777777778,
              "#fb9f3a"
             ],
             [
              0.8888888888888888,
              "#fdca26"
             ],
             [
              1,
              "#f0f921"
             ]
            ],
            "type": "surface"
           }
          ],
          "table": [
           {
            "cells": {
             "fill": {
              "color": "#EBF0F8"
             },
             "line": {
              "color": "white"
             }
            },
            "header": {
             "fill": {
              "color": "#C8D4E3"
             },
             "line": {
              "color": "white"
             }
            },
            "type": "table"
           }
          ]
         },
         "layout": {
          "annotationdefaults": {
           "arrowcolor": "#2a3f5f",
           "arrowhead": 0,
           "arrowwidth": 1
          },
          "autotypenumbers": "strict",
          "coloraxis": {
           "colorbar": {
            "outlinewidth": 0,
            "ticks": ""
           }
          },
          "colorscale": {
           "diverging": [
            [
             0,
             "#8e0152"
            ],
            [
             0.1,
             "#c51b7d"
            ],
            [
             0.2,
             "#de77ae"
            ],
            [
             0.3,
             "#f1b6da"
            ],
            [
             0.4,
             "#fde0ef"
            ],
            [
             0.5,
             "#f7f7f7"
            ],
            [
             0.6,
             "#e6f5d0"
            ],
            [
             0.7,
             "#b8e186"
            ],
            [
             0.8,
             "#7fbc41"
            ],
            [
             0.9,
             "#4d9221"
            ],
            [
             1,
             "#276419"
            ]
           ],
           "sequential": [
            [
             0,
             "#0d0887"
            ],
            [
             0.1111111111111111,
             "#46039f"
            ],
            [
             0.2222222222222222,
             "#7201a8"
            ],
            [
             0.3333333333333333,
             "#9c179e"
            ],
            [
             0.4444444444444444,
             "#bd3786"
            ],
            [
             0.5555555555555556,
             "#d8576b"
            ],
            [
             0.6666666666666666,
             "#ed7953"
            ],
            [
             0.7777777777777778,
             "#fb9f3a"
            ],
            [
             0.8888888888888888,
             "#fdca26"
            ],
            [
             1,
             "#f0f921"
            ]
           ],
           "sequentialminus": [
            [
             0,
             "#0d0887"
            ],
            [
             0.1111111111111111,
             "#46039f"
            ],
            [
             0.2222222222222222,
             "#7201a8"
            ],
            [
             0.3333333333333333,
             "#9c179e"
            ],
            [
             0.4444444444444444,
             "#bd3786"
            ],
            [
             0.5555555555555556,
             "#d8576b"
            ],
            [
             0.6666666666666666,
             "#ed7953"
            ],
            [
             0.7777777777777778,
             "#fb9f3a"
            ],
            [
             0.8888888888888888,
             "#fdca26"
            ],
            [
             1,
             "#f0f921"
            ]
           ]
          },
          "colorway": [
           "#636efa",
           "#EF553B",
           "#00cc96",
           "#ab63fa",
           "#FFA15A",
           "#19d3f3",
           "#FF6692",
           "#B6E880",
           "#FF97FF",
           "#FECB52"
          ],
          "font": {
           "color": "#2a3f5f"
          },
          "geo": {
           "bgcolor": "white",
           "lakecolor": "white",
           "landcolor": "white",
           "showlakes": true,
           "showland": true,
           "subunitcolor": "#C8D4E3"
          },
          "hoverlabel": {
           "align": "left"
          },
          "hovermode": "closest",
          "mapbox": {
           "style": "light"
          },
          "paper_bgcolor": "white",
          "plot_bgcolor": "white",
          "polar": {
           "angularaxis": {
            "gridcolor": "#EBF0F8",
            "linecolor": "#EBF0F8",
            "ticks": ""
           },
           "bgcolor": "white",
           "radialaxis": {
            "gridcolor": "#EBF0F8",
            "linecolor": "#EBF0F8",
            "ticks": ""
           }
          },
          "scene": {
           "xaxis": {
            "backgroundcolor": "white",
            "gridcolor": "#DFE8F3",
            "gridwidth": 2,
            "linecolor": "#EBF0F8",
            "showbackground": true,
            "ticks": "",
            "zerolinecolor": "#EBF0F8"
           },
           "yaxis": {
            "backgroundcolor": "white",
            "gridcolor": "#DFE8F3",
            "gridwidth": 2,
            "linecolor": "#EBF0F8",
            "showbackground": true,
            "ticks": "",
            "zerolinecolor": "#EBF0F8"
           },
           "zaxis": {
            "backgroundcolor": "white",
            "gridcolor": "#DFE8F3",
            "gridwidth": 2,
            "linecolor": "#EBF0F8",
            "showbackground": true,
            "ticks": "",
            "zerolinecolor": "#EBF0F8"
           }
          },
          "shapedefaults": {
           "line": {
            "color": "#2a3f5f"
           }
          },
          "ternary": {
           "aaxis": {
            "gridcolor": "#DFE8F3",
            "linecolor": "#A2B1C6",
            "ticks": ""
           },
           "baxis": {
            "gridcolor": "#DFE8F3",
            "linecolor": "#A2B1C6",
            "ticks": ""
           },
           "bgcolor": "white",
           "caxis": {
            "gridcolor": "#DFE8F3",
            "linecolor": "#A2B1C6",
            "ticks": ""
           }
          },
          "title": {
           "x": 0.05
          },
          "xaxis": {
           "automargin": true,
           "gridcolor": "#EBF0F8",
           "linecolor": "#EBF0F8",
           "ticks": "",
           "title": {
            "standoff": 15
           },
           "zerolinecolor": "#EBF0F8",
           "zerolinewidth": 2
          },
          "yaxis": {
           "automargin": true,
           "gridcolor": "#EBF0F8",
           "linecolor": "#EBF0F8",
           "ticks": "",
           "title": {
            "standoff": 15
           },
           "zerolinecolor": "#EBF0F8",
           "zerolinewidth": 2
          }
         }
        }
       }
      }
     },
     "metadata": {},
     "output_type": "display_data"
    }
   ],
   "source": [
    "trace_atoms = [None] * len(boron.nodes)\n",
    "trace_edges = [None] * len(edge_boron)\n",
    "\n",
    "for i, u in zip(range(len(boron.nodes)), boron.nodes):\n",
    "\n",
    "\n",
    "    trace_atoms[i] = go.Scatter3d(x=[boron_xyz[i][0]],\n",
    "                         y=[boron_xyz[i][1]],\n",
    "                         z=[boron_xyz[i][2]],\n",
    "                         mode='markers',\n",
    "                         name = f'atom {boron_an[i]}',\n",
    "                         text = f'atom {boron_an[i]}',\n",
    "                         marker=dict(symbol='circle',\n",
    "                                                 size=sizes[boron.nodes[u]['name']],\n",
    "                                                 color=colors[boron.nodes[u]['name']])\n",
    "    )\n",
    "\n",
    "for i in range(len(edge_boron)):\n",
    "    trace_edges[i]= go.Scatter3d(\n",
    "        x=edge_boron[i,:,0],\n",
    "        y=edge_boron[i,:,1],\n",
    "        z=edge_boron[i,:,2],\n",
    "        name = f'Atom {edges_b[i][0]} - Atom {edges_b[i][1]}',\n",
    "        text=f'{edges_b[i]}',\n",
    "        mode='lines',\n",
    "        line=dict(color='black', width=2),\n",
    "        hoverinfo='none')\n",
    "\n",
    "\n",
    "traces =  trace_edges + trace_atoms\n",
    "subs = go.Figure(data=traces)\n",
    "\n",
    "subs.update_layout(template =  'plotly_white')\n",
    "\n",
    "subs.update_layout(scene=dict(xaxis=dict(showgrid=False, zeroline=False, showticklabels=False),\n",
    "                             yaxis=dict(showgrid=False, zeroline=False, showticklabels=False),\n",
    "                             zaxis=dict(showgrid=False, zeroline=False, showticklabels=False),\n",
    "                             xaxis_title='', yaxis_title='', zaxis_title=''))\n",
    "\n",
    "\n",
    "subs.show()"
   ]
  },
  {
   "cell_type": "code",
   "execution_count": 32,
   "metadata": {},
   "outputs": [],
   "source": [
    "from captum.attr import Saliency, IntegratedGradients\n",
    "\n",
    "def model_forward(edge_mask, data):\n",
    "    batch = torch.zeros(data.x.shape[0], dtype=int).to(device)\n",
    "    out = model(data.x, data.edge_index, batch, edge_mask)\n",
    "    return out\n",
    "\n",
    "\n",
    "def explain(method, data, target=0):\n",
    "    input_mask = torch.ones(data.edge_index.shape[1]).requires_grad_(True).to(device)\n",
    "    if method == 'ig':\n",
    "        ig = IntegratedGradients(model_forward)\n",
    "        mask = ig.attribute(input_mask, target=target,\n",
    "                            additional_forward_args=(data,),\n",
    "                            internal_batch_size=data.edge_index.shape[1])\n",
    "    elif method == 'saliency':\n",
    "        saliency = Saliency(model_forward)\n",
    "        mask = saliency.attribute(input_mask, target=target,\n",
    "                                  additional_forward_args=(data,))\n",
    "    else:\n",
    "        raise Exception('Unknown explanation method')\n",
    "\n",
    "    edge_mask = np.abs(mask.cpu().detach().numpy())\n",
    "    if edge_mask.max() > 0:  # avoid division by zero\n",
    "        edge_mask = edge_mask / edge_mask.max()\n",
    "    return edge_mask"
   ]
  },
  {
   "cell_type": "code",
   "execution_count": 33,
   "metadata": {},
   "outputs": [],
   "source": [
    "from collections import defaultdict"
   ]
  },
  {
   "cell_type": "code",
   "execution_count": 34,
   "metadata": {},
   "outputs": [],
   "source": [
    "def aggregate_edge_directions(edge_mask, data):\n",
    "    edge_mask_dict = defaultdict(float)\n",
    "    for val, u, v in list(zip(edge_mask, *data.edge_index)):\n",
    "        u, v = u.item(), v.item()\n",
    "        edge_mask_dict[(u, v)] += val\n",
    "\n",
    "    return edge_mask_dict"
   ]
  },
  {
   "cell_type": "code",
   "execution_count": 35,
   "metadata": {},
   "outputs": [],
   "source": [
    "edge_mask = explain('ig', structure, target=0)\n",
    "edge_mask_dict = aggregate_edge_directions(edge_mask, structure)"
   ]
  },
  {
   "cell_type": "code",
   "execution_count": 36,
   "metadata": {},
   "outputs": [],
   "source": [
    "for u, v in edge_mask_dict:\n",
    "    edge_mask_dict[(u, v)] += edge_mask_dict[(v, u)] \n",
    "    edge_mask_dict[(v, u)] = edge_mask_dict[(u, v)]"
   ]
  },
  {
   "cell_type": "code",
   "execution_count": 37,
   "metadata": {},
   "outputs": [],
   "source": [
    "mask_ligand = {key: edge_mask_dict[key] for key in edges_l}"
   ]
  },
  {
   "cell_type": "code",
   "execution_count": 38,
   "metadata": {},
   "outputs": [],
   "source": [
    "weights = list(mask_ligand.values())\n",
    "weights = (weights - min(weights))/(max(weights)- min(weights))\n",
    "edges = list(mask_ligand.keys())"
   ]
  },
  {
   "cell_type": "code",
   "execution_count": 43,
   "metadata": {},
   "outputs": [
    {
     "data": {
      "application/vnd.plotly.v1+json": {
       "config": {
        "plotlyServerURL": "https://plot.ly"
       },
       "data": [
        {
         "hoverinfo": "none",
         "line": {
          "color": "black",
          "width": 2
         },
         "mode": "lines",
         "name": "Atom 0 - Atom 1",
         "text": "(0, 1)",
         "type": "scatter3d",
         "x": [
          5.801826679914365,
          5.009762946760532
         ],
         "y": [
          -1.763912647225297,
          -0.7818939910592588
         ],
         "z": [
          1.458463565374572,
          0.6965316853585919
         ]
        },
        {
         "hoverinfo": "none",
         "line": {
          "color": "black",
          "width": 2
         },
         "mode": "lines",
         "name": "Atom 0 - Atom 24",
         "text": "(0, 24)",
         "type": "scatter3d",
         "x": [
          5.801826679914365,
          5.789092945190779
         ],
         "y": [
          -1.763912647225297,
          -2.726511569659883
         ],
         "z": [
          1.458463565374572,
          0.9013435792942619
         ]
        },
        {
         "hoverinfo": "none",
         "line": {
          "color": "black",
          "width": 2
         },
         "mode": "lines",
         "name": "Atom 0 - Atom 25",
         "text": "(0, 25)",
         "type": "scatter3d",
         "x": [
          5.801826679914365,
          5.2318980840899565
         ],
         "y": [
          -1.763912647225297,
          -1.9700608696579531
         ],
         "z": [
          1.458463565374572,
          2.411659562232828
         ]
        },
        {
         "hoverinfo": "none",
         "line": {
          "color": "black",
          "width": 2
         },
         "mode": "lines",
         "name": "Atom 0 - Atom 26",
         "text": "(0, 26)",
         "type": "scatter3d",
         "x": [
          5.801826679914365,
          6.814943820092707
         ],
         "y": [
          -1.763912647225297,
          -1.4138431740693205
         ],
         "z": [
          1.458463565374572,
          1.709640767676757
         ]
        },
        {
         "hoverinfo": "none",
         "line": {
          "color": "black",
          "width": 2
         },
         "mode": "lines",
         "name": "Atom 1 - Atom 2",
         "text": "(1, 2)",
         "type": "scatter3d",
         "x": [
          5.009762946760532,
          5.649911604649113
         ],
         "y": [
          -0.7818939910592588,
          0.10271130128440505
         ],
         "z": [
          0.6965316853585919,
          -0.1270532959644984
         ]
        },
        {
         "hoverinfo": "none",
         "line": {
          "color": "black",
          "width": 2
         },
         "mode": "lines",
         "name": "Atom 1 - Atom 23",
         "text": "(1, 23)",
         "type": "scatter3d",
         "x": [
          5.009762946760532,
          3.641871734851883
         ],
         "y": [
          -0.7818939910592588,
          -0.7660596699794835
         ],
         "z": [
          0.6965316853585919,
          0.8216430060734567
         ]
        },
        {
         "hoverinfo": "none",
         "line": {
          "color": "black",
          "width": 2
         },
         "mode": "lines",
         "name": "Atom 2 - Atom 3",
         "text": "(2, 3)",
         "type": "scatter3d",
         "x": [
          5.649911604649113,
          4.866956584278588
         ],
         "y": [
          0.10271130128440505,
          1.0037426544751917
         ],
         "z": [
          -0.1270532959644984,
          -0.8204264133608359
         ]
        },
        {
         "hoverinfo": "none",
         "line": {
          "color": "black",
          "width": 2
         },
         "mode": "lines",
         "name": "Atom 2 - Atom 27",
         "text": "(2, 27)",
         "type": "scatter3d",
         "x": [
          5.649911604649113,
          6.738659298823463
         ],
         "y": [
          0.10271130128440505,
          0.1160126486421253
         ],
         "z": [
          -0.1270532959644984,
          -0.24886146714258991
         ]
        },
        {
         "hoverinfo": "none",
         "line": {
          "color": "black",
          "width": 2
         },
         "mode": "lines",
         "name": "Atom 3 - Atom 4",
         "text": "(3, 4)",
         "type": "scatter3d",
         "x": [
          4.866956584278588,
          5.509840189793227
         ],
         "y": [
          1.0037426544751917,
          1.9908949576724682
         ],
         "z": [
          -0.8204264133608359,
          -1.7321974687366681
         ]
        },
        {
         "hoverinfo": "none",
         "line": {
          "color": "black",
          "width": 2
         },
         "mode": "lines",
         "name": "Atom 3 - Atom 5",
         "text": "(3, 5)",
         "type": "scatter3d",
         "x": [
          4.866956584278588,
          3.4976607459846525
         ],
         "y": [
          1.0037426544751917,
          1.0169835195489825
         ],
         "z": [
          -0.8204264133608359,
          -0.6929896677252022
         ]
        },
        {
         "hoverinfo": "none",
         "line": {
          "color": "black",
          "width": 2
         },
         "mode": "lines",
         "name": "Atom 4 - Atom 28",
         "text": "(4, 28)",
         "type": "scatter3d",
         "x": [
          5.509840189793227,
          6.518210574326862
         ],
         "y": [
          1.9908949576724682,
          1.620121525362519
         ],
         "z": [
          -1.7321974687366681,
          -1.983751083488924
         ]
        },
        {
         "hoverinfo": "none",
         "line": {
          "color": "black",
          "width": 2
         },
         "mode": "lines",
         "name": "Atom 4 - Atom 29",
         "text": "(4, 29)",
         "type": "scatter3d",
         "x": [
          5.509840189793227,
          4.920080991219375
         ],
         "y": [
          1.9908949576724682,
          1.9837413279645575
         ],
         "z": [
          -1.7321974687366681,
          -2.690215367997505
         ]
        },
        {
         "hoverinfo": "none",
         "line": {
          "color": "black",
          "width": 2
         },
         "mode": "lines",
         "name": "Atom 4 - Atom 30",
         "text": "(4, 30)",
         "type": "scatter3d",
         "x": [
          5.509840189793227,
          5.567681243015452
         ],
         "y": [
          1.9908949576724682,
          2.999865365572981
         ],
         "z": [
          -1.7321974687366681,
          -1.2846446092862283
         ]
        },
        {
         "hoverinfo": "none",
         "line": {
          "color": "black",
          "width": 2
         },
         "mode": "lines",
         "name": "Atom 5 - Atom 6",
         "text": "(5, 6)",
         "type": "scatter3d",
         "x": [
          3.4976607459846525,
          2.8293149907276565
         ],
         "y": [
          1.0169835195489825,
          0.11444050364909392
         ],
         "z": [
          -0.6929896677252022,
          0.14876704766737023
         ]
        },
        {
         "hoverinfo": "none",
         "line": {
          "color": "black",
          "width": 2
         },
         "mode": "lines",
         "name": "Atom 5 - Atom 31",
         "text": "(5, 31)",
         "type": "scatter3d",
         "x": [
          3.4976607459846525,
          2.9056942389072735
         ],
         "y": [
          1.0169835195489825,
          1.7317510046636029
         ],
         "z": [
          -0.6929896677252022,
          -1.2455557995001998
         ]
        },
        {
         "hoverinfo": "none",
         "line": {
          "color": "black",
          "width": 2
         },
         "mode": "lines",
         "name": "Atom 6 - Atom 7",
         "text": "(6, 7)",
         "type": "scatter3d",
         "x": [
          2.8293149907276565,
          1.3905020770267618
         ],
         "y": [
          0.11444050364909392,
          0.14200756559139502
         ],
         "z": [
          0.14876704766737023,
          0.2738981218208299
         ]
        },
        {
         "hoverinfo": "none",
         "line": {
          "color": "black",
          "width": 2
         },
         "mode": "lines",
         "name": "Atom 6 - Atom 23",
         "text": "(6, 23)",
         "type": "scatter3d",
         "x": [
          2.8293149907276565,
          3.641871734851883
         ],
         "y": [
          0.11444050364909392,
          -0.7660596699794835
         ],
         "z": [
          0.14876704766737023,
          0.8216430060734567
         ]
        },
        {
         "hoverinfo": "none",
         "line": {
          "color": "black",
          "width": 2
         },
         "mode": "lines",
         "name": "Atom 7 - Atom 8",
         "text": "(7, 8)",
         "type": "scatter3d",
         "x": [
          1.3905020770267618,
          0.6244802988292468
         ],
         "y": [
          0.14200756559139502,
          1.0052213733264417
         ],
         "z": [
          0.2738981218208299,
          -0.3755563877530204
         ]
        },
        {
         "hoverinfo": "none",
         "line": {
          "color": "black",
          "width": 2
         },
         "mode": "lines",
         "name": "Atom 7 - Atom 12",
         "text": "(7, 12)",
         "type": "scatter3d",
         "x": [
          1.3905020770267618,
          0.6524810753852393
         ],
         "y": [
          0.14200756559139502,
          -0.7952830172021985
         ],
         "z": [
          0.2738981218208299,
          1.142922686480382
         ]
        },
        {
         "hoverinfo": "none",
         "line": {
          "color": "black",
          "width": 2
         },
         "mode": "lines",
         "name": "Atom 8 - Atom 9",
         "text": "(8, 9)",
         "type": "scatter3d",
         "x": [
          0.6244802988292468,
          -0.7312272965046823
         ],
         "y": [
          1.0052213733264417,
          1.1917887042184454
         ],
         "z": [
          -0.3755563877530204,
          0.29231851333686043
         ]
        },
        {
         "hoverinfo": "none",
         "line": {
          "color": "black",
          "width": 2
         },
         "mode": "lines",
         "name": "Atom 8 - Atom 32",
         "text": "(8, 32)",
         "type": "scatter3d",
         "x": [
          0.6244802988292468,
          0.8862320446103947
         ],
         "y": [
          1.0052213733264417,
          1.5279195728920076
         ],
         "z": [
          -0.3755563877530204,
          -1.2623201307261536
         ]
        },
        {
         "hoverinfo": "none",
         "line": {
          "color": "black",
          "width": 2
         },
         "mode": "lines",
         "name": "Atom 9 - Atom 10",
         "text": "(9, 10)",
         "type": "scatter3d",
         "x": [
          -0.7312272965046823,
          -0.3983361781934906
         ],
         "y": [
          1.1917887042184454,
          1.3645721947966125
         ],
         "z": [
          0.29231851333686043,
          1.7833421340728854
         ]
        },
        {
         "hoverinfo": "none",
         "line": {
          "color": "black",
          "width": 2
         },
         "mode": "lines",
         "name": "Atom 9 - Atom 14",
         "text": "(9, 14)",
         "type": "scatter3d",
         "x": [
          -0.7312272965046823,
          -1.4096971310627604
         ],
         "y": [
          1.1917887042184454,
          -0.12290331908131105
         ],
         "z": [
          0.29231851333686043,
          0.20764367317195548
         ]
        },
        {
         "hoverinfo": "none",
         "line": {
          "color": "black",
          "width": 2
         },
         "mode": "lines",
         "name": "Atom 9 - Atom 33",
         "text": "(9, 33)",
         "type": "scatter3d",
         "x": [
          -0.7312272965046823,
          -1.25548702345998
         ],
         "y": [
          1.1917887042184454,
          2.0347974216097553
         ],
         "z": [
          0.29231851333686043,
          -0.12578284620495192
         ]
        },
        {
         "hoverinfo": "none",
         "line": {
          "color": "black",
          "width": 2
         },
         "mode": "lines",
         "name": "Atom 10 - Atom 11",
         "text": "(10, 11)",
         "type": "scatter3d",
         "x": [
          -0.3983361781934906,
          0.16755411418198335
         ],
         "y": [
          1.3645721947966125,
          0.06930240699505928
         ],
         "z": [
          1.7833421340728854,
          2.3196276234825697
         ]
        },
        {
         "hoverinfo": "none",
         "line": {
          "color": "black",
          "width": 2
         },
         "mode": "lines",
         "name": "Atom 10 - Atom 34",
         "text": "(10, 34)",
         "type": "scatter3d",
         "x": [
          -0.3983361781934906,
          -1.3724697771282384
         ],
         "y": [
          1.3645721947966125,
          1.5410806729669726
         ],
         "z": [
          1.7833421340728854,
          2.2833100030171725
         ]
        },
        {
         "hoverinfo": "none",
         "line": {
          "color": "black",
          "width": 2
         },
         "mode": "lines",
         "name": "Atom 10 - Atom 35",
         "text": "(10, 35)",
         "type": "scatter3d",
         "x": [
          -0.3983361781934906,
          0.3065353530661826
         ],
         "y": [
          1.3645721947966125,
          2.207030062309052
         ],
         "z": [
          1.7833421340728854,
          1.9169707774617037
         ]
        },
        {
         "hoverinfo": "none",
         "line": {
          "color": "black",
          "width": 2
         },
         "mode": "lines",
         "name": "Atom 11 - Atom 12",
         "text": "(11, 12)",
         "type": "scatter3d",
         "x": [
          0.16755411418198335,
          0.6524810753852393
         ],
         "y": [
          0.06930240699505928,
          -0.7952830172021985
         ],
         "z": [
          2.3196276234825697,
          1.142922686480382
         ]
        },
        {
         "hoverinfo": "none",
         "line": {
          "color": "black",
          "width": 2
         },
         "mode": "lines",
         "name": "Atom 11 - Atom 36",
         "text": "(11, 36)",
         "type": "scatter3d",
         "x": [
          0.16755411418198335,
          -0.5284760930992634
         ],
         "y": [
          0.06930240699505928,
          -0.4725777038560168
         ],
         "z": [
          2.3196276234825697,
          2.964201981865949
         ]
        },
        {
         "hoverinfo": "none",
         "line": {
          "color": "black",
          "width": 2
         },
         "mode": "lines",
         "name": "Atom 11 - Atom 37",
         "text": "(11, 37)",
         "type": "scatter3d",
         "x": [
          0.16755411418198335,
          1.0873453184313613
         ],
         "y": [
          0.06930240699505928,
          0.32516820074613134
         ],
         "z": [
          2.3196276234825697,
          2.886782369010485
         ]
        },
        {
         "hoverinfo": "none",
         "line": {
          "color": "black",
          "width": 2
         },
         "mode": "lines",
         "name": "Atom 12 - Atom 13",
         "text": "(12, 13)",
         "type": "scatter3d",
         "x": [
          0.6524810753852393,
          -0.6078041879657583
         ],
         "y": [
          -0.7952830172021985,
          -1.1637087623432414
         ],
         "z": [
          1.142922686480382,
          0.3760902911709591
         ]
        },
        {
         "hoverinfo": "none",
         "line": {
          "color": "black",
          "width": 2
         },
         "mode": "lines",
         "name": "Atom 12 - Atom 38",
         "text": "(12, 38)",
         "type": "scatter3d",
         "x": [
          0.6524810753852393,
          1.1836977573457292
         ],
         "y": [
          -0.7952830172021985,
          -1.680438426738006
         ],
         "z": [
          1.142922686480382,
          1.4634228787659211
         ]
        },
        {
         "hoverinfo": "none",
         "line": {
          "color": "black",
          "width": 2
         },
         "mode": "lines",
         "name": "Atom 13 - Atom 14",
         "text": "(13, 14)",
         "type": "scatter3d",
         "x": [
          -0.6078041879657583,
          -1.4096971310627604
         ],
         "y": [
          -1.1637087623432414,
          -0.12290331908131105
         ],
         "z": [
          0.3760902911709591,
          0.20764367317195548
         ]
        },
        {
         "hoverinfo": "none",
         "line": {
          "color": "black",
          "width": 2
         },
         "mode": "lines",
         "name": "Atom 13 - Atom 39",
         "text": "(13, 39)",
         "type": "scatter3d",
         "x": [
          -0.6078041879657583,
          -0.7630343924979897
         ],
         "y": [
          -1.1637087623432414,
          -2.155103471437477
         ],
         "z": [
          0.3760902911709591,
          0.04142365826322098
         ]
        },
        {
         "hoverinfo": "none",
         "line": {
          "color": "black",
          "width": 2
         },
         "mode": "lines",
         "name": "Atom 14 - Atom 15",
         "text": "(14, 15)",
         "type": "scatter3d",
         "x": [
          -1.4096971310627604,
          -2.8265265056180064
         ],
         "y": [
          -0.12290331908131105,
          -0.1957093650199317
         ],
         "z": [
          0.20764367317195548,
          -0.03495529799614721
         ]
        },
        {
         "hoverinfo": "none",
         "line": {
          "color": "black",
          "width": 2
         },
         "mode": "lines",
         "name": "Atom 15 - Atom 16",
         "text": "(15, 16)",
         "type": "scatter3d",
         "x": [
          -2.8265265056180064,
          -3.631867720523434
         ],
         "y": [
          -0.1957093650199317,
          0.8984048414792628
         ],
         "z": [
          -0.03495529799614721,
          -0.19958962078541648
         ]
        },
        {
         "hoverinfo": "none",
         "line": {
          "color": "black",
          "width": 2
         },
         "mode": "lines",
         "name": "Atom 15 - Atom 22",
         "text": "(15, 22)",
         "type": "scatter3d",
         "x": [
          -2.8265265056180064,
          -3.4048007829336284
         ],
         "y": [
          -0.1957093650199317,
          -1.4693023098550189
         ],
         "z": [
          -0.03495529799614721,
          -0.10552521558143707
         ]
        },
        {
         "hoverinfo": "none",
         "line": {
          "color": "black",
          "width": 2
         },
         "mode": "lines",
         "name": "Atom 16 - Atom 17",
         "text": "(16, 17)",
         "type": "scatter3d",
         "x": [
          -3.631867720523434,
          -5.000846512978058
         ],
         "y": [
          0.8984048414792628,
          0.7982324628984232
         ],
         "z": [
          -0.19958962078541648,
          -0.4343174581132572
         ]
        },
        {
         "hoverinfo": "none",
         "line": {
          "color": "black",
          "width": 2
         },
         "mode": "lines",
         "name": "Atom 16 - Atom 40",
         "text": "(16, 40)",
         "type": "scatter3d",
         "x": [
          -3.631867720523434,
          -3.2187254916141463
         ],
         "y": [
          0.8984048414792628,
          1.9024538981579018
         ],
         "z": [
          -0.19958962078541648,
          -0.14876624044551578
         ]
        },
        {
         "hoverinfo": "none",
         "line": {
          "color": "black",
          "width": 2
         },
         "mode": "lines",
         "name": "Atom 17 - Atom 18",
         "text": "(17, 18)",
         "type": "scatter3d",
         "x": [
          -5.000846512978058,
          -5.843402309987156
         ],
         "y": [
          0.7982324628984232,
          1.9891409609721669
         ],
         "z": [
          -0.4343174581132572,
          -0.6077404745444769
         ]
        },
        {
         "hoverinfo": "none",
         "line": {
          "color": "black",
          "width": 2
         },
         "mode": "lines",
         "name": "Atom 17 - Atom 19",
         "text": "(17, 19)",
         "type": "scatter3d",
         "x": [
          -5.000846512978058,
          -5.541921813277841
         ],
         "y": [
          0.7982324628984232,
          -0.46805067086721086
         ],
         "z": [
          -0.4343174581132572,
          -0.49873247501962986
         ]
        },
        {
         "hoverinfo": "none",
         "line": {
          "color": "black",
          "width": 2
         },
         "mode": "lines",
         "name": "Atom 18 - Atom 41",
         "text": "(18, 41)",
         "type": "scatter3d",
         "x": [
          -5.843402309987156,
          -5.842326506901927
         ],
         "y": [
          1.9891409609721669,
          2.3837673781681064
         ],
         "z": [
          -0.6077404745444769,
          -1.6509988693644508
         ]
        },
        {
         "hoverinfo": "none",
         "line": {
          "color": "black",
          "width": 2
         },
         "mode": "lines",
         "name": "Atom 18 - Atom 42",
         "text": "(18, 42)",
         "type": "scatter3d",
         "x": [
          -5.843402309987156,
          -6.891843460989807
         ],
         "y": [
          1.9891409609721669,
          1.829685945164505
         ],
         "z": [
          -0.6077404745444769,
          -0.2711943837424974
         ]
        },
        {
         "hoverinfo": "none",
         "line": {
          "color": "black",
          "width": 2
         },
         "mode": "lines",
         "name": "Atom 18 - Atom 43",
         "text": "(18, 43)",
         "type": "scatter3d",
         "x": [
          -5.843402309987156,
          -5.428782605391289
         ],
         "y": [
          1.9891409609721669,
          2.7929699380408444
         ],
         "z": [
          -0.6077404745444769,
          0.0602036383936326
         ]
        },
        {
         "hoverinfo": "none",
         "line": {
          "color": "black",
          "width": 2
         },
         "mode": "lines",
         "name": "Atom 19 - Atom 20",
         "text": "(19, 20)",
         "type": "scatter3d",
         "x": [
          -5.541921813277841,
          -4.7544158659078635
         ],
         "y": [
          -0.46805067086721086,
          -1.6003107093439346
         ],
         "z": [
          -0.49873247501962986,
          -0.3361662003826285
         ]
        },
        {
         "hoverinfo": "none",
         "line": {
          "color": "black",
          "width": 2
         },
         "mode": "lines",
         "name": "Atom 19 - Atom 44",
         "text": "(19, 44)",
         "type": "scatter3d",
         "x": [
          -5.541921813277841,
          -6.606257932039385
         ],
         "y": [
          -0.46805067086721086,
          -0.5481873542327902
         ],
         "z": [
          -0.49873247501962986,
          -0.6812003550891212
         ]
        },
        {
         "hoverinfo": "none",
         "line": {
          "color": "black",
          "width": 2
         },
         "mode": "lines",
         "name": "Atom 20 - Atom 21",
         "text": "(20, 21)",
         "type": "scatter3d",
         "x": [
          -4.7544158659078635,
          -5.363451140227157
         ],
         "y": [
          -1.6003107093439346,
          -2.955917998310614
         ],
         "z": [
          -0.3361662003826285,
          -0.4102222066106769
         ]
        },
        {
         "hoverinfo": "none",
         "line": {
          "color": "black",
          "width": 2
         },
         "mode": "lines",
         "name": "Atom 20 - Atom 22",
         "text": "(20, 22)",
         "type": "scatter3d",
         "x": [
          -4.7544158659078635,
          -3.4048007829336284
         ],
         "y": [
          -1.6003107093439346,
          -1.4693023098550189
         ],
         "z": [
          -0.3361662003826285,
          -0.10552521558143707
         ]
        },
        {
         "hoverinfo": "none",
         "line": {
          "color": "black",
          "width": 2
         },
         "mode": "lines",
         "name": "Atom 21 - Atom 45",
         "text": "(21, 45)",
         "type": "scatter3d",
         "x": [
          -5.363451140227157,
          -4.689234207344882
         ],
         "y": [
          -2.955917998310614,
          -3.5785364252124285
         ],
         "z": [
          -0.4102222066106769,
          -1.0208242202094944
         ]
        },
        {
         "hoverinfo": "none",
         "line": {
          "color": "black",
          "width": 2
         },
         "mode": "lines",
         "name": "Atom 21 - Atom 46",
         "text": "(21, 46)",
         "type": "scatter3d",
         "x": [
          -5.363451140227157,
          -6.328173151300722
         ],
         "y": [
          -2.955917998310614,
          -2.8604163715581477
         ],
         "z": [
          -0.4102222066106769,
          -0.9649172586195917
         ]
        },
        {
         "hoverinfo": "none",
         "line": {
          "color": "black",
          "width": 2
         },
         "mode": "lines",
         "name": "Atom 21 - Atom 47",
         "text": "(21, 47)",
         "type": "scatter3d",
         "x": [
          -5.363451140227157,
          -5.558785342750331
         ],
         "y": [
          -2.955917998310614,
          -3.373236722721705
         ],
         "z": [
          -0.4102222066106769,
          0.5951839457862608
         ]
        },
        {
         "hoverinfo": "none",
         "line": {
          "color": "black",
          "width": 2
         },
         "mode": "lines",
         "name": "Atom 22 - Atom 48",
         "text": "(22, 48)",
         "type": "scatter3d",
         "x": [
          -3.4048007829336284,
          -2.755294427496696
         ],
         "y": [
          -1.4693023098550189,
          -2.3292340868348034
         ],
         "z": [
          -0.10552521558143707,
          0.028182716077509398
         ]
        },
        {
         "hoverinfo": "none",
         "line": {
          "color": "black",
          "width": 2
         },
         "mode": "lines",
         "name": "Atom 23 - Atom 49",
         "text": "(23, 49)",
         "type": "scatter3d",
         "x": [
          3.641871734851883,
          3.1609531456908817
         ],
         "y": [
          -0.7660596699794835,
          -1.492609772903464
         ],
         "z": [
          0.8216430060734567,
          1.4959314616731032
         ]
        },
        {
         "hoverinfo": "none",
         "line": {
          "color": "red",
          "width": 5.508516993766332
         },
         "mode": "lines",
         "name": "atom0-atom1",
         "opacity": 0.5508516993766331,
         "type": "scatter3d",
         "x": [
          5.801826679914365,
          5.009762946760532
         ],
         "y": [
          -1.763912647225297,
          -0.7818939910592588
         ],
         "z": [
          1.458463565374572,
          0.6965316853585919
         ]
        },
        {
         "hoverinfo": "none",
         "line": {
          "color": "red",
          "width": 0.9084077536193192
         },
         "mode": "lines",
         "name": "atom0-atom24",
         "opacity": 0.09084077536193193,
         "type": "scatter3d",
         "x": [
          5.801826679914365,
          5.789092945190779
         ],
         "y": [
          -1.763912647225297,
          -2.726511569659883
         ],
         "z": [
          1.458463565374572,
          0.9013435792942619
         ]
        },
        {
         "hoverinfo": "none",
         "line": {
          "color": "red",
          "width": 0.9084077536193192
         },
         "mode": "lines",
         "name": "atom0-atom25",
         "opacity": 0.09084077536193193,
         "type": "scatter3d",
         "x": [
          5.801826679914365,
          5.2318980840899565
         ],
         "y": [
          -1.763912647225297,
          -1.9700608696579531
         ],
         "z": [
          1.458463565374572,
          2.411659562232828
         ]
        },
        {
         "hoverinfo": "none",
         "line": {
          "color": "red",
          "width": 0.9084077536193192
         },
         "mode": "lines",
         "name": "atom0-atom26",
         "opacity": 0.09084077536193193,
         "type": "scatter3d",
         "x": [
          5.801826679914365,
          6.814943820092707
         ],
         "y": [
          -1.763912647225297,
          -1.4138431740693205
         ],
         "z": [
          1.458463565374572,
          1.709640767676757
         ]
        },
        {
         "hoverinfo": "none",
         "line": {
          "color": "red",
          "width": 0.4076897674610842
         },
         "mode": "lines",
         "name": "atom1-atom2",
         "opacity": 0.040768976746108423,
         "type": "scatter3d",
         "x": [
          5.009762946760532,
          5.649911604649113
         ],
         "y": [
          -0.7818939910592588,
          0.10271130128440505
         ],
         "z": [
          0.6965316853585919,
          -0.1270532959644984
         ]
        },
        {
         "hoverinfo": "none",
         "line": {
          "color": "red",
          "width": 0.8404514780596729
         },
         "mode": "lines",
         "name": "atom1-atom23",
         "opacity": 0.0840451478059673,
         "type": "scatter3d",
         "x": [
          5.009762946760532,
          3.641871734851883
         ],
         "y": [
          -0.7818939910592588,
          -0.7660596699794835
         ],
         "z": [
          0.6965316853585919,
          0.8216430060734567
         ]
        },
        {
         "hoverinfo": "none",
         "line": {
          "color": "red",
          "width": 0.4076897674610842
         },
         "mode": "lines",
         "name": "atom2-atom3",
         "opacity": 0.040768976746108423,
         "type": "scatter3d",
         "x": [
          5.649911604649113,
          4.866956584278588
         ],
         "y": [
          0.10271130128440505,
          1.0037426544751917
         ],
         "z": [
          -0.1270532959644984,
          -0.8204264133608359
         ]
        },
        {
         "hoverinfo": "none",
         "line": {
          "color": "red",
          "width": 5.045663435151951
         },
         "mode": "lines",
         "name": "atom2-atom27",
         "opacity": 0.5045663435151951,
         "type": "scatter3d",
         "x": [
          5.649911604649113,
          6.738659298823463
         ],
         "y": [
          0.10271130128440505,
          0.1160126486421253
         ],
         "z": [
          -0.1270532959644984,
          -0.24886146714258991
         ]
        },
        {
         "hoverinfo": "none",
         "line": {
          "color": "red",
          "width": 5.508516993766332
         },
         "mode": "lines",
         "name": "atom3-atom4",
         "opacity": 0.5508516993766331,
         "type": "scatter3d",
         "x": [
          4.866956584278588,
          5.509840189793227
         ],
         "y": [
          1.0037426544751917,
          1.9908949576724682
         ],
         "z": [
          -0.8204264133608359,
          -1.7321974687366681
         ]
        },
        {
         "hoverinfo": "none",
         "line": {
          "color": "red",
          "width": 0.8404514780596729
         },
         "mode": "lines",
         "name": "atom3-atom5",
         "opacity": 0.0840451478059673,
         "type": "scatter3d",
         "x": [
          4.866956584278588,
          3.4976607459846525
         ],
         "y": [
          1.0037426544751917,
          1.0169835195489825
         ],
         "z": [
          -0.8204264133608359,
          -0.6929896677252022
         ]
        },
        {
         "hoverinfo": "none",
         "line": {
          "color": "red",
          "width": 0.9084077536193192
         },
         "mode": "lines",
         "name": "atom4-atom28",
         "opacity": 0.09084077536193193,
         "type": "scatter3d",
         "x": [
          5.509840189793227,
          6.518210574326862
         ],
         "y": [
          1.9908949576724682,
          1.620121525362519
         ],
         "z": [
          -1.7321974687366681,
          -1.983751083488924
         ]
        },
        {
         "hoverinfo": "none",
         "line": {
          "color": "red",
          "width": 0.9084077536193192
         },
         "mode": "lines",
         "name": "atom4-atom29",
         "opacity": 0.09084077536193193,
         "type": "scatter3d",
         "x": [
          5.509840189793227,
          4.920080991219375
         ],
         "y": [
          1.9908949576724682,
          1.9837413279645575
         ],
         "z": [
          -1.7321974687366681,
          -2.690215367997505
         ]
        },
        {
         "hoverinfo": "none",
         "line": {
          "color": "red",
          "width": 0.9084077536193192
         },
         "mode": "lines",
         "name": "atom4-atom30",
         "opacity": 0.09084077536193193,
         "type": "scatter3d",
         "x": [
          5.509840189793227,
          5.567681243015452
         ],
         "y": [
          1.9908949576724682,
          2.999865365572981
         ],
         "z": [
          -1.7321974687366681,
          -1.2846446092862283
         ]
        },
        {
         "hoverinfo": "none",
         "line": {
          "color": "red",
          "width": 2.327846893624997
         },
         "mode": "lines",
         "name": "atom5-atom6",
         "opacity": 0.2327846893624997,
         "type": "scatter3d",
         "x": [
          3.4976607459846525,
          2.8293149907276565
         ],
         "y": [
          1.0169835195489825,
          0.11444050364909392
         ],
         "z": [
          -0.6929896677252022,
          0.14876704766737023
         ]
        },
        {
         "hoverinfo": "none",
         "line": {
          "color": "red",
          "width": 2.6484560997151707
         },
         "mode": "lines",
         "name": "atom5-atom31",
         "opacity": 0.26484560997151707,
         "type": "scatter3d",
         "x": [
          3.4976607459846525,
          2.9056942389072735
         ],
         "y": [
          1.0169835195489825,
          1.7317510046636029
         ],
         "z": [
          -0.6929896677252022,
          -1.2455557995001998
         ]
        },
        {
         "hoverinfo": "none",
         "line": {
          "color": "red",
          "width": 9.131007216927499
         },
         "mode": "lines",
         "name": "atom6-atom7",
         "opacity": 0.9131007216927499,
         "type": "scatter3d",
         "x": [
          2.8293149907276565,
          1.3905020770267618
         ],
         "y": [
          0.11444050364909392,
          0.14200756559139502
         ],
         "z": [
          0.14876704766737023,
          0.2738981218208299
         ]
        },
        {
         "hoverinfo": "none",
         "line": {
          "color": "red",
          "width": 2.327846893624997
         },
         "mode": "lines",
         "name": "atom6-atom23",
         "opacity": 0.2327846893624997,
         "type": "scatter3d",
         "x": [
          2.8293149907276565,
          3.641871734851883
         ],
         "y": [
          0.11444050364909392,
          -0.7660596699794835
         ],
         "z": [
          0.14876704766737023,
          0.8216430060734567
         ]
        },
        {
         "hoverinfo": "none",
         "line": {
          "color": "red",
          "width": 2.438306294870247
         },
         "mode": "lines",
         "name": "atom7-atom8",
         "opacity": 0.24383062948702472,
         "type": "scatter3d",
         "x": [
          1.3905020770267618,
          0.6244802988292468
         ],
         "y": [
          0.14200756559139502,
          1.0052213733264417
         ],
         "z": [
          0.2738981218208299,
          -0.3755563877530204
         ]
        },
        {
         "hoverinfo": "none",
         "line": {
          "color": "red",
          "width": 5.212146390675535
         },
         "mode": "lines",
         "name": "atom7-atom12",
         "opacity": 0.5212146390675535,
         "type": "scatter3d",
         "x": [
          1.3905020770267618,
          0.6524810753852393
         ],
         "y": [
          0.14200756559139502,
          -0.7952830172021985
         ],
         "z": [
          0.2738981218208299,
          1.142922686480382
         ]
        },
        {
         "hoverinfo": "none",
         "line": {
          "color": "red",
          "width": 8.129414686380686
         },
         "mode": "lines",
         "name": "atom8-atom9",
         "opacity": 0.8129414686380686,
         "type": "scatter3d",
         "x": [
          0.6244802988292468,
          -0.7312272965046823
         ],
         "y": [
          1.0052213733264417,
          1.1917887042184454
         ],
         "z": [
          -0.3755563877530204,
          0.29231851333686043
         ]
        },
        {
         "hoverinfo": "none",
         "line": {
          "color": "red",
          "width": 2.706500315048333
         },
         "mode": "lines",
         "name": "atom8-atom32",
         "opacity": 0.2706500315048333,
         "type": "scatter3d",
         "x": [
          0.6244802988292468,
          0.8862320446103947
         ],
         "y": [
          1.0052213733264417,
          1.5279195728920076
         ],
         "z": [
          -0.3755563877530204,
          -1.2623201307261536
         ]
        },
        {
         "hoverinfo": "none",
         "line": {
          "color": "red",
          "width": 6.13803737438227
         },
         "mode": "lines",
         "name": "atom9-atom10",
         "opacity": 0.613803737438227,
         "type": "scatter3d",
         "x": [
          -0.7312272965046823,
          -0.3983361781934906
         ],
         "y": [
          1.1917887042184454,
          1.3645721947966125
         ],
         "z": [
          0.29231851333686043,
          1.7833421340728854
         ]
        },
        {
         "hoverinfo": "none",
         "line": {
          "color": "red",
          "width": 10
         },
         "mode": "lines",
         "name": "atom9-atom14",
         "opacity": 1,
         "type": "scatter3d",
         "x": [
          -0.7312272965046823,
          -1.4096971310627604
         ],
         "y": [
          1.1917887042184454,
          -0.12290331908131105
         ],
         "z": [
          0.29231851333686043,
          0.20764367317195548
         ]
        },
        {
         "hoverinfo": "none",
         "line": {
          "color": "red",
          "width": 4.395431831327351
         },
         "mode": "lines",
         "name": "atom9-atom33",
         "opacity": 0.43954318313273516,
         "type": "scatter3d",
         "x": [
          -0.7312272965046823,
          -1.25548702345998
         ],
         "y": [
          1.1917887042184454,
          2.0347974216097553
         ],
         "z": [
          0.29231851333686043,
          -0.12578284620495192
         ]
        },
        {
         "hoverinfo": "none",
         "line": {
          "color": "red",
          "width": 0
         },
         "mode": "lines",
         "name": "atom10-atom11",
         "opacity": 0,
         "type": "scatter3d",
         "x": [
          -0.3983361781934906,
          0.16755411418198335
         ],
         "y": [
          1.3645721947966125,
          0.06930240699505928
         ],
         "z": [
          1.7833421340728854,
          2.3196276234825697
         ]
        },
        {
         "hoverinfo": "none",
         "line": {
          "color": "red",
          "width": 0.86445965471647
         },
         "mode": "lines",
         "name": "atom10-atom34",
         "opacity": 0.086445965471647,
         "type": "scatter3d",
         "x": [
          -0.3983361781934906,
          -1.3724697771282384
         ],
         "y": [
          1.3645721947966125,
          1.5410806729669726
         ],
         "z": [
          1.7833421340728854,
          2.2833100030171725
         ]
        },
        {
         "hoverinfo": "none",
         "line": {
          "color": "red",
          "width": 0.86445965471647
         },
         "mode": "lines",
         "name": "atom10-atom35",
         "opacity": 0.086445965471647,
         "type": "scatter3d",
         "x": [
          -0.3983361781934906,
          0.3065353530661826
         ],
         "y": [
          1.3645721947966125,
          2.207030062309052
         ],
         "z": [
          1.7833421340728854,
          1.9169707774617037
         ]
        },
        {
         "hoverinfo": "none",
         "line": {
          "color": "red",
          "width": 1.0538769675825796
         },
         "mode": "lines",
         "name": "atom11-atom12",
         "opacity": 0.10538769675825797,
         "type": "scatter3d",
         "x": [
          0.16755411418198335,
          0.6524810753852393
         ],
         "y": [
          0.06930240699505928,
          -0.7952830172021985
         ],
         "z": [
          2.3196276234825697,
          1.142922686480382
         ]
        },
        {
         "hoverinfo": "none",
         "line": {
          "color": "red",
          "width": 3.8250906000681164
         },
         "mode": "lines",
         "name": "atom11-atom36",
         "opacity": 0.3825090600068116,
         "type": "scatter3d",
         "x": [
          0.16755411418198335,
          -0.5284760930992634
         ],
         "y": [
          0.06930240699505928,
          -0.4725777038560168
         ],
         "z": [
          2.3196276234825697,
          2.964201981865949
         ]
        },
        {
         "hoverinfo": "none",
         "line": {
          "color": "red",
          "width": 3.8250906000681164
         },
         "mode": "lines",
         "name": "atom11-atom37",
         "opacity": 0.3825090600068116,
         "type": "scatter3d",
         "x": [
          0.16755411418198335,
          1.0873453184313613
         ],
         "y": [
          0.06930240699505928,
          0.32516820074613134
         ],
         "z": [
          2.3196276234825697,
          2.886782369010485
         ]
        },
        {
         "hoverinfo": "none",
         "line": {
          "color": "red",
          "width": 2.7624644928508695
         },
         "mode": "lines",
         "name": "atom12-atom13",
         "opacity": 0.27624644928508696,
         "type": "scatter3d",
         "x": [
          0.6524810753852393,
          -0.6078041879657583
         ],
         "y": [
          -0.7952830172021985,
          -1.1637087623432414
         ],
         "z": [
          1.142922686480382,
          0.3760902911709591
         ]
        },
        {
         "hoverinfo": "none",
         "line": {
          "color": "red",
          "width": 6.282338280228137
         },
         "mode": "lines",
         "name": "atom12-atom38",
         "opacity": 0.6282338280228137,
         "type": "scatter3d",
         "x": [
          0.6524810753852393,
          1.1836977573457292
         ],
         "y": [
          -0.7952830172021985,
          -1.680438426738006
         ],
         "z": [
          1.142922686480382,
          1.4634228787659211
         ]
        },
        {
         "hoverinfo": "none",
         "line": {
          "color": "red",
          "width": 0.30535820190271745
         },
         "mode": "lines",
         "name": "atom13-atom14",
         "opacity": 0.030535820190271748,
         "type": "scatter3d",
         "x": [
          -0.6078041879657583,
          -1.4096971310627604
         ],
         "y": [
          -1.1637087623432414,
          -0.12290331908131105
         ],
         "z": [
          0.3760902911709591,
          0.20764367317195548
         ]
        },
        {
         "hoverinfo": "none",
         "line": {
          "color": "red",
          "width": 1.9276682560437874
         },
         "mode": "lines",
         "name": "atom13-atom39",
         "opacity": 0.19276682560437874,
         "type": "scatter3d",
         "x": [
          -0.6078041879657583,
          -0.7630343924979897
         ],
         "y": [
          -1.1637087623432414,
          -2.155103471437477
         ],
         "z": [
          0.3760902911709591,
          0.04142365826322098
         ]
        },
        {
         "hoverinfo": "none",
         "line": {
          "color": "red",
          "width": 5.5884039374974614
         },
         "mode": "lines",
         "name": "atom14-atom15",
         "opacity": 0.5588403937497461,
         "type": "scatter3d",
         "x": [
          -1.4096971310627604,
          -2.8265265056180064
         ],
         "y": [
          -0.12290331908131105,
          -0.1957093650199317
         ],
         "z": [
          0.20764367317195548,
          -0.03495529799614721
         ]
        },
        {
         "hoverinfo": "none",
         "line": {
          "color": "red",
          "width": 0.13246730855329422
         },
         "mode": "lines",
         "name": "atom15-atom16",
         "opacity": 0.013246730855329422,
         "type": "scatter3d",
         "x": [
          -2.8265265056180064,
          -3.631867720523434
         ],
         "y": [
          -0.1957093650199317,
          0.8984048414792628
         ],
         "z": [
          -0.03495529799614721,
          -0.19958962078541648
         ]
        },
        {
         "hoverinfo": "none",
         "line": {
          "color": "red",
          "width": 0.13246730855329422
         },
         "mode": "lines",
         "name": "atom15-atom22",
         "opacity": 0.013246730855329422,
         "type": "scatter3d",
         "x": [
          -2.8265265056180064,
          -3.4048007829336284
         ],
         "y": [
          -0.1957093650199317,
          -1.4693023098550189
         ],
         "z": [
          -0.03495529799614721,
          -0.10552521558143707
         ]
        },
        {
         "hoverinfo": "none",
         "line": {
          "color": "red",
          "width": 0.3070603782894112
         },
         "mode": "lines",
         "name": "atom16-atom17",
         "opacity": 0.03070603782894112,
         "type": "scatter3d",
         "x": [
          -3.631867720523434,
          -5.000846512978058
         ],
         "y": [
          0.8984048414792628,
          0.7982324628984232
         ],
         "z": [
          -0.19958962078541648,
          -0.4343174581132572
         ]
        },
        {
         "hoverinfo": "none",
         "line": {
          "color": "red",
          "width": 4.5251928021190615
         },
         "mode": "lines",
         "name": "atom16-atom40",
         "opacity": 0.4525192802119062,
         "type": "scatter3d",
         "x": [
          -3.631867720523434,
          -3.2187254916141463
         ],
         "y": [
          0.8984048414792628,
          1.9024538981579018
         ],
         "z": [
          -0.19958962078541648,
          -0.14876624044551578
         ]
        },
        {
         "hoverinfo": "none",
         "line": {
          "color": "red",
          "width": 5.601104905464212
         },
         "mode": "lines",
         "name": "atom17-atom18",
         "opacity": 0.5601104905464213,
         "type": "scatter3d",
         "x": [
          -5.000846512978058,
          -5.843402309987156
         ],
         "y": [
          0.7982324628984232,
          1.9891409609721669
         ],
         "z": [
          -0.4343174581132572,
          -0.6077404745444769
         ]
        },
        {
         "hoverinfo": "none",
         "line": {
          "color": "red",
          "width": 0.3151018771957498
         },
         "mode": "lines",
         "name": "atom17-atom19",
         "opacity": 0.03151018771957498,
         "type": "scatter3d",
         "x": [
          -5.000846512978058,
          -5.541921813277841
         ],
         "y": [
          0.7982324628984232,
          -0.46805067086721086
         ],
         "z": [
          -0.4343174581132572,
          -0.49873247501962986
         ]
        },
        {
         "hoverinfo": "none",
         "line": {
          "color": "red",
          "width": 0.908407755519358
         },
         "mode": "lines",
         "name": "atom18-atom41",
         "opacity": 0.0908407755519358,
         "type": "scatter3d",
         "x": [
          -5.843402309987156,
          -5.842326506901927
         ],
         "y": [
          1.9891409609721669,
          2.3837673781681064
         ],
         "z": [
          -0.6077404745444769,
          -1.6509988693644508
         ]
        },
        {
         "hoverinfo": "none",
         "line": {
          "color": "red",
          "width": 0.908407755519358
         },
         "mode": "lines",
         "name": "atom18-atom42",
         "opacity": 0.0908407755519358,
         "type": "scatter3d",
         "x": [
          -5.843402309987156,
          -6.891843460989807
         ],
         "y": [
          1.9891409609721669,
          1.829685945164505
         ],
         "z": [
          -0.6077404745444769,
          -0.2711943837424974
         ]
        },
        {
         "hoverinfo": "none",
         "line": {
          "color": "red",
          "width": 0.908407755519358
         },
         "mode": "lines",
         "name": "atom18-atom43",
         "opacity": 0.0908407755519358,
         "type": "scatter3d",
         "x": [
          -5.843402309987156,
          -5.428782605391289
         ],
         "y": [
          1.9891409609721669,
          2.7929699380408444
         ],
         "z": [
          -0.6077404745444769,
          0.0602036383936326
         ]
        },
        {
         "hoverinfo": "none",
         "line": {
          "color": "red",
          "width": 0.315101884779597
         },
         "mode": "lines",
         "name": "atom19-atom20",
         "opacity": 0.0315101884779597,
         "type": "scatter3d",
         "x": [
          -5.541921813277841,
          -4.7544158659078635
         ],
         "y": [
          -0.46805067086721086,
          -1.6003107093439346
         ],
         "z": [
          -0.49873247501962986,
          -0.3361662003826285
         ]
        },
        {
         "hoverinfo": "none",
         "line": {
          "color": "red",
          "width": 5.045663435151951
         },
         "mode": "lines",
         "name": "atom19-atom44",
         "opacity": 0.5045663435151951,
         "type": "scatter3d",
         "x": [
          -5.541921813277841,
          -6.606257932039385
         ],
         "y": [
          -0.46805067086721086,
          -0.5481873542327902
         ],
         "z": [
          -0.49873247501962986,
          -0.6812003550891212
         ]
        },
        {
         "hoverinfo": "none",
         "line": {
          "color": "red",
          "width": 5.601104863920078
         },
         "mode": "lines",
         "name": "atom20-atom21",
         "opacity": 0.5601104863920078,
         "type": "scatter3d",
         "x": [
          -4.7544158659078635,
          -5.363451140227157
         ],
         "y": [
          -1.6003107093439346,
          -2.955917998310614
         ],
         "z": [
          -0.3361662003826285,
          -0.4102222066106769
         ]
        },
        {
         "hoverinfo": "none",
         "line": {
          "color": "red",
          "width": 0.3070603858732584
         },
         "mode": "lines",
         "name": "atom20-atom22",
         "opacity": 0.03070603858732584,
         "type": "scatter3d",
         "x": [
          -4.7544158659078635,
          -3.4048007829336284
         ],
         "y": [
          -1.6003107093439346,
          -1.4693023098550189
         ],
         "z": [
          -0.3361662003826285,
          -0.10552521558143707
         ]
        },
        {
         "hoverinfo": "none",
         "line": {
          "color": "red",
          "width": 0.9084077536193192
         },
         "mode": "lines",
         "name": "atom21-atom45",
         "opacity": 0.09084077536193193,
         "type": "scatter3d",
         "x": [
          -5.363451140227157,
          -4.689234207344882
         ],
         "y": [
          -2.955917998310614,
          -3.5785364252124285
         ],
         "z": [
          -0.4102222066106769,
          -1.0208242202094944
         ]
        },
        {
         "hoverinfo": "none",
         "line": {
          "color": "red",
          "width": 0.9084077536193192
         },
         "mode": "lines",
         "name": "atom21-atom46",
         "opacity": 0.09084077536193193,
         "type": "scatter3d",
         "x": [
          -5.363451140227157,
          -6.328173151300722
         ],
         "y": [
          -2.955917998310614,
          -2.8604163715581477
         ],
         "z": [
          -0.4102222066106769,
          -0.9649172586195917
         ]
        },
        {
         "hoverinfo": "none",
         "line": {
          "color": "red",
          "width": 0.9084077536193192
         },
         "mode": "lines",
         "name": "atom21-atom47",
         "opacity": 0.09084077536193193,
         "type": "scatter3d",
         "x": [
          -5.363451140227157,
          -5.558785342750331
         ],
         "y": [
          -2.955917998310614,
          -3.373236722721705
         ],
         "z": [
          -0.4102222066106769,
          0.5951839457862608
         ]
        },
        {
         "hoverinfo": "none",
         "line": {
          "color": "red",
          "width": 4.5251928021190615
         },
         "mode": "lines",
         "name": "atom22-atom48",
         "opacity": 0.4525192802119062,
         "type": "scatter3d",
         "x": [
          -3.4048007829336284,
          -2.755294427496696
         ],
         "y": [
          -1.4693023098550189,
          -2.3292340868348034
         ],
         "z": [
          -0.10552521558143707,
          0.028182716077509398
         ]
        },
        {
         "hoverinfo": "none",
         "line": {
          "color": "red",
          "width": 2.6484560997151707
         },
         "mode": "lines",
         "name": "atom23-atom49",
         "opacity": 0.26484560997151707,
         "type": "scatter3d",
         "x": [
          3.641871734851883,
          3.1609531456908817
         ],
         "y": [
          -0.7660596699794835,
          -1.492609772903464
         ],
         "z": [
          0.8216430060734567,
          1.4959314616731032
         ]
        },
        {
         "marker": {
          "color": "black",
          "size": 8.625,
          "symbol": "circle"
         },
         "mode": "markers",
         "name": "atom 0",
         "text": "atom 0",
         "type": "scatter3d",
         "x": [
          5.801826679914365
         ],
         "y": [
          -1.763912647225297
         ],
         "z": [
          1.458463565374572
         ]
        },
        {
         "marker": {
          "color": "black",
          "size": 8.625,
          "symbol": "circle"
         },
         "mode": "markers",
         "name": "atom 1",
         "text": "atom 1",
         "type": "scatter3d",
         "x": [
          5.009762946760532
         ],
         "y": [
          -0.7818939910592588
         ],
         "z": [
          0.6965316853585919
         ]
        },
        {
         "marker": {
          "color": "black",
          "size": 8.625,
          "symbol": "circle"
         },
         "mode": "markers",
         "name": "atom 2",
         "text": "atom 2",
         "type": "scatter3d",
         "x": [
          5.649911604649113
         ],
         "y": [
          0.10271130128440505
         ],
         "z": [
          -0.1270532959644984
         ]
        },
        {
         "marker": {
          "color": "black",
          "size": 8.625,
          "symbol": "circle"
         },
         "mode": "markers",
         "name": "atom 3",
         "text": "atom 3",
         "type": "scatter3d",
         "x": [
          4.866956584278588
         ],
         "y": [
          1.0037426544751917
         ],
         "z": [
          -0.8204264133608359
         ]
        },
        {
         "marker": {
          "color": "black",
          "size": 8.625,
          "symbol": "circle"
         },
         "mode": "markers",
         "name": "atom 4",
         "text": "atom 4",
         "type": "scatter3d",
         "x": [
          5.509840189793227
         ],
         "y": [
          1.9908949576724682
         ],
         "z": [
          -1.7321974687366681
         ]
        },
        {
         "marker": {
          "color": "black",
          "size": 8.625,
          "symbol": "circle"
         },
         "mode": "markers",
         "name": "atom 5",
         "text": "atom 5",
         "type": "scatter3d",
         "x": [
          3.4976607459846525
         ],
         "y": [
          1.0169835195489825
         ],
         "z": [
          -0.6929896677252022
         ]
        },
        {
         "marker": {
          "color": "black",
          "size": 8.625,
          "symbol": "circle"
         },
         "mode": "markers",
         "name": "atom 6",
         "text": "atom 6",
         "type": "scatter3d",
         "x": [
          2.8293149907276565
         ],
         "y": [
          0.11444050364909392
         ],
         "z": [
          0.14876704766737023
         ]
        },
        {
         "marker": {
          "color": "black",
          "size": 8.625,
          "symbol": "circle"
         },
         "mode": "markers",
         "name": "atom 7",
         "text": "atom 7",
         "type": "scatter3d",
         "x": [
          1.3905020770267618
         ],
         "y": [
          0.14200756559139502
         ],
         "z": [
          0.2738981218208299
         ]
        },
        {
         "marker": {
          "color": "black",
          "size": 8.625,
          "symbol": "circle"
         },
         "mode": "markers",
         "name": "atom 8",
         "text": "atom 8",
         "type": "scatter3d",
         "x": [
          0.6244802988292468
         ],
         "y": [
          1.0052213733264417
         ],
         "z": [
          -0.3755563877530204
         ]
        },
        {
         "marker": {
          "color": "black",
          "size": 8.625,
          "symbol": "circle"
         },
         "mode": "markers",
         "name": "atom 9",
         "text": "atom 9",
         "type": "scatter3d",
         "x": [
          -0.7312272965046823
         ],
         "y": [
          1.1917887042184454
         ],
         "z": [
          0.29231851333686043
         ]
        },
        {
         "marker": {
          "color": "black",
          "size": 8.625,
          "symbol": "circle"
         },
         "mode": "markers",
         "name": "atom 10",
         "text": "atom 10",
         "type": "scatter3d",
         "x": [
          -0.3983361781934906
         ],
         "y": [
          1.3645721947966125
         ],
         "z": [
          1.7833421340728854
         ]
        },
        {
         "marker": {
          "color": "black",
          "size": 8.625,
          "symbol": "circle"
         },
         "mode": "markers",
         "name": "atom 11",
         "text": "atom 11",
         "type": "scatter3d",
         "x": [
          0.16755411418198335
         ],
         "y": [
          0.06930240699505928
         ],
         "z": [
          2.3196276234825697
         ]
        },
        {
         "marker": {
          "color": "black",
          "size": 8.625,
          "symbol": "circle"
         },
         "mode": "markers",
         "name": "atom 12",
         "text": "atom 12",
         "type": "scatter3d",
         "x": [
          0.6524810753852393
         ],
         "y": [
          -0.7952830172021985
         ],
         "z": [
          1.142922686480382
         ]
        },
        {
         "marker": {
          "color": "black",
          "size": 8.625,
          "symbol": "circle"
         },
         "mode": "markers",
         "name": "atom 13",
         "text": "atom 13",
         "type": "scatter3d",
         "x": [
          -0.6078041879657583
         ],
         "y": [
          -1.1637087623432414
         ],
         "z": [
          0.3760902911709591
         ]
        },
        {
         "marker": {
          "color": "black",
          "size": 8.625,
          "symbol": "circle"
         },
         "mode": "markers",
         "name": "atom 14",
         "text": "atom 14",
         "type": "scatter3d",
         "x": [
          -1.4096971310627604
         ],
         "y": [
          -0.12290331908131105
         ],
         "z": [
          0.20764367317195548
         ]
        },
        {
         "marker": {
          "color": "black",
          "size": 8.625,
          "symbol": "circle"
         },
         "mode": "markers",
         "name": "atom 15",
         "text": "atom 15",
         "type": "scatter3d",
         "x": [
          -2.8265265056180064
         ],
         "y": [
          -0.1957093650199317
         ],
         "z": [
          -0.03495529799614721
         ]
        },
        {
         "marker": {
          "color": "black",
          "size": 8.625,
          "symbol": "circle"
         },
         "mode": "markers",
         "name": "atom 16",
         "text": "atom 16",
         "type": "scatter3d",
         "x": [
          -3.631867720523434
         ],
         "y": [
          0.8984048414792628
         ],
         "z": [
          -0.19958962078541648
         ]
        },
        {
         "marker": {
          "color": "black",
          "size": 8.625,
          "symbol": "circle"
         },
         "mode": "markers",
         "name": "atom 17",
         "text": "atom 17",
         "type": "scatter3d",
         "x": [
          -5.000846512978058
         ],
         "y": [
          0.7982324628984232
         ],
         "z": [
          -0.4343174581132572
         ]
        },
        {
         "marker": {
          "color": "black",
          "size": 8.625,
          "symbol": "circle"
         },
         "mode": "markers",
         "name": "atom 18",
         "text": "atom 18",
         "type": "scatter3d",
         "x": [
          -5.843402309987156
         ],
         "y": [
          1.9891409609721669
         ],
         "z": [
          -0.6077404745444769
         ]
        },
        {
         "marker": {
          "color": "black",
          "size": 8.625,
          "symbol": "circle"
         },
         "mode": "markers",
         "name": "atom 19",
         "text": "atom 19",
         "type": "scatter3d",
         "x": [
          -5.541921813277841
         ],
         "y": [
          -0.46805067086721086
         ],
         "z": [
          -0.49873247501962986
         ]
        },
        {
         "marker": {
          "color": "black",
          "size": 8.625,
          "symbol": "circle"
         },
         "mode": "markers",
         "name": "atom 20",
         "text": "atom 20",
         "type": "scatter3d",
         "x": [
          -4.7544158659078635
         ],
         "y": [
          -1.6003107093439346
         ],
         "z": [
          -0.3361662003826285
         ]
        },
        {
         "marker": {
          "color": "black",
          "size": 8.625,
          "symbol": "circle"
         },
         "mode": "markers",
         "name": "atom 21",
         "text": "atom 21",
         "type": "scatter3d",
         "x": [
          -5.363451140227157
         ],
         "y": [
          -2.955917998310614
         ],
         "z": [
          -0.4102222066106769
         ]
        },
        {
         "marker": {
          "color": "black",
          "size": 8.625,
          "symbol": "circle"
         },
         "mode": "markers",
         "name": "atom 22",
         "text": "atom 22",
         "type": "scatter3d",
         "x": [
          -3.4048007829336284
         ],
         "y": [
          -1.4693023098550189
         ],
         "z": [
          -0.10552521558143707
         ]
        },
        {
         "marker": {
          "color": "black",
          "size": 8.625,
          "symbol": "circle"
         },
         "mode": "markers",
         "name": "atom 23",
         "text": "atom 23",
         "type": "scatter3d",
         "x": [
          3.641871734851883
         ],
         "y": [
          -0.7660596699794835
         ],
         "z": [
          0.8216430060734567
         ]
        },
        {
         "marker": {
          "color": "lightgray",
          "size": 3.875,
          "symbol": "circle"
         },
         "mode": "markers",
         "name": "atom 24",
         "text": "atom 24",
         "type": "scatter3d",
         "x": [
          5.789092945190779
         ],
         "y": [
          -2.726511569659883
         ],
         "z": [
          0.9013435792942619
         ]
        },
        {
         "marker": {
          "color": "lightgray",
          "size": 3.875,
          "symbol": "circle"
         },
         "mode": "markers",
         "name": "atom 25",
         "text": "atom 25",
         "type": "scatter3d",
         "x": [
          5.2318980840899565
         ],
         "y": [
          -1.9700608696579531
         ],
         "z": [
          2.411659562232828
         ]
        },
        {
         "marker": {
          "color": "lightgray",
          "size": 3.875,
          "symbol": "circle"
         },
         "mode": "markers",
         "name": "atom 26",
         "text": "atom 26",
         "type": "scatter3d",
         "x": [
          6.814943820092707
         ],
         "y": [
          -1.4138431740693205
         ],
         "z": [
          1.709640767676757
         ]
        },
        {
         "marker": {
          "color": "lightgray",
          "size": 3.875,
          "symbol": "circle"
         },
         "mode": "markers",
         "name": "atom 27",
         "text": "atom 27",
         "type": "scatter3d",
         "x": [
          6.738659298823463
         ],
         "y": [
          0.1160126486421253
         ],
         "z": [
          -0.24886146714258991
         ]
        },
        {
         "marker": {
          "color": "lightgray",
          "size": 3.875,
          "symbol": "circle"
         },
         "mode": "markers",
         "name": "atom 28",
         "text": "atom 28",
         "type": "scatter3d",
         "x": [
          6.518210574326862
         ],
         "y": [
          1.620121525362519
         ],
         "z": [
          -1.983751083488924
         ]
        },
        {
         "marker": {
          "color": "lightgray",
          "size": 3.875,
          "symbol": "circle"
         },
         "mode": "markers",
         "name": "atom 29",
         "text": "atom 29",
         "type": "scatter3d",
         "x": [
          4.920080991219375
         ],
         "y": [
          1.9837413279645575
         ],
         "z": [
          -2.690215367997505
         ]
        },
        {
         "marker": {
          "color": "lightgray",
          "size": 3.875,
          "symbol": "circle"
         },
         "mode": "markers",
         "name": "atom 30",
         "text": "atom 30",
         "type": "scatter3d",
         "x": [
          5.567681243015452
         ],
         "y": [
          2.999865365572981
         ],
         "z": [
          -1.2846446092862283
         ]
        },
        {
         "marker": {
          "color": "lightgray",
          "size": 3.875,
          "symbol": "circle"
         },
         "mode": "markers",
         "name": "atom 31",
         "text": "atom 31",
         "type": "scatter3d",
         "x": [
          2.9056942389072735
         ],
         "y": [
          1.7317510046636029
         ],
         "z": [
          -1.2455557995001998
         ]
        },
        {
         "marker": {
          "color": "lightgray",
          "size": 3.875,
          "symbol": "circle"
         },
         "mode": "markers",
         "name": "atom 32",
         "text": "atom 32",
         "type": "scatter3d",
         "x": [
          0.8862320446103947
         ],
         "y": [
          1.5279195728920076
         ],
         "z": [
          -1.2623201307261536
         ]
        },
        {
         "marker": {
          "color": "lightgray",
          "size": 3.875,
          "symbol": "circle"
         },
         "mode": "markers",
         "name": "atom 33",
         "text": "atom 33",
         "type": "scatter3d",
         "x": [
          -1.25548702345998
         ],
         "y": [
          2.0347974216097553
         ],
         "z": [
          -0.12578284620495192
         ]
        },
        {
         "marker": {
          "color": "lightgray",
          "size": 3.875,
          "symbol": "circle"
         },
         "mode": "markers",
         "name": "atom 34",
         "text": "atom 34",
         "type": "scatter3d",
         "x": [
          -1.3724697771282384
         ],
         "y": [
          1.5410806729669726
         ],
         "z": [
          2.2833100030171725
         ]
        },
        {
         "marker": {
          "color": "lightgray",
          "size": 3.875,
          "symbol": "circle"
         },
         "mode": "markers",
         "name": "atom 35",
         "text": "atom 35",
         "type": "scatter3d",
         "x": [
          0.3065353530661826
         ],
         "y": [
          2.207030062309052
         ],
         "z": [
          1.9169707774617037
         ]
        },
        {
         "marker": {
          "color": "lightgray",
          "size": 3.875,
          "symbol": "circle"
         },
         "mode": "markers",
         "name": "atom 36",
         "text": "atom 36",
         "type": "scatter3d",
         "x": [
          -0.5284760930992634
         ],
         "y": [
          -0.4725777038560168
         ],
         "z": [
          2.964201981865949
         ]
        },
        {
         "marker": {
          "color": "lightgray",
          "size": 3.875,
          "symbol": "circle"
         },
         "mode": "markers",
         "name": "atom 37",
         "text": "atom 37",
         "type": "scatter3d",
         "x": [
          1.0873453184313613
         ],
         "y": [
          0.32516820074613134
         ],
         "z": [
          2.886782369010485
         ]
        },
        {
         "marker": {
          "color": "lightgray",
          "size": 3.875,
          "symbol": "circle"
         },
         "mode": "markers",
         "name": "atom 38",
         "text": "atom 38",
         "type": "scatter3d",
         "x": [
          1.1836977573457292
         ],
         "y": [
          -1.680438426738006
         ],
         "z": [
          1.4634228787659211
         ]
        },
        {
         "marker": {
          "color": "lightgray",
          "size": 3.875,
          "symbol": "circle"
         },
         "mode": "markers",
         "name": "atom 39",
         "text": "atom 39",
         "type": "scatter3d",
         "x": [
          -0.7630343924979897
         ],
         "y": [
          -2.155103471437477
         ],
         "z": [
          0.04142365826322098
         ]
        },
        {
         "marker": {
          "color": "lightgray",
          "size": 3.875,
          "symbol": "circle"
         },
         "mode": "markers",
         "name": "atom 40",
         "text": "atom 40",
         "type": "scatter3d",
         "x": [
          -3.2187254916141463
         ],
         "y": [
          1.9024538981579018
         ],
         "z": [
          -0.14876624044551578
         ]
        },
        {
         "marker": {
          "color": "lightgray",
          "size": 3.875,
          "symbol": "circle"
         },
         "mode": "markers",
         "name": "atom 41",
         "text": "atom 41",
         "type": "scatter3d",
         "x": [
          -5.842326506901927
         ],
         "y": [
          2.3837673781681064
         ],
         "z": [
          -1.6509988693644508
         ]
        },
        {
         "marker": {
          "color": "lightgray",
          "size": 3.875,
          "symbol": "circle"
         },
         "mode": "markers",
         "name": "atom 42",
         "text": "atom 42",
         "type": "scatter3d",
         "x": [
          -6.891843460989807
         ],
         "y": [
          1.829685945164505
         ],
         "z": [
          -0.2711943837424974
         ]
        },
        {
         "marker": {
          "color": "lightgray",
          "size": 3.875,
          "symbol": "circle"
         },
         "mode": "markers",
         "name": "atom 43",
         "text": "atom 43",
         "type": "scatter3d",
         "x": [
          -5.428782605391289
         ],
         "y": [
          2.7929699380408444
         ],
         "z": [
          0.0602036383936326
         ]
        },
        {
         "marker": {
          "color": "lightgray",
          "size": 3.875,
          "symbol": "circle"
         },
         "mode": "markers",
         "name": "atom 44",
         "text": "atom 44",
         "type": "scatter3d",
         "x": [
          -6.606257932039385
         ],
         "y": [
          -0.5481873542327902
         ],
         "z": [
          -0.6812003550891212
         ]
        },
        {
         "marker": {
          "color": "lightgray",
          "size": 3.875,
          "symbol": "circle"
         },
         "mode": "markers",
         "name": "atom 45",
         "text": "atom 45",
         "type": "scatter3d",
         "x": [
          -4.689234207344882
         ],
         "y": [
          -3.5785364252124285
         ],
         "z": [
          -1.0208242202094944
         ]
        },
        {
         "marker": {
          "color": "lightgray",
          "size": 3.875,
          "symbol": "circle"
         },
         "mode": "markers",
         "name": "atom 46",
         "text": "atom 46",
         "type": "scatter3d",
         "x": [
          -6.328173151300722
         ],
         "y": [
          -2.8604163715581477
         ],
         "z": [
          -0.9649172586195917
         ]
        },
        {
         "marker": {
          "color": "lightgray",
          "size": 3.875,
          "symbol": "circle"
         },
         "mode": "markers",
         "name": "atom 47",
         "text": "atom 47",
         "type": "scatter3d",
         "x": [
          -5.558785342750331
         ],
         "y": [
          -3.373236722721705
         ],
         "z": [
          0.5951839457862608
         ]
        },
        {
         "marker": {
          "color": "lightgray",
          "size": 3.875,
          "symbol": "circle"
         },
         "mode": "markers",
         "name": "atom 48",
         "text": "atom 48",
         "type": "scatter3d",
         "x": [
          -2.755294427496696
         ],
         "y": [
          -2.3292340868348034
         ],
         "z": [
          0.028182716077509398
         ]
        },
        {
         "marker": {
          "color": "lightgray",
          "size": 3.875,
          "symbol": "circle"
         },
         "mode": "markers",
         "name": "atom 49",
         "text": "atom 49",
         "type": "scatter3d",
         "x": [
          3.1609531456908817
         ],
         "y": [
          -1.492609772903464
         ],
         "z": [
          1.4959314616731032
         ]
        }
       ],
       "layout": {
        "scene": {
         "xaxis": {
          "showgrid": false,
          "showticklabels": false,
          "title": {
           "text": ""
          },
          "zeroline": false
         },
         "yaxis": {
          "showgrid": false,
          "showticklabels": false,
          "title": {
           "text": ""
          },
          "zeroline": false
         },
         "zaxis": {
          "showgrid": false,
          "showticklabels": false,
          "title": {
           "text": ""
          },
          "zeroline": false
         }
        },
        "template": {
         "data": {
          "bar": [
           {
            "error_x": {
             "color": "#2a3f5f"
            },
            "error_y": {
             "color": "#2a3f5f"
            },
            "marker": {
             "line": {
              "color": "white",
              "width": 0.5
             },
             "pattern": {
              "fillmode": "overlay",
              "size": 10,
              "solidity": 0.2
             }
            },
            "type": "bar"
           }
          ],
          "barpolar": [
           {
            "marker": {
             "line": {
              "color": "white",
              "width": 0.5
             },
             "pattern": {
              "fillmode": "overlay",
              "size": 10,
              "solidity": 0.2
             }
            },
            "type": "barpolar"
           }
          ],
          "carpet": [
           {
            "aaxis": {
             "endlinecolor": "#2a3f5f",
             "gridcolor": "#C8D4E3",
             "linecolor": "#C8D4E3",
             "minorgridcolor": "#C8D4E3",
             "startlinecolor": "#2a3f5f"
            },
            "baxis": {
             "endlinecolor": "#2a3f5f",
             "gridcolor": "#C8D4E3",
             "linecolor": "#C8D4E3",
             "minorgridcolor": "#C8D4E3",
             "startlinecolor": "#2a3f5f"
            },
            "type": "carpet"
           }
          ],
          "choropleth": [
           {
            "colorbar": {
             "outlinewidth": 0,
             "ticks": ""
            },
            "type": "choropleth"
           }
          ],
          "contour": [
           {
            "colorbar": {
             "outlinewidth": 0,
             "ticks": ""
            },
            "colorscale": [
             [
              0,
              "#0d0887"
             ],
             [
              0.1111111111111111,
              "#46039f"
             ],
             [
              0.2222222222222222,
              "#7201a8"
             ],
             [
              0.3333333333333333,
              "#9c179e"
             ],
             [
              0.4444444444444444,
              "#bd3786"
             ],
             [
              0.5555555555555556,
              "#d8576b"
             ],
             [
              0.6666666666666666,
              "#ed7953"
             ],
             [
              0.7777777777777778,
              "#fb9f3a"
             ],
             [
              0.8888888888888888,
              "#fdca26"
             ],
             [
              1,
              "#f0f921"
             ]
            ],
            "type": "contour"
           }
          ],
          "contourcarpet": [
           {
            "colorbar": {
             "outlinewidth": 0,
             "ticks": ""
            },
            "type": "contourcarpet"
           }
          ],
          "heatmap": [
           {
            "colorbar": {
             "outlinewidth": 0,
             "ticks": ""
            },
            "colorscale": [
             [
              0,
              "#0d0887"
             ],
             [
              0.1111111111111111,
              "#46039f"
             ],
             [
              0.2222222222222222,
              "#7201a8"
             ],
             [
              0.3333333333333333,
              "#9c179e"
             ],
             [
              0.4444444444444444,
              "#bd3786"
             ],
             [
              0.5555555555555556,
              "#d8576b"
             ],
             [
              0.6666666666666666,
              "#ed7953"
             ],
             [
              0.7777777777777778,
              "#fb9f3a"
             ],
             [
              0.8888888888888888,
              "#fdca26"
             ],
             [
              1,
              "#f0f921"
             ]
            ],
            "type": "heatmap"
           }
          ],
          "heatmapgl": [
           {
            "colorbar": {
             "outlinewidth": 0,
             "ticks": ""
            },
            "colorscale": [
             [
              0,
              "#0d0887"
             ],
             [
              0.1111111111111111,
              "#46039f"
             ],
             [
              0.2222222222222222,
              "#7201a8"
             ],
             [
              0.3333333333333333,
              "#9c179e"
             ],
             [
              0.4444444444444444,
              "#bd3786"
             ],
             [
              0.5555555555555556,
              "#d8576b"
             ],
             [
              0.6666666666666666,
              "#ed7953"
             ],
             [
              0.7777777777777778,
              "#fb9f3a"
             ],
             [
              0.8888888888888888,
              "#fdca26"
             ],
             [
              1,
              "#f0f921"
             ]
            ],
            "type": "heatmapgl"
           }
          ],
          "histogram": [
           {
            "marker": {
             "pattern": {
              "fillmode": "overlay",
              "size": 10,
              "solidity": 0.2
             }
            },
            "type": "histogram"
           }
          ],
          "histogram2d": [
           {
            "colorbar": {
             "outlinewidth": 0,
             "ticks": ""
            },
            "colorscale": [
             [
              0,
              "#0d0887"
             ],
             [
              0.1111111111111111,
              "#46039f"
             ],
             [
              0.2222222222222222,
              "#7201a8"
             ],
             [
              0.3333333333333333,
              "#9c179e"
             ],
             [
              0.4444444444444444,
              "#bd3786"
             ],
             [
              0.5555555555555556,
              "#d8576b"
             ],
             [
              0.6666666666666666,
              "#ed7953"
             ],
             [
              0.7777777777777778,
              "#fb9f3a"
             ],
             [
              0.8888888888888888,
              "#fdca26"
             ],
             [
              1,
              "#f0f921"
             ]
            ],
            "type": "histogram2d"
           }
          ],
          "histogram2dcontour": [
           {
            "colorbar": {
             "outlinewidth": 0,
             "ticks": ""
            },
            "colorscale": [
             [
              0,
              "#0d0887"
             ],
             [
              0.1111111111111111,
              "#46039f"
             ],
             [
              0.2222222222222222,
              "#7201a8"
             ],
             [
              0.3333333333333333,
              "#9c179e"
             ],
             [
              0.4444444444444444,
              "#bd3786"
             ],
             [
              0.5555555555555556,
              "#d8576b"
             ],
             [
              0.6666666666666666,
              "#ed7953"
             ],
             [
              0.7777777777777778,
              "#fb9f3a"
             ],
             [
              0.8888888888888888,
              "#fdca26"
             ],
             [
              1,
              "#f0f921"
             ]
            ],
            "type": "histogram2dcontour"
           }
          ],
          "mesh3d": [
           {
            "colorbar": {
             "outlinewidth": 0,
             "ticks": ""
            },
            "type": "mesh3d"
           }
          ],
          "parcoords": [
           {
            "line": {
             "colorbar": {
              "outlinewidth": 0,
              "ticks": ""
             }
            },
            "type": "parcoords"
           }
          ],
          "pie": [
           {
            "automargin": true,
            "type": "pie"
           }
          ],
          "scatter": [
           {
            "fillpattern": {
             "fillmode": "overlay",
             "size": 10,
             "solidity": 0.2
            },
            "type": "scatter"
           }
          ],
          "scatter3d": [
           {
            "line": {
             "colorbar": {
              "outlinewidth": 0,
              "ticks": ""
             }
            },
            "marker": {
             "colorbar": {
              "outlinewidth": 0,
              "ticks": ""
             }
            },
            "type": "scatter3d"
           }
          ],
          "scattercarpet": [
           {
            "marker": {
             "colorbar": {
              "outlinewidth": 0,
              "ticks": ""
             }
            },
            "type": "scattercarpet"
           }
          ],
          "scattergeo": [
           {
            "marker": {
             "colorbar": {
              "outlinewidth": 0,
              "ticks": ""
             }
            },
            "type": "scattergeo"
           }
          ],
          "scattergl": [
           {
            "marker": {
             "colorbar": {
              "outlinewidth": 0,
              "ticks": ""
             }
            },
            "type": "scattergl"
           }
          ],
          "scattermapbox": [
           {
            "marker": {
             "colorbar": {
              "outlinewidth": 0,
              "ticks": ""
             }
            },
            "type": "scattermapbox"
           }
          ],
          "scatterpolar": [
           {
            "marker": {
             "colorbar": {
              "outlinewidth": 0,
              "ticks": ""
             }
            },
            "type": "scatterpolar"
           }
          ],
          "scatterpolargl": [
           {
            "marker": {
             "colorbar": {
              "outlinewidth": 0,
              "ticks": ""
             }
            },
            "type": "scatterpolargl"
           }
          ],
          "scatterternary": [
           {
            "marker": {
             "colorbar": {
              "outlinewidth": 0,
              "ticks": ""
             }
            },
            "type": "scatterternary"
           }
          ],
          "surface": [
           {
            "colorbar": {
             "outlinewidth": 0,
             "ticks": ""
            },
            "colorscale": [
             [
              0,
              "#0d0887"
             ],
             [
              0.1111111111111111,
              "#46039f"
             ],
             [
              0.2222222222222222,
              "#7201a8"
             ],
             [
              0.3333333333333333,
              "#9c179e"
             ],
             [
              0.4444444444444444,
              "#bd3786"
             ],
             [
              0.5555555555555556,
              "#d8576b"
             ],
             [
              0.6666666666666666,
              "#ed7953"
             ],
             [
              0.7777777777777778,
              "#fb9f3a"
             ],
             [
              0.8888888888888888,
              "#fdca26"
             ],
             [
              1,
              "#f0f921"
             ]
            ],
            "type": "surface"
           }
          ],
          "table": [
           {
            "cells": {
             "fill": {
              "color": "#EBF0F8"
             },
             "line": {
              "color": "white"
             }
            },
            "header": {
             "fill": {
              "color": "#C8D4E3"
             },
             "line": {
              "color": "white"
             }
            },
            "type": "table"
           }
          ]
         },
         "layout": {
          "annotationdefaults": {
           "arrowcolor": "#2a3f5f",
           "arrowhead": 0,
           "arrowwidth": 1
          },
          "autotypenumbers": "strict",
          "coloraxis": {
           "colorbar": {
            "outlinewidth": 0,
            "ticks": ""
           }
          },
          "colorscale": {
           "diverging": [
            [
             0,
             "#8e0152"
            ],
            [
             0.1,
             "#c51b7d"
            ],
            [
             0.2,
             "#de77ae"
            ],
            [
             0.3,
             "#f1b6da"
            ],
            [
             0.4,
             "#fde0ef"
            ],
            [
             0.5,
             "#f7f7f7"
            ],
            [
             0.6,
             "#e6f5d0"
            ],
            [
             0.7,
             "#b8e186"
            ],
            [
             0.8,
             "#7fbc41"
            ],
            [
             0.9,
             "#4d9221"
            ],
            [
             1,
             "#276419"
            ]
           ],
           "sequential": [
            [
             0,
             "#0d0887"
            ],
            [
             0.1111111111111111,
             "#46039f"
            ],
            [
             0.2222222222222222,
             "#7201a8"
            ],
            [
             0.3333333333333333,
             "#9c179e"
            ],
            [
             0.4444444444444444,
             "#bd3786"
            ],
            [
             0.5555555555555556,
             "#d8576b"
            ],
            [
             0.6666666666666666,
             "#ed7953"
            ],
            [
             0.7777777777777778,
             "#fb9f3a"
            ],
            [
             0.8888888888888888,
             "#fdca26"
            ],
            [
             1,
             "#f0f921"
            ]
           ],
           "sequentialminus": [
            [
             0,
             "#0d0887"
            ],
            [
             0.1111111111111111,
             "#46039f"
            ],
            [
             0.2222222222222222,
             "#7201a8"
            ],
            [
             0.3333333333333333,
             "#9c179e"
            ],
            [
             0.4444444444444444,
             "#bd3786"
            ],
            [
             0.5555555555555556,
             "#d8576b"
            ],
            [
             0.6666666666666666,
             "#ed7953"
            ],
            [
             0.7777777777777778,
             "#fb9f3a"
            ],
            [
             0.8888888888888888,
             "#fdca26"
            ],
            [
             1,
             "#f0f921"
            ]
           ]
          },
          "colorway": [
           "#636efa",
           "#EF553B",
           "#00cc96",
           "#ab63fa",
           "#FFA15A",
           "#19d3f3",
           "#FF6692",
           "#B6E880",
           "#FF97FF",
           "#FECB52"
          ],
          "font": {
           "color": "#2a3f5f"
          },
          "geo": {
           "bgcolor": "white",
           "lakecolor": "white",
           "landcolor": "white",
           "showlakes": true,
           "showland": true,
           "subunitcolor": "#C8D4E3"
          },
          "hoverlabel": {
           "align": "left"
          },
          "hovermode": "closest",
          "mapbox": {
           "style": "light"
          },
          "paper_bgcolor": "white",
          "plot_bgcolor": "white",
          "polar": {
           "angularaxis": {
            "gridcolor": "#EBF0F8",
            "linecolor": "#EBF0F8",
            "ticks": ""
           },
           "bgcolor": "white",
           "radialaxis": {
            "gridcolor": "#EBF0F8",
            "linecolor": "#EBF0F8",
            "ticks": ""
           }
          },
          "scene": {
           "xaxis": {
            "backgroundcolor": "white",
            "gridcolor": "#DFE8F3",
            "gridwidth": 2,
            "linecolor": "#EBF0F8",
            "showbackground": true,
            "ticks": "",
            "zerolinecolor": "#EBF0F8"
           },
           "yaxis": {
            "backgroundcolor": "white",
            "gridcolor": "#DFE8F3",
            "gridwidth": 2,
            "linecolor": "#EBF0F8",
            "showbackground": true,
            "ticks": "",
            "zerolinecolor": "#EBF0F8"
           },
           "zaxis": {
            "backgroundcolor": "white",
            "gridcolor": "#DFE8F3",
            "gridwidth": 2,
            "linecolor": "#EBF0F8",
            "showbackground": true,
            "ticks": "",
            "zerolinecolor": "#EBF0F8"
           }
          },
          "shapedefaults": {
           "line": {
            "color": "#2a3f5f"
           }
          },
          "ternary": {
           "aaxis": {
            "gridcolor": "#DFE8F3",
            "linecolor": "#A2B1C6",
            "ticks": ""
           },
           "baxis": {
            "gridcolor": "#DFE8F3",
            "linecolor": "#A2B1C6",
            "ticks": ""
           },
           "bgcolor": "white",
           "caxis": {
            "gridcolor": "#DFE8F3",
            "linecolor": "#A2B1C6",
            "ticks": ""
           }
          },
          "title": {
           "x": 0.05
          },
          "xaxis": {
           "automargin": true,
           "gridcolor": "#EBF0F8",
           "linecolor": "#EBF0F8",
           "ticks": "",
           "title": {
            "standoff": 15
           },
           "zerolinecolor": "#EBF0F8",
           "zerolinewidth": 2
          },
          "yaxis": {
           "automargin": true,
           "gridcolor": "#EBF0F8",
           "linecolor": "#EBF0F8",
           "ticks": "",
           "title": {
            "standoff": 15
           },
           "zerolinecolor": "#EBF0F8",
           "zerolinewidth": 2
          }
         }
        }
       }
      }
     },
     "metadata": {},
     "output_type": "display_data"
    }
   ],
   "source": [
    "trace_atoms = [None] * len(ligand.nodes)\n",
    "trace_edges = [None] * len(edge_ligand)\n",
    "trace_imp = [None] * len(weights)\n",
    "\n",
    "for i, u in zip(range(len(edge_xyz)), ligand.nodes):\n",
    "\n",
    "\n",
    "    trace_atoms[i] = go.Scatter3d(x=[ligand_xyz[u][0]],\n",
    "                         y=[ligand_xyz[u][1]],\n",
    "                         z=[ligand_xyz[u][2]],\n",
    "                         mode='markers',\n",
    "                         name = f'atom {ligand_an[i]}',\n",
    "                         text = f'atom {ligand_an[i]}',\n",
    "                         marker=dict(symbol='circle',\n",
    "                                                 size=sizes[ligand.nodes[u]['name']],\n",
    "                                                 color=colors[ligand.nodes[u]['name']])\n",
    "    )\n",
    "\n",
    "for i in range(len(edge_ligand)):\n",
    "    trace_edges[i]= go.Scatter3d(\n",
    "        x=edge_ligand[i,:,0],\n",
    "        y=edge_ligand[i,:,1],\n",
    "        z=edge_ligand[i,:,2],\n",
    "        name = f'Atom {edges_l[i][0]} - Atom {edges_l[i][1]}',\n",
    "        text=f'{edges_l[i]}',\n",
    "        mode='lines',\n",
    "        line=dict(color='black', width=2),\n",
    "        hoverinfo='none')\n",
    "    \n",
    "\n",
    "\n",
    "for i in range(len(edge_ligand)):\n",
    "    trace_imp[i]= go.Scatter3d(\n",
    "        x=edge_ligand[i,:,0],\n",
    "        y=edge_ligand[i,:,1],\n",
    "        z=edge_ligand[i,:,2],\n",
    "        name= f'atom{edges[i][0]}-atom{edges[i][1]}',\n",
    "        mode='lines',\n",
    "        opacity=weights[i],\n",
    "        line=dict(color='red', width=weights[i]*10),\n",
    "        hoverinfo='none')\n",
    "\n",
    "\n",
    "traces =   trace_edges + trace_imp + trace_atoms\n",
    "subs = go.Figure(data=traces)\n",
    "subs.update_layout(template =  'plotly_white')\n",
    "\n",
    "subs.update_layout(scene=dict(xaxis=dict(showgrid=False, zeroline=False, showticklabels=False),\n",
    "                             yaxis=dict(showgrid=False, zeroline=False, showticklabels=False),\n",
    "                             zaxis=dict(showgrid=False, zeroline=False, showticklabels=False),\n",
    "                             xaxis_title='', yaxis_title='', zaxis_title=''))\n",
    "\n",
    "subs.show()"
   ]
  },
  {
   "cell_type": "code",
   "execution_count": 38,
   "metadata": {},
   "outputs": [],
   "source": [
    "import networkx as nx\n",
    "from torch_geometric.utils import to_networkx\n",
    "\n",
    "\n",
    "def draw_molecule(g, edge_mask=None, mol='l', draw_edge_labels=False):\n",
    "    g = g.copy().to_undirected()\n",
    "    node_labels = {}\n",
    "    for u, data in list(g.nodes(data=True)):\n",
    "        if data['mol'] == mol:\n",
    "            node_labels[u] = data['name']\n",
    "        else:\n",
    "            g.remove_node(u)\n",
    "    pos = nx.planar_layout(g)\n",
    "    pos = nx.spring_layout(g, pos=pos)\n",
    "    if edge_mask is None:\n",
    "        edge_color = 'black'\n",
    "        widths = None\n",
    "    else:\n",
    "        edge_color = [edge_mask[(u, v)] for u, v in g.edges()]\n",
    "        widths = [x * 10 for x in edge_color]\n",
    "\n",
    "    nx.draw(g, pos=pos, labels=node_labels, width=widths,\n",
    "            edge_color=edge_color, edge_cmap=plt.cm.Reds,\n",
    "            node_color='azure')\n",
    "    \n",
    "    if draw_edge_labels and edge_mask is not None:\n",
    "        edge_labels = {k: ('%.2f' % v) for k, v in edge_mask.items()}    \n",
    "        nx.draw_networkx_edge_labels(g, pos, edge_labels=edge_labels,\n",
    "                                    font_color='red')\n",
    "    plt.show()\n",
    "\n",
    "\n",
    "def to_molecule(data):\n",
    "    ATOM_MAP = {1:'H', 5: 'B', 6:'C', 7:'N', 8:'O', 9:'F', 15:'P', 16:'S', \n",
    "                17:'Cl', 33:'As', 34:'Se', 35:'Br', 53:'I'}\n",
    "    \n",
    "    ligand_atoms = rdmolops.AddHs(Chem.MolFromSmiles(data.ligand)).GetNumAtoms()\n",
    "    substrate_atoms = rdmolops.AddHs(Chem.MolFromSmiles(data.substrate)).GetNumAtoms()\n",
    "    boron_atoms = rdmolops.AddHs(Chem.MolFromSmiles(data.boron)).GetNumAtoms()\n",
    "    \n",
    "    g = to_networkx(data, node_attrs=['x'])\n",
    "\n",
    "    for u, data in g.nodes(data=True):\n",
    "        data['name'] = ATOM_MAP[data['x'][0]]\n",
    "        if u < ligand_atoms:\n",
    "            data['mol'] = 'l'\n",
    "        elif ligand_atoms <= u < substrate_atoms+ligand_atoms:\n",
    "            data['mol'] = 's'\n",
    "        else:\n",
    "            data['mol'] = 'b'\n",
    "        del data['x']\n",
    "    return g"
   ]
  },
  {
   "cell_type": "code",
   "execution_count": 39,
   "metadata": {},
   "outputs": [
    {
     "data": {
      "image/png": "[encoded data removed]",
      "text/plain": [
       "<Figure size 1000x500 with 1 Axes>"
      ]
     },
     "metadata": {},
     "output_type": "display_data"
    }
   ],
   "source": [
    "data = ligands[test_idx[4]][26]\n",
    "mol = to_molecule(data)\n",
    "plt.figure(figsize=(10, 5))\n",
    "draw_molecule(mol, mol='l')"
   ]
  },
  {
   "cell_type": "code",
   "execution_count": 40,
   "metadata": {},
   "outputs": [],
   "source": [
    "from captum.attr import Saliency, IntegratedGradients\n",
    "\n",
    "def model_forward(edge_mask, data):\n",
    "    batch = torch.zeros(data.x.shape[0], dtype=int).to(device)\n",
    "    out = model(data.x, data.edge_index, batch, edge_mask)\n",
    "    return out\n",
    "\n",
    "\n",
    "def explain(method, data, target=0):\n",
    "    input_mask = torch.ones(data.edge_index.shape[1]).requires_grad_(True).to(device)\n",
    "    if method == 'ig':\n",
    "        ig = IntegratedGradients(model_forward)\n",
    "        mask = ig.attribute(input_mask, target=target,\n",
    "                            additional_forward_args=(data,),\n",
    "                            internal_batch_size=data.edge_index.shape[1])\n",
    "    elif method == 'saliency':\n",
    "        saliency = Saliency(model_forward)\n",
    "        mask = saliency.attribute(input_mask, target=target,\n",
    "                                  additional_forward_args=(data,))\n",
    "    else:\n",
    "        raise Exception('Unknown explanation method')\n",
    "\n",
    "    edge_mask = np.abs(mask.cpu().detach().numpy())\n",
    "    if edge_mask.max() > 0:  # avoid division by zero\n",
    "        edge_mask = edge_mask / edge_mask.max()\n",
    "    return edge_mask"
   ]
  },
  {
   "cell_type": "code",
   "execution_count": 41,
   "metadata": {},
   "outputs": [],
   "source": [
    "from collections import defaultdict"
   ]
  },
  {
   "cell_type": "code",
   "execution_count": 42,
   "metadata": {},
   "outputs": [],
   "source": [
    "def aggregate_edge_directions(edge_mask, data):\n",
    "    edge_mask_dict = defaultdict(float)\n",
    "    for val, u, v in list(zip(edge_mask, *data.edge_index)):\n",
    "        u, v = u.item(), v.item()\n",
    "        if u > v:\n",
    "            u, v = v, u\n",
    "        edge_mask_dict[(u, v)] += val\n",
    "    return edge_mask_dict"
   ]
  },
  {
   "cell_type": "code",
   "execution_count": 43,
   "metadata": {},
   "outputs": [
    {
     "data": {
      "image/png": "[encoded data removed]",
      "text/plain": [
       "<Figure size 1000x500 with 1 Axes>"
      ]
     },
     "metadata": {},
     "output_type": "display_data"
    },
    {
     "data": {
      "image/png": "[encoded data removed]",
      "text/plain": [
       "<Figure size 1000x500 with 1 Axes>"
      ]
     },
     "metadata": {},
     "output_type": "display_data"
    }
   ],
   "source": [
    "data = ligands[test_idx[0]][9]\n",
    "\n",
    "mol = to_molecule(data)\n",
    "\n",
    "for title, method in [('Integrated Gradients', 'ig'), ('Saliency', 'saliency')]:\n",
    "    edge_mask = explain(method, data, target=0)\n",
    "    edge_mask_dict = aggregate_edge_directions(edge_mask, data)\n",
    "    plt.figure(figsize=(10, 5))\n",
    "    plt.title(title)\n",
    "    draw_molecule(mol, edge_mask_dict, mol = 'l')"
   ]
  }
 ],
 "metadata": {
  "kernelspec": {
   "display_name": "torchChem",
   "language": "python",
   "name": "python3"
  },
  "language_info": {
   "codemirror_mode": {
    "name": "ipython",
    "version": 3
   },
   "file_extension": ".py",
   "mimetype": "text/x-python",
   "name": "python",
   "nbconvert_exporter": "python",
   "pygments_lexer": "ipython3",
   "version": "3.8.16"
  },
  "orig_nbformat": 4,
  "vscode": {
   "interpreter": {
    "hash": "a8c1d358141dd5f5aee27d895a71e983bd947816167b1f58ab3ec2e331871cfe"
   }
  }
 },
 "nbformat": 4,
 "nbformat_minor": 2
}
